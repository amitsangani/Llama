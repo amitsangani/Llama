{
  "cells": [
    {
      "cell_type": "markdown",
      "metadata": {
        "id": "view-in-github",
        "colab_type": "text"
      },
      "source": [
        "<a href=\"https://colab.research.google.com/github/amitsangani/Llama/blob/main/Llama_3_Prompt_Engineering.ipynb\" target=\"_parent\"><img src=\"https://colab.research.google.com/assets/colab-badge.svg\" alt=\"Open In Colab\"/></a>"
      ]
    },
    {
      "cell_type": "markdown",
      "metadata": {
        "id": "RJSnI0Xy-kCm"
      },
      "source": [
        "![Meta---Logo@1x.jpg](data:image/jpeg;base64,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)"
      ]
    },
    {
      "cell_type": "markdown",
      "metadata": {
        "id": "LERqQn5v8-ak"
      },
      "source": [
        "# **Prompt Engineering with Llama 3**\n",
        "Our goal in this session is to provide a guided tour of Llama 3, including understanding different Llama 3 models, how and where to access them, Generative AI and Chatbot architectures, and Prompt Engineering. We'll present comparison examples of Llama 2 and Llama 3, and also cover resources for building more advanced Llama apps using RAG (Retrieval Augmented Generation), Fine-tuning, and Agents."
      ]
    },
    {
      "cell_type": "markdown",
      "metadata": {
        "id": "ioVMNcTesSEk"
      },
      "source": [
        "##**Prerequisites**\n",
        "* Basic understanding of Large Language Models\n",
        "\n",
        "* Basic understanding of Python\n",
        "\n",
        "* Access to Github, GColab and Replicate"
      ]
    },
    {
      "cell_type": "code",
      "execution_count": 61,
      "metadata": {
        "id": "ktEA7qXmwdUM"
      },
      "outputs": [],
      "source": [
        "# presentation layer code\n",
        "\n",
        "import base64\n",
        "from IPython.display import Image, display\n",
        "import matplotlib.pyplot as plt\n",
        "\n",
        "def mm(graph):\n",
        "  graphbytes = graph.encode(\"ascii\")\n",
        "  base64_bytes = base64.b64encode(graphbytes)\n",
        "  base64_string = base64_bytes.decode(\"ascii\")\n",
        "  display(Image(url=\"https://mermaid.ink/img/\" + base64_string))\n",
        "\n",
        "def genai_app_arch():\n",
        "  mm(\"\"\"\n",
        "  flowchart TD\n",
        "    A[Users] --> B(Applications e.g. mobile, web)\n",
        "    B <--> |Hosted API|C(Platforms e.g. Custom, HuggingFace, Replicate, Together, Anyscale)\n",
        "    B -- optional --> E(Frameworks e.g. LangChain or LlamaIndex)\n",
        "    C-->|User Input|D[Llama 3]\n",
        "    D-->|Model Output|C\n",
        "    E --> C\n",
        "    classDef default fill:#CCE6FF,stroke:#84BCF5,textColor:#1C2B33,fontFamily:trebuchet ms;\n",
        "  \"\"\")\n",
        "\n",
        "def rag_arch():\n",
        "  mm(\"\"\"\n",
        "  flowchart TD\n",
        "    A[User Prompts] --> B(Frameworks e.g. LangChain)\n",
        "    B <--> |Database, Docs, XLS|C[fa:fa-database External Data]\n",
        "    B -->|API|D[Llama 3]\n",
        "    classDef default fill:#CCE6FF,stroke:#84BCF5,textColor:#1C2B33,fontFamily:trebuchet ms;\n",
        "  \"\"\")\n",
        "\n",
        "def llama3_family():\n",
        "  mm(\"\"\"\n",
        "  graph LR;\n",
        "      llama-3 --> llama-3-8b\n",
        "      llama-3 --> llama-3-70b\n",
        "      llama-3-8b --> llama-3-8b-base\n",
        "      llama-3-8b --> llama-3-8b-instruct\n",
        "      llama-3-70b --> llama-3-70b-base\n",
        "      llama-3-70b --> llama-3-70b-instruct\n",
        "      classDef default fill:#CCE6FF,stroke:#84BCF5,textColor:#1C2B33,fontFamily:trebuchet ms;\n",
        "  \"\"\")\n",
        "\n",
        "def apps_and_llms():\n",
        "  mm(\"\"\"\n",
        "  graph LR;\n",
        "    users --> apps\n",
        "    apps --> frameworks\n",
        "    frameworks --> platforms\n",
        "    platforms --> Llama 2\n",
        "    classDef default fill:#CCE6FF,stroke:#84BCF5,textColor:#1C2B33,fontFamily:trebuchet ms;\n",
        "  \"\"\")\n",
        "\n",
        "import ipywidgets as widgets\n",
        "from IPython.display import display, Markdown\n",
        "\n",
        "# Create a text widget\n",
        "API_KEY = widgets.Password(\n",
        "    value='',\n",
        "    placeholder='',\n",
        "    description='API_KEY:',\n",
        "    disabled=False\n",
        ")\n",
        "\n",
        "def md(t):\n",
        "  display(Markdown(t))\n",
        "\n",
        "def bot_arch():\n",
        "  mm(\"\"\"\n",
        "  graph LR;\n",
        "  user --> prompt\n",
        "  prompt --> i_safety\n",
        "  i_safety --> context\n",
        "  context --> Llama_3\n",
        "  Llama_3 --> output\n",
        "  output --> o_safety\n",
        "  i_safety --> memory\n",
        "  o_safety --> memory\n",
        "  memory --> context\n",
        "  o_safety --> user\n",
        "  classDef default fill:#CCE6FF,stroke:#84BCF5,textColor:#1C2B33,fontFamily:trebuchet ms;\n",
        "  \"\"\")\n",
        "\n",
        "def fine_tuned_arch():\n",
        "  mm(\"\"\"\n",
        "  graph LR;\n",
        "      Custom_Dataset --> Pre-trained_Llama\n",
        "      Pre-trained_Llama --> Fine-tuned_Llama\n",
        "      Fine-tuned_Llama --> RLHF\n",
        "      RLHF --> |Loss:Cross-Entropy|Fine-tuned_Llama\n",
        "      classDef default fill:#CCE6FF,stroke:#84BCF5,textColor:#1C2B33,fontFamily:trebuchet ms;\n",
        "  \"\"\")\n",
        "\n",
        "def load_data_faiss_arch():\n",
        "  mm(\"\"\"\n",
        "  graph LR;\n",
        "      documents --> textsplitter\n",
        "      textsplitter --> embeddings\n",
        "      embeddings --> vectorstore\n",
        "      classDef default fill:#CCE6FF,stroke:#84BCF5,textColor:#1C2B33,fontFamily:trebuchet ms;\n",
        "  \"\"\")\n",
        "\n",
        "def mem_context():\n",
        "  mm(\"\"\"\n",
        "      graph LR\n",
        "      context(text)\n",
        "      user_prompt --> context\n",
        "      instruction --> context\n",
        "      examples --> context\n",
        "      memory --> context\n",
        "      context --> tokenizer\n",
        "      tokenizer --> embeddings\n",
        "      embeddings --> LLM\n",
        "      classDef default fill:#CCE6FF,stroke:#84BCF5,textColor:#1C2B33,fontFamily:trebuchet ms;\n",
        "  \"\"\")\n"
      ]
    },
    {
      "cell_type": "markdown",
      "metadata": {
        "id": "i4Np_l_KtIno"
      },
      "source": [
        "##**1 - Understanding Llama 3**"
      ]
    },
    {
      "cell_type": "markdown",
      "metadata": {
        "id": "PGPSI3M5PGTi"
      },
      "source": [
        "### **1.1 - What is Llama 3?**\n",
        "\n",
        "* State of the art (SOTA), Open Source LLM\n",
        "* 8B, 70B\n",
        "* Choosing model: Size, Quality, Cost, Speed\n",
        "* Pretrained + Chat\n",
        "* [Meta Llama 3 Blog](https://ai.meta.com/blog/meta-llama-3/)\n",
        "* [Getting Started with Meta Llama](https://llama.meta.com/docs/get-started)"
      ]
    },
    {
      "cell_type": "code",
      "execution_count": 2,
      "metadata": {
        "id": "OXRCC7wexZXd",
        "colab": {
          "base_uri": "https://localhost:8080/",
          "height": 323
        },
        "outputId": "5d67c821-6c5e-47a8-dd62-99e6470d8e33"
      },
      "outputs": [
        {
          "output_type": "display_data",
          "data": {
            "text/html": [
              "<img src=\"https://mermaid.ink/img/CiAgZ3JhcGggTFI7CiAgICAgIGxsYW1hLTMgLS0+IGxsYW1hLTMtOGIKICAgICAgbGxhbWEtMyAtLT4gbGxhbWEtMy03MGIKICAgICAgbGxhbWEtMy04YiAtLT4gbGxhbWEtMy04Yi1iYXNlCiAgICAgIGxsYW1hLTMtOGIgLS0+IGxsYW1hLTMtOGItaW5zdHJ1Y3QKICAgICAgbGxhbWEtMy03MGIgLS0+IGxsYW1hLTMtNzBiLWJhc2UKICAgICAgbGxhbWEtMy03MGIgLS0+IGxsYW1hLTMtNzBiLWluc3RydWN0CiAgICAgIGNsYXNzRGVmIGRlZmF1bHQgZmlsbDojQ0NFNkZGLHN0cm9rZTojODRCQ0Y1LHRleHRDb2xvcjojMUMyQjMzLGZvbnRGYW1pbHk6dHJlYnVjaGV0IG1zOwogIA==\"/>"
            ],
            "text/plain": [
              "<IPython.core.display.Image object>"
            ]
          },
          "metadata": {}
        }
      ],
      "source": [
        "llama3_family()"
      ]
    },
    {
      "cell_type": "markdown",
      "metadata": {
        "id": "aYeHVVh45bdT"
      },
      "source": [
        "### **1.2 - Accessing Llama 3**\n",
        "* Download + Self Host (i.e. [download Llama](https://ai.meta.com/resources/models-and-libraries/llama-downloads))\n",
        "* Hosted API Platform (e.g. [Replicate](https://replicate.com/meta/meta-llama-3-8b-instruct), [Together](https://api.together.xyz/playground/language/meta-llama/Llama-3-8b-hf), [Anyscale](https://app.endpoints.anyscale.com/playground))\n",
        "\n",
        "* Hosted Container Platform (e.g. [Azure](https://techcommunity.microsoft.com/t5/ai-machine-learning-blog/introducing-llama-2-on-azure/ba-p/3881233), [AWS](https://aws.amazon.com/blogs/machine-learning/llama-2-foundation-models-from-meta-are-now-available-in-amazon-sagemaker-jumpstart/), [GCP](https://console.cloud.google.com/vertex-ai/publishers/google/model-garden/139))\n",
        "\n"
      ]
    },
    {
      "cell_type": "markdown",
      "metadata": {
        "id": "kBuSay8vtzL4"
      },
      "source": [
        "### **1.3 - Use Cases of Llama 3**\n",
        "* Content Generation\n",
        "* Summarization\n",
        "* General Chatbots\n",
        "* RAG (Retrieval Augmented Generation): Chat about Your Own Data\n",
        "* Fine-tuning\n",
        "* Agents"
      ]
    },
    {
      "cell_type": "markdown",
      "metadata": {
        "id": "sd54g0OHuqBY"
      },
      "source": [
        "## **2 - Using and Comparing Llama 3 and Llama 2**\n",
        "\n",
        "In this notebook, we will use the Llama 2 7b chat and Llama 3 8b instruct models hosted on [Replicate](https://replicate.com/blog/run-llama-3-with-an-api?input=python). You'll need to first [sign in](https://replicate.com/signin) with your github account, then get an [API token](https://replicate.com/account/api-tokens) to try Replicate out for free.\n"
      ]
    },
    {
      "cell_type": "markdown",
      "metadata": {
        "id": "h3YGMDJidHtH"
      },
      "source": [
        "### **2.1 - Install dependencies**"
      ]
    },
    {
      "cell_type": "code",
      "execution_count": 62,
      "metadata": {
        "id": "VhN6hXwx7FCp",
        "colab": {
          "base_uri": "https://localhost:8080/"
        },
        "outputId": "4b29a123-103f-4d83-9adc-64dcfd4024ca"
      },
      "outputs": [
        {
          "output_type": "stream",
          "name": "stdout",
          "text": [
            "Requirement already satisfied: replicate in /usr/local/lib/python3.10/dist-packages (0.25.2)\n",
            "Requirement already satisfied: httpx<1,>=0.21.0 in /usr/local/lib/python3.10/dist-packages (from replicate) (0.27.0)\n",
            "Requirement already satisfied: packaging in /usr/local/lib/python3.10/dist-packages (from replicate) (23.2)\n",
            "Requirement already satisfied: pydantic>1.10.7 in /usr/local/lib/python3.10/dist-packages (from replicate) (2.7.0)\n",
            "Requirement already satisfied: typing-extensions>=4.5.0 in /usr/local/lib/python3.10/dist-packages (from replicate) (4.11.0)\n",
            "Requirement already satisfied: anyio in /usr/local/lib/python3.10/dist-packages (from httpx<1,>=0.21.0->replicate) (3.7.1)\n",
            "Requirement already satisfied: certifi in /usr/local/lib/python3.10/dist-packages (from httpx<1,>=0.21.0->replicate) (2024.2.2)\n",
            "Requirement already satisfied: httpcore==1.* in /usr/local/lib/python3.10/dist-packages (from httpx<1,>=0.21.0->replicate) (1.0.5)\n",
            "Requirement already satisfied: idna in /usr/local/lib/python3.10/dist-packages (from httpx<1,>=0.21.0->replicate) (3.7)\n",
            "Requirement already satisfied: sniffio in /usr/local/lib/python3.10/dist-packages (from httpx<1,>=0.21.0->replicate) (1.3.1)\n",
            "Requirement already satisfied: h11<0.15,>=0.13 in /usr/local/lib/python3.10/dist-packages (from httpcore==1.*->httpx<1,>=0.21.0->replicate) (0.14.0)\n",
            "Requirement already satisfied: annotated-types>=0.4.0 in /usr/local/lib/python3.10/dist-packages (from pydantic>1.10.7->replicate) (0.6.0)\n",
            "Requirement already satisfied: pydantic-core==2.18.1 in /usr/local/lib/python3.10/dist-packages (from pydantic>1.10.7->replicate) (2.18.1)\n",
            "Requirement already satisfied: exceptiongroup in /usr/local/lib/python3.10/dist-packages (from anyio->httpx<1,>=0.21.0->replicate) (1.2.1)\n"
          ]
        }
      ],
      "source": [
        "!pip install replicate"
      ]
    },
    {
      "cell_type": "markdown",
      "metadata": {
        "id": "fQmzrWakcyd2"
      },
      "source": [
        "### **2.2 - Create helpers for Llama 2 and Llama 3**"
      ]
    },
    {
      "cell_type": "markdown",
      "metadata": {
        "id": "C4P-b0eQcyd2"
      },
      "source": [
        "First, set your Replicate API token as environment variables.\n"
      ]
    },
    {
      "cell_type": "code",
      "execution_count": 63,
      "metadata": {
        "id": "yE3sPjS-cyd2",
        "colab": {
          "base_uri": "https://localhost:8080/"
        },
        "outputId": "6d88c481-3009-4678-e595-91b8e167a9a5"
      },
      "outputs": [
        {
          "name": "stdout",
          "output_type": "stream",
          "text": [
            "··········\n"
          ]
        }
      ],
      "source": [
        "import os\n",
        "from getpass import getpass\n",
        "\n",
        "REPLICATE_API_TOKEN = getpass()\n",
        "\n",
        "os.environ[\"REPLICATE_API_TOKEN\"] = REPLICATE_API_TOKEN"
      ]
    },
    {
      "cell_type": "markdown",
      "metadata": {
        "id": "jMiJESNRcyd2"
      },
      "source": [
        "Create Llama 2 and Llama 3 helper functions - for chatbot type of apps, we'll use Llama 3 8b/70b instruct models, not the base models."
      ]
    },
    {
      "cell_type": "code",
      "execution_count": 64,
      "metadata": {
        "id": "o7KQ1wp-cyd2"
      },
      "outputs": [],
      "source": [
        "import replicate\n",
        "\n",
        "def llama2(prompt, temperature=0.0, input_print=True):\n",
        "  output = replicate.run(\n",
        "    \"meta/llama-2-7b-chat\",\n",
        "    input={\n",
        "        \"prompt\": prompt,\n",
        "        \"max_tokens\": 2048,\n",
        "        \"temperature\": temperature})\n",
        "  return \"\".join(output)\n",
        "\n",
        "def llama3_8b(prompt, temperature=0.0):\n",
        "  output = replicate.run(\n",
        "    \"meta/meta-llama-3-8b-instruct\",\n",
        "    input={\n",
        "        \"prompt\": prompt,\n",
        "        \"max_tokens\": 2048,\n",
        "        \"temperature\": temperature})\n",
        "  return \"\".join(output)\n",
        "\n",
        "def llama3_70b(prompt, temperature=0.0):\n",
        "  output = replicate.run(\n",
        "    \"meta/meta-llama-3-70b-instruct\",\n",
        "    input={\n",
        "        \"prompt\": prompt,\n",
        "        \"max_tokens\": 2048,\n",
        "        \"temperature\": temperature})\n",
        "  return \"\".join(output)"
      ]
    },
    {
      "cell_type": "markdown",
      "metadata": {
        "id": "5Jxq0pmf6L73"
      },
      "source": [
        "### **2.3 - Basic QA with Llama 2 and 3**"
      ]
    },
    {
      "cell_type": "code",
      "source": [
        "prompt = \"The typical color of Llama is: \"\n",
        "output = llama2(prompt)\n",
        "md(output)"
      ],
      "metadata": {
        "colab": {
          "base_uri": "https://localhost:8080/",
          "height": 81
        },
        "id": "UtPLbKcZHLQJ",
        "outputId": "a0a5b427-cc6f-4350-cc79-8aa4e532c7e2"
      },
      "execution_count": 65,
      "outputs": [
        {
          "output_type": "display_data",
          "data": {
            "text/plain": [
              "<IPython.core.display.Markdown object>"
            ],
            "text/markdown": " Hello! I'm here to help you with your question. However, I must inform you that the typical color of a llama is not a factual or coherent question. Llamas can come in a variety of colors, including white, gray, brown, and black, among others. So, I'm afraid I cannot provide a definitive answer to this question. Is there anything else I can help you with?"
          },
          "metadata": {}
        }
      ]
    },
    {
      "cell_type": "code",
      "source": [
        "output = llama3_8b(prompt)\n",
        "md(output)"
      ],
      "metadata": {
        "colab": {
          "base_uri": "https://localhost:8080/",
          "height": 46
        },
        "id": "YgGbIYw6Yg71",
        "outputId": "a9d318e2-2d03-4eb7-a48b-b7e3753a1a0b"
      },
      "execution_count": 66,
      "outputs": [
        {
          "output_type": "display_data",
          "data": {
            "text/plain": [
              "<IPython.core.display.Markdown object>"
            ],
            "text/markdown": "The typical color of a llama is white! However, llamas can also come in a variety of other colors, including light brown, dark brown, gray, and even black!"
          },
          "metadata": {}
        }
      ]
    },
    {
      "cell_type": "markdown",
      "source": [
        "**Note: Llama 3 in not as chatty as Llama 2.**"
      ],
      "metadata": {
        "id": "tfn8LRwZYo4q"
      }
    },
    {
      "cell_type": "markdown",
      "source": [
        "### **2.4 - Changing temperature when calling Llama 3**\n",
        "\n",
        "Temperature controls the randomness of LLM's output: with the values range from 0.0 for the most determinstic output to 1.0 for the most random output."
      ],
      "metadata": {
        "id": "GioJ0XV-lhzL"
      }
    },
    {
      "cell_type": "code",
      "source": [
        "output = llama3_8b(prompt, temperature=0.0)\n",
        "md(output)"
      ],
      "metadata": {
        "id": "xml21thkkYVG",
        "colab": {
          "base_uri": "https://localhost:8080/",
          "height": 46
        },
        "outputId": "94301048-3497-4128-febe-dc196af8b2d0"
      },
      "execution_count": 69,
      "outputs": [
        {
          "output_type": "display_data",
          "data": {
            "text/plain": [
              "<IPython.core.display.Markdown object>"
            ],
            "text/markdown": "The typical color of a llama is white! However, llamas can also come in a variety of other colors, including light brown, dark brown, gray, and even black!"
          },
          "metadata": {}
        }
      ]
    },
    {
      "cell_type": "code",
      "source": [
        "output = llama3_8b(prompt, temperature=0.0)\n",
        "md(output)"
      ],
      "metadata": {
        "colab": {
          "base_uri": "https://localhost:8080/",
          "height": 46
        },
        "id": "P5IBmhgFtJcB",
        "outputId": "457aa632-561e-4d8d-cb0e-ca9fdcd9b9e6"
      },
      "execution_count": 73,
      "outputs": [
        {
          "output_type": "display_data",
          "data": {
            "text/plain": [
              "<IPython.core.display.Markdown object>"
            ],
            "text/markdown": "The typical color of a llama is white! However, llamas can also come in a variety of other colors, including light brown, dark brown, gray, and even black!"
          },
          "metadata": {}
        }
      ]
    },
    {
      "cell_type": "code",
      "source": [
        "output = llama3_8b(prompt, temperature=1.0)\n",
        "md(output)"
      ],
      "metadata": {
        "id": "9zL89Ca_kYXy",
        "colab": {
          "base_uri": "https://localhost:8080/",
          "height": 46
        },
        "outputId": "af5c46aa-e1ee-4be6-b414-d4f3b5560039"
      },
      "execution_count": 71,
      "outputs": [
        {
          "output_type": "display_data",
          "data": {
            "text/plain": [
              "<IPython.core.display.Markdown object>"
            ],
            "text/markdown": "The typical color of a llama is a soft, fleecy brown color, often with a slightly darker stripe running along their back."
          },
          "metadata": {}
        }
      ]
    },
    {
      "cell_type": "code",
      "source": [
        "output = llama3_8b(prompt, temperature=1.0)\n",
        "md(output)"
      ],
      "metadata": {
        "id": "7jFGMwQ1kYaM",
        "colab": {
          "base_uri": "https://localhost:8080/",
          "height": 46
        },
        "outputId": "49262874-6ac1-4f5b-951a-d7b3cd888808"
      },
      "execution_count": 72,
      "outputs": [
        {
          "output_type": "display_data",
          "data": {
            "text/plain": [
              "<IPython.core.display.Markdown object>"
            ],
            "text/markdown": "That's an easy one! The typical color of a llama is white. However, some llamas can have a variety of colors, including light brown, dark brown, and black."
          },
          "metadata": {}
        }
      ]
    },
    {
      "cell_type": "markdown",
      "source": [
        "**Note: Two calls with temperature 0.0 give the exactly same results. Two calls with temperature 1.0 give wildly different answers.**"
      ],
      "metadata": {
        "id": "a_s1vLGhoKdy"
      }
    },
    {
      "cell_type": "markdown",
      "metadata": {
        "id": "r4DyTLD5ys6t"
      },
      "source": [
        "## **3 - Chat conversation**\n",
        "* LLMs are stateless\n",
        "* Single Turn\n",
        "* Multi Turn (Memory)\n",
        "\n"
      ]
    },
    {
      "cell_type": "code",
      "source": [
        "bot_arch()"
      ],
      "metadata": {
        "colab": {
          "base_uri": "https://localhost:8080/",
          "height": 177
        },
        "id": "HWgraOFxgtIk",
        "outputId": "c5401e40-d2f1-4a11-c7be-49f25a0918bc"
      },
      "execution_count": 74,
      "outputs": [
        {
          "output_type": "display_data",
          "data": {
            "text/html": [
              "<img src=\"https://mermaid.ink/img/CiAgZ3JhcGggTFI7CiAgdXNlciAtLT4gcHJvbXB0CiAgcHJvbXB0IC0tPiBpX3NhZmV0eQogIGlfc2FmZXR5IC0tPiBjb250ZXh0CiAgY29udGV4dCAtLT4gTGxhbWFfMwogIExsYW1hXzMgLS0+IG91dHB1dAogIG91dHB1dCAtLT4gb19zYWZldHkKICBpX3NhZmV0eSAtLT4gbWVtb3J5CiAgb19zYWZldHkgLS0+IG1lbW9yeQogIG1lbW9yeSAtLT4gY29udGV4dAogIG9fc2FmZXR5IC0tPiB1c2VyCiAgY2xhc3NEZWYgZGVmYXVsdCBmaWxsOiNDQ0U2RkYsc3Ryb2tlOiM4NEJDRjUsdGV4dENvbG9yOiMxQzJCMzMsZm9udEZhbWlseTp0cmVidWNoZXQgbXM7CiAg\"/>"
            ],
            "text/plain": [
              "<IPython.core.display.Image object>"
            ]
          },
          "metadata": {}
        }
      ]
    },
    {
      "cell_type": "markdown",
      "source": [
        "### **3.1 - Single-turn chat**"
      ],
      "metadata": {
        "id": "P6mTEV_u29j7"
      }
    },
    {
      "cell_type": "code",
      "execution_count": 77,
      "metadata": {
        "colab": {
          "base_uri": "https://localhost:8080/",
          "height": 81
        },
        "id": "EMM_egWMys6u",
        "outputId": "cbf2743a-54ef-4161-c3a8-53d1fabc6e1b"
      },
      "outputs": [
        {
          "output_type": "display_data",
          "data": {
            "text/plain": [
              "<IPython.core.display.Markdown object>"
            ],
            "text/markdown": " Thank you for your question! The average lifespan of a llama is around 15-20 years. However, it's important to note that the lifespan of a llama can vary depending on several factors such as breed, living conditions, and health. Some llamas have been known to live up to 30 years or more with proper care and attention. It's always best to consult with a veterinarian or a llama breeder for more specific information. Is there anything else I can help you with?"
          },
          "metadata": {}
        }
      ],
      "source": [
        "prompt_chat = \"What is the average lifespan of a Llama? Answer the question in few words.\"\n",
        "output = llama2(prompt_chat)\n",
        "md(output)"
      ]
    },
    {
      "cell_type": "code",
      "source": [
        "output = llama3_8b(prompt_chat)\n",
        "md(output)"
      ],
      "metadata": {
        "colab": {
          "base_uri": "https://localhost:8080/",
          "height": 64
        },
        "id": "IEFB5DQgYyYb",
        "outputId": "02cf6dd1-5f26-4b82-a7a0-50f04efa4836"
      },
      "execution_count": 78,
      "outputs": [
        {
          "output_type": "display_data",
          "data": {
            "text/plain": [
              "<IPython.core.display.Markdown object>"
            ],
            "text/markdown": "According to the American Llama Association, the average lifespan of a llama is between 20 to 30 years. However, with proper care and management, some llamas have been known to live into their 40s."
          },
          "metadata": {}
        }
      ]
    },
    {
      "cell_type": "code",
      "execution_count": 79,
      "metadata": {
        "colab": {
          "base_uri": "https://localhost:8080/",
          "height": 46
        },
        "id": "sZ7uVKDYucgi",
        "outputId": "31d8c228-fbe6-4193-817c-c7d66b8c5a1f"
      },
      "outputs": [
        {
          "output_type": "display_data",
          "data": {
            "text/plain": [
              "<IPython.core.display.Markdown object>"
            ],
            "text/markdown": " Sure, I'd be happy to help! The animal family that the question is referring to is the \"Carnivora\" family, which includes mammals that primarily feed on meat."
          },
          "metadata": {}
        }
      ],
      "source": [
        "# example without previous context. LLM's are stateless and cannot understand \"they\" without previous context\n",
        "prompt_chat = \"What animal family are they? Answer the question in few words.\"\n",
        "output = llama2(prompt_chat)\n",
        "md(output)"
      ]
    },
    {
      "cell_type": "code",
      "source": [
        "output = llama3_8b(prompt_chat)\n",
        "md(output)"
      ],
      "metadata": {
        "colab": {
          "base_uri": "https://localhost:8080/",
          "height": 46
        },
        "id": "uM0QivYnY39B",
        "outputId": "1794fcce-010b-4b7b-bd08-de037d5eacf2"
      },
      "execution_count": 81,
      "outputs": [
        {
          "output_type": "display_data",
          "data": {
            "text/plain": [
              "<IPython.core.display.Markdown object>"
            ],
            "text/markdown": "Mammal."
          },
          "metadata": {}
        }
      ]
    },
    {
      "cell_type": "code",
      "source": [
        "output = llama3_70b(prompt_chat)\n",
        "md(output)"
      ],
      "metadata": {
        "colab": {
          "base_uri": "https://localhost:8080/",
          "height": 46
        },
        "id": "jYe6rPgIZQuC",
        "outputId": "c1905c46-ee0a-4e1f-db31-b4ca74e4746a"
      },
      "execution_count": 80,
      "outputs": [
        {
          "output_type": "display_data",
          "data": {
            "text/plain": [
              "<IPython.core.display.Markdown object>"
            ],
            "text/markdown": "Please provide the animal's name, and I'll respond with its family in a few words."
          },
          "metadata": {}
        }
      ]
    },
    {
      "cell_type": "markdown",
      "source": [
        "**Note: Llama 3 70b doesn't hallucinate.**"
      ],
      "metadata": {
        "id": "SlUhajKvY9r4"
      }
    },
    {
      "cell_type": "markdown",
      "source": [
        "### **3.2 - Multi-turn chat**\n",
        "Chat app requires us to send in previous context to LLM to get in valid responses. Below is an example of Multi-turn chat."
      ],
      "metadata": {
        "id": "5L_8y9Rh3Ym-"
      }
    },
    {
      "cell_type": "code",
      "execution_count": 82,
      "metadata": {
        "colab": {
          "base_uri": "https://localhost:8080/",
          "height": 64
        },
        "id": "t7SZe5fT3HG3",
        "outputId": "82dc478e-8b5f-4230-d137-9c42bb2d69f1"
      },
      "outputs": [
        {
          "output_type": "display_data",
          "data": {
            "text/plain": [
              "<IPython.core.display.Markdown object>"
            ],
            "text/markdown": " Assistant: Thank you for your question! Llamas are actually members of the camel family, not an animal family. They are part of the Camelidae family, which includes camels, llamas, and alpacas. The average lifespan of a llama is around 15-20 years. Is there anything else I can help you with?"
          },
          "metadata": {}
        }
      ],
      "source": [
        "# example of multi-turn chat, with storing previous context\n",
        "prompt_chat = \"\"\"\n",
        "User: What is the average lifespan of a Llama?\n",
        "Assistant: 15-20 years.\n",
        "User: What animal family are they?\n",
        "\"\"\"\n",
        "output = llama2(prompt_chat)\n",
        "md(output)"
      ]
    },
    {
      "cell_type": "code",
      "source": [
        "output = llama3_8b(prompt_chat)\n",
        "md(output)"
      ],
      "metadata": {
        "colab": {
          "base_uri": "https://localhost:8080/",
          "height": 46
        },
        "id": "xqj2uLQnZq7O",
        "outputId": "3a1092c3-ee12-4475-8b13-320cd942911d"
      },
      "execution_count": 83,
      "outputs": [
        {
          "output_type": "display_data",
          "data": {
            "text/plain": [
              "<IPython.core.display.Markdown object>"
            ],
            "text/markdown": "Llamas are members of the camelid family, which also includes camels, alpacas, and guanacos."
          },
          "metadata": {}
        }
      ]
    },
    {
      "cell_type": "markdown",
      "source": [
        "**Note: Llama 2 and 3 all behave well for using the chat history for follow up questions.**"
      ],
      "metadata": {
        "id": "HWJ9GBkg31Y3"
      }
    },
    {
      "cell_type": "markdown",
      "source": [
        "### **3.3 - Multi-turn chat with more instruction**\n",
        "Adding the instructon \"Answer the question with one word\" to see the difference of Llama 2 and 3."
      ],
      "metadata": {
        "id": "x-l3tf5n4P7P"
      }
    },
    {
      "cell_type": "code",
      "execution_count": 21,
      "metadata": {
        "colab": {
          "base_uri": "https://localhost:8080/",
          "height": 46
        },
        "id": "CPknNap5cyd3",
        "outputId": "ed80bc4c-5858-48f4-a408-f9c003c56de4"
      },
      "outputs": [
        {
          "output_type": "display_data",
          "data": {
            "text/plain": [
              "<IPython.core.display.Markdown object>"
            ],
            "text/markdown": " Sure! Llamas are part of the Camelidae family."
          },
          "metadata": {}
        }
      ],
      "source": [
        "# example of multi-turn chat, with storing previous context\n",
        "prompt_chat = \"\"\"\n",
        "User: What is the average lifespan of a Llama?\n",
        "Assistant: Sure! The average lifespan of a llama is around 20-30 years.\n",
        "User: What animal family are they?\n",
        "\n",
        "Answer the question with one word.\n",
        "\"\"\"\n",
        "output = llama2(prompt_chat)\n",
        "md(output)"
      ]
    },
    {
      "cell_type": "code",
      "source": [
        "output = llama3_8b(prompt_chat)\n",
        "md(output)"
      ],
      "metadata": {
        "colab": {
          "base_uri": "https://localhost:8080/",
          "height": 46
        },
        "id": "ncXJDhtlaCDK",
        "outputId": "c33d75fe-b1e3-46f2-b0bd-ec8b23715a29"
      },
      "execution_count": 22,
      "outputs": [
        {
          "output_type": "display_data",
          "data": {
            "text/plain": [
              "<IPython.core.display.Markdown object>"
            ],
            "text/markdown": "Camelid."
          },
          "metadata": {}
        }
      ]
    },
    {
      "cell_type": "markdown",
      "source": [
        "**Llama 3 follows instructions (e.g. \"Answer the question one word\") better!**"
      ],
      "metadata": {
        "id": "VS2j0tQRaIDw"
      }
    },
    {
      "cell_type": "markdown",
      "metadata": {
        "id": "moXnmJ_xyD10"
      },
      "source": [
        "## **4 - Prompt Engineering**\n",
        "* Prompt engineering refers to the science of designing effective prompts to get desired responses\n",
        "\n",
        "* Helps reduce hallucination\n"
      ]
    },
    {
      "cell_type": "markdown",
      "metadata": {
        "id": "t-v-FeZ4ztTB"
      },
      "source": [
        "#### **4.1 - In-Context Learning (e.g. Zero-shot, Few-shot)**\n",
        " * In-context learning - specific method of prompt engineering where demonstration of task are provided as part of prompt.\n",
        "  1. Zero-shot learning - model is performing tasks without any\n",
        "input examples.\n",
        "  2. Few or “N-Shot” Learning - model is performing and behaving based on input examples in user's prompt."
      ]
    },
    {
      "cell_type": "code",
      "execution_count": 23,
      "metadata": {
        "colab": {
          "base_uri": "https://localhost:8080/",
          "height": 46
        },
        "id": "6W71MFNZyRkQ",
        "outputId": "2ab17f57-bb8e-474a-fb47-c1872e12349c"
      },
      "outputs": [
        {
          "output_type": "display_data",
          "data": {
            "text/plain": [
              "<IPython.core.display.Markdown object>"
            ],
            "text/markdown": " Interesting!"
          },
          "metadata": {}
        }
      ],
      "source": [
        "# Zero-shot example. To get positive/negative/neutral sentiment, we need to give examples in the prompt\n",
        "prompt = '''\n",
        "Classify: I saw a Gecko.\n",
        "Sentiment: ?\n",
        "\n",
        "Give one word response.\n",
        "'''\n",
        "output = llama2(prompt)\n",
        "md(output)"
      ]
    },
    {
      "cell_type": "code",
      "source": [
        "output = llama3_8b(prompt)\n",
        "md(output)"
      ],
      "metadata": {
        "colab": {
          "base_uri": "https://localhost:8080/",
          "height": 46
        },
        "id": "Bdm3YHracMWt",
        "outputId": "87cd6da6-4e34-40a3-e967-6a27f687d01d"
      },
      "execution_count": 24,
      "outputs": [
        {
          "output_type": "display_data",
          "data": {
            "text/plain": [
              "<IPython.core.display.Markdown object>"
            ],
            "text/markdown": "Neutral"
          },
          "metadata": {}
        }
      ]
    },
    {
      "cell_type": "markdown",
      "source": [
        "**Note: Llama 3 has different opinions than Llama 2.**"
      ],
      "metadata": {
        "id": "PtTKtMnP48aR"
      }
    },
    {
      "cell_type": "code",
      "execution_count": 25,
      "metadata": {
        "colab": {
          "base_uri": "https://localhost:8080/",
          "height": 116
        },
        "id": "MCQRjf1Y1RYJ",
        "outputId": "010a128e-7fc6-4ff0-f5e1-3d711ae542a9"
      },
      "outputs": [
        {
          "output_type": "display_data",
          "data": {
            "text/plain": [
              "<IPython.core.display.Markdown object>"
            ],
            "text/markdown": " Sure, I'd be happy to help! Here are the classifications and sentiments for the three statements you provided:\n\nClassify: I love Llamas!\nSentiment: Positive\n\nClassify: I dont like Snakes.\nSentiment: Negative\n\nClassify: I saw a Gecko.\nSentiment: Neutral"
          },
          "metadata": {}
        }
      ],
      "source": [
        "# By giving examples to Llama, it understands the expected output format.\n",
        "\n",
        "prompt = '''\n",
        "Classify: I love Llamas!\n",
        "Sentiment: Positive\n",
        "Classify: I dont like Snakes.\n",
        "Sentiment: Negative\n",
        "Classify: I saw a Gecko.\n",
        "Sentiment:\n",
        "\n",
        "Give one word response.\n",
        "'''\n",
        "\n",
        "output = llama2(prompt)\n",
        "md(output)"
      ]
    },
    {
      "cell_type": "code",
      "source": [
        "output = llama3_8b(prompt)\n",
        "md(output)"
      ],
      "metadata": {
        "colab": {
          "base_uri": "https://localhost:8080/",
          "height": 46
        },
        "id": "ahJodhNScXP4",
        "outputId": "ac309782-603a-4abd-d958-5ef5682c3a20"
      },
      "execution_count": 26,
      "outputs": [
        {
          "output_type": "display_data",
          "data": {
            "text/plain": [
              "<IPython.core.display.Markdown object>"
            ],
            "text/markdown": "Neutral"
          },
          "metadata": {}
        }
      ]
    },
    {
      "cell_type": "markdown",
      "source": [
        "**Note: Again, Llama 3 follows instructions better. Llama 2 now, with few shots, has the same output \"Neutral\" as Llama 3.**"
      ],
      "metadata": {
        "id": "GAHLuRFE5RJM"
      }
    },
    {
      "cell_type": "code",
      "execution_count": 84,
      "metadata": {
        "colab": {
          "base_uri": "https://localhost:8080/",
          "height": 46
        },
        "id": "8UmdlTmpDZxA",
        "outputId": "2abfec15-4a5c-426b-b0e9-1c288b54b529"
      },
      "outputs": [
        {
          "output_type": "display_data",
          "data": {
            "text/plain": [
              "<IPython.core.display.Markdown object>"
            ],
            "text/markdown": "Fiber."
          },
          "metadata": {}
        }
      ],
      "source": [
        "# another zero-shot learning\n",
        "prompt = '''\n",
        "QUESTION: Vicuna?\n",
        "ANSWER:\n",
        "\n",
        "Answer with one word.\n",
        "'''\n",
        "\n",
        "output = llama3_8b(prompt)\n",
        "md(output)"
      ]
    },
    {
      "cell_type": "code",
      "source": [
        "output = llama3_70b(prompt)\n",
        "md(output)"
      ],
      "metadata": {
        "colab": {
          "base_uri": "https://localhost:8080/",
          "height": 46
        },
        "id": "6jKftdYHckEk",
        "outputId": "e64ae694-a1db-43ec-e72d-cc073507c110"
      },
      "execution_count": 28,
      "outputs": [
        {
          "output_type": "display_data",
          "data": {
            "text/plain": [
              "<IPython.core.display.Markdown object>"
            ],
            "text/markdown": "Llama."
          },
          "metadata": {}
        }
      ]
    },
    {
      "cell_type": "code",
      "execution_count": 29,
      "metadata": {
        "colab": {
          "base_uri": "https://localhost:8080/",
          "height": 46
        },
        "id": "M_EcsUo1zqFD",
        "outputId": "7b3dac55-ee3a-4d49-d836-6ec7b0ad6d89"
      },
      "outputs": [
        {
          "output_type": "display_data",
          "data": {
            "text/plain": [
              "<IPython.core.display.Markdown object>"
            ],
            "text/markdown": "Yes"
          },
          "metadata": {}
        }
      ],
      "source": [
        "# Another few-shot learning example with formatted prompt.\n",
        "\n",
        "prompt = '''\n",
        "QUESTION: Llama?\n",
        "ANSWER: Yes\n",
        "QUESTION: Alpaca?\n",
        "ANSWER: Yes\n",
        "QUESTION: Rabbit?\n",
        "ANSWER: No\n",
        "QUESTION: Vicuna?\n",
        "ANSWER:\n",
        "'''\n",
        "\n",
        "output = llama3_8b(prompt)\n",
        "md(output)"
      ]
    },
    {
      "cell_type": "code",
      "source": [
        "output = llama3_70b(prompt)\n",
        "md(output)"
      ],
      "metadata": {
        "colab": {
          "base_uri": "https://localhost:8080/",
          "height": 110
        },
        "id": "arUlC1sNcsxt",
        "outputId": "cb1f784c-a039-489a-ccc5-5e6dc35dd2a9"
      },
      "execution_count": 30,
      "outputs": [
        {
          "output_type": "display_data",
          "data": {
            "text/plain": [
              "<IPython.core.display.Markdown object>"
            ],
            "text/markdown": "I think I see a pattern!\n\nSince the answer is \"Yes\" for Llama and Alpaca, which are both camelids, I'm going to take a guess that the answer is also \"Yes\" for Vicuna, which is another type of camelid.\n\nSo, my answer would be: Yes"
          },
          "metadata": {}
        }
      ]
    },
    {
      "cell_type": "markdown",
      "source": [
        "**Note: Llama 3 70b explains the answer.**"
      ],
      "metadata": {
        "id": "yWr0H0N_5y0R"
      }
    },
    {
      "cell_type": "code",
      "source": [
        "# let's see if Llama 3 70b can just give the answer without explanation.\n",
        "prompt = '''\n",
        "QUESTION: Llama?\n",
        "ANSWER: Yes\n",
        "QUESTION: Alpaca?\n",
        "ANSWER: Yes\n",
        "QUESTION: Rabbit?\n",
        "ANSWER: No\n",
        "QUESTION: Vicuna?\n",
        "ANSWER:\n",
        "\n",
        "Answer with one word.\n",
        "'''\n",
        "\n",
        "output = llama3_70b(prompt)\n",
        "md(output)"
      ],
      "metadata": {
        "colab": {
          "base_uri": "https://localhost:8080/",
          "height": 46
        },
        "id": "NYbCUrnJ6Dj0",
        "outputId": "ab3a45b7-16dd-40ae-c25b-2a3f9cf5dcef"
      },
      "execution_count": 31,
      "outputs": [
        {
          "output_type": "display_data",
          "data": {
            "text/plain": [
              "<IPython.core.display.Markdown object>"
            ],
            "text/markdown": "Yes"
          },
          "metadata": {}
        }
      ]
    },
    {
      "cell_type": "code",
      "source": [
        "# how about Llama 2\n",
        "output = llama2(prompt)\n",
        "md(output)"
      ],
      "metadata": {
        "colab": {
          "base_uri": "https://localhost:8080/",
          "height": 70
        },
        "id": "D2aeGVS76b8I",
        "outputId": "793e5ad3-aba3-430e-8d78-8da38425b2ed"
      },
      "execution_count": 32,
      "outputs": [
        {
          "output_type": "display_data",
          "data": {
            "text/plain": [
              "<IPython.core.display.Markdown object>"
            ],
            "text/markdown": " Sure! Here is the answer to the question:\n\nVicuna - No"
          },
          "metadata": {}
        }
      ]
    },
    {
      "cell_type": "markdown",
      "source": [
        "**Note: Clearly Llama 3 performing better than Llama 2!**"
      ],
      "metadata": {
        "id": "7T2zKKXc6jEq"
      }
    },
    {
      "cell_type": "markdown",
      "metadata": {
        "id": "mbr124Y197xl"
      },
      "source": [
        "#### **4.2 - Chain of Thought**\n",
        "\"Chain of thought\" enables complex reasoning through logical step by step thinking and generates meaningful and contextually relevant responses."
      ]
    },
    {
      "cell_type": "code",
      "execution_count": 85,
      "metadata": {
        "colab": {
          "base_uri": "https://localhost:8080/",
          "height": 46
        },
        "id": "Xn8zmLBQzpgj",
        "outputId": "85217f57-9927-4c8a-d203-6f1188403261"
      },
      "outputs": [
        {
          "output_type": "display_data",
          "data": {
            "text/plain": [
              "<IPython.core.display.Markdown object>"
            ],
            "text/markdown": "Seventeen."
          },
          "metadata": {}
        }
      ],
      "source": [
        "# Standard prompting\n",
        "prompt = '''\n",
        "Llama started with 5 tennis balls. It buys 2 more cans of tennis balls. Each can has 3 tennis balls.\n",
        "How many tennis balls does Llama have?\n",
        "\n",
        "Answer in one word.\n",
        "'''\n",
        "\n",
        "output = llama3_8b(prompt)\n",
        "md(output)"
      ]
    },
    {
      "cell_type": "code",
      "source": [
        "output = llama3_70b(prompt)\n",
        "md(output)"
      ],
      "metadata": {
        "colab": {
          "base_uri": "https://localhost:8080/",
          "height": 46
        },
        "id": "BtJu3lURc4bX",
        "outputId": "60b336da-b7c7-4250-c822-79bb688eaa64"
      },
      "execution_count": 34,
      "outputs": [
        {
          "output_type": "display_data",
          "data": {
            "text/plain": [
              "<IPython.core.display.Markdown object>"
            ],
            "text/markdown": "Eleven."
          },
          "metadata": {}
        }
      ]
    },
    {
      "cell_type": "markdown",
      "source": [
        "**Note: Llama 3-8b did not get the right answer because it was asked to answer in one word.**"
      ],
      "metadata": {
        "id": "GaLrTzsLc-1H"
      }
    },
    {
      "cell_type": "code",
      "execution_count": 86,
      "metadata": {
        "colab": {
          "base_uri": "https://localhost:8080/",
          "height": 163
        },
        "id": "lKNOj79o1Kwu",
        "outputId": "2f5895a5-a80e-43ed-b7b7-a65e47d423e0"
      },
      "outputs": [
        {
          "output_type": "display_data",
          "data": {
            "text/plain": [
              "<IPython.core.display.Markdown object>"
            ],
            "text/markdown": "Let's break it down step by step!\n\nLlama starts with 5 tennis balls.\n\nThen, Llama buys 2 more cans of tennis balls. Each can has 3 tennis balls.\n\nSo, Llama gets 2 x 3 = 6 more tennis balls.\n\nIn total, Llama has 5 (initial) + 6 (additional) = 11 tennis balls.\n\nSo, the answer is 11!"
          },
          "metadata": {}
        }
      ],
      "source": [
        "# By default, Llama 3 models follow \"Chain-Of-Thought\" prompting\n",
        "prompt = '''\n",
        "Llama started with 5 tennis balls. It buys 2 more cans of tennis balls. Each can has 3 tennis balls.\n",
        "How many tennis balls does Llama have?\n",
        "'''\n",
        "\n",
        "output = llama3_8b(prompt)\n",
        "md(output)"
      ]
    },
    {
      "cell_type": "code",
      "source": [
        "output = llama3_70b(prompt)\n",
        "md(output)"
      ],
      "metadata": {
        "colab": {
          "base_uri": "https://localhost:8080/",
          "height": 187
        },
        "id": "yKauEFrAdQaK",
        "outputId": "13eaf869-6435-4596-b101-43a295dd5c82"
      },
      "execution_count": 36,
      "outputs": [
        {
          "output_type": "display_data",
          "data": {
            "text/plain": [
              "<IPython.core.display.Markdown object>"
            ],
            "text/markdown": "Let's break it down step by step!\n\nLlama starts with 5 tennis balls.\n\nIt buys 2 more cans of tennis balls, and each can has 3 tennis balls. So, Llama gets:\n\n2 cans x 3 tennis balls/can = 6 new tennis balls\n\nNow, let's add the new tennis balls to the ones Llama already had:\n\n5 (initial tennis balls) + 6 (new tennis balls) = 11\n\nSo, Llama now has 11 tennis balls!"
          },
          "metadata": {}
        }
      ]
    },
    {
      "cell_type": "markdown",
      "source": [
        "**Note: By default, Llama 3 models identify word problems and solves it step by step!**"
      ],
      "metadata": {
        "id": "nlFGjySboVhw"
      }
    },
    {
      "cell_type": "code",
      "source": [
        "# Another example of reasoning without asking for thinking step by step\n",
        "prompt = '''\n",
        "Who lived longer Newton or Einstein and by how many years?\n",
        "Answer in a sentence.\n",
        "'''\n",
        "\n",
        "output = llama3_8b(prompt)\n",
        "md(output)"
      ],
      "metadata": {
        "colab": {
          "base_uri": "https://localhost:8080/",
          "height": 46
        },
        "id": "eeawJbT7vzrX",
        "outputId": "a409d47f-e6f8-4fed-95e6-f34bfe0bbde4"
      },
      "execution_count": 87,
      "outputs": [
        {
          "output_type": "display_data",
          "data": {
            "text/plain": [
              "<IPython.core.display.Markdown object>"
            ],
            "text/markdown": "Sir Isaac Newton lived from 1643 to 1727, while Albert Einstein lived from 1879 to 1955, with Einstein living 128 years, 28 years longer than Newton."
          },
          "metadata": {}
        }
      ]
    },
    {
      "cell_type": "markdown",
      "source": [
        "**Note: Einstein's age was calculated incorrectly.**"
      ],
      "metadata": {
        "id": "EUhSQJnNmjDh"
      }
    },
    {
      "cell_type": "code",
      "source": [
        "output = llama3_70b(prompt)\n",
        "md(output)"
      ],
      "metadata": {
        "colab": {
          "base_uri": "https://localhost:8080/",
          "height": 64
        },
        "id": "NSQvuz9ywHGX",
        "outputId": "1e1e6984-2950-45ac-baaa-a6efafe69416"
      },
      "execution_count": 39,
      "outputs": [
        {
          "output_type": "display_data",
          "data": {
            "text/plain": [
              "<IPython.core.display.Markdown object>"
            ],
            "text/markdown": "Albert Einstein lived longer than Isaac Newton, passing away at the age of 76 in 1955, while Newton died at the age of 84 in 1727, so Newton outlived Einstein by 8 years."
          },
          "metadata": {}
        }
      ]
    },
    {
      "cell_type": "markdown",
      "source": [
        "**Note: Llama 2 often needs encourgement for step by step thinking to correctly reasoning. Llama 3 understands, reasons and explains better, making chain of thought unnecessary in the cases above.**"
      ],
      "metadata": {
        "id": "oa1hPHR4wIRA"
      }
    },
    {
      "cell_type": "markdown",
      "source": [
        "#### **4.3 - Knowledge Prompting**\n",
        "\n",
        " Knowledge prompting involves crafting a prompt or question that provides context, defines the task, and specifies the desired output. The goal is to \"prompt\" the AI to produce a relevant and accurate response.\n",
        "\n"
      ],
      "metadata": {
        "id": "F8Onz2U1DJS9"
      }
    },
    {
      "cell_type": "code",
      "source": [
        "# knowledge prompting\n",
        "prompt = '''\n",
        "  Part of golf is trying to get a higher point total than others. Yes or No?\n",
        "'''\n",
        "\n",
        "output = llama3_8b(prompt)\n",
        "md(output)"
      ],
      "metadata": {
        "colab": {
          "base_uri": "https://localhost:8080/",
          "height": 46
        },
        "id": "3MSyKn0CIqjP",
        "outputId": "3ff11e79-b1ff-4cad-bcf1-28353733b859"
      },
      "execution_count": 88,
      "outputs": [
        {
          "output_type": "display_data",
          "data": {
            "text/plain": [
              "<IPython.core.display.Markdown object>"
            ],
            "text/markdown": "Yes."
          },
          "metadata": {}
        }
      ]
    },
    {
      "cell_type": "code",
      "source": [
        "prompt = '''\n",
        "Part of golf is trying to get a higher point total than others. Yes or No?\n",
        "The objective of golf is to play a set of holes in the least number of strokes.\n",
        "\n",
        "Explain your answer.\n",
        "'''\n",
        "\n",
        "output = llama3_8b(prompt)\n",
        "md(output)"
      ],
      "metadata": {
        "colab": {
          "base_uri": "https://localhost:8080/",
          "height": 128
        },
        "id": "aN7MnLy8IzFF",
        "outputId": "c40fa173-d260-4691-fb29-f6fd98ebef18"
      },
      "execution_count": 89,
      "outputs": [
        {
          "output_type": "display_data",
          "data": {
            "text/plain": [
              "<IPython.core.display.Markdown object>"
            ],
            "text/markdown": "I would answer NO.\n\nThe objective of golf, as stated, is to play a set of holes in the least number of strokes. This means that the goal is to complete the course in as few strokes as possible, not to get a higher point total than others.\n\nIn golf, the scoring system is based on the number of strokes taken to complete each hole. The player with the lowest total score at the end of the round is the winner."
          },
          "metadata": {}
        }
      ]
    },
    {
      "cell_type": "code",
      "source": [
        "prompt = '''\n",
        "Part of golf is trying to get a higher point total than others. Yes or No?\n",
        "'''\n",
        "\n",
        "output = llama3_70b(prompt)\n",
        "md(output)"
      ],
      "metadata": {
        "colab": {
          "base_uri": "https://localhost:8080/",
          "height": 87
        },
        "id": "YCMUJoMII1Wf",
        "outputId": "e1e14f35-358e-4a86-e982-33c84fa38b61"
      },
      "execution_count": 42,
      "outputs": [
        {
          "output_type": "display_data",
          "data": {
            "text/plain": [
              "<IPython.core.display.Markdown object>"
            ],
            "text/markdown": "No.\n\nIn golf, the objective is actually to achieve the lowest score possible, not to get a higher point total than others. The golfer with the lowest score at the end of the round is typically considered the winner."
          },
          "metadata": {}
        }
      ]
    },
    {
      "cell_type": "markdown",
      "source": [
        "**Note: Smaller models sometimes can be inaccurate. But by providing relevant context, they can perform as good as larger model.**"
      ],
      "metadata": {
        "id": "VnQbr1QNYzXT"
      }
    },
    {
      "cell_type": "markdown",
      "metadata": {
        "id": "C7tDW-AH770Y"
      },
      "source": [
        "### **4.4 - Retrieval Augmented Generation (RAG)**\n",
        "* Prompt Engineering Limitations - Knowledge cutoff & lack of specialized data\n",
        "\n",
        "* Retrieval Augmented Generation(RAG) allows us to retrieve snippets of information from external data sources and augment it to the user's prompt to get tailored responses from Llama 3.\n",
        "\n",
        "\n",
        "\n"
      ]
    },
    {
      "cell_type": "markdown",
      "metadata": {
        "id": "XiZuIIAPpM77"
      },
      "source": [
        "#### **4.4.1 - In-place RAG**\n",
        "- A model's knowledge of the world ends at the moment of its training - so it won't know about more recent events.\n",
        "- Llama 3 8B has cutoff date of March 2023, and Llama 3 70B December 2023, while Llama 2 September 2022.\n",
        "- Ask the model about an event, in this case, FIFA Women's World Cup 2023, which started on July 20, 2023, and see how the model responses."
      ]
    },
    {
      "cell_type": "code",
      "source": [
        "prompt = '''\n",
        "Today's date: April 22, 2024. Who won the 2023 Women's World Cup?\n",
        "'''\n",
        "output = llama2(prompt)\n",
        "print(output)"
      ],
      "metadata": {
        "id": "hp5MQqqHXhA5",
        "colab": {
          "base_uri": "https://localhost:8080/"
        },
        "outputId": "c558bd26-1f74-4cf2-f46b-61bb744d6c0e"
      },
      "execution_count": 90,
      "outputs": [
        {
          "output_type": "stream",
          "name": "stdout",
          "text": [
            " Hello! I'm here to help you with your question. However, I must inform you that the 2023 Women's World Cup has not yet taken place. The Women's World Cup is held every four years, and the most recent tournament was held in 2019. Therefore, there is no winner for the 2023 Women's World Cup. I hope this information is helpful. If you have any other questions, please feel free to ask!\n"
          ]
        }
      ]
    },
    {
      "cell_type": "code",
      "source": [
        "# cutoff date for 8B is March 2023.\n",
        "output = llama3_8b(prompt)\n",
        "print(output)"
      ],
      "metadata": {
        "colab": {
          "base_uri": "https://localhost:8080/"
        },
        "id": "4M3isB_t-D3P",
        "outputId": "5901dc6a-59d5-4e60-e8b6-96bce8d6e360"
      },
      "execution_count": 51,
      "outputs": [
        {
          "output_type": "stream",
          "name": "stdout",
          "text": [
            "The 2023 Women's World Cup was won by the United States Women's National Team (USWNT). They defeated England 2-1 in the final on August 20, 2023.\n"
          ]
        }
      ]
    },
    {
      "cell_type": "code",
      "source": [
        "# cutoff dte for 70B is December 2023\n",
        "output = llama3_70b(prompt)\n",
        "print(output)"
      ],
      "metadata": {
        "colab": {
          "base_uri": "https://localhost:8080/"
        },
        "id": "SawSsUzJ-EAL",
        "outputId": "8d936b22-f9ab-4963-b9e8-79077b932297"
      },
      "execution_count": 52,
      "outputs": [
        {
          "output_type": "stream",
          "name": "stdout",
          "text": [
            "The 2023 Women's World Cup was won by Spain! They defeated England 1-0 in the final on August 20, 2023.\n"
          ]
        }
      ]
    },
    {
      "cell_type": "markdown",
      "source": [
        "**Note: Hmm, Llama 3 8b hallucinates due to lack of data. But 70b with cutoff date December 2023 is able to answer the question correctly.**"
      ],
      "metadata": {
        "id": "okrRMdag-SJp"
      }
    },
    {
      "cell_type": "code",
      "source": [
        "context = \"\"\"\n",
        "The 2023 FIFA Women's World Cup was the ninth edition of the FIFA Women's World Cup, the quadrennial international women's\n",
        "football championship contested by women's national teams and organised by FIFA. The tournament, which took place from\n",
        "20 July to 20 August 2023, was jointly hosted by Australia and New Zealand.[2][3][4] It was the first FIFA Women's World Cup\n",
        "with more than one host nation, as well as the first World Cup to be held across multiple confederations, as Australia is in the\n",
        "Asian confederation, while New Zealand is in the Oceanian confederation. It was also the first Women's World Cup to be held\n",
        "in the Southern Hemisphere.[5]\n",
        "This tournament was the first to feature an expanded format of 32 teams from the previous 24, replicating the format used\n",
        "for the men's World Cup from 1998 to 2022.[2] The opening match was won by co-host New Zealand, beating Norway at Eden Park\n",
        "in Auckland on 20 July 2023 and achieving their first Women's World Cup victory.[6]\n",
        "Spain were crowned champions after defeating reigning European champions England 1–0 in the final. It was the first time a\n",
        "European nation had won the Women's World Cup since 2007 and Spain's first title, although their victory was marred by the\n",
        "Rubiales affair. Spain became the second nation to win both the women's and men's World Cup since Germany in the 2003 edition.\n",
        "[10] In addition, they became the first nation to concurrently hold the FIFA women's U-17, U-20, and senior World Cups.[11]\n",
        "Sweden would claim their fourth bronze medal at the Women's World Cup while co-host Australia achieved their best placing yet,\n",
        "finishing fourth.[12] Japanese player Hinata Miyazawa won the Golden Boot scoring five goals throughout the tournament. Spanish\n",
        "player Aitana Bonmatí was voted the tournament's best player, winning the Golden Ball, whilst Bonmatí's teammate Salma\n",
        "Paralluelo was awarded the Young Player Award. England goalkeeper Mary Earps won the Golden Glove, awarded to the best-performing\n",
        "goalkeeper of the tournament.\n",
        "Of the eight teams making their first appearance, Morocco were the only one to advance to the round of 16 (where they lost\n",
        "to France; coincidentally, the result of this fixture was similar to the men's World Cup in Qatar, where France defeated\n",
        "Morocco in the semi-final). The United States were the two-time defending champions,[13] but were eliminated in the round of\n",
        "16 by Sweden, the first time the team had not made the semi-finals at the tournament, and the first time the defending\n",
        "champions failed to progress to the quarter-finals.[14]\n",
        "Australia's team, nicknamed the Matildas, performed better than expected, and the event saw many Australians unite to\n",
        "support them. The Matildas, who beat France to make the semi-finals for the first time, saw record numbers of fans watching\n",
        "their games, their 3–1 loss to England becoming the most watched television broadcast in Australian history, with an average\n",
        "viewership of 7.13 million and a peak viewership of 11.15 million viewers.[18]\n",
        "It was the most attended edition of the competition ever held.\n",
        "\"\"\"\n",
        "\n",
        "prompt = f\"\"\"\n",
        "Given the following context, who won the 2023 Women's World cup?\n",
        "context: {context}\n",
        "\"\"\"\n",
        "output = llama2(prompt)\n",
        "print(output)"
      ],
      "metadata": {
        "colab": {
          "base_uri": "https://localhost:8080/"
        },
        "id": "BwnCyEu--aqh",
        "outputId": "f4f0cfe3-6cf3-4ef8-8875-b48b9153a384"
      },
      "execution_count": 53,
      "outputs": [
        {
          "output_type": "stream",
          "name": "stdout",
          "text": [
            " I'm not able to provide an answer to your question as the context you provided does not mention the winner of the 2023 Women's World Cup. The tournament took place from July 20 to August 20, 2023, and the winner was not specified in the provided text.\n"
          ]
        }
      ]
    },
    {
      "cell_type": "code",
      "source": [
        "output = llama3_8b(prompt)\n",
        "print(output)"
      ],
      "metadata": {
        "colab": {
          "base_uri": "https://localhost:8080/"
        },
        "id": "oimdbMm9-tz2",
        "outputId": "bb414d38-92ed-4eaa-81ed-470d42b808b7"
      },
      "execution_count": 55,
      "outputs": [
        {
          "output_type": "stream",
          "name": "stdout",
          "text": [
            "The 2023 FIFA Women's World Cup was the 9th edition of the tournament, held in Australia and New Zealand from July 20 to August 20, 2023.\n",
            "\n",
            "The tournament featured 32 teams, including the host nations Australia and New Zealand, as well as the defending champions United States.\n",
            "\n",
            "The tournament saw many exciting matches, with several teams making their debut in the tournament.\n",
            "\n",
            "The tournament was won by Spain, who defeated England 1-0 in the final.\n",
            "\n",
            "The tournament saw many records broken, including the highest attendance ever recorded in the history of the tournament.\n",
            "\n",
            "The tournament was a huge success, with many fans\n"
          ]
        }
      ]
    },
    {
      "cell_type": "code",
      "source": [
        "output = llama3_70b(prompt)\n",
        "print(output)"
      ],
      "metadata": {
        "colab": {
          "base_uri": "https://localhost:8080/"
        },
        "id": "_jQLVTNy-t3x",
        "outputId": "93b09e43-407c-459d-8a98-d0472328e7d8"
      },
      "execution_count": 54,
      "outputs": [
        {
          "output_type": "stream",
          "name": "stdout",
          "text": [
            "According to the context, Spain won the 2023 Women's World Cup by defeating England 1-0 in the final.\n"
          ]
        }
      ]
    },
    {
      "cell_type": "markdown",
      "source": [
        "**Note: Llama 3 70b gives the best answer. Llama 2 fails.**"
      ],
      "metadata": {
        "id": "HYTklwK5_R8S"
      }
    },
    {
      "cell_type": "markdown",
      "metadata": {
        "id": "K2l8S5tBxlkc"
      },
      "source": [
        "#### **4.3.2 - Decomposing Question**\n",
        "Break down a complex question into sub questions to query RAG and Llama 3 with each sub question before getting the final answer from the sub questions and answers."
      ]
    },
    {
      "cell_type": "code",
      "execution_count": null,
      "metadata": {
        "colab": {
          "base_uri": "https://localhost:8080/",
          "height": 110
        },
        "id": "NmEhBe3Kiyre",
        "outputId": "6c4e840b-aa05-4e93-b6fe-0b84c495adf0"
      },
      "outputs": [
        {
          "output_type": "display_data",
          "data": {
            "text/plain": [
              "<IPython.core.display.Markdown object>"
            ],
            "text/markdown": " Great, I'm here to help! To answer your question, I will break it down into simpler sub-parts. Here are the sub-questions that I have identified:\n\n{\"sub-questions\":[\n\"What is the time period being compared?\",\n\"What is the revenue data source?\",\n\"How was the revenue data collected and verified?\"\n]}\n\nPlease provide answers to these sub-questions, and I will help you calculate the revenue difference between Q1 of 2022 and Q2 of 2022."
          },
          "metadata": {}
        }
      ],
      "source": [
        "prompt = \"\"\"GENERAL INSTRUCTIONS\n",
        "You are a domain expert. Your task is to break down a complex question into simpler sub-parts.\n",
        "\n",
        "USER QUESTION\n",
        "What's the revenue difference between Q1 of 2022 and Q2 of 2022?\n",
        "\n",
        "ANSWER FORMAT\n",
        "{\"sub-questions\":[\"<FILL>\"]}\"\"\"\n",
        "\n",
        "output = llama2(prompt)\n",
        "md(output)\n"
      ]
    },
    {
      "cell_type": "code",
      "source": [
        "output = llama3_8b(prompt)\n",
        "md(output)"
      ],
      "metadata": {
        "colab": {
          "base_uri": "https://localhost:8080/",
          "height": 87
        },
        "id": "KLBNz6JWZFlT",
        "outputId": "b467ff40-387a-44f1-9252-7853badff472"
      },
      "execution_count": null,
      "outputs": [
        {
          "output_type": "display_data",
          "data": {
            "text/plain": [
              "<IPython.core.display.Markdown object>"
            ],
            "text/markdown": "Here's the breakdown of the complex question into simpler sub-parts:\n\n{\"sub-questions\": [\n\"What is the revenue for Q1 of 2022?\",\n\"What is the revenue for Q2 of 2022?\",\n\"What is the difference between the revenue for Q1 of 2022 and Q2 of 2022?\"\n]}\nLet me know if you'd like me to help with any of these sub-questions!"
          },
          "metadata": {}
        }
      ]
    },
    {
      "cell_type": "code",
      "source": [
        "output = llama3_70b(prompt)\n",
        "md(output)"
      ],
      "metadata": {
        "colab": {
          "base_uri": "https://localhost:8080/",
          "height": 87
        },
        "id": "qPYhfW1Ad8wq",
        "outputId": "35ee5bed-1148-42a5-c6ae-e82b7d2439b2"
      },
      "execution_count": null,
      "outputs": [
        {
          "output_type": "display_data",
          "data": {
            "text/plain": [
              "<IPython.core.display.Markdown object>"
            ],
            "text/markdown": "Here's the breakdown of the complex question into simpler sub-parts:\n\n{\"sub-questions\":[\n\"What was the revenue in Q1 of 2022?\",\n\"What was the revenue in Q2 of 2022?\",\n\"What is the difference between the revenue in Q1 and Q2 of 2022?\"\n]}"
          },
          "metadata": {}
        }
      ]
    },
    {
      "cell_type": "markdown",
      "source": [
        "**Note: Llama 3 correctly breaks down a complex question according to the instruction. Llama 2 doesn't.**"
      ],
      "metadata": {
        "id": "MTP-I1psfJUZ"
      }
    },
    {
      "cell_type": "markdown",
      "source": [
        "#### **4.3.3 - Query a Doc using LangChain**\n",
        "We'll show how to use LangChain, a framework for building non-trivial LLM apps, to build a RAG app.\n",
        "\n"
      ],
      "metadata": {
        "id": "SWCqFW46VocT"
      }
    },
    {
      "cell_type": "code",
      "source": [
        "rag_arch()"
      ],
      "metadata": {
        "colab": {
          "base_uri": "https://localhost:8080/",
          "height": 258
        },
        "id": "9pqROU1TWcTl",
        "outputId": "ff6f8d50-04aa-4557-eafd-6e417515dcf4"
      },
      "execution_count": 56,
      "outputs": [
        {
          "output_type": "display_data",
          "data": {
            "text/html": [
              "<img src=\"https://mermaid.ink/img/CiAgZmxvd2NoYXJ0IFRECiAgICBBW1VzZXIgUHJvbXB0c10gLS0+IEIoRnJhbWV3b3JrcyBlLmcuIExhbmdDaGFpbikKICAgIEIgPC0tPiB8RGF0YWJhc2UsIERvY3MsIFhMU3xDW2ZhOmZhLWRhdGFiYXNlIEV4dGVybmFsIERhdGFdCiAgICBCIC0tPnxBUEl8RFtMbGFtYSAzXQogICAgY2xhc3NEZWYgZGVmYXVsdCBmaWxsOiNDQ0U2RkYsc3Ryb2tlOiM4NEJDRjUsdGV4dENvbG9yOiMxQzJCMzMsZm9udEZhbWlseTp0cmVidWNoZXQgbXM7CiAg\"/>"
            ],
            "text/plain": [
              "<IPython.core.display.Image object>"
            ]
          },
          "metadata": {}
        }
      ]
    },
    {
      "cell_type": "code",
      "source": [
        "# this won't be needed after langchain's new release with Replicate fix for Llama 3\n",
        "!pip install git+https://github.com/langchain-ai/langchain.git#subdirectory=libs/community\n",
        "\n",
        "!pip install langchain\n",
        "!pip install sentence-transformers\n",
        "!pip install faiss-cpu\n",
        "!pip install bs4"
      ],
      "metadata": {
        "colab": {
          "base_uri": "https://localhost:8080/"
        },
        "id": "pyuCvDLvWJoV",
        "outputId": "5b0111b3-c4a2-4a87-d4f8-9d9d361b79bb"
      },
      "execution_count": 57,
      "outputs": [
        {
          "output_type": "stream",
          "name": "stdout",
          "text": [
            "Collecting git+https://github.com/langchain-ai/langchain.git#subdirectory=libs/community\n",
            "  Cloning https://github.com/langchain-ai/langchain.git to /tmp/pip-req-build-06avv7dq\n",
            "  Running command git clone --filter=blob:none --quiet https://github.com/langchain-ai/langchain.git /tmp/pip-req-build-06avv7dq\n",
            "  Resolved https://github.com/langchain-ai/langchain.git to commit 9111d3a6369da71eb4c78d69bb20d20d00475d9a\n",
            "  Installing build dependencies ... \u001b[?25l\u001b[?25hdone\n",
            "  Getting requirements to build wheel ... \u001b[?25l\u001b[?25hdone\n",
            "  Preparing metadata (pyproject.toml) ... \u001b[?25l\u001b[?25hdone\n",
            "Requirement already satisfied: PyYAML>=5.3 in /usr/local/lib/python3.10/dist-packages (from langchain-community==0.0.34) (6.0.1)\n",
            "Requirement already satisfied: SQLAlchemy<3,>=1.4 in /usr/local/lib/python3.10/dist-packages (from langchain-community==0.0.34) (2.0.29)\n",
            "Requirement already satisfied: aiohttp<4.0.0,>=3.8.3 in /usr/local/lib/python3.10/dist-packages (from langchain-community==0.0.34) (3.9.5)\n",
            "Collecting dataclasses-json<0.7,>=0.5.7 (from langchain-community==0.0.34)\n",
            "  Downloading dataclasses_json-0.6.4-py3-none-any.whl (28 kB)\n",
            "Collecting langchain-core<0.2.0,>=0.1.45 (from langchain-community==0.0.34)\n",
            "  Downloading langchain_core-0.1.45-py3-none-any.whl (291 kB)\n",
            "\u001b[2K     \u001b[90m━━━━━━━━━━━━━━━━━━━━━━━━━━━━━━━━━━━━━━━━\u001b[0m \u001b[32m291.3/291.3 kB\u001b[0m \u001b[31m4.5 MB/s\u001b[0m eta \u001b[36m0:00:00\u001b[0m\n",
            "\u001b[?25hCollecting langsmith<0.2.0,>=0.1.0 (from langchain-community==0.0.34)\n",
            "  Downloading langsmith-0.1.50-py3-none-any.whl (115 kB)\n",
            "\u001b[2K     \u001b[90m━━━━━━━━━━━━━━━━━━━━━━━━━━━━━━━━━━━━━━━━\u001b[0m \u001b[32m115.5/115.5 kB\u001b[0m \u001b[31m5.8 MB/s\u001b[0m eta \u001b[36m0:00:00\u001b[0m\n",
            "\u001b[?25hRequirement already satisfied: numpy<2,>=1 in /usr/local/lib/python3.10/dist-packages (from langchain-community==0.0.34) (1.25.2)\n",
            "Requirement already satisfied: requests<3,>=2 in /usr/local/lib/python3.10/dist-packages (from langchain-community==0.0.34) (2.31.0)\n",
            "Requirement already satisfied: tenacity<9.0.0,>=8.1.0 in /usr/local/lib/python3.10/dist-packages (from langchain-community==0.0.34) (8.2.3)\n",
            "Requirement already satisfied: aiosignal>=1.1.2 in /usr/local/lib/python3.10/dist-packages (from aiohttp<4.0.0,>=3.8.3->langchain-community==0.0.34) (1.3.1)\n",
            "Requirement already satisfied: attrs>=17.3.0 in /usr/local/lib/python3.10/dist-packages (from aiohttp<4.0.0,>=3.8.3->langchain-community==0.0.34) (23.2.0)\n",
            "Requirement already satisfied: frozenlist>=1.1.1 in /usr/local/lib/python3.10/dist-packages (from aiohttp<4.0.0,>=3.8.3->langchain-community==0.0.34) (1.4.1)\n",
            "Requirement already satisfied: multidict<7.0,>=4.5 in /usr/local/lib/python3.10/dist-packages (from aiohttp<4.0.0,>=3.8.3->langchain-community==0.0.34) (6.0.5)\n",
            "Requirement already satisfied: yarl<2.0,>=1.0 in /usr/local/lib/python3.10/dist-packages (from aiohttp<4.0.0,>=3.8.3->langchain-community==0.0.34) (1.9.4)\n",
            "Requirement already satisfied: async-timeout<5.0,>=4.0 in /usr/local/lib/python3.10/dist-packages (from aiohttp<4.0.0,>=3.8.3->langchain-community==0.0.34) (4.0.3)\n",
            "Collecting marshmallow<4.0.0,>=3.18.0 (from dataclasses-json<0.7,>=0.5.7->langchain-community==0.0.34)\n",
            "  Downloading marshmallow-3.21.1-py3-none-any.whl (49 kB)\n",
            "\u001b[2K     \u001b[90m━━━━━━━━━━━━━━━━━━━━━━━━━━━━━━━━━━━━━━━━\u001b[0m \u001b[32m49.4/49.4 kB\u001b[0m \u001b[31m5.9 MB/s\u001b[0m eta \u001b[36m0:00:00\u001b[0m\n",
            "\u001b[?25hCollecting typing-inspect<1,>=0.4.0 (from dataclasses-json<0.7,>=0.5.7->langchain-community==0.0.34)\n",
            "  Downloading typing_inspect-0.9.0-py3-none-any.whl (8.8 kB)\n",
            "Collecting jsonpatch<2.0,>=1.33 (from langchain-core<0.2.0,>=0.1.45->langchain-community==0.0.34)\n",
            "  Downloading jsonpatch-1.33-py2.py3-none-any.whl (12 kB)\n",
            "Collecting packaging<24.0,>=23.2 (from langchain-core<0.2.0,>=0.1.45->langchain-community==0.0.34)\n",
            "  Downloading packaging-23.2-py3-none-any.whl (53 kB)\n",
            "\u001b[2K     \u001b[90m━━━━━━━━━━━━━━━━━━━━━━━━━━━━━━━━━━━━━━━━\u001b[0m \u001b[32m53.0/53.0 kB\u001b[0m \u001b[31m5.7 MB/s\u001b[0m eta \u001b[36m0:00:00\u001b[0m\n",
            "\u001b[?25hRequirement already satisfied: pydantic<3,>=1 in /usr/local/lib/python3.10/dist-packages (from langchain-core<0.2.0,>=0.1.45->langchain-community==0.0.34) (2.7.0)\n",
            "Collecting orjson<4.0.0,>=3.9.14 (from langsmith<0.2.0,>=0.1.0->langchain-community==0.0.34)\n",
            "  Downloading orjson-3.10.1-cp310-cp310-manylinux_2_17_x86_64.manylinux2014_x86_64.whl (141 kB)\n",
            "\u001b[2K     \u001b[90m━━━━━━━━━━━━━━━━━━━━━━━━━━━━━━━━━━━━━━━━\u001b[0m \u001b[32m141.1/141.1 kB\u001b[0m \u001b[31m6.4 MB/s\u001b[0m eta \u001b[36m0:00:00\u001b[0m\n",
            "\u001b[?25hRequirement already satisfied: charset-normalizer<4,>=2 in /usr/local/lib/python3.10/dist-packages (from requests<3,>=2->langchain-community==0.0.34) (3.3.2)\n",
            "Requirement already satisfied: idna<4,>=2.5 in /usr/local/lib/python3.10/dist-packages (from requests<3,>=2->langchain-community==0.0.34) (3.7)\n",
            "Requirement already satisfied: urllib3<3,>=1.21.1 in /usr/local/lib/python3.10/dist-packages (from requests<3,>=2->langchain-community==0.0.34) (2.0.7)\n",
            "Requirement already satisfied: certifi>=2017.4.17 in /usr/local/lib/python3.10/dist-packages (from requests<3,>=2->langchain-community==0.0.34) (2024.2.2)\n",
            "Requirement already satisfied: typing-extensions>=4.6.0 in /usr/local/lib/python3.10/dist-packages (from SQLAlchemy<3,>=1.4->langchain-community==0.0.34) (4.11.0)\n",
            "Requirement already satisfied: greenlet!=0.4.17 in /usr/local/lib/python3.10/dist-packages (from SQLAlchemy<3,>=1.4->langchain-community==0.0.34) (3.0.3)\n",
            "Collecting jsonpointer>=1.9 (from jsonpatch<2.0,>=1.33->langchain-core<0.2.0,>=0.1.45->langchain-community==0.0.34)\n",
            "  Downloading jsonpointer-2.4-py2.py3-none-any.whl (7.8 kB)\n",
            "Requirement already satisfied: annotated-types>=0.4.0 in /usr/local/lib/python3.10/dist-packages (from pydantic<3,>=1->langchain-core<0.2.0,>=0.1.45->langchain-community==0.0.34) (0.6.0)\n",
            "Requirement already satisfied: pydantic-core==2.18.1 in /usr/local/lib/python3.10/dist-packages (from pydantic<3,>=1->langchain-core<0.2.0,>=0.1.45->langchain-community==0.0.34) (2.18.1)\n",
            "Collecting mypy-extensions>=0.3.0 (from typing-inspect<1,>=0.4.0->dataclasses-json<0.7,>=0.5.7->langchain-community==0.0.34)\n",
            "  Downloading mypy_extensions-1.0.0-py3-none-any.whl (4.7 kB)\n",
            "Building wheels for collected packages: langchain-community\n",
            "  Building wheel for langchain-community (pyproject.toml) ... \u001b[?25l\u001b[?25hdone\n",
            "  Created wheel for langchain-community: filename=langchain_community-0.0.34-py3-none-any.whl size=1940119 sha256=5b8995827c4550d5222a67ec6f7a709c8b1ca67bc0ca79d76cdbd4adbabdbe6c\n",
            "  Stored in directory: /tmp/pip-ephem-wheel-cache-1g9i6a0j/wheels/51/b6/e9/993f6e112cfeb4196235a0fb8cca5d64cc5602606897481e64\n",
            "Successfully built langchain-community\n",
            "Installing collected packages: packaging, orjson, mypy-extensions, jsonpointer, typing-inspect, marshmallow, jsonpatch, langsmith, dataclasses-json, langchain-core, langchain-community\n",
            "  Attempting uninstall: packaging\n",
            "    Found existing installation: packaging 24.0\n",
            "    Uninstalling packaging-24.0:\n",
            "      Successfully uninstalled packaging-24.0\n",
            "Successfully installed dataclasses-json-0.6.4 jsonpatch-1.33 jsonpointer-2.4 langchain-community-0.0.34 langchain-core-0.1.45 langsmith-0.1.50 marshmallow-3.21.1 mypy-extensions-1.0.0 orjson-3.10.1 packaging-23.2 typing-inspect-0.9.0\n",
            "Collecting langchain\n",
            "  Downloading langchain-0.1.16-py3-none-any.whl (817 kB)\n",
            "\u001b[2K     \u001b[90m━━━━━━━━━━━━━━━━━━━━━━━━━━━━━━━━━━━━━━━━\u001b[0m \u001b[32m817.7/817.7 kB\u001b[0m \u001b[31m7.5 MB/s\u001b[0m eta \u001b[36m0:00:00\u001b[0m\n",
            "\u001b[?25hRequirement already satisfied: PyYAML>=5.3 in /usr/local/lib/python3.10/dist-packages (from langchain) (6.0.1)\n",
            "Requirement already satisfied: SQLAlchemy<3,>=1.4 in /usr/local/lib/python3.10/dist-packages (from langchain) (2.0.29)\n",
            "Requirement already satisfied: aiohttp<4.0.0,>=3.8.3 in /usr/local/lib/python3.10/dist-packages (from langchain) (3.9.5)\n",
            "Requirement already satisfied: async-timeout<5.0.0,>=4.0.0 in /usr/local/lib/python3.10/dist-packages (from langchain) (4.0.3)\n",
            "Requirement already satisfied: dataclasses-json<0.7,>=0.5.7 in /usr/local/lib/python3.10/dist-packages (from langchain) (0.6.4)\n",
            "Requirement already satisfied: jsonpatch<2.0,>=1.33 in /usr/local/lib/python3.10/dist-packages (from langchain) (1.33)\n",
            "Requirement already satisfied: langchain-community<0.1,>=0.0.32 in /usr/local/lib/python3.10/dist-packages (from langchain) (0.0.34)\n",
            "Requirement already satisfied: langchain-core<0.2.0,>=0.1.42 in /usr/local/lib/python3.10/dist-packages (from langchain) (0.1.45)\n",
            "Collecting langchain-text-splitters<0.1,>=0.0.1 (from langchain)\n",
            "  Downloading langchain_text_splitters-0.0.1-py3-none-any.whl (21 kB)\n",
            "Requirement already satisfied: langsmith<0.2.0,>=0.1.17 in /usr/local/lib/python3.10/dist-packages (from langchain) (0.1.50)\n",
            "Requirement already satisfied: numpy<2,>=1 in /usr/local/lib/python3.10/dist-packages (from langchain) (1.25.2)\n",
            "Requirement already satisfied: pydantic<3,>=1 in /usr/local/lib/python3.10/dist-packages (from langchain) (2.7.0)\n",
            "Requirement already satisfied: requests<3,>=2 in /usr/local/lib/python3.10/dist-packages (from langchain) (2.31.0)\n",
            "Requirement already satisfied: tenacity<9.0.0,>=8.1.0 in /usr/local/lib/python3.10/dist-packages (from langchain) (8.2.3)\n",
            "Requirement already satisfied: aiosignal>=1.1.2 in /usr/local/lib/python3.10/dist-packages (from aiohttp<4.0.0,>=3.8.3->langchain) (1.3.1)\n",
            "Requirement already satisfied: attrs>=17.3.0 in /usr/local/lib/python3.10/dist-packages (from aiohttp<4.0.0,>=3.8.3->langchain) (23.2.0)\n",
            "Requirement already satisfied: frozenlist>=1.1.1 in /usr/local/lib/python3.10/dist-packages (from aiohttp<4.0.0,>=3.8.3->langchain) (1.4.1)\n",
            "Requirement already satisfied: multidict<7.0,>=4.5 in /usr/local/lib/python3.10/dist-packages (from aiohttp<4.0.0,>=3.8.3->langchain) (6.0.5)\n",
            "Requirement already satisfied: yarl<2.0,>=1.0 in /usr/local/lib/python3.10/dist-packages (from aiohttp<4.0.0,>=3.8.3->langchain) (1.9.4)\n",
            "Requirement already satisfied: marshmallow<4.0.0,>=3.18.0 in /usr/local/lib/python3.10/dist-packages (from dataclasses-json<0.7,>=0.5.7->langchain) (3.21.1)\n",
            "Requirement already satisfied: typing-inspect<1,>=0.4.0 in /usr/local/lib/python3.10/dist-packages (from dataclasses-json<0.7,>=0.5.7->langchain) (0.9.0)\n",
            "Requirement already satisfied: jsonpointer>=1.9 in /usr/local/lib/python3.10/dist-packages (from jsonpatch<2.0,>=1.33->langchain) (2.4)\n",
            "Requirement already satisfied: packaging<24.0,>=23.2 in /usr/local/lib/python3.10/dist-packages (from langchain-core<0.2.0,>=0.1.42->langchain) (23.2)\n",
            "Requirement already satisfied: orjson<4.0.0,>=3.9.14 in /usr/local/lib/python3.10/dist-packages (from langsmith<0.2.0,>=0.1.17->langchain) (3.10.1)\n",
            "Requirement already satisfied: annotated-types>=0.4.0 in /usr/local/lib/python3.10/dist-packages (from pydantic<3,>=1->langchain) (0.6.0)\n",
            "Requirement already satisfied: pydantic-core==2.18.1 in /usr/local/lib/python3.10/dist-packages (from pydantic<3,>=1->langchain) (2.18.1)\n",
            "Requirement already satisfied: typing-extensions>=4.6.1 in /usr/local/lib/python3.10/dist-packages (from pydantic<3,>=1->langchain) (4.11.0)\n",
            "Requirement already satisfied: charset-normalizer<4,>=2 in /usr/local/lib/python3.10/dist-packages (from requests<3,>=2->langchain) (3.3.2)\n",
            "Requirement already satisfied: idna<4,>=2.5 in /usr/local/lib/python3.10/dist-packages (from requests<3,>=2->langchain) (3.7)\n",
            "Requirement already satisfied: urllib3<3,>=1.21.1 in /usr/local/lib/python3.10/dist-packages (from requests<3,>=2->langchain) (2.0.7)\n",
            "Requirement already satisfied: certifi>=2017.4.17 in /usr/local/lib/python3.10/dist-packages (from requests<3,>=2->langchain) (2024.2.2)\n",
            "Requirement already satisfied: greenlet!=0.4.17 in /usr/local/lib/python3.10/dist-packages (from SQLAlchemy<3,>=1.4->langchain) (3.0.3)\n",
            "Requirement already satisfied: mypy-extensions>=0.3.0 in /usr/local/lib/python3.10/dist-packages (from typing-inspect<1,>=0.4.0->dataclasses-json<0.7,>=0.5.7->langchain) (1.0.0)\n",
            "Installing collected packages: langchain-text-splitters, langchain\n",
            "Successfully installed langchain-0.1.16 langchain-text-splitters-0.0.1\n",
            "Collecting sentence-transformers\n",
            "  Downloading sentence_transformers-2.7.0-py3-none-any.whl (171 kB)\n",
            "\u001b[2K     \u001b[90m━━━━━━━━━━━━━━━━━━━━━━━━━━━━━━━━━━━━━━━━\u001b[0m \u001b[32m171.5/171.5 kB\u001b[0m \u001b[31m1.9 MB/s\u001b[0m eta \u001b[36m0:00:00\u001b[0m\n",
            "\u001b[?25hRequirement already satisfied: transformers<5.0.0,>=4.34.0 in /usr/local/lib/python3.10/dist-packages (from sentence-transformers) (4.40.0)\n",
            "Requirement already satisfied: tqdm in /usr/local/lib/python3.10/dist-packages (from sentence-transformers) (4.66.2)\n",
            "Requirement already satisfied: torch>=1.11.0 in /usr/local/lib/python3.10/dist-packages (from sentence-transformers) (2.2.1+cu121)\n",
            "Requirement already satisfied: numpy in /usr/local/lib/python3.10/dist-packages (from sentence-transformers) (1.25.2)\n",
            "Requirement already satisfied: scikit-learn in /usr/local/lib/python3.10/dist-packages (from sentence-transformers) (1.2.2)\n",
            "Requirement already satisfied: scipy in /usr/local/lib/python3.10/dist-packages (from sentence-transformers) (1.11.4)\n",
            "Requirement already satisfied: huggingface-hub>=0.15.1 in /usr/local/lib/python3.10/dist-packages (from sentence-transformers) (0.20.3)\n",
            "Requirement already satisfied: Pillow in /usr/local/lib/python3.10/dist-packages (from sentence-transformers) (9.4.0)\n",
            "Requirement already satisfied: filelock in /usr/local/lib/python3.10/dist-packages (from huggingface-hub>=0.15.1->sentence-transformers) (3.13.4)\n",
            "Requirement already satisfied: fsspec>=2023.5.0 in /usr/local/lib/python3.10/dist-packages (from huggingface-hub>=0.15.1->sentence-transformers) (2023.6.0)\n",
            "Requirement already satisfied: requests in /usr/local/lib/python3.10/dist-packages (from huggingface-hub>=0.15.1->sentence-transformers) (2.31.0)\n",
            "Requirement already satisfied: pyyaml>=5.1 in /usr/local/lib/python3.10/dist-packages (from huggingface-hub>=0.15.1->sentence-transformers) (6.0.1)\n",
            "Requirement already satisfied: typing-extensions>=3.7.4.3 in /usr/local/lib/python3.10/dist-packages (from huggingface-hub>=0.15.1->sentence-transformers) (4.11.0)\n",
            "Requirement already satisfied: packaging>=20.9 in /usr/local/lib/python3.10/dist-packages (from huggingface-hub>=0.15.1->sentence-transformers) (23.2)\n",
            "Requirement already satisfied: sympy in /usr/local/lib/python3.10/dist-packages (from torch>=1.11.0->sentence-transformers) (1.12)\n",
            "Requirement already satisfied: networkx in /usr/local/lib/python3.10/dist-packages (from torch>=1.11.0->sentence-transformers) (3.3)\n",
            "Requirement already satisfied: jinja2 in /usr/local/lib/python3.10/dist-packages (from torch>=1.11.0->sentence-transformers) (3.1.3)\n",
            "Collecting nvidia-cuda-nvrtc-cu12==12.1.105 (from torch>=1.11.0->sentence-transformers)\n",
            "  Using cached nvidia_cuda_nvrtc_cu12-12.1.105-py3-none-manylinux1_x86_64.whl (23.7 MB)\n",
            "Collecting nvidia-cuda-runtime-cu12==12.1.105 (from torch>=1.11.0->sentence-transformers)\n",
            "  Using cached nvidia_cuda_runtime_cu12-12.1.105-py3-none-manylinux1_x86_64.whl (823 kB)\n",
            "Collecting nvidia-cuda-cupti-cu12==12.1.105 (from torch>=1.11.0->sentence-transformers)\n",
            "  Using cached nvidia_cuda_cupti_cu12-12.1.105-py3-none-manylinux1_x86_64.whl (14.1 MB)\n",
            "Collecting nvidia-cudnn-cu12==8.9.2.26 (from torch>=1.11.0->sentence-transformers)\n",
            "  Using cached nvidia_cudnn_cu12-8.9.2.26-py3-none-manylinux1_x86_64.whl (731.7 MB)\n",
            "Collecting nvidia-cublas-cu12==12.1.3.1 (from torch>=1.11.0->sentence-transformers)\n",
            "  Using cached nvidia_cublas_cu12-12.1.3.1-py3-none-manylinux1_x86_64.whl (410.6 MB)\n",
            "Collecting nvidia-cufft-cu12==11.0.2.54 (from torch>=1.11.0->sentence-transformers)\n",
            "  Using cached nvidia_cufft_cu12-11.0.2.54-py3-none-manylinux1_x86_64.whl (121.6 MB)\n",
            "Collecting nvidia-curand-cu12==10.3.2.106 (from torch>=1.11.0->sentence-transformers)\n",
            "  Using cached nvidia_curand_cu12-10.3.2.106-py3-none-manylinux1_x86_64.whl (56.5 MB)\n",
            "Collecting nvidia-cusolver-cu12==11.4.5.107 (from torch>=1.11.0->sentence-transformers)\n",
            "  Using cached nvidia_cusolver_cu12-11.4.5.107-py3-none-manylinux1_x86_64.whl (124.2 MB)\n",
            "Collecting nvidia-cusparse-cu12==12.1.0.106 (from torch>=1.11.0->sentence-transformers)\n",
            "  Using cached nvidia_cusparse_cu12-12.1.0.106-py3-none-manylinux1_x86_64.whl (196.0 MB)\n",
            "Collecting nvidia-nccl-cu12==2.19.3 (from torch>=1.11.0->sentence-transformers)\n",
            "  Using cached nvidia_nccl_cu12-2.19.3-py3-none-manylinux1_x86_64.whl (166.0 MB)\n",
            "Collecting nvidia-nvtx-cu12==12.1.105 (from torch>=1.11.0->sentence-transformers)\n",
            "  Using cached nvidia_nvtx_cu12-12.1.105-py3-none-manylinux1_x86_64.whl (99 kB)\n",
            "Requirement already satisfied: triton==2.2.0 in /usr/local/lib/python3.10/dist-packages (from torch>=1.11.0->sentence-transformers) (2.2.0)\n",
            "Collecting nvidia-nvjitlink-cu12 (from nvidia-cusolver-cu12==11.4.5.107->torch>=1.11.0->sentence-transformers)\n",
            "  Using cached nvidia_nvjitlink_cu12-12.4.127-py3-none-manylinux2014_x86_64.whl (21.1 MB)\n",
            "Requirement already satisfied: regex!=2019.12.17 in /usr/local/lib/python3.10/dist-packages (from transformers<5.0.0,>=4.34.0->sentence-transformers) (2023.12.25)\n",
            "Requirement already satisfied: tokenizers<0.20,>=0.19 in /usr/local/lib/python3.10/dist-packages (from transformers<5.0.0,>=4.34.0->sentence-transformers) (0.19.1)\n",
            "Requirement already satisfied: safetensors>=0.4.1 in /usr/local/lib/python3.10/dist-packages (from transformers<5.0.0,>=4.34.0->sentence-transformers) (0.4.3)\n",
            "Requirement already satisfied: joblib>=1.1.1 in /usr/local/lib/python3.10/dist-packages (from scikit-learn->sentence-transformers) (1.4.0)\n",
            "Requirement already satisfied: threadpoolctl>=2.0.0 in /usr/local/lib/python3.10/dist-packages (from scikit-learn->sentence-transformers) (3.4.0)\n",
            "Requirement already satisfied: MarkupSafe>=2.0 in /usr/local/lib/python3.10/dist-packages (from jinja2->torch>=1.11.0->sentence-transformers) (2.1.5)\n",
            "Requirement already satisfied: charset-normalizer<4,>=2 in /usr/local/lib/python3.10/dist-packages (from requests->huggingface-hub>=0.15.1->sentence-transformers) (3.3.2)\n",
            "Requirement already satisfied: idna<4,>=2.5 in /usr/local/lib/python3.10/dist-packages (from requests->huggingface-hub>=0.15.1->sentence-transformers) (3.7)\n",
            "Requirement already satisfied: urllib3<3,>=1.21.1 in /usr/local/lib/python3.10/dist-packages (from requests->huggingface-hub>=0.15.1->sentence-transformers) (2.0.7)\n",
            "Requirement already satisfied: certifi>=2017.4.17 in /usr/local/lib/python3.10/dist-packages (from requests->huggingface-hub>=0.15.1->sentence-transformers) (2024.2.2)\n",
            "Requirement already satisfied: mpmath>=0.19 in /usr/local/lib/python3.10/dist-packages (from sympy->torch>=1.11.0->sentence-transformers) (1.3.0)\n",
            "Installing collected packages: nvidia-nvtx-cu12, nvidia-nvjitlink-cu12, nvidia-nccl-cu12, nvidia-curand-cu12, nvidia-cufft-cu12, nvidia-cuda-runtime-cu12, nvidia-cuda-nvrtc-cu12, nvidia-cuda-cupti-cu12, nvidia-cublas-cu12, nvidia-cusparse-cu12, nvidia-cudnn-cu12, nvidia-cusolver-cu12, sentence-transformers\n",
            "Successfully installed nvidia-cublas-cu12-12.1.3.1 nvidia-cuda-cupti-cu12-12.1.105 nvidia-cuda-nvrtc-cu12-12.1.105 nvidia-cuda-runtime-cu12-12.1.105 nvidia-cudnn-cu12-8.9.2.26 nvidia-cufft-cu12-11.0.2.54 nvidia-curand-cu12-10.3.2.106 nvidia-cusolver-cu12-11.4.5.107 nvidia-cusparse-cu12-12.1.0.106 nvidia-nccl-cu12-2.19.3 nvidia-nvjitlink-cu12-12.4.127 nvidia-nvtx-cu12-12.1.105 sentence-transformers-2.7.0\n",
            "Collecting faiss-cpu\n",
            "  Downloading faiss_cpu-1.8.0-cp310-cp310-manylinux_2_17_x86_64.manylinux2014_x86_64.whl (27.0 MB)\n",
            "\u001b[2K     \u001b[90m━━━━━━━━━━━━━━━━━━━━━━━━━━━━━━━━━━━━━━━━\u001b[0m \u001b[32m27.0/27.0 MB\u001b[0m \u001b[31m24.3 MB/s\u001b[0m eta \u001b[36m0:00:00\u001b[0m\n",
            "\u001b[?25hRequirement already satisfied: numpy in /usr/local/lib/python3.10/dist-packages (from faiss-cpu) (1.25.2)\n",
            "Installing collected packages: faiss-cpu\n",
            "Successfully installed faiss-cpu-1.8.0\n",
            "Collecting bs4\n",
            "  Downloading bs4-0.0.2-py2.py3-none-any.whl (1.2 kB)\n",
            "Requirement already satisfied: beautifulsoup4 in /usr/local/lib/python3.10/dist-packages (from bs4) (4.12.3)\n",
            "Requirement already satisfied: soupsieve>1.2 in /usr/local/lib/python3.10/dist-packages (from beautifulsoup4->bs4) (2.5)\n",
            "Installing collected packages: bs4\n",
            "Successfully installed bs4-0.0.2\n"
          ]
        }
      ]
    },
    {
      "cell_type": "code",
      "source": [
        "from langchain_community.embeddings import HuggingFaceEmbeddings\n",
        "from langchain_community.vectorstores import FAISS\n",
        "from langchain.text_splitter import RecursiveCharacterTextSplitter\n",
        "from langchain_community.document_loaders import WebBaseLoader\n",
        "import bs4\n",
        "\n",
        "# Step 1: Load the document from a web url\n",
        "loader = WebBaseLoader([\"https://huggingface.co/blog/llama3\"])\n",
        "documents = loader.load()\n",
        "\n",
        "# Step 2: Split the document into chunks with a specified chunk size\n",
        "text_splitter = RecursiveCharacterTextSplitter(chunk_size=500, chunk_overlap=50)\n",
        "all_splits = text_splitter.split_documents(documents)\n",
        "\n",
        "# Step 3: Store the document into a vector store with a specific embedding model\n",
        "vectorstore = FAISS.from_documents(all_splits, HuggingFaceEmbeddings(model_name=\"sentence-transformers/all-mpnet-base-v2\"))\n"
      ],
      "metadata": {
        "id": "rmQt-NREWXW_",
        "colab": {
          "base_uri": "https://localhost:8080/",
          "height": 493,
          "referenced_widgets": [
            "be8b9a9dd0ee44e086c0c7639457999c",
            "4272303c8a734bef97417949786c2353",
            "5eb6e73a0845415c95d121462675f68d",
            "727a7ab7577b42db8cd0ff958c57ee69",
            "a9e5f3b0f53344f2bcfc8a4fb95e433b",
            "ce63ce1b32e74330a84615110b131e1f",
            "3cfd209710b64854b207b8c0860f988f",
            "51227f19e3524c5b9a058ca1c906f407",
            "2c51c835e99a4c1797b144b11b66821f",
            "3431b1ac80e442fd9659649212450049",
            "875c9eb051d24cd89dbbce39287198dd",
            "f3f24351ecf6440d821dbceb544d8950",
            "008f1196fc674669ba031104346a9916",
            "768bc60283f5446d847b10421a72c1e0",
            "b782e1f7b1e44a85aa6fb3c79ef07d82",
            "19558eaf156c49f1a46dbf98c3dfe080",
            "1d04773795f74abb9fe89af655bf7bc5",
            "bca7716603684543a09b4ee2ecaa760b",
            "9cfac12580bc4d3d94539895c62100e2",
            "2a5fd42b49a54052b15bdbcd1076d76b",
            "ebefa07ecf6c4f43b3e3bc323d487008",
            "3c2ee40262b44e2d9adef88e74523346",
            "efd433f6f9394a7483dc184283c5b6b4",
            "f555b58f1e884af2acdbb17a144f33b4",
            "64eeaf1e0e01480bbbab037b3e514ee5",
            "9a17eec896cd401cb6f789bd518b2f7c",
            "6ed5e7fd47784d0c928bb57c0d973b08",
            "2d5c0d72e0c245f28c022369731f1986",
            "cf3905fc13d440bfa5b140efc07d6822",
            "2c59a3a55efb4a56ae2c105523216d78",
            "2e4b7ae43eb54272a302a8416e80ab7e",
            "6781a38730c64510925a2f4f0e4b8f1d",
            "bf861202bf514a70b23629dbb6a85251",
            "503fb5eefd4347f0a6d8e93d2384443f",
            "6417f711727544fd8dc8670943657231",
            "4afcb524ef5e46869fc91044eb9a1682",
            "912ea1aaac3142c09f920aaeab1c96f6",
            "e53b4070f90c43abb4dff3e30cc4864d",
            "9de66829caf64f6fb6e2f1090e021469",
            "58e09c8314c144c19fc59d3873a759b1",
            "1f0f0ff4d6c246bf89994e4fa2d405ec",
            "0ce6ea338da5429e84952b5546ee0bf5",
            "dd18172334574b3eabda334511a42f5c",
            "cf165d8b147d439ea5377152be5d9783",
            "86efe698c1874199a966538a260020e4",
            "4050251bca4e44aea070bb55b41ae249",
            "f000f456b2694e7a844f715bed6c9ba1",
            "484e9e13ed6f471f8715a9470bbf1447",
            "d6ca226b25c4412f9c97f80c0b21e337",
            "5e4ebe0bb5a94a5eb1ec60d4694b8be1",
            "f1000bbf3409439081db313460205222",
            "5034c2436ece4dd4b8a2736e50f7139c",
            "6b04b19e0dda4a9f821fb819df6780f9",
            "e6f87bdf9b0c496b8f737ff8a20bffc4",
            "5b4a14bc83d94e8f932a9550c112cf67",
            "45e00575d1f044b4bebe77660cf36f91",
            "d5964eb87b19407d945dc1b76baa46e9",
            "ccec6d186c004a3a92075e3ef9b559ba",
            "f688125fb4b74b9c8b224e4eab5bb26b",
            "80f9587f297b4c2d8f6385d6f9cd6ef0",
            "5c509578a1904920885201962958ab78",
            "1e792300a7f946e09b573a0a5647468f",
            "a82b330b4f3147fca22dbf6c7e3f08ba",
            "32ba17eba72b45d5afeaf74fb6dbce97",
            "1ec5d8a6b7a5424ca91c314fe3958c81",
            "ea5bf33105de4039bd87b089a8720f31",
            "69d617f5308f4f36bb35baf362bc25a6",
            "91443acd96264b079de78874192e669e",
            "006de81004c647098ccb26105eea0d6b",
            "250c6646f08941f98aee85a0a7209a3b",
            "d77a08b611cd43199deabe06fd6e0388",
            "3a7b59ec81ae479491869b769dc81226",
            "bb71f0f0312b415493309d6e37914874",
            "852abdc36bf44cbda57507c45ad7ea0a",
            "394e10b1117a41ad8af0f0a1d0594b35",
            "9c37eccf580341c19b1bc5bbf1f40574",
            "79163d0fb1d14d4cabc24fc20e37877e",
            "4e539e514969455a8ffa1a2fe963cf40",
            "e236927b973a4778baff38f4fe9bde49",
            "132e90ef6d07464288f0fdc3589250a3",
            "b294ed4dbd844fa685b71142a5862f15",
            "5990fcb08d3542f18b193b33254ff2e0",
            "477eced548434b1ba22a06cc28a4c8da",
            "f1672195ff65462e9442ccdd37175f50",
            "ea6a0df408404f64b2a0dceab78a446c",
            "7819cb21fc03410b8fbc27b426aec545",
            "e49c639553b54b0393301da133f0ad15",
            "21d1516ef80f462c86624f28f590e23e",
            "198265fa4bc643709d3c7a5ef50263d9",
            "aed8043ecfde4f3492205d8cbb75c5fc",
            "3250c118e66d4a11a8f8fe963070e244",
            "e77378f5ab894620b5d5096ae9e6e2aa",
            "b3a53bacc2f3439a9e5eea4326271e53",
            "749f2e86b02a476782ba3d6bc66fd2fc",
            "cc136aa70fd745af8feaf46d462b6f50",
            "ceb6dea248c54dd0806daef962c989c7",
            "53ccfc631ca446a99f5bb7c9c003db79",
            "e8bb241f24784f9fa951fd665dfc7aea",
            "01719f6c701e4fb28d01376a43840db3",
            "e6c82afcab254c79a40fe9280b1c8d32",
            "581086ca36e5466b871b0ee98832b6ee",
            "f11f11be7c7c40bd853d49a6db5c5df9",
            "d082a6fba2304a5dbb761c226663e642",
            "f33bb92eb7514436b9b5df65ed2f7ad3",
            "afe2554dea764deb9854efc1b6c5154a",
            "0c73f5072ea74e56baa7ff96a48539b5",
            "4b97c0a65b8a4bd1a1571484f4706bba",
            "82b5e52668be48e6bac2a313774fee12",
            "b4bd1232de2b409cb345537cfa7cca50",
            "a23a349bf35344f6a9ccc91319b43ed3",
            "1953afc095e641079683e2606ffa6b32",
            "fb224c8b02284e77a97080ec7ed1a1a5",
            "b1f70c6a04cf4800baa39f78f4af2534",
            "f6045b6bb24047ef95c4795e15b84f9d",
            "b9a47154c48c4346a1e6e1c37b348b4d",
            "8dbdf4bc100142509481f0ac62181e92",
            "a72a37c4289c4b0a9187abe7461684b5",
            "689cf1cbe52b467a84400fccce237e62",
            "c0dad38b5a274f4a98c705ef0a8d3181",
            "f64bdd4f59f9454b8489a72eaaed5736",
            "68f76163a79846f499d4e15006271180"
          ]
        },
        "outputId": "3fcaede3-d3ea-4c31-cdf2-c90274bc98c4"
      },
      "execution_count": 58,
      "outputs": [
        {
          "output_type": "stream",
          "name": "stderr",
          "text": [
            "/usr/local/lib/python3.10/dist-packages/huggingface_hub/utils/_token.py:88: UserWarning: \n",
            "The secret `HF_TOKEN` does not exist in your Colab secrets.\n",
            "To authenticate with the Hugging Face Hub, create a token in your settings tab (https://huggingface.co/settings/tokens), set it as secret in your Google Colab and restart your session.\n",
            "You will be able to reuse this secret in all of your notebooks.\n",
            "Please note that authentication is recommended but still optional to access public models or datasets.\n",
            "  warnings.warn(\n"
          ]
        },
        {
          "output_type": "display_data",
          "data": {
            "text/plain": [
              "modules.json:   0%|          | 0.00/349 [00:00<?, ?B/s]"
            ],
            "application/vnd.jupyter.widget-view+json": {
              "version_major": 2,
              "version_minor": 0,
              "model_id": "be8b9a9dd0ee44e086c0c7639457999c"
            }
          },
          "metadata": {}
        },
        {
          "output_type": "display_data",
          "data": {
            "text/plain": [
              "config_sentence_transformers.json:   0%|          | 0.00/116 [00:00<?, ?B/s]"
            ],
            "application/vnd.jupyter.widget-view+json": {
              "version_major": 2,
              "version_minor": 0,
              "model_id": "f3f24351ecf6440d821dbceb544d8950"
            }
          },
          "metadata": {}
        },
        {
          "output_type": "display_data",
          "data": {
            "text/plain": [
              "README.md:   0%|          | 0.00/10.6k [00:00<?, ?B/s]"
            ],
            "application/vnd.jupyter.widget-view+json": {
              "version_major": 2,
              "version_minor": 0,
              "model_id": "efd433f6f9394a7483dc184283c5b6b4"
            }
          },
          "metadata": {}
        },
        {
          "output_type": "display_data",
          "data": {
            "text/plain": [
              "sentence_bert_config.json:   0%|          | 0.00/53.0 [00:00<?, ?B/s]"
            ],
            "application/vnd.jupyter.widget-view+json": {
              "version_major": 2,
              "version_minor": 0,
              "model_id": "503fb5eefd4347f0a6d8e93d2384443f"
            }
          },
          "metadata": {}
        },
        {
          "output_type": "display_data",
          "data": {
            "text/plain": [
              "config.json:   0%|          | 0.00/571 [00:00<?, ?B/s]"
            ],
            "application/vnd.jupyter.widget-view+json": {
              "version_major": 2,
              "version_minor": 0,
              "model_id": "86efe698c1874199a966538a260020e4"
            }
          },
          "metadata": {}
        },
        {
          "output_type": "display_data",
          "data": {
            "text/plain": [
              "model.safetensors:   0%|          | 0.00/438M [00:00<?, ?B/s]"
            ],
            "application/vnd.jupyter.widget-view+json": {
              "version_major": 2,
              "version_minor": 0,
              "model_id": "45e00575d1f044b4bebe77660cf36f91"
            }
          },
          "metadata": {}
        },
        {
          "output_type": "display_data",
          "data": {
            "text/plain": [
              "tokenizer_config.json:   0%|          | 0.00/363 [00:00<?, ?B/s]"
            ],
            "application/vnd.jupyter.widget-view+json": {
              "version_major": 2,
              "version_minor": 0,
              "model_id": "69d617f5308f4f36bb35baf362bc25a6"
            }
          },
          "metadata": {}
        },
        {
          "output_type": "display_data",
          "data": {
            "text/plain": [
              "vocab.txt:   0%|          | 0.00/232k [00:00<?, ?B/s]"
            ],
            "application/vnd.jupyter.widget-view+json": {
              "version_major": 2,
              "version_minor": 0,
              "model_id": "4e539e514969455a8ffa1a2fe963cf40"
            }
          },
          "metadata": {}
        },
        {
          "output_type": "display_data",
          "data": {
            "text/plain": [
              "tokenizer.json:   0%|          | 0.00/466k [00:00<?, ?B/s]"
            ],
            "application/vnd.jupyter.widget-view+json": {
              "version_major": 2,
              "version_minor": 0,
              "model_id": "198265fa4bc643709d3c7a5ef50263d9"
            }
          },
          "metadata": {}
        },
        {
          "output_type": "display_data",
          "data": {
            "text/plain": [
              "special_tokens_map.json:   0%|          | 0.00/239 [00:00<?, ?B/s]"
            ],
            "application/vnd.jupyter.widget-view+json": {
              "version_major": 2,
              "version_minor": 0,
              "model_id": "e6c82afcab254c79a40fe9280b1c8d32"
            }
          },
          "metadata": {}
        },
        {
          "output_type": "display_data",
          "data": {
            "text/plain": [
              "1_Pooling/config.json:   0%|          | 0.00/190 [00:00<?, ?B/s]"
            ],
            "application/vnd.jupyter.widget-view+json": {
              "version_major": 2,
              "version_minor": 0,
              "model_id": "1953afc095e641079683e2606ffa6b32"
            }
          },
          "metadata": {}
        }
      ]
    },
    {
      "cell_type": "code",
      "source": [
        "from langchain_community.llms import Replicate\n",
        "llm = Replicate(\n",
        "    model=\"meta/meta-llama-3-8b-instruct\",\n",
        "    model_kwargs={\"temperature\": 0.0, \"top_p\": 1, \"max_new_tokens\":500}\n",
        ")\n",
        "\n",
        "from langchain.chains import ConversationalRetrievalChain\n",
        "chain = ConversationalRetrievalChain.from_llm(llm,\n",
        "                                              vectorstore.as_retriever(),\n",
        "                                              return_source_documents=True)\n",
        "\n",
        "result = chain({\"question\": \"What’s new with Llama 3?\", \"chat_history\": []})\n",
        "md(result['answer'])\n"
      ],
      "metadata": {
        "colab": {
          "base_uri": "https://localhost:8080/",
          "height": 118
        },
        "id": "MQkn4wWSWyER",
        "outputId": "ac7789a2-5a1e-4755-e5c8-2881afcf5ef4"
      },
      "execution_count": 59,
      "outputs": [
        {
          "output_type": "stream",
          "name": "stderr",
          "text": [
            "/usr/local/lib/python3.10/dist-packages/langchain_core/_api/deprecation.py:119: LangChainDeprecationWarning: The method `Chain.__call__` was deprecated in langchain 0.1.0 and will be removed in 0.2.0. Use invoke instead.\n",
            "  warn_deprecated(\n"
          ]
        },
        {
          "output_type": "display_data",
          "data": {
            "text/plain": [
              "<IPython.core.display.Markdown object>"
            ],
            "text/markdown": "According to the text, the main new feature of Llama 3 is the use of a new tokenizer that expands the vocabulary size to 128,256 (from 32K tokens in the previous version). This larger vocabulary can encode text more efficiently (both for input and output) and potentially yield stronger multilingualism."
          },
          "metadata": {}
        }
      ]
    },
    {
      "cell_type": "markdown",
      "source": [
        "There's a new way of building advanced RAG by using LangChain Expresssion Language. See [here](https://python.langchain.com/docs/use_cases/question_answering/quickstart/) for more info."
      ],
      "metadata": {
        "id": "lzbWecYQd9VY"
      }
    },
    {
      "cell_type": "markdown",
      "metadata": {
        "id": "TEvefAWIJONx"
      },
      "source": [
        "## **5 - Fine-Tuning Models**\n",
        "\n",
        "* Limitations of Prompt Eng and RAG\n",
        "* Fine-Tuning\n",
        "* Types (PEFT, LoRA, QLoRA)\n",
        "* Evals + Quality\n",
        "\n",
        "* PyTorch for Pre-Training & Fine-Tuning\n"
      ]
    },
    {
      "cell_type": "code",
      "execution_count": 60,
      "metadata": {
        "id": "0a9CvJ8YcTzV",
        "outputId": "bfd25be2-c186-4f62-b048-279db38cb6bc",
        "colab": {
          "base_uri": "https://localhost:8080/",
          "height": 78
        }
      },
      "outputs": [
        {
          "output_type": "display_data",
          "data": {
            "text/html": [
              "<img src=\"https://mermaid.ink/img/CiAgZ3JhcGggTFI7CiAgICAgIEN1c3RvbV9EYXRhc2V0IC0tPiBQcmUtdHJhaW5lZF9MbGFtYQogICAgICBQcmUtdHJhaW5lZF9MbGFtYSAtLT4gRmluZS10dW5lZF9MbGFtYQogICAgICBGaW5lLXR1bmVkX0xsYW1hIC0tPiBSTEhGCiAgICAgIFJMSEYgLS0+IHxMb3NzOkNyb3NzLUVudHJvcHl8RmluZS10dW5lZF9MbGFtYQogICAgICBjbGFzc0RlZiBkZWZhdWx0IGZpbGw6I0NDRTZGRixzdHJva2U6Izg0QkNGNSx0ZXh0Q29sb3I6IzFDMkIzMyxmb250RmFtaWx5OnRyZWJ1Y2hldCBtczsKICA=\"/>"
            ],
            "text/plain": [
              "<IPython.core.display.Image object>"
            ]
          },
          "metadata": {}
        }
      ],
      "source": [
        "fine_tuned_arch()"
      ]
    },
    {
      "cell_type": "markdown",
      "metadata": {
        "id": "tXSwZziL3bE0"
      },
      "source": [
        "### **5.1 - Types Of Fine-Tuning**\n",
        "\n",
        "1. Full Parameter Fine-Tuning - Best performance, resource intensive and time consuming\n",
        "2. PEFT (Parameter Efficient Fine-Tuning)\n",
        "\n",
        "  2.1 - LoRA (Low Rank Adaptation)\n",
        "\n",
        "  2.2 - QLoRA (Quantized LoRA)\n",
        "\n"
      ]
    },
    {
      "cell_type": "markdown",
      "metadata": {
        "id": "GozTWQwi7f4d"
      },
      "source": [
        "### **5.2 - Examples of Fine-Tuning**\n",
        "\n",
        "1. [Meta Llama Recipes](https://github.com/meta-llama/llama-recipes/tree/main/recipes/finetuning)\n",
        "2. [Hugging Face fine-tuning with Llama 3](https://huggingface.co/blog/llama3#fine-tuning-with-%F0%9F%A4%97-trl)"
      ]
    },
    {
      "cell_type": "markdown",
      "metadata": {
        "id": "_8lcgdZa8onC"
      },
      "source": [
        "## **6 - Responsible AI**\n",
        "\n",
        "* Power + Responsibility\n",
        "* Hallucination\n",
        "* Input & Output Safety\n",
        "* Red-teaming (simulating real-world cyber attackers)\n",
        "* Review [Responsible Use Guide](https://ai.meta.com/llama/responsible-use-guide/)\n",
        "\n"
      ]
    },
    {
      "cell_type": "markdown",
      "metadata": {
        "id": "pbqb006R-T_k"
      },
      "source": [
        "##**7 - Conclusion**\n",
        "* Active research on LLMs and Llama\n",
        "* Leverage the power of Llama and its open community (Github - 45k stars, 8k forks)\n",
        "* Call-To-Action\n",
        "  * Build a project using Llama!\n",
        "  * Interested in contributing to Llama?\n"
      ]
    },
    {
      "cell_type": "markdown",
      "metadata": {
        "id": "gSz5dTMxp7xo"
      },
      "source": [
        "#### **Resources**\n",
        "* [Meta Llama 3 Blog](https://ai.meta.com/blog/meta-llama-3/)\n",
        "* [Getting Started with Meta Llama](https://llama.meta.com/docs/get-started)\n",
        "- [Llama 3 repo](https://github.com/meta-llama/llama3)\n",
        "- [Llama 3 model card](https://github.com/meta-llama/llama3/blob/main/MODEL_CARD.md)\n",
        "- [LLama 3 Recipes repo](https://github.com/meta-llama/llama-recipes)\n",
        "- [Responsible Use Guide](https://ai.meta.com/llama/responsible-use-guide/)\n",
        "- [Acceptable Use Policy](https://ai.meta.com/llama/use-policy/)\n",
        "\n"
      ]
    },
    {
      "cell_type": "markdown",
      "metadata": {
        "id": "V7aI6fhZp-KC"
      },
      "source": [
        "#### **Author** - Amit Sangani, Director, AI Partner Engineering @Meta\n",
        "\n",
        "1. LinkedIn - https://www.linkedin.com/in/amitsangani\n",
        "\n",
        "![bit.ly_amit-li.png](data:image/png;base64,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)\n",
        "\n",
        "2. Github - https://github.com/amitsangani\n",
        "\n",
        "![bit.ly_amit-github.png](data:image/png;base64,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)\n"
      ]
    }
  ],
  "metadata": {
    "colab": {
      "provenance": [],
      "toc_visible": true,
      "collapsed_sections": [
        "ioVMNcTesSEk"
      ],
      "include_colab_link": true
    },
    "kernelspec": {
      "display_name": "Python 3",
      "name": "python3"
    },
    "language_info": {
      "codemirror_mode": {
        "name": "ipython",
        "version": 3
      },
      "file_extension": ".py",
      "mimetype": "text/x-python",
      "name": "python",
      "nbconvert_exporter": "python",
      "pygments_lexer": "ipython3",
      "version": "3.8.18"
    },
    "widgets": {
      "application/vnd.jupyter.widget-state+json": {
        "be8b9a9dd0ee44e086c0c7639457999c": {
          "model_module": "@jupyter-widgets/controls",
          "model_name": "HBoxModel",
          "model_module_version": "1.5.0",
          "state": {
            "_dom_classes": [],
            "_model_module": "@jupyter-widgets/controls",
            "_model_module_version": "1.5.0",
            "_model_name": "HBoxModel",
            "_view_count": null,
            "_view_module": "@jupyter-widgets/controls",
            "_view_module_version": "1.5.0",
            "_view_name": "HBoxView",
            "box_style": "",
            "children": [
              "IPY_MODEL_4272303c8a734bef97417949786c2353",
              "IPY_MODEL_5eb6e73a0845415c95d121462675f68d",
              "IPY_MODEL_727a7ab7577b42db8cd0ff958c57ee69"
            ],
            "layout": "IPY_MODEL_a9e5f3b0f53344f2bcfc8a4fb95e433b"
          }
        },
        "4272303c8a734bef97417949786c2353": {
          "model_module": "@jupyter-widgets/controls",
          "model_name": "HTMLModel",
          "model_module_version": "1.5.0",
          "state": {
            "_dom_classes": [],
            "_model_module": "@jupyter-widgets/controls",
            "_model_module_version": "1.5.0",
            "_model_name": "HTMLModel",
            "_view_count": null,
            "_view_module": "@jupyter-widgets/controls",
            "_view_module_version": "1.5.0",
            "_view_name": "HTMLView",
            "description": "",
            "description_tooltip": null,
            "layout": "IPY_MODEL_ce63ce1b32e74330a84615110b131e1f",
            "placeholder": "​",
            "style": "IPY_MODEL_3cfd209710b64854b207b8c0860f988f",
            "value": "modules.json: 100%"
          }
        },
        "5eb6e73a0845415c95d121462675f68d": {
          "model_module": "@jupyter-widgets/controls",
          "model_name": "FloatProgressModel",
          "model_module_version": "1.5.0",
          "state": {
            "_dom_classes": [],
            "_model_module": "@jupyter-widgets/controls",
            "_model_module_version": "1.5.0",
            "_model_name": "FloatProgressModel",
            "_view_count": null,
            "_view_module": "@jupyter-widgets/controls",
            "_view_module_version": "1.5.0",
            "_view_name": "ProgressView",
            "bar_style": "success",
            "description": "",
            "description_tooltip": null,
            "layout": "IPY_MODEL_51227f19e3524c5b9a058ca1c906f407",
            "max": 349,
            "min": 0,
            "orientation": "horizontal",
            "style": "IPY_MODEL_2c51c835e99a4c1797b144b11b66821f",
            "value": 349
          }
        },
        "727a7ab7577b42db8cd0ff958c57ee69": {
          "model_module": "@jupyter-widgets/controls",
          "model_name": "HTMLModel",
          "model_module_version": "1.5.0",
          "state": {
            "_dom_classes": [],
            "_model_module": "@jupyter-widgets/controls",
            "_model_module_version": "1.5.0",
            "_model_name": "HTMLModel",
            "_view_count": null,
            "_view_module": "@jupyter-widgets/controls",
            "_view_module_version": "1.5.0",
            "_view_name": "HTMLView",
            "description": "",
            "description_tooltip": null,
            "layout": "IPY_MODEL_3431b1ac80e442fd9659649212450049",
            "placeholder": "​",
            "style": "IPY_MODEL_875c9eb051d24cd89dbbce39287198dd",
            "value": " 349/349 [00:00&lt;00:00, 16.6kB/s]"
          }
        },
        "a9e5f3b0f53344f2bcfc8a4fb95e433b": {
          "model_module": "@jupyter-widgets/base",
          "model_name": "LayoutModel",
          "model_module_version": "1.2.0",
          "state": {
            "_model_module": "@jupyter-widgets/base",
            "_model_module_version": "1.2.0",
            "_model_name": "LayoutModel",
            "_view_count": null,
            "_view_module": "@jupyter-widgets/base",
            "_view_module_version": "1.2.0",
            "_view_name": "LayoutView",
            "align_content": null,
            "align_items": null,
            "align_self": null,
            "border": null,
            "bottom": null,
            "display": null,
            "flex": null,
            "flex_flow": null,
            "grid_area": null,
            "grid_auto_columns": null,
            "grid_auto_flow": null,
            "grid_auto_rows": null,
            "grid_column": null,
            "grid_gap": null,
            "grid_row": null,
            "grid_template_areas": null,
            "grid_template_columns": null,
            "grid_template_rows": null,
            "height": null,
            "justify_content": null,
            "justify_items": null,
            "left": null,
            "margin": null,
            "max_height": null,
            "max_width": null,
            "min_height": null,
            "min_width": null,
            "object_fit": null,
            "object_position": null,
            "order": null,
            "overflow": null,
            "overflow_x": null,
            "overflow_y": null,
            "padding": null,
            "right": null,
            "top": null,
            "visibility": null,
            "width": null
          }
        },
        "ce63ce1b32e74330a84615110b131e1f": {
          "model_module": "@jupyter-widgets/base",
          "model_name": "LayoutModel",
          "model_module_version": "1.2.0",
          "state": {
            "_model_module": "@jupyter-widgets/base",
            "_model_module_version": "1.2.0",
            "_model_name": "LayoutModel",
            "_view_count": null,
            "_view_module": "@jupyter-widgets/base",
            "_view_module_version": "1.2.0",
            "_view_name": "LayoutView",
            "align_content": null,
            "align_items": null,
            "align_self": null,
            "border": null,
            "bottom": null,
            "display": null,
            "flex": null,
            "flex_flow": null,
            "grid_area": null,
            "grid_auto_columns": null,
            "grid_auto_flow": null,
            "grid_auto_rows": null,
            "grid_column": null,
            "grid_gap": null,
            "grid_row": null,
            "grid_template_areas": null,
            "grid_template_columns": null,
            "grid_template_rows": null,
            "height": null,
            "justify_content": null,
            "justify_items": null,
            "left": null,
            "margin": null,
            "max_height": null,
            "max_width": null,
            "min_height": null,
            "min_width": null,
            "object_fit": null,
            "object_position": null,
            "order": null,
            "overflow": null,
            "overflow_x": null,
            "overflow_y": null,
            "padding": null,
            "right": null,
            "top": null,
            "visibility": null,
            "width": null
          }
        },
        "3cfd209710b64854b207b8c0860f988f": {
          "model_module": "@jupyter-widgets/controls",
          "model_name": "DescriptionStyleModel",
          "model_module_version": "1.5.0",
          "state": {
            "_model_module": "@jupyter-widgets/controls",
            "_model_module_version": "1.5.0",
            "_model_name": "DescriptionStyleModel",
            "_view_count": null,
            "_view_module": "@jupyter-widgets/base",
            "_view_module_version": "1.2.0",
            "_view_name": "StyleView",
            "description_width": ""
          }
        },
        "51227f19e3524c5b9a058ca1c906f407": {
          "model_module": "@jupyter-widgets/base",
          "model_name": "LayoutModel",
          "model_module_version": "1.2.0",
          "state": {
            "_model_module": "@jupyter-widgets/base",
            "_model_module_version": "1.2.0",
            "_model_name": "LayoutModel",
            "_view_count": null,
            "_view_module": "@jupyter-widgets/base",
            "_view_module_version": "1.2.0",
            "_view_name": "LayoutView",
            "align_content": null,
            "align_items": null,
            "align_self": null,
            "border": null,
            "bottom": null,
            "display": null,
            "flex": null,
            "flex_flow": null,
            "grid_area": null,
            "grid_auto_columns": null,
            "grid_auto_flow": null,
            "grid_auto_rows": null,
            "grid_column": null,
            "grid_gap": null,
            "grid_row": null,
            "grid_template_areas": null,
            "grid_template_columns": null,
            "grid_template_rows": null,
            "height": null,
            "justify_content": null,
            "justify_items": null,
            "left": null,
            "margin": null,
            "max_height": null,
            "max_width": null,
            "min_height": null,
            "min_width": null,
            "object_fit": null,
            "object_position": null,
            "order": null,
            "overflow": null,
            "overflow_x": null,
            "overflow_y": null,
            "padding": null,
            "right": null,
            "top": null,
            "visibility": null,
            "width": null
          }
        },
        "2c51c835e99a4c1797b144b11b66821f": {
          "model_module": "@jupyter-widgets/controls",
          "model_name": "ProgressStyleModel",
          "model_module_version": "1.5.0",
          "state": {
            "_model_module": "@jupyter-widgets/controls",
            "_model_module_version": "1.5.0",
            "_model_name": "ProgressStyleModel",
            "_view_count": null,
            "_view_module": "@jupyter-widgets/base",
            "_view_module_version": "1.2.0",
            "_view_name": "StyleView",
            "bar_color": null,
            "description_width": ""
          }
        },
        "3431b1ac80e442fd9659649212450049": {
          "model_module": "@jupyter-widgets/base",
          "model_name": "LayoutModel",
          "model_module_version": "1.2.0",
          "state": {
            "_model_module": "@jupyter-widgets/base",
            "_model_module_version": "1.2.0",
            "_model_name": "LayoutModel",
            "_view_count": null,
            "_view_module": "@jupyter-widgets/base",
            "_view_module_version": "1.2.0",
            "_view_name": "LayoutView",
            "align_content": null,
            "align_items": null,
            "align_self": null,
            "border": null,
            "bottom": null,
            "display": null,
            "flex": null,
            "flex_flow": null,
            "grid_area": null,
            "grid_auto_columns": null,
            "grid_auto_flow": null,
            "grid_auto_rows": null,
            "grid_column": null,
            "grid_gap": null,
            "grid_row": null,
            "grid_template_areas": null,
            "grid_template_columns": null,
            "grid_template_rows": null,
            "height": null,
            "justify_content": null,
            "justify_items": null,
            "left": null,
            "margin": null,
            "max_height": null,
            "max_width": null,
            "min_height": null,
            "min_width": null,
            "object_fit": null,
            "object_position": null,
            "order": null,
            "overflow": null,
            "overflow_x": null,
            "overflow_y": null,
            "padding": null,
            "right": null,
            "top": null,
            "visibility": null,
            "width": null
          }
        },
        "875c9eb051d24cd89dbbce39287198dd": {
          "model_module": "@jupyter-widgets/controls",
          "model_name": "DescriptionStyleModel",
          "model_module_version": "1.5.0",
          "state": {
            "_model_module": "@jupyter-widgets/controls",
            "_model_module_version": "1.5.0",
            "_model_name": "DescriptionStyleModel",
            "_view_count": null,
            "_view_module": "@jupyter-widgets/base",
            "_view_module_version": "1.2.0",
            "_view_name": "StyleView",
            "description_width": ""
          }
        },
        "f3f24351ecf6440d821dbceb544d8950": {
          "model_module": "@jupyter-widgets/controls",
          "model_name": "HBoxModel",
          "model_module_version": "1.5.0",
          "state": {
            "_dom_classes": [],
            "_model_module": "@jupyter-widgets/controls",
            "_model_module_version": "1.5.0",
            "_model_name": "HBoxModel",
            "_view_count": null,
            "_view_module": "@jupyter-widgets/controls",
            "_view_module_version": "1.5.0",
            "_view_name": "HBoxView",
            "box_style": "",
            "children": [
              "IPY_MODEL_008f1196fc674669ba031104346a9916",
              "IPY_MODEL_768bc60283f5446d847b10421a72c1e0",
              "IPY_MODEL_b782e1f7b1e44a85aa6fb3c79ef07d82"
            ],
            "layout": "IPY_MODEL_19558eaf156c49f1a46dbf98c3dfe080"
          }
        },
        "008f1196fc674669ba031104346a9916": {
          "model_module": "@jupyter-widgets/controls",
          "model_name": "HTMLModel",
          "model_module_version": "1.5.0",
          "state": {
            "_dom_classes": [],
            "_model_module": "@jupyter-widgets/controls",
            "_model_module_version": "1.5.0",
            "_model_name": "HTMLModel",
            "_view_count": null,
            "_view_module": "@jupyter-widgets/controls",
            "_view_module_version": "1.5.0",
            "_view_name": "HTMLView",
            "description": "",
            "description_tooltip": null,
            "layout": "IPY_MODEL_1d04773795f74abb9fe89af655bf7bc5",
            "placeholder": "​",
            "style": "IPY_MODEL_bca7716603684543a09b4ee2ecaa760b",
            "value": "config_sentence_transformers.json: 100%"
          }
        },
        "768bc60283f5446d847b10421a72c1e0": {
          "model_module": "@jupyter-widgets/controls",
          "model_name": "FloatProgressModel",
          "model_module_version": "1.5.0",
          "state": {
            "_dom_classes": [],
            "_model_module": "@jupyter-widgets/controls",
            "_model_module_version": "1.5.0",
            "_model_name": "FloatProgressModel",
            "_view_count": null,
            "_view_module": "@jupyter-widgets/controls",
            "_view_module_version": "1.5.0",
            "_view_name": "ProgressView",
            "bar_style": "success",
            "description": "",
            "description_tooltip": null,
            "layout": "IPY_MODEL_9cfac12580bc4d3d94539895c62100e2",
            "max": 116,
            "min": 0,
            "orientation": "horizontal",
            "style": "IPY_MODEL_2a5fd42b49a54052b15bdbcd1076d76b",
            "value": 116
          }
        },
        "b782e1f7b1e44a85aa6fb3c79ef07d82": {
          "model_module": "@jupyter-widgets/controls",
          "model_name": "HTMLModel",
          "model_module_version": "1.5.0",
          "state": {
            "_dom_classes": [],
            "_model_module": "@jupyter-widgets/controls",
            "_model_module_version": "1.5.0",
            "_model_name": "HTMLModel",
            "_view_count": null,
            "_view_module": "@jupyter-widgets/controls",
            "_view_module_version": "1.5.0",
            "_view_name": "HTMLView",
            "description": "",
            "description_tooltip": null,
            "layout": "IPY_MODEL_ebefa07ecf6c4f43b3e3bc323d487008",
            "placeholder": "​",
            "style": "IPY_MODEL_3c2ee40262b44e2d9adef88e74523346",
            "value": " 116/116 [00:00&lt;00:00, 4.48kB/s]"
          }
        },
        "19558eaf156c49f1a46dbf98c3dfe080": {
          "model_module": "@jupyter-widgets/base",
          "model_name": "LayoutModel",
          "model_module_version": "1.2.0",
          "state": {
            "_model_module": "@jupyter-widgets/base",
            "_model_module_version": "1.2.0",
            "_model_name": "LayoutModel",
            "_view_count": null,
            "_view_module": "@jupyter-widgets/base",
            "_view_module_version": "1.2.0",
            "_view_name": "LayoutView",
            "align_content": null,
            "align_items": null,
            "align_self": null,
            "border": null,
            "bottom": null,
            "display": null,
            "flex": null,
            "flex_flow": null,
            "grid_area": null,
            "grid_auto_columns": null,
            "grid_auto_flow": null,
            "grid_auto_rows": null,
            "grid_column": null,
            "grid_gap": null,
            "grid_row": null,
            "grid_template_areas": null,
            "grid_template_columns": null,
            "grid_template_rows": null,
            "height": null,
            "justify_content": null,
            "justify_items": null,
            "left": null,
            "margin": null,
            "max_height": null,
            "max_width": null,
            "min_height": null,
            "min_width": null,
            "object_fit": null,
            "object_position": null,
            "order": null,
            "overflow": null,
            "overflow_x": null,
            "overflow_y": null,
            "padding": null,
            "right": null,
            "top": null,
            "visibility": null,
            "width": null
          }
        },
        "1d04773795f74abb9fe89af655bf7bc5": {
          "model_module": "@jupyter-widgets/base",
          "model_name": "LayoutModel",
          "model_module_version": "1.2.0",
          "state": {
            "_model_module": "@jupyter-widgets/base",
            "_model_module_version": "1.2.0",
            "_model_name": "LayoutModel",
            "_view_count": null,
            "_view_module": "@jupyter-widgets/base",
            "_view_module_version": "1.2.0",
            "_view_name": "LayoutView",
            "align_content": null,
            "align_items": null,
            "align_self": null,
            "border": null,
            "bottom": null,
            "display": null,
            "flex": null,
            "flex_flow": null,
            "grid_area": null,
            "grid_auto_columns": null,
            "grid_auto_flow": null,
            "grid_auto_rows": null,
            "grid_column": null,
            "grid_gap": null,
            "grid_row": null,
            "grid_template_areas": null,
            "grid_template_columns": null,
            "grid_template_rows": null,
            "height": null,
            "justify_content": null,
            "justify_items": null,
            "left": null,
            "margin": null,
            "max_height": null,
            "max_width": null,
            "min_height": null,
            "min_width": null,
            "object_fit": null,
            "object_position": null,
            "order": null,
            "overflow": null,
            "overflow_x": null,
            "overflow_y": null,
            "padding": null,
            "right": null,
            "top": null,
            "visibility": null,
            "width": null
          }
        },
        "bca7716603684543a09b4ee2ecaa760b": {
          "model_module": "@jupyter-widgets/controls",
          "model_name": "DescriptionStyleModel",
          "model_module_version": "1.5.0",
          "state": {
            "_model_module": "@jupyter-widgets/controls",
            "_model_module_version": "1.5.0",
            "_model_name": "DescriptionStyleModel",
            "_view_count": null,
            "_view_module": "@jupyter-widgets/base",
            "_view_module_version": "1.2.0",
            "_view_name": "StyleView",
            "description_width": ""
          }
        },
        "9cfac12580bc4d3d94539895c62100e2": {
          "model_module": "@jupyter-widgets/base",
          "model_name": "LayoutModel",
          "model_module_version": "1.2.0",
          "state": {
            "_model_module": "@jupyter-widgets/base",
            "_model_module_version": "1.2.0",
            "_model_name": "LayoutModel",
            "_view_count": null,
            "_view_module": "@jupyter-widgets/base",
            "_view_module_version": "1.2.0",
            "_view_name": "LayoutView",
            "align_content": null,
            "align_items": null,
            "align_self": null,
            "border": null,
            "bottom": null,
            "display": null,
            "flex": null,
            "flex_flow": null,
            "grid_area": null,
            "grid_auto_columns": null,
            "grid_auto_flow": null,
            "grid_auto_rows": null,
            "grid_column": null,
            "grid_gap": null,
            "grid_row": null,
            "grid_template_areas": null,
            "grid_template_columns": null,
            "grid_template_rows": null,
            "height": null,
            "justify_content": null,
            "justify_items": null,
            "left": null,
            "margin": null,
            "max_height": null,
            "max_width": null,
            "min_height": null,
            "min_width": null,
            "object_fit": null,
            "object_position": null,
            "order": null,
            "overflow": null,
            "overflow_x": null,
            "overflow_y": null,
            "padding": null,
            "right": null,
            "top": null,
            "visibility": null,
            "width": null
          }
        },
        "2a5fd42b49a54052b15bdbcd1076d76b": {
          "model_module": "@jupyter-widgets/controls",
          "model_name": "ProgressStyleModel",
          "model_module_version": "1.5.0",
          "state": {
            "_model_module": "@jupyter-widgets/controls",
            "_model_module_version": "1.5.0",
            "_model_name": "ProgressStyleModel",
            "_view_count": null,
            "_view_module": "@jupyter-widgets/base",
            "_view_module_version": "1.2.0",
            "_view_name": "StyleView",
            "bar_color": null,
            "description_width": ""
          }
        },
        "ebefa07ecf6c4f43b3e3bc323d487008": {
          "model_module": "@jupyter-widgets/base",
          "model_name": "LayoutModel",
          "model_module_version": "1.2.0",
          "state": {
            "_model_module": "@jupyter-widgets/base",
            "_model_module_version": "1.2.0",
            "_model_name": "LayoutModel",
            "_view_count": null,
            "_view_module": "@jupyter-widgets/base",
            "_view_module_version": "1.2.0",
            "_view_name": "LayoutView",
            "align_content": null,
            "align_items": null,
            "align_self": null,
            "border": null,
            "bottom": null,
            "display": null,
            "flex": null,
            "flex_flow": null,
            "grid_area": null,
            "grid_auto_columns": null,
            "grid_auto_flow": null,
            "grid_auto_rows": null,
            "grid_column": null,
            "grid_gap": null,
            "grid_row": null,
            "grid_template_areas": null,
            "grid_template_columns": null,
            "grid_template_rows": null,
            "height": null,
            "justify_content": null,
            "justify_items": null,
            "left": null,
            "margin": null,
            "max_height": null,
            "max_width": null,
            "min_height": null,
            "min_width": null,
            "object_fit": null,
            "object_position": null,
            "order": null,
            "overflow": null,
            "overflow_x": null,
            "overflow_y": null,
            "padding": null,
            "right": null,
            "top": null,
            "visibility": null,
            "width": null
          }
        },
        "3c2ee40262b44e2d9adef88e74523346": {
          "model_module": "@jupyter-widgets/controls",
          "model_name": "DescriptionStyleModel",
          "model_module_version": "1.5.0",
          "state": {
            "_model_module": "@jupyter-widgets/controls",
            "_model_module_version": "1.5.0",
            "_model_name": "DescriptionStyleModel",
            "_view_count": null,
            "_view_module": "@jupyter-widgets/base",
            "_view_module_version": "1.2.0",
            "_view_name": "StyleView",
            "description_width": ""
          }
        },
        "efd433f6f9394a7483dc184283c5b6b4": {
          "model_module": "@jupyter-widgets/controls",
          "model_name": "HBoxModel",
          "model_module_version": "1.5.0",
          "state": {
            "_dom_classes": [],
            "_model_module": "@jupyter-widgets/controls",
            "_model_module_version": "1.5.0",
            "_model_name": "HBoxModel",
            "_view_count": null,
            "_view_module": "@jupyter-widgets/controls",
            "_view_module_version": "1.5.0",
            "_view_name": "HBoxView",
            "box_style": "",
            "children": [
              "IPY_MODEL_f555b58f1e884af2acdbb17a144f33b4",
              "IPY_MODEL_64eeaf1e0e01480bbbab037b3e514ee5",
              "IPY_MODEL_9a17eec896cd401cb6f789bd518b2f7c"
            ],
            "layout": "IPY_MODEL_6ed5e7fd47784d0c928bb57c0d973b08"
          }
        },
        "f555b58f1e884af2acdbb17a144f33b4": {
          "model_module": "@jupyter-widgets/controls",
          "model_name": "HTMLModel",
          "model_module_version": "1.5.0",
          "state": {
            "_dom_classes": [],
            "_model_module": "@jupyter-widgets/controls",
            "_model_module_version": "1.5.0",
            "_model_name": "HTMLModel",
            "_view_count": null,
            "_view_module": "@jupyter-widgets/controls",
            "_view_module_version": "1.5.0",
            "_view_name": "HTMLView",
            "description": "",
            "description_tooltip": null,
            "layout": "IPY_MODEL_2d5c0d72e0c245f28c022369731f1986",
            "placeholder": "​",
            "style": "IPY_MODEL_cf3905fc13d440bfa5b140efc07d6822",
            "value": "README.md: 100%"
          }
        },
        "64eeaf1e0e01480bbbab037b3e514ee5": {
          "model_module": "@jupyter-widgets/controls",
          "model_name": "FloatProgressModel",
          "model_module_version": "1.5.0",
          "state": {
            "_dom_classes": [],
            "_model_module": "@jupyter-widgets/controls",
            "_model_module_version": "1.5.0",
            "_model_name": "FloatProgressModel",
            "_view_count": null,
            "_view_module": "@jupyter-widgets/controls",
            "_view_module_version": "1.5.0",
            "_view_name": "ProgressView",
            "bar_style": "success",
            "description": "",
            "description_tooltip": null,
            "layout": "IPY_MODEL_2c59a3a55efb4a56ae2c105523216d78",
            "max": 10621,
            "min": 0,
            "orientation": "horizontal",
            "style": "IPY_MODEL_2e4b7ae43eb54272a302a8416e80ab7e",
            "value": 10621
          }
        },
        "9a17eec896cd401cb6f789bd518b2f7c": {
          "model_module": "@jupyter-widgets/controls",
          "model_name": "HTMLModel",
          "model_module_version": "1.5.0",
          "state": {
            "_dom_classes": [],
            "_model_module": "@jupyter-widgets/controls",
            "_model_module_version": "1.5.0",
            "_model_name": "HTMLModel",
            "_view_count": null,
            "_view_module": "@jupyter-widgets/controls",
            "_view_module_version": "1.5.0",
            "_view_name": "HTMLView",
            "description": "",
            "description_tooltip": null,
            "layout": "IPY_MODEL_6781a38730c64510925a2f4f0e4b8f1d",
            "placeholder": "​",
            "style": "IPY_MODEL_bf861202bf514a70b23629dbb6a85251",
            "value": " 10.6k/10.6k [00:00&lt;00:00, 468kB/s]"
          }
        },
        "6ed5e7fd47784d0c928bb57c0d973b08": {
          "model_module": "@jupyter-widgets/base",
          "model_name": "LayoutModel",
          "model_module_version": "1.2.0",
          "state": {
            "_model_module": "@jupyter-widgets/base",
            "_model_module_version": "1.2.0",
            "_model_name": "LayoutModel",
            "_view_count": null,
            "_view_module": "@jupyter-widgets/base",
            "_view_module_version": "1.2.0",
            "_view_name": "LayoutView",
            "align_content": null,
            "align_items": null,
            "align_self": null,
            "border": null,
            "bottom": null,
            "display": null,
            "flex": null,
            "flex_flow": null,
            "grid_area": null,
            "grid_auto_columns": null,
            "grid_auto_flow": null,
            "grid_auto_rows": null,
            "grid_column": null,
            "grid_gap": null,
            "grid_row": null,
            "grid_template_areas": null,
            "grid_template_columns": null,
            "grid_template_rows": null,
            "height": null,
            "justify_content": null,
            "justify_items": null,
            "left": null,
            "margin": null,
            "max_height": null,
            "max_width": null,
            "min_height": null,
            "min_width": null,
            "object_fit": null,
            "object_position": null,
            "order": null,
            "overflow": null,
            "overflow_x": null,
            "overflow_y": null,
            "padding": null,
            "right": null,
            "top": null,
            "visibility": null,
            "width": null
          }
        },
        "2d5c0d72e0c245f28c022369731f1986": {
          "model_module": "@jupyter-widgets/base",
          "model_name": "LayoutModel",
          "model_module_version": "1.2.0",
          "state": {
            "_model_module": "@jupyter-widgets/base",
            "_model_module_version": "1.2.0",
            "_model_name": "LayoutModel",
            "_view_count": null,
            "_view_module": "@jupyter-widgets/base",
            "_view_module_version": "1.2.0",
            "_view_name": "LayoutView",
            "align_content": null,
            "align_items": null,
            "align_self": null,
            "border": null,
            "bottom": null,
            "display": null,
            "flex": null,
            "flex_flow": null,
            "grid_area": null,
            "grid_auto_columns": null,
            "grid_auto_flow": null,
            "grid_auto_rows": null,
            "grid_column": null,
            "grid_gap": null,
            "grid_row": null,
            "grid_template_areas": null,
            "grid_template_columns": null,
            "grid_template_rows": null,
            "height": null,
            "justify_content": null,
            "justify_items": null,
            "left": null,
            "margin": null,
            "max_height": null,
            "max_width": null,
            "min_height": null,
            "min_width": null,
            "object_fit": null,
            "object_position": null,
            "order": null,
            "overflow": null,
            "overflow_x": null,
            "overflow_y": null,
            "padding": null,
            "right": null,
            "top": null,
            "visibility": null,
            "width": null
          }
        },
        "cf3905fc13d440bfa5b140efc07d6822": {
          "model_module": "@jupyter-widgets/controls",
          "model_name": "DescriptionStyleModel",
          "model_module_version": "1.5.0",
          "state": {
            "_model_module": "@jupyter-widgets/controls",
            "_model_module_version": "1.5.0",
            "_model_name": "DescriptionStyleModel",
            "_view_count": null,
            "_view_module": "@jupyter-widgets/base",
            "_view_module_version": "1.2.0",
            "_view_name": "StyleView",
            "description_width": ""
          }
        },
        "2c59a3a55efb4a56ae2c105523216d78": {
          "model_module": "@jupyter-widgets/base",
          "model_name": "LayoutModel",
          "model_module_version": "1.2.0",
          "state": {
            "_model_module": "@jupyter-widgets/base",
            "_model_module_version": "1.2.0",
            "_model_name": "LayoutModel",
            "_view_count": null,
            "_view_module": "@jupyter-widgets/base",
            "_view_module_version": "1.2.0",
            "_view_name": "LayoutView",
            "align_content": null,
            "align_items": null,
            "align_self": null,
            "border": null,
            "bottom": null,
            "display": null,
            "flex": null,
            "flex_flow": null,
            "grid_area": null,
            "grid_auto_columns": null,
            "grid_auto_flow": null,
            "grid_auto_rows": null,
            "grid_column": null,
            "grid_gap": null,
            "grid_row": null,
            "grid_template_areas": null,
            "grid_template_columns": null,
            "grid_template_rows": null,
            "height": null,
            "justify_content": null,
            "justify_items": null,
            "left": null,
            "margin": null,
            "max_height": null,
            "max_width": null,
            "min_height": null,
            "min_width": null,
            "object_fit": null,
            "object_position": null,
            "order": null,
            "overflow": null,
            "overflow_x": null,
            "overflow_y": null,
            "padding": null,
            "right": null,
            "top": null,
            "visibility": null,
            "width": null
          }
        },
        "2e4b7ae43eb54272a302a8416e80ab7e": {
          "model_module": "@jupyter-widgets/controls",
          "model_name": "ProgressStyleModel",
          "model_module_version": "1.5.0",
          "state": {
            "_model_module": "@jupyter-widgets/controls",
            "_model_module_version": "1.5.0",
            "_model_name": "ProgressStyleModel",
            "_view_count": null,
            "_view_module": "@jupyter-widgets/base",
            "_view_module_version": "1.2.0",
            "_view_name": "StyleView",
            "bar_color": null,
            "description_width": ""
          }
        },
        "6781a38730c64510925a2f4f0e4b8f1d": {
          "model_module": "@jupyter-widgets/base",
          "model_name": "LayoutModel",
          "model_module_version": "1.2.0",
          "state": {
            "_model_module": "@jupyter-widgets/base",
            "_model_module_version": "1.2.0",
            "_model_name": "LayoutModel",
            "_view_count": null,
            "_view_module": "@jupyter-widgets/base",
            "_view_module_version": "1.2.0",
            "_view_name": "LayoutView",
            "align_content": null,
            "align_items": null,
            "align_self": null,
            "border": null,
            "bottom": null,
            "display": null,
            "flex": null,
            "flex_flow": null,
            "grid_area": null,
            "grid_auto_columns": null,
            "grid_auto_flow": null,
            "grid_auto_rows": null,
            "grid_column": null,
            "grid_gap": null,
            "grid_row": null,
            "grid_template_areas": null,
            "grid_template_columns": null,
            "grid_template_rows": null,
            "height": null,
            "justify_content": null,
            "justify_items": null,
            "left": null,
            "margin": null,
            "max_height": null,
            "max_width": null,
            "min_height": null,
            "min_width": null,
            "object_fit": null,
            "object_position": null,
            "order": null,
            "overflow": null,
            "overflow_x": null,
            "overflow_y": null,
            "padding": null,
            "right": null,
            "top": null,
            "visibility": null,
            "width": null
          }
        },
        "bf861202bf514a70b23629dbb6a85251": {
          "model_module": "@jupyter-widgets/controls",
          "model_name": "DescriptionStyleModel",
          "model_module_version": "1.5.0",
          "state": {
            "_model_module": "@jupyter-widgets/controls",
            "_model_module_version": "1.5.0",
            "_model_name": "DescriptionStyleModel",
            "_view_count": null,
            "_view_module": "@jupyter-widgets/base",
            "_view_module_version": "1.2.0",
            "_view_name": "StyleView",
            "description_width": ""
          }
        },
        "503fb5eefd4347f0a6d8e93d2384443f": {
          "model_module": "@jupyter-widgets/controls",
          "model_name": "HBoxModel",
          "model_module_version": "1.5.0",
          "state": {
            "_dom_classes": [],
            "_model_module": "@jupyter-widgets/controls",
            "_model_module_version": "1.5.0",
            "_model_name": "HBoxModel",
            "_view_count": null,
            "_view_module": "@jupyter-widgets/controls",
            "_view_module_version": "1.5.0",
            "_view_name": "HBoxView",
            "box_style": "",
            "children": [
              "IPY_MODEL_6417f711727544fd8dc8670943657231",
              "IPY_MODEL_4afcb524ef5e46869fc91044eb9a1682",
              "IPY_MODEL_912ea1aaac3142c09f920aaeab1c96f6"
            ],
            "layout": "IPY_MODEL_e53b4070f90c43abb4dff3e30cc4864d"
          }
        },
        "6417f711727544fd8dc8670943657231": {
          "model_module": "@jupyter-widgets/controls",
          "model_name": "HTMLModel",
          "model_module_version": "1.5.0",
          "state": {
            "_dom_classes": [],
            "_model_module": "@jupyter-widgets/controls",
            "_model_module_version": "1.5.0",
            "_model_name": "HTMLModel",
            "_view_count": null,
            "_view_module": "@jupyter-widgets/controls",
            "_view_module_version": "1.5.0",
            "_view_name": "HTMLView",
            "description": "",
            "description_tooltip": null,
            "layout": "IPY_MODEL_9de66829caf64f6fb6e2f1090e021469",
            "placeholder": "​",
            "style": "IPY_MODEL_58e09c8314c144c19fc59d3873a759b1",
            "value": "sentence_bert_config.json: 100%"
          }
        },
        "4afcb524ef5e46869fc91044eb9a1682": {
          "model_module": "@jupyter-widgets/controls",
          "model_name": "FloatProgressModel",
          "model_module_version": "1.5.0",
          "state": {
            "_dom_classes": [],
            "_model_module": "@jupyter-widgets/controls",
            "_model_module_version": "1.5.0",
            "_model_name": "FloatProgressModel",
            "_view_count": null,
            "_view_module": "@jupyter-widgets/controls",
            "_view_module_version": "1.5.0",
            "_view_name": "ProgressView",
            "bar_style": "success",
            "description": "",
            "description_tooltip": null,
            "layout": "IPY_MODEL_1f0f0ff4d6c246bf89994e4fa2d405ec",
            "max": 53,
            "min": 0,
            "orientation": "horizontal",
            "style": "IPY_MODEL_0ce6ea338da5429e84952b5546ee0bf5",
            "value": 53
          }
        },
        "912ea1aaac3142c09f920aaeab1c96f6": {
          "model_module": "@jupyter-widgets/controls",
          "model_name": "HTMLModel",
          "model_module_version": "1.5.0",
          "state": {
            "_dom_classes": [],
            "_model_module": "@jupyter-widgets/controls",
            "_model_module_version": "1.5.0",
            "_model_name": "HTMLModel",
            "_view_count": null,
            "_view_module": "@jupyter-widgets/controls",
            "_view_module_version": "1.5.0",
            "_view_name": "HTMLView",
            "description": "",
            "description_tooltip": null,
            "layout": "IPY_MODEL_dd18172334574b3eabda334511a42f5c",
            "placeholder": "​",
            "style": "IPY_MODEL_cf165d8b147d439ea5377152be5d9783",
            "value": " 53.0/53.0 [00:00&lt;00:00, 3.48kB/s]"
          }
        },
        "e53b4070f90c43abb4dff3e30cc4864d": {
          "model_module": "@jupyter-widgets/base",
          "model_name": "LayoutModel",
          "model_module_version": "1.2.0",
          "state": {
            "_model_module": "@jupyter-widgets/base",
            "_model_module_version": "1.2.0",
            "_model_name": "LayoutModel",
            "_view_count": null,
            "_view_module": "@jupyter-widgets/base",
            "_view_module_version": "1.2.0",
            "_view_name": "LayoutView",
            "align_content": null,
            "align_items": null,
            "align_self": null,
            "border": null,
            "bottom": null,
            "display": null,
            "flex": null,
            "flex_flow": null,
            "grid_area": null,
            "grid_auto_columns": null,
            "grid_auto_flow": null,
            "grid_auto_rows": null,
            "grid_column": null,
            "grid_gap": null,
            "grid_row": null,
            "grid_template_areas": null,
            "grid_template_columns": null,
            "grid_template_rows": null,
            "height": null,
            "justify_content": null,
            "justify_items": null,
            "left": null,
            "margin": null,
            "max_height": null,
            "max_width": null,
            "min_height": null,
            "min_width": null,
            "object_fit": null,
            "object_position": null,
            "order": null,
            "overflow": null,
            "overflow_x": null,
            "overflow_y": null,
            "padding": null,
            "right": null,
            "top": null,
            "visibility": null,
            "width": null
          }
        },
        "9de66829caf64f6fb6e2f1090e021469": {
          "model_module": "@jupyter-widgets/base",
          "model_name": "LayoutModel",
          "model_module_version": "1.2.0",
          "state": {
            "_model_module": "@jupyter-widgets/base",
            "_model_module_version": "1.2.0",
            "_model_name": "LayoutModel",
            "_view_count": null,
            "_view_module": "@jupyter-widgets/base",
            "_view_module_version": "1.2.0",
            "_view_name": "LayoutView",
            "align_content": null,
            "align_items": null,
            "align_self": null,
            "border": null,
            "bottom": null,
            "display": null,
            "flex": null,
            "flex_flow": null,
            "grid_area": null,
            "grid_auto_columns": null,
            "grid_auto_flow": null,
            "grid_auto_rows": null,
            "grid_column": null,
            "grid_gap": null,
            "grid_row": null,
            "grid_template_areas": null,
            "grid_template_columns": null,
            "grid_template_rows": null,
            "height": null,
            "justify_content": null,
            "justify_items": null,
            "left": null,
            "margin": null,
            "max_height": null,
            "max_width": null,
            "min_height": null,
            "min_width": null,
            "object_fit": null,
            "object_position": null,
            "order": null,
            "overflow": null,
            "overflow_x": null,
            "overflow_y": null,
            "padding": null,
            "right": null,
            "top": null,
            "visibility": null,
            "width": null
          }
        },
        "58e09c8314c144c19fc59d3873a759b1": {
          "model_module": "@jupyter-widgets/controls",
          "model_name": "DescriptionStyleModel",
          "model_module_version": "1.5.0",
          "state": {
            "_model_module": "@jupyter-widgets/controls",
            "_model_module_version": "1.5.0",
            "_model_name": "DescriptionStyleModel",
            "_view_count": null,
            "_view_module": "@jupyter-widgets/base",
            "_view_module_version": "1.2.0",
            "_view_name": "StyleView",
            "description_width": ""
          }
        },
        "1f0f0ff4d6c246bf89994e4fa2d405ec": {
          "model_module": "@jupyter-widgets/base",
          "model_name": "LayoutModel",
          "model_module_version": "1.2.0",
          "state": {
            "_model_module": "@jupyter-widgets/base",
            "_model_module_version": "1.2.0",
            "_model_name": "LayoutModel",
            "_view_count": null,
            "_view_module": "@jupyter-widgets/base",
            "_view_module_version": "1.2.0",
            "_view_name": "LayoutView",
            "align_content": null,
            "align_items": null,
            "align_self": null,
            "border": null,
            "bottom": null,
            "display": null,
            "flex": null,
            "flex_flow": null,
            "grid_area": null,
            "grid_auto_columns": null,
            "grid_auto_flow": null,
            "grid_auto_rows": null,
            "grid_column": null,
            "grid_gap": null,
            "grid_row": null,
            "grid_template_areas": null,
            "grid_template_columns": null,
            "grid_template_rows": null,
            "height": null,
            "justify_content": null,
            "justify_items": null,
            "left": null,
            "margin": null,
            "max_height": null,
            "max_width": null,
            "min_height": null,
            "min_width": null,
            "object_fit": null,
            "object_position": null,
            "order": null,
            "overflow": null,
            "overflow_x": null,
            "overflow_y": null,
            "padding": null,
            "right": null,
            "top": null,
            "visibility": null,
            "width": null
          }
        },
        "0ce6ea338da5429e84952b5546ee0bf5": {
          "model_module": "@jupyter-widgets/controls",
          "model_name": "ProgressStyleModel",
          "model_module_version": "1.5.0",
          "state": {
            "_model_module": "@jupyter-widgets/controls",
            "_model_module_version": "1.5.0",
            "_model_name": "ProgressStyleModel",
            "_view_count": null,
            "_view_module": "@jupyter-widgets/base",
            "_view_module_version": "1.2.0",
            "_view_name": "StyleView",
            "bar_color": null,
            "description_width": ""
          }
        },
        "dd18172334574b3eabda334511a42f5c": {
          "model_module": "@jupyter-widgets/base",
          "model_name": "LayoutModel",
          "model_module_version": "1.2.0",
          "state": {
            "_model_module": "@jupyter-widgets/base",
            "_model_module_version": "1.2.0",
            "_model_name": "LayoutModel",
            "_view_count": null,
            "_view_module": "@jupyter-widgets/base",
            "_view_module_version": "1.2.0",
            "_view_name": "LayoutView",
            "align_content": null,
            "align_items": null,
            "align_self": null,
            "border": null,
            "bottom": null,
            "display": null,
            "flex": null,
            "flex_flow": null,
            "grid_area": null,
            "grid_auto_columns": null,
            "grid_auto_flow": null,
            "grid_auto_rows": null,
            "grid_column": null,
            "grid_gap": null,
            "grid_row": null,
            "grid_template_areas": null,
            "grid_template_columns": null,
            "grid_template_rows": null,
            "height": null,
            "justify_content": null,
            "justify_items": null,
            "left": null,
            "margin": null,
            "max_height": null,
            "max_width": null,
            "min_height": null,
            "min_width": null,
            "object_fit": null,
            "object_position": null,
            "order": null,
            "overflow": null,
            "overflow_x": null,
            "overflow_y": null,
            "padding": null,
            "right": null,
            "top": null,
            "visibility": null,
            "width": null
          }
        },
        "cf165d8b147d439ea5377152be5d9783": {
          "model_module": "@jupyter-widgets/controls",
          "model_name": "DescriptionStyleModel",
          "model_module_version": "1.5.0",
          "state": {
            "_model_module": "@jupyter-widgets/controls",
            "_model_module_version": "1.5.0",
            "_model_name": "DescriptionStyleModel",
            "_view_count": null,
            "_view_module": "@jupyter-widgets/base",
            "_view_module_version": "1.2.0",
            "_view_name": "StyleView",
            "description_width": ""
          }
        },
        "86efe698c1874199a966538a260020e4": {
          "model_module": "@jupyter-widgets/controls",
          "model_name": "HBoxModel",
          "model_module_version": "1.5.0",
          "state": {
            "_dom_classes": [],
            "_model_module": "@jupyter-widgets/controls",
            "_model_module_version": "1.5.0",
            "_model_name": "HBoxModel",
            "_view_count": null,
            "_view_module": "@jupyter-widgets/controls",
            "_view_module_version": "1.5.0",
            "_view_name": "HBoxView",
            "box_style": "",
            "children": [
              "IPY_MODEL_4050251bca4e44aea070bb55b41ae249",
              "IPY_MODEL_f000f456b2694e7a844f715bed6c9ba1",
              "IPY_MODEL_484e9e13ed6f471f8715a9470bbf1447"
            ],
            "layout": "IPY_MODEL_d6ca226b25c4412f9c97f80c0b21e337"
          }
        },
        "4050251bca4e44aea070bb55b41ae249": {
          "model_module": "@jupyter-widgets/controls",
          "model_name": "HTMLModel",
          "model_module_version": "1.5.0",
          "state": {
            "_dom_classes": [],
            "_model_module": "@jupyter-widgets/controls",
            "_model_module_version": "1.5.0",
            "_model_name": "HTMLModel",
            "_view_count": null,
            "_view_module": "@jupyter-widgets/controls",
            "_view_module_version": "1.5.0",
            "_view_name": "HTMLView",
            "description": "",
            "description_tooltip": null,
            "layout": "IPY_MODEL_5e4ebe0bb5a94a5eb1ec60d4694b8be1",
            "placeholder": "​",
            "style": "IPY_MODEL_f1000bbf3409439081db313460205222",
            "value": "config.json: 100%"
          }
        },
        "f000f456b2694e7a844f715bed6c9ba1": {
          "model_module": "@jupyter-widgets/controls",
          "model_name": "FloatProgressModel",
          "model_module_version": "1.5.0",
          "state": {
            "_dom_classes": [],
            "_model_module": "@jupyter-widgets/controls",
            "_model_module_version": "1.5.0",
            "_model_name": "FloatProgressModel",
            "_view_count": null,
            "_view_module": "@jupyter-widgets/controls",
            "_view_module_version": "1.5.0",
            "_view_name": "ProgressView",
            "bar_style": "success",
            "description": "",
            "description_tooltip": null,
            "layout": "IPY_MODEL_5034c2436ece4dd4b8a2736e50f7139c",
            "max": 571,
            "min": 0,
            "orientation": "horizontal",
            "style": "IPY_MODEL_6b04b19e0dda4a9f821fb819df6780f9",
            "value": 571
          }
        },
        "484e9e13ed6f471f8715a9470bbf1447": {
          "model_module": "@jupyter-widgets/controls",
          "model_name": "HTMLModel",
          "model_module_version": "1.5.0",
          "state": {
            "_dom_classes": [],
            "_model_module": "@jupyter-widgets/controls",
            "_model_module_version": "1.5.0",
            "_model_name": "HTMLModel",
            "_view_count": null,
            "_view_module": "@jupyter-widgets/controls",
            "_view_module_version": "1.5.0",
            "_view_name": "HTMLView",
            "description": "",
            "description_tooltip": null,
            "layout": "IPY_MODEL_e6f87bdf9b0c496b8f737ff8a20bffc4",
            "placeholder": "​",
            "style": "IPY_MODEL_5b4a14bc83d94e8f932a9550c112cf67",
            "value": " 571/571 [00:00&lt;00:00, 29.5kB/s]"
          }
        },
        "d6ca226b25c4412f9c97f80c0b21e337": {
          "model_module": "@jupyter-widgets/base",
          "model_name": "LayoutModel",
          "model_module_version": "1.2.0",
          "state": {
            "_model_module": "@jupyter-widgets/base",
            "_model_module_version": "1.2.0",
            "_model_name": "LayoutModel",
            "_view_count": null,
            "_view_module": "@jupyter-widgets/base",
            "_view_module_version": "1.2.0",
            "_view_name": "LayoutView",
            "align_content": null,
            "align_items": null,
            "align_self": null,
            "border": null,
            "bottom": null,
            "display": null,
            "flex": null,
            "flex_flow": null,
            "grid_area": null,
            "grid_auto_columns": null,
            "grid_auto_flow": null,
            "grid_auto_rows": null,
            "grid_column": null,
            "grid_gap": null,
            "grid_row": null,
            "grid_template_areas": null,
            "grid_template_columns": null,
            "grid_template_rows": null,
            "height": null,
            "justify_content": null,
            "justify_items": null,
            "left": null,
            "margin": null,
            "max_height": null,
            "max_width": null,
            "min_height": null,
            "min_width": null,
            "object_fit": null,
            "object_position": null,
            "order": null,
            "overflow": null,
            "overflow_x": null,
            "overflow_y": null,
            "padding": null,
            "right": null,
            "top": null,
            "visibility": null,
            "width": null
          }
        },
        "5e4ebe0bb5a94a5eb1ec60d4694b8be1": {
          "model_module": "@jupyter-widgets/base",
          "model_name": "LayoutModel",
          "model_module_version": "1.2.0",
          "state": {
            "_model_module": "@jupyter-widgets/base",
            "_model_module_version": "1.2.0",
            "_model_name": "LayoutModel",
            "_view_count": null,
            "_view_module": "@jupyter-widgets/base",
            "_view_module_version": "1.2.0",
            "_view_name": "LayoutView",
            "align_content": null,
            "align_items": null,
            "align_self": null,
            "border": null,
            "bottom": null,
            "display": null,
            "flex": null,
            "flex_flow": null,
            "grid_area": null,
            "grid_auto_columns": null,
            "grid_auto_flow": null,
            "grid_auto_rows": null,
            "grid_column": null,
            "grid_gap": null,
            "grid_row": null,
            "grid_template_areas": null,
            "grid_template_columns": null,
            "grid_template_rows": null,
            "height": null,
            "justify_content": null,
            "justify_items": null,
            "left": null,
            "margin": null,
            "max_height": null,
            "max_width": null,
            "min_height": null,
            "min_width": null,
            "object_fit": null,
            "object_position": null,
            "order": null,
            "overflow": null,
            "overflow_x": null,
            "overflow_y": null,
            "padding": null,
            "right": null,
            "top": null,
            "visibility": null,
            "width": null
          }
        },
        "f1000bbf3409439081db313460205222": {
          "model_module": "@jupyter-widgets/controls",
          "model_name": "DescriptionStyleModel",
          "model_module_version": "1.5.0",
          "state": {
            "_model_module": "@jupyter-widgets/controls",
            "_model_module_version": "1.5.0",
            "_model_name": "DescriptionStyleModel",
            "_view_count": null,
            "_view_module": "@jupyter-widgets/base",
            "_view_module_version": "1.2.0",
            "_view_name": "StyleView",
            "description_width": ""
          }
        },
        "5034c2436ece4dd4b8a2736e50f7139c": {
          "model_module": "@jupyter-widgets/base",
          "model_name": "LayoutModel",
          "model_module_version": "1.2.0",
          "state": {
            "_model_module": "@jupyter-widgets/base",
            "_model_module_version": "1.2.0",
            "_model_name": "LayoutModel",
            "_view_count": null,
            "_view_module": "@jupyter-widgets/base",
            "_view_module_version": "1.2.0",
            "_view_name": "LayoutView",
            "align_content": null,
            "align_items": null,
            "align_self": null,
            "border": null,
            "bottom": null,
            "display": null,
            "flex": null,
            "flex_flow": null,
            "grid_area": null,
            "grid_auto_columns": null,
            "grid_auto_flow": null,
            "grid_auto_rows": null,
            "grid_column": null,
            "grid_gap": null,
            "grid_row": null,
            "grid_template_areas": null,
            "grid_template_columns": null,
            "grid_template_rows": null,
            "height": null,
            "justify_content": null,
            "justify_items": null,
            "left": null,
            "margin": null,
            "max_height": null,
            "max_width": null,
            "min_height": null,
            "min_width": null,
            "object_fit": null,
            "object_position": null,
            "order": null,
            "overflow": null,
            "overflow_x": null,
            "overflow_y": null,
            "padding": null,
            "right": null,
            "top": null,
            "visibility": null,
            "width": null
          }
        },
        "6b04b19e0dda4a9f821fb819df6780f9": {
          "model_module": "@jupyter-widgets/controls",
          "model_name": "ProgressStyleModel",
          "model_module_version": "1.5.0",
          "state": {
            "_model_module": "@jupyter-widgets/controls",
            "_model_module_version": "1.5.0",
            "_model_name": "ProgressStyleModel",
            "_view_count": null,
            "_view_module": "@jupyter-widgets/base",
            "_view_module_version": "1.2.0",
            "_view_name": "StyleView",
            "bar_color": null,
            "description_width": ""
          }
        },
        "e6f87bdf9b0c496b8f737ff8a20bffc4": {
          "model_module": "@jupyter-widgets/base",
          "model_name": "LayoutModel",
          "model_module_version": "1.2.0",
          "state": {
            "_model_module": "@jupyter-widgets/base",
            "_model_module_version": "1.2.0",
            "_model_name": "LayoutModel",
            "_view_count": null,
            "_view_module": "@jupyter-widgets/base",
            "_view_module_version": "1.2.0",
            "_view_name": "LayoutView",
            "align_content": null,
            "align_items": null,
            "align_self": null,
            "border": null,
            "bottom": null,
            "display": null,
            "flex": null,
            "flex_flow": null,
            "grid_area": null,
            "grid_auto_columns": null,
            "grid_auto_flow": null,
            "grid_auto_rows": null,
            "grid_column": null,
            "grid_gap": null,
            "grid_row": null,
            "grid_template_areas": null,
            "grid_template_columns": null,
            "grid_template_rows": null,
            "height": null,
            "justify_content": null,
            "justify_items": null,
            "left": null,
            "margin": null,
            "max_height": null,
            "max_width": null,
            "min_height": null,
            "min_width": null,
            "object_fit": null,
            "object_position": null,
            "order": null,
            "overflow": null,
            "overflow_x": null,
            "overflow_y": null,
            "padding": null,
            "right": null,
            "top": null,
            "visibility": null,
            "width": null
          }
        },
        "5b4a14bc83d94e8f932a9550c112cf67": {
          "model_module": "@jupyter-widgets/controls",
          "model_name": "DescriptionStyleModel",
          "model_module_version": "1.5.0",
          "state": {
            "_model_module": "@jupyter-widgets/controls",
            "_model_module_version": "1.5.0",
            "_model_name": "DescriptionStyleModel",
            "_view_count": null,
            "_view_module": "@jupyter-widgets/base",
            "_view_module_version": "1.2.0",
            "_view_name": "StyleView",
            "description_width": ""
          }
        },
        "45e00575d1f044b4bebe77660cf36f91": {
          "model_module": "@jupyter-widgets/controls",
          "model_name": "HBoxModel",
          "model_module_version": "1.5.0",
          "state": {
            "_dom_classes": [],
            "_model_module": "@jupyter-widgets/controls",
            "_model_module_version": "1.5.0",
            "_model_name": "HBoxModel",
            "_view_count": null,
            "_view_module": "@jupyter-widgets/controls",
            "_view_module_version": "1.5.0",
            "_view_name": "HBoxView",
            "box_style": "",
            "children": [
              "IPY_MODEL_d5964eb87b19407d945dc1b76baa46e9",
              "IPY_MODEL_ccec6d186c004a3a92075e3ef9b559ba",
              "IPY_MODEL_f688125fb4b74b9c8b224e4eab5bb26b"
            ],
            "layout": "IPY_MODEL_80f9587f297b4c2d8f6385d6f9cd6ef0"
          }
        },
        "d5964eb87b19407d945dc1b76baa46e9": {
          "model_module": "@jupyter-widgets/controls",
          "model_name": "HTMLModel",
          "model_module_version": "1.5.0",
          "state": {
            "_dom_classes": [],
            "_model_module": "@jupyter-widgets/controls",
            "_model_module_version": "1.5.0",
            "_model_name": "HTMLModel",
            "_view_count": null,
            "_view_module": "@jupyter-widgets/controls",
            "_view_module_version": "1.5.0",
            "_view_name": "HTMLView",
            "description": "",
            "description_tooltip": null,
            "layout": "IPY_MODEL_5c509578a1904920885201962958ab78",
            "placeholder": "​",
            "style": "IPY_MODEL_1e792300a7f946e09b573a0a5647468f",
            "value": "model.safetensors: 100%"
          }
        },
        "ccec6d186c004a3a92075e3ef9b559ba": {
          "model_module": "@jupyter-widgets/controls",
          "model_name": "FloatProgressModel",
          "model_module_version": "1.5.0",
          "state": {
            "_dom_classes": [],
            "_model_module": "@jupyter-widgets/controls",
            "_model_module_version": "1.5.0",
            "_model_name": "FloatProgressModel",
            "_view_count": null,
            "_view_module": "@jupyter-widgets/controls",
            "_view_module_version": "1.5.0",
            "_view_name": "ProgressView",
            "bar_style": "success",
            "description": "",
            "description_tooltip": null,
            "layout": "IPY_MODEL_a82b330b4f3147fca22dbf6c7e3f08ba",
            "max": 437971872,
            "min": 0,
            "orientation": "horizontal",
            "style": "IPY_MODEL_32ba17eba72b45d5afeaf74fb6dbce97",
            "value": 437971872
          }
        },
        "f688125fb4b74b9c8b224e4eab5bb26b": {
          "model_module": "@jupyter-widgets/controls",
          "model_name": "HTMLModel",
          "model_module_version": "1.5.0",
          "state": {
            "_dom_classes": [],
            "_model_module": "@jupyter-widgets/controls",
            "_model_module_version": "1.5.0",
            "_model_name": "HTMLModel",
            "_view_count": null,
            "_view_module": "@jupyter-widgets/controls",
            "_view_module_version": "1.5.0",
            "_view_name": "HTMLView",
            "description": "",
            "description_tooltip": null,
            "layout": "IPY_MODEL_1ec5d8a6b7a5424ca91c314fe3958c81",
            "placeholder": "​",
            "style": "IPY_MODEL_ea5bf33105de4039bd87b089a8720f31",
            "value": " 438M/438M [00:04&lt;00:00, 106MB/s]"
          }
        },
        "80f9587f297b4c2d8f6385d6f9cd6ef0": {
          "model_module": "@jupyter-widgets/base",
          "model_name": "LayoutModel",
          "model_module_version": "1.2.0",
          "state": {
            "_model_module": "@jupyter-widgets/base",
            "_model_module_version": "1.2.0",
            "_model_name": "LayoutModel",
            "_view_count": null,
            "_view_module": "@jupyter-widgets/base",
            "_view_module_version": "1.2.0",
            "_view_name": "LayoutView",
            "align_content": null,
            "align_items": null,
            "align_self": null,
            "border": null,
            "bottom": null,
            "display": null,
            "flex": null,
            "flex_flow": null,
            "grid_area": null,
            "grid_auto_columns": null,
            "grid_auto_flow": null,
            "grid_auto_rows": null,
            "grid_column": null,
            "grid_gap": null,
            "grid_row": null,
            "grid_template_areas": null,
            "grid_template_columns": null,
            "grid_template_rows": null,
            "height": null,
            "justify_content": null,
            "justify_items": null,
            "left": null,
            "margin": null,
            "max_height": null,
            "max_width": null,
            "min_height": null,
            "min_width": null,
            "object_fit": null,
            "object_position": null,
            "order": null,
            "overflow": null,
            "overflow_x": null,
            "overflow_y": null,
            "padding": null,
            "right": null,
            "top": null,
            "visibility": null,
            "width": null
          }
        },
        "5c509578a1904920885201962958ab78": {
          "model_module": "@jupyter-widgets/base",
          "model_name": "LayoutModel",
          "model_module_version": "1.2.0",
          "state": {
            "_model_module": "@jupyter-widgets/base",
            "_model_module_version": "1.2.0",
            "_model_name": "LayoutModel",
            "_view_count": null,
            "_view_module": "@jupyter-widgets/base",
            "_view_module_version": "1.2.0",
            "_view_name": "LayoutView",
            "align_content": null,
            "align_items": null,
            "align_self": null,
            "border": null,
            "bottom": null,
            "display": null,
            "flex": null,
            "flex_flow": null,
            "grid_area": null,
            "grid_auto_columns": null,
            "grid_auto_flow": null,
            "grid_auto_rows": null,
            "grid_column": null,
            "grid_gap": null,
            "grid_row": null,
            "grid_template_areas": null,
            "grid_template_columns": null,
            "grid_template_rows": null,
            "height": null,
            "justify_content": null,
            "justify_items": null,
            "left": null,
            "margin": null,
            "max_height": null,
            "max_width": null,
            "min_height": null,
            "min_width": null,
            "object_fit": null,
            "object_position": null,
            "order": null,
            "overflow": null,
            "overflow_x": null,
            "overflow_y": null,
            "padding": null,
            "right": null,
            "top": null,
            "visibility": null,
            "width": null
          }
        },
        "1e792300a7f946e09b573a0a5647468f": {
          "model_module": "@jupyter-widgets/controls",
          "model_name": "DescriptionStyleModel",
          "model_module_version": "1.5.0",
          "state": {
            "_model_module": "@jupyter-widgets/controls",
            "_model_module_version": "1.5.0",
            "_model_name": "DescriptionStyleModel",
            "_view_count": null,
            "_view_module": "@jupyter-widgets/base",
            "_view_module_version": "1.2.0",
            "_view_name": "StyleView",
            "description_width": ""
          }
        },
        "a82b330b4f3147fca22dbf6c7e3f08ba": {
          "model_module": "@jupyter-widgets/base",
          "model_name": "LayoutModel",
          "model_module_version": "1.2.0",
          "state": {
            "_model_module": "@jupyter-widgets/base",
            "_model_module_version": "1.2.0",
            "_model_name": "LayoutModel",
            "_view_count": null,
            "_view_module": "@jupyter-widgets/base",
            "_view_module_version": "1.2.0",
            "_view_name": "LayoutView",
            "align_content": null,
            "align_items": null,
            "align_self": null,
            "border": null,
            "bottom": null,
            "display": null,
            "flex": null,
            "flex_flow": null,
            "grid_area": null,
            "grid_auto_columns": null,
            "grid_auto_flow": null,
            "grid_auto_rows": null,
            "grid_column": null,
            "grid_gap": null,
            "grid_row": null,
            "grid_template_areas": null,
            "grid_template_columns": null,
            "grid_template_rows": null,
            "height": null,
            "justify_content": null,
            "justify_items": null,
            "left": null,
            "margin": null,
            "max_height": null,
            "max_width": null,
            "min_height": null,
            "min_width": null,
            "object_fit": null,
            "object_position": null,
            "order": null,
            "overflow": null,
            "overflow_x": null,
            "overflow_y": null,
            "padding": null,
            "right": null,
            "top": null,
            "visibility": null,
            "width": null
          }
        },
        "32ba17eba72b45d5afeaf74fb6dbce97": {
          "model_module": "@jupyter-widgets/controls",
          "model_name": "ProgressStyleModel",
          "model_module_version": "1.5.0",
          "state": {
            "_model_module": "@jupyter-widgets/controls",
            "_model_module_version": "1.5.0",
            "_model_name": "ProgressStyleModel",
            "_view_count": null,
            "_view_module": "@jupyter-widgets/base",
            "_view_module_version": "1.2.0",
            "_view_name": "StyleView",
            "bar_color": null,
            "description_width": ""
          }
        },
        "1ec5d8a6b7a5424ca91c314fe3958c81": {
          "model_module": "@jupyter-widgets/base",
          "model_name": "LayoutModel",
          "model_module_version": "1.2.0",
          "state": {
            "_model_module": "@jupyter-widgets/base",
            "_model_module_version": "1.2.0",
            "_model_name": "LayoutModel",
            "_view_count": null,
            "_view_module": "@jupyter-widgets/base",
            "_view_module_version": "1.2.0",
            "_view_name": "LayoutView",
            "align_content": null,
            "align_items": null,
            "align_self": null,
            "border": null,
            "bottom": null,
            "display": null,
            "flex": null,
            "flex_flow": null,
            "grid_area": null,
            "grid_auto_columns": null,
            "grid_auto_flow": null,
            "grid_auto_rows": null,
            "grid_column": null,
            "grid_gap": null,
            "grid_row": null,
            "grid_template_areas": null,
            "grid_template_columns": null,
            "grid_template_rows": null,
            "height": null,
            "justify_content": null,
            "justify_items": null,
            "left": null,
            "margin": null,
            "max_height": null,
            "max_width": null,
            "min_height": null,
            "min_width": null,
            "object_fit": null,
            "object_position": null,
            "order": null,
            "overflow": null,
            "overflow_x": null,
            "overflow_y": null,
            "padding": null,
            "right": null,
            "top": null,
            "visibility": null,
            "width": null
          }
        },
        "ea5bf33105de4039bd87b089a8720f31": {
          "model_module": "@jupyter-widgets/controls",
          "model_name": "DescriptionStyleModel",
          "model_module_version": "1.5.0",
          "state": {
            "_model_module": "@jupyter-widgets/controls",
            "_model_module_version": "1.5.0",
            "_model_name": "DescriptionStyleModel",
            "_view_count": null,
            "_view_module": "@jupyter-widgets/base",
            "_view_module_version": "1.2.0",
            "_view_name": "StyleView",
            "description_width": ""
          }
        },
        "69d617f5308f4f36bb35baf362bc25a6": {
          "model_module": "@jupyter-widgets/controls",
          "model_name": "HBoxModel",
          "model_module_version": "1.5.0",
          "state": {
            "_dom_classes": [],
            "_model_module": "@jupyter-widgets/controls",
            "_model_module_version": "1.5.0",
            "_model_name": "HBoxModel",
            "_view_count": null,
            "_view_module": "@jupyter-widgets/controls",
            "_view_module_version": "1.5.0",
            "_view_name": "HBoxView",
            "box_style": "",
            "children": [
              "IPY_MODEL_91443acd96264b079de78874192e669e",
              "IPY_MODEL_006de81004c647098ccb26105eea0d6b",
              "IPY_MODEL_250c6646f08941f98aee85a0a7209a3b"
            ],
            "layout": "IPY_MODEL_d77a08b611cd43199deabe06fd6e0388"
          }
        },
        "91443acd96264b079de78874192e669e": {
          "model_module": "@jupyter-widgets/controls",
          "model_name": "HTMLModel",
          "model_module_version": "1.5.0",
          "state": {
            "_dom_classes": [],
            "_model_module": "@jupyter-widgets/controls",
            "_model_module_version": "1.5.0",
            "_model_name": "HTMLModel",
            "_view_count": null,
            "_view_module": "@jupyter-widgets/controls",
            "_view_module_version": "1.5.0",
            "_view_name": "HTMLView",
            "description": "",
            "description_tooltip": null,
            "layout": "IPY_MODEL_3a7b59ec81ae479491869b769dc81226",
            "placeholder": "​",
            "style": "IPY_MODEL_bb71f0f0312b415493309d6e37914874",
            "value": "tokenizer_config.json: 100%"
          }
        },
        "006de81004c647098ccb26105eea0d6b": {
          "model_module": "@jupyter-widgets/controls",
          "model_name": "FloatProgressModel",
          "model_module_version": "1.5.0",
          "state": {
            "_dom_classes": [],
            "_model_module": "@jupyter-widgets/controls",
            "_model_module_version": "1.5.0",
            "_model_name": "FloatProgressModel",
            "_view_count": null,
            "_view_module": "@jupyter-widgets/controls",
            "_view_module_version": "1.5.0",
            "_view_name": "ProgressView",
            "bar_style": "success",
            "description": "",
            "description_tooltip": null,
            "layout": "IPY_MODEL_852abdc36bf44cbda57507c45ad7ea0a",
            "max": 363,
            "min": 0,
            "orientation": "horizontal",
            "style": "IPY_MODEL_394e10b1117a41ad8af0f0a1d0594b35",
            "value": 363
          }
        },
        "250c6646f08941f98aee85a0a7209a3b": {
          "model_module": "@jupyter-widgets/controls",
          "model_name": "HTMLModel",
          "model_module_version": "1.5.0",
          "state": {
            "_dom_classes": [],
            "_model_module": "@jupyter-widgets/controls",
            "_model_module_version": "1.5.0",
            "_model_name": "HTMLModel",
            "_view_count": null,
            "_view_module": "@jupyter-widgets/controls",
            "_view_module_version": "1.5.0",
            "_view_name": "HTMLView",
            "description": "",
            "description_tooltip": null,
            "layout": "IPY_MODEL_9c37eccf580341c19b1bc5bbf1f40574",
            "placeholder": "​",
            "style": "IPY_MODEL_79163d0fb1d14d4cabc24fc20e37877e",
            "value": " 363/363 [00:00&lt;00:00, 17.8kB/s]"
          }
        },
        "d77a08b611cd43199deabe06fd6e0388": {
          "model_module": "@jupyter-widgets/base",
          "model_name": "LayoutModel",
          "model_module_version": "1.2.0",
          "state": {
            "_model_module": "@jupyter-widgets/base",
            "_model_module_version": "1.2.0",
            "_model_name": "LayoutModel",
            "_view_count": null,
            "_view_module": "@jupyter-widgets/base",
            "_view_module_version": "1.2.0",
            "_view_name": "LayoutView",
            "align_content": null,
            "align_items": null,
            "align_self": null,
            "border": null,
            "bottom": null,
            "display": null,
            "flex": null,
            "flex_flow": null,
            "grid_area": null,
            "grid_auto_columns": null,
            "grid_auto_flow": null,
            "grid_auto_rows": null,
            "grid_column": null,
            "grid_gap": null,
            "grid_row": null,
            "grid_template_areas": null,
            "grid_template_columns": null,
            "grid_template_rows": null,
            "height": null,
            "justify_content": null,
            "justify_items": null,
            "left": null,
            "margin": null,
            "max_height": null,
            "max_width": null,
            "min_height": null,
            "min_width": null,
            "object_fit": null,
            "object_position": null,
            "order": null,
            "overflow": null,
            "overflow_x": null,
            "overflow_y": null,
            "padding": null,
            "right": null,
            "top": null,
            "visibility": null,
            "width": null
          }
        },
        "3a7b59ec81ae479491869b769dc81226": {
          "model_module": "@jupyter-widgets/base",
          "model_name": "LayoutModel",
          "model_module_version": "1.2.0",
          "state": {
            "_model_module": "@jupyter-widgets/base",
            "_model_module_version": "1.2.0",
            "_model_name": "LayoutModel",
            "_view_count": null,
            "_view_module": "@jupyter-widgets/base",
            "_view_module_version": "1.2.0",
            "_view_name": "LayoutView",
            "align_content": null,
            "align_items": null,
            "align_self": null,
            "border": null,
            "bottom": null,
            "display": null,
            "flex": null,
            "flex_flow": null,
            "grid_area": null,
            "grid_auto_columns": null,
            "grid_auto_flow": null,
            "grid_auto_rows": null,
            "grid_column": null,
            "grid_gap": null,
            "grid_row": null,
            "grid_template_areas": null,
            "grid_template_columns": null,
            "grid_template_rows": null,
            "height": null,
            "justify_content": null,
            "justify_items": null,
            "left": null,
            "margin": null,
            "max_height": null,
            "max_width": null,
            "min_height": null,
            "min_width": null,
            "object_fit": null,
            "object_position": null,
            "order": null,
            "overflow": null,
            "overflow_x": null,
            "overflow_y": null,
            "padding": null,
            "right": null,
            "top": null,
            "visibility": null,
            "width": null
          }
        },
        "bb71f0f0312b415493309d6e37914874": {
          "model_module": "@jupyter-widgets/controls",
          "model_name": "DescriptionStyleModel",
          "model_module_version": "1.5.0",
          "state": {
            "_model_module": "@jupyter-widgets/controls",
            "_model_module_version": "1.5.0",
            "_model_name": "DescriptionStyleModel",
            "_view_count": null,
            "_view_module": "@jupyter-widgets/base",
            "_view_module_version": "1.2.0",
            "_view_name": "StyleView",
            "description_width": ""
          }
        },
        "852abdc36bf44cbda57507c45ad7ea0a": {
          "model_module": "@jupyter-widgets/base",
          "model_name": "LayoutModel",
          "model_module_version": "1.2.0",
          "state": {
            "_model_module": "@jupyter-widgets/base",
            "_model_module_version": "1.2.0",
            "_model_name": "LayoutModel",
            "_view_count": null,
            "_view_module": "@jupyter-widgets/base",
            "_view_module_version": "1.2.0",
            "_view_name": "LayoutView",
            "align_content": null,
            "align_items": null,
            "align_self": null,
            "border": null,
            "bottom": null,
            "display": null,
            "flex": null,
            "flex_flow": null,
            "grid_area": null,
            "grid_auto_columns": null,
            "grid_auto_flow": null,
            "grid_auto_rows": null,
            "grid_column": null,
            "grid_gap": null,
            "grid_row": null,
            "grid_template_areas": null,
            "grid_template_columns": null,
            "grid_template_rows": null,
            "height": null,
            "justify_content": null,
            "justify_items": null,
            "left": null,
            "margin": null,
            "max_height": null,
            "max_width": null,
            "min_height": null,
            "min_width": null,
            "object_fit": null,
            "object_position": null,
            "order": null,
            "overflow": null,
            "overflow_x": null,
            "overflow_y": null,
            "padding": null,
            "right": null,
            "top": null,
            "visibility": null,
            "width": null
          }
        },
        "394e10b1117a41ad8af0f0a1d0594b35": {
          "model_module": "@jupyter-widgets/controls",
          "model_name": "ProgressStyleModel",
          "model_module_version": "1.5.0",
          "state": {
            "_model_module": "@jupyter-widgets/controls",
            "_model_module_version": "1.5.0",
            "_model_name": "ProgressStyleModel",
            "_view_count": null,
            "_view_module": "@jupyter-widgets/base",
            "_view_module_version": "1.2.0",
            "_view_name": "StyleView",
            "bar_color": null,
            "description_width": ""
          }
        },
        "9c37eccf580341c19b1bc5bbf1f40574": {
          "model_module": "@jupyter-widgets/base",
          "model_name": "LayoutModel",
          "model_module_version": "1.2.0",
          "state": {
            "_model_module": "@jupyter-widgets/base",
            "_model_module_version": "1.2.0",
            "_model_name": "LayoutModel",
            "_view_count": null,
            "_view_module": "@jupyter-widgets/base",
            "_view_module_version": "1.2.0",
            "_view_name": "LayoutView",
            "align_content": null,
            "align_items": null,
            "align_self": null,
            "border": null,
            "bottom": null,
            "display": null,
            "flex": null,
            "flex_flow": null,
            "grid_area": null,
            "grid_auto_columns": null,
            "grid_auto_flow": null,
            "grid_auto_rows": null,
            "grid_column": null,
            "grid_gap": null,
            "grid_row": null,
            "grid_template_areas": null,
            "grid_template_columns": null,
            "grid_template_rows": null,
            "height": null,
            "justify_content": null,
            "justify_items": null,
            "left": null,
            "margin": null,
            "max_height": null,
            "max_width": null,
            "min_height": null,
            "min_width": null,
            "object_fit": null,
            "object_position": null,
            "order": null,
            "overflow": null,
            "overflow_x": null,
            "overflow_y": null,
            "padding": null,
            "right": null,
            "top": null,
            "visibility": null,
            "width": null
          }
        },
        "79163d0fb1d14d4cabc24fc20e37877e": {
          "model_module": "@jupyter-widgets/controls",
          "model_name": "DescriptionStyleModel",
          "model_module_version": "1.5.0",
          "state": {
            "_model_module": "@jupyter-widgets/controls",
            "_model_module_version": "1.5.0",
            "_model_name": "DescriptionStyleModel",
            "_view_count": null,
            "_view_module": "@jupyter-widgets/base",
            "_view_module_version": "1.2.0",
            "_view_name": "StyleView",
            "description_width": ""
          }
        },
        "4e539e514969455a8ffa1a2fe963cf40": {
          "model_module": "@jupyter-widgets/controls",
          "model_name": "HBoxModel",
          "model_module_version": "1.5.0",
          "state": {
            "_dom_classes": [],
            "_model_module": "@jupyter-widgets/controls",
            "_model_module_version": "1.5.0",
            "_model_name": "HBoxModel",
            "_view_count": null,
            "_view_module": "@jupyter-widgets/controls",
            "_view_module_version": "1.5.0",
            "_view_name": "HBoxView",
            "box_style": "",
            "children": [
              "IPY_MODEL_e236927b973a4778baff38f4fe9bde49",
              "IPY_MODEL_132e90ef6d07464288f0fdc3589250a3",
              "IPY_MODEL_b294ed4dbd844fa685b71142a5862f15"
            ],
            "layout": "IPY_MODEL_5990fcb08d3542f18b193b33254ff2e0"
          }
        },
        "e236927b973a4778baff38f4fe9bde49": {
          "model_module": "@jupyter-widgets/controls",
          "model_name": "HTMLModel",
          "model_module_version": "1.5.0",
          "state": {
            "_dom_classes": [],
            "_model_module": "@jupyter-widgets/controls",
            "_model_module_version": "1.5.0",
            "_model_name": "HTMLModel",
            "_view_count": null,
            "_view_module": "@jupyter-widgets/controls",
            "_view_module_version": "1.5.0",
            "_view_name": "HTMLView",
            "description": "",
            "description_tooltip": null,
            "layout": "IPY_MODEL_477eced548434b1ba22a06cc28a4c8da",
            "placeholder": "​",
            "style": "IPY_MODEL_f1672195ff65462e9442ccdd37175f50",
            "value": "vocab.txt: 100%"
          }
        },
        "132e90ef6d07464288f0fdc3589250a3": {
          "model_module": "@jupyter-widgets/controls",
          "model_name": "FloatProgressModel",
          "model_module_version": "1.5.0",
          "state": {
            "_dom_classes": [],
            "_model_module": "@jupyter-widgets/controls",
            "_model_module_version": "1.5.0",
            "_model_name": "FloatProgressModel",
            "_view_count": null,
            "_view_module": "@jupyter-widgets/controls",
            "_view_module_version": "1.5.0",
            "_view_name": "ProgressView",
            "bar_style": "success",
            "description": "",
            "description_tooltip": null,
            "layout": "IPY_MODEL_ea6a0df408404f64b2a0dceab78a446c",
            "max": 231536,
            "min": 0,
            "orientation": "horizontal",
            "style": "IPY_MODEL_7819cb21fc03410b8fbc27b426aec545",
            "value": 231536
          }
        },
        "b294ed4dbd844fa685b71142a5862f15": {
          "model_module": "@jupyter-widgets/controls",
          "model_name": "HTMLModel",
          "model_module_version": "1.5.0",
          "state": {
            "_dom_classes": [],
            "_model_module": "@jupyter-widgets/controls",
            "_model_module_version": "1.5.0",
            "_model_name": "HTMLModel",
            "_view_count": null,
            "_view_module": "@jupyter-widgets/controls",
            "_view_module_version": "1.5.0",
            "_view_name": "HTMLView",
            "description": "",
            "description_tooltip": null,
            "layout": "IPY_MODEL_e49c639553b54b0393301da133f0ad15",
            "placeholder": "​",
            "style": "IPY_MODEL_21d1516ef80f462c86624f28f590e23e",
            "value": " 232k/232k [00:00&lt;00:00, 2.59MB/s]"
          }
        },
        "5990fcb08d3542f18b193b33254ff2e0": {
          "model_module": "@jupyter-widgets/base",
          "model_name": "LayoutModel",
          "model_module_version": "1.2.0",
          "state": {
            "_model_module": "@jupyter-widgets/base",
            "_model_module_version": "1.2.0",
            "_model_name": "LayoutModel",
            "_view_count": null,
            "_view_module": "@jupyter-widgets/base",
            "_view_module_version": "1.2.0",
            "_view_name": "LayoutView",
            "align_content": null,
            "align_items": null,
            "align_self": null,
            "border": null,
            "bottom": null,
            "display": null,
            "flex": null,
            "flex_flow": null,
            "grid_area": null,
            "grid_auto_columns": null,
            "grid_auto_flow": null,
            "grid_auto_rows": null,
            "grid_column": null,
            "grid_gap": null,
            "grid_row": null,
            "grid_template_areas": null,
            "grid_template_columns": null,
            "grid_template_rows": null,
            "height": null,
            "justify_content": null,
            "justify_items": null,
            "left": null,
            "margin": null,
            "max_height": null,
            "max_width": null,
            "min_height": null,
            "min_width": null,
            "object_fit": null,
            "object_position": null,
            "order": null,
            "overflow": null,
            "overflow_x": null,
            "overflow_y": null,
            "padding": null,
            "right": null,
            "top": null,
            "visibility": null,
            "width": null
          }
        },
        "477eced548434b1ba22a06cc28a4c8da": {
          "model_module": "@jupyter-widgets/base",
          "model_name": "LayoutModel",
          "model_module_version": "1.2.0",
          "state": {
            "_model_module": "@jupyter-widgets/base",
            "_model_module_version": "1.2.0",
            "_model_name": "LayoutModel",
            "_view_count": null,
            "_view_module": "@jupyter-widgets/base",
            "_view_module_version": "1.2.0",
            "_view_name": "LayoutView",
            "align_content": null,
            "align_items": null,
            "align_self": null,
            "border": null,
            "bottom": null,
            "display": null,
            "flex": null,
            "flex_flow": null,
            "grid_area": null,
            "grid_auto_columns": null,
            "grid_auto_flow": null,
            "grid_auto_rows": null,
            "grid_column": null,
            "grid_gap": null,
            "grid_row": null,
            "grid_template_areas": null,
            "grid_template_columns": null,
            "grid_template_rows": null,
            "height": null,
            "justify_content": null,
            "justify_items": null,
            "left": null,
            "margin": null,
            "max_height": null,
            "max_width": null,
            "min_height": null,
            "min_width": null,
            "object_fit": null,
            "object_position": null,
            "order": null,
            "overflow": null,
            "overflow_x": null,
            "overflow_y": null,
            "padding": null,
            "right": null,
            "top": null,
            "visibility": null,
            "width": null
          }
        },
        "f1672195ff65462e9442ccdd37175f50": {
          "model_module": "@jupyter-widgets/controls",
          "model_name": "DescriptionStyleModel",
          "model_module_version": "1.5.0",
          "state": {
            "_model_module": "@jupyter-widgets/controls",
            "_model_module_version": "1.5.0",
            "_model_name": "DescriptionStyleModel",
            "_view_count": null,
            "_view_module": "@jupyter-widgets/base",
            "_view_module_version": "1.2.0",
            "_view_name": "StyleView",
            "description_width": ""
          }
        },
        "ea6a0df408404f64b2a0dceab78a446c": {
          "model_module": "@jupyter-widgets/base",
          "model_name": "LayoutModel",
          "model_module_version": "1.2.0",
          "state": {
            "_model_module": "@jupyter-widgets/base",
            "_model_module_version": "1.2.0",
            "_model_name": "LayoutModel",
            "_view_count": null,
            "_view_module": "@jupyter-widgets/base",
            "_view_module_version": "1.2.0",
            "_view_name": "LayoutView",
            "align_content": null,
            "align_items": null,
            "align_self": null,
            "border": null,
            "bottom": null,
            "display": null,
            "flex": null,
            "flex_flow": null,
            "grid_area": null,
            "grid_auto_columns": null,
            "grid_auto_flow": null,
            "grid_auto_rows": null,
            "grid_column": null,
            "grid_gap": null,
            "grid_row": null,
            "grid_template_areas": null,
            "grid_template_columns": null,
            "grid_template_rows": null,
            "height": null,
            "justify_content": null,
            "justify_items": null,
            "left": null,
            "margin": null,
            "max_height": null,
            "max_width": null,
            "min_height": null,
            "min_width": null,
            "object_fit": null,
            "object_position": null,
            "order": null,
            "overflow": null,
            "overflow_x": null,
            "overflow_y": null,
            "padding": null,
            "right": null,
            "top": null,
            "visibility": null,
            "width": null
          }
        },
        "7819cb21fc03410b8fbc27b426aec545": {
          "model_module": "@jupyter-widgets/controls",
          "model_name": "ProgressStyleModel",
          "model_module_version": "1.5.0",
          "state": {
            "_model_module": "@jupyter-widgets/controls",
            "_model_module_version": "1.5.0",
            "_model_name": "ProgressStyleModel",
            "_view_count": null,
            "_view_module": "@jupyter-widgets/base",
            "_view_module_version": "1.2.0",
            "_view_name": "StyleView",
            "bar_color": null,
            "description_width": ""
          }
        },
        "e49c639553b54b0393301da133f0ad15": {
          "model_module": "@jupyter-widgets/base",
          "model_name": "LayoutModel",
          "model_module_version": "1.2.0",
          "state": {
            "_model_module": "@jupyter-widgets/base",
            "_model_module_version": "1.2.0",
            "_model_name": "LayoutModel",
            "_view_count": null,
            "_view_module": "@jupyter-widgets/base",
            "_view_module_version": "1.2.0",
            "_view_name": "LayoutView",
            "align_content": null,
            "align_items": null,
            "align_self": null,
            "border": null,
            "bottom": null,
            "display": null,
            "flex": null,
            "flex_flow": null,
            "grid_area": null,
            "grid_auto_columns": null,
            "grid_auto_flow": null,
            "grid_auto_rows": null,
            "grid_column": null,
            "grid_gap": null,
            "grid_row": null,
            "grid_template_areas": null,
            "grid_template_columns": null,
            "grid_template_rows": null,
            "height": null,
            "justify_content": null,
            "justify_items": null,
            "left": null,
            "margin": null,
            "max_height": null,
            "max_width": null,
            "min_height": null,
            "min_width": null,
            "object_fit": null,
            "object_position": null,
            "order": null,
            "overflow": null,
            "overflow_x": null,
            "overflow_y": null,
            "padding": null,
            "right": null,
            "top": null,
            "visibility": null,
            "width": null
          }
        },
        "21d1516ef80f462c86624f28f590e23e": {
          "model_module": "@jupyter-widgets/controls",
          "model_name": "DescriptionStyleModel",
          "model_module_version": "1.5.0",
          "state": {
            "_model_module": "@jupyter-widgets/controls",
            "_model_module_version": "1.5.0",
            "_model_name": "DescriptionStyleModel",
            "_view_count": null,
            "_view_module": "@jupyter-widgets/base",
            "_view_module_version": "1.2.0",
            "_view_name": "StyleView",
            "description_width": ""
          }
        },
        "198265fa4bc643709d3c7a5ef50263d9": {
          "model_module": "@jupyter-widgets/controls",
          "model_name": "HBoxModel",
          "model_module_version": "1.5.0",
          "state": {
            "_dom_classes": [],
            "_model_module": "@jupyter-widgets/controls",
            "_model_module_version": "1.5.0",
            "_model_name": "HBoxModel",
            "_view_count": null,
            "_view_module": "@jupyter-widgets/controls",
            "_view_module_version": "1.5.0",
            "_view_name": "HBoxView",
            "box_style": "",
            "children": [
              "IPY_MODEL_aed8043ecfde4f3492205d8cbb75c5fc",
              "IPY_MODEL_3250c118e66d4a11a8f8fe963070e244",
              "IPY_MODEL_e77378f5ab894620b5d5096ae9e6e2aa"
            ],
            "layout": "IPY_MODEL_b3a53bacc2f3439a9e5eea4326271e53"
          }
        },
        "aed8043ecfde4f3492205d8cbb75c5fc": {
          "model_module": "@jupyter-widgets/controls",
          "model_name": "HTMLModel",
          "model_module_version": "1.5.0",
          "state": {
            "_dom_classes": [],
            "_model_module": "@jupyter-widgets/controls",
            "_model_module_version": "1.5.0",
            "_model_name": "HTMLModel",
            "_view_count": null,
            "_view_module": "@jupyter-widgets/controls",
            "_view_module_version": "1.5.0",
            "_view_name": "HTMLView",
            "description": "",
            "description_tooltip": null,
            "layout": "IPY_MODEL_749f2e86b02a476782ba3d6bc66fd2fc",
            "placeholder": "​",
            "style": "IPY_MODEL_cc136aa70fd745af8feaf46d462b6f50",
            "value": "tokenizer.json: 100%"
          }
        },
        "3250c118e66d4a11a8f8fe963070e244": {
          "model_module": "@jupyter-widgets/controls",
          "model_name": "FloatProgressModel",
          "model_module_version": "1.5.0",
          "state": {
            "_dom_classes": [],
            "_model_module": "@jupyter-widgets/controls",
            "_model_module_version": "1.5.0",
            "_model_name": "FloatProgressModel",
            "_view_count": null,
            "_view_module": "@jupyter-widgets/controls",
            "_view_module_version": "1.5.0",
            "_view_name": "ProgressView",
            "bar_style": "success",
            "description": "",
            "description_tooltip": null,
            "layout": "IPY_MODEL_ceb6dea248c54dd0806daef962c989c7",
            "max": 466021,
            "min": 0,
            "orientation": "horizontal",
            "style": "IPY_MODEL_53ccfc631ca446a99f5bb7c9c003db79",
            "value": 466021
          }
        },
        "e77378f5ab894620b5d5096ae9e6e2aa": {
          "model_module": "@jupyter-widgets/controls",
          "model_name": "HTMLModel",
          "model_module_version": "1.5.0",
          "state": {
            "_dom_classes": [],
            "_model_module": "@jupyter-widgets/controls",
            "_model_module_version": "1.5.0",
            "_model_name": "HTMLModel",
            "_view_count": null,
            "_view_module": "@jupyter-widgets/controls",
            "_view_module_version": "1.5.0",
            "_view_name": "HTMLView",
            "description": "",
            "description_tooltip": null,
            "layout": "IPY_MODEL_e8bb241f24784f9fa951fd665dfc7aea",
            "placeholder": "​",
            "style": "IPY_MODEL_01719f6c701e4fb28d01376a43840db3",
            "value": " 466k/466k [00:00&lt;00:00, 4.45MB/s]"
          }
        },
        "b3a53bacc2f3439a9e5eea4326271e53": {
          "model_module": "@jupyter-widgets/base",
          "model_name": "LayoutModel",
          "model_module_version": "1.2.0",
          "state": {
            "_model_module": "@jupyter-widgets/base",
            "_model_module_version": "1.2.0",
            "_model_name": "LayoutModel",
            "_view_count": null,
            "_view_module": "@jupyter-widgets/base",
            "_view_module_version": "1.2.0",
            "_view_name": "LayoutView",
            "align_content": null,
            "align_items": null,
            "align_self": null,
            "border": null,
            "bottom": null,
            "display": null,
            "flex": null,
            "flex_flow": null,
            "grid_area": null,
            "grid_auto_columns": null,
            "grid_auto_flow": null,
            "grid_auto_rows": null,
            "grid_column": null,
            "grid_gap": null,
            "grid_row": null,
            "grid_template_areas": null,
            "grid_template_columns": null,
            "grid_template_rows": null,
            "height": null,
            "justify_content": null,
            "justify_items": null,
            "left": null,
            "margin": null,
            "max_height": null,
            "max_width": null,
            "min_height": null,
            "min_width": null,
            "object_fit": null,
            "object_position": null,
            "order": null,
            "overflow": null,
            "overflow_x": null,
            "overflow_y": null,
            "padding": null,
            "right": null,
            "top": null,
            "visibility": null,
            "width": null
          }
        },
        "749f2e86b02a476782ba3d6bc66fd2fc": {
          "model_module": "@jupyter-widgets/base",
          "model_name": "LayoutModel",
          "model_module_version": "1.2.0",
          "state": {
            "_model_module": "@jupyter-widgets/base",
            "_model_module_version": "1.2.0",
            "_model_name": "LayoutModel",
            "_view_count": null,
            "_view_module": "@jupyter-widgets/base",
            "_view_module_version": "1.2.0",
            "_view_name": "LayoutView",
            "align_content": null,
            "align_items": null,
            "align_self": null,
            "border": null,
            "bottom": null,
            "display": null,
            "flex": null,
            "flex_flow": null,
            "grid_area": null,
            "grid_auto_columns": null,
            "grid_auto_flow": null,
            "grid_auto_rows": null,
            "grid_column": null,
            "grid_gap": null,
            "grid_row": null,
            "grid_template_areas": null,
            "grid_template_columns": null,
            "grid_template_rows": null,
            "height": null,
            "justify_content": null,
            "justify_items": null,
            "left": null,
            "margin": null,
            "max_height": null,
            "max_width": null,
            "min_height": null,
            "min_width": null,
            "object_fit": null,
            "object_position": null,
            "order": null,
            "overflow": null,
            "overflow_x": null,
            "overflow_y": null,
            "padding": null,
            "right": null,
            "top": null,
            "visibility": null,
            "width": null
          }
        },
        "cc136aa70fd745af8feaf46d462b6f50": {
          "model_module": "@jupyter-widgets/controls",
          "model_name": "DescriptionStyleModel",
          "model_module_version": "1.5.0",
          "state": {
            "_model_module": "@jupyter-widgets/controls",
            "_model_module_version": "1.5.0",
            "_model_name": "DescriptionStyleModel",
            "_view_count": null,
            "_view_module": "@jupyter-widgets/base",
            "_view_module_version": "1.2.0",
            "_view_name": "StyleView",
            "description_width": ""
          }
        },
        "ceb6dea248c54dd0806daef962c989c7": {
          "model_module": "@jupyter-widgets/base",
          "model_name": "LayoutModel",
          "model_module_version": "1.2.0",
          "state": {
            "_model_module": "@jupyter-widgets/base",
            "_model_module_version": "1.2.0",
            "_model_name": "LayoutModel",
            "_view_count": null,
            "_view_module": "@jupyter-widgets/base",
            "_view_module_version": "1.2.0",
            "_view_name": "LayoutView",
            "align_content": null,
            "align_items": null,
            "align_self": null,
            "border": null,
            "bottom": null,
            "display": null,
            "flex": null,
            "flex_flow": null,
            "grid_area": null,
            "grid_auto_columns": null,
            "grid_auto_flow": null,
            "grid_auto_rows": null,
            "grid_column": null,
            "grid_gap": null,
            "grid_row": null,
            "grid_template_areas": null,
            "grid_template_columns": null,
            "grid_template_rows": null,
            "height": null,
            "justify_content": null,
            "justify_items": null,
            "left": null,
            "margin": null,
            "max_height": null,
            "max_width": null,
            "min_height": null,
            "min_width": null,
            "object_fit": null,
            "object_position": null,
            "order": null,
            "overflow": null,
            "overflow_x": null,
            "overflow_y": null,
            "padding": null,
            "right": null,
            "top": null,
            "visibility": null,
            "width": null
          }
        },
        "53ccfc631ca446a99f5bb7c9c003db79": {
          "model_module": "@jupyter-widgets/controls",
          "model_name": "ProgressStyleModel",
          "model_module_version": "1.5.0",
          "state": {
            "_model_module": "@jupyter-widgets/controls",
            "_model_module_version": "1.5.0",
            "_model_name": "ProgressStyleModel",
            "_view_count": null,
            "_view_module": "@jupyter-widgets/base",
            "_view_module_version": "1.2.0",
            "_view_name": "StyleView",
            "bar_color": null,
            "description_width": ""
          }
        },
        "e8bb241f24784f9fa951fd665dfc7aea": {
          "model_module": "@jupyter-widgets/base",
          "model_name": "LayoutModel",
          "model_module_version": "1.2.0",
          "state": {
            "_model_module": "@jupyter-widgets/base",
            "_model_module_version": "1.2.0",
            "_model_name": "LayoutModel",
            "_view_count": null,
            "_view_module": "@jupyter-widgets/base",
            "_view_module_version": "1.2.0",
            "_view_name": "LayoutView",
            "align_content": null,
            "align_items": null,
            "align_self": null,
            "border": null,
            "bottom": null,
            "display": null,
            "flex": null,
            "flex_flow": null,
            "grid_area": null,
            "grid_auto_columns": null,
            "grid_auto_flow": null,
            "grid_auto_rows": null,
            "grid_column": null,
            "grid_gap": null,
            "grid_row": null,
            "grid_template_areas": null,
            "grid_template_columns": null,
            "grid_template_rows": null,
            "height": null,
            "justify_content": null,
            "justify_items": null,
            "left": null,
            "margin": null,
            "max_height": null,
            "max_width": null,
            "min_height": null,
            "min_width": null,
            "object_fit": null,
            "object_position": null,
            "order": null,
            "overflow": null,
            "overflow_x": null,
            "overflow_y": null,
            "padding": null,
            "right": null,
            "top": null,
            "visibility": null,
            "width": null
          }
        },
        "01719f6c701e4fb28d01376a43840db3": {
          "model_module": "@jupyter-widgets/controls",
          "model_name": "DescriptionStyleModel",
          "model_module_version": "1.5.0",
          "state": {
            "_model_module": "@jupyter-widgets/controls",
            "_model_module_version": "1.5.0",
            "_model_name": "DescriptionStyleModel",
            "_view_count": null,
            "_view_module": "@jupyter-widgets/base",
            "_view_module_version": "1.2.0",
            "_view_name": "StyleView",
            "description_width": ""
          }
        },
        "e6c82afcab254c79a40fe9280b1c8d32": {
          "model_module": "@jupyter-widgets/controls",
          "model_name": "HBoxModel",
          "model_module_version": "1.5.0",
          "state": {
            "_dom_classes": [],
            "_model_module": "@jupyter-widgets/controls",
            "_model_module_version": "1.5.0",
            "_model_name": "HBoxModel",
            "_view_count": null,
            "_view_module": "@jupyter-widgets/controls",
            "_view_module_version": "1.5.0",
            "_view_name": "HBoxView",
            "box_style": "",
            "children": [
              "IPY_MODEL_581086ca36e5466b871b0ee98832b6ee",
              "IPY_MODEL_f11f11be7c7c40bd853d49a6db5c5df9",
              "IPY_MODEL_d082a6fba2304a5dbb761c226663e642"
            ],
            "layout": "IPY_MODEL_f33bb92eb7514436b9b5df65ed2f7ad3"
          }
        },
        "581086ca36e5466b871b0ee98832b6ee": {
          "model_module": "@jupyter-widgets/controls",
          "model_name": "HTMLModel",
          "model_module_version": "1.5.0",
          "state": {
            "_dom_classes": [],
            "_model_module": "@jupyter-widgets/controls",
            "_model_module_version": "1.5.0",
            "_model_name": "HTMLModel",
            "_view_count": null,
            "_view_module": "@jupyter-widgets/controls",
            "_view_module_version": "1.5.0",
            "_view_name": "HTMLView",
            "description": "",
            "description_tooltip": null,
            "layout": "IPY_MODEL_afe2554dea764deb9854efc1b6c5154a",
            "placeholder": "​",
            "style": "IPY_MODEL_0c73f5072ea74e56baa7ff96a48539b5",
            "value": "special_tokens_map.json: 100%"
          }
        },
        "f11f11be7c7c40bd853d49a6db5c5df9": {
          "model_module": "@jupyter-widgets/controls",
          "model_name": "FloatProgressModel",
          "model_module_version": "1.5.0",
          "state": {
            "_dom_classes": [],
            "_model_module": "@jupyter-widgets/controls",
            "_model_module_version": "1.5.0",
            "_model_name": "FloatProgressModel",
            "_view_count": null,
            "_view_module": "@jupyter-widgets/controls",
            "_view_module_version": "1.5.0",
            "_view_name": "ProgressView",
            "bar_style": "success",
            "description": "",
            "description_tooltip": null,
            "layout": "IPY_MODEL_4b97c0a65b8a4bd1a1571484f4706bba",
            "max": 239,
            "min": 0,
            "orientation": "horizontal",
            "style": "IPY_MODEL_82b5e52668be48e6bac2a313774fee12",
            "value": 239
          }
        },
        "d082a6fba2304a5dbb761c226663e642": {
          "model_module": "@jupyter-widgets/controls",
          "model_name": "HTMLModel",
          "model_module_version": "1.5.0",
          "state": {
            "_dom_classes": [],
            "_model_module": "@jupyter-widgets/controls",
            "_model_module_version": "1.5.0",
            "_model_name": "HTMLModel",
            "_view_count": null,
            "_view_module": "@jupyter-widgets/controls",
            "_view_module_version": "1.5.0",
            "_view_name": "HTMLView",
            "description": "",
            "description_tooltip": null,
            "layout": "IPY_MODEL_b4bd1232de2b409cb345537cfa7cca50",
            "placeholder": "​",
            "style": "IPY_MODEL_a23a349bf35344f6a9ccc91319b43ed3",
            "value": " 239/239 [00:00&lt;00:00, 13.7kB/s]"
          }
        },
        "f33bb92eb7514436b9b5df65ed2f7ad3": {
          "model_module": "@jupyter-widgets/base",
          "model_name": "LayoutModel",
          "model_module_version": "1.2.0",
          "state": {
            "_model_module": "@jupyter-widgets/base",
            "_model_module_version": "1.2.0",
            "_model_name": "LayoutModel",
            "_view_count": null,
            "_view_module": "@jupyter-widgets/base",
            "_view_module_version": "1.2.0",
            "_view_name": "LayoutView",
            "align_content": null,
            "align_items": null,
            "align_self": null,
            "border": null,
            "bottom": null,
            "display": null,
            "flex": null,
            "flex_flow": null,
            "grid_area": null,
            "grid_auto_columns": null,
            "grid_auto_flow": null,
            "grid_auto_rows": null,
            "grid_column": null,
            "grid_gap": null,
            "grid_row": null,
            "grid_template_areas": null,
            "grid_template_columns": null,
            "grid_template_rows": null,
            "height": null,
            "justify_content": null,
            "justify_items": null,
            "left": null,
            "margin": null,
            "max_height": null,
            "max_width": null,
            "min_height": null,
            "min_width": null,
            "object_fit": null,
            "object_position": null,
            "order": null,
            "overflow": null,
            "overflow_x": null,
            "overflow_y": null,
            "padding": null,
            "right": null,
            "top": null,
            "visibility": null,
            "width": null
          }
        },
        "afe2554dea764deb9854efc1b6c5154a": {
          "model_module": "@jupyter-widgets/base",
          "model_name": "LayoutModel",
          "model_module_version": "1.2.0",
          "state": {
            "_model_module": "@jupyter-widgets/base",
            "_model_module_version": "1.2.0",
            "_model_name": "LayoutModel",
            "_view_count": null,
            "_view_module": "@jupyter-widgets/base",
            "_view_module_version": "1.2.0",
            "_view_name": "LayoutView",
            "align_content": null,
            "align_items": null,
            "align_self": null,
            "border": null,
            "bottom": null,
            "display": null,
            "flex": null,
            "flex_flow": null,
            "grid_area": null,
            "grid_auto_columns": null,
            "grid_auto_flow": null,
            "grid_auto_rows": null,
            "grid_column": null,
            "grid_gap": null,
            "grid_row": null,
            "grid_template_areas": null,
            "grid_template_columns": null,
            "grid_template_rows": null,
            "height": null,
            "justify_content": null,
            "justify_items": null,
            "left": null,
            "margin": null,
            "max_height": null,
            "max_width": null,
            "min_height": null,
            "min_width": null,
            "object_fit": null,
            "object_position": null,
            "order": null,
            "overflow": null,
            "overflow_x": null,
            "overflow_y": null,
            "padding": null,
            "right": null,
            "top": null,
            "visibility": null,
            "width": null
          }
        },
        "0c73f5072ea74e56baa7ff96a48539b5": {
          "model_module": "@jupyter-widgets/controls",
          "model_name": "DescriptionStyleModel",
          "model_module_version": "1.5.0",
          "state": {
            "_model_module": "@jupyter-widgets/controls",
            "_model_module_version": "1.5.0",
            "_model_name": "DescriptionStyleModel",
            "_view_count": null,
            "_view_module": "@jupyter-widgets/base",
            "_view_module_version": "1.2.0",
            "_view_name": "StyleView",
            "description_width": ""
          }
        },
        "4b97c0a65b8a4bd1a1571484f4706bba": {
          "model_module": "@jupyter-widgets/base",
          "model_name": "LayoutModel",
          "model_module_version": "1.2.0",
          "state": {
            "_model_module": "@jupyter-widgets/base",
            "_model_module_version": "1.2.0",
            "_model_name": "LayoutModel",
            "_view_count": null,
            "_view_module": "@jupyter-widgets/base",
            "_view_module_version": "1.2.0",
            "_view_name": "LayoutView",
            "align_content": null,
            "align_items": null,
            "align_self": null,
            "border": null,
            "bottom": null,
            "display": null,
            "flex": null,
            "flex_flow": null,
            "grid_area": null,
            "grid_auto_columns": null,
            "grid_auto_flow": null,
            "grid_auto_rows": null,
            "grid_column": null,
            "grid_gap": null,
            "grid_row": null,
            "grid_template_areas": null,
            "grid_template_columns": null,
            "grid_template_rows": null,
            "height": null,
            "justify_content": null,
            "justify_items": null,
            "left": null,
            "margin": null,
            "max_height": null,
            "max_width": null,
            "min_height": null,
            "min_width": null,
            "object_fit": null,
            "object_position": null,
            "order": null,
            "overflow": null,
            "overflow_x": null,
            "overflow_y": null,
            "padding": null,
            "right": null,
            "top": null,
            "visibility": null,
            "width": null
          }
        },
        "82b5e52668be48e6bac2a313774fee12": {
          "model_module": "@jupyter-widgets/controls",
          "model_name": "ProgressStyleModel",
          "model_module_version": "1.5.0",
          "state": {
            "_model_module": "@jupyter-widgets/controls",
            "_model_module_version": "1.5.0",
            "_model_name": "ProgressStyleModel",
            "_view_count": null,
            "_view_module": "@jupyter-widgets/base",
            "_view_module_version": "1.2.0",
            "_view_name": "StyleView",
            "bar_color": null,
            "description_width": ""
          }
        },
        "b4bd1232de2b409cb345537cfa7cca50": {
          "model_module": "@jupyter-widgets/base",
          "model_name": "LayoutModel",
          "model_module_version": "1.2.0",
          "state": {
            "_model_module": "@jupyter-widgets/base",
            "_model_module_version": "1.2.0",
            "_model_name": "LayoutModel",
            "_view_count": null,
            "_view_module": "@jupyter-widgets/base",
            "_view_module_version": "1.2.0",
            "_view_name": "LayoutView",
            "align_content": null,
            "align_items": null,
            "align_self": null,
            "border": null,
            "bottom": null,
            "display": null,
            "flex": null,
            "flex_flow": null,
            "grid_area": null,
            "grid_auto_columns": null,
            "grid_auto_flow": null,
            "grid_auto_rows": null,
            "grid_column": null,
            "grid_gap": null,
            "grid_row": null,
            "grid_template_areas": null,
            "grid_template_columns": null,
            "grid_template_rows": null,
            "height": null,
            "justify_content": null,
            "justify_items": null,
            "left": null,
            "margin": null,
            "max_height": null,
            "max_width": null,
            "min_height": null,
            "min_width": null,
            "object_fit": null,
            "object_position": null,
            "order": null,
            "overflow": null,
            "overflow_x": null,
            "overflow_y": null,
            "padding": null,
            "right": null,
            "top": null,
            "visibility": null,
            "width": null
          }
        },
        "a23a349bf35344f6a9ccc91319b43ed3": {
          "model_module": "@jupyter-widgets/controls",
          "model_name": "DescriptionStyleModel",
          "model_module_version": "1.5.0",
          "state": {
            "_model_module": "@jupyter-widgets/controls",
            "_model_module_version": "1.5.0",
            "_model_name": "DescriptionStyleModel",
            "_view_count": null,
            "_view_module": "@jupyter-widgets/base",
            "_view_module_version": "1.2.0",
            "_view_name": "StyleView",
            "description_width": ""
          }
        },
        "1953afc095e641079683e2606ffa6b32": {
          "model_module": "@jupyter-widgets/controls",
          "model_name": "HBoxModel",
          "model_module_version": "1.5.0",
          "state": {
            "_dom_classes": [],
            "_model_module": "@jupyter-widgets/controls",
            "_model_module_version": "1.5.0",
            "_model_name": "HBoxModel",
            "_view_count": null,
            "_view_module": "@jupyter-widgets/controls",
            "_view_module_version": "1.5.0",
            "_view_name": "HBoxView",
            "box_style": "",
            "children": [
              "IPY_MODEL_fb224c8b02284e77a97080ec7ed1a1a5",
              "IPY_MODEL_b1f70c6a04cf4800baa39f78f4af2534",
              "IPY_MODEL_f6045b6bb24047ef95c4795e15b84f9d"
            ],
            "layout": "IPY_MODEL_b9a47154c48c4346a1e6e1c37b348b4d"
          }
        },
        "fb224c8b02284e77a97080ec7ed1a1a5": {
          "model_module": "@jupyter-widgets/controls",
          "model_name": "HTMLModel",
          "model_module_version": "1.5.0",
          "state": {
            "_dom_classes": [],
            "_model_module": "@jupyter-widgets/controls",
            "_model_module_version": "1.5.0",
            "_model_name": "HTMLModel",
            "_view_count": null,
            "_view_module": "@jupyter-widgets/controls",
            "_view_module_version": "1.5.0",
            "_view_name": "HTMLView",
            "description": "",
            "description_tooltip": null,
            "layout": "IPY_MODEL_8dbdf4bc100142509481f0ac62181e92",
            "placeholder": "​",
            "style": "IPY_MODEL_a72a37c4289c4b0a9187abe7461684b5",
            "value": "1_Pooling/config.json: 100%"
          }
        },
        "b1f70c6a04cf4800baa39f78f4af2534": {
          "model_module": "@jupyter-widgets/controls",
          "model_name": "FloatProgressModel",
          "model_module_version": "1.5.0",
          "state": {
            "_dom_classes": [],
            "_model_module": "@jupyter-widgets/controls",
            "_model_module_version": "1.5.0",
            "_model_name": "FloatProgressModel",
            "_view_count": null,
            "_view_module": "@jupyter-widgets/controls",
            "_view_module_version": "1.5.0",
            "_view_name": "ProgressView",
            "bar_style": "success",
            "description": "",
            "description_tooltip": null,
            "layout": "IPY_MODEL_689cf1cbe52b467a84400fccce237e62",
            "max": 190,
            "min": 0,
            "orientation": "horizontal",
            "style": "IPY_MODEL_c0dad38b5a274f4a98c705ef0a8d3181",
            "value": 190
          }
        },
        "f6045b6bb24047ef95c4795e15b84f9d": {
          "model_module": "@jupyter-widgets/controls",
          "model_name": "HTMLModel",
          "model_module_version": "1.5.0",
          "state": {
            "_dom_classes": [],
            "_model_module": "@jupyter-widgets/controls",
            "_model_module_version": "1.5.0",
            "_model_name": "HTMLModel",
            "_view_count": null,
            "_view_module": "@jupyter-widgets/controls",
            "_view_module_version": "1.5.0",
            "_view_name": "HTMLView",
            "description": "",
            "description_tooltip": null,
            "layout": "IPY_MODEL_f64bdd4f59f9454b8489a72eaaed5736",
            "placeholder": "​",
            "style": "IPY_MODEL_68f76163a79846f499d4e15006271180",
            "value": " 190/190 [00:00&lt;00:00, 9.18kB/s]"
          }
        },
        "b9a47154c48c4346a1e6e1c37b348b4d": {
          "model_module": "@jupyter-widgets/base",
          "model_name": "LayoutModel",
          "model_module_version": "1.2.0",
          "state": {
            "_model_module": "@jupyter-widgets/base",
            "_model_module_version": "1.2.0",
            "_model_name": "LayoutModel",
            "_view_count": null,
            "_view_module": "@jupyter-widgets/base",
            "_view_module_version": "1.2.0",
            "_view_name": "LayoutView",
            "align_content": null,
            "align_items": null,
            "align_self": null,
            "border": null,
            "bottom": null,
            "display": null,
            "flex": null,
            "flex_flow": null,
            "grid_area": null,
            "grid_auto_columns": null,
            "grid_auto_flow": null,
            "grid_auto_rows": null,
            "grid_column": null,
            "grid_gap": null,
            "grid_row": null,
            "grid_template_areas": null,
            "grid_template_columns": null,
            "grid_template_rows": null,
            "height": null,
            "justify_content": null,
            "justify_items": null,
            "left": null,
            "margin": null,
            "max_height": null,
            "max_width": null,
            "min_height": null,
            "min_width": null,
            "object_fit": null,
            "object_position": null,
            "order": null,
            "overflow": null,
            "overflow_x": null,
            "overflow_y": null,
            "padding": null,
            "right": null,
            "top": null,
            "visibility": null,
            "width": null
          }
        },
        "8dbdf4bc100142509481f0ac62181e92": {
          "model_module": "@jupyter-widgets/base",
          "model_name": "LayoutModel",
          "model_module_version": "1.2.0",
          "state": {
            "_model_module": "@jupyter-widgets/base",
            "_model_module_version": "1.2.0",
            "_model_name": "LayoutModel",
            "_view_count": null,
            "_view_module": "@jupyter-widgets/base",
            "_view_module_version": "1.2.0",
            "_view_name": "LayoutView",
            "align_content": null,
            "align_items": null,
            "align_self": null,
            "border": null,
            "bottom": null,
            "display": null,
            "flex": null,
            "flex_flow": null,
            "grid_area": null,
            "grid_auto_columns": null,
            "grid_auto_flow": null,
            "grid_auto_rows": null,
            "grid_column": null,
            "grid_gap": null,
            "grid_row": null,
            "grid_template_areas": null,
            "grid_template_columns": null,
            "grid_template_rows": null,
            "height": null,
            "justify_content": null,
            "justify_items": null,
            "left": null,
            "margin": null,
            "max_height": null,
            "max_width": null,
            "min_height": null,
            "min_width": null,
            "object_fit": null,
            "object_position": null,
            "order": null,
            "overflow": null,
            "overflow_x": null,
            "overflow_y": null,
            "padding": null,
            "right": null,
            "top": null,
            "visibility": null,
            "width": null
          }
        },
        "a72a37c4289c4b0a9187abe7461684b5": {
          "model_module": "@jupyter-widgets/controls",
          "model_name": "DescriptionStyleModel",
          "model_module_version": "1.5.0",
          "state": {
            "_model_module": "@jupyter-widgets/controls",
            "_model_module_version": "1.5.0",
            "_model_name": "DescriptionStyleModel",
            "_view_count": null,
            "_view_module": "@jupyter-widgets/base",
            "_view_module_version": "1.2.0",
            "_view_name": "StyleView",
            "description_width": ""
          }
        },
        "689cf1cbe52b467a84400fccce237e62": {
          "model_module": "@jupyter-widgets/base",
          "model_name": "LayoutModel",
          "model_module_version": "1.2.0",
          "state": {
            "_model_module": "@jupyter-widgets/base",
            "_model_module_version": "1.2.0",
            "_model_name": "LayoutModel",
            "_view_count": null,
            "_view_module": "@jupyter-widgets/base",
            "_view_module_version": "1.2.0",
            "_view_name": "LayoutView",
            "align_content": null,
            "align_items": null,
            "align_self": null,
            "border": null,
            "bottom": null,
            "display": null,
            "flex": null,
            "flex_flow": null,
            "grid_area": null,
            "grid_auto_columns": null,
            "grid_auto_flow": null,
            "grid_auto_rows": null,
            "grid_column": null,
            "grid_gap": null,
            "grid_row": null,
            "grid_template_areas": null,
            "grid_template_columns": null,
            "grid_template_rows": null,
            "height": null,
            "justify_content": null,
            "justify_items": null,
            "left": null,
            "margin": null,
            "max_height": null,
            "max_width": null,
            "min_height": null,
            "min_width": null,
            "object_fit": null,
            "object_position": null,
            "order": null,
            "overflow": null,
            "overflow_x": null,
            "overflow_y": null,
            "padding": null,
            "right": null,
            "top": null,
            "visibility": null,
            "width": null
          }
        },
        "c0dad38b5a274f4a98c705ef0a8d3181": {
          "model_module": "@jupyter-widgets/controls",
          "model_name": "ProgressStyleModel",
          "model_module_version": "1.5.0",
          "state": {
            "_model_module": "@jupyter-widgets/controls",
            "_model_module_version": "1.5.0",
            "_model_name": "ProgressStyleModel",
            "_view_count": null,
            "_view_module": "@jupyter-widgets/base",
            "_view_module_version": "1.2.0",
            "_view_name": "StyleView",
            "bar_color": null,
            "description_width": ""
          }
        },
        "f64bdd4f59f9454b8489a72eaaed5736": {
          "model_module": "@jupyter-widgets/base",
          "model_name": "LayoutModel",
          "model_module_version": "1.2.0",
          "state": {
            "_model_module": "@jupyter-widgets/base",
            "_model_module_version": "1.2.0",
            "_model_name": "LayoutModel",
            "_view_count": null,
            "_view_module": "@jupyter-widgets/base",
            "_view_module_version": "1.2.0",
            "_view_name": "LayoutView",
            "align_content": null,
            "align_items": null,
            "align_self": null,
            "border": null,
            "bottom": null,
            "display": null,
            "flex": null,
            "flex_flow": null,
            "grid_area": null,
            "grid_auto_columns": null,
            "grid_auto_flow": null,
            "grid_auto_rows": null,
            "grid_column": null,
            "grid_gap": null,
            "grid_row": null,
            "grid_template_areas": null,
            "grid_template_columns": null,
            "grid_template_rows": null,
            "height": null,
            "justify_content": null,
            "justify_items": null,
            "left": null,
            "margin": null,
            "max_height": null,
            "max_width": null,
            "min_height": null,
            "min_width": null,
            "object_fit": null,
            "object_position": null,
            "order": null,
            "overflow": null,
            "overflow_x": null,
            "overflow_y": null,
            "padding": null,
            "right": null,
            "top": null,
            "visibility": null,
            "width": null
          }
        },
        "68f76163a79846f499d4e15006271180": {
          "model_module": "@jupyter-widgets/controls",
          "model_name": "DescriptionStyleModel",
          "model_module_version": "1.5.0",
          "state": {
            "_model_module": "@jupyter-widgets/controls",
            "_model_module_version": "1.5.0",
            "_model_name": "DescriptionStyleModel",
            "_view_count": null,
            "_view_module": "@jupyter-widgets/base",
            "_view_module_version": "1.2.0",
            "_view_name": "StyleView",
            "description_width": ""
          }
        }
      }
    }
  },
  "nbformat": 4,
  "nbformat_minor": 0
}