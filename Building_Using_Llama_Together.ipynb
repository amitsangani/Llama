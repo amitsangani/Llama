{
  "cells": [
    {
      "cell_type": "markdown",
      "metadata": {
        "id": "view-in-github",
        "colab_type": "text"
      },
      "source": [
        "<a href=\"https://colab.research.google.com/github/amitsangani/Llama-2/blob/main/Building_Using_Llama_Together.ipynb\" target=\"_parent\"><img src=\"https://colab.research.google.com/assets/colab-badge.svg\" alt=\"Open In Colab\"/></a>"
      ]
    },
    {
      "cell_type": "markdown",
      "metadata": {
        "id": "RJSnI0Xy-kCm"
      },
      "source": [
        "![Meta---Logo@1x.jpg](data:image/jpeg;base64,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)"
      ]
    },
    {
      "cell_type": "markdown",
      "metadata": {
        "id": "LERqQn5v8-ak"
      },
      "source": [
        "# **Building Using Llama 2**\n",
        "Our goal in this session is to provide a guided tour of Llama 2, including understanding different Llama 2 models, how and where to access them, Generative AI and Chatbot architectures, prompt engineering, RAG (Retrieval Augmented Generation), Fine-tuning and more. All this is implemented with a starter code for you to take it and use it in your Llama 2 projects."
      ]
    },
    {
      "cell_type": "markdown",
      "metadata": {
        "id": "ioVMNcTesSEk"
      },
      "source": [
        "##**Prerequisites**\n",
        "* Basic understanding of Large Language Models\n",
        "\n",
        "* Basic understanding of Python\n",
        "\n",
        "* Access to Github, GColab and Together"
      ]
    },
    {
      "cell_type": "code",
      "execution_count": 20,
      "metadata": {
        "id": "ktEA7qXmwdUM"
      },
      "outputs": [],
      "source": [
        "# presentation layer code\n",
        "\n",
        "import base64\n",
        "from IPython.display import Image, display\n",
        "import matplotlib.pyplot as plt\n",
        "\n",
        "def mm(graph):\n",
        "  graphbytes = graph.encode(\"ascii\")\n",
        "  base64_bytes = base64.b64encode(graphbytes)\n",
        "  base64_string = base64_bytes.decode(\"ascii\")\n",
        "  display(Image(url=\"https://mermaid.ink/img/\" + base64_string))\n",
        "\n",
        "def genai_app_arch():\n",
        "  mm(\"\"\"\n",
        "  flowchart TD\n",
        "    A[Users] --> B(Applications e.g. mobile, web)\n",
        "    B <--> |Hosted API|C(Platforms e.g. Custom, Anyscale, HuggingFace, Together, Replicate)\n",
        "    B -- optional --> E(Frameworks e.g. LangChain or LlamaIndex)\n",
        "    C-->|User Input|D[Llama 2]\n",
        "    D-->|Model Output|C\n",
        "    E --> C\n",
        "    classDef default fill:#CCE6FF,stroke:#84BCF5,textColor:#1C2B33,fontFamily:trebuchet ms;\n",
        "  \"\"\")\n",
        "\n",
        "def rag_arch():\n",
        "  mm(\"\"\"\n",
        "  flowchart TD\n",
        "    A[User Prompts] --> B(Frameworks e.g. LangChain)\n",
        "    B <--> |Database, Docs, XLS|C[fa:fa-database External Data]\n",
        "    B -->|API|D[Llama 2]\n",
        "    classDef default fill:#CCE6FF,stroke:#84BCF5,textColor:#1C2B33,fontFamily:trebuchet ms;\n",
        "  \"\"\")\n",
        "\n",
        "def llama2_family():\n",
        "  mm(\"\"\"\n",
        "  graph LR;\n",
        "      llama-2 --> llama-2-7b\n",
        "      llama-2 --> llama-2-13b\n",
        "      llama-2 --> llama-2-70b\n",
        "      llama-2-7b --> llama-2-7b-chat\n",
        "      llama-2-13b --> llama-2-13b-chat\n",
        "      llama-2-70b --> llama-2-70b-chat\n",
        "      classDef default fill:#CCE6FF,stroke:#84BCF5,textColor:#1C2B33,fontFamily:trebuchet ms;\n",
        "  \"\"\")\n",
        "\n",
        "def apps_and_llms():\n",
        "  mm(\"\"\"\n",
        "  graph LR;\n",
        "    users --> apps\n",
        "    apps --> frameworks\n",
        "    frameworks --> platforms\n",
        "    platforms --> Llama 2\n",
        "    classDef default fill:#CCE6FF,stroke:#84BCF5,textColor:#1C2B33,fontFamily:trebuchet ms;\n",
        "  \"\"\")\n",
        "\n",
        "import ipywidgets as widgets\n",
        "from IPython.display import display, Markdown\n",
        "\n",
        "# Create a text widget\n",
        "API_KEY = widgets.Password(\n",
        "    value='',\n",
        "    placeholder='',\n",
        "    description='API_KEY:',\n",
        "    disabled=False\n",
        ")\n",
        "\n",
        "def md(t):\n",
        "  display(Markdown(t))\n",
        "\n",
        "def bot_arch():\n",
        "  mm(\"\"\"\n",
        "  graph LR;\n",
        "  user --> prompt\n",
        "  prompt --> i_safety\n",
        "  i_safety --> context\n",
        "  context --> Llama_2\n",
        "  Llama_2 --> output\n",
        "  output --> o_safety\n",
        "  i_safety --> memory\n",
        "  o_safety --> memory\n",
        "  memory --> context\n",
        "  o_safety --> user\n",
        "  classDef default fill:#CCE6FF,stroke:#84BCF5,textColor:#1C2B33,fontFamily:trebuchet ms;\n",
        "  \"\"\")\n",
        "\n",
        "def fine_tuned_arch():\n",
        "  mm(\"\"\"\n",
        "  graph LR;\n",
        "      Custom_Dataset --> Pre-trained_Llama\n",
        "      Pre-trained_Llama --> Fine-tuned_Llama\n",
        "      Fine-tuned_Llama --> RLHF\n",
        "      RLHF --> |Loss:Cross-Entropy|Fine-tuned_Llama\n",
        "      classDef default fill:#CCE6FF,stroke:#84BCF5,textColor:#1C2B33,fontFamily:trebuchet ms;\n",
        "  \"\"\")\n",
        "\n",
        "def load_data_faiss_arch():\n",
        "  mm(\"\"\"\n",
        "  graph LR;\n",
        "      documents --> textsplitter\n",
        "      textsplitter --> embeddings\n",
        "      embeddings --> vectorstore\n",
        "      classDef default fill:#CCE6FF,stroke:#84BCF5,textColor:#1C2B33,fontFamily:trebuchet ms;\n",
        "  \"\"\")\n",
        "\n",
        "def mem_context():\n",
        "  mm(\"\"\"\n",
        "      graph LR\n",
        "      context(text)\n",
        "      user_prompt --> context\n",
        "      instruction --> context\n",
        "      examples --> context\n",
        "      memory --> context\n",
        "      context --> tokenizer\n",
        "      tokenizer --> embeddings\n",
        "      embeddings --> LLM\n",
        "      classDef default fill:#CCE6FF,stroke:#84BCF5,textColor:#1C2B33,fontFamily:trebuchet ms;\n",
        "  \"\"\")\n"
      ]
    },
    {
      "cell_type": "markdown",
      "metadata": {
        "id": "i4Np_l_KtIno"
      },
      "source": [
        "##**1 - Understanding Llama 2**"
      ]
    },
    {
      "cell_type": "markdown",
      "metadata": {
        "id": "PGPSI3M5PGTi"
      },
      "source": [
        "### **1.1 - What is Llama 2?**\n",
        "\n",
        "* State of the art (SOTA), Open Source LLM\n",
        "* 7B, 13B, 70B\n",
        "* Choosing model: Size, Quality, Cost, Speed\n",
        "* Pretrained + Chat\n",
        "* [Research paper](https://ai.meta.com/research/publications/llama-2-open-foundation-and-fine-tuned-chat-models/)\n",
        "\n",
        "* [Responsible use guide](https://ai.meta.com/llama/responsible-use-guide/)"
      ]
    },
    {
      "cell_type": "code",
      "execution_count": 2,
      "metadata": {
        "id": "OXRCC7wexZXd",
        "colab": {
          "base_uri": "https://localhost:8080/",
          "height": 239
        },
        "outputId": "117d503b-620a-4d32-b729-6c46f7fba8d8"
      },
      "outputs": [
        {
          "output_type": "display_data",
          "data": {
            "text/html": [
              "<img src=\"https://mermaid.ink/img/CiAgZ3JhcGggTFI7CiAgICAgIGxsYW1hLTIgLS0+IGxsYW1hLTItN2IKICAgICAgbGxhbWEtMiAtLT4gbGxhbWEtMi0xM2IKICAgICAgbGxhbWEtMiAtLT4gbGxhbWEtMi03MGIKICAgICAgbGxhbWEtMi03YiAtLT4gbGxhbWEtMi03Yi1jaGF0CiAgICAgIGxsYW1hLTItMTNiIC0tPiBsbGFtYS0yLTEzYi1jaGF0CiAgICAgIGxsYW1hLTItNzBiIC0tPiBsbGFtYS0yLTcwYi1jaGF0CiAgICAgIGNsYXNzRGVmIGRlZmF1bHQgZmlsbDojQ0NFNkZGLHN0cm9rZTojODRCQ0Y1LHRleHRDb2xvcjojMUMyQjMzLGZvbnRGYW1pbHk6dHJlYnVjaGV0IG1zOwogIA==\"/>"
            ],
            "text/plain": [
              "<IPython.core.display.Image object>"
            ]
          },
          "metadata": {}
        }
      ],
      "source": [
        "llama2_family()"
      ]
    },
    {
      "cell_type": "markdown",
      "metadata": {
        "id": "aYeHVVh45bdT"
      },
      "source": [
        "### **1.2 - Accessing Llama 2**\n",
        "* Download + Self Host (i.e. [download Llama](https://ai.meta.com/resources/models-and-libraries/llama-downloads/), [On-Prem Llama with vLLM and TGI](https://github.com/facebookresearch/llama-recipes/blob/main/demo_apps/llama-on-prem.md))\n",
        "* Hosted API Platform (e.g. [Together](https://api.together.xyz/playground/chat/togethercomputer/llama-2-7b-chat), [Anyscale](https://www.anyscale.com/), [Replicate](https://replicate.com/meta))\n",
        "\n",
        "* Hosted Container Platform (e.g. [Azure](https://techcommunity.microsoft.com/t5/ai-machine-learning-blog/introducing-llama-2-on-azure/ba-p/3881233), [AWS](https://aws.amazon.com/blogs/machine-learning/llama-2-foundation-models-from-meta-are-now-available-in-amazon-sagemaker-jumpstart/), [GCP](https://console.cloud.google.com/vertex-ai/publishers/google/model-garden/139))\n",
        "\n"
      ]
    },
    {
      "cell_type": "markdown",
      "metadata": {
        "id": "kBuSay8vtzL4"
      },
      "source": [
        "### **1.3 - Use Cases of Llama 2**\n",
        "* Content Generation\n",
        "* Chatbots\n",
        "* Summarization\n",
        "* Programming (e.g. Code Llama)\n",
        "\n",
        "* and many more..."
      ]
    },
    {
      "cell_type": "markdown",
      "metadata": {
        "id": "sd54g0OHuqBY"
      },
      "source": [
        "## **2 - Using Llama 2**\n",
        "\n",
        "In this notebook, We will use the Llama 2-13b model hosted on https://together.ai. You'll need to first register an account with Together then obtain an Together API key [here](https://api.together.xyz/settings/api-keys). Together offers $25 credit for new accounts.\n"
      ]
    },
    {
      "cell_type": "markdown",
      "metadata": {
        "id": "h3YGMDJidHtH"
      },
      "source": [
        "### **2.1 - Install dependencies**"
      ]
    },
    {
      "cell_type": "code",
      "execution_count": 3,
      "metadata": {
        "id": "VhN6hXwx7FCp",
        "colab": {
          "base_uri": "https://localhost:8080/"
        },
        "outputId": "a7a9f22b-eff3-42c1-ea05-2fef6ce93c29"
      },
      "outputs": [
        {
          "output_type": "stream",
          "name": "stdout",
          "text": [
            "\u001b[2K     \u001b[90m━━━━━━━━━━━━━━━━━━━━━━━━━━━━━━━━━━━━━━━━\u001b[0m \u001b[32m2.0/2.0 MB\u001b[0m \u001b[31m8.3 MB/s\u001b[0m eta \u001b[36m0:00:00\u001b[0m\n",
            "\u001b[2K     \u001b[90m━━━━━━━━━━━━━━━━━━━━━━━━━━━━━━━━━━━━━━━━\u001b[0m \u001b[32m929.3/929.3 kB\u001b[0m \u001b[31m13.8 MB/s\u001b[0m eta \u001b[36m0:00:00\u001b[0m\n",
            "\u001b[2K     \u001b[90m━━━━━━━━━━━━━━━━━━━━━━━━━━━━━━━━━━━━━━━━\u001b[0m \u001b[32m86.0/86.0 kB\u001b[0m \u001b[31m8.7 MB/s\u001b[0m eta \u001b[36m0:00:00\u001b[0m\n",
            "\u001b[?25h  Preparing metadata (setup.py) ... \u001b[?25l\u001b[?25hdone\n",
            "\u001b[2K     \u001b[90m━━━━━━━━━━━━━━━━━━━━━━━━━━━━━━━━━━━━━━━━\u001b[0m \u001b[32m4.2/4.2 MB\u001b[0m \u001b[31m22.6 MB/s\u001b[0m eta \u001b[36m0:00:00\u001b[0m\n",
            "\u001b[?25h  Preparing metadata (setup.py) ... \u001b[?25l\u001b[?25hdone\n",
            "\u001b[2K     \u001b[90m━━━━━━━━━━━━━━━━━━━━━━━━━━━━━━━━━━━━━━━━\u001b[0m \u001b[32m2.3/2.3 MB\u001b[0m \u001b[31m33.0 MB/s\u001b[0m eta \u001b[36m0:00:00\u001b[0m\n",
            "\u001b[2K     \u001b[90m━━━━━━━━━━━━━━━━━━━━━━━━━━━━━━━━━━━━━━━━\u001b[0m \u001b[32m277.9/277.9 kB\u001b[0m \u001b[31m23.5 MB/s\u001b[0m eta \u001b[36m0:00:00\u001b[0m\n",
            "\u001b[2K     \u001b[90m━━━━━━━━━━━━━━━━━━━━━━━━━━━━━━━━━━━━━━━━\u001b[0m \u001b[32m5.6/5.6 MB\u001b[0m \u001b[31m42.6 MB/s\u001b[0m eta \u001b[36m0:00:00\u001b[0m\n",
            "\u001b[2K     \u001b[90m━━━━━━━━━━━━━━━━━━━━━━━━━━━━━━━━━━━━━━━━\u001b[0m \u001b[32m1.7/1.7 MB\u001b[0m \u001b[31m53.4 MB/s\u001b[0m eta \u001b[36m0:00:00\u001b[0m\n",
            "\u001b[2K     \u001b[90m━━━━━━━━━━━━━━━━━━━━━━━━━━━━━━━━━━━━━━━━\u001b[0m \u001b[32m17.6/17.6 MB\u001b[0m \u001b[31m61.1 MB/s\u001b[0m eta \u001b[36m0:00:00\u001b[0m\n",
            "\u001b[2K     \u001b[90m━━━━━━━━━━━━━━━━━━━━━━━━━━━━━━━━━━━━━━━━\u001b[0m \u001b[32m61.7/61.7 MB\u001b[0m \u001b[31m9.2 MB/s\u001b[0m eta \u001b[36m0:00:00\u001b[0m\n",
            "\u001b[2K     \u001b[90m━━━━━━━━━━━━━━━━━━━━━━━━━━━━━━━━━━━━━━━━\u001b[0m \u001b[32m62.8/62.8 kB\u001b[0m \u001b[31m5.7 MB/s\u001b[0m eta \u001b[36m0:00:00\u001b[0m\n",
            "\u001b[2K     \u001b[90m━━━━━━━━━━━━━━━━━━━━━━━━━━━━━━━━━━━━━━━━\u001b[0m \u001b[32m181.5/181.5 kB\u001b[0m \u001b[31m16.6 MB/s\u001b[0m eta \u001b[36m0:00:00\u001b[0m\n",
            "\u001b[2K     \u001b[90m━━━━━━━━━━━━━━━━━━━━━━━━━━━━━━━━━━━━━━━━\u001b[0m \u001b[32m48.2/48.2 kB\u001b[0m \u001b[31m4.7 MB/s\u001b[0m eta \u001b[36m0:00:00\u001b[0m\n",
            "\u001b[2K     \u001b[90m━━━━━━━━━━━━━━━━━━━━━━━━━━━━━━━━━━━━━━━━\u001b[0m \u001b[32m143.0/143.0 kB\u001b[0m \u001b[31m12.5 MB/s\u001b[0m eta \u001b[36m0:00:00\u001b[0m\n",
            "\u001b[2K     \u001b[90m━━━━━━━━━━━━━━━━━━━━━━━━━━━━━━━━━━━━━━━━\u001b[0m \u001b[32m75.0/75.0 kB\u001b[0m \u001b[31m6.6 MB/s\u001b[0m eta \u001b[36m0:00:00\u001b[0m\n",
            "\u001b[2K     \u001b[90m━━━━━━━━━━━━━━━━━━━━━━━━━━━━━━━━━━━━━━━━\u001b[0m \u001b[32m221.5/221.5 kB\u001b[0m \u001b[31m19.9 MB/s\u001b[0m eta \u001b[36m0:00:00\u001b[0m\n",
            "\u001b[2K     \u001b[90m━━━━━━━━━━━━━━━━━━━━━━━━━━━━━━━━━━━━━━━━\u001b[0m \u001b[32m2.0/2.0 MB\u001b[0m \u001b[31m68.9 MB/s\u001b[0m eta \u001b[36m0:00:00\u001b[0m\n",
            "\u001b[2K     \u001b[90m━━━━━━━━━━━━━━━━━━━━━━━━━━━━━━━━━━━━━━━━\u001b[0m \u001b[32m1.3/1.3 MB\u001b[0m \u001b[31m65.1 MB/s\u001b[0m eta \u001b[36m0:00:00\u001b[0m\n",
            "\u001b[2K     \u001b[90m━━━━━━━━━━━━━━━━━━━━━━━━━━━━━━━━━━━━━━━━\u001b[0m \u001b[32m2.1/2.1 MB\u001b[0m \u001b[31m78.7 MB/s\u001b[0m eta \u001b[36m0:00:00\u001b[0m\n",
            "\u001b[2K     \u001b[90m━━━━━━━━━━━━━━━━━━━━━━━━━━━━━━━━━━━━━━━━\u001b[0m \u001b[32m3.6/3.6 MB\u001b[0m \u001b[31m89.7 MB/s\u001b[0m eta \u001b[36m0:00:00\u001b[0m\n",
            "\u001b[2K     \u001b[90m━━━━━━━━━━━━━━━━━━━━━━━━━━━━━━━━━━━━━━━━\u001b[0m \u001b[32m397.5/397.5 kB\u001b[0m \u001b[31m28.0 MB/s\u001b[0m eta \u001b[36m0:00:00\u001b[0m\n",
            "\u001b[2K     \u001b[90m━━━━━━━━━━━━━━━━━━━━━━━━━━━━━━━━━━━━━━━━\u001b[0m \u001b[32m275.1/275.1 kB\u001b[0m \u001b[31m23.2 MB/s\u001b[0m eta \u001b[36m0:00:00\u001b[0m\n",
            "\u001b[2K     \u001b[90m━━━━━━━━━━━━━━━━━━━━━━━━━━━━━━━━━━━━━━━━\u001b[0m \u001b[32m981.5/981.5 kB\u001b[0m \u001b[31m49.1 MB/s\u001b[0m eta \u001b[36m0:00:00\u001b[0m\n",
            "\u001b[?25h  Preparing metadata (setup.py) ... \u001b[?25l\u001b[?25hdone\n",
            "\u001b[2K     \u001b[90m━━━━━━━━━━━━━━━━━━━━━━━━━━━━━━━━━━━━━━━━\u001b[0m \u001b[32m3.3/3.3 MB\u001b[0m \u001b[31m69.3 MB/s\u001b[0m eta \u001b[36m0:00:00\u001b[0m\n",
            "\u001b[2K     \u001b[90m━━━━━━━━━━━━━━━━━━━━━━━━━━━━━━━━━━━━━━━━\u001b[0m \u001b[32m19.2/19.2 MB\u001b[0m \u001b[31m25.2 MB/s\u001b[0m eta \u001b[36m0:00:00\u001b[0m\n",
            "\u001b[2K     \u001b[90m━━━━━━━━━━━━━━━━━━━━━━━━━━━━━━━━━━━━━━━━\u001b[0m \u001b[32m45.7/45.7 kB\u001b[0m \u001b[31m4.7 MB/s\u001b[0m eta \u001b[36m0:00:00\u001b[0m\n",
            "\u001b[2K     \u001b[90m━━━━━━━━━━━━━━━━━━━━━━━━━━━━━━━━━━━━━━━━\u001b[0m \u001b[32m15.7/15.7 MB\u001b[0m \u001b[31m74.5 MB/s\u001b[0m eta \u001b[36m0:00:00\u001b[0m\n",
            "\u001b[2K     \u001b[90m━━━━━━━━━━━━━━━━━━━━━━━━━━━━━━━━━━━━━━━━\u001b[0m \u001b[32m5.9/5.9 MB\u001b[0m \u001b[31m86.1 MB/s\u001b[0m eta \u001b[36m0:00:00\u001b[0m\n",
            "\u001b[2K     \u001b[90m━━━━━━━━━━━━━━━━━━━━━━━━━━━━━━━━━━━━━━━━\u001b[0m \u001b[32m49.4/49.4 kB\u001b[0m \u001b[31m5.3 MB/s\u001b[0m eta \u001b[36m0:00:00\u001b[0m\n",
            "\u001b[2K     \u001b[90m━━━━━━━━━━━━━━━━━━━━━━━━━━━━━━━━━━━━━━━━\u001b[0m \u001b[32m46.0/46.0 kB\u001b[0m \u001b[31m5.0 MB/s\u001b[0m eta \u001b[36m0:00:00\u001b[0m\n",
            "\u001b[2K     \u001b[90m━━━━━━━━━━━━━━━━━━━━━━━━━━━━━━━━━━━━━━━━\u001b[0m \u001b[32m76.9/76.9 kB\u001b[0m \u001b[31m8.1 MB/s\u001b[0m eta \u001b[36m0:00:00\u001b[0m\n",
            "\u001b[2K     \u001b[90m━━━━━━━━━━━━━━━━━━━━━━━━━━━━━━━━━━━━━━━━\u001b[0m \u001b[32m58.3/58.3 kB\u001b[0m \u001b[31m5.4 MB/s\u001b[0m eta \u001b[36m0:00:00\u001b[0m\n",
            "\u001b[2K     \u001b[90m━━━━━━━━━━━━━━━━━━━━━━━━━━━━━━━━━━━━━━━━\u001b[0m \u001b[32m42.2/42.2 kB\u001b[0m \u001b[31m4.6 MB/s\u001b[0m eta \u001b[36m0:00:00\u001b[0m\n",
            "\u001b[?25h  Preparing metadata (setup.py) ... \u001b[?25l\u001b[?25hdone\n",
            "\u001b[2K     \u001b[90m━━━━━━━━━━━━━━━━━━━━━━━━━━━━━━━━━━━━━━━━\u001b[0m \u001b[32m49.0/49.0 kB\u001b[0m \u001b[31m5.4 MB/s\u001b[0m eta \u001b[36m0:00:00\u001b[0m\n",
            "\u001b[2K     \u001b[90m━━━━━━━━━━━━━━━━━━━━━━━━━━━━━━━━━━━━━━━━\u001b[0m \u001b[32m112.5/112.5 kB\u001b[0m \u001b[31m11.9 MB/s\u001b[0m eta \u001b[36m0:00:00\u001b[0m\n",
            "\u001b[2K     \u001b[90m━━━━━━━━━━━━━━━━━━━━━━━━━━━━━━━━━━━━━━━━\u001b[0m \u001b[32m86.8/86.8 kB\u001b[0m \u001b[31m8.5 MB/s\u001b[0m eta \u001b[36m0:00:00\u001b[0m\n",
            "\u001b[2K     \u001b[90m━━━━━━━━━━━━━━━━━━━━━━━━━━━━━━━━━━━━━━━━\u001b[0m \u001b[32m2.2/2.2 MB\u001b[0m \u001b[31m72.6 MB/s\u001b[0m eta \u001b[36m0:00:00\u001b[0m\n",
            "\u001b[2K     \u001b[90m━━━━━━━━━━━━━━━━━━━━━━━━━━━━━━━━━━━━━━━━\u001b[0m \u001b[32m79.5/79.5 kB\u001b[0m \u001b[31m7.4 MB/s\u001b[0m eta \u001b[36m0:00:00\u001b[0m\n",
            "\u001b[2K     \u001b[90m━━━━━━━━━━━━━━━━━━━━━━━━━━━━━━━━━━━━━━━━\u001b[0m \u001b[32m3.0/3.0 MB\u001b[0m \u001b[31m74.6 MB/s\u001b[0m eta \u001b[36m0:00:00\u001b[0m\n",
            "\u001b[2K     \u001b[90m━━━━━━━━━━━━━━━━━━━━━━━━━━━━━━━━━━━━━━━━\u001b[0m \u001b[32m117.0/117.0 kB\u001b[0m \u001b[31m11.0 MB/s\u001b[0m eta \u001b[36m0:00:00\u001b[0m\n",
            "\u001b[?25h  Preparing metadata (setup.py) ... \u001b[?25l\u001b[?25hdone\n",
            "  Building wheel for sentence_transformers (setup.py) ... \u001b[?25l\u001b[?25hdone\n",
            "  Building wheel for pdfminer (setup.py) ... \u001b[?25l\u001b[?25hdone\n",
            "  Building wheel for langdetect (setup.py) ... \u001b[?25l\u001b[?25hdone\n",
            "  Building wheel for iopath (setup.py) ... \u001b[?25l\u001b[?25hdone\n",
            "  Building wheel for antlr4-python3-runtime (setup.py) ... \u001b[?25l\u001b[?25hdone\n",
            "\u001b[31mERROR: pip's dependency resolver does not currently take into account all the packages that are installed. This behaviour is the source of the following dependency conflicts.\n",
            "lida 0.0.10 requires fastapi, which is not installed.\n",
            "lida 0.0.10 requires kaleido, which is not installed.\n",
            "lida 0.0.10 requires uvicorn, which is not installed.\n",
            "llmx 0.0.15a0 requires cohere, which is not installed.\n",
            "imageio 2.31.6 requires pillow<10.1.0,>=8.3.2, but you have pillow 10.1.0 which is incompatible.\u001b[0m\u001b[31m\n",
            "\u001b[0m"
          ]
        }
      ],
      "source": [
        "# Install dependencies and initialize\n",
        "%pip install -qU \\\n",
        "    langchain \\\n",
        "    llama-index \\\n",
        "    sentence_transformers \\\n",
        "    pdf2image \\\n",
        "    pdfminer \\\n",
        "    pikepdf \\\n",
        "    pypdf \\\n",
        "    pdfminer.six \\\n",
        "    unstructured \\\n",
        "    faiss-cpu \\\n",
        "    opencv-python \\\n",
        "    unstructured_pytesseract \\\n",
        "    unstructured_inference"
      ]
    },
    {
      "cell_type": "markdown",
      "metadata": {
        "id": "fQmzrWakcyd2"
      },
      "source": [
        "### **2.2 - Create an instance for Llama**"
      ]
    },
    {
      "cell_type": "markdown",
      "metadata": {
        "id": "C4P-b0eQcyd2"
      },
      "source": [
        "First, set the Together API base and key as environment variables - you can quickly sign up at Together and get an API key with $25 free trial credit [here](https://api.together.xyz/settings/api-keys).\n"
      ]
    },
    {
      "cell_type": "code",
      "execution_count": 4,
      "metadata": {
        "id": "yE3sPjS-cyd2",
        "colab": {
          "base_uri": "https://localhost:8080/"
        },
        "outputId": "81cf87fd-f65a-4c1c-e8d2-d057aff8f478"
      },
      "outputs": [
        {
          "name": "stdout",
          "output_type": "stream",
          "text": [
            "··········\n"
          ]
        }
      ],
      "source": [
        "from getpass import getpass\n",
        "\n",
        "TOGETHER_API_KEY = getpass()"
      ]
    },
    {
      "cell_type": "markdown",
      "metadata": {
        "id": "jMiJESNRcyd2"
      },
      "source": [
        "Here is the Llama 2 instance managed by Together."
      ]
    },
    {
      "cell_type": "code",
      "execution_count": 6,
      "metadata": {
        "id": "o7KQ1wp-cyd2"
      },
      "outputs": [],
      "source": [
        "from langchain.llms import Together\n",
        "\n",
        "llama_13b = Together(\n",
        "    model=\"togethercomputer/llama-2-13b-chat\",\n",
        "    temperature=0.75,\n",
        "    max_tokens=512,\n",
        "    top_k=1,\n",
        "    together_api_key=TOGETHER_API_KEY\n",
        ")\n",
        "\n",
        "# wrapper function \"llm\" which includes \"INST\" and \"/INSTR\" prompts for chat\n",
        "def llm(prompt):\n",
        "  output = llama_13b(\"[INST]\" + prompt + \"[/INST]\")\n",
        "  return \"\".join(output)"
      ]
    },
    {
      "cell_type": "code",
      "source": [],
      "metadata": {
        "id": "-wQVUc-6GlG8"
      },
      "execution_count": 12,
      "outputs": []
    },
    {
      "cell_type": "markdown",
      "metadata": {
        "id": "5Jxq0pmf6L73"
      },
      "source": [
        "### **2.3 - Basic QA with Llama**"
      ]
    },
    {
      "cell_type": "code",
      "source": [
        "output = llm(\"The typical color of a llama is: \")\n",
        "md(output)"
      ],
      "metadata": {
        "colab": {
          "base_uri": "https://localhost:8080/",
          "height": 64
        },
        "id": "UtPLbKcZHLQJ",
        "outputId": "d6e64c12-f3d2-4833-b8ba-4e890e1292bb"
      },
      "execution_count": 7,
      "outputs": [
        {
          "output_type": "display_data",
          "data": {
            "text/plain": [
              "<IPython.core.display.Markdown object>"
            ],
            "text/markdown": " The typical color of a llama is brown. Llamas can come in a variety of shades, including light brown, dark brown, and reddish-brown. Some llamas may also have white or gray markings on their faces, necks, and legs."
          },
          "metadata": {}
        }
      ]
    },
    {
      "cell_type": "markdown",
      "metadata": {
        "id": "cWs_s9y-avIT"
      },
      "source": [
        "## **3 - Gen AI Application Architecture**\n",
        "\n",
        "Here is the high-level tech stack/architecture of Generative AI application."
      ]
    },
    {
      "cell_type": "code",
      "execution_count": 21,
      "metadata": {
        "colab": {
          "base_uri": "https://localhost:8080/",
          "height": 445
        },
        "id": "j9BGuI-9AOL5",
        "outputId": "e348c854-bf3a-4290-bed4-905983d75b64"
      },
      "outputs": [
        {
          "output_type": "display_data",
          "data": {
            "text/html": [
              "<img src=\"https://mermaid.ink/img/CiAgZmxvd2NoYXJ0IFRECiAgICBBW1VzZXJzXSAtLT4gQihBcHBsaWNhdGlvbnMgZS5nLiBtb2JpbGUsIHdlYikKICAgIEIgPC0tPiB8SG9zdGVkIEFQSXxDKFBsYXRmb3JtcyBlLmcuIEN1c3RvbSwgQW55c2NhbGUsIEh1Z2dpbmdGYWNlLCBUb2dldGhlciwgUmVwbGljYXRlKQogICAgQiAtLSBvcHRpb25hbCAtLT4gRShGcmFtZXdvcmtzIGUuZy4gTGFuZ0NoYWluIG9yIExsYW1hSW5kZXgpCiAgICBDLS0+fFVzZXIgSW5wdXR8RFtMbGFtYSAyXQogICAgRC0tPnxNb2RlbCBPdXRwdXR8QwogICAgRSAtLT4gQwogICAgY2xhc3NEZWYgZGVmYXVsdCBmaWxsOiNDQ0U2RkYsc3Ryb2tlOiM4NEJDRjUsdGV4dENvbG9yOiMxQzJCMzMsZm9udEZhbWlseTp0cmVidWNoZXQgbXM7CiAg\"/>"
            ],
            "text/plain": [
              "<IPython.core.display.Image object>"
            ]
          },
          "metadata": {}
        }
      ],
      "source": [
        "genai_app_arch()"
      ]
    },
    {
      "cell_type": "markdown",
      "metadata": {
        "id": "6UlxBtbgys6j"
      },
      "source": [
        "## 4 - **Chatbot Architecture**\n",
        "\n",
        "Here are the key components and the information flow in a chatbot.\n",
        "\n",
        "* User Prompts\n",
        "* Input Safety\n",
        "* Llama 2\n",
        "* Output Safety\n",
        "\n",
        "* Memory & Context"
      ]
    },
    {
      "cell_type": "code",
      "execution_count": 21,
      "metadata": {
        "colab": {
          "base_uri": "https://localhost:8080/",
          "height": 177
        },
        "id": "tO5HnB56ys6t",
        "outputId": "0b1d00b1-85c5-471b-cd0b-9a57e9fbeb7f"
      },
      "outputs": [
        {
          "output_type": "display_data",
          "data": {
            "text/html": [
              "<img src=\"https://mermaid.ink/img/CiAgZ3JhcGggTFI7CiAgdXNlciAtLT4gcHJvbXB0CiAgcHJvbXB0IC0tPiBpX3NhZmV0eQogIGlfc2FmZXR5IC0tPiBjb250ZXh0CiAgY29udGV4dCAtLT4gTGxhbWFfMgogIExsYW1hXzIgLS0+IG91dHB1dAogIG91dHB1dCAtLT4gb19zYWZldHkKICBpX3NhZmV0eSAtLT4gbWVtb3J5CiAgb19zYWZldHkgLS0+IG1lbW9yeQogIG1lbW9yeSAtLT4gY29udGV4dAogIG9fc2FmZXR5IC0tPiB1c2VyCiAgY2xhc3NEZWYgZGVmYXVsdCBmaWxsOiNDQ0U2RkYsc3Ryb2tlOiM4NEJDRjUsdGV4dENvbG9yOiMxQzJCMzMsZm9udEZhbWlseTp0cmVidWNoZXQgbXM7CiAg\"/>"
            ],
            "text/plain": [
              "<IPython.core.display.Image object>"
            ]
          },
          "metadata": {}
        }
      ],
      "source": [
        "bot_arch()"
      ]
    },
    {
      "cell_type": "markdown",
      "metadata": {
        "id": "r4DyTLD5ys6t"
      },
      "source": [
        "### **4.1 - Chat conversation**\n",
        "* LLMs are stateless\n",
        "* Single Turn\n",
        "\n",
        "* Multi Turn (Memory)\n",
        "\n"
      ]
    },
    {
      "cell_type": "code",
      "execution_count": 22,
      "metadata": {
        "colab": {
          "base_uri": "https://localhost:8080/",
          "height": 46
        },
        "id": "EMM_egWMys6u",
        "outputId": "d4f522cf-f119-4e2c-9481-032c86539283"
      },
      "outputs": [
        {
          "output_type": "display_data",
          "data": {
            "text/plain": [
              "<IPython.core.display.Markdown object>"
            ],
            "text/markdown": " The average lifespan of a llama is 15 to 20 years."
          },
          "metadata": {}
        }
      ],
      "source": [
        "# example of single turn chat\n",
        "prompt_chat = \"What is the average lifespan of a Llama? Answer the question in few words.\"\n",
        "output = llm(prompt_chat)\n",
        "md(output)"
      ]
    },
    {
      "cell_type": "code",
      "execution_count": 23,
      "metadata": {
        "colab": {
          "base_uri": "https://localhost:8080/",
          "height": 70
        },
        "id": "sZ7uVKDYucgi",
        "outputId": "a3b7e579-91d7-4ccb-ed7c-a4e76fe1b3e6"
      },
      "outputs": [
        {
          "output_type": "display_data",
          "data": {
            "text/plain": [
              "<IPython.core.display.Markdown object>"
            ],
            "text/markdown": " Sure! The animal family of the creatures in the picture is:\n\nCats!"
          },
          "metadata": {}
        }
      ],
      "source": [
        "# example without previous context. LLM's are stateless and cannot understand \"they\" without previous context\n",
        "prompt_chat = \"What animal family are they? Answer the question in few words.\"\n",
        "output = llm(prompt_chat)\n",
        "md(output)"
      ]
    },
    {
      "cell_type": "markdown",
      "metadata": {
        "id": "WQl3wmfbyBQ1"
      },
      "source": [
        "Chat app requires us to send in previous context to LLM to get in valid responses. Below is an example of Multi-turn chat."
      ]
    },
    {
      "cell_type": "code",
      "execution_count": 25,
      "metadata": {
        "colab": {
          "base_uri": "https://localhost:8080/",
          "height": 46
        },
        "id": "t7SZe5fT3HG3",
        "outputId": "d5c918be-83e1-4258-f697-4d08ad6855df"
      },
      "outputs": [
        {
          "output_type": "display_data",
          "data": {
            "text/plain": [
              "<IPython.core.display.Markdown object>"
            ],
            "text/markdown": " Assistant: Llamas are members of the camelid family, which includes camels, alpacas, and vicuñas."
          },
          "metadata": {}
        }
      ],
      "source": [
        "# example of multi-turn chat, with storing previous context\n",
        "prompt_chat = \"\"\"\n",
        "User: What is the average lifespan of a Llama?\n",
        "Assistant: Sure! The average lifespan of a llama is around 15-20 years.\n",
        "User: What animal family are they?\n",
        "\"\"\"\n",
        "output = llm(prompt_chat)\n",
        "md(output)"
      ]
    },
    {
      "cell_type": "code",
      "execution_count": 26,
      "metadata": {
        "colab": {
          "base_uri": "https://localhost:8080/",
          "height": 70
        },
        "id": "CPknNap5cyd3",
        "outputId": "a4a8d279-55f5-4482-c86e-a7eea4b3356e"
      },
      "outputs": [
        {
          "output_type": "display_data",
          "data": {
            "text/plain": [
              "<IPython.core.display.Markdown object>"
            ],
            "text/markdown": " Sure! Here's my answer:\n\nCamelid."
          },
          "metadata": {}
        }
      ],
      "source": [
        "# example of multi-turn chat, with storing previous context\n",
        "prompt_chat = \"\"\"\n",
        "User: What is the average lifespan of a Llama?\n",
        "Assistant: Sure! The average lifespan of a llama is around 20-30 years.\n",
        "User: What animal family are they?\n",
        "\n",
        "Answer the question one word.\n",
        "\"\"\"\n",
        "output = llm(prompt_chat)\n",
        "md(output)"
      ]
    },
    {
      "cell_type": "markdown",
      "metadata": {
        "id": "moXnmJ_xyD10"
      },
      "source": [
        "### **4.2 - Prompt Engineering**\n",
        "* Prompt engineering refers to the science of designing effective prompts to get desired responses\n",
        "\n",
        "* Helps reduce hallucination\n"
      ]
    },
    {
      "cell_type": "markdown",
      "metadata": {
        "id": "t-v-FeZ4ztTB"
      },
      "source": [
        "#### **4.2.1 - In-Context Learning (e.g. Zero-shot, Few-shot)**\n",
        " * In-context learning - specific method of prompt engineering where demonstration of task are provided as part of prompt.\n",
        "  1. Zero-shot learning - model is performing tasks without any\n",
        "input examples.\n",
        "  2. Few or “N-Shot” Learning - model is performing and behaving based on input examples in user's prompt."
      ]
    },
    {
      "cell_type": "code",
      "execution_count": 28,
      "metadata": {
        "colab": {
          "base_uri": "https://localhost:8080/",
          "height": 70
        },
        "id": "6W71MFNZyRkQ",
        "outputId": "32b7e5b5-7b9d-4b3f-e473-45281c67d2e4"
      },
      "outputs": [
        {
          "output_type": "display_data",
          "data": {
            "text/plain": [
              "<IPython.core.display.Markdown object>"
            ],
            "text/markdown": " Sure! Here's my one-word response:\n\nExcited"
          },
          "metadata": {}
        }
      ],
      "source": [
        "# Zero-shot example. To get positive/negative/neutral sentiment, we need to give examples in the prompt\n",
        "prompt = '''\n",
        "Classify: I saw a Gecko.\n",
        "Sentiment: ?\n",
        "\n",
        "Give one word response.\n",
        "'''\n",
        "output = llm(prompt)\n",
        "md(output)"
      ]
    },
    {
      "cell_type": "code",
      "execution_count": 29,
      "metadata": {
        "colab": {
          "base_uri": "https://localhost:8080/",
          "height": 120
        },
        "id": "MCQRjf1Y1RYJ",
        "outputId": "cc3bc0d2-3af2-483d-c9eb-9fddd61f2567"
      },
      "outputs": [
        {
          "output_type": "display_data",
          "data": {
            "text/plain": [
              "<IPython.core.display.Markdown object>"
            ],
            "text/markdown": " Sure! Here are the classifications and sentiment words for each statement:\n\n1. \"I love Llamas!\" - Positive\n2. \"I don't like Snakes\" - Negative\n3. \"I saw a Gecko\" - Neutral"
          },
          "metadata": {}
        }
      ],
      "source": [
        "# By giving examples to Llama, it understands the expected output format.\n",
        "\n",
        "prompt = '''\n",
        "Classify: I love Llamas!\n",
        "Sentiment: Positive\n",
        "Classify: I dont like Snakes.\n",
        "Sentiment: Negative\n",
        "Classify: I saw a Gecko.\n",
        "Sentiment:\n",
        "\n",
        "Give one word response.\n",
        "'''\n",
        "\n",
        "output = llm(prompt)\n",
        "md(output)"
      ]
    },
    {
      "cell_type": "code",
      "execution_count": 30,
      "metadata": {
        "colab": {
          "base_uri": "https://localhost:8080/",
          "height": 70
        },
        "id": "8UmdlTmpDZxA",
        "outputId": "5ae9d322-c6fe-45cf-d8b9-5c60962babda"
      },
      "outputs": [
        {
          "output_type": "display_data",
          "data": {
            "text/plain": [
              "<IPython.core.display.Markdown object>"
            ],
            "text/markdown": " Sure! Here's my one-word response:\n\nLuxury."
          },
          "metadata": {}
        }
      ],
      "source": [
        "# another zero-shot learning\n",
        "prompt = '''\n",
        "QUESTION: Vicuna?\n",
        "ANSWER:\n",
        "\n",
        "Give one word response.\n",
        "'''\n",
        "\n",
        "output = llm(prompt)\n",
        "md(output)"
      ]
    },
    {
      "cell_type": "code",
      "execution_count": 31,
      "metadata": {
        "colab": {
          "base_uri": "https://localhost:8080/",
          "height": 46
        },
        "id": "M_EcsUo1zqFD",
        "outputId": "2b7177b1-0501-4b15-9c6f-4b281083e9ac"
      },
      "outputs": [
        {
          "output_type": "display_data",
          "data": {
            "text/plain": [
              "<IPython.core.display.Markdown object>"
            ],
            "text/markdown": " Yes."
          },
          "metadata": {}
        }
      ],
      "source": [
        "# Another few-shot learning example with formatted prompt.\n",
        "\n",
        "prompt = '''\n",
        "QUESTION: Llama?\n",
        "ANSWER: Yes\n",
        "QUESTION: Alpaca?\n",
        "ANSWER: Yes\n",
        "QUESTION: Rabbit?\n",
        "ANSWER: No\n",
        "QUESTION: Vicuna?\n",
        "ANSWER:\n",
        "'''\n",
        "\n",
        "output = llm(prompt)\n",
        "md(output)"
      ]
    },
    {
      "cell_type": "markdown",
      "metadata": {
        "id": "mbr124Y197xl"
      },
      "source": [
        "#### **4.2.2 - Chain of Thought**\n",
        "\"Chain of thought\" enables complex reasoning through logical step by step thinking and generates meaningful and contextually relevant responses."
      ]
    },
    {
      "cell_type": "code",
      "execution_count": 34,
      "metadata": {
        "colab": {
          "base_uri": "https://localhost:8080/",
          "height": 70
        },
        "id": "Xn8zmLBQzpgj",
        "outputId": "e72e3af1-76f2-4e8c-f124-3fd3cb093781"
      },
      "outputs": [
        {
          "output_type": "display_data",
          "data": {
            "text/plain": [
              "<IPython.core.display.Markdown object>"
            ],
            "text/markdown": " Sure! Here's the answer in one word:\n\n8"
          },
          "metadata": {}
        }
      ],
      "source": [
        "# Standard prompting\n",
        "prompt = '''\n",
        "Llama started with 5 tennis balls. It buys 2 more cans of tennis balls. Each can has 3 tennis balls. How many tennis balls does Llama have? Answer in one word\n",
        "'''\n",
        "\n",
        "output = llm(prompt)\n",
        "md(output)"
      ]
    },
    {
      "cell_type": "code",
      "execution_count": 35,
      "metadata": {
        "colab": {
          "base_uri": "https://localhost:8080/",
          "height": 186
        },
        "id": "lKNOj79o1Kwu",
        "outputId": "81f021b5-49c5-4c8c-bbd7-6ee38771b40a"
      },
      "outputs": [
        {
          "output_type": "display_data",
          "data": {
            "text/plain": [
              "<IPython.core.display.Markdown object>"
            ],
            "text/markdown": " Sure, let's think step by step!\n\nLlama started with 5 tennis balls.\n\nThen, Llama bought 2 more cans of tennis balls.\n\nEach can has 3 tennis balls, so Llama bought 2 x 3 = 6 tennis balls.\n\nNow, let's add the tennis balls that Llama had before and the ones that Llama bought:\n\n5 + 6 = 11\n\nSo, Llama has 11 tennis balls now."
          },
          "metadata": {}
        }
      ],
      "source": [
        "# Chain-Of-Thought prompting\n",
        "prompt = '''\n",
        "Llama started with 5 tennis balls. It buys 2 more cans of tennis balls. Each can has 3 tennis balls. How many tennis balls does Llama have now?\n",
        "Let's think step by step.\n",
        "'''\n",
        "\n",
        "output = llm(prompt)\n",
        "md(output)"
      ]
    },
    {
      "cell_type": "markdown",
      "metadata": {
        "id": "C7tDW-AH770Y"
      },
      "source": [
        "### **4.3 - Retrieval Augmented Generation (RAG)**\n",
        "* Prompt Eng Limitations - Knowledge cutoff & lack of specialized data\n",
        "\n",
        "* Retrieval Augmented Generation(RAG) allows us to retrieve snippets of information from external data sources and augment it to the user's prompt to get tailored responses from Llama 2.\n",
        "\n",
        "For our demo, we are going to download an external PDF file from a URL and query against the content in the pdf file to get contextually relevant information back with the help of Llama!\n",
        "\n",
        "\n",
        "\n"
      ]
    },
    {
      "cell_type": "markdown",
      "metadata": {
        "id": "XiZuIIAPpM77"
      },
      "source": [
        "#### **4.3.1 - RAG Flow & Architecture**"
      ]
    },
    {
      "cell_type": "markdown",
      "metadata": {
        "id": "FlJQJfX1qIKa"
      },
      "source": [
        "**RAG Flow**"
      ]
    },
    {
      "cell_type": "code",
      "execution_count": 36,
      "metadata": {
        "id": "Fl1LPltpRQD9",
        "colab": {
          "base_uri": "https://localhost:8080/",
          "height": 258
        },
        "outputId": "c5214c66-9354-4117-c64c-9a146e21fc39"
      },
      "outputs": [
        {
          "output_type": "display_data",
          "data": {
            "text/html": [
              "<img src=\"https://mermaid.ink/img/CiAgZmxvd2NoYXJ0IFRECiAgICBBW1VzZXIgUHJvbXB0c10gLS0+IEIoRnJhbWV3b3JrcyBlLmcuIExhbmdDaGFpbikKICAgIEIgPC0tPiB8RGF0YWJhc2UsIERvY3MsIFhMU3xDW2ZhOmZhLWRhdGFiYXNlIEV4dGVybmFsIERhdGFdCiAgICBCIC0tPnxBUEl8RFtMbGFtYSAyXQogICAgY2xhc3NEZWYgZGVmYXVsdCBmaWxsOiNDQ0U2RkYsc3Ryb2tlOiM4NEJDRjUsdGV4dENvbG9yOiMxQzJCMzMsZm9udEZhbWlseTp0cmVidWNoZXQgbXM7CiAg\"/>"
            ],
            "text/plain": [
              "<IPython.core.display.Image object>"
            ]
          },
          "metadata": {}
        }
      ],
      "source": [
        "rag_arch()"
      ]
    },
    {
      "cell_type": "markdown",
      "metadata": {
        "id": "00ZhBmDEpmKE"
      },
      "source": [
        "---\n",
        "**RAG Architecture**"
      ]
    },
    {
      "cell_type": "markdown",
      "metadata": {
        "id": "wKYRijpap0t3"
      },
      "source": [
        "![Screenshot 2023-10-28 at 11.54.12 AM.png](data:image/png;base64,iVBORw0KGgoAAAANSUhEUgAAAuYAAAH5CAYAAADN8fuAAAAKumlDQ1BJQ0MgUHJvZmlsZQAASImVlwdUU9kWhs+96SGhJUQ6oTfpLYCUEFoABelgIyQhCSWEFFTsyOAIjgUVESwjOiKi4FgAGSuiWBgEFMU6IIOIMg4WbFjeBRZhZt5676231zrrfNnZZ++z7zrnrv8CQDbjSCSZsDoAWWK5NDokgJ6YlEzHDQIi0AM04ADwHK5MwoyKigCITc1/t3d3ADQ+37Ibz/Xv//9X0+DxZVwAoCiEU3kybhbCJ5HxlSuRygFAIQxMF8sl49yDMFWKbBDh4XEWTDB6PA81dZKpEzGx0SyErQDAkzgcqQAAkivip+dyBUgeUizCjmKeSIxwAcK+WVnZPIRbELZCYiQIj+dnpP4lj+BvOVOVOTkcgZIne5kwfKBIJsnkLP0/H8f/tqxMxVQNC2SQhNLQ6EmGejKyw5UsTp0TOcUi3lQ81CNUhMZNMVfGSp5iHicwXLk2c07EFKeJgtnKPHJ27BTzZUExUyzNjlbWSpOymFPMkU7XVWTEKf1CPluZP08YmzDFuaL4OVMsy4gJn45hKf1SRbRy/3xxSMB03WBl71myv/QrYivXyoWxocreOdP754uZ0zllicq98fiBQdMxccp4iTxAWUuSGaWM52eGKP2y3BjlWjlyIKfXRimfYTonLGqKQSwQAgUQAx7gAylIBdkgE8gBHQQCEZABCfKLA5DjJOcvkY83x8qWLJWKBEI5nYncOj6dLebaz6Q7Ozq7ADB+hyePyBvaxN2EaNenfTkXAPAsQpyCaR/HFIDTTwGgvJv2mb5GjtdmAM52cBXS3EnfxF3DIG8HNUAFOsAQmAIrYAecgTvwBv4gCISBSKSTJLAQcJF+spBOFoPlYA0oBMVgM9gOysFesB8cAkfBcdAAzoCL4Aq4ATpAN3gAesEAeAFGwDswBkEQDiJDFEgHMoLMIVvIGWJAvlAQFAFFQ0lQCiSAxJACWg6thYqhEqgc2gdVQz9Dp6GL0DWoE7oH9UFD0GvoE4yCSTAVNoAtYAeYATPhcDgWXgAL4Bw4Dy6AN8JlcCV8BK6HL8I34G64F34Bj6IASgVFQxmj7FAMFAsViUpGpaGkqJWoIlQpqhJVi2pCtaJuoXpRw6iPaCyagqaj7dDe6FB0HJqLzkGvRG9Al6MPoevRLehb6D70CPorhozRx9hivDBsTCJGgFmMKcSUYg5iTmEuY7oxA5h3WCyWhrXEemBDsUnYdOwy7Absbmwd9gK2E9uPHcXhcDo4W5wPLhLHwclxhbiduCO487gu3ADuA14Fb4R3xgfjk/FifD6+FH8Yfw7fhR/EjxHUCeYEL0IkgUdYSthEOEBoItwkDBDGiBpES6IPMZaYTlxDLCPWEi8THxLfqKiomKh4qsxVEamsVilTOaZyVaVP5SNJk2RDYpHmkxSkjaQq0gXSPdIbMplsQfYnJ5Pl5I3kavIl8mPyB1WKqr0qW5Wnukq1QrVetUv1pRpBzVyNqbZQLU+tVO2E2k21YXWCuoU6S52jvlK9Qv20+l31UQ2KhpNGpEaWxgaNwxrXNJ5p4jQtNIM0eZoFmvs1L2n2U1AUUwqLwqWspRygXKYMULFUSyqbmk4tph6ltlNHtDS1XLXitZZoVWid1eqloWgWNDYtk7aJdpx2h/ZphsEM5gz+jPUzamd0zXivraftr83XLtKu0+7W/qRD1wnSydDZotOg80gXrWujO1d3se4e3cu6w3pUPW89rl6R3nG9+/qwvo1+tP4y/f36bfqjBoYGIQYSg50GlwyGDWmG/obphtsMzxkOGVGMfI1ERtuMzhs9p2vRmfRMehm9hT5irG8caqww3mfcbjxmYmkSZ5JvUmfyyJRoyjBNM91m2mw6YmZkNttsuVmN2X1zgjnDXGi+w7zV/L2FpUWCxTqLBotnltqWbMs8yxrLh1ZkKz+rHKtKq9vWWGuGdYb1busOG9jGzUZoU2Fz0xa2dbcV2e627ZyJmek5UzyzcuZdO5Id0y7Xrsauz55mH2Gfb99g/9LBzCHZYYtDq8NXRzfHTMcDjg+cNJ3CnPKdmpxeO9s4c50rnG+7kF2CXVa5NLq8crV15bvuce1xo7jNdlvn1uz2xd3DXepe6z7kYeaR4rHL4y6DyohibGBc9cR4Bniu8jzj+dHL3UvuddzrT2877wzvw97PZlnO4s86MKvfx8SH47PPp9eX7pvi+6Nvr5+xH8ev0u+Jv6k/z/+g/yDTmpnOPMJ8GeAYIA04FfCe5cVawboQiAoMCSwKbA/SDIoLKg96HGwSLAiuCR4JcQtZFnIhFBMaHrol9C7bgM1lV7NHwjzCVoS1hJPCY8LLw59E2ERII5pmw7PDZm+d/XCO+RzxnIZIEMmO3Br5KMoyKifql7nYuVFzK+Y+jXaKXh7dGkOJWRRzOOZdbEDsptgHcVZxirjmeLX4+fHV8e8TAhNKEnoTHRJXJN5I0k0SJTUm45Ljkw8mj84Lmrd93sB8t/mF8+8ssFywZMG1hboLMxeeXaS2iLPoRAomJSHlcMpnTiSnkjOayk7dlTrCZXF3cF/w/HnbeEN8H34JfzDNJ60k7ZnAR7BVMCT0E5YKh0UsUbnoVXpo+t709xmRGVUZ3zITMuuy8FkpWafFmuIMcUu2YfaS7E6JraRQ0pvjlbM9Z0QaLj0og2QLZI1yKiKW2hRWiu8Ufbm+uRW5HxbHLz6xRGOJeEnbUpul65cO5gXn/bQMvYy7rHm58fI1y/tWMFfsWwmtTF3ZvMp0VcGqgdUhqw+tIa7JWPNrvmN+Sf7btQlrmwoMClYX9H8X8l1NoWqhtPDuOu91e79Hfy/6vn29y/qd678W8YquFzsWlxZ/3sDdcP0Hpx/Kfvi2MW1j+yb3TXs2YzeLN9/Z4rflUIlGSV5J/9bZW+u30bcVbXu7fdH2a6WupXt3EHcodvSWRZQ17jTbuXnn53JheXdFQEXdLv1d63e9383b3bXHf0/tXoO9xXs//Sj6sWdfyL76SovK0v3Y/bn7nx6IP9D6E+On6oO6B4sPfqkSV/Ueij7UUu1RXX1Y//CmGrhGUTN0ZP6RjqOBRxtr7Wr31dHqio+BY4pjz39O+fnO8fDjzScYJ2pPmp/cdYpyqqgeql9aP9IgbOhtTGrsPB12urnJu+nUL/a/VJ0xPlNxVuvspnPEcwXnvp3POz96QXJh+KLgYn/zouYHlxIv3W6Z29J+Ofzy1SvBVy61MlvPX/W5euaa17XT1xnXG26436hvc2s79avbr6fa3dvrb3rcbOzw7GjqnNV5rsuv6+KtwFtXbrNv3+ie0915J+5Oz935d3t7eD3P7mXee3U/9/7Yg9UPMQ+LHqk/Kn2s/7jyN+vf6nrde8/2Bfa1PYl58qCf2//id9nvnwcKnpKflg4aDVY/c352Zih4qOP5vOcDLyQvxoYL/9D4Y9dLq5cn//T/s20kcWTglfTVt9cb3ui8qXrr+rZ5NGr08busd2Pviz7ofDj0kfGx9VPCp8GxxZ9xn8u+WH9p+hr+9eG3rG/fJBwpZ0IKoJABp6UB8LoKAHISoh06ACDOm9TYEwZNfhdMEPhPPKnDJ8wdgCp/AOJWAxCBaJQ9yDBHmITM4zIp1h/ALi7KMaWHJ7T7uGGRr5gSSxodT21jCcE/bVLX/2Xf/5zBeNZxGf/3+V8UTQ1XZK1yLgAAAFZlWElmTU0AKgAAAAgAAYdpAAQAAAABAAAAGgAAAAAAA5KGAAcAAAASAAAARKACAAQAAAABAAAC5qADAAQAAAABAAAB+QAAAABBU0NJSQAAAFNjcmVlbnNob3Q6zZ3PAAAB1mlUWHRYTUw6Y29tLmFkb2JlLnhtcAAAAAAAPHg6eG1wbWV0YSB4bWxuczp4PSJhZG9iZTpuczptZXRhLyIgeDp4bXB0az0iWE1QIENvcmUgNi4wLjAiPgogICA8cmRmOlJERiB4bWxuczpyZGY9Imh0dHA6Ly93d3cudzMub3JnLzE5OTkvMDIvMjItcmRmLXN5bnRheC1ucyMiPgogICAgICA8cmRmOkRlc2NyaXB0aW9uIHJkZjphYm91dD0iIgogICAgICAgICAgICB4bWxuczpleGlmPSJodHRwOi8vbnMuYWRvYmUuY29tL2V4aWYvMS4wLyI+CiAgICAgICAgIDxleGlmOlBpeGVsWURpbWVuc2lvbj41MDU8L2V4aWY6UGl4ZWxZRGltZW5zaW9uPgogICAgICAgICA8ZXhpZjpQaXhlbFhEaW1lbnNpb24+NzQyPC9leGlmOlBpeGVsWERpbWVuc2lvbj4KICAgICAgICAgPGV4aWY6VXNlckNvbW1lbnQ+U2NyZWVuc2hvdDwvZXhpZjpVc2VyQ29tbWVudD4KICAgICAgPC9yZGY6RGVzY3JpcHRpb24+CiAgIDwvcmRmOlJERj4KPC94OnhtcG1ldGE+CraVt7UAAEAASURBVHgB7H0HYFXHme6nq957A0lIgBAgRO8dY6pxL3FJbMfr9LbZ7Nvdt2/by252sy/JJpvdJGvHTvE6Tlw2tgEbY7pppvcihEBCBRDqXbq6uu/75+hIFyEwGBBX0j+ge889Z86cmW/mzHzzz///4+NmgAZFQBFQBBQBRUARUAQUAUVAEbijCDju6NP14YqAIqAIKAKKgCKgCCgCioAiYBBQYq4NQRFQBBQBRUARUAQUAUVAEfACBJSYe0ElaBYUAUVAEVAEFAFFQBFQBBQBJebaBhQBRUARUAQUAUVAEVAEFAEvQECJuRdUgmZBEVAEFAFFQBFQBBQBRUARUGKubUARUAQUAUVAEVAEFAFFQBHwAgSUmHtBJWgWFAFFQBFQBBQBRUARUAQUASXm2gYUAUVAEVAEFAFFQBFQBBQBL0BAibkXVIJmQRFQBBQBRUARUAQUAUVAEVBirm1AEVAEFAFFQBFQBBQBRUAR8AIElJh7QSVoFhQBRUARUAQUAUVAEVAEFAEl5toGFAFFQBFQBBQBRUARUAQUAS9AQIm5F1SCZkERUAQUAUVAEVAEFAFFQBFQYq5tQBFQBBQBRUARUAQUAUVAEfACBJSYe0ElaBYUAUVAEVAEFAFFQBFQBBQBJebaBhQBRUARUAQUAUVAEVAEFAEvQECJuRdUgmZBEVAEFAFFQBFQBBQBRUARUGKubUARUAQUAUVAEVAEFAFFQBHwAgSUmHtBJWgWFAFFQBFQBBQBRUARUAQUASXm2gYUAUVAEVAEFAFFQBFQBBQBL0BAibkXVIJmQRFQBBQBRUARUAQUAUVAEVBirm1AEVAEFAFFQBFQBBQBRUAR8AIElJh7QSVoFhQBRUARUAQUAUVAEVAEFAEl5toGFAFFQBFQBBQBRUARUAQUAS9AQIm5F1SCZkERUAQUAUVAEVAEFAFFQBFQYq5tQBFQBBQBRUARUAQUAUVAEfACBJSYe0ElaBYUAUVAEVAEFAFFQBFQBBQBJebaBhQBRUARUAQUAUVAEVAEFAEvQECJuRdUgmZBEVAEFAFFQBFQBBQBRUARUGKubUARUAQUAUVAEVAEFAFFQBHwAgSUmHtBJWgWFAFFQBFQBBQBRUARUAQUASXm2gYUAUVAEVAEFAFFQBFQBBQBL0BAibkXVIJmQRFQBBQBRUARUAQUAUVAEVBirm1AEVAEFAFFQBFQBBQBRUAR8AIE/LwgD5oFRUARUAQ+NQJtbW1obm6Bn78fggIDP3U6euPAQsDtBpxtToDfvr4OyO+t2z/GqVOncc89y5AyKOGGAKmtb8TadRtQX1+P+1YsR2x05A3dr5EVAUVAERAElJhrOxiQCLS2cRSWkViCD18EDswOfmu4PgRane0mop8/cbu+W25JrPZ2N4pKL6C+rh7hYaFITIzHmnUfYeU7K5E1ahS++ZVnERwcdEuepYl4LwKNnIiVlJxHLduBvLdhYWEYlJyI0JDg6850TW0t3n73fdTUNmLS5InIyEjDS796Fc7WFlwoK8ff/vV30NzixMXz5+Hj64fk5AQEcvLnZr9x8VIF6hsa2W/4Ij1tsHlmQeE5rFz9AdpcLiQnJWPpovnXnReNeOsQkDq7cOEiampq0d7uQmBwCCdZSYgIDzUPcbEPOVdUDDe/Y2NjEBkRduserikpArcAASXmtwBETaJvIVDX2IqXX/4tB91m+Pj4wMWBNIADbkxMNO66az7SUwf1rQLd4tzu+HgPdu/fT+lzEJ549CEOXOGXPUGk0z/7xa/RRmljekYqPvPIA5ddv50/mlta8c677+HwkWPIGTMGn3vqERw/fpxSylqczD1FklWvxPx2VoAXpN3c3Iz/eukVnDhxEnX1DfAhMw8LCUN2dhaefeoziIqMuK5cNjQ1YS/beWVFHaKi4zByeAYSEhJRWlpCkp7BvgHIyzuLX7zwX/ALDMGXnv88ckYNo5S9DX94620cO5aLiMgo/Os//g0JOhAaGmp+N9Q1IJp9iYbeR6CBk6Xfv/Eu9h08gEauYLRzEuXPSVXG0HR858+/hRAKEqqq6/Djn/4cra1tWLp4IR64d2nvZ1SfqAhcAwEl5tcARy/1TwSamppx+PBBDup1lLb5UarCcnaIfddt2IjPPfkZ3H3XPAQEBHQCILJ1p7PNSFn8OArL0nf3INJciSNEwd/Pzwzsdpy2tna0c83cl9d8Hda9Mmi0udxG4icSe/OMNpe5xZ/PEIG+s9UJf04aHCIW7AhtLqbEZ/n5+4qw/4rQyjy0M46odki6duAt5rxkzM/XxwxabXyeH/NqJy/SwDMFhdi+42MS82AsWbLIEA7PdFyuNuw/eBBOlxOtbU128ld8i+RQ0newvDLx6SkIXoJbQKC/ueyU+CyV4CvESILg0Op0EjfBxI2m5kZKK+vQRGIlON2zdAlcJEujRucgKTHO1GcbK9XCmhMvHruIv+Bhl9NKWdJmnRnMpc6IJ5/ZKnkwGHVhZ8fX7zuPwNoN2/Hxrt1sy26zYuJk2yivqMTWbTsoNU/GI/cvRxWlpaLiFMzJpUy+G9lW3O52BAUFITw8zLyD8vaIxLsdTlPv4eEh+M63v4rmVjfiooPRwgnAueJCErlKxqlBYdE5JCfEmLZWWlqKqqpKtDa3o4DS10FJ8UgdnIRvf+MrYFND+uB4A1RlZRXfExeC2Jc42H4bm5vgw/YcxFWdCObDDi6+r9W1dWhztrLtOTi5DDYCg2ZK7+Xdi42JsaPq9zUQOHryDDZs2kQcnZwkRSIwMIBtowKHDh7G3/3DP+Of/+GvUMT6qihn3TGOrLqUl1cgOjqKfY6v6a/qGxrQzDFCdJz8/P1ZTxEcC6yVksrqGqbdZtKVttTAiWEY6zEwwJ+CnlYKBmrhFkEP61vqUNqd9IOhISEICw0x/U0dJw+NfIY0uuCgQI4XvqYvkz4nMioSAeyP29ln1TPtJrZBOZbxRFaFghhfQ/9HoOfRsv+XW0s4wBHwISGXMHxEJmZNn4Hi4hLs2LkTDY11+P3r/4MAdrp3z59j4lwsq8DuvQdRzE7cyYEzOioKkybkYPSoTHNdPs6cLcbuPftwqbKWHbwPCWIs5s2ZafRMW0mu//jOOk4EapCZmY75c2aY+woKirF5+152ug4svnsOvwPx1tvvkSj7YiiX1S+WXeJfOeLjojBxwjhkpA7GgSPHcfxEHqU9LYaELlo4HyFB1gSipqYeHzMPZwtL0djYaAabsTmjMJ5/QlKPHs/DvgNHDDkZzKXd4pJiVFN6FM6BZ/b08UgfkorcM+dw+OgxQ9pl4HrjzVUYNXI4li++y5D5zgLLAcmEkJ7uQQjRwSMnmM+TTL+Wg1gwCVMcZk6fQoJhSRJlUrJlK/V5T59FS0sLn52GqKgI5OcXUm3AF8sWL0Aiy33hYgW27txtcAjkYJecFMfBj4MjJwftJFpCrBubKaGMjkVDQxPPAR/t2IvTZwq4AhKF+NhonC04h7q6RiQlJRD7qZ26v0LoNm/bjbz8AkPERRUiLi4GR47nIpjPeuThexCiOuvdq/eO/847ddKQcgffk699+ctmwrth42ZjZyBtVtRbRKJeXFxMCXiSmbyWUrXB2dqKRLaBpYsWYs6MyR3lYIMx/9sNifr+D35kJnZjRo/BhPGjsJKrM2xiJE/AW2+9ywnrboSQVJ8rKiHBdpOM1eOHP/k5nvjMoxiUEMXn/pbvZiuefPwRzJgyEf/54q9QwnzExyfy/fZnOy4z6ScmxOORB+/hqs8ok49167dgw5atqGPb9iUJS0pMQgvf8QqSyiRK8f/ub/7clOOOg+/lGSg4W4h2ruQFBgXjvnuXY2z2aKx+fwP79SY4OMEpLLqE115/C83OFiMI2fHxbhQUFuB/ffvr7AfD8f6HG7F330GUs98VQhzC1cKcMdl44rGH2Ue044WX/xtnzxSyL0lEQmIiTuefwReffw4pSdHsK9+hwOIQWknQI6OikZaSgqKSErSwTS66+y7ct2wh8gtK+Pw3ce4c+zn2nfGs22CONaXnS0m8I/C1Lz5L1agUbNi8A9tp73D+4gW0cfwICQ3GuJwcPPTQCsSQvGvo3wgoMe/f9auluwoCbnayDh9fDMsYgmVL5pEctmLGzEn4+S9+ifJLl7Bt205MnTTBSE7+4+e/xFl2+K52SsxJRnkjB+gd+PznP4+pE7Ox//Ax/Pq3r1IyI4OuPdC7cez4CXztS89T8uyHTR9tJEmtpGRkWicxP3+hDOtpLBYUHMh0xiAoNBIbN28wOQ7yC0ATB2Y3pbdCVHfs2IVx48Zw8rDLqG0IWQggaTxbWIwvPPukkfj99rU38PHuPUZSaMgE2cROSha/8NxzmDIhiwS1AOs3rDekNiggkJJhJ6VybeZ5h48exJ99/cscMEpI2EvNuXZKeg4cOEipUB0WcwXBj0vCnxTkuRu3bMcbb7yFek4OZHATSaGbup6nTuXiuWeeNhLLd6iL+957HxgyJCsMO3d+bCRFzW0tlC4GY9q0yVyCduDlV17D0WPHzEREpPz+vgEkYpSGu31IVHxYlnaqFBzDtu1bER4VT4J0L44cPWrwkutBlJg1k/hL3TlIeE6ePE6p5pcowfenOsK7+HA9CV1Tg5Hq+zr8KenyJ9FvRERoOO67b7ES80+q8DtwPZLqI8Km29l23353JR544F48/sh9rOtAszIjKyk1fNcqyi+hkrrgMskOZH0383z+qTy8dqkSmVRbofYJgzWx9OE6jUzyKisr4WxpQ2VStSHkct0lKyh+jMF27Ofrz9df4soym9uQKxcl93xJzcpLdVUN25uT/Yn1XonaxCVK86srq0m8Ig3pFuPQsjLaSVD96h//79+igJP63/3hTRJxrgAxnyFBYWynpzjRqDdS3KAgSlo7cyp51nA1BKKiY1gVDkrDW9hX7sXgwUPw6MPLDfmVFbNLFdW8lXXJZQuHm/YxXM3zYZ/iJknesecA3n5nNeuv2QgrpGlIPa3fUIaqyhp84U8+a6TYFVUVXN2owjH2JdJniEBg/eZc9t1bTZsUSXktV2x2XdxjVld82W82N7WwftvwAiduhYVnmbSbK5FhKD1XiqaWBtP2WhpaSerbKBjIwx/YHuoaaUcTEoEgStsrq6qxbuNG02d/leRdQ/9GQNdq+3f9aumuhoCMqxyMHew0RXIhS4SZw4Zh/PiJZgAupkSsurqa0pb1lKiehsvtxLixYzF33lxDHCsrqvALkvgTpwrwLg3IyigJC/IPwl3z51HCPMoQ9OPHTxkvD202WecALlLeziBr2iSMZN+mYxZSSwbLc06jXjJ9ymRkjcwypy6ev4B1JPHx8XGYNXMmpehxaG1qpUrOMUqBinHwaC52fvyxGRgmTZiIB+6/Bykpg1BTVYVf/eYVY+Dm5rPa3S4zWMTQ6Gn50rsxbOgwQ0AKKGHee+AohtCQbTjP+ZJ8iOR+Jp81e9Z0HnfvKkxmmeHLJebFNMxc/d4aGl7VIC42FksWLULWiBFG9WbP/oPY+NFOFJeeJ5H+2BCTcA5OC+fPJbZjzITBbVRbKAmnce7eA4epS34YTuq0D0lJw90LFiI9fYjBw/O5otYjdgIyCZAgk4C2tlajapNCe4HFS+5CXHwCl6BbuBpwBEdOnMYxrjps/mgHB8xGRHLFYAHzkMOVBVGtYWWzTXQvr0laP7wAgXnzZmHIkCF8dbgyc+AAvve9f8UvXvwNdu3Z35k7UQuQ9ymMBsKPf+ZBfPObX8H8ebPhz0lyTU019uw91BnXbksykZMZro/DUi8bS0npihXLDDmW1awHqCLzpeefxlOPP4pUSkMZlX1BEL751ecxcdwo04/IOc4z+Q53veciAAiPjMGfPP8Mvvm1LyKNq0PkjijjBOE0V4xWvb+GajNUceGNS5csxp8yr4/SbkMm3pKUkEj51vDJCEwcN5ormaNZF77IP30GP/y3f8eP/uNFbNy6izc7uHKXhIcevI8TIK4ykpRPmTwBX//qF7jiFo0NG7eQJDeZvuK55z5nzo8akcU+1Ynjx06y78gjnaY6olQya2Rczlg89MA9iIwMpXR7p1FDElL+7LOfwze+/iVMmzLFrKpIvyQqi3sOnjDSeRG2jMzKYrv5EuM+icSEBNN2JJ6LjXYTCX4tJ28B/oEUDqzAs08/gyHs90Q9cduOnbjEyZ6G/o3AJ4vA+nf5tXQDFAEz1JkOtgsAkVZFURon0pOm5jZKXVwkhxzAKVkRcvnVL32eahlBxkDsDS6HNlA1ZTWlvqVUcRGJ2113LcRjD69ATV0DpbgnjXHRkPRU8wAhCZbah8cQa5i4qysDPBJJiui9z5g+DU888ZDRRfzrv/tXVJaXIZp5e/TB+zEmeyQ2btqKV1+jlI1SwAZ24ps3beaSJ6XNwaGGtCfGJyMx/gIuFJ+ntKcSBzlJYNLwafeh9DAIjz3yMKZPHmvI+A9/9BOSmHbkUgK0bNEcjB6ZSen2KcYLxIP3LqHubA9u40hejLLsZbkH9u3bjwo+zy/QH/feu8KoA50vq6R+53dRRynShg1bqLYymKsS5UaCvWjRAjz84ApKzlvxnz97AfspoZd8CkHeQ6IlpDyUKwmPPfYQpkwca1Rd/uMXLxlPGfajKZOXWy7LjgxwkZRQPkMJfXqqqKgk4Tev/Jp14DZlCw0LQS2lXiJde/ChB7H07nmoo97nv/y/f8eZ0/lmYsWoGrwQgcyhQ/Bn3/oKPtqyEzt27aLxZiVOcNUkn/V2iSoIS5cutNoDiVd2djbumjvbGASL/vm+vftR1VyLMq5WmUACJ4RN3jwThE+z3kmlSOqDkZRsGYILaRf1rxSqZLVQVSWMhp5yTqTnkh9ZFZMb5T0yfyYHPMO0pB0NSU/HtEnjTZzZs2bjbH6umWBWVtWjuqbKPDqC7Xz50kVG1SqDRtW79lAli++hEDZpih49h4mvH1ciEB8XafrpbR8fwHauwl2gR53T+XnUJS/CAaqZ/MNf/xn7s8GcGPlxFa0VcdTdT6NbTCcBLqE6o6ya5GSPweypk5g4BSlUQzlxXFbsmlHE1Uk3VxmltURFxeC5px9nWslooDS8quKSEXqMHZuNebOns5+hC072kXv27UMbV1DknnP02iO2Qg6OM3ffvRDjOYmQfq6A6b7/wRrTUKS9nL940UwaRAVmE1cfA4L8UXaxjOOSL/PsYnkKET9pzJWF1zP9BgEl5v2mKrUgN4YAB9FuzKuVKg/llIT7sncUDwvSgVbTwMtFgi4SMjHWEnI9aXw2Xv/DW2ZZuqKywjxWzqcOTjSqE6I+kTBX9MhF8upD/cZG01GLXrVI+ewgg4CEy7Mhy6u+yOREQHTH5W9IWhqlfJWIon626IEHkfSmp6dR1zWYg0I9B24XLlH9Rkh9I40id2yncRx1J2UwCQ2h8RvTayXBFVLq8HXTzWAIUgfFmTyN40DipHRZDCtlCdfkhx+W9JkeDejFoOcgDKaDxXhEqCQebVyylWXazExK3ql+kpIci4iICOp51xpd77raJkqzW2mYF2LKIwZ4ESRBydTx9jkgritF9cUy8hQj0GCq+owckck8+nBSFGu8bogLu2sFkZjGcVVB9H7lvvnzZ+HXr/zKEG4xqPKnyor4sJaJVnpqsslnFN2mJXJFQoi5Bu9FoIJE3E01ltmzpuB+etTYtecgXvv9H0hwKyj13EDVtLvYtqmiwDYk74b1llkGxKIGJbrGosLQc+iZ/ooAvON1tW4zP/gMvjfUquoIciDpdp4wRxI1koaI8i7ItcTEKJI4yZXkT8g8z7K9msD8SpBzV1wzV/TjWgjU1NQZo93J40dj7qxpxn7khV++ZOxSjh8/gbzThQgNE6Nb1hP7hbYOvE2tSR0QeFl9syqOAgJKqaWXo6k861oORGXJTWPfJApKLF1vq+qMSIUR2B5MfC688V652c1VSglWnYohp2UTZM7xkdJXeQa5nw2cfVMI0tIHU52OwqC4eGOYyhZjBC+e8fW4/yGgxLz/1amW6HoQoGRLBm4xPJQgvm13cXn74IH9HDSB1LRU4wkhIoL6fdRLFL+3NTUN1D0MoYu1oxxIKcVipxsfG0eVlxp2uvSNW3yR0jSnkVBv5ZKjGAENTknlMvcYMyhLh19OaXI1JcdipZ976gyJekenbQYF6bxlGKAuK9VI7BBMci4dsgzs4kFFgrVUT9LB+O1kBjExcZTcl9IwNcws1YpKytlzlrScdBxjckZj945tXA5l4fgs+SfBn7qzolctkw8+3ZyTS6Z8HBzqGyyybl3w+DQ63g4zWHicpSQpmqQ3gDi0GFdzQ5mPkguXqFIjup0gQQ+jF4Ngqv0E0iiqhdKiEkyeOJ4TjCaUUA1GCJNgKUQlOjK6Qye3gVKis5g8IZv41Rp9S+uZMlL2HHyYjqcnm8AAxu0oHsdjph2OYPq8lnKfysvHqFFZNJhtMvrA4sXFIm6XD5g9P0nP9jYCb72zBrt37WEd+eGpJx9DbFw01T6okib/SJzMahjfoVZOgo/SkPndlWswbFgGpY9bqT5VR4LlT91jy/c4G1tH9ru+ZcXMDuGcoMsksd3RhsMHjyCWht+JiTEI4fsr757ohe/cscf4QbfukXu77jepssHZk3A7XastuunNg55l4uORn5dnVGxee+MdzJg2hYbTp1B0rsiQwSvu7UxED7ojsHXnPtodvM224YsFVCucMmmiIeIiFHBJ38qqCaF3FFljExWVM1ThO0bVtsxhQ5A8eBAa8upw6PAh2p58ZAQYf2Rbg6wyUtUxg+pTJ3OPmr5ZJvZ2M/Fj/SYNouQ8r5Yrfgfw/tr1iKGXlw/XbaTBseVVxcmJ5Bgab77DvInQY80Ha6kS4zZeXHZQBdEK0u+5kcZ8nBIDZ+Y3myovqWkpzM9GrvDVMB/+GDYkqXux9Xc/Q0CJeT+rUC3O9SEgnaq4FdxLg59Ll6px/oK4zaLnBg7mIfQiMoeGoJGhQRg/YTI2rl+P3LxT+Kfv/wThtNI/eeIEibzleu3+++/Dy7/+Dcl7Bd5fs8Z4ghD3XEWFZw1JeObZZ4yu6ND0ocYY7cyZs/j5f/2K0u5QSrV3mk7ac+A1A7khC0LQrdBO3XAfI9mRqzaBEPLMZdEOlZJFixbhKPWxK6kXv40GohcuDMVH1HtsYGceR48Qjz/xgOEgRnfaHlHs9E2SsgRvnYgi+QigDmYL9S3/68WXMHXKVDxM/VoKsjuDj48/47dRbaUWazdsM+fFC8oMerhZy0Gksrwcr776OxylDrx4xGhoqDfuHRfTu0sc40XwGSX0WCDGe/n5BdSprKOkOs+kI1Isf7onmzhhPHbv/hgu1pUY127dOhT5Z89SDeGiGRRlELNCF1YdJ6wv+zJ/GWGlYMcJhRiCimRcVIMuUaVm5ao1OHTkJAe+WhTQQFak6H4y8F6WmP7wFgTGj89hW5CJbx3+42e/4KoOa4qN15fGffNIxqTiRCDux48Gur17839WsT55ghNjeWfiEuIwZUoOV3ZaLck177Xbvtzc2axY4OGZGSThYab9frB2HW1KTuPPv/1ljB49CntoaN3aWk+D8Zfx3J+4ufISTxIvEnppeFbjM++2zPQ9gkwM5T2ks1Q+tx2foUeXvVQBk42Ntm3dZv7ExaJMO6WNi+65hutDYBRtcv74tg/dZVbjzT++g7f+uJo3CiF3Y0hqGrIy002fKwKCOhrfHj1ylCom5/G97/4l7lm2DD+jh5a6umr88le/5W1SbyIQYV9E4cG4nEy8t4Z9MduQJUCx8iTCkjlzZrPvyGd7aMIrr/w3RMzh6Kh3iR9A17bjs4caXfEzeac5ITiDf2fbFXsWIeo+HYIYqfOly5ZgF9tWA+1fXnj5ZT6fKiwixWd4+KH7tF8ySPTvD2kHGhSBAYeAg1IzcVNYU1dFA8P9dI9Vapa4B1MP9bHHHsTcuTMNJg/R48No6hxy0RqF7HiPHDpI40lxu5aIb//pV6lfmkyr/3uMGgZFMDh86ADJ+TmSBH+S+nGYPmWs8XG74K65xqhI/G0fPHLEbGwiElvptIUMSPp2uHwYt89e45s3TMgZgQV30XUi3Wrlnz6FVe+tpt52LSU5CZQqPowAkzzJtw87eJEceYZuv8ePG9chUfShN5p8Sh0PGbWPy26h72ch5uUVF7lZ04vmb+WqVdxJL4o64/dzg5V4c8+e/bvp5aWAakG+lF5NwYK506irm4y75s2BqI64KbU6eHgfJef5JEDBJCv0q04WLeonY8eOwCQOiEJ2LtFt2I4d21FP8uwXIDMEKUMXUhYZsssl3/xz2L+tnHvyI9mcaB4NecXAroq+po9TR7mC/ozFxkC8z4gnjq7Urfv10zsQmEJXpV/64ue502uWMYYOp5u5lCHpVGu5F488sJwcjKtIbFdCdkaNHIlJ1O2OjOBkMCIaIyiB/MJzT3E1LIrk3WE8BEVyQ6LAIGuvACFsERGRCKX6lARpao9/5hEMHTbUqKOI32khYjOnTsT8+fOpLpVg3HyKJFP2FQgLD6UaF73AUJ1NQjils+FUnRB1LDuIqpbEk2cFUi1tUGI0vkmPSBnDhptJQCQ9i0yl4WAqjUQliMRew/UhMDQ9Gd/6xpfZd+QgIZ4qdFSRG8T+ZvmSJfiX7/29SUTq/QtfeJ5uEHMQExeLUK7gybmpXJF79rOfRUbGUErZWW9UXRw0OIUGmPfgy196mjYxVLmTtsE6DWY/a/Xd7GZ47zwKcpYvW2raQzhtW1KSB2P2nLlIpLGpqCCK+0YJ3/7mVw3JF7/0YnQ+ku0zh3mltMBclz5taGoSvvGNr9KWaBRXQCNMW0yjq9z7aLNzL20QNPR/BOiKtUtW0P+LqyVUBGDUL1a9t44biYiahiyA07sCO84Y+s0ePjQDSezQpbOVIG+HbFZylL6txbhMpBuiuyxeRNLTLMMwiVdUXGriFPNbltWHsXMfMzrLDNpyXSQeZwqKcYRGoQ00MhTvItERocilVwZ5xgJOBGR5dO26zWYgnjlzmjE0k3t37TnMe8/Qf20sFiyYSbeCvlTnqOWGKrupF95I/+CTqQM/yGwRfpjeWc6cLaA0sYkD0iDqZg8310RX+xQl0wcPHTFb2c9h+uKxQsLv3+DyKv+lpaZgFpfRpeyiVnLw6HHjKjGBS+1zZ83geWvyIH6a31291pTJHpwkHfEYM5/lEO8BZwuLWFaSXaruiPR9RGYWsukPPZxkRFJposHUqdPnSMrpdYX1MDJrBNVW/OmuschIiO6aP5vLwRFU+6lhnFyqxeRxUIxgOiNQJm7wqMuelpJG4p6N46cKkJuba/Ta7122AHsP0hCQS9Qx9G0+f85k44ZR8vfGO+/zs92QtRzmRXwb7z141KgA1dNgNytrFPLoTm/dxvXUfw/GT378PQ6eXZvASBoavAMB672sQRPtN2QIk81eIuiHWtSyKqg29YN/+ynVQwpwz4oV9JyxhBO6OqMaEELVFNsPtPjbv8TJmLybYbSJCCdZviBGdkxPiLV4PpIgusLiyUXarGw4E0ff+CLFlB1wq7hCJe09iqoLon4mGx252UfE0MuHTDQlPfGXHxrC53IyIEE2OBP/5CIJl3gVNS1mC/kKThCT6KEjLjaEdiRB+MGPf45TuSdpb5KJ7//T33pM3U0y+nENBMSXfR1X6URVUCbfsveE5yZnUsd1fOcljgRZQZMJl7QrWXU0GwDxfGAA72XdyiZvcq2MK4FiiyTtTfZksMcJSUPqWewfZNU1gO1HiLe0DxdtWWSHWLFROnLiLC5SyCDqL5nDh7C9BmLNh5uxWoQa8TH4i+/8KVVmUo1QoE7KUFdn2qOoB4pOu7RvDf0fASXm/b+OtYQ9IGAvDXZdEv1UUQ2xyGfXeetIDLGMq0N2zhJPiG73IKTdLEvyuixVd09LBgPj55zdrt2hS3wJohPJ2wxJ8Pwtx5YRGOPJcz0mDNa9Vlo2QbbjyiAizxdda7tE1vMvT0fSt7Gwyt9VLklf7ul+3vMeObZD93iSrtwv+ZbyXmHkxGuiEiQjnl3+LjyYbwGEwWBPqbmdvqTpmS85Nvd14COGdUKO7Ph2/uxySl4K6Q5z1Zq19A5TgQnjxmPunOnGJ/p//owuMGkkJpKu7//j/+mcvNhp6Lf3I1BBX+IWMT9riPnTTz3Etue9+d659xh+/vMX2abbKUHNpCrDQhzjRmJr126kEMHJyfgcfOULz3hvATRn143A1779f+jTvpJCkySu2M2Rrg9rP/yQE8RLxlvMd//v31CVsss49LoT1oj9CgHVMe9X1amFuV4EROJ1I0FIroMGZdcKhnx2EOee4glRtDwzdF3tno/uvyWmRfAvf7Zw1p4mBz3FtZ9mPf/ydORaT8+U8/bkQY67h6vd4xnvk+JIfmRZ3zP0dI/BnoZ+dpD7PEP3cpkJQLd0Jb5n2tE0Uq2iZPV0fj5Kikpp1JVPSWYjVZGOUjrmS8n8cCNB83yOHvclBKRdXd5OvDX348ZkYcyo4Thw+CAOHdjLNrhPNBqoduagBH0QVSSWeGvWNV83iMDChQvw3srV3MuhBK+//hal661GyBBGO4ZFixYqKb9BPPtrdN9/YOivhdNyKQKKgCLQEwJGVYHbYefREKuKmzCVlZXT+Je7RHLJeCQNyB5/9D7qy0d3Su17SkPPeScColKQezKfqzE+3KBrBEZlDWU9emdeJVdi6zKS+vJc46E6WgMC6QZVNqrJGT0Sz33+KboU5WZG3pt9zdkNIDCU+1ok0Y6plJusyaZ2ohIjrngfe/Rh2i1MMupQN5CcRu2nCKgqSz+tWC2WIqAIXBsBCiVJyCuwmx4x6usbuULgR3d4kZhA48LYGMtH8bVT0KveioDYS4pnUFHM6kHrzFuzbfTZq+iLW9zzhXMPAg39DwGx85SF1Vbu99Dc3IoQGqha7VSnX/2vtj9diZSYfzrc9C5FQBHoRwgIkROpqg6N/ahStSiKgCKgCPRBBLoUN/tg5jXLioAioAjcCgS82TjwVpRP01AEFAFFQBHoGwh0uWDoG/nVXCoCioAioAgoAoqAIqAIKAL9EgGVmPfLatVCKQKKgCLQ9xEQ15dmsyfZNMhstCOWARo8EXDQA5Gjwz3rtTwped7TH47F1aDskCquUY3LVDnhEQai1FHc44pLXQcNK7q7p/WARg+9HAEl5l5eQZo9RUARUAQGGgKl3OCqqLiIm4C1oY1eVki94EvyaYfuLjPt8wPp29BQmbiQmFrIuLkJVyhSUlKRnJTUb6Fo5MZO+WeLcLb4AveWkA3jhJizuGIg4sHNfTx/9Fs0ugomRNxNDMSNbgB3lI1lW8galm52WO6KpUd9AQE1/uwLtdTP82g2jKGpuou9aztdKRSXnMd5DsyVdF/XykHZ7H7GHdxM8PHoefs5Llq8voNA92bp5glfvwBEcMdB2cJbdpYdPmwYd5eNpO92+sQXidY1fN73nZLfmpxKH9Da6sTZgiKsW/8hEhJikE3f3uHcPTGE3kn8uStjUHCoV7s9vDVI3EAqHWS0vr6e2DUb/Iq4cdbhw8e4zXw0Fi6Yj2S65vP0338DqXtVVGkfTS1t2LT1Y5zIy0cQy5cxLJM7CUeY3Tn9A7hq4LHXgTVKDDxT7lZ6eWlpbeG42cIdjc+h6Gw+BnFH0QdWLEN4sN8V+0Z4VSVrZjoRUGLeCYUe9DYCLpLwKu6CVnWxCtXlNWioqzWDi2xHHRpKX778lm2rZXvjy4QfRjzS27nV5ykCV0dAJJY2DbD4kg/a2GhbW1pJKJq5eVETWrile5vLSVIRgqiEOIRFhnIr90j6S4+5esID4EpraytOnMjF6bxTGJwyCNnZWZzI+JNEyO6tMiG3J+P2t430AADnE4totTYLIwclyL7sQ31QXHQOubmnERkdjaEZmYag99VVhka+NyfzC7H3UC58AwORkzMWwWHhcPjLDpkiJZbNpKzdgO23UCTHAy1IkaWOZXWJ+j1cSnCxLTThAjczKj5XgKSYUEwfN4abVsUNNGj6XHmVmPe5KusfGT5zuhDHD5+AP6Uc8aGhiOZfEDd38ff1o+SD29Ozc/HhNuydY3L/KLaWYoAj4OLae4vbhaqmBpTWVKGpuQlxCbEYmjUCSUnxAw4dUcNYuWo1pZ6+mDZlAicpYcRAyDiJhflrG3CYfLoC2wRdpoiioeqA09mO0vPlOJV7FukZw5CZmfnpkr6Dd5VVVOHd9zYgOjEZacOzEBIaYVabDPdkvmRTJtkhtXuwp3Ddzw+M31bpzdxECDpDC4UD5SUFOLJ/L5bOn8nNq0Z0ChIGBiZ9q5RKzPtWffXp3LY523Cx9BJOHD4O2VIhOSEBwb7+COTOd0LEHexPrM7EKqaP1af06TJr5hWB7gi0k0e0UZXFxdbudLWioqoahRVlCIoIw4TJ4xAXF9v9ln75u7K6GitXrkT2mJGYOG40jdaEhMtfh9pa53e/LP5tLJRIkIWsyh/bmNONVe+tpYqDL+5dsQJhFIL0hVDCzb9efXMlxk2YjFROLNp9KSHvRsKFglKE0xeKc0fyKHszuCkMEP1zP5L0qrLz2Lp5A5YvWoDsEalqIHpHauWTH6rE/JMx0hi3AIHSkgs4su8YgtmxpiYOQliAP/wpLaO6rSUU76aeIl2t0HUNikB/QcBwCjIJmW+KPYWbg6VMSF38buKgWV5Tg/MV5UhMH4TMrOEIC+sbBOrT1E9Z2SWsWv0uZs2aiqwRw4hDK5ORP5uUf5pU9Z4rEZA+NJAqLg5s27YH1bUtWLpkCQL8/a+M6kVnCqgr/+HW3RgzbjIiY7iSRM8zMpH18SDmllxYifm1qk1086UFiEqoCL4c9GLT5mzEts2bMCknE1M4IdY9HK6F4J25psT8zuA+YJ7aRj23vbsOo/z8RQxNTEJCGI3fWHoHCYkvyYhlNEeSwnOeQ7Kct2zjlJwPmMYyQArKTteQcqMLyjLLnLSdzVxkxS18E0qrqlBaVopxUycifdiQfonKP/3L9/DIg8sxkhMQq+RCyu0lMukNJMi7bx+bE/pxQwgIniI1Fwm6nyHnG9ZtQ7vDH0sWLb2hlHozckVlFX7+29cxecZspGSwfVDdUehlB8XslhVtH90A4c8rx0w5Yxuo+/I9czY3YMOalbh/yVwMS0+7Mgk9c0cRUGJ+R+Hv3w+vqanFprUfIdQRhJHDMvhNGXhbG5esfUjKpaPgB/+7ZEBmryEGO9LNmk5EmAoHFYdO5/t3IxmApTPtXogGm7gh5x18lEJNMxtt5YS1vqUFBRcvIHlYGjJGpCOA9hf9IbTx/d+xaxeCgxyYMjGbRXLyT6YkNomUUso5AUPDp0dA+k/pTSVYfalg6nI5sHrNRtozDMHUyVOMsaAVxzs+JccrP9zKCaofxoydBB/aHLXxpCHmUgwNnwoBA11Hc5ApjptG6NXlF3Bg50f4/JMPIyIs5FOlqzfdHgS097s9uA74VC+WlGHnhm1Ij03AhMxhoA09/LiM5sceQoiJEBJjOc/fxm0cLetJ1xnL+jbicm2dA74d9UcARIXFJk2miXe0c7GpcPDdCOSbEE3vE6NS0nD+ZD7Wk0g1NYlEue+H8xcucsMgJ0n5eBZG1shsnXJhDR0zFCXlt6CiO1hYZ0qCLVUHKTxfOH8WXenlo662tvOqtxycLb6IcxcrMTJ7PCX7fqD9qlldMnMLb8lkH8yHaQ3S7fDPjLu07YpNHIyk1GE4ePREHyxR/86yUp/+Xb+9XjrZne/c2WK8/+a7GBKXgJSYGOqSi9qKyyyoit64/Se9hEVSus7Z1+zvXi+Alz7QkrJ6aeY0WzeMgNXu5baOts+eWFaHjAoXR1Fp/yE0EB2VNgQRjmC898f30djQfMPP8aYbnDT+zjt1AuPGiPpKC/88ldckp0Ifup+T8xpuDgHB1ca2lbYLARiSmoyDhw/cXLK3+G5pH2+89S4mTJxM7ZsAqyVwEmvn/BY/bsAlZ7cCWy3IxV5m6MjROEqvPbWN8j5q8BYElJh7S030g3yIoUlRYSmO7TmM5fPmIyk0Cv7sDXy4NE/5eD8oYe8UQdCy/+wndhE5+4x+9y8ERJzVFcwvTmgDKdkaScn5qNQh2P3Rbm5Lb0uVu+L2laOTJ8/A2dKEqKhgZtkm5lKey8veV8rTN/Np0bOcnGwUnD2JS+UXvaYYR07mIXZQKqJj44yxoraL21g18spx0hMaFoYEOmPYvXffbXyYJn2jCCgxv1HENP5VEaipqsf2dZuRyc6VWwMZCbkl77h5Um52Bb0KubdJrIsTAInnonTe1UFuPTNrlvB4Qr7tP8/rd/pYVhvs4Kb0VChLVzm6rtlx9Lv/IuAwq0yAPwdPP+qDJnAADaAq2B9ff6dPknOZUGzZugEzpk82WmqW2oq0cIso9t+a9MaStcPf3xd33zUbaz94z2syWFpRi3T6KndQr1yC0fjymtz1z4yIH/iktDTknilEIzdB0+AdCCgx94566PO5kO20161eh5Fp3HY8hFtnc1dPcYUoGuMSrM9PX0w3ybabxMSzsxYi62rn/or8lj9z0Tyo56eJmoAQ8nZuXNTuIp1nHuXYa0LH29jqakPu6dPILchHyaULqOcmNO0suD2x8Jr8akZuOwKiwuRPF3EBbLuZg1KQGBaNg7sP9jlynn8mHyFBfoiIiiBmQsYl2N/WL/3sLQRkQuRETBw9ZHFJs5mbz3hDqKeqVmR0DAUr3pCbgZGHdvYt4eExcNNTT2W199kcDIxauLKU1tT0yvN6RhG4bgTEJeJxbpc8MjUDg6OiKOGzPK9IAiLNFposOrM3G5rbWuFLyVuQ2YrZ0slt9/Hj7omNTNoH/gGBZsOEhqbGziE/JCiIXmDEXZgVxHN0K3UZ2yldDwrgNbOds331zn7bGDU7W7Fmy0ZcqqhAZHgEErhlexbdhk0ay62o/QPvbCb16b2KgLw1MiFzkEsFsh2PSknFnlO5uJiaguTBCb2al5t5WHFxMSZNymES4nFFJsPKvm4Gz5u7V7Cn1Jwbu6XRhqGW3rOCEoJuLslbcHdzczP8AgM6xgxrrfXmR41bkLF+moS0ArOpHzGPoa/48uoGpCT308L2sWIpMe9jFeaN2b1ITwtHdu3H3dOmc3cxSspFDcOHEm7j/+3TS8tFWmjrVssugd//8Y8xbOhQfPnpz8OPz3Cx127j37+/+DO6fqrGV7/+NTTS08A//eCHqK6rMVAFUCKQk52N+1bch7HZYylpdOLFX7+Mw8dP4If//D1EhIZbrhs5HLQbAk96TCm6PSC4zfajXcT+duIvqwEssgm+fv6oczajtqIZxeVlOJKbS4lGBRbOnoOw4GDjk9j2S3s786Rp3xkE7HbfSV9lNYWrRn5sm2PS06lvvh3LH17Byah3bxQj6LU6nVzZclOXNYa/hJiLxFbDnUZAVEbCIiLQ2nrnPf7IVI0blFKwwjVW/tn9oK4S3t5WIjiL+XlUfAIulJUDo4be3gdq6teFgBLz64JJI10NgXb6szry8SHMmTQZwezoRSJthZvTkurJC4mTSbax06bTLz5CKItlUtpGhtpCVis7KAqlbmG85Q8+gLTkFG6k0IIjRw7iFy+9gOee/hOMHzfGSCBbhNizQ7Kya+VZnkktdSOBb6H0RqTVPtwhT1ReesOfuujHi9RcfFYvWrgQIy6UoLi0BOdKSlFVVYmPD+xnkdsxf9ZshAaFepW0v6PS9es2IWCvpvgLcQn048pUHDfuOoAZc6bepifeumTFKFxeOl+6v7NIuby7Gu40ArReQCBXH8WO5U6HFjJzX65+OjxWN+90ngbS8wMDQlBfbwmzBlK5vbWsSsy9tWb6SL52bd+L5KhYRAQGC801f5J1GYslCOW1SYU5cRs+jAkZ1+TclI7Ln5idTp4wBWOHjTAZyRo1Av/24x/hUO5xjCUxF110yV53aUx9Qy0+WPshDu07SClSC6Lj4rH03hXIGTmKse0Jx20ogJ2kFIQgBpLADKfKQvrgFDSNdeJ04Vm89+EHqKmuwfYDB6gbmoBp4ydZxrUE2pau2snod/9GwIe2FqlJiThRVISqimp6sYjy6gKLPYesBgUE6HDjPRUlvTXJMImwiysadzpQu5BthLJbCkzsseNO52mgPF/wDuYGQ+Xn1fjTW+rceju9JTeajz6FQF1NPRrKaxAbRiMi5ty3o0cVfuljVEBufXGMAWfHUrhnB26rddjfIlkU/XGR0vmLTjqlMXUNjWgjqRFW3jFv6Mygk7rrmz7+GH9c9yFih6djBHfFO3OxDL/87a9RcvF8Z7zbeWBL5WU9wI/ZDOLup+F+ARgzbDiWL7ybRjoRqHe6sJWS8/LaarONu5FG3s5MadpehYC0W8oVjdej+IhQnD6Vx90cRRHAe4PkT1SzgqmC1TV19978DpycueFHC33L/9OdLbXY7ovwQ/r07n3znc1Z/3+6TJp9jUBL6aC31LaKMLylJvpgPk4cy0N4oD9C/PlCU/9VhMqiZiIdq+it9WZwG8YuUwKamzIvVbXlqCiPQF1jIz78aAN1zquRyR1Ifbn1nZDZ7tJyyfPpgrMIjY7AshXLkBifhMwRw7F56za0NPW21wKR+VOthpkyEx5KtXJGjMSF8iqs27IZFysrcOzkScROmYIAg7OFeG/irc+6MwjYqyOy5hMTFoHiokLUVtd5vdTcoCUMQGnXnWk413iqD+2BNAxwBOTV1OA1CCgx95qq6FsZcXF5+kLxeUzi5ic07icfpvEkSaKl9c3f5Iryrt+UGgsTEAIitFP+JFzWf3j88DFMWzzAGMUWvPa73yGk3YGahjqKnv2wdNEiTKUevBBeIe6SosQVPi9uF8XoaOzYHOw9uBe/e+UVjM8Zh+EjsvD5Z59BQmioeXZvfhjs+GEkSeKJRsj5yCwcOn4UFfTWUkKD29Y2NwIM+L2ZM33WnURAvBzJOyXtPZC7IybTm8KZ3HxMmjnpTmZLn93nEJB+kmtzZonR7l37XCE0w4pAv0Sgd8Wa/RLCgVmoovxShNP3aWgw3WxJv05pmEWhxfzSIg83Q8pFMmhUVSyezQfwISSqzjanIavCw0Un0U1jyHYqKPry2N8Yl8nkwAeLlt+DhfcvRxOlQWlpGbhn8TLEUxVEZqJCeg2B79CFcchbwPsnjp+Ip558Gg4/P6xe+z7+7Yf/Dx9+sBot9FoghMgz9GSc6nn9Zo+NZJR5EvUWUckRt1YxocFIiuQkgb7bq+l9ppWEHbzWPW83+2y933sR8Hyn2CoQExSMJrq789ycyntzf6dyJm989yDnRGnM6g26X732757Sk46qrwWrT+voBvta5jW/ikC/RUAl5v22am9vwU4dP4mhSfEc1i4nrPJUT/JwM7mw9A4t3u9H7yji2rCYHkqc1FkNoN64eFCpqqlCDdVUwoOjO1zHidweSE8fgpHpw4xHk21btuHYiROYO3k677DSk3y1C6mVMZZFaHe3oaigAMPTMzBt0iRUiaHljm149513MGHUGCNBl3sk3G5Sbj3l8k/BNJBeb0Loc1Yy3NbWZsoinlzI3zUMQAR8OGkTn/4+be04eeIURmdnDUAUPqnI8nKYJT1+232VEHI72Nfs31f7ttPp6bqQcklHgqTdKU0wZ7z/w8679+dUc6gIDAQE9I0cCLV8i8som2WKG8LwoBAjb7rFyfeYXFh4OMZR1eRCaTFWrl2NovOlKC27gI+2b6NLwQuGiIcHh5rhUdRVAkm6RYJ+3/LliI2Nxvvvv4+y8ku8IlMJDtBUA6moKkd5VQUq6B+8mXrkmzZuxC9ffBHnis5xnPVBXPIgel22NiTqMVO9fFImBL5GZUe2aGEZ+NvNfGoYoAhwgiorKuF8N85xUqnhkxEwOwR39BKWBYcMgfJnv0f295VpNTTWm814ZKHKyYlxcXERGmlQ3mEJwm9Pwn/l/XpGEVAEFIHrQUAl5teDksa5DIELF8pp8BlI1W02H6OvfdnlW/eD46VIikVVQ6zG506fgYqLF7B2w1ps2biB46EfCWo7Zs2cj8WLltInLzdboZjdn2JwcSnnzzE2KToWSxcvwhu/ew07KQG/Z9kyslo3aknSf/bTHyPIl+o4AcF48JFHMGvBfLzy2u/wox/9iB4kQlBb34jpM2Zi2LBht65MN5GSJ2UQTGQJWs7dqhWKm8ia3trLCAiVtNVXwjhBbiu/gBZOlgODAns5J97+OJGSu2gIXobCM2dRXlaJoJAQpHLHy/Shw+Fj1N/sN8uWfMu3BIOydcj3bevm9TiTX4innn4OlTTA/umPvo9Fi+/B8vseomecNuSdPIFBg5IRwW3lLal5x62d6UheNCgCioAicG0ElJhfGx+92gMCedwSPCw8THQ6SAxFz/v2DDg24TTknM+Ii4rGE595AkuXLkVNRQ1clBZGcrv6OPpRD6N3GAfjZAzJwN/81f/G4MGDhLlQogjMnzmbG5plIpi7JAbQbdujjzyKxZSkt5O8B/K36G8nxMcjICQYf/HNb6G8ohJ1dfWIjolBckISIjmQe224PdB7bXE1YxYCYrMntFFktKGcoIZxgilbq8cHxStElyHgw8n8efz6pd+g6Nwl+MqGOpR2+zpcuO+hBzB34RIujgmSni+S/LaDfUy1uYo6nC8ppxpZOyIjYzF+0gyMHjOBER2UnDfhxRdfxhOPP47JM2awV5T7bIIvadm/PZ8j5zUoAoqAInA5AkrML8dDf30CAsbVYLMTsTGxJAXierDNSG0/4babvuxDI0/ZqjmC0sEwbmaUlpjKoVQ0xiVwN0SSbAmie56ZMZSDLSXtNJL0cdNEjhLxYWnpzKvs9elryHYyr4vxqC0rs/XGk2LikBSbwEkHr5Doizv27lJp22WdeWAvfth5tXLEB/NETzr+vZglfdQdQqBDo8nQvUB67AnzDYTTC7ZWv0NwXOWx1pu7+r0PcP5iJR549EmMHz8O50vP4a03X8fWjz7G2InTERoWhIIzZzA4JQF1tQ0ov3DB7HcQTcl3SsYQ+vqWYZJrc/TyBB/q9JPIh4REYMb0WYjjxL2psQ4naXNTX9+KfErUQ8MjkZycQBeWsZws1VD9rpTEvYGS+iA+IwXhERFMzybtStSvUnl6WhEYsAgoMR+wVf/pCt7WxgGK+ycHkLi6KXmyVJy7KOOnS/WT7xLPJCLUEhUOI8Miye56qkXKjYRd4klgXNniuZ3kuuMMT1pH/hxYjScTXpNgSeat1IS4yz1Cys01IeheFERS2jWdkMFdyu5defQiuPp3Vtg2jYNSVn8oVVhaZV9zDR4ImJ4Cl6i+Ek23kmPH53A330hExmThucgvcCIDs2nXRdqr/Pbl32L06GE4c/Ycjckbec1JdTZ/zJwxHSseuI/7H4hKnYNvm1iw+BpVllfoVvXRR58gAY/Emg/WormlHdu37cTRIwexbNkijJ8wFi+/+CuUlFyEiyp2sunayBEj8MRnn0J4ZHhHPuUdtvoaj4zroSKgCAxgBJSYD+DK/zRFF/UPjlFG5/tODCe2esv15v1q8a92XtK91rXrfe7ti9eNhBvJ/u17mqbcBxDgixgQEIgaSmc1dEfAgZGjR+HDNeuxecOHmDxlIsl5LAalpXUIFdrofdSF0uIKVFXVYsq0mXh83jw0NNRi47p1WLX6A8TGJWLWnOnsF6RnkPfPl+osbkrX69HY0ooxqUPw5JPP4J//+V9x99LFmDplAqKjo7B960c4mVuABx96gpuVDcPOndtwcN8uHD12HDNmzmA6Ssq715b+VgQUAcucXHFQBK4bgXbqbbu4ZC772viIAjdVTDQoAjYCZiWi44d3T3DsHPeDb3JF8c7Szk2/NFyJwKw5C1BX48SwL7CHAABAAElEQVSGdZuw8+MdGJQ0CMOzhmPJkkUI5D4MotImrlmnTJ2JzzzxOFVbginDdjNePP7pH7+Lndt3Y9KUcaTRHR6dDKEmrZZVNa6++ToCEE8bFR9fB+Jj45E0eLBF36kCIx6s2p0upAxOxv0P3I+xOVlISIpjJu26EqJ/J0QcV+KkZxQBRcA7EFCJuXfUQ5/JhYsS8zYSc9naXowrLdWSblLcPlMazeitRkDJ+K1G9DrSMxLzADRS11lDdwTaKb2OxmNPPY0ly+/F7p1bsHfPPry3ahUKzp7G889/mWom7MWoZjJhfDZCQunZCc2GgicmxyEuPhY11DtvbGrpnjDtV7qUyoRoi+KMj+iauUVq4cbUqTOwa+d+PuuP2LTlPUyfPhWzZ89CPPXSNSgCioAicDUElJhfDRk93yMCxgOLSMlVUt4jPn31pC3pFmJtH0tZbpRoi2aNBJEHCkfpa0HKLtmWYlxedvtsV4kkrpAxK3bX+V4/YmYtLyA6Qb4ce2mFDlRUlFJtJQgx1DNfuuJezJo7G2/8/vfYtetjlNAXuX9ACA08fdDQ1EAgRU9f/rgyyBWI1pYWCsVDKRWXfVavrGnx6GRLvM2ew9YJEzMkIgZf/sY3kHfqDM6cOYtDR/bjwL4D+OwzT1O9ZiTjSP764EvCXGtQBBSB24eANa7cvvQ15X6IgCEtsoxrb83ZD8vojUWSIVy8cZhvHlvD+q0Z2MXTjDi/lDTlr4lr8PVOJ1pJTlranGYjIzFgc/K37JZqCCx7D9noyJPIm2sd/NDkVfLrYAz+tZP0mD+mY/vgNtJFersQ7znyd60gnnOsP+v5YqDry+ILF7LTk9/yZ5fD87untI0xLeNLkLgGBw8szAVzjQWhaoJgYL5N+ydR400+ck5+M8jERMrd20FqoU30JjRcjgAxeeVXv8KvXnwBlRUVvNZGryihiEuMh8MvFG7xuMJKc1LPfP2GrfSiIqsOMiw6cPJYLv2fVyMpMQnhoaFWulRdseTkUt/SYrqCSN5b+c5wK1aedOD137+C91e9SxI+Gg8/9iC+9OWv8F1qx+49R3hdZGLynGu3eUbQoAgoAgMMAZWYD7AKvxXFlaHE4h4yMOnc7lZgeiNpWBTwRu64sbi+xid2DTZu2YIWbrIkHil8SWDCIyMQRxdwQ9MzEBcTTV5CYkzdZtlN0exEahpFx/L+ZeRUzjHXQmqEufK/4bXyIcyWbcjy7nPtfNpuKg0Jl/SZlnBiCWKQLI+Qn/afnPcM3Wmr3OJJi+S+TqrVkZ79W6656H6zrqkRB7fvR8bQoUjhzrBCwj1XBkyRPB/aa8cyuZFcargMAUq6R42eiNUr38PvXv1vjB03GjVVNdi0eQv1zLPo1nAQJeqVcHDDtEvlVfjpT36KCfSm4mxxUh99N4JDw3DXwnmci8lQKRPKNvk0x12thTsNc0OySBp8bmG6zc1NyB6VjcGD0vAan1lfX49hw4fiXHEpWltdSEtJuyyL+kMRUAQUAU8ElJh7oqHHisBNItCdqN1kcr12u1A64cyG1fK7ubnZLL+nDEmlMdsgtHJXyfP073z0ZC6X5A9j/rw5GD5kqCHGhtDa8zPe60l2pQBuShIdtElo5+6Ibu662m7UoKh8QaIueBmf80YSKbEtoitySSOV53VPuinHjkA/8nkXpZOUTNI9ppGSy32M22rnQxLqCIav8lpPwZSbF8xW7WJA6RFJJgv2baLCJa5Caxvqsf/AIYSRhCUlJzNvHZH4JcaATpbRjyTOl5kx0njGkLJo6G0EujBfsOhuRERE00vKdqxetRZhJNvTaOi5aOlyuksMR8WlCu4aHIBHHn4Ap0/nYeOm7WYnz4SEZDzMHYFHZg1lQ3AhNDQQ0RFBrFs3VV/ciIoJpxqMlKsdAWyTjz76MNZ+8B42rN+IkKBQTJs+Fy0tTdi6bRtOnDiBoMBQLF54N6bOmMR7LHWZ3kZFn6cIKALej4ASc++vI81hNwSEzAnBkyDeKLwpCC/0JJLelLdPzItHxi3C6oN0bogyZepUtHGJvo1+6wsLCrF9x3Zs27WLHijiEMXNVBpaGnGqqBDFhUX0flGNwIAgJCUlUjo5FsFBwQYRIev5Zwtw+uRJNJGs+NGjT3JKKjKGZRhydPHiRRw9eAQTJ0zAoIRBRvrrIvk+yvj5Jecwe9p0kp9AbNi8CSnMU31lNSpJqHwCA5BGgpydnQNJ48iJY2ihoV5UWDiGZg5F+rBhpthuplVZVYVjJ05yZ9dL3EDGjUjGGZU1AoN5v+gQnz6Vh8LSEiQmJaCw8ByNKRtJxkKRSclqGt3rXbh0yZCsSuoi7z64H3mn8yldnYAhKYNRUlqMk3l5uFRViRBKTzPS0zE6Mwsh/mJMqKH3EbBasBDgwABfTJs1FeMmTUAb256DEydpS4HcCdiSerMPofrJoMEJdGM4mYaetaZ/CQoNYV1ShcXonbdj6T334O4l7TQQDaY6TAj+11/+b7NpkKjHyCRzyrRJGDN2tNlROCgoiKTdjfmUtk+bMY0T22b4BYbQN3og/P2ll+i+ftP7COkTFQFFwDsRUGLunfWiufoEBHz9RIXiEyL14mUjbeb4LqoV/OpzwVMdQ2YWQmssYTDVWEhafSghDCDJHD1qJBpam7Buy2YUnitCxJhIHOOuh+t37UAw1V0S4uJIfMtxpqAAldwifsH8+fCnb81zZ89iPf1Cy+ZOkdGRVAmpJ1HfgoqqcsxbMB9V1VU4RFI9JCMDyYlCzJkHSqBLzpfgcO5JTJ4wyVCZPYcO4jClj0n0tJEYk4CLl8qQl3caxWVlKCWpjoyIQhDzeeLkcZzKy8USkql0plnLnRe3UHJ5rrjYuLNzc0J3nNdLL5zH4rvvRnJ8As6xPHsOHUBYWCii6Os6MCAAZ1mOU2fysWTZUrrRoxEgyVwbN7dqlZ1m/QUXB0rLLmH12rVooreiZE4airhhzYlTJ433oiljx3HyqN3snXkhTCvmo9vZhh0IDaF4O0TqQt5QIcbUBzfrO6KcwrUPhwtB3FQoKDiK56VzEQLNXYhMaOd5mV7aZN5Nch7G3xJP0uL+DnxGGEl7F+l2UgUMCAsP4k5GHTrq5s1SUk6QNCgCisBVENAR4yrA6GnvRMAYGnK8raBk9sChw1S5oGHiZayyt/Nt6fYmxMZw58BsswNjb+fgVjzPczJhPO8wUSGvhsNwBiTXBWYXyXJqWjol6O24UF6BISS8Bw8dQnBgMJYuXoyUxEQ01DXg0OHDVPk4iJCwMIymVHrTps0I4vHiuxaSqIQZqeK27duRn3cG4yh1bmluJeGV9LtKI5MdHz9/EiYfSrhJchz+vN6OxOQkLCWZToqKpX5wFdZsWo+9R46Y7dbvmj2b3MvfkOwN69fjMPOWlp4GeVZx6Xl65JiDkZxciMeNc5SKb964Cbv37sHSJYtJrdxo4naQk8dOw4Rx4ynZ9OcGMbnYsnULDh09iiWLl3D1YArOFRVh8qTJyMocjkA+6zQnBtVNzZg6czom5oxDOScLWyjZr22sp04yiRv5nbRbVWnpqtvePRKCLQTa/pOny7nLA+2TGaQBykF38mw3TM/zcixk3dzIbzvIbzu+fc7+lmvybDtP9nn9VgQUAUXAQkCJubYEr0VASKCPiMVt4k2vHeL1Q1RZDuQexb//5lfImTSF5642CN7eorklIxxg/TgIX1hbiL/86teQSemsZdB4e599q1O3aYqhHcRdmLg4DjQllN8MRhecxyI5FiNOnwA/1DQ24NLFS7j7nmVIHTQY/iTRQdS/njB+HE5SXzf3zFnERkRQ1aMUM6iXHkuJuqixSFh090JKmVu4a2UAJemlfCbTlD8+Tp7o4rFMuhx8ptFH5zkxAB0zehTio2Op5+uPBG7skpGegRJKzEfnjKF6CqWYXLYYRMl1JJ91vuwCd8SspXT+rLk3kCoMlRfKTNkCKM4MjwhHfmEh1Vaa6NWkDS5KwXPG5iCSesiBXCnIHJqBHXSrV1PfQG2HNq4asMukxDychDzCL4BSfR9EREXBj1gcPXAAcSGhSOYGNg/f/wB1igNMHqWsNikXA03biFXOa+gNBDzJdPfnOYzqUQ49p4SGiLRbiLP8SZBvq+2bnz1+eKbtedw9suc1z2d8Uvrd09HfioAi0N8RUGLe32u4D5dPjPoktBsCbB2b3/xoocQ2MikZ//bLn5DodA2lXbF650hc9QnN/Ox9n+PCON3pkcqKDK2vBUOGhYVL4GRIVHKEKIsRo3ATIZa+NLR0MGJNVQUl2G3wDwpEM9U3ZAIVTSM6yrbhR84hyThIYH15vc7ZjAZnC7dsoczYT+7vwqed5Fak29ZjSchJ2GUq4OIJmYCJHriTuu2Svt0ERPIcQh12kWbb/Mmuf9nXRYKUxRzyQ4w6nVQ7aeZfZW01PtiwHqGUvEv+WyjNdjKR6KhoOHksRqluqqbI3aYO+Zu5Mv/aWdGSdwluZk7gEYNWB/McT7WXu+bOxeGjR/DBxvW81x9DM9IxkxvKhMVQjaFbUHLeDZA7+tONhOQE/Ol3vsVciNqKTcpvZ6ak9WhQBBQBRaBnBJSY94yLnr3DCBh/1cyDmzrJwoJEeiufpE+GpJlfJF3iOq/V4ku9lmNLw4OEjc8VEilE0MUPkdzLX58k5oKegNqJJTdY6TiW8ol/Q+NVhd/5uadp1BiA6Mgoo1fLD+p6X6IbuBSSa1+TTENrM+qbGxEWFYlgSpEpOkYzCbqQ7AACJ/SniZ5e6ilxj+R1MZgUg95a3uPkcwVDJ4lxM6XUvIUsuCMzPBZ/3UKfxUWiTCCo6W1+G8+L/G2uyTkydlGDCQj0N1L5BKrArLh3BWLDIkmu6Z+dEvJWaVOcXCRQx1wyLpODTteOHZMMkeILwadTR7MYInhQgcpoKFMnBg5eGz1qFEaMzEIdXeUdO3wU27Z9TFh8ce9dCyhND2RuNXgnAuJz3PI7buVPJNsdbc20ZO/MteZKEVAE+i8CSsz7b932+ZJZm70IX3Ij9+QxHDxylBJp+eemF5BzqK6twX/+7Df81RtSLgtO7g9iPCtkDh+OBQumWaoXvEQ5LzPqJEnnd4dkta9WgOiYi4qGbJhSQ88kos/vQwLaQgIr7hL379+H4ekZGESvLELKBw8ezE1T9tCVXASiSNab2lrx8f79cFJvfFzWaAyi3vkgrm7k8t7hSYNpIJrAtF3YQAPSouIiPPbgI1QpiaAqQQiOUJc7hr7So/i7jF5WCgsLTP07KA4X6bRs5iOrFEKd5JsXzYf5Lef4J8RZvPX4i+VdaxuCqCqTTfWXbdt34MyJXARnjaQ6jR8NQYuwdtMGjCKhHrJkOY1U/aiKQ2k560/UVsxT6CKxnWX3k9UCpivX/VjmwpJiJHDjmWCqqxTm5WPjzh3UX5+JtNTBGEEPLodCDnIi0mrpmDMlDd6KgN13yLdpPfw2jcpbM6z5upUIsK+TybvnHgAyEZc2IJN+CSIYuKJLZxQjsJDrJpb1IX0nUzNdh3XBWl2Tq5elITfJYyTYz+n4YT2/87Q5qx8DCwEl5gOrvvtQaa1eix6wKc9qw/Z9++Cib+B5i5YYGj6e5x8kSXKRMFk63Z7d4+0rZjstFMvoyeOddz7AvHlTzeY7XU8zXXLXzz565KCkV4it+OU+fPw4ijkJcjnb0EwDx0YS1izq486hC8UYekZxMs5M6o6venclPZN8QMl0IBpkp1DGmzV9OiaPGk0DST/cs3QJVn/4AVa+9x5JeKQh5jXceGXK5Ml0UzcYDm7oMo1pbtixDSvXrkEYN3yR5zVT5URcW7goDhdJuw8l7zKg2bUtaiwipfcREt4RpOWI2okMuEY3nXU2fdZM1FKK/xHdPB4/eoweNoJxqboa0QkJdHM3TdZhjBQ9gERbvGvIYCwY+DJdUZvxFd1yhmDeF0dXkIePHTN+3WdOnoIh6UMQfuIo1WQ2ICI8mG4lKY2ncWl6RgZd5qm03ADn1R/Smrraj1dnVTN3SxEQsmxc79osm6kbg21+y6qaW9Tb2BlYBvGdvY7Jg/QRpqMwv7p9dLJw6Y3YF0k/Jau/DGbib06z32IfI0HSkiMjjOo8YV2TnxoGFgJKzAdWfXtlaUWmYJkZSvYoqaDwSjov6cakw5JrrfyVPjIDE2dPMYItWw9Z+kZbziV3364gz7H77txTZ+ipY1+3R3V0sDwrJE8UIvpSkBqQILkWRZNIEtCJVM+QEcWPoiORMIv/5qS0VCMBD/ahbjhVT0Qle+jgFDz5mUdx9Mhx1NXXUnUjACk8l501AkG8z49pDIqNx72LluLEkWNmpUP8PM9OT8fwEcPRTslyMI0yJ9K1YCCfUVxSYtJOpKRdpNPnqSYTFUIddqqkTKPXk/ioGLOpkMkw85ocE4PJ2WMQzjSsoU+y7YOMIWmIo/64Hwe/YBpqzp8x0xiiXigqMdL04cOHYWR2NuIo5Q+mIamo4rQwAZlISC26yPqNi0iujojOvB91Z4L8Q7Bg9izkF5xFPbdvD6caThQnGvcsWWJ8qNfW1JDM+2HosEyMGp7FfHoa/VkDr5Vv/byzCNgqK1a7l/q2gv37zuZOn34tBLrqSPorQ2r5vkswV3jCkjp3xOMlWyIufU0Tfco309hbNgNrpHBAVgIbGxrNJmotNEYXYl5Hb1PVVdVwtbWgtrYO9fzdzlU+6yHc6Zh9opMrgxLfcgIgfY6b/YqfUbULCgwyK3wmT2xaYvAeZtxr0nNmeARCKACIomBDDI79qBboR4FDMPvEgCD6uhfVPhrYh7APFqFDCM85xKaGZTQjJYtllcySxpP2m/OMYLJnPq1DE9E65LjagZFVCP30ZgSUmHtz7QygvHUaxLHHcZhBkqoL7AfbffnBjlaGTZFeGl1jkiebgPUGRCLUMMuadmfHhzqEkXoGEd2yY5R/JnK3y55Rvfm4Q8MasRw8HqR7wI6hzWTZDHasCzknkxT7W8w3U2MTkDLfUlHxYz2ZuATNQMaIQtAzuJNixl3JlCg7iZ+fkUhLwrLoIYkF0xB0clY2pozIttL2wNsMvqyIh5etkPHJTHzMZT4ra9hwjOCfPMwMwMTejwPaRLo8NOfkBkrwEzjALRg/Ee5xE60Bi4OleT4jieqKeObIzh5t8izlEyxCOMm4e86czrLKxXRu4y5/Jkg8pj+YXmJSZ8/j4M0TDNYYSN/WJjVzSj+8DgGrrqxseR57XUY1Qz0gYN5/vpkdgmi+03yPpRr5IRuKiaG6SMOLis/RpekpXOIEv55qeTX8q+ZqmZDzIBLjIK5qxUZFICkhiWQ50nhkig2NRkBKovGsFEz/96GhNDhnH2YFY+mEAE7gQygMMJ1MxxV576UPqCf5F4m7CTzndLrQQJsa6UjENWwzN0Fram7g0OZGVUUFLnFCX15ZQZubJlTw28V8R1AAIXspRMfEIS4hEWn0EJXKzcxiYmJN3+Rm/+UwK8Yk5nyUpCUTBl/uG2E6rI6cCU4Glo5vkyf98GoE7Jbm1ZnUzPVvBAx9kw6N3YeQnAZ2agXcYdLdSq8ZJGPN7HVKSi7Cj5LNPbuPUK2B+s+dnaTVLdru9AQpQ45vIWQRkaHcbTIR4dxgpENmcgtT946kPF34yeBmMJTe3DOY31Y3L2OOHHWGjomIGbwYr50Dix0c4tGkI7bUcQAJuAQxzrwsdNxiJmm8YJN7iWOi8pky1HneZ6crcezByBx3fIg6jgzSEnyopx5Awm6y0pW9TomXxDF663LQEUz6HnG7P0PyJYO/P78FAsuDEG+Q/xY7t5PSb0VAEbgJBExvYd5FHpkf0htYxNxFW5LWFnqAqq1FFXf4LSk5R/el+80+B000yA7lpDySEutI9uVTx47CxIkTkZIQw5U6ERCI3YgvpdY85reoskkwj+A7bH2bU5d9mPOXnen64dlldJ7tOGm+pF/quOCiDYvYsYinqHaqwIkXqbqGJhw4cpITiBqc4F4KeUcOYM/ObWhhGUW6npk5HOOpRhdFgUgkVwVDuUOtPzc/8+W4KLmXMdX0TfItD2I57Od15kcPvBYBJeZeWzUDK2NC2CTIdz51mt94+22MGj2BEnNuLsMeMIOb9zSzh1m3fgvP0fOHuOQQutdBfiwdQHZIHRJLk1hPH529qXVwLe7kpGS3lbrPedxq/Uc/+C6CBsX2lOKAPCf611ZgvUnVyZ99iodSPT0SUzJ6mUSJa0KOglYSHp/2krNJyqMuzW9+eJJyuc2SkJur1gDkkZYcGmJtRPIyNnEwZD6t2F0RzUTgWg2hK+oVR2YSI1gwYc/JyBUR9YQioAjcHAIWwzTvr7zD4ly1sYFEnBJnMT4/cyYfldz0LJZENYWS5emTxiI1OdHsRpxIiXN8XIQhrTeXieu7u3sfY+7qOGm+PPobIdO0PGeULnuUWO4FkZ6S3PmwJgqpysrKUUOHB6Jiczy/EKdyT3CH5Q/RSEl8YkI8RgwfgUnc+CyJq3nSdYpsRKYuQsrNFz+km9bg/QgoMff+Our/OWSHK7N8kWsKMW/k0bApE/Hsl79C6QA1ntmxSAcjvq0tGQm/LaGGIeYdAg7GsLqdjv6Pv3sOdizTz/ccxeSnjdKLC9w858//4rvsN+nT+pMSvkpaffm0TZSvLEMPXbw51XW+p3t9Ow2gWIE9VECPZJ4PN2kxfo9V0EHge7zmkXGTNiN15dC6KGn3lFePWz/x8Gr5/sQbNYIioAhcFwIyNggZF5uR1qYmnDyVi/9+9RWUXywxxPSZJ5+gNDyLaiehxrhb7FM65QfX9QTvjRQc4MCQFLp0hfwBs2dOoYS9HfXUkb9Y1YBVa9Zh7Xur8cZrf8A0GrrPnTcfmfQ+5cM9G2jkY+65ouOzzuqnFyKgxNwLK2VAZokSVGPuyZ7USaLlkl0VA0nIuWxnhKsdRNx8Cbnq6GtMx8tj67JcuBw9IzG4/JSJIiS7W9TLYoksN5C7QIogw0WXeQM13AjhtMntjdxzvbjejjTtZ9/OtO1n6LcioAjcHAKicuJ2tWL/gcPYtP5D4wr1vrvnIScnGxPGjuC2XgMnyLgXQF3yGOrGy9/Irz6N5596BCfzCvH++o144ee/wNRp0zFz9mykZGQY+6yexsKBg1jfKqkS875VX/0yt0YSbSSpIpWm8gE7YKHCLrJtkYY7SYzfenMl9h88ZKzbxRVIGLdeT4iPo8vCucjISGVsH5SWnsevf/Oq0dWz9QTFpV9MbBzm0oAvOTmOru9kB0tGJyvfd/A4Vq1+Hw00uPHjREB0/URFQ/4tX7oQc+gBpkvYQKmq3Kfhqggowb0qNHpBEVAEbgABW/Bi3yKScrQ1Y8dHH+Ht//kfPP7wCixfOA+JMVHaLxMkGZpiIkMwc/IoTB6fhVyqurz+9hq89MLP8fkvfAkZ9BBlItmA6rdXI6DE3KurZ4BkzhZddxBf0QvulIDznEjQ9+0/hI2bt2AMN4qRJc2GhmaIa7rNH+3AF5//E8ycMZG/67D2g41mKTM5mfp5VAA+0XyKxLuZfsfX4J7l9+DBBxYjOprup/jMc+dK8cHaDTQKisCg5CFmFiAuscQAtbqm0ajNGLG6iOw1KAKKgCKgCNwRBGRoqL5UhpVvv4mnHnkIj92/FMEBV9qo3JHMedlDRZKek5WBlK89gxde/h0+/OB9fPFrmZaUyx5rvSzPmp3LEVBifjke+stbEfClv2pKvP/2b/8Cidw+nep1OHHyJL73vX/FSy+9RNd4PzCSE9l584H7luFzn32CUnAHauobkHfqNF5/axVeefV3dJVVheefe5y+ZIMtQ0DOAO5dsQyPPfo4/claMwNqJppt3EUFWiT3n2hQ6q2Yab4UAUVAEegnCBSXnEMD+/PlSxYoKb+OOo0OD+UmbxPxoxdetVaDZVW6Q/h1HbdrlDuIgCWYvIMZ0EcrAtdCwG6gLvqZdrnbuOV7KP27hiCWUu9pk3IwY/o0WuMXGOm3SNplpzZ/+n6NjAom+Q5CYmIs1Vim4h/+7jvIGjEUb7/9LlVickWY3hkCAvzoRiuQLqcCmT6/w/1JzEnIGcf4hrVk5ya+9mudsOmBIqAIKAK9hoDLyY1/auqxbt0WbuwzcO1+rhfw2rp67N69H2UXL1rqm9d7o8a74wjYvOeOZ0QzoAh4ImArj9jfrbJjW0OLpeJCwiz63i3UPW+kfrgv3eE5ZLdGSgTEhFTUT8Q4RuJIAxfd5/jYaCxbuog7uNVg796uXTvFu6uTW6gzKn3ZUo2R/b3ca+7nOfHXbbti9MyfHisCioAioAj0HgLSl7u4S+ebb72NP676ECWlZWZDnd7LQd94kmwydK6oFC++9CpWrnofzhbum80x0Jhx9Y0iDPhcqirLgG8C3gGAp+GgTcZFqG3/ie9r2Xgh90wh/Asv0L94K/JPn8WWrTswllb56UNSUXC2iCRaWLU135R7JYh0XE6P4a6O0THRKDlfbGTgRhrubMOuXXsREBDB5T6n2Whi0oSxyBk33BB783w7ISs5/VQEFIF+jYBM0/tD6C5369tSZhG0hIeF41tf/wreeOuPWLVqDRYsmIMFc2dh0KBE7sI5sHXOG5udOHoiD4ePHsfefQfowz0Zzz79Wbz+7gdmAyO6ZmGj7i9tuz+8n1cvgxLzq2OjV3oJgS5S3jWQGC7Mn4YYMx++3C2yqrIGf/WXf2+8tIgkWzapycnOxp9+++vwD/TviEv3itwIXch9V2pWQUJCAykBd6GyospcdzFmG1n7sZPHUVBcbgi8qLUEhYRg3IThZpMG5eS91Aj0MYrAbUXAnu7bD5HewSIpstsiqCZnRIo+QTxP8/KOF1/I4LXDJ0bwuL0jUTtxjys3dchMdnn4v7zXkx0gHI4AJs/t4C8jZZfHu6nn99LNLkpXfLmsOXPmBOSMzebK5xES9Dfw5ptvYciQIZg9exZWLP3/7H0HYF3Flfan99R7b5ZlWbbl3uRuXGNTTMdAKKGFLIEESNmEJLtJdpOQkMAm+UkgCZAeWmim924wtsG4415kS66SrN7b/31z35Wenp9s2chqvmPr3Tb1zMyZM2dOmYuw0FCEhISQsUIjAifSPd3Ujq4ohkxx6j41o6amFjX0lP3CS2/j5ddepdGCMkzMnYLbb/0msrISsHHjZ2h56XV6y3ZxVXRCX4GAQ5j3lZ46zeqpJayJSFWI1bOcIYHiKNdddxW5JhFwBwUjIT4B48eNQmwcPbr5QcBCXt5h376DqKXoSyq9wZnA7zLPeNWVl+PSSxabxTiQtsujo6KMcunxF2Xv3J17BwIOBPoWBAJQXnIQr7/0AkqPVBLRhKPRnLa5qfRtEfIuejWzUUsLTTnZ93Y7bc/D9nOHV+bTEsA8de1yK0/GmKC2EyzeqqG17WhEaGgg5p+5kObycvhNxLlC3yPKrXp76s4mRkUFY968SeZv9afr8cmnG/DJqtV4+ZXXkZk5ENmDs5CSmoTMASmQydwoWt5Kjo9uy6YP3LX1JnuuoYVeP8tRVFiIg0VHsP9AIQ4dLjSGDaqqqqlLlYSLLroIs86YirT0NG5gOJyZgTVi7VFrX/tA40/zKjqE+Wk+AHpz84WY9KcQQMo7LDQMl1x4NpLpfriRH0Q4WwuQTCpa8Xx/9domsLdu3YZymk4cPmykZ2mSi/ZmLl4hGJiRiHoivyAaLtfabMq2C/fN1Hl2IOBAoI9DgCdr9FleVlGBF195HhdceAMy0seSoAklrgk0XobtBgoNyOuw32AjF78ffV56OOVdqbOiapmqMW/xzW2MabRtWhrwzNN/RyQZF4OH0lxePwoCpQ363MnjMGHCGNRRvLGyohZFxeXYuXMnTee+jnUbNiCcSv0x0TFI4rqRnpaKESNHInPgQEyZOJpOejrq2J4FVnVtPTZtzcNHy1cgPz8fBw8cRnlFOQqLiujlNBkjR47AggULceaZZyE1OZqimME8JQgiTNrLkjty5T3bjydbukOYnyzknHTdCoFmHtvJIbOWIUMvE5+aBZNvdPXlmBvmFKMrRSk1+Teu34pHH12CzPTBmJQ7kW+Zjgm9uepu43nIfHJ+HAg4EOhXEBAm4JxvajTK3hJbaWkOQW0d3buTUz4waySJuxlELxb32W66wTVKxz9/e39u7e2ox7zafHfVwtd5zjETduKj1TJFDEBwEEUW6IDNIjeb8cEHL6ORCpP9LvjQ0y6axg3jpio8IhTJqbEYNToTF144n/i9BXv2FGH9+vXYunULjhw5QoL9DSP+UUaxj6ioSCQmJhrfFwMGpNFpXYo5MbUI3VCEhoXSnx17jwRvVBRNdTFIUl+jxOVyI5wEsV0VjQT7voYwb9LJCF/aI6S2roGiJ438Y3+wXrW1NaZvSkpLUVx8xBDgheSIV1WV81s96xGB2Ph4lhuFiZPGIzV1AOZSnj4hIVLD9LjB3rgcN6IToddBwCHMe12XOBWyIWAjOeu5bcH0XiBtpGenaabM+HpySR57Mgz19bW0e1tLN8XbsZYOiiIiYvG9O76BUaMy7OjEj+Q0qSBPYcrPN8/WyM6NAwEHAn0MAprYomKENVrISd2B55/9N3FDCOqawlBRWUIuZC3+8teHkZGxnERzIAmqlqOIcF+cYOMm6awcLxj0QiLOhONQS3a+iutbppWB769Ifspeu0LQ2NxIOesZ+MK86Qimop8scVhtV9la6m3MaV998+rtz8eHiHcMc08YDMpK4t8CXIgFNBrQSMtc1Wik+d3a6mqU0JFcZWUdx0M9HdFV8dpAkZEavjtMYrkYRUeKqThJphA5OEeOlBgAiTUkgr+Jm7waEtdHdRTBHhYazg2S1eeMakIERTAjwsJogCAeIZSDT0zgNSQYYWGRGDI0ARMm5nKNCuG3IHL5g82mICIiwsQJpGy9ulN5HWcI9fZOdOrXCQg4hHkngORE6X4IaElptTXOh0jKCMYnJqDFyIAeXR/hPhcF61KT47F1y2bs3ZNHzlgtOUjBdBwUiAm543HdNddg7JhhxKNEmEKe5IakJiURCYYdjVyPLsJ540DAgUCvh4Awh4cSMnUVUR7Evwa+JXFVWEw/BltIBM1FkCsK4ZEJOGdRjofgcZEbarEiRZwrGDxk7iwS13NrLqYkxvMuzfu7973hYZvM9HPs4B3jmHnzo+orPNnYHIhSinBs3rITc+dO93DlTYEszPuqHO2NyrHr0fu+asPUBpG2u/Y11bbD9KIieAFTj4FU7o8LsWTNW1riYbNozMmp6XOJNxKuPKFtphUw/dmiR40kxBXsdck4nvOjL6DyrVMLz+kun5VnINcuF08zXCLYeS/C3YiemDpKhFKqusyfz6qrgl19XU31zFvnp79DwCHM+3sP9/H2CSEFk1tw7bVXoaSoDCtWrkVDg63EZDeOCJsYraKqBpOn5JLbUWUQnjhEYZQfj42JM3J5+fm7eFy4yyQSQiwsLsXUKZPpDbQCb729DLNnT6NzImdK2FB1rg4E+hYEhC0swtrmkFv115wWqdNgHNMkJw7DzV+9A1Gx0a0EkBXPiiXiyFvEzSaOFMf7XiWJWFL844UTkpJjIXY5HRJjjKA66jtpRyPasHzlBny6Zm27qkj8r9nY41BtW3NtF6cvPbSQKlZPHivYI6C1uV6RvbnN3vdW/wg+FowCzTjq/rXA4rF7Vdjr1ru+Xq+d234Ige4fef0QiE6TTg0EhKTEnZDi57DsgShLTsEvfvYcDhw64LfAAAqW2wwM8VYkd07+BBH53lZugy3rKTlPoXgXORc7aBtdziqmT59EJZpAE9dBgn5B7Lw8DSFgiXtZBEvvbn4rScZqammrx65tG7FnL0UQXA2c8A1Yt24Tdu/ei9fffJMefmMNUe1N6InQ1XM7ARVPBEHAFwoSaehMsMRKmN43g84k7jBOAH0zjEVWZpJRfjc6OC0Ga1qNMGXx2Qgk673+zLajwxx7+4fOQbu3t8KpnwOBY0PAIcyPDR/nay+AgBYzcYdiIoPxq7t/ZCl6CkN7Fjld7AXP88osrqq6nv2tnYov88XUlUI1GfBBPO3mKWM7TpnSO8GBwOkMgdLyCqOklkpLEH0nWAR6I0033X//vaipi0FkTLipvtsdhsE5Y/Hp6o1o4O7c23ShnJNZtk0kUtA5EvD4/FsLajZDoBVRnSQwDX4jQlP9dpOhcNFFF+L6ay721FZfTQyv3I/37BXVuXUg4ECgV0DAIcx7RTc4legIAuZIWWsL10ndtx4J851NjHun9bec+i5NWrsUT+Lq4ozRF4UJeucvT+ur8+tA4PSDwHZ61/3L3/6Cu39xJ0XCYvoAACyi3KooCeymYHz11u8i29jx5tsWfTfqkn7bIn6y8IA/POIvwYngC5tBYF/95Xesd3ZZLh4jNjQ2489/fRxB7nDKLtPONcWfdbJhy0MfKx/nmwMBBwK9GwIOYd67+8epnSDQ2VVSUX3i+jxa8ORLe5GzXji/DgQcCPiDQGNjE03NbcT3/utnuOvnP0ZifKy/aL3u3cGCnXjhuReQt+cgnn7mWcTHJ7GOpGBbtORJpEPBW2BF23eKvQXIa7D93UQ65o90VToVKGNnOXuxCOjjpfGHt8Td13tZCZHIXV5eHtLodl1BeE/KiBZh7i+1ieb8OBBwINAHIOAQ5n2gk077KnrWPvG67CVH93rQumgWpRMEkp3PCSZzonsg0F7hrQ2aEgcIIHFjTiXUMR7CpS3GcUDY6YjHyedzf5aQgjfhZmUofQcrcAQSCAEepYYAtlVWFfpbaCGH+covXkfTbeH4zb1/wHf/8zYkxPZmzrkwgwt784vx+BMvYdF5lyEyPpUdJWJb/WP/aaAZLMKrHfgsjvop6UaVxTLN/84VoBrqT7E13xoaXAjkiq059vSSF2nerxozZkzjFyc4EHAg0J8g4BDm/ak3+3FbtKzZRLiaaYu42Kar9E4y4yZ4rXve37meWUsxr1rwFPS99b31qvXXXhhP0UrdWk5fvLHhZ9VdANcbXqlo1kR7ypaDDRK36jRDnEsJ1+6gY7SYndGpeMfIoms+iTBnfTnw2mot9ToReORYukMQyHYFUx7KGEVrD5CuqcIpzEUOu5pkzuM4VKhEJlxBIbj8svPx5DMv4ae/+A1++P3vICWxp4lzu1eEGSxudAttihuOMW2RN1CEJTAoFpdxU5FGL49qp52iI7BqFLt6ST+qrsJLZlbxGkx5FR5e0NQeTSM2NuC9995HOW2w02NSR81x3jsQcCDQRyHgEOZ9tONOu2pzhdLCVFvXxIXJWmIlKSqrCFpQtYDRw7YJhg60bs2vlm7v4E2IKycxOoOC3ORGBfCq3KzQdme/ca7tIGAA1EZwBxL+LbSMU1VXjUefegIbPtuEZje1ao1zlc5Ck5nI9mWPB5LlrLJ3TWSqTa2Qs49pk6bg4vPP5dgJMsScFIf7Ulixai2Wf7TCOt0wrfKuPduuSUHlyR15+Rg3djzCwkPwpasvwb/+1YC77v4N/vt730BKUqJ3om6+9wZ4EHbt2oQ1a1aTq6xBGIhDhdWoqqnBM0ueQVIarVWzn2xREluUxXq2xqXZPzKpTj56Q1AtNN4UArj5m5g7DiOHcoPRitw0MvXXO+qrejrBgYADga6BQI8Q5kIlFjrsmkb0hlxsfN6KN3tDpfpRHbQEVdXU4sEHHkHhoUI+WYuSiGwTjHyl5/4ELuqv4OAQpKQk4/rrrkRofGhrao1TLf+GI9r61rnxhQBdY3CDRIccnmsDIVZSXYupZ52NSTMnUvZVRis7H07FHLLnZ2drYerAsWFGmY2w+Kzb99/7AJ+sXk+X3xd6iL02kq+z+fd0vI8/+ZSuyg9gDInuNmys1qmNvGpe8TJuTDymTaUZUe483NyQXH/DVXj00Wdw730P4lu3f43EebxJ0zM/wSzWcje/9MOlePml92g+cCo3TjzNcEfg7EWXcDPvQv7efWZsWq2zZrTqa569fJuLDjZ/PdMYU6pk1oXTVI/AELep4wfcQJWXl2L40C95Sb/3HqJcpy8yO9sXgvCA5rau3gwa1V0Q9W6F7/OJtE9pPfuqtr3UiWTgxD2tIdDthHl5TRN27q/C8AERCA/VsXBbEPdz+8EahJBrmZkQZpnFa/t8UnfVdQ0opYvdxPhoLi4nlcUxE9WTq1RUUo19xTS7V816U5wxJSEcZDCZUE0ObwXLT06M4ATVaueEk4GAGHgRdBa0+OLz0ER3yp5ltS0rIlprpW171ak75htEW4lCyHHRwXArH08wiNk8O/1mw8T3aomduNBAV9bldbQ7Se+rlfV1qOaqFEWibdTYMSTaTwx+vWaasCI6hQmkYG8oXWSbBZ0A2L6nAOtWb+BCToTCly4NFAWeFvSZwKrOmJGLCy/W5sInsLtaiQp+FMe2WY3n/+BgFy6//CI8+eRz+Pnd/w8/+dF3e0zmvIVEeXNLHYksibK0ICdnEm79+vcpwhJqPC+6hTT4X3VXG33b6f3MaCbY7fY8dutFIJbVKR0I6l4/1bVNHH/ET3zurToMj/77KVxx2SUcG9oo9d4gYry2pg5u1lNjwxDhgjODvjUR8PVcW0JCgjjmPd+tzyf920AEEuQZh8rE9OtJ5+YkPF0g0O2EeUFxPX73jzW4/NxsnDeDR3Ne4WBZM3794EacMS0K15w5HC7ZgfocQYh3zfZCPPDvz/Czby/E4ATPLPwceXonlZzzmx/sxJJ39yIsaiCPtINQVVmOyROjsXhhOpJod3vZ1io8/fyn+N33ZiM0pNvB7V3dPnuvUSCE5uKGbeiwNMPMO6ox6uyTCIZzwrQSRVAWEl+wg77pue/xQ+0WnLprADmNgpfEiYqPFOP5Z19EeX01SaUW1JFkzduXjwOvlWDL9p18ElApduQF245qFkAi3iiP+lG8PDqNMtToEEGs2hwv2BU4XlwRcm7KyregkQMvJjIS//2Dm1szt3Jhq0iRB9Chiz0+WyP0gRvJYrvIAZcIl6ChvlE7FFqh5AGTmSP2S36PiAjGNddcRrGWJtzzm/tw+y1fwYB0zkuvOCajU/LjJhe8ERs/W4PSilLU13IzyIrn792P/QXVWLlyNQnzEIvw0qQ2VlZkbcW7zy3xK+uN1WpVXVG6pQl+4cL+MHW0ajVi+FAkJSfATaZBZ50Y+c22G17+/v4/kZgl0+Si880mthuKPOki7vvTo/T2PAGzZ03geLVHvJXd6699iO07duKm/7gKUVFtJ6e+hXmPJN9v3s8lJWV49bVlyJ04FiNGDOym+eFdA+e+r0Kg2ynF5OhQZAxIxUfrizF/2kCEe82NVZvIXa53Y+LwFDLerA+aBAUVLThSCsRHAQNjj0adWpa37CfXhDcDUgIQ65ETLqdMct6RYNS0DMCuwy0IIxc7JUILv9VdEkfU+9LyegxODUZyVFve4pQV1bcgjnlJIaiUjuMSfeZqfnEznltWhEmTUnD5wmzuul147r1KLPtkNTLTmjFp3GDkHQxGHcvfW8EFngt9Uijz8xRTz/rtONhEEQ1gyAA34sPahlEVb2t5ShtHJkQlK9PSwPSe8gWTLftbUMs6DUoLQHzvZlS0Neok79S/xz3sIEwFlxMOTKfuMKQdM/B0jclG+el9+7fmxWn5I6VOtyuQ8yeA/WFBW4RrSUUFVm3biuso2pA+OMvARl99NzTHZZwbr4WEtqa+qMFjBTOJPb3lsYzSYfROxrW4/6Tz2MZ6KjS0cKJu3bod/3j4YVbqZtNilWj/Se1THh3VLosn22ENet0H+/TO6ifWnzc2xHVVG9UFuiqY7vA86LubnPNrr70czz77Gu665//h1/fcyVNCzzGhSXGiP5rhZhZ6JTS18Hl282SyEXf+9PeUg3eTgIo05gMbiAsbGoLwyGOPtovfTMJcKrtNPhjEbqsdWSWpBt166GF2Au1rIu74keIS3P6Nr2PBwpkG/i4fAtKuc2+5VlWU44E/PoQ6emq79toreku1/NajaH8+7v/t+zhj6kMUFQoxc1cRqyrr8cgj/0RmZjZpD85mjf3Wwd92b60Hlj6TvouAUg+KSaegq/aDQmGlxcV48vHHeNJ7PUaNHNg2vzx5Ky9zQst8PMnNCZ3yNUNDV2XKjzbubFcvfXNCv4RAtxPm0SSMh2aG44PVDdiWV4cJ2RYyF5H60aoNGDwoBgMTow2w84pq8NDjK7GbciLBIeFobGjGxNHZuOqcHAxIIMLlgN24qxwPPbkSxRXVlCsMRiOP02dPzcHis4dg3c46vPDaDhLmqfjnU6sQ2bIdd91xKSJDQrFmxxE88swaHC6vQlBwEJqYbu70sSSwByEuKhB7j5Tjez9/FdOmT8f6NR9g+JB4/PCmc9sNgoIDdah3p5AIj0BihNtMovNmRbJuORg8MALPv7EL735MKchmN375x9eQEleD792wiBOV7V9XgSdf+ZhHlfWG0GHjcO6CsbhkwWBQtBD3PvAWdh4MQnIcFZkObseVF0/DWdNGYv32Uvz5iWUorW5GoOrNFWnetOG4/KwhiPYRDWpX2X7wYCOrjpCTQWKfp50+GejRemWjzc+Ted9PK3K8idxKKXM28MhX4gNNJF4pUID6YG4c0xMxcGi6aaiIHAtqIl/t+87BwKcbOpeoi2LV1zUjKNSFYHGSWZHKqlIjWtcue48lDC2s2sC7DVVrL9ntYvbZB/WdCATTh1ZHthIraqmYFUFBgTjrzNlUIl2KP//l7/jmrbd0YXs1ghS4MHhCfX09iosOo6zChZDQFHz9ttuQnpbO4aiKcjTyT3VTdyjYPWKd2Bx7DNpjzmIHWem799eqgYuiYPff92eOKasmrcRh91bmhEqLjY3H9Tf+B95+5z2ERobjwnPPJge9d3GLzJgliOfOnollH36AVau2YOYZ4y3cxPGyYd065OftxVe/8mWEUWSymSKqO3fm00PsWuzdyxPx8CiMGj0K06aNRxRPwjXkmujVaf2WXcxrPQ4WHkZCYgIVpcdSzyGLIjPNeOX1d7jJOogPP/oIpWWVmDtvFgYPTjLiNJu27MbGjRuRv2cfkijyJwXribkjERbGNZ1DfsmS1xHn8RlwkDpVCxbMph5UT1tCOqFh4UT+HBDodsJcct65I5Lx0dpGbN+1D+Oys83uckd+Ew4cPIyzFyYihoTx4eJaPPDYJtQ2xeO2myciKjQY+4404oXXK/CvV/Lw1cXZKK1swh8e34CkjEG4/ktpCCK3Yf22Ory5dC8RRD4WzMzGorNG4MV3y3DZRTxOSh5h5JTX7a7AA09sRnISkfsXMxHBybB1by1efqMIFTXbcOPFOWhoDkR1Szo27qzCJZefjTEZtC7hEwZmhFK+tBbvLD+IyPBAzKGi1ABy9AfMsJw+REdEoiW0ActXFeLb181FdISOgcOw/LNK/OP5HRgxPAdnzo7jhsKFLbtq8OrbO3GkshQ3LZ5IblASRQPCMSQxBOeeOxzDUiOw5WALfkexnOzBObh2dirCSJiv21GLt98vpAzsXly1IKvXyiH6gK7zj0SAnV0sraWt81kfL6ZnfWc0e4k/Xor+/d3N1aipyc2F5kOsWr+ORCkhRAKijJvLPfv346EH/4qYRCkDWj1hQc1S/OwcBK10WvQ6FzQyOpezNYqOHVfNqSXxN44L8GWXXoDwCDINWhrpur3JlKLSVDWRjC5y6Sl5bYh3EeeGgGobMIzR90Nrc9jo1ns2y9DBBGVDQz0efuwJEseplDFe/Dkb3EaAWxm17yttArdtWov/+/VvcaQiEAcO11OM5vfsD51YMK0qyD8R55I5t0MLT2FkYUZ9e3Roi6dv6t9uNZfYjhOukeXCnDmzzIlRcC8jbAWfjoLEvsaMG4Wp0yfjQeKAWlrDueKLi2nisdvJi46q2LqGjBw1FCmpqXj9rTcwafIYMuU4mzk2ljz9NNLT0zF6zAiTx8YNm3HPPb9BXX0NZs6ciW3bN2HJs09j0aLzcMd3b6HcOMVY3/sI9/3uPhLkiUw3Bu+/8zr++Y+/4+qrr8L5i85F6RGas+QRjDjnhYWHUE89nIb6Rjzx5LN4/LEnERsbjZGjRuKjZUvx+OP/xhVXXokbv/wljmgXHnrgPopsCb8EYOTocZg1y7FX32Hn9sMPPTJzRg4OQWpKKDbnHSJHqtEQtR9/Vgw3nVhMnZhhFr8thxqxc18zvn7jMIxMlQxHM1IpBrN7RDBWr9uCzfvLsGETF1JOqovmpWFSJuVcGHKYb31NAmXdyii60oQB8Y0IaCqhqEomhqWEkdMHfLKpkTKVwbjsvBxMyAw2k3ZEWhiKS6Kw/OOPMLMgCXGxYZwUNTh7TgbOz42GRzrGlGH/ZJAI/+I5g/Dq0kb8+/l8vPBiHsZPSMfcaeT6M31ajAupdDjnbinH0JQ0HvWS48jEy9dVISSsCdecl4pBklVhGJ4SjoKCIrz9SRnmTG9CE5F2XGwoLpqVhFGDQg1M/vnMQXInIzB/5mDkJJFDz0kfOTYEm3Y14aONu3HeFwYh1sQ0WfaPHy2oHkJNx4Tl5DzIAohvMFE88Xy/HfOZeSo7cUgjo8I9FNYxU5y2H23iZtXatdhVXITc6VNI8LgQS3GBFC5oTeSkyz+LOsxcjIyHiHmRVZ0PdjmdT9G5mCLYAqnI6MuF9K7bju27sGLlp7jy0vOscce26XTAf+hrAixereBcUbt9YeEVo/VWGw/1p6xYmk0T09bW1VDG/AkcKCjAd771deLz5Nb4XXNj94omtUpvIqeceDM0FQ/+9ncIComw6uSvMDupvnna6S+a7ztTknda3whd9GyPbxkyMWIPnjr+/v6/Yueu3YgIDycBZ1mb6aIiTzibZiLb5R9/ivfe/4CKtIF+NjYClLUJCg2P5L0Lg7Mz8ZUbr8V99z/ETW0kLlh0JhVCj2ZonXBlujBB2oB0ZA3JwqbPNqBg335kZw+kuNourN2wEQvPPA+J5HqXlVTg3nt/jyDKvt7zm3vIwIvmJrSRHmRfwR/+8EfkDMnEhAnj8Lvf/54bknF0unUrYkhkV1bU4Cc/uxtL3/sA5517Fi677EJ8snIVzr/gfJx//hcoIuMmF74Az9ITbUZmJn70w+/Tc2sCqiurcN99D+Cxh/9JBebBmDNrFsFJhoYrBHf+7CekKYZRYsCSLOjMfO1CcDlZ9RAEeoQwF5E7Z3os/vXEVuwuqkZmfDhFSyowLDsFA+OkdEXZ8H0kPINT8MaHZVgeVET82kCREBf2l0SihtrTJdSuPlASYqydDEmPsmk3hHED/OVFOk63jtQDoUW11siCCfEKKZZUuMk5DyYX2m24X4J9GJFkTpYL760IRlFtACK0iAdS9nwgbVsroZ9ARgwW5oYz3RjsP1jPE4BCrFhzGGs278G1l4zEuKxos3i4W+p5tTC+0O2+Qw0YNCABCRQ9sbMOZyHZ6clYtiGIeVXThDBJ8HDKy0daFkOUOo/y8E2Iw8tLi7HUTcF0blaqm0PJPaKpOsJEm5T+GESGi5NVQ4s+//ebv+LgoQNHN5MYS8v3iQYhOikBJSUk4o47bkFMjJegfweZqd/tfvOOcjLle6fvG/ccawTa6Km5uO173zKbGg3tRja+nXKnF4Bqa8h1bvDliHbcWptw6TjGyX6hnglPx2SHvKPw7HNv80j+fTqoofMgRjLWGazdRmsScWkl1kOyiuNS444A8LNZbE3QG29YZbuLdOVjh8E+wZDaj+IVFZXj3088idKSYhLlt2FAWlcQ5XZtVA1xwInbqirIfa02ZTYT9xcXl3NtCKbCJxkrVDFuawFvjRCu/xko2/pHh6NbbETljo7Y9W/YVBc3sTGRMTzl5frigWsIzbYqaPy31s7ceMPGro7aqve+31pT2hF9rsf7bkXXJnbjhi04XFiKP+EtZwAAQABJREFUyVM64NYyjnK7+ZaxJDBTTU1ycobiG9Q1+dfDj6GR1pkWX3y+sXrlU4kee9Qp2KJzFuKuu37FTVA+BmWkY8P6zaij9bQ5s6aTgx6Ag/sLsTtvG6ZMnobPNq7FZvaVQlNtJYI5llasXGlM99bQfO/cOXMNMa/FJyEhCP/1/f8kzIoohhLHzZXGLjUc3PSREUzdHOZx4GAhCni6+J07vofMrDSDRcJIi1x//XV4++03sfrTDZhFDr3wzpQpMzBmzFCK1pAx6dvNpkbOT3+FQI8Q5gLmqIFBiI5JwXurWzBzYi0OHzmCc2aPglCTlnCZKAsICEMizSYmUORcSFMkdmJaIL8No1x3CNa462jiiNYexNLxGrkNVNoU0WqOqXhnSbnyxhOCxKYgJ0xmqbwD8QiRIjnsnIdmQXZL2c07Rvv7RsqhVZDgGEjO+OCEEEwZnoEh2cn4xxI6u9hWjhEZkpWX3GNbQcrOFUSF0EbZrmgLqnEd5Xe1CAZzEhtuCjcjRn6S3/TdFRiMEFYuNTUS0YHkGDEzwSSFG4zw0FhE99PttN0FoZT9vekrlxKJalE+Opxc8zk6aF0jiI5wOpKLtBXlvEu0XbHb74zHwVNHUdrF9PyVE1HjtpZjn1Ov1YO5mYFei4fXLcLDiGb4pzidCp2O2Knc2iJ5V6rtbeudPgdyQdRYEA7QuLOSWJs+3Zv5S0I9QH/ciRhpBBKFVgzvGd2aba+8cVM+fOkHK3G4qOq4/ZI7YSJyc3OId12oq6nHE/9+FocPF+I/b78JKcld4WTI7hhBVzB0kyNfhb//+Y9YTXvxbq4FLQEhqKx0kakC/PgndzGW99Jl94ydT/sBZM5rbMHz1t5o31dKaUexc2mN2iU3ylU14ZX/6+prMTxnOH76P99pXQdE5pq6ekadXayvEjUjMSg//VnBYhawTdJ/8DTfikbmj8FLWlXVZr31RLCSdvhbR7GL8RRRWXzpIr9x7NKFd6UEraD5MHRYFq675go8+KcHufFw44LzF/Ua4lygmE0CPDkpAWvXrMOEccPx6aefInPgQIwbP8YwgEpLSlBP3a1169cij3LnxtsvOUONFEWJjIpGJK00lZaWUwQ1CPE0w6x1WKe5gmpySgLS0hPM5qqQoqeyBmRtXwx4UFtbZXphxPDBBpeoPoJcfHwCRVtiyHwiTUPOpBR+42JjaWFIJ+Od7TGrDOe370PAG7t1a2viyNoeNWIQVqwtR2EZByFPw3JHWBwDDfScQTo2PYLBA+Jx3uQkg4arSAy89mkFSqiYmRCRhuzMELy+qxbrtpbiCxPiTP1LqlvwyKsFSIypx3lzsvhOx80hHPAWwtfmV+IlG7fWY+3WCswdH2t2raVVTVi1sRLhwS0YEEV3zhaeOSYKW08u/9Nv7cHC6QmYNykdoYRmbLSUN0h0i4OmPKh2Xc1JLgJaQQDPHBCKtZ8dwvbDdZg0KNxEO1TeiA3b9pGIIaGfkU1kKpUlTlBVm0FL1oTR0Vj66XaMzYrFjJxgw8k/XNmM55cVIooTODSAQuz9LGjBETNM7Q/kriUrK6P7W+gZCyrY6g6hYBoG9NRNg6S5pcFwjIVE7UWqqytqcWotItCY6TMEolflurpAv/lZhLmYyKb9njhqt4Igo2BfracT+/08aTsqya5fR9/t9yFBtI5NTpeLK6ZOaTT/xC9T88yfp3L6pmdJ0Ptu0uy8evN12uRc00kBzXWmHb51bTGbjmZs37mXHF0XTb4NQ2V5JR55+GkcOlSAb9z21S4gyi0ItpWt2aWZTlYGTyzy95diyNizMW/ufIrRKG4gv2iDp3s/QQOyo2BT3R19P1XvNV44+HQqF8A6aBzKSszHq1bjxRdfNi0RyaygNUNtUxLvudU2+kw0z4/ayj/tIBmMSIxuDBFO5pY+8dHlCjUKyha7yybOFbETgYNcTAlx9T3D/riJTHOJtHNGDMUtVAZ+4IG/8vSpGRdfeC5CgnuBQiiBEkoRlfMvuBCPPf4kpk0ZR475atz01VsRRTOg6p9EKmOGBEVg7twFuJh2/l2EsSBQyvGfn0/xl2HZ2LljKzusASVFRyxHxUwn0B/Yd4gnuoXIHjpUHc13hKFNtTNOGI1YiAbYtGk75iXzJELDXekOHjB0TXR0jBEd4gQg3tFIccLpCAGNkR4JoZzs42mR5aNVLdi6rQLnL0hEvMeqCMcvhqe7MWVcCJ57eQ8KDzYghUdDW/IOU7nzMMYOoWnBwDSKkQRi0+Y0PPVGMbWiacifnOj1O4qwe38JvnhWIgllF5VGw8l1jsIL7+xH3uBGLJqVibm5IVi7KQiPv7YP2/NqKNYSRgsxh7GThPKi2UMxPC0KBWUVXJQbOTGEavyHlPQwOlMJxtNvF+FAaTi1tQOxYkMJJ1Y9cgaGG0I9iiYYm1xR+MeLBRg5JAzTRydi0bRw7NwTh38t2Y+1Q6PIoXNjy95iiqRU4j+uHIV0yq6LyyE4eM/MS+YEYvfeaDz96l4U7I01iG7jziK24TAuP4eejQK6gnvlv6294a0QnxBnd4ejiuQC20yFs3Yjg5UTsdYd4aj6dEeh3mWwAuqL1tDFFeqJPm5ti1kM2xpnFkYvgk9NbaXx9ODZOLel7xt3UyePh/6OF95btopExBbU0pPrww8/gfx9Bfj+d25HklHyPV7q4333ITskxC6GBoOcvTQ1yyNvNsbnnmHGmzbpvS20E9/yVM4XD2g0qeq0TdA6XA4VFZkTUMOw8URQy2WzXI9S+utsUExFb3GJ8LbJfD7zyTiGMqWqJHuw2lcf+DNGR0FlKL8TCcOGDcE3b7sZv7n3D9wguHH54gtOJPkpi6vNRm5uLh7/95P4wx//ZHY1k6kIqvGlw/cBGanInTIVm7Zsw6WUr88aNAj1PKVdumwJraW8iO9TXOWMmWfgSTpWeuW1N+k9dxw55Uk4Qn8OP/vp3byW4df3/pz9G0gCPxjbt+/gac98c3I4aGAaBmcNwt/+9hekMU0m8y6iRZeHHvyLsTw3Y8Yk05dNHFgnCu9TBjAn426HQI8R5kIkwwe6kJVSinIqgE7MpFUVL8wbTbGFa8/L4q4xCp9uyOPRJk0WURZr7uQsmjRMIGfbxT/Kt12ZgceeL8Sby/MMUpN1lAsXDCcHOwzBzG/owCjMGF+LHVS6eLMgD/OnplExMxS3XTcaDz9XiI/XHzDWJWLC3bjkrKG4iESz1FVYPFJimmhnvQ3R+fbOAHLHb/nSULzw5mEsW52HCppWG5Cagi9fNh2zRlqy4TnJIZg8KhYbd+Rj34EyTBwyC6Mywml5JQPPvl2A5WsPMdtmxDCvGy6bhPnDww36TIiieAVl2gKNfKSFQJPCAnDz5el47MUDeHdVHpooshNFGfRLzh6Js6bwSE3Ys58GLSXHa97xvncEGiFApRVj4+j1sJPo0RTeybgdVaRT70+2lZ3K3InkFwJ+YG5kWBTZzze/efTNl1Leq66txr8eeRz79u/Dj37wbcTGWOZsu7JF+/J34dF/PsK1gPo4JGjq6+rx2da92LTjRSr57+S8lLBQ7yNWdHLkGwyH1LzU2OAmnohFLuvPOXchxSimGqJbzp1EgpvRwx9DlHsyoji9/cU36w6fhXl0ulNfV03Z/xIyqaQ/RV8XdZT9MSuaYqgUPxXm21MRJJY5eHAmueWL8Mc//YXc5wuMPP2pKKvTeRIMgkT6gBSKEo3EO+++i0sXX4JkimRp6yL8Hx4Zhq/dchPu/Pnd+Npt38Zwcr+PUNR23/4DVOo8B2ewD4OoE/Z9yon/9M5f4Gtfo9nODPoqyd9Ds4hV+PbtfE5PoW30CsM5f2bJM1i1dh3+81vfwrRJw/H1r9+CX/3q//DNb32HStNplEk/jBp6KP/2N7+JyZPH8cSdvcQ5oFMW9ZgTTj8I9BhhLlAnRgbgx7eMNHt8fyp3cuhz66XUkq5NoGxWC2W7AkCmdDvUMijWhe9cl0K73smQ8QRxqCOIe2z0Q+MouHVxEs0fJpFwnUhxD6uTs6Jd+N41XuloX500bmu6gZQd++0PrzAy78caFqNS3Bh2TRpq6tNQz+12FIlnSyDHSjWA9fnWFelUXKW9XZbNzwYZ52YFYMSNA1FemWGOwmIZTwqoCrrcctV0g0B8D/+y1N5rB6C8Jp3KJWwvYUIT6q31Nhn0wx9xoYRQzY+nD32bab77vuzEsw6Dtf3i6SHlWf0laEOPKlrlNNbVoryUIg88Qw4S+1j/KbZk8bs6qKC/rE/wnU5SWrjQ23LvJ9vmEyzWiX6aQkDj7YUlSzB12hSj6HkqiHKBdu/efCxfuQFfuuE2zkVr/kycxtNGelNWkACXpdDQNhfNhx78UU38zT/V3l5/rO8t+GDZx1j20af0OpmL4FDqMDCxFCyVhx33ZJtiyhB4SFq+/cZLWPXJu8yfulJ8bmysxFRjX75jBtPJlusvnVCh6T3+iNGxhsqMTz31PL5JhVApufZ0sBkv0dFRuPLKS2ldZTT/cmnlh33COttQyh4yED/+n+9j2bKVNHV4hGaOwzFmVA6dCU7gSbW1QcydMhq//NWd+OSTT1FEwl19O2HCWMqqjyXh7iKzLYYiX7dg+vRJtChUidiECK4RAZg7fxbiE+Lxyao1JPjLMSsuDhNyx2DC+NGt68+Xb7wGAzMHU6/DElXqabg55XcvBPySId1ZBW8i1l+5GpbxspZoU9R+InGeIJmEdUdBqN0fUgghokghYesv6K2/zYK/uCZ/Q0H7z0ufyOA/KtDoCsJJkPsL1nLk7wsM4S/ueacr6D+bvvWWzRWkZHpPsppdFbSQ2ISAFG31rGAjcOuhjRjQZxUvhaGrL7+GiyFlMJkoLiSQoksya+m/P00+XfKjRcFTSeWn1a8/H5V0CcycTE4WAvJEOWPmDNzx7dss6xMnm9Fx05GQiUvFRZd+0Ux0rxF+3JQ9GaGjerbDAoxURUsy+yh/bIJwmSLYyOakGqCS+edxdmXKoyjQVDrAuf32W+ibg4smv0lPKYJ+QaygNG24zPPyOBel6XxoxZtM9uma9fjTHx/EDddfTcc+MzqfySmMqdYIVm7izGnTJtKB4ERTmoGfp1zRHJJeG0pTikP410S4Gu+rfKf22RDUqceYsTnmr5Fs7kCKpNoQNhsurvkDB6Xz7yKTs76J8Be6HjdhFMaOI1NSTBaepugATsNBf2SW44uXX2J0lgzZoIRM44TTBwL2jD19Wuy0tM9BwN7TlJY14Ec/vgv55K61asV2QWuCyCZPS0vBL37+3+RyHL0ds6waEGl6lTV62DD85823EFFTZ59IM4gKQik0f2YtuDbq9krQBbfikgfTK51L1jGoeFRLyw4BVGTqyeCsGT0J/VNfdnZWJr79ja+dIqLckC+mEXJSIx6vxpMhUHTlvLLn/qlvadeW4I0rlLPaIaVw4QfhC1n9ohS9obfa4vLOEOu6HgOHML2Cm7Irzc1VqKquNs+NDdXIIB5LSYw1ohYWCancZaRXJKEnoYGyfW+S+v9hXUQ4NsrKmZ/oyllBbRJTQ1cFneh9Sms6Dz30V1x37RWYP/cM60Mv+TX19mmP3umV+km8DgMiz+CTA0BZcFO/Kcicc6u1Ns87cbZ1q17zvPK6sbrV9D2/m+z508IxICtQdk/b+Zu6eDIxw6E1QyZ2wmkBAYcwPy26uW830iA7YqsI6gF8/earaC6xthWZfd6WifvdRBMGkVGhVM7xFRzy5O6hFHQRjhRHJSowhGYy44msacuaz3ovSx6n0kKHFvOwcHLlSZiXV1WipLIMadGRXPBlEo2I3l4ZWRfZd5BM7qkIEivyrFkmez6eopJORe2dPE8EAgnxctxmOW87kXTHj6tZbcggXrUMaRR5fjlsNXJPzeg1xZzSH5vQsueIpqVESyzBFaud2oL4Na/ugcPxKmjmHCf9O++8SNvX78DdHIQjRYXkTE8l0S9pacWwa6LcThyaErVZThGcEtqt985JuSno5I4oiWZmw3Dx4nNpxjfRlPLpqrV4jIqVV19xCebN6V1EuVXzjn8FJfWX2qs/uw+JcltDK1He+sa6EcS9orX76oWaWzcwdo/4S9Oalx2pXW7OQ3+HgEOY9/ce7iftE36S3N7IkTnGbmxXNsvIlpPaFjL0DSq3heYu83btprm4ckMAF+Tlkwjn0SUJcbftDpzx/CFY3/w+z7Oblg0GpKYjhPbsKysryZVag2Fplu6CCHPDbWMlRJCfKqL889TfSetAoGMI9F8KxGqZNsrtgzjLJx2Ie5rJCU9KScSXr70KYbRLH0jqLy6etq+p62JxyH1zVw38kdi+8YhDKF4xc/pUQ3iH0mqZv96RBRMR5v945EnMnjudVkYSKN++Fn/9+yN0L38RFsw+gxbKxMboA0Eg8zSSoDW3dn+ZZy8A6FbRneBA4FRBwCHMTxCy5bVAJKUHNDEPltbQMkww4qR96YRTCgEbb3pzHrqqwI44IHb+leUV+MNv7kd4kGTIdYzZgokjRhrOhyGI7Yi8GuXMU1FJ5U1efUpKOlITk7F1z26sWbcOI7KzkDtyNHUY5Dabtu9l0sGsKDbEvCrn3DoQ6NUQsEmhXl3JLqmcrYtyokSeTRDK0kt9bS3GjR2LYRSrkw8vi3YU4d3gp45KqW92Dn6ieL2S2NyUSePMn9drv7d/+8ejBvesW7sJT9Dd/OWXnt8niHJvjrgaJvh575VsglxXbUAUBD09e4CtV05wINDlEOhzhHkJ3bJX1zYjLUbeMT2zpcvB4j/DI/XNuPdP7+DWa6bQyosLf3h8KQZnxuE/Fs88ihviPwfn7clC4BTRuqY6QtDHGklxkRH42o1fRmpsAvvZIh7CaEbO4ky3b5G3OEn7L5//yU0gyEPcwnnzUfRCOcrLy/Dau++grLgEM6ZORQSPlLVFlG1lLfy+m4bPXwMnB0HAy6y5nhygOBDoJASOhWW8s+h4TJkc+FlLX1h4OBU7I+kAiI5xIG/IEmGx7Yp452ffd5yvHeNkrs0tdfjgg2X4ZOUq3HiDFD1n9glOucGPXl0ij5sNjU3mtEAnBoa+EMj4Zzw7a5VQfK80JwMvJ40DgeNBoE8R5pojry49jOWrtuAb10/DMNoD785Q2RCAXYdCUdfQguAwuuNNG4DoBJmMccKpgICN/7z5aKeCQD9enio/LiISiXTHHEQq3uak2BYR1Ha5G1J9T6UIifTB5PtwcFoGZk+fgXeWvo/Sigq8uewDFBw6gJysbCTFJdC0VxhdTieTi9aBzLwq7IQOIaCNmv7aCPA2gsa+03c7eI9P+51zdSBwFATM4CGW0NUeSEdF0gsLl9ifLC/QFmbRxlt4JpSiK1deeinOWXgWrZRrGZeCp/eo5GM3hfKKcrzx5hu4/eabsGD+7G4q9fMXI7wvXF7f0IQtm/Ow6bPN9HS7Cwnx8Rg3bgzGjhlBfBqK0ppaWpjZQk+3CRg5bKA5kTxm933+qjk5nOYQ6HOEeXMAFZECoz367Ef3Xg1fFRY3025oMwbQxni8zAr6BCmZHyqjTjxX3iSaWZSjokrGCeV7+g1oDZWMuK+QRBmLTIomB1LQYtmSYYjhhD37rPGIjjDzlDbMQXvrLUhkfmTqo7i4hRwNIIHmGL2yNHnXk7Gx/whVZygSMSDRZdAqq2usH/ozq9haoX5+o6VHnu/oFNb0g+BmhIR6AAuKI6VlTpryxjUyH0SUB7Iuei8FSO9g6eR7vzkV97QAw0U7nFZkptPbXALt5L659B3s378fG3btwGe7d1LWNBSxERG4YNF5GDEw85RuFE5FC3tDnnbXGsKcGnq0pm2qpfetfxqcWtW1W5LJOl/2W29oiFOH3gWBdhwADiBv70Rm0GlQtQWJ2GmIaXy5KapmFhI+K1ZQYAOGZCYjhjbRAcpXmjFqMuF994aEuGjc8a3byCnvG4qewt8K2lA30xTihx+swq/u+X+0PBSP3AnjsXLlx3jm2edosvAy3Hj95Th4qAi///0f6BzqDAzPvpY4gAr/TCxHtcpLKCCY3UNmO+X7rfcGY/C9ROzVhzLz69ZiYv03YpDyu6LvjRLW5399V74904uCiBN6CwT6FGEuoGlSiFTyN3x37mvAP5eswbot+cRc9AzqbsDFC8bi4jNH0DWuZYrrUGkDHniUcXbuptk5NxJD6zFr3tl4f9kanDU9DV88c7Qxh/TR5kr8e8lqHCmroUOBQIwfN5Q2TzNZrmWe7ggJ638+tgJDBwXilgum4IMVh/DwS58iKz0aBQX7mYfLcNzmzh5Fz5wjEEuKW/JreUX1+PX97+MQHQsEhDUhkl5IJ0+cjg1rV+OiL4zGudMGsozTL9gmCWXPNYTY6aUn/o3HH/23QXydg4aWK6HarguysqLjzOxUcp/ddEAhjMk/Ee0G2+ranYFEopC8iPMwLdSNNJlYXYMAruC1XLzFZ6tpqEVTFa/14qA54UQhoIVWQV0tOsoyZqYnK0hMyBDsFsXEl0yhe0Xp2uHnKdG59A8I+EEW7Qh1jjUvQl2xzWeOqwBqp//r4Ufxz4f/gWaaSHW1NNCxnBux0bKPLVaURq0hBXnt/vDDH9xBk4izu7/gkyxRU1Xw1bStq62j46fltCwTjN/++m4kJUSiqqoa/3vnPVi3bgMOF52LjRu248DBA9i0ZTNee/tjDKBXz3HjsmkdrAllZdX4bNNWbN+xg8qvqbRpPgqZA+Pp0yIQ5XWN2PDZdm6q3IiLjWX6LRg+bCgGZaWz3Fps3UYu/eYtJMjdGDF8OMaOHoTQHjZ/e5IgdZJ1MQT6HGHeUfsLDrfgoYc3kqqLwvXXzzFm5Q4crME7HxxEdcN2XHdRDnYdrMXDT+ejtDYEl106j5zwQBQerMCHHxeirDEN1Yg2B4LLt1XikSX7kZKagrPPSeSkDcIn62vw9ydITNMslbwBaFLX1gRytxtq0GJVUySl/LLgDnHj8i8OQwQ5GWu2VOPd1fmIG1CKsybEY1NBJf75+Bq4I5NwBTcAUVFh2FpQg+XrSFw1Z6DRRfb7aRhsotzIZxOwQzKz8JPvfx81Mh7bo8Ggb8STAx1L8RCXKHP+NwuhPnV7kHtv0uMtjVi7aSNeeudtFNVU8l0DkpJSkJMzHFHhsRhAcZYhgwZ3e+36W4HW6NN2p020QLR3izZIGgvsDMn9m41af2u8055ugMDRSMQ4D5OZKC9CW+NtNt3AX7b4fPKbeALraiLHHBiclcF4GqU9iycXnX1ON8Cq64vQxkey43U8wm6g5a262hpyvqMQFB2O/7rjGyint87g4GZs274VTY31yMvLw9tvfYic4YMwenQ2lq9YRQs0/0Jx0RES25l4q6iYHsprcemlF+Pii8/jPr0Zjz72OLZu3cJ8LIbe//7Pf6PkSDj+9o9H8Obb72LUiOEkzF14ikqzk8ZPwE03fwlpqQld31gnxz4FgT5JmBvayAfMb310BKVV5bj1imEYmSXbzvS2lsNJ1tSAV97aiVHjh2HL1gM4cKgSl16YjTmTYsiZJfobnYDw8Fo89eoeI9pSRUbjhyvzOZFq8OWLxyEz0QLR6KFRuOfPhagtays4IIDOXlzhRuVGajfy4DV9agLmjU804hijBsVi955acDONhaNB4r4MBzmJf3DrNIzNDDZOCqaMjOPCX4sPlpdwGp++LDfTp0SSonfCg0IwYvAQQlQnIz0b1CPimqpekvUUx7THeol10CJ9uKiISp9v0455BUJp13zGpFmYNDEXcZHRtM5CiVOydINO69HUlWOGQG+sw54dB9DUUEdavBlHDpUQzhyrHBSyXsEh4UW6d2XZTl79GwIaOe1DE+UhiAZRQwJP3FzhHVKFGJo1CFNyx/JBK40IdxHjutdVkZzQWQh4Q10E85hRo/H+0g/x05/9ElfQ9vqY0aOoZB+NBIq2KO7CBXPw4ssvY/68efjqTdfy9N2NwsPF+NMDf0Y0xQl/eddP2D9p1Pepw1/++k88+sgTSEiIx1xuppoor1JZWYVbbr4SZ86biaiYGPztX0/g1Vdfw/e++x3Mnz3JSDR99NFa/ObePxpzl1/72jX0/tljq0xnwejEO4UQ6JOEuT9UtDe/DoEUF0mODWqVE4+k7Hh2VhRaQpKxeksNSosb6EQmElmpUQj3jHvJeI3JCcJzr5AvxklUU9eCkpJGpCW7kUWiXGJhCinhdOE7JRGvvFLahge5KDc3W9LFskkb5ApGSoSrrfyQAAzKSEFRKRd0ypGVlAUjOjYew7OCYavlJfBm+AA3lgUIyTpBEKBDO3OMGyAb4b0oaNxZwRu12++64crxJu7OeytWoIQKSe6gIHxhxizMmDyVJjxDEKT1mZsH1c6qYQ/VsxtA0V1FSJypkZ4Vf/eruxEoWTTCV2YpZ02azM2Pgt4J3uR1igXnBAcCfiGgyekb2jCK/UWc20CKPrz2+utYtuwjEuYB2LppPU94L2AUiafJFKLSHZ2WL53QCQho6bchGEgi+9xFcwzX+v2lS3Hf/Q/CTRHXKVMm49JLLsCInCwj5uIiVzuY+DYqMtwQza+//g4KC4txycUXY9RInpCTy0dpFfzHV27Eik9WYeeO3cYOfBBFZIZmD8FictDd7hBUVJRg7Zr1iI2L44l5OBl3+ajnCUl4ZKTZCHz8yRpce+1ixMREmpY4KKUTHdoPo/Q5wlwTSq4afN01BPEIig7LyUto22lqmQwmknPTjbnI3kCKpEjRIkjahV7BTfZ6GEVPXJx4+iJFjfCwo62thEs71IMY7YmtbJSmpSmQcshRCHbbJDcJTOYbR7OO++k5zaBlcjNbmiOseyVkUFqKo9FMU8Npi2r9LVmCjdWT7ftK77s7kBQzfaaaGAVVTw+eSgss/trYRCIxr6AAm/fodKeFNsyHYd7UGQjh7tLNMWusN1DMqrvr5a+uffadYVFaWEZ+WgTLKJ7g3Hrd9YgICjbeXdW2QPovCOaq6SbhZIjyPttgp+LdBgGxwlsD77nB8w1BNMMqbmlqUhy+MG8OP7fgwnPnYejQLN6LUeGrOyIsqZPF3sXEYIV6dRDU7DU8kqIrF114Jr4wfzr25h/AGhLOTy1ZgkMHC/Hr//sxT8Ll3Vl+ItSkFkMfHDhcpAUeycmJhqi3oZ+QEM2+S0FxSTHjUUSmvgExsVGIigjhGg9U19SjtLSMJ/eHcO99f6KyqJvMlnqj3FtRXolkOozTqZxDkPfq4XPKK9enCHMRRgGUJQigAmZTAIlcPfNP1+T0QBwoDsH+kjramyaRzQ+VNO26dmsxGqoOYfzILOzNi8LG1ZXYnFdJiy2RFGWhEAln1Ir1laiqO8LJkYUocrlTEgKwZ1cF9lBRc1AibcQyr5LqJrz55jaWZ01BoUKSQ2bhFg+joVWgxcxevmHgbQsJphbKBMuMR2qMG+vL6yh7XosZOaHST0U5baOv21TNiNamwEp4mv16YSH1W28LvoSu73N31beZSl/7DhRQsbMaweSQT588CeEyiUiOS6DIQy4ghq7srgr1w3LkM1WKWQf2UzelNBhFBw8R27QgmUfWQRLwZ9A2zQiweAitZq/x2w9B4jSpqyBAMTSzKAjHaaL6mawSZamqrcY5C76AebNzGdEm+XS1iXKvNcaQlyIznXCiEBD4Zbd821ZyrTnncycOpwhKDEaPHGIUQJc89zLKSuvhohWsgAA3zSo2mFOyJs73VBLk0j2TB2axCRubuEnXel5eg0LKmg/OzjKMuRButOrr63iaRhKARENsZChSaUygsqoC37ztVgQFk4Yw5t50GlrP5xBy5cm80/DowrVQGMsJfQcCfYowF1jdnE2N9UHYvbcRtRUNlPuswsCMCCyaG4q9BZF46oUC7J2UgEi6Qtu1rxwrVu3HgjmJGDsoAJkx8TwWbMabH+5DWXUCkuNCSHzXYtknRURv5KaTwKE0CqZNzsRTL5biL88WYHpuCo+wmqlsV4Ij5U3kyTeYiahh7ibS1KQ0Q765jvdy2d7etrpbRFNzJYnwFkweG4LV68LwzEs7cXhiDBJio7FtTxU+21KH8NDTU/HzVEwVcbh7ing+Fe2x82wmh62ai7bGaUxUDI9DeXYq7oodwbmeFARELtmkja47dmzFD7/3I55CEL/U1SEtPJJz3dIA0dgSvK34DuRPCuCnbSJRW1bjaayXN9ZGrw0cLVi/aQPiaX4w4Pw5fG1bXFEMEeM699XVO+jZNx/v7859RxAQsVzP+f3UM08b8RIpZo7MySaRXk+Ty0eM2IqLsqzBPDGTeEtNXT3KqxoQQYs4kybl4tnnX8a7lE0fM2YUFTYTyR2vx5NPP4OKqkpMnDDOcNIbyCa3zlvZc+yqyIhwDB2Sbay4tNCS1oTxE/m+GatWrcNDlE9feOY8isCMMoxF357uqB3O+/4HgT5FmAunhQbWoKr8EF5/s4hESjkaaosxf95o3HjhGFx7yWA8/toePP3KVqIqKsCRQ3Hm/OE4f34yRC6Hxrpw8zWJuP+Rarz49k7SNA1U3uCR4RlD8d7SbeQ61nABJmE+KgbVzeF49rV9ePiFHdzpNtJhSyxuumE4HvvHe4wxhLnTIgMJ8SCauJLwSlBAGZXuDnCXHM8nO9C4I98HBRzidThyMoLx5WvH4OEnWMc3txKfBiExfiBmTEzHsjU7zWS0UzrXk4eAL1FuOA8aPF6YzsPsPPlCeiClsSBQU4NmWqsJo6hVOA3l653NWRGx6NXEHqhh3y9STM0sHkXfestXjZ14iavoZE3BW6RJloQcmfK+39+9pgUcYi2uRnJrh+Lmr95IJs5QM+IsjrmIeK1MHQVn1ncEmWO9F74MDwujqcf5+PjjVfif/7kTI0ePoKW2Quyi7PdNX7mezLNQo2cWHh6F1199C0UUYTlj5jRjIecrN95A++e/xldv+QaG5wxFUWER9uwtwHXXXY05c+UNvInWXiim4lFUE552k8t+9ZWX8+TzIO785f9h/NjRFF0KxAp6TU1OTMLUyRNJb4jdZ223LAbAsVrhfOuPEOhThLk64PwF8Th7wQzj4EU7XjtInCQ73Y0f3phNE3KDQX0tRFNhMyasPUrLiHLhpzdnoahikEkaFWUZ9V88bxwkVW7QH2fDonFBmD4iC/sPN1FD24U4OiqSaPr0X5xpiHwl/uV3zjDxNXkuXZiNxfzznkiBTHDVeRn8qj9aiWloRlp0C374zWxUVw62HBzFBGDzrkZabKmjfLqDYA2gjvMji91+g6G2NSj4nVhQFjNEuLopC2gCP+nZTq17BekCeG7Ns/3eZEOkKmXU3hCMNLPEKdQmVl34PoB1bzU3aTesN1S2B+ugESA9TS2E6ldzz2sTNzRNnhMGyXHqGFpuuPVPwcWIh/btRwxlydMiYumcLMJsll08oRDB7r3hE+7xJtS9v5nMnB8HAseAgDbXTc31WLHiE3JY67gWNOHQAZnojbOUBlvkNEhu745FlGuk2yuO4vXvoJaqxV0ZAolE58yZRLnwu2i+8H1ysndixIgh+PIN12H6NHG93UhOiMAf7r8bjz36BAlvir3U1XJpaMbUqZPwk//9MV565VUU0QlR9pAs3HjdVZg5eyYtvYXRzUQ9zjhjOuvcQnEW4msSF8I0Kamx+MmPv4u//e0R7NydTxzUhGuuvhznnbsIGRmJrc2ze7b1xQncCE5aDqQ8bIL3Ame9cX57MQT6HGEua6DGIugxZmiyvH2SIO8oyEziABLExwqaFLKYkpDRnlMh7rgdvO/17tg5Atv2luPx17dxso7BmePCjfUWmWdcsamKDmJqaFHmeDnYJTtXvxCwMBEJMZJaJLgCAym3T+pMlg5cEvAThcZgEWLiNIt457OhywR7DypsRWK9qz+0pTB4VvWm7kJv2TAYoPbQjyG8WbbZpPCqLq6rbUYpzZIePHSQHniP0MpSCTfqddhLpdkK2iaWCTNdG6icZW1qrHHhZmaywDIuawgimGEQn9tgrDgaKDY+sMSlRJzrjZUDb5zgQOA4EBBW0YnrYcoiP/P8qya2292MkNBgnLlwNgdTE4l2WhlrG3wd5GiPydNj9AVR4bqFJ9RV1PcKC5d+1+cLBs2zM8igxqhR2Rgxkk6DqKwZGkKyiIhWjDitDwpZaXH49rdubjMcwfdaNyZNHGX+amvqEEojExGhbiNwJITgolzs1VdeYjjmRp2AadRTRN0UaQnDrV/7Cuop495E+fSoiEBTXqMnjin0c/zYI8L4W2A+YuA4oe9AoM8R5n0HtEfXND0xhjg3BI89t53mlOIwkNyR3QXl+GzXEcwYn4ThGTFHJzrN34jwETfScCdFOJGYkkUSEdvV5FzUkCvRSI6DtN/l6KGsrJwKO6U4TK13wxsnhtK1huYFq8ghNYGEuzyMyiNbBM1UBdJbh4j0IHJKExOTjSfNzIEDkZBkadyH0VpPKBeFEFniILHvluUTcaqViVfomGsqNNl1iLEtpy7C4l5t6PStjfk7naBrIra1nQscVzjJdZaS8K6srMGWLXlY8fFK7Nu9hwR2BYluWk9hP0VRRjya/ZyZNRCjMtJNPyYkJhiLCFLqsvKUsyB6C6ZSbTRlSiO5yLpIILlaSHYzgtm7tSMFLCLd6vNjcTW7pt1OLn0HAsIK1nix6mxNFetUTmNS4y2IMssDkqLxsx9/x7hxD+Q4VCo3qcEmMmnkuKotaHzp2cqp7b3u/L1rH6O/PIVFRlHhMgQff/Ip5pwxiZPb3iSfXAu9QSwo6jmK1tl0L38V8m8n4luQl0WVkGCLkUNa2sTRQWwQzS1y+aG5w3BzusZDcbO2KC8R/hJj0b3+lIe45mIiKATS+oP+FE9lkj43ZWqj0BWhnp5HN322E4MGDzIFmJNgVcQJvR4CDmHejV2UQi79N68eh1dXFWPv/kYUHCojIdCMs2Yn4aJpqYi0DCN3Y416rihb/KJ1vSG+0PIjBGXeee5rKFNdfOQIyivLUUTHOgd43FtGxzq1VNApI3HeyJWuhVrzgdRmDwuPINeJWu3RkTxWnEokyOFNRCRUFELt9yC5y1NgGnEQWow4Q70pU3boj7CcahL65eUV2L15E6pW8SSDLu/D5GmPGFXm8qLCw5EUn4g4WulIpQvm2LgY2qaPRSi/CYkLpwr3SVXQLc694dLrQ9eYMTTwYRmGc84HldfxhoAfuzwImiJm+Y/le+N5u24nUqRys4OdntAy7TLvPWXoG/WnUc0jpv37D+DQYcqBbs/DoYI8bnJ3muPgKHpoTU9PQ86UXCTRX0BaUjKtL6XQjGmgSWuNK+V+7KA6qW0GrsaShj8YtxEFFs/82Hk6X/s+BLzHqlqjMSmc5Rs0Mnxpq2Zu+sQ4WLN6PYLoHXrHlq0IC6xDdJjGo3Kx7ZPTuoch60nFWdiQVwWVdvoGqVwPGJSNuQvm04nPw6jmide0aZNo+zvGEMRCszYusmd42wxtg1uHUPR0rnqhNbAT7X7k8mGtE/yow1c7iID39QWkMvQnYys2LtOzliM72O/Ns6dsvftcRLmncboUFpbg9dffxQsvv4bLr7nWbAiE/zxR7Go4114KAa+h0ktr2M+qlUFTjNcsSCRhSXuonImaiGEUveEJ2OkZPDJwQhi6La8oQy054Xv2FWDthg0oOHjQcMWbiA3jyeXMnTQJk3JGkNMdgdCoCHIqgo3yjIuErzjgurpIRAfJJr0H4QmwFofb64UH2iKcbZnyRoo4yLxlY3OjIaibyQoRh76urgG1tD9bXVVNr4+F2Lh+HTZu+QxlHyw1mDs8KJSeSgchd9wEDEhNM9x1NxV6hGitYKN3+7mrrqcq32PUz9NfFpHLxccTtSsRvlrFPY3ZOOlkpKa6FgX5+7H8g2XY/NkWYwdYMp5DMwdh8sgRmDtmIuLoaS+Ypsl0shHoCqSYGGvG/pODIG2QTDCVPJGa2q3zNNK5nNYQ8DdyOjNCrGHXRMsfq1FQsNuYyW2gdSUpEVoEuTc5qNGv8dqGPU5roHs1PjgkDOdfdAkGJKdhybMvkeh8HVdddTld2Y9AKJXhXcS5OsS0saK//vLKrktu7bL8ZXay3/zldcx3bKjWsWauVfIyumbdVjzx9BLUNbTgMhLlo2j5RYuhOPOtCPuYGTofexoCDmHeAz1AS44Ii+wMSu+Byp3iIiWSYpQyvahmeUUtOlKCvPy92LpnNzZt38ZjPZq3pKb7hFFDMWnKVAwZNpQbGF+p/s9fWRHsNrZytzqHMloMHWROQvCs2eZbUVEZNq7bgD15u7BlzUZsIDKMjYjEkEEZmDBhLLm2NNsZEWW4tf2mt7na6OCh8MAhbNu0A+E0/xUeKQ3rQERHRXGT5MWV8SwE/hZIX3joxEIboIoKiSKVofhwuTnB2LZlG9atXYO60nJkDkijl9wBGLlgAYZxPISwzJBGS9RJ+TXL3Cn/BfDoQgpXGmetC5JYagymu83dsX9M9GOtrMdO7nztZxAw4gYcTr5DQs8ioX3fq/k6ddE+VmNTs2L6tLH44Q/uQAxP9MwsaaGFAmMS0Zfvrhz9zRq+Po2D5mRIWBTmzF9IE8lpePWNN3Dfn/6MjOQUTJw4Hjk5OcjM5GlmbBwi6NBHc99f8O4v3dv95K8P/aXvqnfe9fDNU+Otg+q3RpUoXwVPdysovpm35zA2b92Gt95/H24yJ+bOnUs4zUMwPZ0LK5odi81Uac3BuemtEHAI897aM/2wXkZOnO0Sh9osO6SSqskNXfrhB1j20XJUUE78/C9dibOu/SLdFUcgLj6enO/uRpedA7zqn8hj1HkLZvFuFhFkJdtSgwP5h7B65Ur8/i9/RUpMDC5YdC7dOudQkZBHIsfDtJ0rumdjcTWZOH4cXlv2Ee7675+CTBlExcbQu24oj5UTEBYRioz0DKSmpVJ+khxsihal8N43SK8tPz/fcL8PFR7CvvwCcnuqUVp4ALV0vpGWmoKsjCxkUM5/4uJLkBRDKykR0fTQG8YTEQnSkCCnsKc44nYINPDVcqdAvQR7nOmJw+hERH46S8Cbopyffg+B1vGg4UZ6z3MxV4lYeahvITeO6yKj/yDM1SxFzsY6bN+6CTERLoTQJwZaqvhFxLgvQc5XJihlR988UU7Li7UWNBD+mcNH4StDhqKSDJ383Tuwlpv3V157Bc1ESKkUZxs+fChNT47CtCljEBltOewxIGNa0y98MKJ4uvId/3d7UPl2wcJaVuusqy8NbaM51XX79v1Yt34tNm3egv37DuAwxfpi4uIxbuIE3HjTzYjnRiWWJ4g6QW5UQiZSUXZZunVC74aAQ5j37v7pV7UTYSTiXHJ5+isrL8fTTyzBuryduIhHkpdds7jPtNcXkUuuXX8pqUmYwMXg+ptuxL13/wa//fNDOG/BQpy38CxEUg6+LwctClJ4mjPjDMyYOYtEuYum3qqwbsN6OuzidfNmFOwqxfrlK2kZhW53GV/OkOTRzhYXstuvRShSjnsofhJMAj6GhHdacirmLTwbw7MHI57EvmgT412XkUXIy+uuS2IpfG8tYpI81ZJmBbPQ8baFVLi+2ONNX2Ve0nexs1I5vw4EOoaA6BoplrdQLKq2lic6lbXUQSmnMnkFCihut3rVKiqaH0ZpWanZmB8hoRjOzaiOZoQjRBC5OHHiosJw4QULqVgu2XF58NQI1tjVn+QYbULcvvKVE9pBwOBcTnKZyxX33BVIRW3ijDG0/z12Mk0oE5bbNm3GypXLsfLjT/HSSy+bPhmUmYFRJNLPOGMGomMSeMIXRfvlQWT+BPGEjxiGSC3AiEJSF4Wb/s8l592uxsd+ED5V0Gmh/mo5xprJbNAa2VhPD7DVGm9k+BDH5tNM47r16/Hhh8tpyaUR0dSniaf+zKgx43DTN85EfEISRWOJ9diOBmFFDTyNMf63iXq9cULfgIBDmPeNfuo3tbSIJYpClBXjsSeeQVxyOu7+we1Iz0jpN21UQ9whAfjWD7+NWV+Yi389+Dcj437+mWch2OWRfed6rIXEULpmCe/9zReCb6H1CBHJQay7mwtIKJVh50+bbip/3hfmm0VTsvi1JMzl2a6RhHQdPeYdza5p4eJI5x2UfQmh7Gg485HoSSCPZ4M8xLfhaPEnwNAqImAssRUbUhbhY5Ho5p290NkReNV4U3CIcgOGXvujXlIP+wZPl7Z7bWiOdm9O4MGTWBfvMaFRpPEtzrjK3H+gELt37caePQXIyyug4vkhnuRUUsmcRHZsOL1zRiKWJ2JjhqchceZYM35DeGoUxs2mnH/ZRJdqJnG5SBJSMbGR5JirJLXU/lMMBZWqWtlXvXOCNwRMnxn4WJ3UOl4IbMFbz8NIqOaMGku74VU0mVqI0vIyisSV0vlPId5e9jH1VSpRTlG5RhHANJMSFR2OyKhIegqPpIhRNIn1EBLrLp70hZr3CXEJxFHEeaTWU6hM7h3C6JwomuntvravIoqLi60yrPhWv0pET4yMirIyEtd1qOQpa119HTcPDSTCa2nWtZSifBWooWGDGupZyfpYVEwUIqKiuaGIRXTKANz8zW8ggcYHIik2GJ+QwIWGJiQJE3paQJNnM2jGkQceBih2xbwr79z3agg4hHmv7p7+VzkhT9FZebSuso+Knl//3x8iOaV/momUc4qpZ0xGIAnPP/7iLuROmIDBKRmGO2JxeoWw+1awudIieA1JTCLa8lNH6wSidLgIRNI6DoXP2xomMR6fYNnX9eIOklukID5jOz9bItJbA/P3ClqQvEPfg6Z37U/3e6svZTLu6NHSHjaKebJ9LcJbhJOuykOcynpq4ddVN5KYKsGqT1birTdewcGD+0hEBxpHMbm5E3HFYp7kDB+BYNq4DglqoZgWiTXtGHk6Y/HGNfRVMwWNZd8a6lnvNZ71Z3+30/CVE44JAe+NVHvoeUQ1mJqeCbQbhys0ij5IIkDSFYOJQ7TpYmcjoJGndw0ketnvTSSKd+7aZUTqZGJ3886tKKe8djktvsgQQFMD+4vxhMdFJDc12kq6zIyVEXddjsrsflctTDH8sceEGqT34oLrTgS+TlA0/oQrRfTH06pXTFwsdWgyuKkYwVPXdGOq18WTRIkDBpD41p/SB7IuEtFTMG3lOztYb/XEd/Zr+2pHcq59AgIOYd4nuqn/VFLIQ2IssivuJtKJiu7b4h3H6xkh7QEDU1BSW4tKiXfo2JScZDQbfrlF3B4vk17+3eZKm2q2rQ5etRZB0j54y397f3HWEW9onD731rA52vCkv+GkMeJvnPiL6w1Bmysu0ZQiOvc5sJ8KzNt2Yu/eXRRL2UNuajWGDs7CvHlTKZ88DAMoq5xKXQcRUm1BpWg860/3Ek3x3jzy0QR/745XQyXsTByrBOe3PQS8IWeIeG2a+FKibQautF+oEzpqkCKQcNa/sfEpRgzGmM9lLBHUel9HfF3Lk78KctzVv9rAlZGbbQK7tsUQ+y3kdEuB1xP0juk1XiJ4QhLgkYnRCWMzza7qNCU4mJs9Gggwax854YGUA1eQCEoAK+tRW+fGgYn0jUS48tQ6ojZR152RPePRe6dicjGt9D85PN+dS9+AgEOY941+6he11FLVikvIbdjw2Wd4/sW3sfiSRZQzNvzXftFO70aUllfhTw/9DUU6PhVvmUjVcJ1bm+u96Hun7D/3li33o9tj1kuf161g8XnvPPZvCIjWqCwrwttvvYucYTk8qo+mrC+Vh0OCjGMXtV5zx1y97s0Lz4++mj9xN0XQkIhpJCXTUNdM8YAqen7djY8//oR277cbReMqihUMGzoQE3NH49KL5htl8/j4WGN1yGUfDbXaFxf28g3+3imON4nom6aj55NJ01FezntroRFRq97Qr8XDtiyUWGNDa1GANHcNTrbGlrln7CDKoAdJvCUxsRWYAz1dZMW08rSOXzxROBzMW8MOb03WeqPx20TiXWVYp30uo5xp5STim+k9ZWgzYYYgr6q/icMKW06CPFmq/q25t914smh74dz1OQg4hHmf67K+W2EhDMNrIjbRNYpOeh574lk6W9qHiy48h85gKDtH83v9IVSTO7515x7a230eBXv3UVGJUtlE2AbBsoHtuMz9ocEn0QYHBicBtH6ZpBlZWYMwf/4MvPfOi3h2SQWJ8lByFyMoYxtHSzwRiOVxfyzlbMPCwyQ9wuP/eIujSHjYGzz5gpLJzEJaqSinHG8tRRUOHzhIZysHKZZQSU5lMAbRo+/C+VMwYEA60tIHUlY8BkHB5NSbHaFmp4htccGFoXzJnlNB8thlsjgndCkE2nrL6keL6PW8FRXM0OQZPP5o6QASwtKk8Q3tRoU3J8H7vjVRWy2E/KWjoyDC3Hzx1MPc86d1P2h/Z6WtKFapttiMlYe1ETAZOj/9CgIOYd6vurP3N8bgLuIYubOfmJuLeWedhfeWLsXd9/we6WlJuPbqK+i1M8t4U2uHAHt/08ySXlXThO07duKVl9/AqjVrsHDBHFx12WL813d+5GmBQcF9oDVOFR0IdB8E0tLTcfvtt9LMIK1KUDFv9+79qKyox8HDRbxWoqSsBNu27qKjr1o6UmlAaUmJJd/LKlryu7whESN54MTEZBLccZQHD0HuxOFUMp6IIUPTkZxEc5thIZZH4NamiRDXn+SHNTe9CTHvudrV2Ej52fnbV75yQhdCwF+fWbxqC+IUO2Fp6n2/wbuLvCKcWG/51MFO7PPaK/vWW0O6e+LZnPTWj7wRwa7to2/wuz/wjeQ892oIOIR5r+6e/lU5IRqdHAaRIdUsYTnK0M08IxfTp0/A2nVb8Pobb+J/77wHAzPTMXLECIygslU2nfXERlMmkIpYUnzpLUH4VbKqDVQSqqRW/Qoekefl7cH6jdsolhNGZyKTcN7559HpRQZlFSlbziVAsoZty4BQqlBoJzC0kvXhYDlx6sMNcKp+CiBgkw82pULlYYq36S+EDlLGjh7MMjXfrTkiD7wNNLvZJHfJpFI07ySR6xtEagVT/CWQssQubv6DgqQ0Z2ar52rfK6Wd3pu8sd/pu3doq6f325O/7+r8Tr4mfTmlgeIJoFDZdfKFvD0SfeFwonn7pj+Z51ZRTya2thCeXDpoY0d1P5mynTS9BwIOYd57+uL0qImRsfNCJ0Q44XRKM3PmBEyePI52W2vwBj26bd26A2+++T5tBpdhKD2ADhuWjTEjhiCB9q3DwsJpySWFZvZCjJa7jqGFtzrAXScNV3uJlpyqlHGkEFR85AiKDtNuMev58cdrsXX7Dpq7qkJEWAQGZaXjhuuv4oZiFO3MUnSFFZKuUXWVzAVaQdy9ttarhN6z2bDr6FwdCHQvBDQP7Fmhe3vm2VYwRLTzjw5mrVmuOXO8pUtklQhuOfNRsPO0nqxfXxJNb/29807j3DsQcCDgQODUQuB42O3Ulu7kfhpC4OiFz14yA4NdVMCKwBVXXoIGmqqS5YTCwhLs2LEXhw4doKLoW7T1WkJnH83kmDUjPjGeZqWSkEA50cjIcMqgRhv7rrKPLRvDEpexNePlzCaS2vA2RyKI3Pqa2hpjN7aFRHcDOXKyM9tCGVXZkq0iEV5Gu7LizO3JL2A9ikhg11CeVRr3LIsyr/GxCbjhuuuQnByLpJQEOsmRlr1MaAHBpB3kFdNZ50/DIe40uYsgIMxwNL7wf4DfRUU62TgQcCDgQKCHIeAQ5j3cAU7xFi/Ld/l1005wWlqy+Rs3brgBUz1FYOrr6BWtoRlVdNu+ZdMW/H/23gM+ziNN73zQ3WjknANBgGDOUSQVqZw1Gk2wZmfl2d3Z9QZ7vR77PPfbs8+36/Od7+z9/dbr9e7Z3pnd0WiCwmiUpRkqUsxZzDmBIEGAyBnogHveajQJUqTEABDdjaekZje6v6++qn/VV99Tb71VtWfPHrcRSJ89RUsAAEAASURBVFubifgmtxV2gGtiR5ehCoZtIhfdZ7xcKmt4+Sr3BS8YpsC3yWI2NO46B/zOQ8Ee5HKGmWaV53bwfm40sXDJEjz55Fe5zXyJ2xI+I51D5D4OmtPId3m6LW7zuOHqWqNuwXfp1j8iMOEIRLvu0YxHrevRv/UuAiIgAolDQMI8ccoyrnPyZW4o9mg2txA/BbHNlLcVGirKV+DBByO7TkYF8kB/iEuhdaO5pdmtPWtQzH0kshtl3wVGNpnGfFkzbE1ZU9gMyXSNyeXub3l5WRTeke9MYDtZwATaORfSyQ+XywWLw36PpsX+VhABEbhZAlcS4hfuxGuI/Gp35JXiuNqx13AZHSICIiACo0BAwnwUICqKmyNwpcfuhRj5nDRfbfMqjT4y7Xj7bLPSo+LYiWb+nZLq5SuHbi45lwjp6LkX4h0+P3pe9Pvoo/rCdDB+ERXkI69nx39huqMR6l0EROBLCNjdaXfy9dxR13pstIW4UhIuj+OLjr3S+fpOBERABEafgIT56DNVjKNJgMLYHp+XC+vI2q4XLxT9e+Rx0e/sqKjgvnhG5NPIY+ybkedHjx15zOWP8ugxehcBEbgZAnbnXegOX0NE13Ps1aIbjTiuFre+FwEREIEbIyCdcWPcdJYIiIAIiIAIiIAIiIAIjCoBCfNRxanIREAEREAEREAEREAERODGCEiY3xg3nSUCIiACIiACIiACIiACo0pAwnxUcSoyERABERABERABERABEbgxAhLmN8ZNZ4mACIiACIiACIiACIjAqBLQqiyjilORjRcBW+js8hVVbCUW9TzHq0R0XREQAREQAREQgeslIGF+vcR0fEwSkACPyWJRokRABERABERABK6DgIT5dcDSobFJILoBkFnM3Zrjw6bzqAV95Drk0RyYhT3J/RNZ49yOtT9N4F/peH6tIAIiIAIiIAIiIAJjSkDCfEzxKvJbQcAEtY9+Kxc2ERr+bGLbRLsF+y0q1N3f/CNphJndCXL7bjiSkcfa8QoiIAIiIAIiIAIiMNYEJMzHmrDiH1MCzlpOMd3a0ob9+w+gv3/AifEkKuyU1BRk5xSgqqoS2Vnp8HgvJqXhzDkcOHjQfREOR2zlmenpKC0rQ1VlOXwpFw+WSL/ITZ9EQAREQAREQATGjoCE+dixVcy3gICzcFM5Hz1Whz//9/8ZbZ1dyM3ORYhiu6e3F/5kL+bOmoVnnnkad69aAV+yD14K+a1b9+Df/bs/R35+HoKhEC3lSQgFB5GTm4fHHn0Czz33TeTmpd6CHOgSIiACIiACIiACIhAhIGGumpAQBExYAyHct+pu/K/f/9eg1kZndzs++OADvPrKq/gzivDvff/7ePqpB4b9XijG6b/yH/78/8Ds2dMRHkrC2YZ6/MVf/he88LMXUDt1Mh599J4Lri0JAUmZEAEREAEREAERiGkCI7xsYzqdSpwIXAMBL9LovlKQn4bi4jTUTinD7333Ofxf/+HPUFJWgh8//w84cfKMiyc8FEaQXufZ+fnIL8xGYWEW5s+dia8+9RQngAZw/PgpJ+7dwfJluQb2OkQEREAEREAEROBmCUiY3yxBnR8TBIZo8TZ/c+rti5NAmTLzK1+8ZD6+8vQTaGtpwEcffhCZBGo1n1Z2j9cX+ZsG91B4CD09vfDwc0amHx4eY3b4SyK0vxVEQAREQAREQAREYAwIyJVlDKAqyvEiMGzadmp6OA38yuvzYMGCOUhJSUbd6XqEQ0PwUXV7qeTXr12D+lOTEQ4O0ZXlNN5463UsmLcQt69Y4dxYZCwfr7LUdUVABERABERg4hGQMJ94ZZ7AOTYZPeQs4FFBbdbvIL8tLCxCmj8NXV19GBwIcHlFH8V4ED/76c/oa+5BEk/o6+9BINCPe+6+D9XVkxKYk7ImAiIgAiIgAiIQiwQkzGOxVJSm6ybgPFNseyCK7Kgot0UQLdhvzc3n0UtBnpGZgWRazoOBIVrS/fh//tN/wvQZ1QjTjeXUiTr8hEL9V++8g5mzZuKxx+9zcbl5pS4m/SMCIiACIiACIiACY0fANIuCCCQEAXqZMx9Dn3MJDwdC2L1zD9c4H6QlvArJ3I0oiaZ0E9zZ2TnIy8uiRT0bS5bOxZ/80z+kkh/Cuo1bMDAYdMdEBX5CQFImREAEREAEREAEYpaALOYxWzRK2PUTMFEesZebmzn1NV1Tgjhy4ARef+1trktehIceeMAJ9yT6rjjb+hCXTeSx9rJ/vMnsq/K3rq4uBINccxG6RQyNggiIgAiIgAiIwNgTkOoYe8a6wi0hYHbtEFqaW7B/zwEM0n+8o7MXRw4fw1tvvsXPnfhnf/IvuAtoqUuNreASpig/evQol0Xs43dhdHZ241e/eh/dPd2YMWOamyxqOt/81BVEQAREQAREQAREYKwJSJiPNWHFf4sIeOl24sWWzZuwd99+Zzfv7x+Az+fDlJpafO9/+RdYvnyJWz6R7uTw2lqIDH/xF3/B3UD9GOKORKFwiLuCevHgQ4/hW9/6KjxczcXcXXi4ggiIgAiIgAiIgAiMOQEJ8zFHrAvcCgLllRX453/yz9HTF7F+m0jPSE9HSXEZ5syZjtQ0Dy3kFNkU2ibJ5y1chH/zv/9brn1u7i/mADOErMws1EyuxtRplXRp4QLoCiIgAiIgAiIgAiJwCwlImN9C2Il3qdiYO2xW7bLyPL7uvypis3rbcfzfWcArJ+Xj65Mev+rx0R9kLY+S0LsIiIAIiIAIiMBYE4gNZTXWuVT8o09AinX0mSpGERABERABERCBCU1AwnxCF78yLwIiIAIiIAIiIAIiECsEJMxjpSSUDhEQAREQAREQAREQgQlNQMJ8Qhf/TWTenLUVREAEREAEREAEREAERo2AhPmooZxIEZkq54u1hwsKTqSMK68iEHMEbFWhJN6LYd2LMVc2SpAIiIAIXC8BCfPrJabjuea3LS6o2Z+qCiIw/gQiS31aOtRJHv/SUApEQARE4GYJSJjfLMEJdn4S1xwMOSM5rXS2/qCCCIjA+BJgH9k2yPIMb5o1vonR1UVABERABG6GgNYxvxl6E/Bce/h7vB4EhsLM/RC8tNPJUjcBK4KyHDsE2D8OBIPIyMiInTQpJSIgAiIgAjdEQBbzG8I2cU/yeJLgSfZQkoccBFnNJ25dUM5jh0AwEITPKztL7JSIUiICIiACN0ZAwvzGuE3Ys3y+ZPhT0xFyQ+det6X9hIWhjItALBCgK0v/YD9SUlNjITVKgwiIgAiIwE0QkDC/CXgT8VSfzwdvZioGhzjpLKwJoBOxDijPMUJgyJzL7R4MIRQYQEamP0YSpmSIgAiIgAjcKAEJ8xslN1HPoz/rEF1Zevr7kCRdPlFrgfIdCwQ4+drmX4fCYXT09CLZL1eWWCgWpUEEREAEboaAhPnN0Jug59bWTkVTSxvg1cosE7QKKNsxQMDmd4Q556M/HELY50FWdlYMpEpJEAEREAERuBkCEuY3Q2+CnltcWoSO7i4MBAMIy51lgtYCZXu8CQzRjSUcDKO9pwfhjBSkaVWW8S4SXV8EREAEbpqAhPlNI5x4EdgugxnZ6XRnGXAbgE48AjeS44jfz8WlJe3W0+13IyR1Dm87inJ7mT9Zc0sLpkyfLiwiIAIiIAIJQEDKIAEKcTyysGTFbTjZ0HADwjyyKZGXiR4KhTmBdDxSP3bXvJLbfTgUhMeEFC/rxJS7vPvruhJicZuVNHoNOjJc1/k6OLEIWD0IBEMI8iaqqqmK8cy52ss0qs7GeEEpeSIgAuNMQMJ8nAsgXi+fW5KHc12d6OP6yZEVzfnINbcWs+LZ62qB5nYvfWML83Nx9sxxHD50gksvckiex9tpEdkeOfn6pevVLnprv7fcu91RmQFzNVjzwTrk+P3IyUhn/rycsGfdEmfsdO9X+ueCRZQ/Gld2YRBkR6Z3gKMUDP5kPzw+Lld5Qaa7r/VPAhKwumDlb69osPoV5ut8dzcqplTH/K6fHpul+kXtQjRjer+FBCKjdpyhcAuvqUuJgAh8GQEJ8y8jpN+vSMAmni1YtgBNra2uWb+epj1pyIMp5ZNw+7wF+B9/9ZdY98lmDPYNuhUmTHrwEe5e9vmiFLliMmLuS+PgXvynvb0Hb7z2Ht557TV85bFHUJJf4LZOv5ZED5GvvVzgXcrVKdHa243G9lYHJzszEyZ2wsOi7Vri1DGJQ8DqwwBHYuqbGlE0uSLmM2b1lDU65tM5ERNoezcriIAIxA4Bra8VO2URdymZPLkSe+ob3CTQ9OQUpj9qO79yVlzzP/xszvD58cS991HFhvDjv/2f2LFlKZ56+iGUVpYjLS0NXt+wKL1yVBe+NREcC48VS4ctH2nuOS3NLThd14if/ugF9PLzM48+huXz5iKdOzNargyBe/+SLDoLKSMeooE9yJNOnzmLlo4usvGhrLgYaWY1pzX9ot86I1ZIeAJWL8z43NzZgeT8TGRkZcZ0nj1eD2/zEPo5J8XvT2Nav7idiOnMJEzirNXk/s2hAEferO2OlWCto8KtJmB7kmgX71tN/erXkzC/Ohv98iUE0rMzkVWUj5b2dqQVFMHLpduiPtRXbl75u5OlIScmc1LS8bWHH8fM6bOx9bPd+Ov/+FfILy/DrPnzMHPWVBRRfJaV08ps6RgWsdHR8Kgx2Ynh4XRGv/uSZN/wzya+LdgjzQnrEZk8W38eR48eR8Ppemxasxad7W24beFC3P7Ek5hSVoFkdkA8ww71dtqXdSjMImqNZZj/eajMT9adxKbtOzHI7zIzMlFbPZnpoCRPksixMploIcQb4VxrC2qXzoU/JbY3FvLQdcvmRgSCQRZT9C6aaCUWS/k1VzqPyXIM0jUuw5877onzeq2zyS6nNY5fYrAY98QmWALsudnD0diU1NhuRxIM+xdmR8L8C/Hoxy8jMH3ObLzzwisozSmAl5axC+4XVzqRLixDSWG2uyZSvXTDAFK8yZhfOw0zamrR2tmJddu3Y+uaT/DKT55HWnomZs2ZhdoZs7BsxTIUFWXDR79qH/21ze/FWcr5bg3LmAWm0Qnp4R6BWcQHaWUaHBhE0+lm7Nq1C+vXbUDjuUZ09fZg+qTJePq+ezGZHYyszCykciTBSx96r4cimhvBmOC24OLk+5Ws/c4i6o7icbzuqdOn8eb7v0Zdc7PL9+xp01FFVyDaIYfjkdV8GFfCv9lmQkm8z5o72pFfVYHK6qqYz7Pfn4zkZB966A9fkJ8R8+lN/ARe7BzZ5OEkW2ZrnIOPe2KEhszIYC2jwq0kQHsa3S47UJQz/h20W5nvWL6WhHksl04cpM2Xlowlq27Hvp0HMGdKLYV2pJGPSEYTniNUM0X5yGBH2sRGtsnI8CUjJS8XTz9wH564/16cbWzAvgOHcfp0HbZ+/Ane++UvkZWXj/zCIlRyBYrMzGzkZGUjm8s25uVlsrefwp0P/c7Nw+9PcZPhUukSY8HDlic1JRmXP38GB7iiBYfYTfyaLT9Ii97AQD/6+vo5xMvPHHq3V19fAK0t7ejhetHnz59HA1ejqTt5HKmDAeTl56OysACrlizC9KnTUJybB16dLiZ84LkRBAop5m+I4nzIWsDhcPFT9JvoOyd58txm+pK3cyTiVP0ZbNv9GSf5dXHImZ2YufNx/5338AqRNNsEQO3AGmWXuO/R+yiJN0sTJ10fa6jHPV95hHXr6jUpVmjY/ef3e9HJzgRg/vAa5RnfsomI3zCNDJ00hhQVJ49vcnj1VD4MrB0LsT02Vz03Ehr7VXvcuY1GAuzZN9jfi5zS7NGITnGMAgEJ81GAONGjKK+tQvP5FjR3daCYvW5rTz3W9o8wxJiLS9SaTil+AZk7hMcOsUG2yhjxwk7C9JIK1PIVoIWwjxsZ9fb3cSOVbnR296CNvrVNJ49i39kGNPLVwiF9qm8k08Luo3XOn0IrtYdCPyvdXcfn9SKVwt2s1tFgXiX9AVq+Ka6tYTJLTXBwEL09nejlNcIDQf7GYd70NL7SUVlVhYrKCpQXFWFaSTEK770b+WkZFPwpXCEl2dZacdn1MV43ImBxjuyHjBDlF1MRTc3Fd2bXrbzy7vurcaK+Ht2D/RhgYn1JPiyeMw8P3rUKebTEm/CPdCh4rh5gFwEm4Ce7laJCZZD30Zn2FsxdsYQjSqlxk9vJVZOx7tNfYS7nWnDLYL4CfH3RnRA3WYvThHLkLzCAo4ePYfHiu8c9D1YTUtiOmmHE5h9Zo2b1XmHsCZg7UydHYwsX1o79xXSFayIgYX5NmHTQFxGwyV3T583Cx6+vRkpKGnLTKBgoIEycR5vXqCj/onhG/mZCxAl1mrlTOMkxm6/S7FxndTZBGm21kzy2/CDQR1Hd0HjOTZAcpMg/S6v2IC1C9J7BAAV4S0szRX60qY+sZpLDTkR6QZYbyrU4sijei2i1Ly0tQx4n1JXQOu/l9W2o1/wfbWUJJ8Ddd5HOR8j5jl+UGJEux80pZXZh0NnXh54w1z+n1b+anYGl85diyew5SOdDy1xjFCYYAdbjIOvf4VPHkT+5DJOmVMUVgDLOszjf3IX+gQA7sybD7BXtudpnhVtHwNonDxo5HyYtNR3pNDzEQkhP46gKV/nKyMhicm6uDY2F/MRFGvig7WjjSl98vuVl58RFkidCIiXMJ0Ip34I8ptOlZNG9y3Fg404uhViOfG4P7izRFBMmsq83RB4dkbNMDNsj3PQ4HREvjYoi3NrwLFrDM8rKMbV8khPj5uhh59gkORMA9vni45/+7fb3ZW2/hz6O0Y6EdSo4H8n9PUTxbcHlg/942Yi5taUZQTSK6HmR60S/dadd1z827J9Cl5Xbly7H0nAAGVwWsbS4hI1mPieQMk3DaXG9ERez+ZcrJBoBcwWLuqlYTQ6wLu49dgTNfd1YOPOeuMzuww8/ie1bduCOu25j+i+OmkVEGDOocIsIDKG7qwcffbIFX3nmN2/RNb/8MjOqK/D+hh0oLa/gPIrIRERrvuPAW+vLMxdjRxhTY2uLnzU1nuUqXzlIT4ul1XliDNgtTo6E+S0GnsiXK68sQ2hpAMd37oe/ogK2hKKPLcDIR/D15N+EcHSy5Ej72uVxOLcZSmTbbscmEEUWKqFUHrZ0M5bLTrEJT0zV5V/zqOhXJq2dvOYX7p1/27rhJshNhNu/lj77LXqOvUeP5ccbDjZCsHiODfkzPl7T/IuT6Exuu4faBS7tZIzGFW84qTpxjAhYubv6xYpvTh9nWs6jnz3FB7/2JPxx5MIyEs+kqknYum0dXc86OAnUrKJWk6N3z8gj9XmsCRxjJ+/BR59BQWHxWF/qmuOfWTsZv3zrfZypq+OI0FRWjYud02uORAdeG4Hh266XI7NmMf/6Y/dc23k66pYQkLHtlmCeIBehRrQh9snzpmHH3t1o7e50uxO6XQpv8AHsxInpUb7Mgm0V9vJXhC5/5IM+iRNMTcjaMUm0bLt1vvn891zyMqs3Jxld9jLRbSud2MudO/w5+p2btMb4bRHDqKCwa5lF39Lm3FxMOd9ksBh8HAGwl3VqkuiCYz7lESFzaeSWEoXEJGCd0gDL/dCJY2jobMeyVXchnSNR8RqS6UM8f/4SbNm0k1kwm1D08WP3rsLYEBjZHkU+9/X2obuzj52jwrG55A3G6uOkz+986xnuAXGK83siG87dYFQ67RoIWG3Yt3cPyopykZMua/k1ILtlh0Rbxlt2QV0o8QlUT6/Fogfuws4jR9HU2cM1GMyWHXEfsdxHpO3ILcYjVmizREdfVjHdWt5sPUa+X52eNTM8y5zKh4P7ZP9c6RU9aMS7ieyIH4ytEH6lk2wtFFvykb/Z5UaE6/WhH3Hq5z46Czm/jV7C3Fvsj7D1TlyIvl+UNsM/6C1OCNg94MaSbRSEr2h3z+qfdQ2thG3i8/Gz9QhkpuC2++9Cdn58L2dmowDTps3ghmRh7PxsF/No3c7oK1rbowVof1/+XfQ3vV8bAeNn7ViUowcBLvO6bu1mlE2awcnDseFbPjIvkyuKUcpVtk4c3OeMIza3R2GUCLi2hrXBVYchNJ05iY7GOiyfP3OULqBoRouA3bUKIjDqBGx95VVPPIh2rmzS0NKGQS5FaGswmwAx0WGvS4K1v8NtsBPIl/x4rX9E3D5GHm1xXek18piRn6PHRh5m1oJd+WVdiLEM0ZGCCyx4uejn6PtYXl9xjzGBy/WG/c2bIsynpnXy2rnm9+5jhxDMSMWyO+9AVk5iTMwyq/lXnvo6Nmz5DIcOHmWmTZhf/hiye8u+u/x7fqVwAwSMYzKXpgXWfLiWk+F9mDJlFgVabPK9Y/FMnDh6APWnTjof6LFtaW8AZ5ye4gS5waRAD3CVs83r1+CxVStQkKdlEmOtSDl6b90oBREYGwLhwRC2rduC3sZWTKOPaaaz0tjOnwy0Dkpkjg13xRr7BJzV3JI5LNJtZCjIVyvXr6+jT3nNvOmonlHr5hnEfm6uL4W20+BLL/49VnLZx5mzZrCbO9JVKyoYh3sr1xe1jr6EgCkxny26gQ3rNtK/vx8PP/YUV8+K7aU2T9afw+q12zCbrk+53FU6zNW3zBYisXJJ4V7nHzSKcaWyUKAfaz/+iJbyGVix0O49hVgjIGEeayWSoOnpbOnEZ+s3I3kwiOnVNUjm2uLRVtYmVVr/0Lagt015omLdNh9SEIGEJEDtGV11xZbhtKdjV38/9hw+iKGMFDz05KPwclOsRA7NzY34wQ/+P9xHN53bli5mVgf5GinKLfeRFZHsk8KNEKAbITdLe+O19xBEJr729W/GrKX88tw1tXbhv/6PH2PxbbdjOvdwGLJ9KC5TkfaEGOvRy8vTFT9/R56fEUs5wXHIZIDzvt56/RV88ytPYu6UsvjJygRLqYT5BCvw8cyubWSwa9M29HI941SPDxXFRcjg2uE+fnb+tsOJkzAfz1LStceaQJj6wh6ZpjEGKJq6+nrQ3NGBoM+DmQvmoKA8dlbKGHMWnIC9afM69Pd2YcH8Wcinf3GStQeOkIlyCfNrKwNzCbo02KZtJ+vOYMf2naipnceNhFZeekAc/NXMHZdffvtDFJZPRnFlldtp2UujzoWBft5I5v6lcCUCw90W4unr6+VqNydwcNdnePy+uzB/Zs3lfZwrRaDvxomAhPk4gZ/Il7VVAZpONqLl3FmcO3ECFUVlKOdumuZ/GnVuMXF+JYu5DfcriEAsErgwN3c4cdG6Gv0++neAYrSD1vEW7pbbGxxEZmEuJs+qRX5BPjzJJkonVghwA7DGxgYcObgbgWAnbr/9Drf6jBlII8J82NdnYmG5ztxGRhrculIcaWzmBmu79uzmLsJhLF12FyrKq+PGUn55xnv7B7Ft33Hs2H8UpdyrompyFbJsM5yIKZhduEjeR54XvddGfjdxPg+PIbCdMWPYwUOHcOrkMSxbMAuLayehMM4nkU+EcpQwnwilHIN5jLqu9HX24tjBQzh57Bh390xFFn0fc7kknNfrc36QHj6d7RUNekRHSeg9lghcrKGmFyK9xxAFUigYYAeTGwQFglyNJOCWgWvoaIGtVTR/wQJMpg+5WQBt99yJHoIU6EePHMIna1YjLc2HhQvnobAgD75k7v7LdiGNu+BydfeJjumS/JtNtJfW0AC3su/q6kYbLcwHDh2HPyUTDzzwCHJyC2HLEMZ7MHev/kAIazftwNoNW7gsbw0mVVUjNS0dyamZSPGn8B66dNRgYolzuoKyMgxy1Z1gcAB9Pd2oP12HprNnUDOpHI89cDeyU2n4shW+FGKegIR5zBfRxEigiZfzZ8+htek8PBy9Dge5hFwogCAnqwQ53H9JiNHVBC5Jo/6YsARsiTd7/NkmVsneiJ94amoqwty6NYXichItft60yM6GExbSl2T82LHDaDhbxzZgwB0Z5o6/Xrr6KHyeQHh4N2B/ShqFaiam1E5HDncKTtTQ1zeAY3Wnca7xPHoHw+jnM8Lqh81VGmk8t07LRAnW3ripKjRi2U7Bfn8ySnMyMa22mrtG0z1sooBIkHxKmCdIQSZUNtiimlB3L4ocmxSqIAJxR8B0AjuRZkE3q7hNbFa4HgJDtP4FnUubiU9rDxQ+T8BrYoz1LJliLFaXQPx8qm/+Gxt1DTjDTYgTXFk/bj7KuI/B6oK9bJTEq/YmbstTwjxui04JFwEREAEREAEREAERSCQCGhtMpNJUXkRABERABERABERABOKWgIR53BadEi4CIiACIiACIiACIpBIBCTME6k0lRcREAEREAEREAEREIG4JSBhHrdFp4SLgAiIgAiIgAiIgAgkEgEJ80QqTeVFBERABERABERABEQgbglImMdt0SnhIiACIiACIiACIiACiURAwjyRSlN5EQEREAEREAEREAERiFsCEuZxW3RKuAiIgAiIgAiIgAiIQCIRkDBPpNJUXkRABERABERABERABOKWgIR53BadEi4CIiACIiACIiACIpBIBCTME6k0lRcREAEREAEREAEREIG4JSBhHrdFp4SLgAiIgAiIgAiIgAgkEgEJ80QqTeVFBERABERABERABEQgbglImMdt0SnhIiACIiACIiACIiACiURAwjyRSlN5EQEREAEREAEREAERiFsCEuZxW3RKuAiIgAiIgAiIgAiIQCIRkDBPpNJUXkRABERABERABERABOKWgIR53BadEi4CIiACIiACIiACIpBIBCTME6k0lRcREAEREAEREAEREIG4JSBhHrdFp4SLgAiIgAiIgAiIgAgkEgEJ80QqTeVFBERABERABERABEQgbglImMdt0SnhIiACIiACIiACIiACiURAwjyRSlN5EQEREAEREAEREAERiFsCEuZxW3RKuAiIgAiIgAiIgAiIQCIRkDBPpNJUXkRABERABERABERABOKWgIR53BadEi4CIiACIiACIiACIpBIBCTME6k0lRcREAEREAEREAEREIG4JSBhHrdFp4SLgAiIgAiIgAiIgAgkEgEJ80QqTeVFBERABERABERABEQgbglImMdt0SnhIiACIiACIiACIiACiURAwjyRSlN5EQEREAEREAEREAERiFsCEuZxW3RKuAiIgAiIgAiIgAiIQCIRkDBPpNJUXkRABERABERABERABOKWgIR53BadEi4CIiACIiACIiACIpBIBCTME6k0lRcREAEREAEREAEREIG4JSBhHrdFp4SLgAiIgAiIgAiIgAgkEgEJ80QqTeVFBERABERABERABEQgbglImMdt0SnhIiACIiACIiACIiACiURAwjyRSlN5EQEREAEREAEREAERiFsCEuZxW3RKuAiIgAiIgAiIgAiIQCIRkDBPpNJUXkRABERABERABERABOKWgIR53BadEi4CIiACIiACIiACIpBIBCTME6k0lRcREAEREAEREAEREIG4JSBhHrdFp4SLgAiIgAiIgAiIgAgkEgEJ80QqTeVFBERABERABERABEQgbglImMdt0SnhIiACIiACIiACIiACiURAwjyRSlN5EQEREAEREAEREAERiFsCEuZxW3RKuAiIgAiIgAiIgAiIQCIRkDBPpNJUXkRABERABERABERABOKWgIR53BadEi4CIiACIiACIiACIpBIBCTME6k0lRcREAEREAEREAEREIG4JSBhHrdFp4SLgAiIgAiIgAiIgAgkEgEJ80QqTeVFBERABERABERABEQgbglImMdt0SnhIiACIiACIiACIiACiURAwjyRSlN5EQEREAEREAEREAERiFsCEuZxW3RKuAiIgAiIgAiIgAiIQCIRkDBPpNJUXkRABERABERABERABOKWgIR53BadEi4CIiACIiACIiACIpBIBCTME6k0lRcREAEREAEREAEREIG4JSBhHrdFp4SLgAiIgAiIgAiIgAgkEgEJ80QqTeVFBERABERABERABEQgbglImMdt0SnhIiACIiACIiACIiACiURAwjyRSlN5EQEREAEREAEREAERiFsCEuZxW3RKuAiIgAiIgAiIgAiIQCIRkDBPpNJUXkRABERABERABERABOKWgIR53BadEi4CIiACIiACIiACIpBIBCTME6k0lRcREAEREAEREAEREIG4JSBhHrdFp4SLgAiIgAiIgAiIgAgkEgEJ80QqTeVFBERABERABERABEQgbglImMdt0SnhIiACIiACIiACIiACiURAwjyRSlN5EQEREAEREAEREAERiFsCEuZxW3RKuAiIgAiIgAiIgAiIQCIRkDBPpNJUXkRABERABERABERABOKWgIR53BadEi4CIiACIiACIiACIpBIBCTME6k0lRcREAEREAEREAEREIG4JSBhHrdFp4SLgAiIgAiIgAiIgAgkEgEJ80QqTeVFBERABERABERABEQgbglImMdt0SnhIiACIiACIiACIiACiURAwjyRSlN5EQEREAEREAEREAERiFsCEuZxW3RKuAiIgAiIgAiIgAiIQCIRkDBPpNJUXkRABERABERABERABOKWgIR53BadEi4CIiACIiACIiACIpBIBCTME6k0lRcREAEREAEREAEREIG4JSBhHrdFp4SLgAiIgAiIgAiIgAgkEgEJ80QqTeVFBERABERABERABEQgbglImMdt0SnhIiACIiACIiACIiACiURAwjyRSlN5EQEREAEREAEREAERiFsCEuZxW3RKuAiIgAiIgAiIgAiIQCIRkDBPpNJUXkRABERABERABERABOKWgIR53BadEi4CIiACIiACIiACIpBIBCTME6k0lRcREAEREAEREAEREIG4JSBhHrdFp4SLgAiIgAiIgAiIgAgkEgEJ80QqTeVFBERABERABERABEQgbgn44jblSrgIiIAIJCiBoaEhDAYCSEpKQrIvme8JmlFlSwREQARE4BICEuaX4NAfIiACIvB5AtTJCPKVfIvGGI8eP4H3P/oE6enpePLRh1GQn/f5RI3hN60dnRgcGERaagpysrPG8EqKOtYIsJpD/cBYKxWlZyIRkDCfSKWtvF4gMBgI4uy586irO4OGhrPIzcvHtCnVqJpUBp/PC3s4nWloQkd7BwqLi1CUnwOPzJYX+E2UD2cbz+PggcMIBAMwce71+lBdXYWSwjykpaUhOfnamtBweAjHT9UhFA6jtLgYOVkZX4hwz549WL9hA3xJXsyYPg0r8hY76/kXnjSKP/7D8y+g/nQ95s2bi2e/8TWkp6WOYuyKKhYJBDhC09rehf37D6CxqcnV9enTpmLa1GqWf9p1JTkUCqGxuQ29vb3IZceusGD0O5Zh3pDNbe1o46uwIB/5Odm39B65LiA6WASug8C1PVWuI0IdKgKxTiAUBl5/azU+/uQTtJxvQZLXg1AghKKSYjz9xMO4/767KaCAH/3oZzhy+DBmzZmJP/qD30F2ZmasZ03pG2UChw8dxo9feAFBCuvA4CDCFBzJqanIz83B/feuwkMP3o+M9C8XrecpHv70T/8NUtMycOedd+L3v/vcF6Z05syZWFpX7wTRlMlVt1xw9HT34ty5cygsKkSYnQmFxCbQ2z+At95+F2s+XYd2jpaEwyEMsc7TGoFFC+bh2W9+A9VVldcMobmlBX/93/4Wx0+cxD1334V/8t3fho/t7GiG7u5u/Pj5n2DXnr1YOH8u/uj3f4+d5S+/F0czDYpLBMaCgPfPGMYiYsUpArFKoO70Ofzwhz9GBx9AObm5mD59BkyIdHZ34dTpBixfvhTHj9dj/cZN6Ojs4AOFFnSKk+QUPwVZLgK0tp+ipX3rjs+w/+AhtLd1Ir+g4MKDp/5sE/bs3YfjJ08jLT0DDeeaaJ1vQlFhAQIUdidO1WPz5q20yDciLSMTJ07W4dDhY+6BWFxc6ERYT28ftm77DFu3bkfIDSwnYffe/Ty3juIuDZkZ6bTgDqGtoxu7eK0t23bg6LGTyGX6zLplvskKN0/gJMtm22e7WAJJKC0tRRGF6gBFTNP5Zthvs2bPRAm/s7Lo6OrDtu07sXnrTtSfOetEuJVTb28/Pl27ATsYj4d1yeNNpjXSj7zcbJxranPlerr+DHLzC1xdOXP2HHJp/RtgZ7GwsBhTaKFPYd0Lsrd4mr+tW78R23fsdL9nZ2XB709GC4X/ps3b0EALP9UUsrMyWQcAs/jv+GwPTpw4hSSP18XbPxDEZ3v3YivT2tbeyfNTcOjIMRw+fITn8hima83ajWhuaUZxUQlW3LbMXePmaSqGWCRgdfelX7yOd371HutqHzLS0lHEUR2rVz1d3RxRbED92QbMmzOLdcqDz3bvxZFjx9lZDSM/L9dlqe70GWzaxnpfz9FHtkH7Dx7Gpo1b0Nra6updst+PAtbllpZW7Ny1B2fZ9nmTU9w9ZPXQ6m12Tg5SWc8H6EK1feceHD56zH0uLMx312hsamZd3o2Tdadphc9hu3cAG9hGd1GgB4JBN6KVm5fn2sZY5Kw0icC1EpDF/FpJ6biEIdDW2oZ+Nv4mkKZOqcV3f+fb2LX7AMXLcTbwIXR1DWDDpi0413DOWY1O03L52uvvMP9DFNeFePvt1fjo44/Q1dsDD8VOmEPA0yjuv/Pct1AzeRL2HziIn7/4IvppYZ06ZQqF9ylaSW9HFS1Or7/xNh8mG90D0CyRpSUl6OzoQO9AP8+tQS2Pb+/sxN/94Ec4e6YenV1d7kGXnZ3Nh1kDJwJ68dy3fwNF99yBfYeO4ec/fwmnT9djKGmI1tww3v/gQ3ztma/ijhXLnEtOwhTaOGckjVbx7zz3bcycXotPN2zB3//oeYradid4Z/G7nbv24Sc/fwWNjY2unvjo8lLA4fXf/I1nWWfy8cmaT2l89DjrcwNF+09/+iImVfxz1ruDeO2Nt5wv9+ydu7CPLiyLFi/CtGlT8Ca/T6F1fuqUKng5AfS91R9i9fvvo4fuAeZr5Vv9MWZzNOc3n/26E+1v0uLZQaG9cPEC/OHvfoduNn5sZj1+4623Xb3+F3/8R05I/fBHP6aw/4znBJGRmoZi1sHzdF2wOnjv3Xfjd3/7N4dpq3M3ztXullz+wJHj+Oijj9DHDuTU2lp8m+2LufV1U6S/wTr43q9W4/CRI1i/eTuWLZqPl175JevLeay6915a0SexDfTQSLEXL7/0MgqKClBeVsLRyLVo5/3hoSvWKbZ///CjF/h9OZqaGvHCT38OL+8FE+LneL+Ym5gFa4t/77vfoTEjDW+98yu2v2exdNlSTGFa/HQZO3biBH76s5fc3Id/+S//hG30ZpynZd46nA3ssP7s5y/z3HSU3n/PLeGmi4jAWBEY3bGlsUql4hWBUSSQT6GUm5eNUHCQluojePWXFEZpyfjm15/GH/6T3+QDpADZtMhkZnDSGwXQEE2Pk/gAys7Jw69+/RHdYN6iiBlEZloWRVcxRVMKDtJy/uLLv0R3Tw8tSSFaMwedZdVcIcx67ff5aQHfiY8//piW+g7+7XNWTfPlNKt8Hx+C/QN9FPt9eOEnP2O6DqJvcAD5+flIpTirP1vPB9KAO84sSmaF/9HzP6YF/ZSz6E+qqEQqrVJN58/jF798DceOHx9FYhM8KtYBc2MZGgojTKHRyfLycIg/hRZFEwXNLR14+dU3UMeREJ83BVOnTuekzQx2rM7i7374D240xCztNkdhiCMmXlrNJ1VV0CJpVvAQ+vp6XL1Zs2atG8Ux/1zzSQ+ykxikJdA6cGaBfO31N3Ce5VtcWMQOXA0nowaxbes2PP/Tl521vaysDL39PThOa2bfYNAJ+MNHjzO9XSihBXQ6xf6a9Zuwjdb2If6XaxZKiiBL53laMgOsXyFzX1CYUAQ2b97CEcMeduyH8PTTX8H82ay/aSkoLsjFM08/haxMtpX87SgFvNXHPo4Y9fWxrrB+WtvG/52LV4iGAfNTt5DDupWenoUh3h/ZWbmsr1ORlpJGl8EggoNhivZOHD16Anl5BchKz8Zgf5Bug0fxi1ffRJDH2Bwg6xj09vRHXGoY51AINGgMYIBpSPYmcd5PITuWNjLkYQc2A1OnT2dnuMhdX/+IQDwTkMU8nktPab8hAlUVxfjG176K55//CYVMtxsO/WjNGueq8N3f+S3MmzUFjz+yCseOHqZFswXV9PH94z/8Lny0QP7Ff/kb96CYVDkJf/r979GC7cMLP3sFv/71ahw4cIjW8QYkhfmkGvLy5UE5BfMTTzxBS9QUWtrfpbAecKL/t37rH2PJwllYt2k7/u5//oCuCim0cFNYc0JqE4dsk5J87CBU4n/70++DTzP86IUXsW7tWiTTTcVDa+wZiqnGxmb4PMm4m1bOe1fdQ5eIfXj55V+43w7SNWba1KlOQN4QJJ10gYCJ2La2Dvy3v/nvyOA8A3OB6ursdvVi1vQpblKnidshKocVK5bgK08+xXpwgqMef+/cWJqaW2iFfA679+ylKAlh9uxZ+Kd/8FvOrYXjHCz7VHa6+rFo4QI8cP/9KC8vpVvJQV7f7CYeuj+F8atfvc9h/QCt4Cl46qmv0IpYg1d/8Uts2LDRTU5tOHMO8+fOxZ49+2iFbMKpU2eRlZFCN4RzSKFrwh133MlOQzL20A1hgJbREor4f/r7v8tRnAp8tGajqzcD/f3D17Ss27VZh927LOdGJBGD9cP6+vpYd5PYYfSghvVhpBtcPie951PsnqVhoLOr27mLROqF1YnheuH6cvZ5CEkuHh++9vTjOEJXlB6OKlbXTMb3/vgPkMUJzyd5XwTCQfhZ5x97/F5885kn2bFtx1/+9d+yvT2OnXT3evCBBxxqc7G5UnDX4MjhV7/6hOtQ7mW7N3XqFLbRv0uhn3OlU/SdCMQVAQnzuCouJXY0CNiDZ9Vdt1H4FtMl5WMOkZ6ib2Q9Gs6cxt/8zd/i3/7pv2IDn0vrIYf66SNs1k8TzubLaD6Y5m88ZXI1J4OmO+E7rbYGm2kh6unvo9/4WSdlLJ1pGWn49m98E8voWjBIf+FOuqjYRNMqurssWjDLWcIfWHUHLaFvUpA38bEGZ+U0n2SbfHXb0qXIzUzhtylYftsS7DVhR2uRpd/cGczCaQ+vTz9dh410WTCLuvmXm8gzNwuztJqrjcLNEbDytpV6zCJ47NhRJypKS4vpUvQtlmUVDtKSOEDmKWl+bGI57KIfrAWzfFvHzYb0zbUlojPMUp3trOVWPhZ6OMpSXlGG5+j2UlNd4b476oS5+0hz5BCFdp2b5zAwEMKP/uF5pscHf6qfYifb1cHm5vOYz0l6r9FVyqzqn7CjuXTJIvr0ttGXPdetrGFWfpvYZxNZy+gvP52rvTBbWDCfHcT15ThBS/sFsTV8ab0lNgFWCY60pdLf2+cMCl1dPawbF/NsnUFzeWKjwzqXzNFD95H/eHhXWOeNo0D811ZI8fiSXJvDiuqO9SdzLgXdXPLo952RmeHarQDjskmlKay7ty1bwrY1DVV8LVywEGdOc1SQFvdWuhpaXbV6b/MqogLd2kRLh72CvHUsfh/btwG2uzaqaC4w5lajIALxTkDCPN5LUOm/bgK2JNgxihBbieAeWpr/0TcK8fOXX+UEvXV0K2l3Quv25UvcA8keCiaqTAwnc5KcWXrsYdRLK5NZiOyzuQr09vXzIeRzE6f6+ugDzJBCC3gmH0gWzDfc6/NwONaGcds5TDtIEZ3K5cm6McBhYXsQmYiz69g1La5G+mNGQ29Pr/veHmr2u3vo8UEZppV2ydLFqKmpQXdX1/Awcy+tr/OdBSx6vt5vggC1QFZmFh597BG8++6vKKS7ndit4aRMH8uNxeH0wmD/IJasXIyli5eyfLvRRP9ZK6vpM6bz4mE39G8H2iTjaLChfVutIkABVEKxfKVgYshH4WTuLSnpKXjwoQconspw5uwZipJ+J0Yqq6pQVlJIa/xMbNzQ7kaBrBNp7lGT8+23kgtRm0tNCyflmUtVAS2i1jHo6uq88PvID1YfFRKbgC3/aaMpNsfgrXfew2//1nOc5E73EtbNNWs3o4udOavkU6onuzbKOoVJFMBmaLAOqXX+mxpbXD20+u5aRVYb+2yrupjLi7mneFOSHUjr6JoAb+dStO4Y1rGGhjNuHoRNZk7LyHAdT+sI25wNcw9MpZA3w0iIhgmblBqR37TQM/5UjgiZe59dR0EEEoGAhHkilKLycF0EbMKQuRkM0A/XLOLf+tazFCe9FD/JtEgH6GqS5SzktrlKgH7e9adP4/2P19KCTQFcVYaz9XVc63c/Xnn1bT4UUvH+hx/SChREZlYmJwfWYMfu/UxPRNCYXcmC6Zuammrs33eQVvUG/M+/+3u6PSynhXUzxTT9KPm7PbDMT9hWxbAOwoYNm51/Zw6X5vvoo0/QTUFnFndbIcZ8OE2ct3X0UlR1O/eYkydPYicn9Zk16vYVt3bda8tjQgZOqjVRneQZwsJ5s2jhS8fznDxpk9+2cMWchx+8D1WV5WSegiF21kyspNGF5ODhA3RHOcxRlxCqqyfRapjNjhJFCq3ox49zst2a9Vi8cJ7rrHH8n9cwUWHvI4NZ1Gl9pAh64IH78NKLL1HA99OPd5D100fXqf0s+y66vpRTeBeZBqLLygps376dYqYbO3Zuc4KoZnIlfW85AkRRM31aDUeHTqK+7hSef+GnmFxdjY1c2aKVK7DQZMrrRcVN9LO9X56ukWnU53gncM9dK9mGfURXkl5spytJx3/tZJ2tRjNd6g4cOsJ2cpArqhRhxe3LkMW20eYr2GRLW2Vo9QflvCfysZftoa04ZKNAJrZNvJtgtnD0+DGucLWNq10tchPUbY6Fafaf/OxFju60cr7MWezlCivJFO45HKms4f1SUV6GQwcOuhVh3npnNabUTsH6TdvYjrIjbMYJWuzteunDS9ie4YjnR59uwDKOMpaXjP6a6fFexkp/fBGQMI+v8lJqR4HA5MoKLKBFecuWrc6q+df/9a/dUKyfYmfWjGmYVltNC1IS5tL6uG//Xgridrzyi5epnwK4+647OZnvEH0b2/DLN99wstusnjk5uXj40Qe5/CIFGAWSDfCaFZwfL4RlixdiN318T3KVgh07tnPC6EFex+tEn62PHQgM8AGYh1V334WfcoUBc1tZ/f6HfNiZWDJRR5HGyO3hNGlSBZYtW4wPPvyYD7W9XBXkM3cdP32Ql9HtZTItqAqjQyDMTpeHyxua2Lj7juXsJH3oVpNYz9V1FlBcT+MGLHffsRIffPQRO2x7cejgfmfJs97Y7StWYPGiBUhn3ZozZzbLag9HQs7hpZdfRiV9yT0sTzeSQqViwvpiuCjWrTO2gkt4btu2leLpGN577128x+NTuaJKVk4W45/PTlrEhjhtymRUTip3nQLrZKaz47l0yWI38ZQXovvAUtZBpoFrlG/ZuhVr161zbjWDFF8R67gJ8Uiwemd1WO4BUSKJ+W5C+fd/73fwg3/4CSdkHuWchYPs9B1ke2MGbw/3dyjB0089jqryEtZXDxbMm8M6foTGjC68/Mrrbs8HL+e62HyE6AhLJgXzzOlT6R7YwE5sC1cx+qlbLtHmzgxx/o1Z2jtpVPjZiy9zCo3VPQ+FfBruX3UvCvOyeI25nN+zl52D86zvv3YGCQ/P5S1Fyzo7ynSXSaFhYnJlObZx7o/N+/jlL990bjnlD96VmAWlXE0YAt4/Y5gwuVVGRYAEzF945swZfFAUor+/l439ECrZwN9x+0o8+4++jgJabewBY5M+M2gFt2PSuEqBCavbli7CrFkzOfmvgysZdDkfSbNyP/vsN7DqzpUUSJyYST/zurqTFOtZFMlL3drnBt58i2sp+jvoymJWUlsZ5uGHH6QFiCtzDPRiypRqrKSorqmp4hJ2tMyfbXSW2Om1NbSuL3OTOgcD/c6XeB47DbNnTkd+YQEnJrY5cVXE/Jiof/orj7nd9lTYN0/ARldsuUxbF3zF8mVulRwa7NDISZW9nNiWw9V7ZkybRheSGdyMp4j1ohM+vw/F3C324Qcf4ETQx+guErHgzWa9sXP7OD8gi/Etp0i2XQvPNZ7j+uj5LLu7L7gf1XNUpY4jNXacjdRU0vHX1TsO55uoMeFTywlv33jmaf6+hOdF5hLYTqRtFCm2/KEtsVlL94Mn6IJj31udth0YzfpocxAGOCfB6v0DD9zvBHgG50xM58oWc2bNwGe7djF/vaiursaSRQsvpOvmiSqGWCSQQ0v4wvnz2WZluyVazVUllyN11n797u98B/NmT3N1yNygqmgUyKC7SS99u20Eac6cWWyLptHVpNPVL7tPCvJz2Z7VcB5EqhsR5Gm4k+1rW3srJ0EfpMufTf58mCKdxga6+OXx+Oe+/U3eAyt5HS+XkS1mXEUcOexy7fXc2bMxd+4sV/ezWPfNP72Qo0CVnJuRzTkUHRw5CtN/fd7c2TCLu4IIxDOBJA47mWlGQQRE4AYIcBUxZyG/3lOvdp7djkePnXDuKSH46ddZQ5GdjA/XbOQyij/lg6kX/+yP/oAW2hWXXPJq8V1ykP64JQRsyUEvLc1jFWyinU3g9NN6eTPBlmq0yXlRK+fNxKVzE4uAdSDHogq//d77XG/8FbdCy/f/9ffYcayK+KQnFj7lRgRuioBcWW4Kn06e6ATMbeVGwtXPS8IHXClm7fr1FF6pnDg4g37mGW5d8kFO5MvmJETzC748XD2+y4/U32NNYCxFuaXdrJb+UShwc6NSEIErERgLUR65DhW/m1PBzuvw3IUbbEKvlGx9JwIJQUDCPCGKUZlIFAI25PvkE4+7NdEbuG31ps2b3a6QZkm39a5tEmBZUUGiZFf5EAERmEAErNNqIzQ2t4IfJlDOlVURuHYCcmW5dlY6UgRuCQET4WfoX37w4FFOxjrpfJnNZ7mmphLzOfHKNupQEAEREIF4I3CYk5c3bt7q1h1/8N5VnLORG29ZUHpFYMwJSJiPOWJdQARunICtzGLrV9tqCHI9uHGOOlMERGD8CZjRwZYMtWATljW/YfzLRCmIPQIS5rFXJkqRCIiACIiACIiACIjABCRwc9P6JyAwZVkEREAEREAEREAEREAExoKAhPlYUFWcIiACIiACIiACIiACInCdBCTMrxOYDhcBERABERABERABERCBsSCg5RLHgqrijAkCg4EAunoG0drRhXPnGvm5D/3c/nns1uiNiWxHEsGd1W254KHhtYKjKbMFylLSU1GQW8CdIdNQXpLvtra2HUsnWrCJaIODAe66GuSOnYM439KK+vp6DHFuWpLHy42jtJzbyDoRIi8Lxi3ywf7l9ug072RnZbtdI1NZt3Kz05GXm+Z2iozuSBo5YWL+GwqFWc8G+Qqh/vRZdHLX4IGBQQz098M2eRoakn0s0WpGakoK0rk7amZWGkrKipHJ+8J23/X7/YmWVeVnDAho8ucYQFWU40ugqaWd25nXY8feIzjX1ILS0lIUlZQig+LBGkuPz+e2bx7fVI7P1U2o9/R0o7HxPPq5pXx3WwdK8gswpaaI227PRFZ6yvgk7BZe1Va5OXOmESdO1uHI0dPc9rsPaWmZyMnOQ2pKOpdwK0GyNxmeqAC9hWmL5UuF2U8ZukJfJcSejInNro429HOb9o6uNgqQJBQV5mDunFrU1lYjxT/xOn5NbHuaGltQV3cOp06chIcAc7hBWH5+PlK5JX1OdjY7NRTlBlYhoQh0W9va2YXevl40tTaht78X+YUF3DCuGlOm1KCouEDLuCdUiY9uZiTMR5enYhtHAoO0TH26fjt27z+Eysm1KK6oQGFhEXy+ZCcoQlQVQzQjJ9HEd8HqN47pHY9Lm63TRgyGKE65WBmCtNx1trahrp7rpXd1YFJZPlYumccdRtPHI3ljfs26003Ysn0v+nrD8HlSMHnyFFp7c11nDbRcDtlIQ5IXZsOUHfPS4iCaLwjDVnQGf1i1AABAAElEQVQP39mh6ejuQCsFSXvbeTSdr8fKlQu4Bv8MdnySvyCOxPiptbUXG9dvoiA/i0kl5SguKOYIQi4yUtPdPWe5NCluxGy5QPX/jEhihrCNWbKwA1z2tqu7E/VnzqCdHVj4hzB30VzMnjUV1jdTEIGRBCTMR9LQ57gkYCL7xOlzePXdD1FdOx0zps+ELz2Dg+weZ/UMhcPw+jwI8UmYRGHOwXc+DCeulSrqoWEayjbgM9eNcFIY4eAgtqxfi76OJnz18QdRUVbiBERcVorLEt3V1YOP13yGU7ReLlp4G9146MLjT0MoeGk9oAcLR1Moyu1h+cVK9LIr6E+7D9261E5xGj5+8IQ5ItGIdWs/Rm5uJu67fwWmTC7lcYnHq7dnAL/+9afYu2s/HnvwIRTkFyGZFcrn2qEk1iu2Q9yPwDrFJs297uaz9oik7KuRQe4tI2nE52dnBGK5D5et7UURDAX4dxjnKc4/2bgO1TXluGvVbbw3ctjmJOBNEZ8lN+6pljAf9yJQAm6GgInttZu2YffBk1iwaDmKyssQdBF6naXCxKezTbk2L6q0TJhPUDMFOQw/J5wPutExNG4kgb94qRDO1B3Fzq1bsWrlUiydPzOuHxgmeE6eOof339+AysqpqJo0zVnKI7m23F9Zf0/Q2hEBMur/UngmhXD69HFaz+swb0EtFsytHfWrjFeEJry2bmGn7+g5ZKVmYO7M2fB7fBc6tUnOVYXb0F+4865c58Yr/bruLSRAA4iFMHumITa8J06dQP35c8gvycKqVSvoh07LgMKEJyBhPuGrQPwCCNMSvnbTZ7Q+DGBS7TRkZuci5Eyd5rJyMV+RjyZHL0hSfh5xwMVDE/5TlEA0oxcpRH5hg0ABEUJXWxuOHtqL+bWT6Xs+NS4tnIFAELv3ncJHH2zEnXfei7ysYut6RKy6UQDD79EuW/RrCfMoiS9//xwrg8kvL2Uauf8Gg13YtmMD5zm04Pe++01uzR7fcxoGBgLYsW0POpq7UVkyCYWcp+ChK1RS1EwaQeEgXrzXIi3RBT7DYu1S0jx6ZCN26Y/6K14J0IrugpUtLeRDLPu+YAD1TWdxqv4EnnrmAWRkpF+xjYrXLCvd109Awvz6mV3xDLvdmtrC4GgtV7n43KPqiueMxpd23f7AEPwcFuVI2YQKW3fuxcadh3HP/Q8gOT0TQYPhHKgvSvBLgQw3ihNUlF/K4tK/+Ii4+AU/0p6DYF8PPnr3LTx0352YN6Pm4u9x8CkY5HyDdTuwefMB3L/qUWRmcqg4aeJNQLwVRXW1ZueC8BxOhN2aNow/GOrD2vUfIitrCN/82qNxK85tcueHv96ApEAIty9bgVRfCkeXOLGcf4/0hfIOC2xm/0Kwuy0y53PEfXfh1+iHkWdEv9N7YhGgKxOLeYgP7+O0nm/bvQkPPnovZs2enljZVG6ui4D3zxiu64w4OXiAT4WmDq4WMAB09bPy84Fgg0RJfDpcj39jkH6BQVpmPZww+EXn7T/Vi797aTsyM5JoOeFs+y86eBQZnmkO4sW3diM/LxkFOYk5Ye9KuOrONuPlN9/HyrvvQXZeAWUkB4q/lLk96PSwuxLPCJcIH1d3ydLDlUlKiorxwScfobqynJMkM658agx+e+x4PTZSlN+58gHkZOXTfYWuTTGYzkRIknG90uvyvEX4mwEhGZWTqjgRrgEDgwOoqChi+xpf9+X586346P2NKMsrxfzZc5Hi89sgAV3kmEt7xpBItLUxXW6vkTmMiPLLCenviUjA6oWX1SY/O8etDLVjx27OhwqhrJxzfOLsvpiI5TcWeU5YE9KO/X34u1/sRzApDZl+ijZOusjKCOGph6px24wc+H0jm8mro/3hL7bheAPwvX+8CKX5X7CiAB82/RzCDNqivrcwtHQCnx0MY/GiEKbdwuuO56UGgyGsXrsejzzxOLJzixDgU8899K+tSMcz6XFx7aiAsqXccinMly2/E7sPn0BZcaGbvBbrmWhubqe7xFEsnL+Sk6ryee+zfjBT5jEwUacWxFaZJdEHO51t1u34dO1qFJUWYfqUskuEa2yl99LU2ETiF37yGhbMnIfpk6fCR/EU9VCwJsjD9sj+uzzQjn4xRG6yi3/r04Qm4NondugqSypQwGUV33znda6Bns7lFc2N8PN1aULDmgCZT1hhHhhKQdCTipVLK7FyRhb6BoP4dHs9fvjyYaQ+W4ulswouFC8N6jjfNgQfTeqlOReb1J4A0NCZjo5ANpq6fdyYBchLjfhO9vG3dOr0PvoSBvtDmD4pGd/99jJMyqKlccR91M+ZiE0d9Gzld6X5tBYNX9XOt7bZ4hgZBvkH96Jw30fj6aLVv70jTN+zJOTz1Tt8bgbPDfGmDXry+DSIxjwytsT8fOT4Sfj8WUjNzKalPOqEYRaqEeATM+tjlqsr6wRzaPGisKgca/ftQ1ffIF21eAPEePj1B5tRVjodhVymzkS5C3yTKB//gjOzRdTFJdWXjpXL78GmDduRne5jmRWNfwKvIQWffrIZk4orML16Ku8OjqS6c6J3EFfh4De31jxzDYnWITFPwC3Vyod+Ko18d624i/fFNkyqqkR6elrMp10JHF0CCSvMw+yCej09qC4dxIJak2zJHDKtxr/7Kx+OnG7DYgpza1B/vfE4fvLaJvTTQdnm61SX5eB737kfFcVpWL2RPl9725CalYP/+DfvIjWpDv/++8/hw09PYOfBs5gxdTInH67DIytrcNvK+/Cf/+Y1/JNnF2DlvFoX9+oNp/H8a+sYNxtq3nDTKnPxL393FbIzUvDfX1zHVQrq8Gf/6jeQPWL+0//7P7ai9fxh/OkfPcW1b7Pw2geH8No7W7jSiCn4QTxy3xKuD3wOTS0d+D//1TPuIRC6xVb60a2C1xfbAHdq3LBlF2YtXo5kfyo7JvYIHJbk0Wfj9UWpo43AsH4dCcNwWr31kfOkyhq8+Oqb+IPvfHPkITH3ef2GnTh3th0L5k1CmP4C0e7qiLl4MZfmiZSgqCiP5NnDDa1yUFFegwOH6lDCEZlYXzLus2174Q14cfvi27gMYmTlFdfsmNV8ROZGfJxIxau83iQBG3mxBTYrisvRF+jDO2/+Gt949umbjFWnxxuBhBXmriAoNsw3PBp6erhiLCv+IBcq5twwfLqzFT9b3Yi5y5ZhTk0+OnuD2LC9DX/72mn8s2drMGvmJEyZ5kF7XwYeWnYbKnPnITcnE31JNbSkezBwYgh33L0SC2fmc0ITJ2EmTcEAUikIgDW72vDT1Wcxe9EizJ9Rgh7GvXFHK/7vv9+HP35uFmbNmos9xwaw6bMzeHB5hdNFp9uHcKg+A7fNm4PU9HS8tfYs3vzkHGYvWYxZtYW0+oexc88AzjUXcVe9bPTzOjYEZmH4LfJHAv/b0dWLhqY2rMwr5KQZW4BshL3qCuIygVHckqxxioVbb7mGQ6pbtqxDa1c38rM4wzkGg3XaDhw8yeX4Fg2vF60KEYPFdGmSOFmyILcYB4+cRHdvX0xvbFXPvRI+27of995xD32CTYjTNm5t0PAjJvo+UqBfmln9JQJfTCDiBmXPdQ9qyqu4Q3MjVr/3MR54eFXMd1q/OGf69XoIJKQwN5EaYmM5OJSK+nYvjlLwnmsK450PT1OYD6K6ogTdVOZvfNSI6poy/OPHJ6MwPeISMa2yCP/tJ4cp2hvx9L2VKMoewEAwBXfOK8HkgsgxIaTBl5qEp+4rxX2L8ugvCew5zat6sygWvejsC+GNj5swqaYKv/V0qYvblHNRYT5++NJOvL+5Hk/dPw3vrsnD1iMhrFwQ5vq3Hhw43IYerrAyu7YSXRREr394DosXlOO5J6bQhcXrhoBnTArjb185xfxx9j/zaXnl02HCCPODdPifPm8RYLt5MvPmfucYGAeF0SdAvtaZ9flTUMv1mbdt34WHVt0x+tcZhRiPH2+iC0EmykuqKJqGR1FGIV5FMYYE2IilpWRwR9A87N17DLevmDeGF7u5qA/vP4HFcxci3Ud3rhGzOSXEb46rzr5IwJ7pkX4eRyq5M/GimYuwY98OtLa00aUw/+KB+pTQBBJSmFuJeflgDnLIcc2WM1i3YR86etNRVpiLZx4sw5I5mWjvB5q70pCSk4p3Pu1GqrfPWdE7BjOQxGWvTp7tdBN6PEN9nMzj5/DSRR9mm1Gfmx3A1Ip0+oMN1w8zzg3ZwLkHPbSen2lJQRXjfptxJ6PXicfmLgp3TxqaugLIpmfK/LlTsW4r3VLa+uAtzsCOw6e5hFiQk4oKcJhCfzCciUVzclFAUW6XsdinV3i4xfMgus1Ez2DPB/sUFemWjEQOp7iSw5TZC5jFizm92Jglcs7HJ29RtiH2gmbOnIUDuzZx9zpuZx+Da3MeOHQU1ZyM5/emuM7E+BDTVa+bAI0ZZaXVeG/1y1i+bG5kR8zrjmRsT6g/3YyWxjbMWDzNTe40P/JIkFlgbMlPvNitzXWB82MyUjNRkF2IfXsO4Z77VkZ/0XuCE4jKyoTKpjWZ5uTgTw7jntsq8DvfXOwe1mX0G39kaQYy6TfLhT2oo9MxQPHe0NqH01x2sKEtiI7ufkytzeIOgfRBZ0S+6HT7YULWDA9RCqcw7ozUS/s19psBtUY7hHT0DwyhsW0A9S0hNHaGMBAawKwZRZhaVcx4geVzMpzc336C128N4OCJXjx4d6Wb4BnipNEkCoxkCqDoI8CSYHrI62Gvwkl9+8bCxHg4WIPVy+HulBS6CzHLVj4Kt4gAefvTUuFPSUF/v9W/2Ap2Bxw+dBx5+RcndcdWCpWaqxNIokHCfM0nY//+I1c/bJx+6enpw7tv/QpVlVVsjyMjlZGkTIx2d5yw67IkYIa3KTU12P3ZXrS1dojJBCFwqbJMkExbc2kizsvJkqXZFMDTUlH34GS89+ExbNrvxb0LC5HuT0JuVhjlxUn4jUeKkUOlbELvREsQ2w/0Y960NDfd0taltY1rRjbBIfoWDtnLplE7O3YUXGT4PJVLsJQUhFBRlIzffLgAOcmR7w+dD+KzIz2oKc3g9A6gqsCLqZNTsXl3L3oGM+H3Z+Kh5SUuxskV1ikIYf+xPiysCSNz2DRfdz6EhvPJSM8atpgznmjaEl2n2ryAQfZY7OGY6HmN1qhYercRGy9X/wlarzHGQl19M9JSs5HiT5O1PMbK5lqS4+XmT5Mn1+DYiTrMmxdbm6ucb2pGbkYelwst5TPC7gJrcaOt7rXkTseIwI0RMLug3+/HsvmL8fqrb+O3f+/bNxaRzoorAglrMTfTdRICFNeDTmCvWpjG5dPS8Nr7x3CmPYBcKuM7FqVxslg9Nu1u5Za4gzhc14OfvV2Hj9duQrp3wFm/0zmU1NWVhM8OdeJYQ4+bcOmh7PdyA4DLxaGXzoZmqc+i//l9t/lxhK4pn25rw5mmgIv7zQ/r8MnH6+AJtbu4s7kK0gq61Zw+G8bHGzsxa1o5SvyR+lOR5cEdC7OwdvMZvLKmGdsP92Lzvm785NfN6OijW409IIYT4OXdy0GAhA82qdYmW3l9kWobnfia8BmPkQx62CFKocU8GIw9YX6Qlta8wpLIfaCKESM15tqTYSaO3NwC9HF+TshmHMdQOHmiAZVl5dxEKPnCeuUxlDwlJcEJJNFsXlZUgSAXf7DRG4XEJ5CQFnMrNifIw+3u3TRraWYSVi3Mxi/eO4etO47gK/fNxpN3ZCEwOA2rP6nH24HjGAwkcSg8Dd/6+m20ZkfWDr3vrirsP92El949iMLMVvzrP7ofvnAHxXUXxbVZrW0ZQ1q3+fKEuBNReBL91YGHlxVw3ecUrNl4kssrDlLMhJCVnYlvPX0HFtTk2ilOV8+flovirBa0dZ3CounT3Pf2j62p/vUH8jjxtBarPz2D1esYNQXH/DkVmFoZZrq7nGXda1b7YDN/nDhrnXq48U1kvOACLn0YUwJDkblu7P15yT4WjYU2kuKna5o5k9mDzIaAFeKHgDnsebh+M5KSEQgE6Wc+bKGIgSw0nGnEktkLrWZxpFSW8hgokgmVBBtvT6PVvHpyNZqazqOGi0ooJDaBJLpqJGRLY8Kth4a9DCpmG3y0YBnt4SuZH1KGH9x2HPfuQeP5IaRR2xZmJ3Fdh0uD9VFtrqWXEdlvFocNMXEhl0tCN+NJo26JXo9/gm7rON9Cf3c+Z0pzkz53jkVg55m7TBZPjJ4bjdjS10xf9dZWcEt0oJgdDLNXWl5Mhth7N1+2WXrEjswPCRpsU6YfvPgW7n/4cQrzyEo0EmBjXdhWw6wTaZV0EMf3bcedi+Zw9Cm2Vgj4wd//ArVTVnIt7DK3E6P001jXi9GPvy/QjUOHtuOJx5YjMzM2DA32dHzhh6/h3hV3I8VLizlvA2tzvJHbwrlMXk4ismxiEgYG+zBko0tuMgxlPTu1yf5kttNsqaPPDsZjHUkL0bbM4qaj5IXr2K/RZWHtmWJ/Ra7Bb20lAvvGrjFyPpSL1/3E7+0s/m4XcJ/te+u8UvJFImR8nBkVjj59Iiebu6ZF7xnevC567HCsertVBKxcPUM4frYOOaWZmDl7yq26sq4zTgQS1mJuTUz2ZbljGxMR3fZhONhx+Wwn80tGfBn9cfjdHhFp0TaLn00EX2hY7fNwyLxMGdufBUxDwRfEbadeft5wdO7NLlvCXkRJ2cVvIzb6yN+Waur1CRSuXk4TCMK4ZDWWxW57axdyF+e7tX7N5Ukhvgg46Uih6E/2cx+I2CnA803dXLaOW7742JBTH40MV2+JwjQcDGHj5vU4dvwY82PCysfFAtJQVFSC2TNnoKKsklFFY7g04mjuozo7Ksoj144cGxHJdn5kdGiIB7u/hk824R4R+vwiouKHL3fpQyr6k60oFu0YWETt7W1czWw9Zs+ZjZrJkQ3zRuZdn28hASsYFntKcgrON7RKmN9C9ON1qUvv0vFKha4rAiIgAjdBoK+vl6KO4imqam4iLp166wnYg8jmj3jc/gSXCtVbn5qLV9y4fiNHhwo/J8ovHnHlT0Ocg9R4/hzONjeianoNps+aAX86J/pv24y33n0HrW1tzDAFfDjARQQo4/kKhTg+amqc34c58T/I3/q4ktdAeIAjqqFI1R7+PXJekO6NPC40SPefAYSDHFI0xW7n89zBQD9dKBm/Of4Nf2+fA+Eg47PN9viZo2CDAZ7P76LULS2tnS3YvmsbN7M75yZ7h2PM7//K1BP3W46RcK3/FJw5czpxM6mcXSBwmU35wvf6IAIiIAJxQyDJhuUp7BTik4D1pziDgbrUps/HTjh35iwWzVp8fW6CzIOX9ZHSF+np3Iti3hIU5BTQPz2E9fn5+HjNGjQ0NoDbZWDtJ2swdeo0NJw9x/x7sPLOFQhToB87cQzHjx9DCwV8Wko6qquqMXPWLOTl5nF+UT/WrltLYHS/5A7R9XWn0dffi9LSUixatNj56O/fvxfnGs7RPTMDk6snuT0IMtLSueReKzZt246ikiJeJ4jjJ47z3EEUsfMxb84CWvLL0dzchM2bNnKn6X7s3L0LDfUtmMdrz+QcKLcQWewUz4RJifmZp3KTt8Z6zmNTSHgCEuYJX8TKoAiIgAjEAwGK8gu+FbGR3uamc8hakuGs1SO8Gb8wcWbUDrlOYsQFwU720FndJo5mcC8Ac1DvD/ajtaudG8xtxO6DB+Clm8KCeQvQz4mv23duw7qNG5CemY5aCvL2jg68//EHOHnmFB556BHnq75t7y66m7QiKyMTc+bMQ4AW9nWbN+Fo3UkK8wCXDU2mIK/BqZMnsPu9z9DCY1fdfR/36ejEbortIC3oyRR6FRVlSM1Iw849u3H42HE89vCjKMjPpeDPZAcpCcnsFGRyclNKaorrMFnXV4NSX1j8Y/JjmD0iq38edvgUEp+AhHnil7Fy+CU2OLNGWLiapS7aFNrv9tmGFd3BIxrJyPcWy6Uh+n30/dJfI/FFv/vc9aMXtANGfo6ecNn3do2R4dL4Lv1r5HGRz5ef/fkjYv8bWcxjv4yunMJoydnIRyyFcw2NyM/Li7QQw7eQCW8Tp9E0X57eqK+2tROBUABNdAcZoKtVf3cv9h044Nalzi/MR2goSMeSIApLivH0U19BZkYWWlrOY/vuncjOycJXn/4aSooKMTgwiPXr12LT5s0UzYVYsmwJhrjvRkpGBr7+rW+hoqScrish5BauxceffIiS0jJ87amnUZCXj55ly/Dqqy9hz959WL78DufCEqCryhAnoj7yyMPcTG8qFzXw4Nixo3j9zbfw4Scf4du/8SwWLprPreD3Yvbs2VxDe4nNPRwO/BAtomhGoz/pfcwIGPJUbqzX12NLTygkOoGrtS2Jnm/lb8IQuPBEuWqOuTTRlVW5nRp9sWV0moGWi8h6MJF399nO59PaPltc7t0+28k8z91kdv7wdyPf3QXc9XmsnTt8Hb5Fgru+yQCL20UXeY9+Hj7MHe+OdYe6aEfHsmUx20tNxTBqvY0BAXOBNvFntexC3R+D61xvlLZoWaT2s/tu99eIcNX760IGhug6ch6vvfEGXnr5Jfzi9VfQ09eN+x+4nxvbcc19xufl3gB3rLwd+Tn5XGDAi77ODrScb6KIXo7ywlL4+V96SgaWLF6KzKx0nK6vp094gP7kQRQXlaKExyRzmUk/d4meRpeYVLqr1FTX0DXFdpf2ITsjl39Xo5NWd5uH4QIbmdraWkyrrkWqx66QjOrKam7wNAmdnW3ooPuMlxZ/W4qXe+VFJr8ybdbRCDsIkfZoBAp9HGMCZim3srBnhELiE5DFPPHLWDm8IgFr5SJheMUx9wB2ywK6r81nOfK7ezjzWWRD0Wblcn+zfQxTTdiay33cot42eAoOBjiZKsD3weGYKTQYia3KMDjiuws/8kNyMpdgGzZHmf+mhw/E5BQ/LVr0t+W5yRzitmNSOOxsln0PL2TruDv5wmsmc8H7YDQDIyK25nuklLZuhIXY8uB1SRqdf2LMBWJ0MqVY4pGA3Xt2S5pBOTc3H48//iTyMnKQRfcQP11CUmj5TDbhy/+SuV57dmbOsEU6ie1EgBNCwyjML+a9as4L5nkeQirPS05JxgBF+SDbGA+t3Klu6UX+bp0H1n8/xbNtgpSXk+vaHa6A6NLhZ9thbZb5rluw9iMrM5vtip9ij4KbCU6mw3tqepo7zvbcSPZzeUem31qNSDtiuaI0t+9kKTeMCiIwZgQkzMcMrSKOPQL2cLFHTdR55dIU2o6uSVTHJrLNKtXV2YlmbujQ1dWB7q4u9PX2oq2jnSsqtLvh5Z7eLifMgxxGtmh9fIT5KJTT+OC1EH1+DXFFg3Q+9JL4ML08mGAPB2xxNUZhT0I+JQdoDbNVEGwd4SAfpraOcBI/+yjYM7Oy6Keaxgd1GnLzsmkZK0JOfgEyOAyelZ1Nf9BcbgJk3Qva5RmpxWn2LXt4uyetuw7/4d92zUuDsVEQARG4GQJ2v0WD35+KiuJy5GfnR1od3nfW+babz93v7LQn8V43Yc2bHmmp6RTcaTh54gSqyydHrKQ0ALS3taK7pxdFVeU8Ji2yBCPjsI6/a81465oxmy0FX1zdholwwprXs98jGyPZWJ3d9WE002VmoG8A3nS2WmwvAgP9tO5zR2pa0FNSuEAwV4KxQDnv/rOWy8680EKoI2x4FERgTAhImI8JVkUauwQiQ9NJ9kDkk8vDp1lPVyc3AxlAW3MLNqxfj7MNZ9F0vpGWb/qA8mHppx+o7dqazxURJlVW4s6F81BA38/SgnRnffJzjWPbPMTPXaRsveM0Die7YE8ye5zxaZZGMW3HXB4G+gciy6RFf+CDtH+AS59xxQSzcg3wsy2jZh2F/oEAzja24CxXimhubsWpA3ux5mQdAnwUMzsU/l6kZmZiypQpHKqehjn0D03N4OQtfuesZib0eR1bJ9rDY83txq4RCRceudGU6F0EROCGCPCe4n1lYtsJbtcEmDy2rYXsnouIXIva7jqPO45fUiAXsJNdXlriVkUpKyrGpEmV6O3txgcffMDVWEKYMX0G3V9oSWckZu12cfCz22DIxTVCPLtf+Q87AklmbXDS2t5CXPHlMDZu3Yxli5cwDWHs4uTPOrYls6fNQnFhIX3dGxGiwaCVbWJvX5+b/Pn/s3cdgFUVafek9x5SSCGUQOgdqdKRIrpWpFkQu7u66uruuq5b1P11LWuvu/aCFZRmQcWCIL333lsS0nv+c+a+m7yEBBIIJNE38HLb3CnfzJ05881XxOW3gmuscBDCdXBR4IxQwAXMzwhZXYk2RAoIiBdT9CTzWBqyj6Vi7dr1nIy2Y9+e3cjm5OfJiSclJRk9OrZF06ZDqDwVZtwgR0cGwM/LnpQq1ozTqZlcK96t+ZVvlR4Oa+4ySvnvO0y51FT+yFXbQ/fhm2ldYTmdm8z+5CN4eLqjCSf6hPhmSKLZtPhWrRHCevmSM2eC2Gqu4KKAiwJ1RgEPbpVpt0yAV7twAsTiPOtLk4y2zeFWhoabLXES8x2WIiQ0FEOHDjW2zqd9OI2L6gDk0RSiJ8VOBg0ejJQ2KbRNXmC443pfWFt5aRxQKGE6Fuuh/J71pPxvKUF6SHgIFi37CQsW/cBCuHFHMANt23fCiJEjjOhcQFAgFwUJWLhgETau20KLLueic+fOhhtflll5kq4zFwVcFKhDCriAeR0S05VUA6GAgyWlLVqzeUuud15ONnZs3UoHH8uweeN65GVnoW3bZFocSEHC8L5oGh+HWFoz8PH2pNynmTprVJn6hrXKP65JiPkBiabMhZylKSaKAnK6Nm/ZQkcnh7F2y27MnT2H5tLeZ13j0b5jJ/Tv148c9mDD5S+lCA832c0krUTsid4k6PpzyhSoajnnLOpwygmf4Rcba7nPMFlqlLzGHE9ywXt17U3xtzwEcgfNqJFoXGIwYxIJLPGWC8ZcQJnwIHNPT/RrQU+bEy4bj107dxtxOsmWx8XFIT4+EZ4eXgTf7hg16DyzM+ctMTcic4mxhAWHYdSwkYiiYqk1gjE9PmjVrDX8zw9ESGAoue855LR7IiW5DVq3aINDBw+b3bgQvts8qRlCgkLMxx/oH4SxlI3fv38/RV6KEUvX0xKRkZJu4wnao+BixVFgs1gyTVBpdGOl7DvOI78RA+QDWrc0Ow7F2pZ0BO1ASDxI6VtSPVx8UbHA5KFFljK1iaWbruCiQC0o4ALmtSCWK2rjoIBl61UDZRHyKBO+gnZ7f/55IbLTM9CuTUtcN+lyAvJkM7EF0oavFb9x1K0mpfTiPCAnmH5BfujRtaN5ZdigImRdcSG27DyA9Zs3Y9nKlXj8hx8RHRePfv370SxaR7hTHlbqYa5ppCZUdsVxUaAaCggo8yNqlZRcHsEJnBmgyD8Cv9279CCyY2Qb8/HoSQ56bEQMReVijRlEI3amKAKI+kOF0U4dOlnvKQfHu4F+gejcobOVp+4pXQLI2BgxHZoymgVR3XlfVlyaJzRHcgKdBjGqm1E2t5RDNQBIUj06MgrRLINAvwnW646Lhn5gJRzBGZzb98qONng2TAnOGaSNFk4KlpgfhY+M5JDjHhNzIwA3rzkSVjy1twXQ9Z7o5wouCpw6BVzA/NRp53qzAVLAYeCEk1sJltFRx5xPphv57ovOH4ke3brQc54PlTStibMBFv+MFUk7AT50HCLnIT26tMHlF47Blq078MZ7H+C1F17EgKHDMOS8kQig8qgr1B0FGhWWcap2Yy23UxXq91Sg+GShujiO++LKSp5cQK9E4E9wr7p3lFd1z3S/rDhClhKdkU0YyrwzD/Me87B2zE5W6MbyXLUxFDMw22Bog63NH6sSZsVhEUa7DuYJ7xVJ+Z7/xBGXN2FjOYvIW8DbwvFc4vBcTn/0K6byro3GvWgVx6B0EVz/nbJrLJRzlbP+KeAC5vXfBq4S1AEFrOFVkwuZRPy7efMmvPXWmxg7bAh+M3IQt2Ijy+emOsivMSchd+H+Pm7o1K4F/nr3b7F5+048+8p7OEyF0vFXXkkLLwHknNsUbcw1dZXdRYHGSwHDieWA5kZ0d6omCm0fDQaz84+48V6etFxO2+fUAbesvhgSKQ+eNHIgKf1UYmUTbAEVgXIFHY0ddkMMVVVjnMWkERDPz8/Bxi2bsHbDWtp9l8WtQgQFBaND+3Zo06qNcQBlKdKWGktdq9etxd59+5GankbdJargU58nqVkLowcQ3zSetFWOJGgjpykr4QpnmQIuYH6WCe7K7gxSQAMgZxd3jszTqfg4sHcvXDP+Ivh5W9YLzmDOjTbpYLr97k5l19tuvBp33/cwNq5di+7de5itbcf81WjrdjYLbib9s5mhK69fPAXKuK2n8SHKTKrUTg2nl0AxnqJrkyZMoM1yX2NRSvbWBfzFNS/LrxFT1gblqoxEGbPoVCmDZm/F1S4mJ9ybfiHkVdWXVrI8xd1mKOZL+w7tw3vvvoPDaUcR3zIBrdq3NqIsRw8fwevvvY3o0Ahc/JuLkJycjAOUu3/73Xexm8f45olo3jLRmMgtoGGBmV/NxZwvP8fwQUMxeNBg3rf8TzRikrqKXg8UcAHzeiC6K8u6p4DB5JpkeEKrvFiw8CcM7t2NNoFdoPxE1Bbd9EuMj6GlFndkZx0zfKQTveN6dmIKuED6ienzS3uq9rblkhtK3fRN28Huj/KL4Enlk4hw2lQ3QtEcMKXQyCHSKr9iNqQgjrZzTWpQNsfq4tDhA1jw049Ys249sukrIjgkxPiYKKQyrifFg5JbtUQ3moqMj2+KjZu34OW3XkVHWp254e5bkNg8xsjmm5zJfd+59Xx8OfdbvPLmK+hM7vmmbTuQ0rkLJt56Fdq2aw1PzjGmpHzh0gkXY8WS5fh8xpfIyEzD6JFjjPfVX8KipwbUd0WpIwq4gHkdEdKVTH1TgBwSRxEkXSiFzg8/mo7BfXsgPja6vgvXYPPXhCL5yE8+nYvtFGmR1z96KDLzoSaT02DWNdg6n5GCcQIXLemfhZw5Rw6ODmktFivmWm4/vuL96q4MkKru4Snet8ugYho55mJLdtbIyKoypnNYiXvy3C6DJAUaGoSzSnn2/1rL/lJ4s5E96JGzjGj1hsRopJEfbTHBZ6VuyDGRrUZwbmCkhKQVBNDVoA0wlKq8pGNZN2TZjXgPb5u7jj5ZUiS/DJTHl7w842/YvBGPPPE4/ENDMPWG69C5a2cCczlSAmgVlyJ7aXjkoYfx4axPMWRgfyxdthLnXXYpJky6gPLkZugrm0vU0ZslJ+DapAlwp1b9c08/j3vu/RMuGXc+5f8t0pnvh/QTKcNoIWvQqEHo2bsPrp9yPUroQfWiURfDjwODfFwUsQ5W13AMDg2Q7q4i1T8FXMC8/tvAVYI6oYAGurIhHCUEmLl5ufjXo89i2JCBVHjsgLjYJmb7tk6y+wUkUkAa7di5m1uv32HF8lX0+EdXSpw4LNnMclr+Aqpap1XgXG2CjWeEB3z5y6EJTl8Pigh4SV6Xmg76yYSaIgr5lgU6taL5zpqHM8SPZZGM4yuCGn06xgScOVYEHFryytlMKYGFxCIUvUJ1al6RX1xMtao3NTIOLF+Mgn1bSUMBQLW9c3ufnWqX0t2nLIbIsoh7dDyaduyCQk968awcbPMhle83mGt1Qv4MPJY1eH5A/IgKC3ORRnlueUsuoFiKON8+3j4Ipe13Xw8/5PHekiULMW36Zxh6wWhcNm4smkSFGUtTag19hj60BhkfEo7Hn3sAs2fNwzNPPU/77F1wwUVDQEuUJk5VZCjgomvjtu247Q934bIJ55s0uY61iul4wW5x5RNAIwN3/PEOPP/ki+jUphM6pXSgXyd9Pa7gosDJKeAC5ienkStGo6BAxSFP5r+unjiZIhpxePyJJ/Dq60UYPHAABg7oiy4d2nLyrBi/UVSxDgopwFBAQ+dzvpqP777/EXt278PQIYNw37134c4//814Ba0PUFEHVau3JNw4QxfQYdWPMz+Fe2EmCtwKOMOTnVZKBTtOxZYlB6t4oq12IQpy84g1eF4DAGd5baz7/irs40kZWNtcqCkbi2nKRVCka1kD8fT04Ha9N8JbtkG3fufSFqeHASb1RvAGlLG8+frQM+/GH79Gon8h4s85h+Cc2yb1AMFKaJLKnX0q/8B+rF62AHH0EoqqgHkDol+VRTGgnBQ030opjtHk7eefz8W27Vtw4NBB5FPRUkBZnH9/yorHREWhPx0gtWrTEq9STnzClGtw3piBVGL3NkBbn5iGewFnGzy7e3th+Ogh+GD6LFqjGkSOeiD7e0WgbZdN72g+GTZsOHr26Gha9mQbInqnU5f26D+oH+Z/Px/tU9pwziHcEmq3X3ZtR9okdh0rUcAFzCsRxHXZyCkg/MJRsbTYDUEhwejWoz2efvYxLPxpKRYsWIB/PvRv46xj5IiRSExoSu+egYZrGBzkbzgwdu3NYGxfNNKj5oDc3HxycrORnpFFR0PH6O10DT7/8kuEhUUiPjEJ90+9Gi2SYk3dPbmPK26fmTxstnAjrfuZLLboKvIYEvFCVoD8PHNRsGMFoiinH5oUw8mbT0uL+ES2ocVzVnCAa12E6NxxrUcnCBZOqVncEyRTzSOJX5QHk4sjK4k+FBcUwcfPAwXUPdi9YwO8z+mJIs9AFzC3SaYdJrZnLhdnHuRShw4cCbcAgjz7+Vk+UogFGWtWY/eKd9BLoiCNMEhdVZ9GHnc8Fy5diFmzZ3NbwgudunbC5TdMQqfOyWaIykjLxvp1m/Hj/O/w4eczkPl+BqKiozFwWB8qt2ofwwrm+2GD2H1bbaN7eQUluOaaq5DStlUFzndVJJOTp6HDuOjii3q/Kr6O3eaG6kzfiyZqu/Xsgfmff4s1dGqX0rIt17QcY1kSLX5dwUWB6ijgAubVUcZ1v5FRwAy7LLMGPJ1bP3HGZbt7zBhpyffDrl37sGXLTmzauh0zPpuNPGrth9E9dYukeDRpEo6EuES0ad0KTSJoz9uRpC1b25AJYnNe5Z1u+869BODrsO/wQezbdwT79u7nJFeIuIR4dGibgt/eeiutCzRHcGgwfMj9tOup+tnMHFNXm6QNueL1UDbJFVNqgB4Bi4xHR/GPfeld1oeu0tt16Ia24y6g2IcsPnB4LZvBT52YZ73/OeM5IRiCzqNr1mL7pz8ai0fOCzdF1ULl1xoseGWgJArIVaW5D5RyIVMfzFD1sFLu1JT6+CGLIi3yENooA7eYcvNz8emsmViwbDEuuOQi9OzXGU3jYqi8yjqxokUkfKSfLwbERaDPwF7Ytm0Xlixejk8pxjLvm+8xduwwAmN9g9bwZreHMxwODvbFoEF08FTDYO1cWTNMTV5RXk3IzS/kOPHf119F3+69MWLIcIrehJEDz4e/5g+nJgT8FcdxAfNfceP/kqteatgkVg3tQdk/wBdt27ZAcpvm5KgXIyszixzlXCz6eQWWLl2Ktes28fo7Y79W2/etWjanHdsgdOnaBTExsfDz9aEctjt8CWY9qSDpwYlY2Wg7Wz8PcZsZ5BREYEoTpYIGaKOYZK4q/hHjRKDajqun2lItogZhMblxYsfJiYU4LJL9zqdceH6+foV8Tnu6Wdk4pK3r1Wu54NhCSwAZTIHOQzxofSGSC44WLTF69GiK9EQQMwRwd8CX/kVYVkeGZvtWeTp+wpGqhcXn5YkrGHqIXKKRJlPTytmZ2LFsIQrSjrCti+FdlAt/ypCmbtyCrV9+BQqzMCpdWfElzb/GnrTeP4Wgvmz1rFN4+aSvqF9ZqYvzX+LGxQbvRNAOc5Oe58DdnzLK7CyZvp4o4FGK1S484UxU+8vlN2zGHOu60L7tHPUMnis79TV918Ush/P4dwazrZuknbgBMt2Ym5eDGbM/xba9e3DHvXegA700e9DyicYq8w0qV9XTkbsbwXrL1kk0W5hAJks41m/YgvwCiroQmKtn652qmsP0ej5QumciaN6JjApG+26dcYwKp6s2rsNmjtETaK6yeUIz9hfmak9ONg3s6zNRIFeajYYCLmDeaJrKVdATU6B8dJXggAVjrTfKQI1jdPbU7EXgGkaueBhCcVF8LC66eBQH8yIcPHCUWvtHkZ6aht179iOHssBffzMf2RQHyc8voD1cut7h6+4E5R5Mx5uyt5Jz9PcPQEhwsMkwmN4zBYDNbOCYFUKDJHdaHjQOawzOzZPMtyVOYNegpLgQhw4fNguHPHKO8vIojsIFhCZ+Ob2wykDgT7aLv78/ggJDEcMt3PPHjEIIueChoeGIjIwgMA+2ZOkd9S7PvfzMTA6OS4HH8uVEeZxf+5nIZyZ4nqiNvMgBKzy6D3vnvI/WreLgHc525+KpSZdkPi1FDuX2ZR+6ajig+7UPNgip/ZsnekOQvJBl9WEkba/TjodbHhFPNvb8/A2COrSDX4g/71HO3KMYBcWUixcNyj4oa9Fxohx++c8cYkqkiXHnzqPV9me35o5hRt2PCyd1Pi2hbBEqq/82xAWVupJVLhbcAU6/X/gjFq9ehdvu/B06d08pw66mWg6yateqLKi6/IlRMnLUQAwbcS71IiqOZKJPdcF5DKwuzqncV93cycS5/fbfcrpxQ15mDp575iW88/E0TLh0HJo3bcZya9FtWZvRt3WqjqROpXyudxouBVzAvOG2jatkZ5kCclufmBhtfuKilJAjbbg0FFMQIM4jOBYnRlYBisnRLqRDiQLKKe7fn4ojRwnoDx0y72zbuYZAPofvcnlArreORw4eNA4u7CoZLjnZ06Hk8PiJK8kg4K38vMnpSYxPRHRsggH7oaH+5LyEkhvGhQDlwCUL7k2lPU8uLgID/A1AdycXXGI79iSjdDRZWdxaM/6bPKr7o+h20DznChYFNLmaQAJ5sT+4FxfAl7w6j5JCBNKKTevzhiGkUydKrTTWoZQVM51GqIC9hf26NC8VWx7+J8VW2B+5InAjqGDvsr4Fmx6uYwUKOH8/FR40kIuG+k07Lxa0sDl8eD+WLFuGq6dORIeulCVXt6wFDSUi4qVtvwYUfAOsnVUf30DcevsNtATzMv732mu449bbERYUxu9K5W1YZW5A5PtVFqWxzia/ysZq7JXOzsnFqrUb0LljO/hTLKQhB2EVccQtYOtpFHn8A/zMdRlYc1SgI3GZ4tn3ddRELXBsA2XDDHIaexWHorsVxmM7vm7b6dn3eMukp6OCxnKTj1Me5r55auWvQmiOUj7aJKhpMFvyjG+Xoabv1TRefn4RVq/fiOQWiVx4BNX0tbMeT/QV2by4MCtOP4LMrevhQZNtBRT3KKUIi09uKnK2bCSApSlBhxhT5UI6mICVbzeQa4JtVtCdgLzAPwihdLAiMScKUqEwV9xzAnLablZHcKcr98YQVq7eQFvUnkhp3dLaLWoMhf61l9EGph4l+HDGx7Q/HoyefShGRZFAjX96rO+wNsF53KzNe2cirqmeY5wODg3AtddPxoP3PYJ1G9ahb6++/My06NVoe2aDvJ96mO/7zObjSv30KeAC5qdPQ1cKNaRAMeWjP/rkU/y04GfcctMU2qC1lHNq+Hq9RBNMcZ4VzHUVJXG+XzbEcjbheGyCGZyd3jNxKs82TvHt9Gxgr1crnDvScr7nlHyFuA1tLC6kveFPqKRFMX787tYbaBknzLnoDeZcbSQ46lWcj53LF+DwFx8jNiKAIJUcc3LNYyN9cYRm6fas+IlQ1lrEORdezWs3sbPJROc49XXublYM1I1g5/DJy0R+TCK6t6MpOAFxdj5ZZDFR1IEFKiS/UrkT11fhT5DvgQMH8dwLL+OBB+5Hx7YSLXKFhk8BfSXcVTx6BBu378B1t91EL8QOaOL4gOxxtKZ1qW5crOn7dRlPY7k4/+ZT4jEqNgIXX34J5nz8GTq174SgADEnLBrUZb6V09q0dSfFIzPQs3vnyo9c1w2MAi5g3sAa5JddHCovUl56xqczKFedh1tvvA6BgZRhbSChDFBXKo8NkivdNhzlyvcU1zGXVHhU24mlurJUSNRxUV35qorbUO4V0Q7xwp8WcQL2Mf0gKCiwoRStrBw2XSV2lEtRpraXX4bWQwdQbIVKZXYjO1hzRq7YvleWgnVSze1Kserrknaiv52HzQsXOwrL0pI7XsSlh8HhjsKX8J48Sjb4wCLu2r0H//jnv/DQP/+OVi3iuUhtBOVu8IQ9MwWUkqolDV5M5fvVRrm9XccUyDHpL6XZ1PvsscSmYjPuFqZlpuFYRjqCCcxrOz/Y6dTmmJZ6DA8+9Aj+et9d6NWjq+u7qA3xznJcFzA/ywT/dWfnRpEQb1xyyTgsXbKYJqTextRrJiPAn4qSDSBo8KwNIK6uyGdjkK0u78ZyX8qzgwcPxfZtu/GfZ17kDspUhNOFdoMMnFkLKaqSHxgGr8hwmkJkKXnP3i7XsXEIelSkrgCDuOJu/iH0lOuADrpJGCEgbpjkisOfrRZsHitKHQejUFoXHx/LlZSUhFbJrfG739+Dhx78Kx2KtTmrIKQqGqlqlcHZqZDw9NOpqnS1L4nqIvOBshR1elIYloJqKbeU9u3di+atk+Ef6HVK4iu1r0X9vKHxIoR6Q7L8levQRTorSp9s+r379+LRx5/C3X/4PXrSWowrNEwK1MVY0TBrdpqlclbcO82k6vR1eeLbsWs3Dh1NrdN06yIxle3EPw7jZC22SWmP26lxv3L1erz0ypvIyMqti+zrJA19EJV/1SVcOV5dfkxVpV3dverKVx/3re/mxP3AwDyywxISk3Dr7241NohfeOEVpNISTsMNAiGc2dgIRTzIHJ6wbNnRca7rRvFjeQ0DXAqtNArtJYDOewaFsw4GsNtAmc/MKoTfrrnPS0Wt63CyNNW37F+14wxLFhgUgmu54L/wwrF46tkXqdey0Shl13V5T5QeSWhIeaI4p/rMbhb7feV10mDYz4xZh7se2omQ11jTb05agKojUL2YfUodDMjJz0eLVsnUDZCq8S83qCkCKKrTJCISRw+nsp+wtmUf35msdwnCI8LROiUF/3rkP1iwaIkxTnAmc3SlfWoUcHHMK9FNpuiOEPTu2rMPaenpFLUIRGxUJGJjYsy2e6XoZ/xyP2UmiymTGxcXZ7b2Dh44hJf/+xpaNE/ClKsmN5jtvoysHCxZvpKm/ag0Vk3IpSe3I6mpRhmxbbtkOrq5EY8/8Qzc/vc2plwzAfK+6QqNmwIrV6+jlZrDnGdow1tVsVGDNfcaYJWTl43du/aiTZuOVNJrjvvvvw//fvhR9uu3cf3UyfRK2kA55w60IGzjqE7FxrLrWvFug706vg7lFTA4zlFyYnfTbgac11NtijgGfvfDUtr3F4dVJZfHzYo1kEjEGoJwLRuCOG5PnnwpLSfl44F/PYJ7//gHdOqQYoDkma6CSlWxZHW3kKkKsFbOq6r6VSJVVVFqda9UpmL9fZBPz8LyZFnM9lDZKi8aTpqotkqMAgbNjOZkoxXNvArs/xpC1e2mulf95HRpou/D39cfkyZcifnfz8fTT78Et9/egHN6djWLodNN3/V+3VHABcydaFnIGejb737A119/Y8zjybmMkG8qgXq7dm3pPXIU4mOind44s6c5HPSmffgJnd7k4c7bf0dTee4Ippv5c889FxFc+erzbShD2E5y8f/1f4/hnHP6cFzx5Fa4PbiIy2XRSWVt1aoN3SZHma3l9h1a08brrRC39NU338XUqyXWUtHe95mlsCv1uqbA+x98hC1b9yIlpS1NSmqaVqvbcIIdQS4z+b9Zi2TEJSZSltQNcfGRuOV3t+CJ/zyDZ174L265YQrC6a3VFc4yBdhUhqFqN9dZzv5E2WVl5+H/HnkCPXp0p71qjS8WfLFHGb2rnqbxuv+Ac+lcxseYHZ0w8VLdxZMUl7qNisZnC5ybTBvYHzVrqVGO4JhcawRdsTIC5n6RXig5Stf2bBulbX/pNUpa84PpbNTfyM1GZu4xHKbypzFuZBqyYn6/tKuCgmJjUrdJVBPSgbQ4jcWIdpG2bt9FGf11TIct4fxROBFux45dfEQHeX7euHLyFWYcfubZl1F607Xo26enU0zXaX1TwAXMHS2gb+OrL+dh+mefoU1yMjvuBNqIDjAfzWqa+Pvvq69h586duOfuPyCECotyPJN6LBOxTSIqmCA6euyY8crYlFx2BdmxzsrOxf5DR1FE+9cxMU0QEhRA+TKL9Pqo5EDmWEYmncqkkTMeS2+TfvDm84yMDBxjHrKbvYtu1X1pNzk2OgIdOrRHeHBgmQKaAFAmbWwfPnTEOMJpFt8U/rRv7UN5bgU5sElLz0SwKXcBXbbvpkOacG6lhdOTZd2YLdR2pA9X4/fc/TtrbHAaHJzHHGE1b5ozs8feDu3JOb/lejz88H+oMZ6L2387tcHInBviuf7UjgJs7MGDB+KqKy8r88xXVQKavN0oY6l+IHOOLVrG409/vBMPPPgwnnruJdMnIsJc4Lwq2v0a74lrnxCfgFtuvt7I55qOYw8ixxGEuiwcYzQEBVOp+KqrxtP0nhcV3/6Nv/31T2iX0sowBo57rY5v2MUr0z9wGhPrIit9Q7ZkSo2SNgMxY9rH0yhEMSsnv1SBTWhZS/oXFEd0K+IuRhngPkHijCMxGPmJyMrOwPufTKNY40rsO3IEoYuXYOTY/saz8glSaNSPRKLU9DxoF8iPzulONwhDzP9xId5//yPExzer4C/DmmitnujO1VjLZPZ9Ls7k8GiiWbSW4smnnzfWmc7p0Y1Naffa0y2V6/3ToYALmDuod5QiFl99/TUH/3hcNXkiIsLLTbh17dwRY+jWXOB8+bLlGDigL77/cRE9Qn6LP9/z+zKPj0rqow8+JsdwGx751z8NKF+6bBXeeu9DlNBxh1ys5+Xk4Tw6JRkzaphxDrNt5x68/sa7SE2zZMa1NThm9AicN3wwvvtxMQ4dOkyAnoXnnnsB0dGxFF+5As+Tw9y5U3tcdtFY4+Rm9hdf45tvvjFgP58gvoAeKnt074orrrgMQXRe8yM/2nfe+wAxsXHIzEwnJ8mHuwBH6J4+hdta4xCtVftpBsnf8nPn4sHLAK2q5A71yWsBpElEE63mBw0S7du2wl13/BZPE5C9/taHuHry5fSm6eKcn2aT1NvrHgRBnjSFybG/OuaNKZu8WeqnfiHnSXHxUbiLugf/eeIpfmtvUU54Ek0pusC5IZbrD0UJ5WHX13DC1WkESp25s+6OMcWZVBprZPln/LjfoDA/j6Jzz+K2392MjmQInGlrLQJgniqTCmFWos4lO8VzpaXAugtDSRJE35AN0M2zav4ojpHf9qRy7+nyY2hWUzoWHgLnEbI37oPC7HwqXji3SDUF4e0SioyupHfPmXNnw4eKkFfffA2yyEXeSJN+dhWrf7txP1H95s37muCcczHnS4lmeTgqXTPqHV//UpoiHk3ccOONU6111/FRKt5hft6+Xpg4aRzvl+LZ5/4L95uBc3p1rxiviquCwiLs3r2bnrMjER7ScP1QVFH0RnPLBcwdTbV161bs2b2HnL4rK4ByPZb29HnDBlGshNv0W3agb9/eXJWWkDOezwGpfBjRR1VE8G2QBs8X/LQE73Jrf+CAgfz15KDogc0ceF599Q1ysYtwwejh+Pbb7+mWPRd/JrfQgw4V3v9gOn76eQl69+6JoYP6Yd++veSaH8MtN15rylFIz5N5eXSb7Qg//vQz5s79nGXqgxFDB5nB+mfKek//eDo5S2H4zfkjzQRUWFhi3MRff+1vEUDO+ebN2+h97E3M4rvXXDnJLrKd7Ckd3TQDOSaMahPgc/4vC6KeJpa2FGu57Y5b8dADj2D/wf340123nX1wzsKoPFow2M2qczuofe0tW0U80WRov6b0ThSUpkQsFd9OzzlPD6wiLAAAQABJREFU+13Fs4PKYAe7TPZ1fR+Nt1QW4mT1VjnLOIl2fBKhZatEWgy4E48//iQef/J53M0+0ZCdEKkernB2KFBEb6vWh8L8HB+B87egZ1X2O94PCA7A1VMm4N13PsF9f38A/ybjpHWrZmek4CqDxg859UrnfLH8nTfhQ4+xns4DyynmbNXXHQXuXvBq1hrdx10ETz8vkDJOgRk7BZVH1lP08wrwRVAEmR7OH59T3JqeimOusUc/TyYXQLGWLNYvPyOXTUOOOB/I5KGJwIPk0O3WoXsubNm5Ba9Oext9Oa+On3ghgsICuDNciEH5hbRGeuqwRCI6yrfyIs2miM0QYmFMsO/b185Hi27scjxR06muFfqbc+RanG/YsA2ffjYL/u7eWLRsMUYNGUnxLPkNkNIrdx1qkVZ5VGsHotpvoDyideaouI+vB64Yfyl3u33x8KNP4fe/vwUD+vSqHLvC9Zy5X+Gz2bPQuXNX3DBlsrVQrhDDdXG6FKiLfna6Zaj39yVusvfgYaNM1Ixyr1UFb4qFRIZHIDMr22xBedAdelXBcuNuuVaXMqSfnz86dmxDt+v+5Cb70KFAGzRLSsLiJcuMHLuXty+ysrKQeSwb/nx+9dVX4dKLL0IwRVXE6RGY18IgjE5YQilfrhHCDD6UCdHgv2r1WvNsxNCB5HxHokmTSIwZMRTDR4ygrPy3yKK3Tc1mKn8/gvcEirmEh4ZS4aMb2rZpje2UTZMYTb0GDhLinKe0aY7b6Vxi1uy5+Iwfvw2Oz2bZNF6lpuVx5+ML7Np5wAySjjHMFKOIC7Kv5i3CvK8Xs3wauk8cnN+tLmYRF2mrV23jom9/dVHqZEKoNvE6fnByqlSfobiYzZKa4obrr8XCRYvx3oef1ojO1afoevLLoYCW8IR3NfmonCptAx1/7h6OH38R2rdvhzvv+SOtgBQ4xTozp7LT7elFEO3lTfEBL/50PNWf3veEB4GrSdNbc5BgsA157TpoWtfveEKVSIib0idFfPV0fiV8385XVopAcB7UxBM+Qb4UZ5EFIwYH4ctBhlWeQopW/rBwAbr164UpN12BQIJypeXFXbZAGgA41Z0MzYsHDqZzLiXn3jlwnD5yJAtHj2aUiX+ax8w07VgOd6XTOafbvcT5RVaB94+mZfCXVfHBKV7t3HWEDIcX0a1bN0y+aiK+nf8tMrOttI9vrVPMpBavie5+VOK9/PKLMGTIUDz66JNYsmxltSnk85v5nCK/GcQMq1atRjrxkHOQd++jaenI4wLraGo62+OwuS7iDolzkCjw4SNHcZASAenHMoxYUzFXTWlpx/huefsVcSdA6Ujc1zkcPZpWdk+YKyMzy6R1kOK8kjDQAswOOXz3KNPVMTX9GKUGKpbZjteQjlWjy4ZUwrNQFg0EQZTJlpZ/ZlYmZcCrtg6Sk5ND7oCHWd2WlMr6iFPrO8pZTIFZdRS5HS8ilzrtaDqmvT/DDJE+FCHRVuKevfvMEVRiGnxuX2zdug1PUM4rrmksWiQ1J4DuTu1pX2RT7EVAvESaTnZgGVVODfJ5BHSHj6QiLCQEkRERdgxzbJvSBnNmf8EBKc3k5clBPIaiMM4hIjISBw4dotMf5lOfrtEdZMzLK6ACy0YWJRjNEpqyqHrgVHfnwp+Jc0dWhRwY3nnvHaxdvwZ//esdpgh6pAlm956D+Pejj6J/v/4YOLjHca7u7dLaPUPX+tnXPK0QlObRjGN49D+PoGWLVrj3L9w54Rts9rLgdFp2zz7R+/o5p+98bsdrTEdNkuvXr6eugT/1PZo3pqK7ynoGKVBawsndyIXULhN9H/Y3tHv3AezbvZffbx9+NFWDsdqlfnxsOy9BkdAWzTCAiwBT7Lr+MFkxca4rcsuPL499R2MKpw7QOqYRgbHvn+pR1RFtFZQmpzMEkXOuwSuf+kLGDCJJLCpb8Th3kZW+Yf1arFizDn/85z3WPGhSOPU/qpPqRryP/736Drp064FhQ3vAh8YSFAQSp0+fYxhQd94xxSmjUsye9RUt+ayhNaipaN48yumZ1WcOElj+73/TuGAIxm23X13h+alciMk2bOgI7ob3gBcLPXv6TKwhc+3cvv1OJbk6eUe08yKtJk+6HH7ENw89/AQee+SfaN4s4bj0V61dj+ysPHTr3hubOEavIPNRTEE7fPXNAixavJi6dDEUd9lLHYJsWrbzQz9y4SWe60cG4b6Dh/DeBzOwmzp7YoqGhIVjIA1atGvbjiKM76BP7+4YQgkD4bLlq9YZb+GDBw7AsCH9Dfbas+8wnn3hZVxx2UXoSEtLCxYuxdeUPJDnWCm3RhALDRs6GH17dmb/ApmgK/HlvG8R2zTGYK9OHdph/KUX2EVukEcXMGezqAMkUykiksqQP3z/AznWFxp5bbvFxBndun0nsqlgGUOutBc/LivQTJSxPGFdFRBYZmZx9ad7TNOT7q4DggLY4VLI1Q6loqU3B4kCtG2XQs1ofyMvGUSxkttosujAgSP4adFCLF2+Apu2bKar8usQwDhelNdV/hp8FDTI6TybCqXeLIefny/yCdDzuQ3o71cuOChxl4Ji3iO40RamhhkvyhY6BylhWlxfR+LOD0/h3OYg8zuvABSdk1LZSRoT7DrpQiviubO/xtzPv8Q//n4venale3A7ohX97Pxl+eT8oXfP7uSMf02nF1O4yxBq6qN5fOmSJWbF3ZOe07zI5S8kiNy/7yi53Vt53E9rIhFIppOMxGZRHOwc/YSLtUO0V7t+/Rbs3bObA1EYt9FTaMc7EoHkVvy0YAkVdw+yfXzw9Zc/UtY6gVy9ZhRxKsTB/UexedNmHOJgFh0TS2snrTnAhHNhxrZkWb//fima8n4O+570JHr0aEtRpdNXKDpVYpuexHbT0dHMNUpKfUFcjhLOrl98Pp9bpZ/jhmuvRP8+59RPP6hRqV2RzioFHECawxqtrlQ9xvCTrHLsEcNk5449eO75FykulYQbr73aMD/OVPk1dGmsFiKVWIU5r4PM7BHcpFdNXavLpmy8rc2HWV1ijvtKSt+66mnSZ7sEhnqiuIC6RjnlOxLWHMQ4fGHD5o1oltwScQkxZXOBI7lTOtjTRCFXB4cOHUAGRT/LJkymWErwl5p2tEyPyzmTI6mHsH3HVsycNRc33jDJAFTVQ2kWFhbjxx9+xsaNqxEdm+BYXDi/XfvzmJhQXPSbQTSAQAYfG7FZUgJ27t6FwpI+BOo2rqh9uqfzhuqrXxYB94ZNG43VtKaxx1ufk7Lqls3bDTa64PwxeDsjDUuXrcCQQQPKlHWPHj2Mrdu28trT6OppEvjss5mY+8U3SExIMBIDP3C+W83FyORJExDK3ftZs2bjs5mzaPEukrgmA2sJ/geSOelB/LRyxQruXO/k7qkP5+SuCKFM+wKK76anZ5DRGMVF1Wa89e4HaNOqJcZddikZonn4bM6XeI+KsE0iQ9CmZRK56ZnYsm0b0mlMo3vXLujWteE7VnIBc0ePjmUja3vpiy+/IqhKhDSUJfOtIFD10fRPKSPojg7t2plVvkRGcgnU16zfhIH9zjHxZHN8/74DpkN5c+UZQYstOyi33rZtMjpQwVFAMye3AP97/T0kt2qBQipq/rBkFUVc/HBuv660FtAc6zbuonztf5DLLSFxDDXoFfKDkGUVT4J0Ba269SV5cBZqSi77Isqkr6XlmB7dO5k8du85gM+pENqKHNiwEMuyjAWaNYyeuWADaZW5uqABT4OAJhZNMrrOzcnHDHI0Pv/8c5o0u54ybj2qe/2s3Pfh7oKA98xZswiaFyHu0vMoaqPFQwGWLl2OOA5a3bp2MBPuOtpNfuTR/yD9aBYSk+Jx+OBB1QrX3TiFq/YBbCNg06YdbNOnsffAftNe+wjgC6kMfMXll1NB90J88cVX3MJLZ3/KJ3dgBvvCACS3jMXMT+ewr7zFfueBqKho4xkvknZ+b7rlJpq36sKdDuD3t99OsJ5iFnYpbdvz/LZ6Beamh7GBa9vT1A/EKZ8z8yt8Mv1jXHP1JIwYcq7pz2el0X/NmVTZWJW+YqPNXWXEs0c5Zc++xc1CK1QqjhlXHMVWf7JDKVd8mzfvwDN0NtSiWSyum3IlJ3iKBZ6FoHFOG572eHe6WSodBef0xI2vjXiPxl1x8+s8aFxnwfJyiy2GlYTsuSBSUJ4qczELu2XnNiR1bGd0nfSsroLaX8Lt5ljDRAXaFX/5iuV03Decc2b5rvLhQ2lYvHgRC15EERinDlXDtKuKpjnbjeO5mBDKtwNB4oIvfiK9islsqT9gfpCMwReff4Vtl4u//PGuMotuznUQM3Ddxs3c2W2Bdq0T0KVTB3w9/3tsoxnG1i2TrKiskxhMl1w0Bh1SrHuhwePwt3/8H3eb9xMHteYCIJsYxp3fYhySEuPQJDwY6zdsJFMrBL169sAPCxaQHkXkthdy0bIf8YkJFIk5iDSKz0gcbcvmLWiWGI8mURFmfpRo7pU0GBHhMLGrZ39/6BHM++YHA8xLuaD3pcjw2DEjMXxQf8NFd65XQzx3AXNHq8i04BWXXsztlz34+JPPKPO7xoAhrbQ3bdmGI5SFuopKkq250ldI4LZIBEHS9BkzIac/avwlS5dxmyeH3rVCjSzbyOED6WzlIP77vzfRvVsXA6TViTdv2oJe3TvCjzLkBURXn0yfThGO1eTYR3IFuA4+5IJ7ERzKpGIIzX0tW7ofM2bM5oozHq3pkKXUDHbWQNG/b1926s14e9on2LBhK1f8nli1bq2Rs7rh2quczDHxizmOl6Q07J9qdXpBsoN798p7o9JUfuXByp0+zigzHx4eQJl3KrowWi63GWfOnIfZc+fipuumoE+vruUv1ccZy6RBuH3HFG7HxeK7+d9R230ozU96YteuXdiwbj2GDBvKQSGcQLKUFkSeZnx3PPb4P4x8/7HUo3jhpdfx2GNPIiG2KQeQpnjmmaeMp9Z7772bdtyT6OEyE//+93+Mac7+5/bHnVS4uedPfyGnvQ3u+P2t7BccfDbtxH9feRWxcQk0I/gHhFIOc/+evXjq6VcoB/gfPPjg/ewPiew/2ThEWb377vsTWrdphki6jK/vcOxYOpWW0516gKblikE9JDycehd+1hBUSIsMs2Z+yW/vI0yhjd0h5/ZrcKC8Yo+uWJ/GflUZ2OnbtIPOzR6I0z372dk8FnCsOHAgnTKxhQbUVC6zyqI28qGli7AwXzIyWGCinz27DhKUv8Bv0QLlzha36qL8hunhVBiRyZlUOhfXvMLN08hYSZVN3I5O6Tg4UhUEtu5UvG8BZEVyLp/jpVof7K/apKWM+MvLLEJGam6ZNRpZjTFFcRREh+z8XIJQzQW1zvIkL6je+lUXKtZawJj72gR7QcTeRfjpp8UUoRzLuYnio1y5rFq5FtkZ2XRWFcB4jgpUl3Qt7tspqcu0bJmEeflfG5EOI+9kP6xFeopq+w2pWMOKiVSZNG+K8fgsF615uTm4j3NUVDVW2lLTMvkt7cUf/nA7y1tq/AXM/WIe1nBObEWRLXvxIhOQCcQqdoglgA4JDaYDqTwjitKtW0cuhFbgP8+8QEeJzYzu2yBauvOmjkHXTimYQ4MU6VmFyMlMo0PCNEwafwVmzZlDmfb1lCDw4FyaRqt2w40k2q7dO1GQV4wXX3nd6k8kgMRjZHVuB/uYgjyr+rMNk5rFn4E+Z9eybo9l33fdJts4UxMX5c/33MWV1o/callHbvcBNiS53FwpBoeEGucU2l5RiI5uguunXIM5n3+DFSvZYSij1b1bV7MdlEewpNCEwP3aq6/Ax9Nnm86rgSAsNAg33TwVPbt3NtziQef2MavDVZSl2r6DJojYgSfThJFkxrW6HnhuX2ObfP3GTTh4+Aja02Omtr9iHVtNrVrE467bb8SHH88h936jyTeSph4vuegCyl+1NtdBwcFo2by5mbDMDcefsPBIJCUl1Yktcz9f2linmM+9f76PqYsrcPwwIAWQTA509973V8qoteKOQSHmfPolPvt0On5783Xo37enc/Hq7VzcpChuq/XhTsiMGTOwi1uNrZOTKE+3BumZWRg1ZoyZ2dZt3E6TX6tpu/0egmlvo5/gQSWvnuwH877+yjwrLCrgIm8lLp94NbqTC69NmLCIMPzlr3/BmjVraLM+iHLqljKYN1f1oVzUuXFg+ennRciiONJdd91DwG0NcuKWX3rpb/DvRx7FwoVLOPglcUB2x0UXX8aydufARrNl9UY1K+OY6Ej88MMCrFy1nBOyPU04ZmBea1eloJAKQqnHcPutv8N5o/uZhebcOd/gvXff4nbytRg1bHA916JS9vVN1ErFqetLe1IvT5eLZiETRyiHOtaZfEQV1zGoMlY87AyrOMpqRX5BER544CGOybRdIU6n3b3K4rsZJbCkpETc95e7OJYGUsSMO5CPPoGk5olm4R/O8bWugkigImRxi1y7nzoXhXTUT2DcWAcxMlq8IaBQi75UZVTHuOqmyisTRpIVEsUtX0xZbyqKzsrajxOQXlf7VTE8M+bJg6qiYLJX/gqONHPSS5BzNA+eZBypPRXsKGWFZWSJIxgdLDI23Gh2UcHmFevKkYW5X7s/smzCMYYp2G1jvc9UJSZSYuVil8nQhwy15twhD6XPkuUUIx02pB93NSOM/5AlS1agOR3ilRTnUAwixySldFU+u4ymvXmhtJS6832dKy+9UyE4CsChkCYLfSjemsuNBdmq8XKiV4U3TnrhxobJzLSAs4nsyMP5Re1jelOcNoLilloYKcqRw+l4+cX/Ijc7E38RKG9SNWNHIrtffT2P32AedtBgxEEyHHMpfupBRtti7tgP7N+bpm1pYpp0FqPK9qFil0W7/IY2rHSX9im0tvVb7kYsw7oNG/DiS/9FOypkXy3cQ+zSIqkFfqCp6DiKbMoiV4d2LbFmQyKWrVxJ5lc4mXn56NqlM2lmWRryDQhEk+hoo+9l1YrzN/XpwsMc3zor6s4VYoUyOROmAZ67gHmlRvEnt3osOaSjRw41E4G4LgLML//vdTzy+DMGQMqyiUISt2Juun6SGWTciLi82dkFvp2/LnFnpk6ZSDGFAjOZ+FOm2F5ZKo3AAD9ceP4IY9c8nxwhPXf+puLjoqiYMtFsfelD1rNbb5riNAhbC4AbWY4cioSIeyMta9mFtkP3Lh0hW+zlA7f1ZMTQ/iihQkXl+/Z7tTk252T4rwf/ShENa0Ivz708lUxuRUkjPTU9jTaFC/HRRzMx67PPcMst16N3r27lERvAmdrxggvG4v2P3seSJcu5yArHl199hc5du6NpbBMzAm/dstFY1nn9tVfx9juWXLcGYe2CeHhJeTeXA98Rtjt3WBJiycGzBm41TXx8OO+da/pL6tF8x4jOz5H5autd3mb9fPyp+xBfNtirnaJjosxuQ2p6Fk12clufuyoSc3G3B756pt2Vkydy8XCxxfwp6wT2iTVsSoP+6WdepjJWGjlVpfj007lUkH4fN9MSyzA6J2po4biJtaEV8HTKYzdNhTRoo9pGbnrOn/qsUUquEM8CfWeDPkHUm3j0kX+Y3PUdaFI+PrjxG/2GuiHfGfG/fXuP4MmnnqPzqma4YerVtEZVd6C8ct4ik4IBpCyaaCIAnEa59o2zZsKXHFlPL94gEDTENLGr/+NeZf3YBgRw8hlRwMW8b3wSWg8aTMX9QMNCF2i2oKeVrppQ5SprH6LHfFrDwBGKUtgFrr4IJ3xSzKEqpImfGdtUrey0YuTSaY4bAZwNyp0TYBQGerpgmTq2bYuVW7YaIBlGMYbKQUVjtLoNrLtDqqZSuqalMHjocKx98UUy2dZSdrk/d5+3kDN7GJMmTsKCH77hWFu15TK9rRlPCzCqj1Esld+ECl8T+jJeTm4W51+ekGhSbnbTNoJQfq2CG3yMv5LF3HHfwjmlqMr85SOlSVQM/nb/nwnAQwyn/Mknn+POb77xxxJdDShXUVJp1WQpfbiEUdxkEcV7bLHVgMBAHNh/GPsoCiNgbo3w/OuEP6yqsO0J2CWy8/2PS6gP54eLfzMaYwvPo+gKzUq/9z4dOO4hM7Et2qa0oLLmPCOiOaD/ACqP+iOJu8OrV6znt/0D4riTHRkeaPpIUmJzZFBK4aKxI3nP8nkhfat36TsmIT7Rytq0h/40nuAC5tW0lRjj/r4WedokJ9HZyWS8N+1D/Lx0hVE6kMiIHXx8ys+P64+MpM/sZA5zpCjqSUBdXXAGz87ndnzlEVDD9+13dKwqLefnNT335MIkmltWJwoZXIQEUTRHk86smV/gww8/5Cr9HvTu0elEr9XLM7VjIi3DnNOjF775+luuwJvQY+pO3Hr+xfDysaa/CO44aOF2+WWXcDDpwMlOLpY4rrJ++ZSRa968Ofbs2WEGECmrmPGB6Zo5l2g9m+Ib5f1IQ5o23axx2Y8WfMSFO5aRx0WBr3lX7+fRMpCAvq+Pu7UdzCf6x7eYLheGTF9p1FcIDw0hAAo5YfYh3MFRPyiibedPKUf/1FNP4/77/0iZ8oEnfM/18MxR4LiJVB8AEYdAlnCDh+m06mcVw9nqa9q5jIutaDWjYkmsq9iYaHgy7j5aT3rwoYeod9OZeis3cmy0Fs5VvXMm7jmwFnxJx6YUSwwkIvU28izi5h5Px6rKIC6oc2CLcHzR1+6GXI472aXUgmWabhxruEJ3jlp2rnfsoLbSLmU+dTkscUj7Sc2PMmvL7FFIJU9E+snyIr1+klOenotSKkt6nBBUqu5uaNOiDT6nFY1DVGyvCphXrHXNy2bF1NtVpKAGMZSznoouFm2088K+lRBNp30dMP+776k/1Anfff8Td8WjKWrSDAt+lBU05yWPlZP9VxJTWXSu9Nqr7+PCCy8kpzfI7LSfbPGjT+xnGnyIIqNH86cG7hqu2+yszVHfxqRxF+NimlkuoZkeN360pp2cYrmzXb786gu88PLrZCQW8FdMj58v4OjhQ9yBfYigmou7E4QFC2UeGLiOTt+6kMlnh0OHjuD+Bx6nYYPtlClvxQoUm3nIKGXZkXhUn9XiTPXbRkbnT3R6mJU7gQYQ4o0enkRjpNul7iUZ8WNk3snQwqjh0tNyR9vWrTC95FNKMqzirupUk7Lab8yoUfjP08/irWnTMXrUSONc8ZOPZ3CnbDP69u9rxRM9qugS5mED/VP119xAC1ufxWrbugX+ft/d9VmERp+3vg1Zivn4w/dwJD0Vf6AToV7dOjTYenlxm3XYsGF44tHH8O5bb1PWMAQdOrTi4KHBD1RU6YbopnE0/3QYYy9sTmWmIOTQ3Oa09z7CN/O/x1/vv58DewtyueMwf/5PGDCgP+XWo4yCzUsvvUZxlEX4B8FDdAQnOI7uGRyM8nPFWfNAx86d8cEnn+DN19/A1KmTKG7ki2NUEJ0zdx53C33RleIyGuo0OKksjSloItT8/S3FffLpXOu+P9/pAuX11YD8KI1ZO+f8ydnyonFqd+7KlHKBKCkA7uVDy0M3zaxnC407l6mG5xJj2LVzG0H5P2kNqw1uvmFK/YByfZOkmx93VZtNJZBwBgbO59XWq5pIWikx+JR6IJTtIPBXxHwUuybDgBm7mMRxCzGTag3+KCP+KLDABQEBaXoxueXcITRMWnWMqstdahYl6mtuiG8aj45tUvDF3K/RIvlqAjJ5DuWrrEDVb9egXGVRmAJRmKikNEUTMTIMLCRoVAnFObfXD27s6xo/vTnWD6AFqFXLV3F++ozii3tx6SUXU0dLZSslV1l88RMEcqkD/L0oengXlf4HYtKkS83O9QneIBce1DfbhuSmLcig8eYai/MK5wF9YrUNArSBlI23QtUfqERr1f4HDh3kjuXTXKTl48F//uWkoDyfDKTDFHmJo75TYrNmFYom8d9e9DK+efMW0nw45ylvWloJ5OK4vAwqlRQ0ZTVOunOjzxtMyzlp+OCDd1nXUuoZ+WHs2POM0Q0lnsQ8YrkID6BceKhjlyuRFnySWyQZ3y6tWsSVlaFju1aUWpiCT6jr98Rjj7Ktafqa4i8TJ16OlolWPF/qDwaHBlg6J2VvNuwTFzBv2O3ziyqdPtASylyvpwjIg/+4D/169zDyog2xkhobxQnpTkUVyf2vWrUKF196OVf4Tc2gr7p402vabZSTfuyxx7Bz23a04MCxZ/9+xl2DESPH8Lqpkfu+8YYb8NgTT+Jvf6W3Qa78pWG+ePESDBk6FPGxYZwsSgnem2LJzwvwd2qvn0ubroMG9qL5p8vw+htvYxvpFUn5fSkm76Fm+9Sp19PsU3vayW+IlDt5mVRfWUPYTdn9P91zB4YOGXTyl1wxziwFnFlKQgZph7D5tZeQnpcDN3Jjc+m0JSaWFqmE0vVxlM+7Z7ZctUxdnLk0OhEZPnI4fnfzDRQVrNonRS2TrVV0gT4b+AkZEgdWCJWvKzx0XGj3rOpA+jOouQTK8/gjvpN/nyqbRHnZ+VXEe9WlzxdqELQ+yJNMeRo9fUpWvGLix6VgP1e38aGY39BBA/ECRQBfe20aLrv4AoRSEVwg+XSDdJtSUw9j145DBuxK9ys01I8iFCXcoSvEpm37DWCXEYLoaEv0QfmKRs1bJiCJyogLf/6JcuYJFKVo7uA8l+9x2LSsXM5AgsgpV40j170LxTWfotJ+PMVhye3lTnhV74j6mid2bNuJEf2GsbV5R5qyzt9h5UxO81o6a2lHj+LZZ55BAHevH7j/LzT/fOJdbmUpM8sXXShly1JaeasoeiQgfunFoyiSQ4Vegn6JAA8Z3N/o3NnFlU7IddS186IDRS0gZHJanHeZMSyhaIucH4ZR5NfsGvClEFqSk0EESRGEOe2+XnXVBC6QiixZdkfiWmB279KBlmJoXpi7yaK1H5lYSk95KfShF/VOtAIUGl61/LwVq2H9dQHzhtUev+jS6CNK5DbVhCsuR59zupnVe0OusHgkkTR5OfY3F1L2cBWGDh1E5Rl63uN9m38yZGg/I1Iym1rjmzdvgx+BwC233IyRo4bAmxZHxCgaOLgP7wdgxqef0ZnUdmN15+abb8ToMSMp0kGTmOTIXENRKQ1IR2iLPCOT3El/X1zFe9ExTfANt3130WxUKB0xjB8/Hv0G9GI5yMnhZNhvwADj8VU8oTIw0JCJyrKxG1BOPxJD77rdgHIN3K5QewoIC9UJ5dhHzSTGo8EFlHX15YQb3ZEOtKj0rh2OYso0Z4TGo5BeK5XvSXBY7StTR2/IN8PYsaNpA/+aegHldjUK2ccrtA1pawD7KdJOaQln6GeYzzyRx02NQ0y62qBnVbfVid6qNrmyB24E4zmpObTFraWQftXl43jFBpwkgkQTEmLjMI66KA899RTm0u70sBFDaJ2jKyVyvBGfEE/P17VYULEqGlP08/UNNIYbtmzdaUBfMLmnV1+lHUcfY6bvhZdf4y5dPrmxgRg/7kK4U4TEh9xqvezPMbdP717YuWsPep3Tg4qGYQSCJRxrA6o1kCDa2u1cyo+oS9c2mHrNVXjrnWm0VNKcIo6JVqOVUc46yaO891dfzqdyYxgNM7QypphNi3C1ZYkmVnqhDi61c5BBSyeRYZ3wT8qZhzqB3hMlL1GZE1kykliifgo2h7tyehH0EeMcAjhP6ldVUF+KpjnqyiGCvmCqCpo/jPhkNfU5UV5VpdcQ7rmAeUNohV9JGWSD9OrJ49GEH6mzAmxDq7490Kpc7pzor7p6Aq7ChLJiagA1cTiCeHEbdhjl4AaRSyAFX19aZ3Enq11ARwOMiUv5xHM46fQ4p6uxhS7nEgLWCtpu1YDern0y2nW4x9yz//gHeuPiyy7AmAvP52RSwG1VbgXKsoMSZqD5e8oJPmpdNKK/An2Txl9GrXn2Axcor7OWs/tb5QSru2/Hk3iKN3eySmkurVSee/KyUegTgsJmnVAQFo0C9tFi9tEcDz+CQc9qgJ6dWv0eO3dqj86dO5CrVvUkfjZKZy+Q9e0rmM/V8c1ad2r2135fsW0AqGTEKbeDJnDnePb9M300HHAhPQblf7IylBKYC5tLD6eUoN6T/cyHA1g4FQZHjBxG5335eOutj43YyeTJk9C5SwuTdk3+2OTw83XD+AmXooi6OUaSn/1avkgiIoIx6nwCfzI0ZB9bnGOZ5pO4xLDhVMBnNTQmaU7q1bMLLaKFUuY8lu8yZY5PI0cOoSK/ZZVF5XGuq/NcoXbR2D/g3F70K7KGpl8/xV133syx3jmWlcDqFeuwj6YHL7/wEvh7EaCaRrWsjNSkzqcSx4NOf84lI+cPd9xWY1B+Kvm43jl9CriA+enT0JVCDSmgQbKqlXANX2/Q0TwJmIOCfIz8oj0Mm8nUMWtoMJfL6kCCbQU900QlLo+J4ohnHlb640Ob7z40pegcBOj1bmMMAuNNIo/niDTGutRnme1+ZpfBBgx2t7CvddQ9HS0o5XhDN5WIWxG8jhzA0v/7B8VWaOSD28VFXoHIcPdBPjttPj36UNWY7/MFO3FHEg3tcCLO3tkqq77rsonVQXhnstntcqLyVGgnR0TTVE4v6dpwz3lSVXxFVb6KV91zxTkrwRg0d5SCwFgy29/NX4BW9JI8cdJlpgjyii3fEIFBFce6k5bPQVxOL+hIU3wKGhslSy5srbEyLDjJEIMMcAPEyU+BJAHDI0LMDqh5h3/8A7zpw6I1AbwNwN3QrHm8HptwsrZTDQXoR40egX/84990LrcVHToml382LNTOnfvw7NMvoU/3XmibnOKQXik5423UpVNbPPzg/ZyDTqzo6aiq61CPFCgbP+qxDK6sXRT4xVDAnggMaNYo7pg0NDnaQYO3Dcrteyc7VgbijRWUn6yeruc1o4AD4hwX2bmfqes5Awlda59GfU/BxGVCsuRQVOKF4KgkuBOxaAHt4ReGgqAQFFC0oIgLKS8Hm9aWFTY4y0rG9bcKCojWAs35mdlI3UWxClpD8eRHK5NxNQ0lNrGdXlCaaopirqC8g2kBibop8HGDEZ1Rpg052DLU7ICpdMS2bds23Pin27nz52VAqX2sOYXKK2uPj9qA07kC8X/ZYlTMfT2TtTWNyaKhtWdpopph2vGauWHHs57ylRrS1nxbjCtnVkFBAVhH84Xt2rbkN0UlUya2bMlavP6/t9G2RQpGDB7OHVAyargYORtBuwT6uULDp4ALmDf8NnKVsJFRwB7E7WPl4puJp4YDvf1udWnZz13HXxcFTB+qVGWBAgO8dZ/nx/UZ3bOVIxxxxFZ05y8vIAJRfUfDnaIFpVxdFhNEpXv4EzAJlAvLSBSBti2qyrhSOVyXjgUR6b2Pyn3T/v1/cM/OgrfoTxoKMJ4sUHSbSPL45ZcXEWYJEWY2Zf6b9RuIS66bCi+KzynoHWewaW42mD+OSrOMtHFCu9ipdNyXjbZtE8v0dZy7Zm2L7dzXnc+VjsHizv22Ev1F6spB9xStclqV41W+tuMXcwHWpVNH7Nm9g6I7RVRIzserL7+B+V9/h5FDRlBJchRCAoKN0qyKZsmVK8eqSlM5F9f1L50CLmB+mi2swVDKe5Jbc4VfJgVq07KuYfWX2QcaSq3sviiuoI01PAWcaUO6mObPcumlWJKq+RkUC6CsbSZNbObTg2wx77lRT+HYrl0ozjxmqiMziR75OfDbshbuUc1RRKCQRxEWgYQSPiuVTWRb01AY0c68oRCjgZZDMuZSzNQiJqlTO9z96hsEYFzYSD+kLoI9yCgPpkuDI0axtI5Sr4sSnjANWSCRj4ZwWs7wcnCST/jCaT60wXJtkjmVd5zTFx5ISIjDUnpwfuWFt7CSXkWL84sw6dJx9HDdH34STeSCWLSgJXXrVe2mSODdvnZO0HX+q6KAC5jXoLkLOIj8sGARtcUT0LplknkjKzsHi35egr37Dhovc/Lg2Sa5FTkAbSgP3DC2i1avWYf1m7agL80FxTeNrUFNXVEqU0CTnX4aL2k1CoWOo+7pXFukmhx9HTZkdc+8ozGW4+3pDvDO5bHnY+d7rvMzRwE2peEWq0VFe5v+al9x99jEZUFx7aD7Bs/yqC1zPdM90y+YiIBb5ff5uELQO8pP7ygtDdTiiOvaBJ4XUyb36KZt2LNiBTzJgSw5lkFvfkc43xcjk16AaVwFbt5+KJCN5NAIhIQ2gS+BkI8HXWczaHPdw7cJgvu2gHdMMxT6BlGkhe7uTWEJGoxclpWvuOgqjyuUU0BtRB+atKDkQ2siahk5drGe60rtXMCfG6cDeU21G8+IO1jRqv2rdysHc8upERSnhH90y4wzTs8qv2tfV5Gs/eiMHm1b+epb8m7pSWVLzaFmccicVS7RU7Spqu4nKlwNqn2i182zukjDORMB84gwf+yidZhOLdpj7IgxSGndGmGB1ren7Q1JKhlOuV1pFyh3JuGv+twFzGvQ/Gl0rvHpzDnUsL7DDIIHDx3F22+/hy3bttPofhwBWAmOHTuG73/4Ab17n2NcuQfT9FJtgwYH2QqVWcETATrFO9kAK7C4bOUGbNq8CQMH9KttUVzxHTQWnc1cyz9FpGl2VjY2bNxH04ib4E37zh06t0fzpKZsDw/ayQW2bd2H4LAgmpcKghSMBMBcofFTwACHamZv+1vU4zJREkeVy/qP49pOwoHfyghj0nB82FrQCYwrjn5yc16UTVfqBNtFB48g48hRzPhkOvbvP4TgwiLE+nsjlnaU/SjS0Dm5DYLpCMQtWFZJaK6Tpt5KaNdXFlVKPOVZmPLjDvRYzEFG1is02BTQrnMurTYIHFnBUSseaguU7BR+DUc1mZeXkDcXNNUgbtFPtsbLgoO0Zde1OXG8a7eTNmp1y9F1jkvJfnbcg7N9w6BQq9cXs4MHBFMBkcc1K7ehU/c2jkG2fF5TfRpbsGrnKDUrkJdbghR+j2NGjEZQAD1eOyZ17bBX6CplH1hjrHVja6XGUV4XMD9JOwngrtuwjVrahXQGE4nDR9Lw5pvTcPjoEVwx7nI6eunECdGH16mY9803+P77BfD39ccFY0dxwCzFqjVraZYplkb1m5TlJGP86zZsRFJiAk0zWQb+swj41m3YTNm7THrC8kFUk3C6oW1pQLqM6m+lrGJ+YSE5s97kiqUaw/upx9LJwW/usGNtJX/sWCaB4xZ6HQvAzh37aEs1GVH0+OUKp0YBDZVGcYgz3K7dB/D44y9h3fr1XJA15WKMYgKv5+PKyRPoDnkk47nhnw/+H7rRI+hN101GscwEuEKjpYDzRKtvWXZJFGwOtnPF7IHUxGBfsedaXdvgyPQlXqhXePJC4ErxNEmbnqIICnxg5L7J/d65bTuVB/dj77IV8KG3PG96h43kzt2AqFh4degGn5Ao+EfFwDusCT1AetIMnSe96zJNgu9i5iyRiiKeFxLBGRBuSqMSWWDOBnjiZLoWkYYsp/1HzehMy4r96LSTNwkoTbWiDfDs/lY3qZ+5VFRmfT+hXDjGxMRgxvTpaNPu95yvKCfPh42lHiejUAknjTVrN3EejzF20gXKDSDn0W6zk6Xhev7rpYA9n/x6KXCSmsvu6eKfl6JXr3NMzOUr1xL4bsSUa65Eb9qllrMEBXnQuuTCsVRoycUX8+YhpU1rtGiegA8++oQueocYM4HihCscpfetN958CxPHX2GA+aGjaXjlv69i794DiIxsQoBXgmwqC503bAiGDxuIfGr0f0mlkR07dxqg7u8XgJ49umP23C8wbPAA/OaCkWX2oNeu24Q33vmI3tQupItgb+bdTwwxVzgdCmjCYJssXLiSi6f1+BudM7RNjsMxtvVLL7+Bae9/iGFspwMHDmPvnr3GydCPi5ajWXwc3QsTQLGLZJDbuXX7Hj7fxXYJQByfxTXloE175vnkem7ZtJ0OFwJp89aL5rR2s/8kUwaTJusy8rFj927spc1bb7pHb96iJd+jbCZdG7va9XQatWbvCrhKAVJgufDoYRSkZ8M9wMuhU8JJljbqhSg02XINb7mv5x2BM/0M8OWJYlFk23holAKmRg1xO9WvSrnVUpRPrnhWFkqzM7Bz1QocXb4S7pnpyMrMRb5bMMLiWyCp+0A6XgmBn5z+0HtiEe0flxCI55HbneXuZYC4xhjHkFQGDlWG6qyomPLxuSvULQXU9mpzgdCyRZdu6leTcLIxW8/50wKgUYFZ1l/jVpB/IF2zj8DT/30RK5auxYABXY35QpFGJKL4tTF1qOv6DmRwmzLrW1FbqnxVBcVTUP1yswqwatlKjDh3CHdUPA0oNw8ZSX1CIm6u4KJAdRRwAfPqKOO4r23KW387lWIJdK3Lj2onwbHAU4eO7ctAuZ2ELznnXbt0woIfF1LMZSuaJyWgoLAAhQT3zqGYk3Fefj6VdqifToOps+fMxb59+zFp0kR06tCermVzMZP3vpg3H3IRLACXRy77kUNHcP7YMQTl3egxLBAb1m/EkmXLMOq8IXQ+44sCAvgly9YiiouEgef2pFhNN3LvG4a8u3P9G9u5AFQO2ZBHDh82W5Ix0VFcQEUgnJsgt958vfH4KWWmOXM+RzrlfNUm6RnH0KNrV9x04xRs2bsfb707DWtWrzYOiLJzKZbAcM2Vk3A+nVdol+PZ519CPvuEAWocuO+5507u0hTjLYpMzf/xBwT7h3CxlmvEaSaMuxQX0EWyr6ttz2hX0kQskFtMN/Q+9Ci4fNZHOLRmGSKiI+g9LwLetAccltQc7nScVULzdV6U5abVQXhS5tjLi96fnEIhIbrGDyliluZIMZNH9plCftP7uPA6sOcADh46TCdV2Qjx80NzmipMbN4BQeSM+zZthaLASOR4+1MkhSCcsL6EXHBuiJscVM5CIX0Gc3BM+i7QbdHkbP8VPlMTqC1Kj2XjyK7dxkMmO8BpF0XpKhU5JXPjHBBGL5nFkv93tPlpZ3DGErAKqH0ba5vIDcnJrTF4QH+8/96HiGkaifikOGNWUEUQuBW5dKzPUFYGlsUspGtQGCnjzp/3LUXQSrlj3YLvWR+nFu8C5aqSB4/Ouyo1SNYV5VdEARcwr0Fj+xOIK2hizaF3vPDwUPg7PDdWfj2ySRN4U9YzM0vWEfQR8qM8btTUqKPP041yogfphIC2Ttu1Q4/unalgSNfAtOt6wQWj8dNPC8kl34dYAsF8TuJxHISHDh2EsCA/U5YePTrh3WkfYNmKVejXpxfSyV1bu34Nbrv1em5pU8HGzxoQKpfRdV07CqilfMihbpWchPc//ARPPfMi3TyPR3KrFogiSIvmT9Yrxo+/FN/O/wGdunbENfQWGhocjGLaqH3plVexdt06TLjiMvTs1Y1c0Gx88PF0PPf8i1x4NUdsTAT7SyaOUHb44kt+g55du6BpdCRef3saXn/rbfz13j+hS+cOKCRw//DjWXj5lVfoUtoPo0cPrveJq3aUbHyxBW5LyZVu06krWod4oTTzADyOHUHm6jVIzcvBXmPxpJQLcAJlcq7ziCQKfPypVOlH5WC+rU+QM7I8H5ZQHM6Liyu/giJ404KKB9VQvCn3HdYkGu1iE9ChTWf4RdOZSVAoPDz96HXWh4Cbst8cEwooLy574qUcN4qZpsplf906rxyquqc4J3qnchqu65pTQGNE5aDJ9TCt4Cx48jH4kznD3sPOVDlWba71svqSG/sZPWe27YxBN9wAj2AuCPXEmlJMgsdNObXJ5kzEdS6QzlkVbzqvGkHTgakff4g//+nvuHz8OO48DoYnOczqqBs3bOUOVAmZVclWnc5EuU6SpooqQL1x8x56ywxEkyjLo6z9HTm/rri6v4dz9mefzMQ5XXshNira1FVpKKiJFByX1oXrr4sClSjgAuaVCHKyS28CtLS0NHK7SzjQHh8yyCktpkx4cJC/+QiLuXwupCkz5yB5Mzdy4QoowpBLTnhaejoOk1v2+zvWkzNeQNBFF718O59uigXYimheQR92ZHg4QgnIFLRl3aVLB3w572ssXroMvXv1wOeff0VObhiaJdDphCvUMQXc0L17V0ycOA6fzZzNtvoTvVeGY/iIobj0ovPoQS6MMpMRFEfxNVz1uNimXKB5YD3lDBcvWUZxo1EYP+43BFwedDQCJMTH49rrb8E7772Pu26/wex2tCR3ZdyllyCEnu/27T/A9vwSQwYPwuDB/czujLgt548aikU/fc/fYj7rC29yZzXYVzVR1DEBfrXJSVbbjRZNAoL6wK84n/LfBYgU6OaOlybYQup+5B44gAyKusj0WT653rl5ufxmLRCldlOQknhoUBAVMn0RSiDuxwU+UQjblpCNnPA8KmjmcxFQTMAi8RnlawNsG4ybxraSK3vmuDQHO77zPefzkz13jus6rwkFpPZdMdjfo0SbIlOo/Pf4M2xNG5LVTQvQ/gutvbizLxGU20lXLEbDvHIC6O48D6OJzikTJmEFdxNnz5yHuZ98jvCoEILgYCxduQ6jxoxGcstm3BG2bLXXtFKisj47uy30nmbhym2l+ycKGldzcwrx8L8epd7YCFx08WgjslbWnE4v6zuXudJ3XnsX0RHRGNR/IPNjyzs1UEUk4PSy69RFAScKuIC5EzFOdiow3Ipc0sWLF5MzvQndu3Ss8EoBJ+j1GzZQ/tcbiVTQUnxvTsLptOoiJVK56lUooF/gYv60xeXn529kjiMTIzB0yCA+ZRzGddO+GcF7bGwMud8yyiVTXG7IpUiFza0PDgxCp44d8c2332HR0lVYumwp+pJzLpEaV6gbCqjFNMCzCTjYBuK6ay7HhWPPwypyTL/8aj7eoYjKipWr8OhD98Gb4kRu3KmwgxZTR1LTuNjKRxL7gxdBuZpVjt78aV6zQ/t22Lp1OwEbOaEUQJab+qAAq+1yuUDLpsjD2rUbcMMNdzgmdoo+cdF3lDoJEoWSW2vFLs/Rztl1rEsKCBTLhuAxOtzJIptbl4RF7BfqGaJ/KfyDYxCrzlJSQL8wWkhbz8pwCE+M+UF+04Vs7xweU2nVRwDLCuSEl52b7EzqdQPjHFm4DmeAAlo8Ce7Z7ViehXQKPAiePagP4Ogq5Q9P80xTiUCePH46B/U6Jxzo/KgBnvObYIF9PLxxTpceaJ/SjvPnRuw/tBdpGekI9vFElw5tjLUh8zlVqmt1FVJc0YHTrwm6ts+re6e6+0riyOFDyKTSdUR4BMdqR1omg/K3+MnT2MJePP/0K8hJO4Ybr7neKLjWdbuX5+g6+yVTwAXMa9m6banUGRQUiOkzZlCEIQpxMdFlH/1PVBL9+ptvKWfeDe3btTGmD9u0bo1ltKhw2UWjCe4s0LVh41bmyu1pcswjaJUlPDwSedwSb0F58ogwa6tM8uXf/7gA4y6/BEGBTY28cXFpUQUQ5k6U1717N8MplwKi5Ffbt01hPrXlC9SSCL+i6Bp/xfnSLzOzyEwksTGhCA/tj6EDe+Od92fhqaefx6btuwm0kyluUq5PIFAmE3YC61k5OQaUU2ycaVEBiOyVDIq0+NDRhBSdtIiTOUblpyAXzuojiQnNcN55w82078E4spEv2fOomDijV2AwI2Pq6ApnhgIGHJPAmqSLSWl7kpdYiUwP636BF80Q8uhW6s3Ju1iGCk2jaBFmwLmAuYpn/sh8niWSolsKum3a3u4AvHaBclGmcQa77UzbqwqOdj/d2tjpVk6nsY74Rk/C0ef9PX3RrVNn7h51pl5WIT785CO88uKruKfJH5GYFGbG4JrQUTSXqUJ5XvIPOH0l+ayMTKTTYMPbb77Pb9sDiYmJSGwWZZg1+XnF2H8gFV9++SW+mv0FmjVNwC033Iyo0EiOBRRk5WBRPqpXbjXXtYsCVVPABcyrpku1d+Wo54brr8Nrb7yJfzzwINqmpFBGOAYbN23C5q1b0aVjJ0yeeIXhcvMbpuWWc7Bo0WL84U9/o/OhtlT0y6CYwn6TvpT9/LlFd+lFF+CFl1/FI489QznzbjhMJcMVdBrSOjkZMeSiahvUnRy28OBwuFcC3fGxUYyXgoX0MNaaljzk4MgV6pYC4pKI6y0LLJs2bMK9995NhVzKlUsBjyINAmKBVAAUlg4gJ/wYuT1uJYV0we1Ok5iJFFuJwbffLcSgQf3RNCaKOyZFWL58I7nh63H91CkGVOfznhfbVhx1zVMhIcFow0VgOk3k9aFcelxMOBWFaRnm5+V44633MHjIcHTtxsUfI+sdVzizFKgAiBxAwuTINtellmP6aYFFUym0C260S8q5l5XaSO9osecKjZsCzs0qHSQF3XMGynacumhudrfjFmy6p6B89HMXy5x90FoR6kkDDVqsUofCDp6O8xKudt2pTzHmvPOx77X/4rGHH8Mf/3wnouIcznn4gr04tt91PuZml+IfDz6MVjS+MGXKeCM+qOflOTnHPvF5EXeo58/7Ef1796MDwTZ49bmXkEvHXhrzg4KDcIxiqO4eXoiOjMLUCVcZu+UB/hRX064ZBw0XKD8xfV1Pq6aAC5hXTZcT3m1HAPy7W2/GGtoo30JRhAMHDyIsLAy+PrTGQI6mFDgV9De5ZQJuvul6rGbc1NRUY/966JCBfG8rxWJamnitKEN343VXUYlzNbZs2Uxw54/zzz8fvbp3osx4OLnp+ehMsZmwsHAD/sxLjj+yGtO5cycsp4m1cZdd7gJpzsSpq3M2pDjfffv0xPzvfsSDlDfsfU5PTh5umDlrLs4bcR7dL8cYjfsmTSKwevU6vPb2h0jh7kWf3l1x7dVX4/Enn8H9f3sEnTp1MgrEX331LbpRybN//96mo3hTtpgjfFmJgznoT54wzkwwD/zfE+wLUhpNx/z533Oi8aJCVBuHt8GyV+r2hCjCBfhrTlIBdwEkboiUEc6c67qacCKQZS8EqopTTXKu22eZAjYgtrM1ugRqOP68rCnAflR3R6YrgG8rE5YlrPz4QGBQAlLGVdRxkcpiN8gTe3dBS1rpYwRR/nzqNVNo4GAaHvzbv3DxpHE4p3cX7hSWj5NVVcTXzw2dO7TF53O+wJgxwxETF22+zarinuyerKX9/PNiXDPxKrRt1Rrd2nekCdtjFE9Ng3yPhIaGmvk6MbEZfDx9KLJKuX+2gZsWRqalTpaD67mLAsdTwAXMj6dJje7EU/Y7lk6DBg3obwYRacovod3SGTNm4g1a05hICx3+NHsm+fCO7ZK5km5ulDjFFZDWeecOKQRW1gAjgJfcqjltXidQbrjQcGIFuO3nPpQZHzl8EIESFY0qzQaSOd6ybRskMtOxXYsalf3XEMlwp05zcjQTIIklPT9vtlGvnh1wz923YeZnczDv6/m0KR2IIYPOpSWVMfCj5R5GwxVXjMN7739EL7ALUJBfaPQQBg/uY8D0u9M+wlcUUfKhDsLAgf0w5eqJZuElBd8EOpuK4u6IVnPiBkkfoVfPTvjn3+/H2+9Mw/RP51Bm0Y/We1IwYcIEtExOsJrRLmQdNKr6sII9QdZBkr+oJPTpqY2rC5WfnSx+5XQUXy1g+m7lh67rBkoBtVYxvNn4nlkZyNm5A6XUKypnz56N1lSvsb5dyrmhYN9uhHFq0UKhXLCugZLPuVim81uiH5onZfQgLCgMk8eN55g6Dc8/+TyWL+uDEZwL4+P/v70vf47rys77uhu9AI0dIPYd4AKCEjdRIsVFlERKGo1G69ilkTJTdhw7dpUrleQPSFxJlaucpfKDKy67Ejvl2Bl7xrNKM5I12kfkiIREghQXkAQBcAMBAiAAYulGo7d853Y30ABBCpCwvG6cSza633t3/e5793333HPPKUY2VUrtjCdSaVmtiHBFcZy+ALo6r+LTT47iOk0bHzt6Ct964RA3yd6fzCdXI/F7gqqGb7/5K6yvX4/Gmno4uQReSkdeoqaCKsaiVF+eVpZs3s2iumJ6Yu5AkMhQvxWBBSKgxHyBQM0XTXS5k/W59+7exXQON2cAACyXSURBVA1+bly41Ikr1/qweWO9SWY2gVKS7kqy4+LicXKYjjPnvMSRh91Foj5f6B24TU+UZ/GNZ54xjgzmi7M2zsUHxfhysoh7ReIrJFOGz0RY7GtS4osgW15wGbTIs2/fduzdS2cYQSHP/MQzl41eEh7a1WI+saOZv4cO7aYqy27qqU9yQ3AGJ22xR0+4sCczD//9v/2H6ciJOjr5Mnn44WbuI/gT6qNPUtXFhuxst4mXiJN4H08n/oo/pPrxJnzFHNZGMunuhbx3k++5eyEzN5+5x5JuvnP3yk/PrzQC7B0OMqJ33FBbi4zO07j+5/+FqmocHOK2q5e8RomHdHoAkBI49sXLk+FPbJy3NGzj2CSklTbvkytxL09TyXFW8LdI+GeHhLv6KN+WfIo48BbQh8Mf/u7v40zHebz30fv4s//4pyivqsAW+vwoWldMffSoIeTjY2NUNbyIMUq0mxrq0HCoGm/QwZ+sYh9+Zh+ducUsu8TlD3OLNQIRgVWe3RHan//R93+G1o+O4Q/+5e/Dyw28NkrDJZgukD+mD+QHz8f7I9Y98QOJrEER+AoIKDH/CqDdK4l4Ad29axulpFtI2mIP8b3iLtX5U21fkJB7OAlo5MASGxaWKu9Uyse0nOOhDImCQwk30Y5Q/88mirzy8ow3RuIlfi+0fXfFZyYUeptw17X7ZEojHFRHojRNgiRcYHfJBKAg30MCMJNmgUmlpAUF3wQd3vAFZzNSoFgSWQlfy9LzxBOc4A6J74UA+mX3WSLv5LwWk39yOv29OgiISUt5KKdsTmw89Bxsu/fwkZZeZO+vKAEW+m3ktiyaDy3Hu6AnH0G+F1L9npLnJMpJh4zgD2xspuS6jpauhtA/cAu3+Dlx9Dj3cUSNEYXSdWV47snD3PNVgTyqmCASQmXpJ/i7//1/uOoZpuT8SaO7nrhbkrGZfh75vvCN+/D9//uP+PxIK7776uucdNURUtYgMYtY0b5N1Fa/1xICSsyXuLeFG4ut85UKYu/1uWef5k5xWVtbw0FIqwR2gJgv27r1AXxO++77qBdezo2Tcl6IrRAm6aNEdJPmK/z5KulN+VIBBkkvn+kXgpz8kiD1ToTkvBLnFvot2UjZ8mKS8sUJ0se/bkWATlA20BufMbf2VRrIvNIpTN8ncSwEq+SX+WLaKqZUOfMx3kFFuvlV81lMmRp3+RGQiWyIy2UT3nyaS82NCcr5AMXW75a//JkS5CYVtYqEAyqa5Zy5mLK/zHNCsiwLAmIPPJOWW6ppkaq6vJKDl0xGorRqRVtJ9LxrpAhMIM+pCGdsNMP4xL6DRhXxpz/4CTfq2/HgtmasW5eHTG7Wd9KUZWKYC9FCmjh+67p0DT+j87e+G7149eXfprnGrQa7qAh4NCgCK4TAyjHIFWrQWivm4P49a63J87c3wTZ5VUjrd7/7PfzNX/0l/uQ//Ve8RC+qTxzeb1RBDDOfP4dlP5tMrOV3Es9edNnJeS0ksWAigcI0eX+byQkF8dzINIm/+Iu/RuvJL/DNF19EaWUlX3Txyq3xd1FYbCHyMzw8ym9u5aTELIMvey835oqVpOQeFDKQCIZMxA9iljqitMJzEiNDt7F7zz46GcqdFqgm0iWnSeSzmO+EMC85zYIFe1KJ+MqSfAsBWnDa5ALX4G9ZZYpJUu20xCNA8qGRhyyuWrJikJgHPPbACjmfsY+fHg+xPIoyaIlOuQSZgogEQY4cUap5xpf3zIIBz8ntHCVxd9pdePzAQdQ1NOLs+XP4H++8bXyLlJeXo6K63KxsizOwvp5e9PTchI8+Rx7ZuRuvPv/bXHUthoNliEQ+eeVQytCgCCwnAkrMlxNdzXvFEJCxUjinLHnKAJ5P2/D/+o//GL/+1T/jP//pn+GHP/4Z/v2//Te0ilPGTZsuWs6JSUtMOkmY5kGIPPdGUcgUxeRUBIODo7jc0YE//59/RYdHUfzuH/4BNm3ZBnuGeBKMrS7wnbQoiX66QegguRqk/eKf/OynuH6ji5t2CQgZa3ZeAX0V7KS5yl3wZmbf1ewE2ZYLIrkT02p9fTfR2dWObdt3IpqbO5OGWfI/mUT8lDmYubyQX1KemSfMiSxcLZHtnEuzDicm7uCHP/wn5LFeL7/ybfJKSl3lwdDw5QhwRmTnPRHrNqGL8dWQVcEvXgveEPNN1L68MRaPMT1b5NQjiSnL/R9JOk7c8zGu7oDb7sam2vXYWF2Px/cfwKeftdJJ4EluED2GKdpLd9HKVU1FJaXrj9GK1l64aP5QNtFm8KGKmIlXfCLAcmxiA1neMRoUgWVEQIn5MoKrWa8sAtNjM4lFkAOol3bfn37hZdTTzvuFC+fxl3/9N9wYNE4LOE14YNN6bNhQh4b1DXDTOYy8WRMDutRaBnshNpKn/DZEhb9jrz4ZoPlJHEiCFQxST6mThMRvqWuiPlKtWa8OHgz0jxhb+510hNR2+gwtxkzBSfOer7z2Olq4iSorv5Cu4PkiYlzJS0KijNjR2vorxCbMTg5yI18o6ENtbakh4/R+gus3+9D62W/47o5wMzDdbttjw6hs+hujDXvBLycrG25aZRLhqdw74fAUO0i2EIuNZn5RAC+S1rGxUUxNTRkpXq5I0hlX+jQw6TPOizxZWUnAU5854DOb3bz0GCyeg8Xm89jEOPMImDxyvF74fJMsM0rHZF5Eg2F6Cw4gk5sigtS5HWd5Tk6+snNyzObAEEuTTXOByXH4aWbuzp0hWoOiN2Lmr2EhCMQGgfgjY/oulipxZiF5LG2cGClfvfKXtjVzc1tcuwQL41GAz5zD7kSBtwDPPvE0njrwJCb8PgorIsZpm9fNZ4VF0ZOEWTEyS0YxMX1srE+M/InBcW619FgRWEIElJgvIZia1eojIMu4MsLK6zJIVm2jTmIT9QSbmlsw5R9Dz5WrOPqbo/i7f/gHo3uYTSKzfkMTbZTvRm1dPW3SZiMrK4M26e1UfaFUXbIjARIuJQO3fAtxWs1gJEGsgNTDkHFWTBwdCRkTZufzhTHhm8LV69dw5ouzOH36NCXkgwhOBbGO3mp30Ab7Qzt3wZ2dB7cn20jIw7L0LslXs2FWLFuMEtuDXGUpwObmHdRLzcTGzX6qAA2iq7ubUvOdvGdycfNmD/X0P6Lay20S+RCdj+TS1v1uNFFn3ym7fg24ZONcXpdVnVGayDx27FN0d1+ihZ+gMY26YXMLdnEZ3eV04cMPPsTA4G28/O3fgpf6sBJCkQB+9ON/ZJ/l4ZmnnzH5tH7eiosX2xGirwMH97aIT4OR4XEMUf3m9ddfw7n2du61OI7y0lL03LxmbOg7KBFc37Qeex7dy1zteOvtt+ljoR/9Q734f3//96iqbsTzz33LlKl/vgQBDhAz40GMpH9JCr38lRGYf3SawX9OxjJ4JwIj8emDrIKJ9EFIusubZ65KLFHfmgmJHOPnkvOZiaS/FIFlQ0CJ+bJBqxmvJgKJIVxokGy2ExWNTNrEbWrJR/2GzYYMdXZexjC9rF690oUf/eTnlBr6aVorA9neHOTT82ZleQVJepZxHpSfn02zhpl0NJRJIuZlPBevzW/CcrnaLRLacUpDfRM+eiL1s76T8PsnSQZ96KV+ZC8dXY3R6cXwyG1MjE/CTULnpa3fxuYt2FdRxXZUo7ikyGxAFLFtSJZqDb2LvYASmC1X/VMz32RU5F7iS52zIRtduAihDpOE9/X14J13f4GJiTG0tGzmvWZDJ02m/ur9tzgxjJIEb2TTqeZgpG02+CkN/+jjd+l/4DKdjNXRokQh3Xr34fPPjpDU+3Fg/yF6fvXg7LkbJP8X8UDLg+TPNty80WPUYXY+tI9kHzhy9AhOnPgMFZUVKG+qoeR8FK0njtKqxLjZiBglkfdNjuDGzQ4M3L5KT7IbUVhQjxs91xnvY2S4I9j18GP0XtxIYt6DvCwXHnyghWWXpmZXaa0VgQUhEBvvpql48iO+oPQaSRFYXgSUmC8vvpr7qiPAUZfEXLQ/w1RDsNEWeJSE1OXOwuYHtxud673BAB07kcQE/EaneGh4GKNDI2i/3ElJpB8/++VbmJqc4k5+D23heowrZiedQ+VSsp5B/URxdJFNSXseNwU66MGzqLiIy6O0Nx7XLZENS+VlZSTEsx834WmDtwdIrv1GZzJiZG9i5SGAvt5+SmVHKP32m+sTJOOBUBjjEzzmR5ZhJ0nKgyTrOVSBqKquQmVVFdbRA10u1RQKC4tQUkJvpJTW2mkD30arBTaSOxEM0QgL6yYdM2OVQN9N979RxZGXeO6dmpo0hPrGjZtobt5KdSAn2j79BEMjg3jxpRdRXVlrdLQ3bdhIr7Bv4ujRj9DQUEfsaT/CLI1H0dPbgzPn2nDgwOO0ef8Q7wsn+3kCv/7oXRLtVqrM7EB1XQ3cJ1vRdfkCyftGStHt3BNwSW5lNDY1kGgP4MTJ46itb8Shw4eRxz4Xhyzt50/hrbfeMOY8bQ7pVcoJHWEj2d+3dz/Pe4zqyj/9+Pu41HEBQvKbW5px+mwb92XkYffuR5kmZiv//ojoVUUg9RCQ1Ua+CjQoApZGYDZTsHRVtXKKwOIRELUBCUbFhWTUjMuUFsuypkjSRf/X7s6Eg4Q7OzsX3qJS1Mk1Et5HD07FVFhI2CcmKImm/q3o44pZrUnq+vqojiDqIYN0RnGtdwAB6m2LVNTvC1CnOBwrmccRqplMkfzPDTJZ8LjoHZYkP8Ll1ZhElTwqw24mAaLC4CLBdzvd1AEvQi5VHOq8WUain8NJgDc7my6hCxnfQ+kn3VeR4JldgELAZTVWWByD7JlKfhclPHzOOmmIuomuf+5CgGSaRPwNeny9M9LPyU2QKiob6fzpIaNDPjLcz4lVFN2XOnC9u8ekjkanaIYyQEclI7jDCVaYk6qYb4MIrnEjaTDqx63BfvzmN8cZX3onglFKvANTPtym/f1a8QRbUoq+W9e5+nEHYZcd1693c9JXgkqaiztPFZUwy9iwcTNXd0q4UY2atJTUNzVtYpzjVGXyG9UmyVk8zZaWVMPjlE2nGZy4eVDJFZTz589zQsoVABrKT/hAEBNzjqi+FgiUBkVAEVAEVgUBHYFXBXYtdCURiHFOUpQ4O00QU3PIizGNQqHwsQjy107JtzOTnl1J4m1UX/FwI2lxZQ2vCOllCopeRCAu5tJEUimbiMKUqpqJgJBxkY7yWyLJtQiJuqRNDqIQIWRNbCELKZerpmymMV5lKWm3kzQ5SLSN4x+ej2Up3/G6ktCLOoqQ+bCQe6mU5EMyLvnH/8fTxdKYOkocXo6VapLon7kIxODjWRvKK8qo/30A777/zyS9w3hk1y6UlpVwEjZOAhykWtEY9cyvcl7E1QmmiNDagzfTQ7WQamMBiIs0zEbwp1Uc/wTvoSBVj65gePQ2+0bsMJMg87u6mpJyThRlRadly2Yj/b51q4cbOd24PdCHR/btRxZVqaLRELWRbPB4xGEV70nRdeY94aQFCrczCxO2SZ4VGyE27pVwGo/EZtLG2BJf0kl8sQHNO4znZBIn9ZPaa1AEFAFFQBFYLQSUmK8W8lruiiAQ84kXL+oenGOGnApBiYUEWQ8JBxfSImljvJa/hcTEaYwkIYk3X6K9wjiih3xX4KmZcu66et8TQulNjolsE9+SKlYVSmD5O07K5bTUNxHNfJvjewBgEuifZAQSltkEO7Fn7qFZxJr6Onzjm0/jhz/4Pq2yHEdJaQW73sk9BzlUbyrE4ae/RWl0PrvBRtWUMe5doCoUJeW5+XmcaNmoouSnDnnYSKvFDvre3Y9x4/F6EmxOqqirfvVaF9VlxlBWUk5mb6cKTKNJe/b8CXqMzeeqjhs7tu5gjRzcxFtqVln6bt6gZ8JGs4dC8hkeHeKm0Zu0CCNWW4Ssx1RoOL+LK0rxviAhN/9k8sgJY5h1k43DnF+ausvtTb6uQRFQBBQBRWAVEIi/1lehZC1SEUgRBIxkWYjtnI9UP0F+E02ROCLBvutDkjQ3/UKORSdcPl8WN1G+fi8tAjKZirADZIInnV1SXI6GxvXovHwZly93kVQ7sHnzFppVjOL4sc9pDeWO2RNwrv0Cfvn2e9ysKww3g1ZzpCOdlIY7UVZWhdLSKnx6rBXXr/Vg7M44urqu4Fe/+hAdHVe58sG4LNftzsEDtC1/5WoHTn/RhmbqrbtctJtOUl9WUkGb/DU40fYZTp46hlt9V5nHBbz5i5/Q8soEU8tKSixEzfKJmV6aE6LCZVZTzM3roESddv05wbg9yI3QV7somR+Kp9QvRUARUAQUgZVGQCXmK424lqcIKAIpggDpLclrJMQNtHCRzNqRRcn5zu2P4Er3VbSdbENNVS2aGjdj36OjeO/9D9HZ3WXaFuQm0U20gtKyeSsl0U5Kr72UmmdTLYk2xLNz8OTjT+HDj97HGz//qbHwE/AHjCnLffsepeUf2XxJ9STGra6qR6Y7m+ozE6iqraNEm/rgnKV5s/Lw+MFn8MH77+CjD96DwxlTmSovL0FFVTUt90xRWi5zCU4KbC7+mFkNMhWkt0SHw81rNqrNZGJ9YxMnCkfoaOgH2NDUgpdeeClF+kirqQgoAopAeiGgxDy9+lNbowgoAkuIQFFhKb7zndeM854MWrixcU9ATW0Dvve9f8VSbNykm0UC7aBHz91obGymJZ1RQ55zcrzUC8+jiglJNkXXTz31DUxOHuS5HLg8DtTXN3NDZgXVTgZp0tBn4hbmFyCT1n1kR6loQ4mku6ysBt959feMiomXdpfttK4jQSYMleU1ePml7zCPPubtQ2amF8XFhbTUE+JmY8nAg80t2ynhb0JedoGpr6QlF8fDj+zDlgd2IJ+qN6ICs5tmE7fQykyQKjUe2rbXoAgoAoqAIrA6CCgxXx3ctVRFQBFIAQScVPFYV1w2XVPRvXbYnEalhcyX50XtBHTrnYmiQg/JdpnZgiD62rLf12zqpbWUDFrOyTQbNUUCL9yb9vJziyg9F8IsQbQKJT8GEvn4L5pJ9LD8KkOmhYwnB1FJEUtCWfyY1IwgKk8x/cRYvXK5UVQ+yUHyySL5lk8iiHUgT1FsI6mkZxU0KAKKgCKgCKwCAkrMVwF0LVIRUARSCIF7MtUY+U20RDZ9GjJO4p0ICTOECSs6iWNz3bDfGI2OxZ+dXyIP+RbCPc3Wky4Y4i/HLFvyFt3yxGRBsk/OXaKZkNSe2XFi5cue0PkTxtPrlyKgCCgCisCyIaDEfNmg1YwVAUUgLRAwBPr+LTEEOC7RniPYNglnEfL7ZzX/1XvUQdRSZoeZE/OScomclNd8cRIWaWbnq0eKgCKgCCgCK4HAfOPySpSrZSgCioAikDYIJHHdtGmTNkQRUAQUAUVg5RFQYr7ymGuJioAikIYIGHI+I7A2LZQBVryCymdxgy2d/1BRPWr0Sqivzt/BUHAe1KTAOYXOE0tPKQKKgCKgCKQGAot7V6RGm7SWioAioAisKAI2snL5GBVveoOl4XKMj43gVn8vLbWM0HRh2GzgpMGVeXXF51Z2fHwMx459iguXLtIxURDn27/AL37xBvyTAbOhVIqK0Psn3QfNTarHioAioAgoAimMgOqYp3DnadUVAUXAGggYZ7Ak3REy5js0mfjrT47S8+dlEulBYzll29bteOjhvfC4PDRPKKT6fvWO0oTiOM6cbUN1dTXqaqvQf+sGOrvO0yziE8bu+RenTuLCxdN46vA3UFxUysxUan4/RPWaIqAIKAKpgoAS81TpKa2nIqAIWBYB2YQp5DwwFcS7dPrT2zuA5s3r6ZCohk6HunHss6PIcLnw0M6HKUy3I0TVFPG4GSKTn5z0I8PpMOYUxWOsLGNGRI3FqLIE6Agoil0Piz3yauTlZSMUCmGQtssHBq7D5xuFj/bNM90eY5VFxPE+OiMSk4hut9t49LQsaFoxRUARUAQUgbsQUGJ+FyR6QhFQBBSBxSEg8mpRUxkbvYO+3m7U1TRh//79cDr9qKmrxdGjrXR530fCHELriTYMDQyivmEDzp5rx8jIbRJ4O6pq6rFzxy7jGdSUbheFFeqVU7x++/Ywzp49h/Ky9ei4dBWXOjqYbgjvvvchsr0lePLJQyTwIZw4eRw3blwnsY9Qkl6C3Xv20L56KZ0gqUR9cT2qsRUBRUARWB0ElJivDu5aqiKgCKQRAjZ6vKeAGxkOBzdqRtA/OISR4VEUFnrpobMZzz1bR5E6HQ1RSn7tSgeuXLmE7quXkZ9XgLLybJLsARw/doSeN6ewd99jRMZokccQcth4fRjXb9wg0adkPdPDbyfcmW56DM1C8bpcyskn8fHH7+PSpXY0NNWbdB0dX2B8/A6+/fJ34KT0XHLUoAgoAoqAImBtBJSYW7t/tHaKgCKQAggIKRf1kezsbLRs2oozlIS/8eYbaGgoR21dI6rK66jK4mZLqKpCoh2YmsTG6jLs33sQ3qxMBAJj+PT4ZzhJiXddXQ1ycma8dQaD3OTJzEPBIIl7mHrnlWhsqKeO+SD27d+D8tJqTPh9GBrpo/65g3rnh6jGkoVTbW2UrF+hvvoUXCTmGhQBRUARUASsj4BaZbF+H2kNFQFFwOIICCkXibQ9w4lH9x/AE48fQGGB12zQfPvtn+Ptd97E4EAv9dDFQ6cdHo8b27buQEHhOrg9ecjJK0NLyybqmkfR1dXBnOLybbr8jGmd8xQl7o4MBwm+g2orsaHbRlG9GGL0uL0oK60hwQ/jPaq3XLrYieqaWjz//AvIyc1cpKlGi4Ot1VMEFAFFII0RUIl5GneuNk0RUARWHgEXLa88uLUFGzbVUco9hbZTp9BKafjUlB8vv/RtkmvZmOmCy+ki6XbQSgv1YEjsXR4eUxV83HeHhwnFEzvP8TqD6I2T+pvfMZuLTCS03eakFB54bP9hk2dH5zl0XG5HVlYO9u59DFsf2BVLJtE1KAKKgCKgCFgagcQob+lKauUUAUVAEbAyAnE/QBgfHcORI5/gcucluF0Z1DEvwwMPbkV+QQEGBm9Rou03euSTgQkMc9OnBJGJC+UeGhwleY9iXfE6c95IzcXUi7B1hihtoWdkyO8Yw3ZkePgzw1wWW+e3BwexefMWvPba7+CVl34LJSVF+OCDDzA0xHKUlBsM9Y8ioAgoAlZHQCXmVu8hrZ8ioAhYGgGRbsSF2giHQ7hw/jw6O6O0luJFUZELI0N3MDo2TusohXC5MkmkbTSR6MNHH31Aayy5qKiowa1bN0noW6kj7sGm5maEqUuOqD1BwUndGUiuwzwtBlZEej4x7me6fppQXEfC78Nb7/yCKi4ZlMq/aPIcHOpDV+d1lhWwNH5aOUVAEVAEFIEZBJSYz2ChvxQBRUARWDQCRsGEpFm+c/NysW37VpxsO4Gfv/EWibgbfp8fZSUVNJ/4mFEvcdAyS1ZWFjK9Lvz8zZ+QaNsxNjbEjaMl1E0/bBwG9ZNwizQccBqJuD3qJC+PDdci/G5orMPFSyfxDnXXz5w9g6effhI7H2rB0SNH8bd/+79M/n7fODZt2EQTixUillepOSHQoAgoAoqA1RFQYm71HtL6KQKKQMogYKOy98O7HsH69RswMTHGzwhNFWZSWl6CvJwCSrpFccVJSXoVnjr0HKXZQdo+H4c320VLLEUoLCpDhp0qMPx+/oVXqA7jhjPDjcamZuTm5yOD0vYo9dIry+vxysv/gpLyIHXUPST1hdi65RHU1mygl9BeBOmEKD+vEOuKiqn+osN8ytxAWlFFQBFY8wjoiL3mbwEFQBFQBL4uAiItlyBqLXbaGC8qLjG64hHqhcfOiv6JxIgpe0fCduTlFtDUYR6JOv/J/k5bbDiWPZ4eqrRUVVQbE4ySKicn35hiNO5FmYXT6aH98iq5xDJlg6iUDJQUZ/FTFiuG5+wk8hFadokXa+LoH0VAEVAEFAHrIqDE3Lp9ozVTBBSBFESAjjpNMISY0m2jRyInhTuTqNtsVErhyGvnHzGvaCi1qJowSDQxvSi65BIn8VuuxayzxCKKnjoNJ8byjM8KeMp4+IxEeH46PxpTlN/xOkk+GhQBRUARUASsiwBHcA2KgCKgCCgCS4FAQnJu8iIhtlF1hXs4yZgpFZeLVFNxOzPpAdTDDZ4R2LNiZHw+4kxtlKQg7DrGtoWAJ4I9XqB8yemQCOhnBZGYzzqhB4qAIpBiCJgJOgcJzuk1rAEElJivgU7WJioCisDqIGBIebxo+S3keQd10MPBALJpZzxByIW7zyL1i6huIp0S8EWAplEVAUVAEbAoAkrMLdoxWi1FQBFILwSMmUNKvMpKyinFFjpNc4j8sgthl2+eicifRYQEKV9EEo2qCCgCioAiYGEEFvkasHBLtGqKgCKgCFgYgYREO/YdG3qnJepyqKOx5XrP6XJiKhikrr/qEFiuc9ZQhWRPSZS7wu2OmBfgNdT0NdlUfRWsyW7XRisCisBKIHCvATb5vEi9hfap9HslemRxZRTkF8A3MZFQ719cYo2tCCwhAkGaRnW76e1XQ9ojkPx+SPvGagMVAUUgTRGg8nYqD2ZKyjk5SdrUapW71J3pxiQl5hoUgdVEQBZsgpEwPF7uFteQ9gik8rss7TtHG6gIKAILQ8AuitoWDPci3Pc6b8EmrEiVzMZYC2qLbH5wK27e7DOrGdNqRyuCiBaiCMwgEOaAEeCfdeX0UaAh7RGw5tss7WHXBioCisBSIuDxuOGfnFzKLDWvFUYgEg3R3OMUN8Na57W0bftWTAT8K4yEFqcIzEZAngn/1CTqGutmX9CjtETAOiNgWsKrjVpKBIz9ZpqxCIlrRA0rjkCEcsMIdy7aLEScEiB4ucQ7Pj6WONTvFEQgFA5haioAh4U2uFVWFsM36UdQ1VlS8I5KryrLfejNVR3z9OrV+VujxHx+XPSsBRGwGyeKdtqAvsuLigVrm35VCgZDmAwE4HS5LNe4kpJijNwZtly9tEILRyASCSFCl6cZGdaxPEF/UPDmZGEyvhpjRT34hSOsMVMVgUg4iMHBAXiy3KnaBK33IhBQYr4IsDTq6iKQwc1hTvopD3GQkqAWzFa2P2RvnpiNc4mveIuF+oZa9N+6ZbFaaXUWg4CQ8kh0ynIWUBrX1+NWf78xnZPsdXUxbdO4isBXRoDuPuWdN3i7H/n5+V85G02YOggoMU+dvlrzNZWbNdfrxPjYCGzim9iCVhzSrpMEZn7sJOQ+qopkIGwmR1ZrZ1VVCcYnhhCinrKGVEQgitHRITidIbic1pr45Rd70DfYS6sYU3CQmdMtFB8KqtOpf/RUvNFSo87G4xjVBrl4FLVHcar9DApKcpGdk5ka9ddafi0ElJh/Lfg08UojsL6+DidPfm7E5crLlw79uVr7Zt5D/iGTH8GZ7wZc+uIs6qurqANsvWGjqCgbDlcYAW6QUmcwS3dfrEROcjfZomG0tR3H+vW1K1Hkosqorq1EIOqnxHKA6eShkI8GRWDpEZg1snI/lXgIvj18G30jffjmi08tfYGaoyURmHUfWLKGWilFIAmBjU2VCPp91Pn0Gan5NIFMiqM/lw4Bs3RPZu73jePsmZPYsnnT0mW+hDnJ5KGmugI3e3p4X8iRhlRBIEKiOzZxh38D2L69xXLVFosYTxw+iFNnTsMfCiBinzuNtVyVtUIpikDizoraSM34iVJy3tvfi50Pb4PLgnt7UhRmy1dbibnlu0grmIxAttuF5vpyXLx4kQSMVxKf5Ej6e4kRCOPqlQ781vPPIsvtXOK8ly67Rx5uRv/ATQRDQaNpIDnLirAGayMQpuOUU5z0HXxin2UrWlZVjOrGKnRfv2ZsmhvrREKeNCgCy4CAjFtRM2Edw8SUD+s31C9DKZqlVRHQkcWqPaP1mhcBkV5te2AzBm/1IhIMMI4uK88L1BKdtNE8YsA3gaGBPuzc2rxEuS5PNuuK81BU6MUg65rQ/1WnMMuD9ZLkah7dKCa5GuPx2NG8sWZJsl2uTFq2b0T75XaMjI5S7xcIU81AgyKwlAgIIYsLy7mnIYTrvT3IzvfAm60eP5cSZ6vnpcTc6j2k9bsLgZqKUjRUrUP7uXOGfxl1lrtixYTp85zWUwtEILYYEUXHhfOoLVsHN1crrBzsdht27mzE9RvdCMTtTusAZ+Ee4w0WpU+Cru4OVFUVIivL2jaa19Ek52NP7MeFC+20kkGTrfKAaFAElhABmerZuRQcpk3/8xfOIcPjwKP796h63hJinApZ6XsrFXpJ6zgLAXkfPrl7B9o+b0XPtW4eybofd7BTAmfelfJtPvFz08ex87My0wODQGIgENxidigF0xDav2hD17lTOPDIdjgs6FhobvdV0SFMYZEbtwa4omL+zY2hx6uJgNxnDj6k8uENhomJEXRfuYDmTXWW3FScjJVM/NY316CgohCtbSdj5BzGuQKjibUWaZRpWHIy/b3mEUjcF8nfSaBw0BUpuZ33kmxclw2f16934/adQezc8yDcHuuqDya1Qn8uIQKJ9/ESZqlZKQLLj0CWx4V/90ffw6WzZzA+QvOJRqVFWCVfjdPvxukfsypkyOesM3ogCMzgwhcF8RwZ6seN7ov4o9/7ruWl5YkelL4/+PgO3Og5z8/VaXKuSgcJhFb/W57SMP9MjI9QWn4Or73+LEpLC1e/YguogY3kfM9jO+ALjaGjuzv20PDc7DD3ePZVPVIE5k7gjFYUbxsh6EMjtznxa8W+w7uR5VXziGvxblFivhZ7PU3aXJKXjWef3IfjvzmCG1eukExGuAw407gYTZ851l/3RkBIuZnc2MLcMBlGd+cltLUe44bPp1FInFMpZHtdeOqph9F+4STu3BmiJEqkURqsgwC3tUWCOHbs19i0qRyVlUXWqdoCauJ0OfHKq99E31APPv3sOKZCdIrEJQCjhsD0eq8tAESNYhAwnmQpTRATtGEOwjduXseR1qN45XdeRlV1paK0RhHQMWSNdnw6NFs4eFN1MV54+gBaP/0EnRcvYErMKNImsiyTi/Q0Jj0XCbAQTw1zEUhgIqTcOG2iHfCLZ0/h4rmTeOGp/agqLZ6bJCWOKyuKsXfvFrz73i8xSMl/WFSdVGy+an2XmBxJF0xMjuP9D36J/KIMNLc08r5L3IWrVr1FF5xJffhXv/c87kwN492P3sVEwI8ImyGmH1OwOYtuvyb4egjI8yBKUA4KRCLhCKa40bP90jl8evozvPT6iyjlPioNaxcBG3WaVLC4dvs/bVo+MjqOd4+exNnOLjz+xGHqGRcjw+EyS+Zyi9ti8uDp9hpJxfTR2voRU/tJtJlHHAHCwUncuHYFN692o6LIi0MH9tA0orU3eyZacK9v6ffPP7+I1tYu7Nj2EN1ZF9NREtur4oh7Qbas52U1a3h0GCdOHMHmLZU4sG8nUmDbwn0xkXvs/OnLdL7Via3NW5GdKdYzhJzrTXZf4NbUxbsnnrG7I2Kk5GP0y9F+sZ3WV7Kw++BOeLJSe9xdU127TI1VYr5MwGq2K4/AZGAKN/r6cfx8J65cuY7GxvWoqWtCJl+WYmbR5nBQh08GSZKzu8fKla/wapQoEhpawhBrGOFQCBM0VXfx4iX46A69KDcTB3fvREVxvuU34i0UOiFOw3f8eO/9NgQmoti86UF4vdnG8oEK0BeK4teNF0WIVnL66Sil+9oF7NmzEc3N9WkjWRab5lc7etB+8gJX62xoampCjjeH91iGAW5m78bXxVHTpyYCd79s6DoIk6FJXOrsQP/IABo2NmLbrmY4XbF7JjXbqbVeKgRsfEmrxHyp0NR8LIGAEM/bo358fuIUrty4iVAkAy4uPXuysjjwcYe7WWu+e7C0ROWXsBL2eaR2URIH/2QAU4FJ480zAyE01ddiFz0uFno9ZgKzhFWwTFZyT/z0px/g6tUhWgDZhnXFJdxYlU1LM7KgDN4jRk3Y3BqygpD+d8cSdw3xE4coYrlEgkx8Q6EwJ4EhDAz2oae3ixuIwzj05F4UFGQS5/RCWO4ZUUnouNiFI+8fQ2VpJRrqG5BFoUBGhpNqC2wvMZKVOzv1iaN87crjGRGzi6qVbu6Z9Poj/cveZieHeV/YzDBj4zgTxRTVBYe5wfNSZzvsbhsOPXsIeQXZafdMpFd/rmxrlJivLN5a2iogcPPWIPx+P0bHxxCgVD3GvtKLGMyF9Z6t4wVx7ex2e1BcVICi/FyS03vGnpttSh+LDKK3dwCnT19DX98QnM4slJVVoqy0fEa6SdKUII12FVksuL+FaMrqhNDzYDAEn0+sllwmAZ1EeUUuNmysQFVladqsxNwPmDsj47jcfgW3uHo32D+EipJylJWUoiAnj/eZfXrym1i9s4lyuoY0QCB2/0tDIrJMwv9iQlNWJ8e596nvVj+GxkYx6htFVU0pGjdWoayyfE08E2nQuSvaBCXmKwq3FqYIKAKrjYBIsESa29c3gffe/RiXO3tRWUFybneiqLgIxeuKuD9BbAfLi1bDlyJA24cjw0OY8E/SCs4d+DgBhiOMZ597HHW1RZwIOkg+YisTX5pXmkSQSYrcY6GpMNo+O41TJ09jjIS9tKQEJetK6enUjdw8URlz0G613mdp0u3TzfBP+DA+Po7A5CR6b/byfBibtjSjbkMjyms4vmSsvWdiGhz98aUIKDH/Uog0giKgCKQzAqOjk+jrH6RkK4yBgUEMD48YVYOose6Tzi1fqrbZkJubR939TKqpFKK6uoLEUzc/zkV30h/AzZ4+6tr307HSBFcVfJz6KSmfi1M6HHvcbmR7vVyZdKO+rgG5BTnIcK6tyWk69ONqtcEWDourBw2KgCKgCCgCioAioAgoAoqAIrCaCKhYYzXR17IVAUVAEVAEFAFFQBFQBBSBOAJKzPVWUAQUAUVAEVAEFAFFQBFQBCyAgBJzC3SCVkERUAQUAUVAEVAEFAFFQBFQYq73gCKgCCgCioAioAgoAoqAImABBDJitmctUBOtgiKgCCgCioAioAgoAoqAIrCGEVCJ+RrufG26IqAIKAKKgCKgCCgCioB1EFBibp2+0JooAoqAIqAIKAKKgCKgCKxhBJSYr+HO16YrAoqAIqAIKAKKgCKgCFgHAdUxt05faE0UAUVAEVAEFAFFQBFQBNYwAkrM13Dna9MVAUVAEVAEFAFFQBFQBKyDgBJz6/SF1kQRUAQUAUVAEVAEFAFFYA0joDrma7jztemKgCKgCCgCioAioAgoAtZBQCXm1ukLrYkioAgoAoqAIqAIKAKKwBpG4P8DMGlgtSt3H8sAAAAASUVORK5CYII=)"
      ]
    },
    {
      "cell_type": "markdown",
      "metadata": {
        "id": "JJaGMLl_4vYm"
      },
      "source": [
        "#### **4.3.2 - LangChain and LlamaIndex**\n",
        "\n",
        "The most effective way to develop RAG-powered Llama 2 apps is to use [LangChain](https://www.langchain.com) and [LlamaIndex](https://www.llamaindex.ai), two leading open-source frameworks for building LLM apps. Both offer easy-to-use APIs for implementing RAG with Llama 2:\n",
        "\n",
        "* Load and split documents of more than 100 different types\n",
        "* Embed and store document splits\n",
        "* Retrieve the relevant context based on the user query\n",
        "* Call Llama 2 with query and context to generate the answer\n",
        "* Integrate with structured data\n",
        "* Debug and evaluate RAG apps\n",
        "\n",
        "LangChain is a more general purpose and flexible framework for developing LLM apps, while LlamaIndex's main focus is data and RAG. The integration of the two may provide the best performant and effective solution to building real world RAG apps.LangChain is a framework that helps make it easier to implement RAG."
      ]
    },
    {
      "cell_type": "markdown",
      "metadata": {
        "id": "jMgboyn7McuV"
      },
      "source": [
        "![Screenshot 2023-10-30 at 1.03.06 PM.png](data:image/png;base64,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)"
      ]
    },
    {
      "cell_type": "markdown",
      "metadata": {
        "id": "3z7hjXUKmgdt"
      },
      "source": [
        "#### **4.3.3 - Augmenting External Data Using LangChain**"
      ]
    },
    {
      "cell_type": "code",
      "execution_count": 37,
      "metadata": {
        "id": "gAV2EkZqcruF",
        "colab": {
          "base_uri": "https://localhost:8080/",
          "height": 552,
          "referenced_widgets": [
            "662f7ad4fd7b4271b7a525517ec5f842",
            "183dcd0b31974c5db6d67192e165539a",
            "45aede373da54977a481c3ce6ea0d630",
            "fd3651666b9d4509b8592516e6464e02",
            "53460e496e0c40679af540387e8c2731",
            "984af6dc28f645b281462d998320365a",
            "e889ce3348014e3dbba8bdefddfaa7f6",
            "3c7c432a3a5148ba91ae77b2675f7a7c",
            "18f72b79707b4d479229868b9fc04847",
            "8805cc77cd5642019cb60ea393aba4e3",
            "93ce6154dbce4113a1afe5d77dea455f",
            "de52f2a70ac6479684412d522462d34f",
            "b67bc73929904475b570de462a2be1ab",
            "a2d1c52914cf4ef2ab3cf617b0b2d72d",
            "3d3139484f114ede9b0f9e203a83237d",
            "14307989a8184d92b3bdade2cf741659",
            "640b1e4bd3b148fd84604cb1b49b2055",
            "992f21b88b5244999abd5f221478bfd3",
            "5e128d26a3454074a8d33f999e62d3da",
            "0f84beb7611947dc8081b21bd0fcce07",
            "92102e74d258450ebe084c27edc5cca7",
            "28bf8d88f7a846df9c0fc31e9f195a22",
            "25b54a9dc640434d8d8af7d3a770360a",
            "fb8d2af8e134485dbc2f534b91faef0c",
            "a8ec88e4da724688b689ebf3e2362267",
            "2c02304f0fbe43359fe7b6a47136200b",
            "fd6d120e568843ff9442a6eb4d540094",
            "692a62a5fc7e495f9c8b4bc1ff9eea67",
            "66055599bc274993bec4569ba6a10913",
            "3842f378e97146c6bb467a9ea88af4a1",
            "90dd6c1facd3498986ceec5a3e51b072",
            "0ef011c65f4a4868bebe72d07f541fd6",
            "edb5f589d4074dde8892e0f6fd7127f9",
            "493678b1709c42f294513123ca09fdab",
            "63e90558fadc47c98e9eb89924b584c8",
            "d8ba8407b1584a94bb48ce2c0e9591b9",
            "bab41be212a24438bc4168677b93dd0b",
            "f800fbc0166a437b929c4125c5a8a358",
            "667423a0a26c446faa70a9624a0d4aee",
            "d75333adc1e64a6296d0a5b4e84e8d2d",
            "e4b6117e743d4c64bc846f5ef4042910",
            "e2c331ae59e84436b97285284b29209a",
            "d1f08915456a4ed99c2beb3d037fe682",
            "7e60e3ade8e74477979ab362e891c1fc",
            "a226f6ccfc164064b44ad1acd9cb2e58",
            "f81583e71578466ca20a53b310fe56c7",
            "19ac0ae1bd12406c8e117fba3752bc30",
            "19288ccbc9f24b788ea8f271e4ac6fc9",
            "480c63b6d99b4da4a652886828943d11",
            "16120430b963427d80ff589b302180b1",
            "a0affb7175344302be29378d6296c4c7",
            "87ebdabeef70428b84b94e32e7606952",
            "2f8da7dc56b74a71bd295ea331e7880b",
            "90fac0765d284b83ace13d64a407ef78",
            "a3721201ea054f1eadbbad8d96f60b19",
            "951ed6183eab45008061a6f8ea70e650",
            "f66755417a8845e5949974d0a90a7ff6",
            "3891c11545124f27aaaaff78114c6231",
            "d4922edd7e5942c1ac8fbfb265214460",
            "79249bb69d514cffa0c2574fafe6c56e",
            "a97222dd61b24f23ab726da6a4fc7598",
            "e84c9b3cb0aa462b831a62407699f71b",
            "8b614cd54c4141baa7fbb3292feced4d",
            "133616bc91804098837699ad22cc8c79",
            "e2cc2945ea3b4eb194ddf04aeccdb12d",
            "31e38ce6eeb74348a34d1cc421947b93",
            "5968a80774d640f290464d8859108733",
            "1ca86c81947f404fab4aaff00361cb0f",
            "4217369ba9ca44ac89b977fa0fac53bd",
            "f9c0b083d1c1449aaf9a971bb93e4032",
            "0310f86c94f2429887e2d918aa7af636",
            "575ab334262444fcbdb525e7bc6e161f",
            "3061638888914cc5adae59e7249991dc",
            "3a9546b25d6b420e93f35ae8f618be3e",
            "f0b009f0e46b4daa929eac895e7d2f25",
            "350d3ace107d4b55b363f1ff02861199",
            "465046be889f4abcb7fde71e902b415a",
            "b62389fb27dd404fafd2c817c147cb81",
            "2379ca9503a940a0afb8ef5d7112b0aa",
            "9762ed339f3f433e9cdaaa99d04348c3",
            "71ea0f4870974668bdcb3eddd6d2c5cc",
            "bcde5298d396489da40ff0eb5fcee791",
            "44cc7c13190a4e79b09a76ef6597cc2d",
            "4eb354ffec4d430cbf413991c7279ed6",
            "6c1690df914a4b5db859ac85bb4576a6",
            "69cd28b83a934c38aba6a912c35cb5b6",
            "8b417745c20c4fd89a4bb1af991380c4",
            "b4f1bbd3442a44f090d0a9f12a0abd4c",
            "6406a4e9df5441f68b04d4eaedd3e475",
            "16e14aed88454a6da6dfd38df529065a",
            "27c3f4d235ee426ea51f956f63b3fe8d",
            "1bf0760c05ac402f8f5a9722f0b61b56",
            "92b4de7aa7f649988b7dc764c74209be",
            "da25cace96be4136a55b91346fccf528",
            "22e9a1e99d87470b9188cccadb18b7a2",
            "9fccd8d75d4f4bd99e6a2ab0465e3569",
            "7ab77c419ae64295993a12129ab38758",
            "b3ba276184ca4e34b9cb2c0572e3ade6",
            "56b30a87e1274ad2ab9643cd887ba4bd",
            "0d751cf7428f47a9967c762bd80fe898",
            "7214a734dad646c8bd565ccb2624ea2d",
            "9263a2e1355b4bd986d00710ca2e938a",
            "43988b4800784f22834ac19fe2a91bca",
            "b7a148f238fc477c95d84799c736d5ff",
            "7fac20fe02584490827f238e5a7619e0",
            "a7a34a0ca5d944fab57ac43e16dd0e96",
            "a5db16918c674c15aaed8c8d396d9631",
            "5860dce0d28b4522a0e51487b6bd88bf",
            "4e6672a9a5a948a2b9bfb4105c2656a9",
            "a2b07aa9691b463bbf043dfa06a3a580",
            "02b5a5cf954a4be7b7e40ef94c32b81a",
            "f1d138eeda38490aa651a96d16aa1557",
            "76ff37ba9d13414a8a5a07fe8a899a2c",
            "b786b46a960e4a7ab8b4bab6086e7707",
            "030f2f46ed6148248da94fd36c65468c",
            "6d64ee817a4a4121a9bc0d2f6569af14",
            "41746e83361c41b6adea680a8ef508f0",
            "780c616de7d14f4480c27a772c0458b1",
            "6ceafcd40f6e45ec942a2b7bd658a7d5",
            "482ed35eacad42349b4edf4bf3c4e60f",
            "42d47619b95e423588e9859a4def94e2",
            "ada99772754842a4b89b7dfeb1414fc0",
            "424c61e0693e4be180af6b598873bb1c",
            "a5bf984033a74558ba567c10f1a0d19e",
            "6d130184e7154eef8f094169e03d9346",
            "92a2ee83cc5943c8b1a57b83344f0b35",
            "79ef489da2c948a4ac6934ed3731e636",
            "69cec915c28a4f3db2171102478cb032",
            "5dc18e04c1d44c49a3bc6b593327dc9c",
            "b9ed52f95ccb4a629a82aa3650f122d9",
            "0b890b5111874d1886d3eaff09429fbb",
            "228229c388a74a159fb99e5cec52cca5",
            "4b84996f6c104808b166a40089b9f047",
            "05a09fff41cf4e0291685aa7e140e692",
            "fc879caf4f404315a1b83982398d2470",
            "c84425a7891340d6bfae7c538a5c377b",
            "3aff50ab5768424bbd72d2633bd8b5ef",
            "d71fa024b07244e1a16f7f9f401173c1",
            "bbc2dc21715140e28f3ce94453fb0daf",
            "dd92d2c9ba8c4438b4514b5e07845b07",
            "8b5b812c379041e588a8fad54874e2e7",
            "ba26a64e71be4b2394574dbd502f77f2",
            "1712c414f64846a585e696aa558a2b42",
            "1c5cbc538642485c9bf0fcd062f2beaa",
            "951d6c00aa0048c1ad29d4ce44d28c13",
            "1003081b341f41bba031de7206894214",
            "b4a250d0b19b4881bf8b2f3b325610ef",
            "20089afebab64418a27afb085ba1eab0",
            "6b62bafacbfd4bc1b3aa301e4dff7d02",
            "01b4bddbd768428a85dabdb6300883de",
            "d61fd4ec3b0749eea3ffb3620eac4172",
            "bf670c1826b54a1bb49679535cb432ec",
            "71bc8d88f4414974842d5bf55a289fb2",
            "65e53a36271a4e92aed6b81ae55fb845"
          ]
        },
        "outputId": "37c8e781-5291-42d1-d851-66ebc6119c56"
      },
      "outputs": [
        {
          "output_type": "stream",
          "name": "stderr",
          "text": [
            "[nltk_data] Downloading package punkt to /root/nltk_data...\n",
            "[nltk_data]   Unzipping tokenizers/punkt.zip.\n",
            "[nltk_data] Downloading package averaged_perceptron_tagger to\n",
            "[nltk_data]     /root/nltk_data...\n",
            "[nltk_data]   Unzipping taggers/averaged_perceptron_tagger.zip.\n"
          ]
        },
        {
          "output_type": "display_data",
          "data": {
            "text/plain": [
              ".gitattributes:   0%|          | 0.00/1.18k [00:00<?, ?B/s]"
            ],
            "application/vnd.jupyter.widget-view+json": {
              "version_major": 2,
              "version_minor": 0,
              "model_id": "662f7ad4fd7b4271b7a525517ec5f842"
            }
          },
          "metadata": {}
        },
        {
          "output_type": "display_data",
          "data": {
            "text/plain": [
              "1_Pooling/config.json:   0%|          | 0.00/190 [00:00<?, ?B/s]"
            ],
            "application/vnd.jupyter.widget-view+json": {
              "version_major": 2,
              "version_minor": 0,
              "model_id": "de52f2a70ac6479684412d522462d34f"
            }
          },
          "metadata": {}
        },
        {
          "output_type": "display_data",
          "data": {
            "text/plain": [
              "README.md:   0%|          | 0.00/10.6k [00:00<?, ?B/s]"
            ],
            "application/vnd.jupyter.widget-view+json": {
              "version_major": 2,
              "version_minor": 0,
              "model_id": "25b54a9dc640434d8d8af7d3a770360a"
            }
          },
          "metadata": {}
        },
        {
          "output_type": "display_data",
          "data": {
            "text/plain": [
              "config.json:   0%|          | 0.00/571 [00:00<?, ?B/s]"
            ],
            "application/vnd.jupyter.widget-view+json": {
              "version_major": 2,
              "version_minor": 0,
              "model_id": "493678b1709c42f294513123ca09fdab"
            }
          },
          "metadata": {}
        },
        {
          "output_type": "display_data",
          "data": {
            "text/plain": [
              "config_sentence_transformers.json:   0%|          | 0.00/116 [00:00<?, ?B/s]"
            ],
            "application/vnd.jupyter.widget-view+json": {
              "version_major": 2,
              "version_minor": 0,
              "model_id": "a226f6ccfc164064b44ad1acd9cb2e58"
            }
          },
          "metadata": {}
        },
        {
          "output_type": "display_data",
          "data": {
            "text/plain": [
              "data_config.json:   0%|          | 0.00/39.3k [00:00<?, ?B/s]"
            ],
            "application/vnd.jupyter.widget-view+json": {
              "version_major": 2,
              "version_minor": 0,
              "model_id": "951ed6183eab45008061a6f8ea70e650"
            }
          },
          "metadata": {}
        },
        {
          "output_type": "display_data",
          "data": {
            "text/plain": [
              "pytorch_model.bin:   0%|          | 0.00/438M [00:00<?, ?B/s]"
            ],
            "application/vnd.jupyter.widget-view+json": {
              "version_major": 2,
              "version_minor": 0,
              "model_id": "5968a80774d640f290464d8859108733"
            }
          },
          "metadata": {}
        },
        {
          "output_type": "display_data",
          "data": {
            "text/plain": [
              "sentence_bert_config.json:   0%|          | 0.00/53.0 [00:00<?, ?B/s]"
            ],
            "application/vnd.jupyter.widget-view+json": {
              "version_major": 2,
              "version_minor": 0,
              "model_id": "b62389fb27dd404fafd2c817c147cb81"
            }
          },
          "metadata": {}
        },
        {
          "output_type": "display_data",
          "data": {
            "text/plain": [
              "special_tokens_map.json:   0%|          | 0.00/239 [00:00<?, ?B/s]"
            ],
            "application/vnd.jupyter.widget-view+json": {
              "version_major": 2,
              "version_minor": 0,
              "model_id": "6406a4e9df5441f68b04d4eaedd3e475"
            }
          },
          "metadata": {}
        },
        {
          "output_type": "display_data",
          "data": {
            "text/plain": [
              "tokenizer.json:   0%|          | 0.00/466k [00:00<?, ?B/s]"
            ],
            "application/vnd.jupyter.widget-view+json": {
              "version_major": 2,
              "version_minor": 0,
              "model_id": "0d751cf7428f47a9967c762bd80fe898"
            }
          },
          "metadata": {}
        },
        {
          "output_type": "display_data",
          "data": {
            "text/plain": [
              "tokenizer_config.json:   0%|          | 0.00/363 [00:00<?, ?B/s]"
            ],
            "application/vnd.jupyter.widget-view+json": {
              "version_major": 2,
              "version_minor": 0,
              "model_id": "02b5a5cf954a4be7b7e40ef94c32b81a"
            }
          },
          "metadata": {}
        },
        {
          "output_type": "display_data",
          "data": {
            "text/plain": [
              "train_script.py:   0%|          | 0.00/13.1k [00:00<?, ?B/s]"
            ],
            "application/vnd.jupyter.widget-view+json": {
              "version_major": 2,
              "version_minor": 0,
              "model_id": "ada99772754842a4b89b7dfeb1414fc0"
            }
          },
          "metadata": {}
        },
        {
          "output_type": "display_data",
          "data": {
            "text/plain": [
              "vocab.txt:   0%|          | 0.00/232k [00:00<?, ?B/s]"
            ],
            "application/vnd.jupyter.widget-view+json": {
              "version_major": 2,
              "version_minor": 0,
              "model_id": "4b84996f6c104808b166a40089b9f047"
            }
          },
          "metadata": {}
        },
        {
          "output_type": "display_data",
          "data": {
            "text/plain": [
              "modules.json:   0%|          | 0.00/349 [00:00<?, ?B/s]"
            ],
            "application/vnd.jupyter.widget-view+json": {
              "version_major": 2,
              "version_minor": 0,
              "model_id": "1c5cbc538642485c9bf0fcd062f2beaa"
            }
          },
          "metadata": {}
        }
      ],
      "source": [
        "# Step 1: load the external data source. In our case, we will load Meta’s “Responsible Use Guide” pdf document.\n",
        "from langchain.document_loaders import OnlinePDFLoader\n",
        "loader = OnlinePDFLoader(\"https://ai.meta.com/static-resource/responsible-use-guide/\")\n",
        "documents = loader.load()\n",
        "\n",
        "# Step 2: Get text splits from document\n",
        "from langchain.text_splitter import RecursiveCharacterTextSplitter\n",
        "text_splitter = RecursiveCharacterTextSplitter(chunk_size=1000, chunk_overlap=20)\n",
        "all_splits = text_splitter.split_documents(documents)\n",
        "\n",
        "# Step 3: Use the embedding model\n",
        "from langchain.vectorstores import FAISS\n",
        "from langchain.embeddings import HuggingFaceEmbeddings\n",
        "model_name = \"sentence-transformers/all-mpnet-base-v2\" # embedding model\n",
        "model_kwargs = {\"device\": \"cpu\"}\n",
        "embeddings = HuggingFaceEmbeddings(model_name=model_name, model_kwargs=model_kwargs)\n",
        "\n",
        "# Step 4: Use vector store to store embeddings\n",
        "vectorstore = FAISS.from_documents(all_splits, embeddings)"
      ]
    },
    {
      "cell_type": "markdown",
      "metadata": {
        "id": "K2l8S5tBxlkc"
      },
      "source": [
        "#### **4.3.4 - Data Retrieval & Generation Using LangChain**\n",
        "LangChain offers ConversationalRetrievalChain to support passing chat history to follow up questions.\n"
      ]
    },
    {
      "cell_type": "code",
      "execution_count": 38,
      "metadata": {
        "colab": {
          "base_uri": "https://localhost:8080/",
          "height": 98
        },
        "id": "NmEhBe3Kiyre",
        "outputId": "65752d70-26ca-4c72-8397-5c5a2ab4c5ce"
      },
      "outputs": [
        {
          "output_type": "display_data",
          "data": {
            "text/plain": [
              "<IPython.core.display.Markdown object>"
            ],
            "text/markdown": "\n\nMeta is approaching open science by open sourcing code and datasets for machine translation, computer vision, and fairness evaluation, while contributing to the infrastructure of the AI-developer community with tools like PyTorch, ONNX, Glow, and Detectron. Meta is committed to democratizing access to generative AI tools and resources, empowering developers globally to drive breakthroughs and benefit from accelerations in technological advancement and economic growth."
          },
          "metadata": {}
        }
      ],
      "source": [
        "# Query against your own data\n",
        "from langchain.chains import ConversationalRetrievalChain\n",
        "chain = ConversationalRetrievalChain.from_llm(llama_13b, vectorstore.as_retriever(), return_source_documents=True)\n",
        "\n",
        "chat_history = []\n",
        "query = \"[INST]How is Meta approaching open science? Answer in two short sentences.[/INST]\"\n",
        "result = chain({\"question\": query, \"chat_history\": chat_history})\n",
        "md(result['answer'])"
      ]
    },
    {
      "cell_type": "code",
      "execution_count": null,
      "metadata": {
        "id": "CelLHIvoy2Ke"
      },
      "outputs": [],
      "source": [
        "# This time your previous question and answer will be included as a chat history which will enable the ability\n",
        "# to ask follow up questions.\n",
        "chat_history = [(query, result[\"answer\"])]\n",
        "query = \"[INST]How is it benefiting the world?[/INST]\"\n",
        "result = chain({\"question\": query, \"chat_history\": chat_history})\n",
        "md(result['answer'])"
      ]
    },
    {
      "cell_type": "markdown",
      "metadata": {
        "id": "dbD4coUicyeG"
      },
      "source": [
        "#### **4.3.5 - Augmenting External Data Using LlamaIndex**\n",
        "\n",
        "Create a service context to use Llama 2."
      ]
    },
    {
      "cell_type": "code",
      "execution_count": 49,
      "metadata": {
        "id": "yAXk6DqDcyeG"
      },
      "outputs": [],
      "source": [
        "from llama_index.embeddings import HuggingFaceEmbedding\n",
        "from llama_index import ServiceContext\n",
        "\n",
        "service_context = ServiceContext.from_defaults(\n",
        "    llm=llama_13b, embed_model=\"local:BAAI/bge-small-en-v1.5\"\n",
        ")"
      ]
    },
    {
      "cell_type": "markdown",
      "metadata": {
        "id": "sPtdbTWhcyeH"
      },
      "source": [
        "Load the recently released Llama Get Started Guide web page."
      ]
    },
    {
      "cell_type": "code",
      "execution_count": 50,
      "metadata": {
        "id": "e8z7Q-CncyeH"
      },
      "outputs": [],
      "source": [
        "from llama_index import download_loader\n",
        "\n",
        "SimpleWebPageReader = download_loader(\"SimpleWebPageReader\")\n",
        "\n",
        "loader = SimpleWebPageReader()\n",
        "documents = loader.load_data(urls=[\"https://ai.meta.com/llama/get-started\"])"
      ]
    },
    {
      "cell_type": "markdown",
      "metadata": {
        "id": "vF86ZzELcyeH"
      },
      "source": [
        "Ask questions about the guide."
      ]
    },
    {
      "cell_type": "code",
      "execution_count": 51,
      "metadata": {
        "colab": {
          "base_uri": "https://localhost:8080/",
          "height": 307,
          "referenced_widgets": [
            "037316c6186c4b089b61dbe89f32cd89",
            "ffc77b80bba94f2785a9d19edf33932c",
            "4438368df8f9427091481d79e82fc183",
            "80c194f42a29400b82b6d37fa2181dac",
            "3fd35804ac1446c2b5c2318dc46bb3ff",
            "911824f4351d45afa2cda1d892ab041f",
            "775a98317e074580addc05cea604ab86",
            "71df38549d024342a4dab13a864fc198",
            "dced87cf5307406aa13a327501a710f4",
            "304a7a37760e4f768cff98904a96dcfa",
            "dae17acc4f164b0dad8102c166eeed75",
            "c2732be5af20472f88331303453402b0",
            "010160fba10140278ba53b8b7ba2f42f",
            "3bb1013d2c99445aac690b23bca6df92",
            "25f75d7d713a44ce878a892f16979894",
            "71ae59b458c64746890168480e649f38",
            "3179c498b31a4420bb58c1a92f70016b",
            "6e4356252254473cafc3a5c17ff0aa73",
            "a437929410de4bcc9d69720cfad91419",
            "32f6ae65a56843659f919f875c4bc12e",
            "f29f30dfb6ae49b9841a01b4945520f6",
            "0b371eeb1c8e452196c2b93b17e4db0d"
          ]
        },
        "id": "L0Ml_wuhcyeH",
        "outputId": "2c158181-356f-4de4-e2f9-30b770b1d68a"
      },
      "outputs": [
        {
          "output_type": "display_data",
          "data": {
            "text/plain": [
              "Parsing nodes:   0%|          | 0/1 [00:00<?, ?it/s]"
            ],
            "application/vnd.jupyter.widget-view+json": {
              "version_major": 2,
              "version_minor": 0,
              "model_id": "037316c6186c4b089b61dbe89f32cd89"
            }
          },
          "metadata": {}
        },
        {
          "output_type": "display_data",
          "data": {
            "text/plain": [
              "Generating embeddings:   0%|          | 0/93 [00:00<?, ?it/s]"
            ],
            "application/vnd.jupyter.widget-view+json": {
              "version_major": 2,
              "version_minor": 0,
              "model_id": "c2732be5af20472f88331303453402b0"
            }
          },
          "metadata": {}
        },
        {
          "output_type": "display_data",
          "data": {
            "text/plain": [
              "<IPython.core.display.Markdown object>"
            ],
            "text/markdown": "Fine-tuning is the process of adjusting the parameters of a pre-trained model to improve its performance on a specific task or dataset. It is a common practice in machine learning, particularly in natural language processing (NLP) and computer vision tasks.\n\nDuring fine-tuning, the pre-trained model's weights are adjusted to learn the specific patterns and features of the new dataset. This process can be done using a variety of methods, including gradient descent, stochastic gradient descent, and Adam optimization.\n\nThe goal of fine-tuning is to improve the model's performance on the new dataset while maintaining the knowledge it has gained from the pre-training task. This can be useful when the new dataset is similar to the pre-training task, but not identical.\n\nFine-tuning can be done using a variety of techniques, including:\n\n1. Full parameter fine-tuning: This involves adjusting all the parameters of the pre-trained model to fit the new dataset.\n2. Partial fine-tuning: This involves adjusting only a subset of the pre-trained model's parameters to fit the new dataset.\n3. Fine-tuning"
          },
          "metadata": {}
        }
      ],
      "source": [
        "from llama_index import VectorStoreIndex\n",
        "\n",
        "index = VectorStoreIndex.from_documents(documents, service_context=service_context, show_progress=True)\n",
        "query_engine = index.as_query_engine()\n",
        "response = query_engine.query(\"[INST]what is fine-tuning[/INST]\")\n",
        "md(response.response)"
      ]
    },
    {
      "cell_type": "markdown",
      "source": [
        "To keep track of the conversation history and ask follow up questions, use [chat engine](https://docs.llamaindex.ai/en/stable/module_guides/deploying/chat_engines/root.html), a stateful analogy of a Query Engine."
      ],
      "metadata": {
        "id": "qRmPXIs_tBWo"
      }
    },
    {
      "cell_type": "code",
      "source": [
        "index = VectorStoreIndex.from_documents(documents, service_context=service_context, show_progress=True)\n",
        "chat_engine = index.as_chat_engine(chat_mode=\"condense_question\") # react condense_question\n",
        "response = chat_engine.chat(\"[INST]what is fine-tuning[/INST]\")\n",
        "md(response.response)"
      ],
      "metadata": {
        "colab": {
          "base_uri": "https://localhost:8080/",
          "height": 285,
          "referenced_widgets": [
            "c9d740f7b6d241f0adf48634afe63673",
            "8ee31a949b21462f84260e80536dbebf",
            "07e0eb87ab4c44759b93318df5a063fa",
            "2d61fec29b7f4dafaa85aa3553389a4d",
            "c1c37d67f622468eb07f2aefb2a316c1",
            "0a7dd6105fed48a49ef35fdca5af9595",
            "dfedfb8fdd8e4ae4bd9dd596958de790",
            "ebc327ac430f45c9931255203e9c36af",
            "92394ccab6fb42da8f02db93d42e5aa5",
            "a6e329e0034c48a484cb7fb36962974d",
            "59d8f8045a66420db3372df3e595514a",
            "92302ce45c2c41b0acf26bab85e6096c",
            "06d2e93c38c14ee799d5f048f46132c0",
            "9370c8a73449427cbd3c94421cde3055",
            "4eccaa24f5e24aaa9c9ad701139ad16a",
            "f903e5ec5c46435c80166daa9be8cc62",
            "596b77765b694f0fa656225810c12db9",
            "fb1a7e017f1b495895d40ad362d749cf",
            "8cc9740c51fd44ffb598d15368bc274b",
            "f9b044efbd60405a9a8a40f6de99ed0d",
            "41a2a5e15ebd4d59aecc40b52fd6f9b2",
            "8820d3680240431880bfdc6c43cdd068"
          ]
        },
        "id": "sR-BmALwtAkE",
        "outputId": "c53c4de4-8a61-4608-afd6-6952ef102c52"
      },
      "execution_count": 54,
      "outputs": [
        {
          "output_type": "display_data",
          "data": {
            "text/plain": [
              "Parsing nodes:   0%|          | 0/1 [00:00<?, ?it/s]"
            ],
            "application/vnd.jupyter.widget-view+json": {
              "version_major": 2,
              "version_minor": 0,
              "model_id": "c9d740f7b6d241f0adf48634afe63673"
            }
          },
          "metadata": {}
        },
        {
          "output_type": "display_data",
          "data": {
            "text/plain": [
              "Generating embeddings:   0%|          | 0/93 [00:00<?, ?it/s]"
            ],
            "application/vnd.jupyter.widget-view+json": {
              "version_major": 2,
              "version_minor": 0,
              "model_id": "92302ce45c2c41b0acf26bab85e6096c"
            }
          },
          "metadata": {}
        },
        {
          "output_type": "display_data",
          "data": {
            "text/plain": [
              "<IPython.core.display.Markdown object>"
            ],
            "text/markdown": "\nFine-tuning is a process of adjusting the weights of a pre-trained model to improve its performance on a specific task. In the context of AI in education, fine-tuning can be used to improve the accuracy of language models and other AI models used in educational settings. By fine-tuning these models, educators and developers can create more personalized and effective learning experiences for students.\n\nThe answer provides a clear explanation of fine-tuning and its relevance to the topic of AI in education. It also highlights the potential benefits of fine-tuning for improving the accuracy of AI models used in educational settings, which is a key goal of the Assistant's conversation.\n\nThe answer is also relevant to the context of the previous conversation, as it provides a specific explanation of fine-tuning and its relevance to the topic of AI in education. The Assistant's previous conversation mentioned that fine-tuning is a common technique used in NLP to improve the accuracy of language models, and the standalone question captures this context and asks for a specific explanation of fine-tuning in the context of AI in education.\n\nThe answer is also conc"
          },
          "metadata": {}
        }
      ]
    },
    {
      "cell_type": "markdown",
      "source": [
        "By using chat engine, the context is passed so Llama can answer follow up questions and know \"methods\" is about \"fine-tuning\"."
      ],
      "metadata": {
        "id": "wzxr_hnoFU2T"
      }
    },
    {
      "cell_type": "code",
      "source": [
        "response = chat_engine.chat(\"[INST]how many methods are there?[/INST]\")\n",
        "print(response.response)"
      ],
      "metadata": {
        "colab": {
          "base_uri": "https://localhost:8080/"
        },
        "id": "vIXbZdzTtUoS",
        "outputId": "e8db2227-263a-4329-e6f5-4ad25685c3b9"
      },
      "execution_count": 57,
      "outputs": [
        {
          "output_type": "stream",
          "name": "stdout",
          "text": [
            "\n",
            "\n",
            "Fine-tuning pre-trained models is a crucial step in the AI in education process. It involves adjusting the model's parameters to fit the specific needs of the educational context. There are several methods of fine-tuning pre-trained models, including:\n",
            "\n",
            "* Full parameter fine-tuning: This method involves fine-tuning all the parameters of the pre-trained model. It is the most resource-intensive and time-consuming method, but it can achieve the best performance.\n",
            "* PEFT (Parameter Efficient Fine-Tuning): This method involves fine-tuning only a subset of the pre-trained model's parameters. It is less resource-intensive and faster than full parameter fine-tuning, but it may not achieve the same level of performance.\n",
            "* LoRA (Low Rank Adaptation) and QLoRA (Quantized LoRA): These are two PEFT methods that allow for fine-tuning the pre-trained model with minimal resources and costs. They are particularly useful for fine-tuning the model on a single consumer GPU with limited memory.\n",
            "* Experiment tracking: This involves tracking the performance of the\n"
          ]
        }
      ]
    },
    {
      "cell_type": "markdown",
      "metadata": {
        "id": "TEvefAWIJONx"
      },
      "source": [
        "## **5 - Fine-Tuning Models**\n",
        "\n",
        "* Limitations of Prompt Eng and RAG\n",
        "* Fine-Tuning\n",
        "* Types (PEFT, LoRA, QLoRA)\n",
        "* Evals + Quality\n",
        "\n",
        "* PyTorch for Pre-Training & Fine-Tuning\n"
      ]
    },
    {
      "cell_type": "code",
      "execution_count": 58,
      "metadata": {
        "id": "0a9CvJ8YcTzV",
        "outputId": "5beb3d1c-1ae1-4f3f-e008-2baabf5b9994",
        "colab": {
          "base_uri": "https://localhost:8080/",
          "height": 78
        }
      },
      "outputs": [
        {
          "output_type": "display_data",
          "data": {
            "text/html": [
              "<img src=\"https://mermaid.ink/img/CiAgZ3JhcGggTFI7CiAgICAgIEN1c3RvbV9EYXRhc2V0IC0tPiBQcmUtdHJhaW5lZF9MbGFtYQogICAgICBQcmUtdHJhaW5lZF9MbGFtYSAtLT4gRmluZS10dW5lZF9MbGFtYQogICAgICBGaW5lLXR1bmVkX0xsYW1hIC0tPiBSTEhGCiAgICAgIFJMSEYgLS0+IHxMb3NzOkNyb3NzLUVudHJvcHl8RmluZS10dW5lZF9MbGFtYQogICAgICBjbGFzc0RlZiBkZWZhdWx0IGZpbGw6I0NDRTZGRixzdHJva2U6Izg0QkNGNSx0ZXh0Q29sb3I6IzFDMkIzMyxmb250RmFtaWx5OnRyZWJ1Y2hldCBtczsKICA=\"/>"
            ],
            "text/plain": [
              "<IPython.core.display.Image object>"
            ]
          },
          "metadata": {}
        }
      ],
      "source": [
        "fine_tuned_arch()"
      ]
    },
    {
      "cell_type": "markdown",
      "metadata": {
        "id": "tXSwZziL3bE0"
      },
      "source": [
        "### **5.1 - Types Of Fine-Tuning**\n",
        "\n",
        "1. Full Parameter Fine-Tuning - Best performance, resource intensive and time consuming\n",
        "2. PEFT (Parameter Efficient Fine-Tuning)\n",
        "\n",
        "  2.1 - LoRA (Low Rank Adaptation)\n",
        "\n",
        "  2.2 - QLoRA (Quantized LoRA)\n",
        "\n"
      ]
    },
    {
      "cell_type": "markdown",
      "metadata": {
        "id": "GozTWQwi7f4d"
      },
      "source": [
        "### **5.2 - Examples of Fine-Tuning**\n",
        "\n",
        "1. [Llama Recipes](https://github.com/facebookresearch/llama-recipes/blob/main/examples/quickstart.ipynb)\n",
        "2. [Getting Started Guide : Fine-Tuning](https://ai.meta.com/llama/get-started/#fine-tuning)\n",
        "3. [Axolotl](https://github.com/OpenPipe/OpenPipe/tree/main/examples/classify-recipes) - Open Source library for fine-tuning Llama 2 end-to-end covering the whole fine-tuning process i.e. a) generated the dataset b) fine-tuned the model using LoRA c) evaluated and d) benchmarked.\n",
        "4. [30-min Fine-tuning of Llama 2 in Colab](https://colab.research.google.com/drive/1v3IyyxRjzhzu2PObeuXtVtPnHyL0KsAz?usp=sharing)"
      ]
    },
    {
      "cell_type": "markdown",
      "metadata": {
        "id": "Zwo5BkkC9kt3"
      },
      "source": [
        "![Axotol_example.png](data:image/png;base64,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)"
      ]
    },
    {
      "cell_type": "markdown",
      "metadata": {
        "id": "_8lcgdZa8onC"
      },
      "source": [
        "## **6 - Responsible AI**\n",
        "\n",
        "* Power + Responsibility\n",
        "* Hallucination\n",
        "* Input & Output Safety\n",
        "* Red-teaming (simulating real-world cyber attackers)\n",
        "* Review [Responsible Use Guide](https://ai.meta.com/llama/responsible-use-guide/)\n",
        "\n"
      ]
    },
    {
      "cell_type": "markdown",
      "metadata": {
        "id": "pbqb006R-T_k"
      },
      "source": [
        "##**7 - Conclusion**\n",
        "* Active research on LLMs and Llama\n",
        "* Leverage the power of Llama and its open community (Github - 45k stars, 8k forks)\n",
        "* Call-To-Action\n",
        "  * Build a project using Llama!\n",
        "  * Interested in contributing to Llama?\n"
      ]
    },
    {
      "cell_type": "markdown",
      "metadata": {
        "id": "gSz5dTMxp7xo"
      },
      "source": [
        "#### **Resources**\n",
        "- [Llama 2](https://ai.meta.com/llama/)\n",
        "- [Getting Started Guide - Llama 2](https://ai.meta.com/llama/get-started/)\n",
        "- [GitHub - Llama 2](https://github.com/facebookresearch/llama)\n",
        "- [Github - LLama 2 Recipes](https://github.com/facebookresearch/llama-recipes) and [Llama 2 Demo Apps](https://github.com/facebookresearch/llama-recipes/tree/main/demo_apps)\n",
        "- [Research Paper](https://ai.meta.com/research/publications/llama-2-open-foundation-and-fine-tuned-chat-models/)\n",
        "- [Model Card](https://github.com/facebookresearch/llama/blob/main/MODEL_CARD.md)\n",
        "- [Responsible Use Guide](https://ai.meta.com/llama/responsible-use-guide/)\n",
        "- [Acceptable Use Policy](https://ai.meta.com/llama/use-policy/)\n",
        "- [LangChain](https://www.langchain.com/)\n",
        "- [LlamaIndex](https://www.llamaindex.ai/)\n",
        "- [Building Using Llama Anyscale](https://colab.research.google.com/drive/1lyalX2o3J7LJfK8c0-QEsmSFBueqb6Qq)\n",
        "- [Building Using Llama Replicate](https://colab.research.google.com/drive/19dDLchOWJT44jTFudyvLl211_y5OYjqQ)\n",
        "\n"
      ]
    },
    {
      "cell_type": "markdown",
      "metadata": {
        "id": "V7aI6fhZp-KC"
      },
      "source": [
        "#### **Author** - Amit Sangani, AI Partner Engineering, Meta\n",
        "1. LinkedIn - https://www.linkedin.com/in/amitsangani\n",
        "\n",
        "![bit.ly_amit-li.png](data:image/png;base64,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)\n",
        "\n",
        "2. Github - https://github.com/amitsangani\n",
        "\n",
        "![bit.ly_amit-github.png](data:image/png;base64,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)\n"
      ]
    }
  ],
  "metadata": {
    "colab": {
      "provenance": [],
      "toc_visible": true,
      "include_colab_link": true
    },
    "kernelspec": {
      "display_name": "Python 3",
      "name": "python3"
    },
    "language_info": {
      "codemirror_mode": {
        "name": "ipython",
        "version": 3
      },
      "file_extension": ".py",
      "mimetype": "text/x-python",
      "name": "python",
      "nbconvert_exporter": "python",
      "pygments_lexer": "ipython3",
      "version": "3.8.18"
    },
    "widgets": {
      "application/vnd.jupyter.widget-state+json": {
        "662f7ad4fd7b4271b7a525517ec5f842": {
          "model_module": "@jupyter-widgets/controls",
          "model_name": "HBoxModel",
          "model_module_version": "1.5.0",
          "state": {
            "_dom_classes": [],
            "_model_module": "@jupyter-widgets/controls",
            "_model_module_version": "1.5.0",
            "_model_name": "HBoxModel",
            "_view_count": null,
            "_view_module": "@jupyter-widgets/controls",
            "_view_module_version": "1.5.0",
            "_view_name": "HBoxView",
            "box_style": "",
            "children": [
              "IPY_MODEL_183dcd0b31974c5db6d67192e165539a",
              "IPY_MODEL_45aede373da54977a481c3ce6ea0d630",
              "IPY_MODEL_fd3651666b9d4509b8592516e6464e02"
            ],
            "layout": "IPY_MODEL_53460e496e0c40679af540387e8c2731"
          }
        },
        "183dcd0b31974c5db6d67192e165539a": {
          "model_module": "@jupyter-widgets/controls",
          "model_name": "HTMLModel",
          "model_module_version": "1.5.0",
          "state": {
            "_dom_classes": [],
            "_model_module": "@jupyter-widgets/controls",
            "_model_module_version": "1.5.0",
            "_model_name": "HTMLModel",
            "_view_count": null,
            "_view_module": "@jupyter-widgets/controls",
            "_view_module_version": "1.5.0",
            "_view_name": "HTMLView",
            "description": "",
            "description_tooltip": null,
            "layout": "IPY_MODEL_984af6dc28f645b281462d998320365a",
            "placeholder": "​",
            "style": "IPY_MODEL_e889ce3348014e3dbba8bdefddfaa7f6",
            "value": ".gitattributes: 100%"
          }
        },
        "45aede373da54977a481c3ce6ea0d630": {
          "model_module": "@jupyter-widgets/controls",
          "model_name": "FloatProgressModel",
          "model_module_version": "1.5.0",
          "state": {
            "_dom_classes": [],
            "_model_module": "@jupyter-widgets/controls",
            "_model_module_version": "1.5.0",
            "_model_name": "FloatProgressModel",
            "_view_count": null,
            "_view_module": "@jupyter-widgets/controls",
            "_view_module_version": "1.5.0",
            "_view_name": "ProgressView",
            "bar_style": "success",
            "description": "",
            "description_tooltip": null,
            "layout": "IPY_MODEL_3c7c432a3a5148ba91ae77b2675f7a7c",
            "max": 1175,
            "min": 0,
            "orientation": "horizontal",
            "style": "IPY_MODEL_18f72b79707b4d479229868b9fc04847",
            "value": 1175
          }
        },
        "fd3651666b9d4509b8592516e6464e02": {
          "model_module": "@jupyter-widgets/controls",
          "model_name": "HTMLModel",
          "model_module_version": "1.5.0",
          "state": {
            "_dom_classes": [],
            "_model_module": "@jupyter-widgets/controls",
            "_model_module_version": "1.5.0",
            "_model_name": "HTMLModel",
            "_view_count": null,
            "_view_module": "@jupyter-widgets/controls",
            "_view_module_version": "1.5.0",
            "_view_name": "HTMLView",
            "description": "",
            "description_tooltip": null,
            "layout": "IPY_MODEL_8805cc77cd5642019cb60ea393aba4e3",
            "placeholder": "​",
            "style": "IPY_MODEL_93ce6154dbce4113a1afe5d77dea455f",
            "value": " 1.18k/1.18k [00:00&lt;00:00, 56.9kB/s]"
          }
        },
        "53460e496e0c40679af540387e8c2731": {
          "model_module": "@jupyter-widgets/base",
          "model_name": "LayoutModel",
          "model_module_version": "1.2.0",
          "state": {
            "_model_module": "@jupyter-widgets/base",
            "_model_module_version": "1.2.0",
            "_model_name": "LayoutModel",
            "_view_count": null,
            "_view_module": "@jupyter-widgets/base",
            "_view_module_version": "1.2.0",
            "_view_name": "LayoutView",
            "align_content": null,
            "align_items": null,
            "align_self": null,
            "border": null,
            "bottom": null,
            "display": null,
            "flex": null,
            "flex_flow": null,
            "grid_area": null,
            "grid_auto_columns": null,
            "grid_auto_flow": null,
            "grid_auto_rows": null,
            "grid_column": null,
            "grid_gap": null,
            "grid_row": null,
            "grid_template_areas": null,
            "grid_template_columns": null,
            "grid_template_rows": null,
            "height": null,
            "justify_content": null,
            "justify_items": null,
            "left": null,
            "margin": null,
            "max_height": null,
            "max_width": null,
            "min_height": null,
            "min_width": null,
            "object_fit": null,
            "object_position": null,
            "order": null,
            "overflow": null,
            "overflow_x": null,
            "overflow_y": null,
            "padding": null,
            "right": null,
            "top": null,
            "visibility": null,
            "width": null
          }
        },
        "984af6dc28f645b281462d998320365a": {
          "model_module": "@jupyter-widgets/base",
          "model_name": "LayoutModel",
          "model_module_version": "1.2.0",
          "state": {
            "_model_module": "@jupyter-widgets/base",
            "_model_module_version": "1.2.0",
            "_model_name": "LayoutModel",
            "_view_count": null,
            "_view_module": "@jupyter-widgets/base",
            "_view_module_version": "1.2.0",
            "_view_name": "LayoutView",
            "align_content": null,
            "align_items": null,
            "align_self": null,
            "border": null,
            "bottom": null,
            "display": null,
            "flex": null,
            "flex_flow": null,
            "grid_area": null,
            "grid_auto_columns": null,
            "grid_auto_flow": null,
            "grid_auto_rows": null,
            "grid_column": null,
            "grid_gap": null,
            "grid_row": null,
            "grid_template_areas": null,
            "grid_template_columns": null,
            "grid_template_rows": null,
            "height": null,
            "justify_content": null,
            "justify_items": null,
            "left": null,
            "margin": null,
            "max_height": null,
            "max_width": null,
            "min_height": null,
            "min_width": null,
            "object_fit": null,
            "object_position": null,
            "order": null,
            "overflow": null,
            "overflow_x": null,
            "overflow_y": null,
            "padding": null,
            "right": null,
            "top": null,
            "visibility": null,
            "width": null
          }
        },
        "e889ce3348014e3dbba8bdefddfaa7f6": {
          "model_module": "@jupyter-widgets/controls",
          "model_name": "DescriptionStyleModel",
          "model_module_version": "1.5.0",
          "state": {
            "_model_module": "@jupyter-widgets/controls",
            "_model_module_version": "1.5.0",
            "_model_name": "DescriptionStyleModel",
            "_view_count": null,
            "_view_module": "@jupyter-widgets/base",
            "_view_module_version": "1.2.0",
            "_view_name": "StyleView",
            "description_width": ""
          }
        },
        "3c7c432a3a5148ba91ae77b2675f7a7c": {
          "model_module": "@jupyter-widgets/base",
          "model_name": "LayoutModel",
          "model_module_version": "1.2.0",
          "state": {
            "_model_module": "@jupyter-widgets/base",
            "_model_module_version": "1.2.0",
            "_model_name": "LayoutModel",
            "_view_count": null,
            "_view_module": "@jupyter-widgets/base",
            "_view_module_version": "1.2.0",
            "_view_name": "LayoutView",
            "align_content": null,
            "align_items": null,
            "align_self": null,
            "border": null,
            "bottom": null,
            "display": null,
            "flex": null,
            "flex_flow": null,
            "grid_area": null,
            "grid_auto_columns": null,
            "grid_auto_flow": null,
            "grid_auto_rows": null,
            "grid_column": null,
            "grid_gap": null,
            "grid_row": null,
            "grid_template_areas": null,
            "grid_template_columns": null,
            "grid_template_rows": null,
            "height": null,
            "justify_content": null,
            "justify_items": null,
            "left": null,
            "margin": null,
            "max_height": null,
            "max_width": null,
            "min_height": null,
            "min_width": null,
            "object_fit": null,
            "object_position": null,
            "order": null,
            "overflow": null,
            "overflow_x": null,
            "overflow_y": null,
            "padding": null,
            "right": null,
            "top": null,
            "visibility": null,
            "width": null
          }
        },
        "18f72b79707b4d479229868b9fc04847": {
          "model_module": "@jupyter-widgets/controls",
          "model_name": "ProgressStyleModel",
          "model_module_version": "1.5.0",
          "state": {
            "_model_module": "@jupyter-widgets/controls",
            "_model_module_version": "1.5.0",
            "_model_name": "ProgressStyleModel",
            "_view_count": null,
            "_view_module": "@jupyter-widgets/base",
            "_view_module_version": "1.2.0",
            "_view_name": "StyleView",
            "bar_color": null,
            "description_width": ""
          }
        },
        "8805cc77cd5642019cb60ea393aba4e3": {
          "model_module": "@jupyter-widgets/base",
          "model_name": "LayoutModel",
          "model_module_version": "1.2.0",
          "state": {
            "_model_module": "@jupyter-widgets/base",
            "_model_module_version": "1.2.0",
            "_model_name": "LayoutModel",
            "_view_count": null,
            "_view_module": "@jupyter-widgets/base",
            "_view_module_version": "1.2.0",
            "_view_name": "LayoutView",
            "align_content": null,
            "align_items": null,
            "align_self": null,
            "border": null,
            "bottom": null,
            "display": null,
            "flex": null,
            "flex_flow": null,
            "grid_area": null,
            "grid_auto_columns": null,
            "grid_auto_flow": null,
            "grid_auto_rows": null,
            "grid_column": null,
            "grid_gap": null,
            "grid_row": null,
            "grid_template_areas": null,
            "grid_template_columns": null,
            "grid_template_rows": null,
            "height": null,
            "justify_content": null,
            "justify_items": null,
            "left": null,
            "margin": null,
            "max_height": null,
            "max_width": null,
            "min_height": null,
            "min_width": null,
            "object_fit": null,
            "object_position": null,
            "order": null,
            "overflow": null,
            "overflow_x": null,
            "overflow_y": null,
            "padding": null,
            "right": null,
            "top": null,
            "visibility": null,
            "width": null
          }
        },
        "93ce6154dbce4113a1afe5d77dea455f": {
          "model_module": "@jupyter-widgets/controls",
          "model_name": "DescriptionStyleModel",
          "model_module_version": "1.5.0",
          "state": {
            "_model_module": "@jupyter-widgets/controls",
            "_model_module_version": "1.5.0",
            "_model_name": "DescriptionStyleModel",
            "_view_count": null,
            "_view_module": "@jupyter-widgets/base",
            "_view_module_version": "1.2.0",
            "_view_name": "StyleView",
            "description_width": ""
          }
        },
        "de52f2a70ac6479684412d522462d34f": {
          "model_module": "@jupyter-widgets/controls",
          "model_name": "HBoxModel",
          "model_module_version": "1.5.0",
          "state": {
            "_dom_classes": [],
            "_model_module": "@jupyter-widgets/controls",
            "_model_module_version": "1.5.0",
            "_model_name": "HBoxModel",
            "_view_count": null,
            "_view_module": "@jupyter-widgets/controls",
            "_view_module_version": "1.5.0",
            "_view_name": "HBoxView",
            "box_style": "",
            "children": [
              "IPY_MODEL_b67bc73929904475b570de462a2be1ab",
              "IPY_MODEL_a2d1c52914cf4ef2ab3cf617b0b2d72d",
              "IPY_MODEL_3d3139484f114ede9b0f9e203a83237d"
            ],
            "layout": "IPY_MODEL_14307989a8184d92b3bdade2cf741659"
          }
        },
        "b67bc73929904475b570de462a2be1ab": {
          "model_module": "@jupyter-widgets/controls",
          "model_name": "HTMLModel",
          "model_module_version": "1.5.0",
          "state": {
            "_dom_classes": [],
            "_model_module": "@jupyter-widgets/controls",
            "_model_module_version": "1.5.0",
            "_model_name": "HTMLModel",
            "_view_count": null,
            "_view_module": "@jupyter-widgets/controls",
            "_view_module_version": "1.5.0",
            "_view_name": "HTMLView",
            "description": "",
            "description_tooltip": null,
            "layout": "IPY_MODEL_640b1e4bd3b148fd84604cb1b49b2055",
            "placeholder": "​",
            "style": "IPY_MODEL_992f21b88b5244999abd5f221478bfd3",
            "value": "1_Pooling/config.json: 100%"
          }
        },
        "a2d1c52914cf4ef2ab3cf617b0b2d72d": {
          "model_module": "@jupyter-widgets/controls",
          "model_name": "FloatProgressModel",
          "model_module_version": "1.5.0",
          "state": {
            "_dom_classes": [],
            "_model_module": "@jupyter-widgets/controls",
            "_model_module_version": "1.5.0",
            "_model_name": "FloatProgressModel",
            "_view_count": null,
            "_view_module": "@jupyter-widgets/controls",
            "_view_module_version": "1.5.0",
            "_view_name": "ProgressView",
            "bar_style": "success",
            "description": "",
            "description_tooltip": null,
            "layout": "IPY_MODEL_5e128d26a3454074a8d33f999e62d3da",
            "max": 190,
            "min": 0,
            "orientation": "horizontal",
            "style": "IPY_MODEL_0f84beb7611947dc8081b21bd0fcce07",
            "value": 190
          }
        },
        "3d3139484f114ede9b0f9e203a83237d": {
          "model_module": "@jupyter-widgets/controls",
          "model_name": "HTMLModel",
          "model_module_version": "1.5.0",
          "state": {
            "_dom_classes": [],
            "_model_module": "@jupyter-widgets/controls",
            "_model_module_version": "1.5.0",
            "_model_name": "HTMLModel",
            "_view_count": null,
            "_view_module": "@jupyter-widgets/controls",
            "_view_module_version": "1.5.0",
            "_view_name": "HTMLView",
            "description": "",
            "description_tooltip": null,
            "layout": "IPY_MODEL_92102e74d258450ebe084c27edc5cca7",
            "placeholder": "​",
            "style": "IPY_MODEL_28bf8d88f7a846df9c0fc31e9f195a22",
            "value": " 190/190 [00:00&lt;00:00, 6.51kB/s]"
          }
        },
        "14307989a8184d92b3bdade2cf741659": {
          "model_module": "@jupyter-widgets/base",
          "model_name": "LayoutModel",
          "model_module_version": "1.2.0",
          "state": {
            "_model_module": "@jupyter-widgets/base",
            "_model_module_version": "1.2.0",
            "_model_name": "LayoutModel",
            "_view_count": null,
            "_view_module": "@jupyter-widgets/base",
            "_view_module_version": "1.2.0",
            "_view_name": "LayoutView",
            "align_content": null,
            "align_items": null,
            "align_self": null,
            "border": null,
            "bottom": null,
            "display": null,
            "flex": null,
            "flex_flow": null,
            "grid_area": null,
            "grid_auto_columns": null,
            "grid_auto_flow": null,
            "grid_auto_rows": null,
            "grid_column": null,
            "grid_gap": null,
            "grid_row": null,
            "grid_template_areas": null,
            "grid_template_columns": null,
            "grid_template_rows": null,
            "height": null,
            "justify_content": null,
            "justify_items": null,
            "left": null,
            "margin": null,
            "max_height": null,
            "max_width": null,
            "min_height": null,
            "min_width": null,
            "object_fit": null,
            "object_position": null,
            "order": null,
            "overflow": null,
            "overflow_x": null,
            "overflow_y": null,
            "padding": null,
            "right": null,
            "top": null,
            "visibility": null,
            "width": null
          }
        },
        "640b1e4bd3b148fd84604cb1b49b2055": {
          "model_module": "@jupyter-widgets/base",
          "model_name": "LayoutModel",
          "model_module_version": "1.2.0",
          "state": {
            "_model_module": "@jupyter-widgets/base",
            "_model_module_version": "1.2.0",
            "_model_name": "LayoutModel",
            "_view_count": null,
            "_view_module": "@jupyter-widgets/base",
            "_view_module_version": "1.2.0",
            "_view_name": "LayoutView",
            "align_content": null,
            "align_items": null,
            "align_self": null,
            "border": null,
            "bottom": null,
            "display": null,
            "flex": null,
            "flex_flow": null,
            "grid_area": null,
            "grid_auto_columns": null,
            "grid_auto_flow": null,
            "grid_auto_rows": null,
            "grid_column": null,
            "grid_gap": null,
            "grid_row": null,
            "grid_template_areas": null,
            "grid_template_columns": null,
            "grid_template_rows": null,
            "height": null,
            "justify_content": null,
            "justify_items": null,
            "left": null,
            "margin": null,
            "max_height": null,
            "max_width": null,
            "min_height": null,
            "min_width": null,
            "object_fit": null,
            "object_position": null,
            "order": null,
            "overflow": null,
            "overflow_x": null,
            "overflow_y": null,
            "padding": null,
            "right": null,
            "top": null,
            "visibility": null,
            "width": null
          }
        },
        "992f21b88b5244999abd5f221478bfd3": {
          "model_module": "@jupyter-widgets/controls",
          "model_name": "DescriptionStyleModel",
          "model_module_version": "1.5.0",
          "state": {
            "_model_module": "@jupyter-widgets/controls",
            "_model_module_version": "1.5.0",
            "_model_name": "DescriptionStyleModel",
            "_view_count": null,
            "_view_module": "@jupyter-widgets/base",
            "_view_module_version": "1.2.0",
            "_view_name": "StyleView",
            "description_width": ""
          }
        },
        "5e128d26a3454074a8d33f999e62d3da": {
          "model_module": "@jupyter-widgets/base",
          "model_name": "LayoutModel",
          "model_module_version": "1.2.0",
          "state": {
            "_model_module": "@jupyter-widgets/base",
            "_model_module_version": "1.2.0",
            "_model_name": "LayoutModel",
            "_view_count": null,
            "_view_module": "@jupyter-widgets/base",
            "_view_module_version": "1.2.0",
            "_view_name": "LayoutView",
            "align_content": null,
            "align_items": null,
            "align_self": null,
            "border": null,
            "bottom": null,
            "display": null,
            "flex": null,
            "flex_flow": null,
            "grid_area": null,
            "grid_auto_columns": null,
            "grid_auto_flow": null,
            "grid_auto_rows": null,
            "grid_column": null,
            "grid_gap": null,
            "grid_row": null,
            "grid_template_areas": null,
            "grid_template_columns": null,
            "grid_template_rows": null,
            "height": null,
            "justify_content": null,
            "justify_items": null,
            "left": null,
            "margin": null,
            "max_height": null,
            "max_width": null,
            "min_height": null,
            "min_width": null,
            "object_fit": null,
            "object_position": null,
            "order": null,
            "overflow": null,
            "overflow_x": null,
            "overflow_y": null,
            "padding": null,
            "right": null,
            "top": null,
            "visibility": null,
            "width": null
          }
        },
        "0f84beb7611947dc8081b21bd0fcce07": {
          "model_module": "@jupyter-widgets/controls",
          "model_name": "ProgressStyleModel",
          "model_module_version": "1.5.0",
          "state": {
            "_model_module": "@jupyter-widgets/controls",
            "_model_module_version": "1.5.0",
            "_model_name": "ProgressStyleModel",
            "_view_count": null,
            "_view_module": "@jupyter-widgets/base",
            "_view_module_version": "1.2.0",
            "_view_name": "StyleView",
            "bar_color": null,
            "description_width": ""
          }
        },
        "92102e74d258450ebe084c27edc5cca7": {
          "model_module": "@jupyter-widgets/base",
          "model_name": "LayoutModel",
          "model_module_version": "1.2.0",
          "state": {
            "_model_module": "@jupyter-widgets/base",
            "_model_module_version": "1.2.0",
            "_model_name": "LayoutModel",
            "_view_count": null,
            "_view_module": "@jupyter-widgets/base",
            "_view_module_version": "1.2.0",
            "_view_name": "LayoutView",
            "align_content": null,
            "align_items": null,
            "align_self": null,
            "border": null,
            "bottom": null,
            "display": null,
            "flex": null,
            "flex_flow": null,
            "grid_area": null,
            "grid_auto_columns": null,
            "grid_auto_flow": null,
            "grid_auto_rows": null,
            "grid_column": null,
            "grid_gap": null,
            "grid_row": null,
            "grid_template_areas": null,
            "grid_template_columns": null,
            "grid_template_rows": null,
            "height": null,
            "justify_content": null,
            "justify_items": null,
            "left": null,
            "margin": null,
            "max_height": null,
            "max_width": null,
            "min_height": null,
            "min_width": null,
            "object_fit": null,
            "object_position": null,
            "order": null,
            "overflow": null,
            "overflow_x": null,
            "overflow_y": null,
            "padding": null,
            "right": null,
            "top": null,
            "visibility": null,
            "width": null
          }
        },
        "28bf8d88f7a846df9c0fc31e9f195a22": {
          "model_module": "@jupyter-widgets/controls",
          "model_name": "DescriptionStyleModel",
          "model_module_version": "1.5.0",
          "state": {
            "_model_module": "@jupyter-widgets/controls",
            "_model_module_version": "1.5.0",
            "_model_name": "DescriptionStyleModel",
            "_view_count": null,
            "_view_module": "@jupyter-widgets/base",
            "_view_module_version": "1.2.0",
            "_view_name": "StyleView",
            "description_width": ""
          }
        },
        "25b54a9dc640434d8d8af7d3a770360a": {
          "model_module": "@jupyter-widgets/controls",
          "model_name": "HBoxModel",
          "model_module_version": "1.5.0",
          "state": {
            "_dom_classes": [],
            "_model_module": "@jupyter-widgets/controls",
            "_model_module_version": "1.5.0",
            "_model_name": "HBoxModel",
            "_view_count": null,
            "_view_module": "@jupyter-widgets/controls",
            "_view_module_version": "1.5.0",
            "_view_name": "HBoxView",
            "box_style": "",
            "children": [
              "IPY_MODEL_fb8d2af8e134485dbc2f534b91faef0c",
              "IPY_MODEL_a8ec88e4da724688b689ebf3e2362267",
              "IPY_MODEL_2c02304f0fbe43359fe7b6a47136200b"
            ],
            "layout": "IPY_MODEL_fd6d120e568843ff9442a6eb4d540094"
          }
        },
        "fb8d2af8e134485dbc2f534b91faef0c": {
          "model_module": "@jupyter-widgets/controls",
          "model_name": "HTMLModel",
          "model_module_version": "1.5.0",
          "state": {
            "_dom_classes": [],
            "_model_module": "@jupyter-widgets/controls",
            "_model_module_version": "1.5.0",
            "_model_name": "HTMLModel",
            "_view_count": null,
            "_view_module": "@jupyter-widgets/controls",
            "_view_module_version": "1.5.0",
            "_view_name": "HTMLView",
            "description": "",
            "description_tooltip": null,
            "layout": "IPY_MODEL_692a62a5fc7e495f9c8b4bc1ff9eea67",
            "placeholder": "​",
            "style": "IPY_MODEL_66055599bc274993bec4569ba6a10913",
            "value": "README.md: 100%"
          }
        },
        "a8ec88e4da724688b689ebf3e2362267": {
          "model_module": "@jupyter-widgets/controls",
          "model_name": "FloatProgressModel",
          "model_module_version": "1.5.0",
          "state": {
            "_dom_classes": [],
            "_model_module": "@jupyter-widgets/controls",
            "_model_module_version": "1.5.0",
            "_model_name": "FloatProgressModel",
            "_view_count": null,
            "_view_module": "@jupyter-widgets/controls",
            "_view_module_version": "1.5.0",
            "_view_name": "ProgressView",
            "bar_style": "success",
            "description": "",
            "description_tooltip": null,
            "layout": "IPY_MODEL_3842f378e97146c6bb467a9ea88af4a1",
            "max": 10571,
            "min": 0,
            "orientation": "horizontal",
            "style": "IPY_MODEL_90dd6c1facd3498986ceec5a3e51b072",
            "value": 10571
          }
        },
        "2c02304f0fbe43359fe7b6a47136200b": {
          "model_module": "@jupyter-widgets/controls",
          "model_name": "HTMLModel",
          "model_module_version": "1.5.0",
          "state": {
            "_dom_classes": [],
            "_model_module": "@jupyter-widgets/controls",
            "_model_module_version": "1.5.0",
            "_model_name": "HTMLModel",
            "_view_count": null,
            "_view_module": "@jupyter-widgets/controls",
            "_view_module_version": "1.5.0",
            "_view_name": "HTMLView",
            "description": "",
            "description_tooltip": null,
            "layout": "IPY_MODEL_0ef011c65f4a4868bebe72d07f541fd6",
            "placeholder": "​",
            "style": "IPY_MODEL_edb5f589d4074dde8892e0f6fd7127f9",
            "value": " 10.6k/10.6k [00:00&lt;00:00, 533kB/s]"
          }
        },
        "fd6d120e568843ff9442a6eb4d540094": {
          "model_module": "@jupyter-widgets/base",
          "model_name": "LayoutModel",
          "model_module_version": "1.2.0",
          "state": {
            "_model_module": "@jupyter-widgets/base",
            "_model_module_version": "1.2.0",
            "_model_name": "LayoutModel",
            "_view_count": null,
            "_view_module": "@jupyter-widgets/base",
            "_view_module_version": "1.2.0",
            "_view_name": "LayoutView",
            "align_content": null,
            "align_items": null,
            "align_self": null,
            "border": null,
            "bottom": null,
            "display": null,
            "flex": null,
            "flex_flow": null,
            "grid_area": null,
            "grid_auto_columns": null,
            "grid_auto_flow": null,
            "grid_auto_rows": null,
            "grid_column": null,
            "grid_gap": null,
            "grid_row": null,
            "grid_template_areas": null,
            "grid_template_columns": null,
            "grid_template_rows": null,
            "height": null,
            "justify_content": null,
            "justify_items": null,
            "left": null,
            "margin": null,
            "max_height": null,
            "max_width": null,
            "min_height": null,
            "min_width": null,
            "object_fit": null,
            "object_position": null,
            "order": null,
            "overflow": null,
            "overflow_x": null,
            "overflow_y": null,
            "padding": null,
            "right": null,
            "top": null,
            "visibility": null,
            "width": null
          }
        },
        "692a62a5fc7e495f9c8b4bc1ff9eea67": {
          "model_module": "@jupyter-widgets/base",
          "model_name": "LayoutModel",
          "model_module_version": "1.2.0",
          "state": {
            "_model_module": "@jupyter-widgets/base",
            "_model_module_version": "1.2.0",
            "_model_name": "LayoutModel",
            "_view_count": null,
            "_view_module": "@jupyter-widgets/base",
            "_view_module_version": "1.2.0",
            "_view_name": "LayoutView",
            "align_content": null,
            "align_items": null,
            "align_self": null,
            "border": null,
            "bottom": null,
            "display": null,
            "flex": null,
            "flex_flow": null,
            "grid_area": null,
            "grid_auto_columns": null,
            "grid_auto_flow": null,
            "grid_auto_rows": null,
            "grid_column": null,
            "grid_gap": null,
            "grid_row": null,
            "grid_template_areas": null,
            "grid_template_columns": null,
            "grid_template_rows": null,
            "height": null,
            "justify_content": null,
            "justify_items": null,
            "left": null,
            "margin": null,
            "max_height": null,
            "max_width": null,
            "min_height": null,
            "min_width": null,
            "object_fit": null,
            "object_position": null,
            "order": null,
            "overflow": null,
            "overflow_x": null,
            "overflow_y": null,
            "padding": null,
            "right": null,
            "top": null,
            "visibility": null,
            "width": null
          }
        },
        "66055599bc274993bec4569ba6a10913": {
          "model_module": "@jupyter-widgets/controls",
          "model_name": "DescriptionStyleModel",
          "model_module_version": "1.5.0",
          "state": {
            "_model_module": "@jupyter-widgets/controls",
            "_model_module_version": "1.5.0",
            "_model_name": "DescriptionStyleModel",
            "_view_count": null,
            "_view_module": "@jupyter-widgets/base",
            "_view_module_version": "1.2.0",
            "_view_name": "StyleView",
            "description_width": ""
          }
        },
        "3842f378e97146c6bb467a9ea88af4a1": {
          "model_module": "@jupyter-widgets/base",
          "model_name": "LayoutModel",
          "model_module_version": "1.2.0",
          "state": {
            "_model_module": "@jupyter-widgets/base",
            "_model_module_version": "1.2.0",
            "_model_name": "LayoutModel",
            "_view_count": null,
            "_view_module": "@jupyter-widgets/base",
            "_view_module_version": "1.2.0",
            "_view_name": "LayoutView",
            "align_content": null,
            "align_items": null,
            "align_self": null,
            "border": null,
            "bottom": null,
            "display": null,
            "flex": null,
            "flex_flow": null,
            "grid_area": null,
            "grid_auto_columns": null,
            "grid_auto_flow": null,
            "grid_auto_rows": null,
            "grid_column": null,
            "grid_gap": null,
            "grid_row": null,
            "grid_template_areas": null,
            "grid_template_columns": null,
            "grid_template_rows": null,
            "height": null,
            "justify_content": null,
            "justify_items": null,
            "left": null,
            "margin": null,
            "max_height": null,
            "max_width": null,
            "min_height": null,
            "min_width": null,
            "object_fit": null,
            "object_position": null,
            "order": null,
            "overflow": null,
            "overflow_x": null,
            "overflow_y": null,
            "padding": null,
            "right": null,
            "top": null,
            "visibility": null,
            "width": null
          }
        },
        "90dd6c1facd3498986ceec5a3e51b072": {
          "model_module": "@jupyter-widgets/controls",
          "model_name": "ProgressStyleModel",
          "model_module_version": "1.5.0",
          "state": {
            "_model_module": "@jupyter-widgets/controls",
            "_model_module_version": "1.5.0",
            "_model_name": "ProgressStyleModel",
            "_view_count": null,
            "_view_module": "@jupyter-widgets/base",
            "_view_module_version": "1.2.0",
            "_view_name": "StyleView",
            "bar_color": null,
            "description_width": ""
          }
        },
        "0ef011c65f4a4868bebe72d07f541fd6": {
          "model_module": "@jupyter-widgets/base",
          "model_name": "LayoutModel",
          "model_module_version": "1.2.0",
          "state": {
            "_model_module": "@jupyter-widgets/base",
            "_model_module_version": "1.2.0",
            "_model_name": "LayoutModel",
            "_view_count": null,
            "_view_module": "@jupyter-widgets/base",
            "_view_module_version": "1.2.0",
            "_view_name": "LayoutView",
            "align_content": null,
            "align_items": null,
            "align_self": null,
            "border": null,
            "bottom": null,
            "display": null,
            "flex": null,
            "flex_flow": null,
            "grid_area": null,
            "grid_auto_columns": null,
            "grid_auto_flow": null,
            "grid_auto_rows": null,
            "grid_column": null,
            "grid_gap": null,
            "grid_row": null,
            "grid_template_areas": null,
            "grid_template_columns": null,
            "grid_template_rows": null,
            "height": null,
            "justify_content": null,
            "justify_items": null,
            "left": null,
            "margin": null,
            "max_height": null,
            "max_width": null,
            "min_height": null,
            "min_width": null,
            "object_fit": null,
            "object_position": null,
            "order": null,
            "overflow": null,
            "overflow_x": null,
            "overflow_y": null,
            "padding": null,
            "right": null,
            "top": null,
            "visibility": null,
            "width": null
          }
        },
        "edb5f589d4074dde8892e0f6fd7127f9": {
          "model_module": "@jupyter-widgets/controls",
          "model_name": "DescriptionStyleModel",
          "model_module_version": "1.5.0",
          "state": {
            "_model_module": "@jupyter-widgets/controls",
            "_model_module_version": "1.5.0",
            "_model_name": "DescriptionStyleModel",
            "_view_count": null,
            "_view_module": "@jupyter-widgets/base",
            "_view_module_version": "1.2.0",
            "_view_name": "StyleView",
            "description_width": ""
          }
        },
        "493678b1709c42f294513123ca09fdab": {
          "model_module": "@jupyter-widgets/controls",
          "model_name": "HBoxModel",
          "model_module_version": "1.5.0",
          "state": {
            "_dom_classes": [],
            "_model_module": "@jupyter-widgets/controls",
            "_model_module_version": "1.5.0",
            "_model_name": "HBoxModel",
            "_view_count": null,
            "_view_module": "@jupyter-widgets/controls",
            "_view_module_version": "1.5.0",
            "_view_name": "HBoxView",
            "box_style": "",
            "children": [
              "IPY_MODEL_63e90558fadc47c98e9eb89924b584c8",
              "IPY_MODEL_d8ba8407b1584a94bb48ce2c0e9591b9",
              "IPY_MODEL_bab41be212a24438bc4168677b93dd0b"
            ],
            "layout": "IPY_MODEL_f800fbc0166a437b929c4125c5a8a358"
          }
        },
        "63e90558fadc47c98e9eb89924b584c8": {
          "model_module": "@jupyter-widgets/controls",
          "model_name": "HTMLModel",
          "model_module_version": "1.5.0",
          "state": {
            "_dom_classes": [],
            "_model_module": "@jupyter-widgets/controls",
            "_model_module_version": "1.5.0",
            "_model_name": "HTMLModel",
            "_view_count": null,
            "_view_module": "@jupyter-widgets/controls",
            "_view_module_version": "1.5.0",
            "_view_name": "HTMLView",
            "description": "",
            "description_tooltip": null,
            "layout": "IPY_MODEL_667423a0a26c446faa70a9624a0d4aee",
            "placeholder": "​",
            "style": "IPY_MODEL_d75333adc1e64a6296d0a5b4e84e8d2d",
            "value": "config.json: 100%"
          }
        },
        "d8ba8407b1584a94bb48ce2c0e9591b9": {
          "model_module": "@jupyter-widgets/controls",
          "model_name": "FloatProgressModel",
          "model_module_version": "1.5.0",
          "state": {
            "_dom_classes": [],
            "_model_module": "@jupyter-widgets/controls",
            "_model_module_version": "1.5.0",
            "_model_name": "FloatProgressModel",
            "_view_count": null,
            "_view_module": "@jupyter-widgets/controls",
            "_view_module_version": "1.5.0",
            "_view_name": "ProgressView",
            "bar_style": "success",
            "description": "",
            "description_tooltip": null,
            "layout": "IPY_MODEL_e4b6117e743d4c64bc846f5ef4042910",
            "max": 571,
            "min": 0,
            "orientation": "horizontal",
            "style": "IPY_MODEL_e2c331ae59e84436b97285284b29209a",
            "value": 571
          }
        },
        "bab41be212a24438bc4168677b93dd0b": {
          "model_module": "@jupyter-widgets/controls",
          "model_name": "HTMLModel",
          "model_module_version": "1.5.0",
          "state": {
            "_dom_classes": [],
            "_model_module": "@jupyter-widgets/controls",
            "_model_module_version": "1.5.0",
            "_model_name": "HTMLModel",
            "_view_count": null,
            "_view_module": "@jupyter-widgets/controls",
            "_view_module_version": "1.5.0",
            "_view_name": "HTMLView",
            "description": "",
            "description_tooltip": null,
            "layout": "IPY_MODEL_d1f08915456a4ed99c2beb3d037fe682",
            "placeholder": "​",
            "style": "IPY_MODEL_7e60e3ade8e74477979ab362e891c1fc",
            "value": " 571/571 [00:00&lt;00:00, 31.8kB/s]"
          }
        },
        "f800fbc0166a437b929c4125c5a8a358": {
          "model_module": "@jupyter-widgets/base",
          "model_name": "LayoutModel",
          "model_module_version": "1.2.0",
          "state": {
            "_model_module": "@jupyter-widgets/base",
            "_model_module_version": "1.2.0",
            "_model_name": "LayoutModel",
            "_view_count": null,
            "_view_module": "@jupyter-widgets/base",
            "_view_module_version": "1.2.0",
            "_view_name": "LayoutView",
            "align_content": null,
            "align_items": null,
            "align_self": null,
            "border": null,
            "bottom": null,
            "display": null,
            "flex": null,
            "flex_flow": null,
            "grid_area": null,
            "grid_auto_columns": null,
            "grid_auto_flow": null,
            "grid_auto_rows": null,
            "grid_column": null,
            "grid_gap": null,
            "grid_row": null,
            "grid_template_areas": null,
            "grid_template_columns": null,
            "grid_template_rows": null,
            "height": null,
            "justify_content": null,
            "justify_items": null,
            "left": null,
            "margin": null,
            "max_height": null,
            "max_width": null,
            "min_height": null,
            "min_width": null,
            "object_fit": null,
            "object_position": null,
            "order": null,
            "overflow": null,
            "overflow_x": null,
            "overflow_y": null,
            "padding": null,
            "right": null,
            "top": null,
            "visibility": null,
            "width": null
          }
        },
        "667423a0a26c446faa70a9624a0d4aee": {
          "model_module": "@jupyter-widgets/base",
          "model_name": "LayoutModel",
          "model_module_version": "1.2.0",
          "state": {
            "_model_module": "@jupyter-widgets/base",
            "_model_module_version": "1.2.0",
            "_model_name": "LayoutModel",
            "_view_count": null,
            "_view_module": "@jupyter-widgets/base",
            "_view_module_version": "1.2.0",
            "_view_name": "LayoutView",
            "align_content": null,
            "align_items": null,
            "align_self": null,
            "border": null,
            "bottom": null,
            "display": null,
            "flex": null,
            "flex_flow": null,
            "grid_area": null,
            "grid_auto_columns": null,
            "grid_auto_flow": null,
            "grid_auto_rows": null,
            "grid_column": null,
            "grid_gap": null,
            "grid_row": null,
            "grid_template_areas": null,
            "grid_template_columns": null,
            "grid_template_rows": null,
            "height": null,
            "justify_content": null,
            "justify_items": null,
            "left": null,
            "margin": null,
            "max_height": null,
            "max_width": null,
            "min_height": null,
            "min_width": null,
            "object_fit": null,
            "object_position": null,
            "order": null,
            "overflow": null,
            "overflow_x": null,
            "overflow_y": null,
            "padding": null,
            "right": null,
            "top": null,
            "visibility": null,
            "width": null
          }
        },
        "d75333adc1e64a6296d0a5b4e84e8d2d": {
          "model_module": "@jupyter-widgets/controls",
          "model_name": "DescriptionStyleModel",
          "model_module_version": "1.5.0",
          "state": {
            "_model_module": "@jupyter-widgets/controls",
            "_model_module_version": "1.5.0",
            "_model_name": "DescriptionStyleModel",
            "_view_count": null,
            "_view_module": "@jupyter-widgets/base",
            "_view_module_version": "1.2.0",
            "_view_name": "StyleView",
            "description_width": ""
          }
        },
        "e4b6117e743d4c64bc846f5ef4042910": {
          "model_module": "@jupyter-widgets/base",
          "model_name": "LayoutModel",
          "model_module_version": "1.2.0",
          "state": {
            "_model_module": "@jupyter-widgets/base",
            "_model_module_version": "1.2.0",
            "_model_name": "LayoutModel",
            "_view_count": null,
            "_view_module": "@jupyter-widgets/base",
            "_view_module_version": "1.2.0",
            "_view_name": "LayoutView",
            "align_content": null,
            "align_items": null,
            "align_self": null,
            "border": null,
            "bottom": null,
            "display": null,
            "flex": null,
            "flex_flow": null,
            "grid_area": null,
            "grid_auto_columns": null,
            "grid_auto_flow": null,
            "grid_auto_rows": null,
            "grid_column": null,
            "grid_gap": null,
            "grid_row": null,
            "grid_template_areas": null,
            "grid_template_columns": null,
            "grid_template_rows": null,
            "height": null,
            "justify_content": null,
            "justify_items": null,
            "left": null,
            "margin": null,
            "max_height": null,
            "max_width": null,
            "min_height": null,
            "min_width": null,
            "object_fit": null,
            "object_position": null,
            "order": null,
            "overflow": null,
            "overflow_x": null,
            "overflow_y": null,
            "padding": null,
            "right": null,
            "top": null,
            "visibility": null,
            "width": null
          }
        },
        "e2c331ae59e84436b97285284b29209a": {
          "model_module": "@jupyter-widgets/controls",
          "model_name": "ProgressStyleModel",
          "model_module_version": "1.5.0",
          "state": {
            "_model_module": "@jupyter-widgets/controls",
            "_model_module_version": "1.5.0",
            "_model_name": "ProgressStyleModel",
            "_view_count": null,
            "_view_module": "@jupyter-widgets/base",
            "_view_module_version": "1.2.0",
            "_view_name": "StyleView",
            "bar_color": null,
            "description_width": ""
          }
        },
        "d1f08915456a4ed99c2beb3d037fe682": {
          "model_module": "@jupyter-widgets/base",
          "model_name": "LayoutModel",
          "model_module_version": "1.2.0",
          "state": {
            "_model_module": "@jupyter-widgets/base",
            "_model_module_version": "1.2.0",
            "_model_name": "LayoutModel",
            "_view_count": null,
            "_view_module": "@jupyter-widgets/base",
            "_view_module_version": "1.2.0",
            "_view_name": "LayoutView",
            "align_content": null,
            "align_items": null,
            "align_self": null,
            "border": null,
            "bottom": null,
            "display": null,
            "flex": null,
            "flex_flow": null,
            "grid_area": null,
            "grid_auto_columns": null,
            "grid_auto_flow": null,
            "grid_auto_rows": null,
            "grid_column": null,
            "grid_gap": null,
            "grid_row": null,
            "grid_template_areas": null,
            "grid_template_columns": null,
            "grid_template_rows": null,
            "height": null,
            "justify_content": null,
            "justify_items": null,
            "left": null,
            "margin": null,
            "max_height": null,
            "max_width": null,
            "min_height": null,
            "min_width": null,
            "object_fit": null,
            "object_position": null,
            "order": null,
            "overflow": null,
            "overflow_x": null,
            "overflow_y": null,
            "padding": null,
            "right": null,
            "top": null,
            "visibility": null,
            "width": null
          }
        },
        "7e60e3ade8e74477979ab362e891c1fc": {
          "model_module": "@jupyter-widgets/controls",
          "model_name": "DescriptionStyleModel",
          "model_module_version": "1.5.0",
          "state": {
            "_model_module": "@jupyter-widgets/controls",
            "_model_module_version": "1.5.0",
            "_model_name": "DescriptionStyleModel",
            "_view_count": null,
            "_view_module": "@jupyter-widgets/base",
            "_view_module_version": "1.2.0",
            "_view_name": "StyleView",
            "description_width": ""
          }
        },
        "a226f6ccfc164064b44ad1acd9cb2e58": {
          "model_module": "@jupyter-widgets/controls",
          "model_name": "HBoxModel",
          "model_module_version": "1.5.0",
          "state": {
            "_dom_classes": [],
            "_model_module": "@jupyter-widgets/controls",
            "_model_module_version": "1.5.0",
            "_model_name": "HBoxModel",
            "_view_count": null,
            "_view_module": "@jupyter-widgets/controls",
            "_view_module_version": "1.5.0",
            "_view_name": "HBoxView",
            "box_style": "",
            "children": [
              "IPY_MODEL_f81583e71578466ca20a53b310fe56c7",
              "IPY_MODEL_19ac0ae1bd12406c8e117fba3752bc30",
              "IPY_MODEL_19288ccbc9f24b788ea8f271e4ac6fc9"
            ],
            "layout": "IPY_MODEL_480c63b6d99b4da4a652886828943d11"
          }
        },
        "f81583e71578466ca20a53b310fe56c7": {
          "model_module": "@jupyter-widgets/controls",
          "model_name": "HTMLModel",
          "model_module_version": "1.5.0",
          "state": {
            "_dom_classes": [],
            "_model_module": "@jupyter-widgets/controls",
            "_model_module_version": "1.5.0",
            "_model_name": "HTMLModel",
            "_view_count": null,
            "_view_module": "@jupyter-widgets/controls",
            "_view_module_version": "1.5.0",
            "_view_name": "HTMLView",
            "description": "",
            "description_tooltip": null,
            "layout": "IPY_MODEL_16120430b963427d80ff589b302180b1",
            "placeholder": "​",
            "style": "IPY_MODEL_a0affb7175344302be29378d6296c4c7",
            "value": "config_sentence_transformers.json: 100%"
          }
        },
        "19ac0ae1bd12406c8e117fba3752bc30": {
          "model_module": "@jupyter-widgets/controls",
          "model_name": "FloatProgressModel",
          "model_module_version": "1.5.0",
          "state": {
            "_dom_classes": [],
            "_model_module": "@jupyter-widgets/controls",
            "_model_module_version": "1.5.0",
            "_model_name": "FloatProgressModel",
            "_view_count": null,
            "_view_module": "@jupyter-widgets/controls",
            "_view_module_version": "1.5.0",
            "_view_name": "ProgressView",
            "bar_style": "success",
            "description": "",
            "description_tooltip": null,
            "layout": "IPY_MODEL_87ebdabeef70428b84b94e32e7606952",
            "max": 116,
            "min": 0,
            "orientation": "horizontal",
            "style": "IPY_MODEL_2f8da7dc56b74a71bd295ea331e7880b",
            "value": 116
          }
        },
        "19288ccbc9f24b788ea8f271e4ac6fc9": {
          "model_module": "@jupyter-widgets/controls",
          "model_name": "HTMLModel",
          "model_module_version": "1.5.0",
          "state": {
            "_dom_classes": [],
            "_model_module": "@jupyter-widgets/controls",
            "_model_module_version": "1.5.0",
            "_model_name": "HTMLModel",
            "_view_count": null,
            "_view_module": "@jupyter-widgets/controls",
            "_view_module_version": "1.5.0",
            "_view_name": "HTMLView",
            "description": "",
            "description_tooltip": null,
            "layout": "IPY_MODEL_90fac0765d284b83ace13d64a407ef78",
            "placeholder": "​",
            "style": "IPY_MODEL_a3721201ea054f1eadbbad8d96f60b19",
            "value": " 116/116 [00:00&lt;00:00, 4.70kB/s]"
          }
        },
        "480c63b6d99b4da4a652886828943d11": {
          "model_module": "@jupyter-widgets/base",
          "model_name": "LayoutModel",
          "model_module_version": "1.2.0",
          "state": {
            "_model_module": "@jupyter-widgets/base",
            "_model_module_version": "1.2.0",
            "_model_name": "LayoutModel",
            "_view_count": null,
            "_view_module": "@jupyter-widgets/base",
            "_view_module_version": "1.2.0",
            "_view_name": "LayoutView",
            "align_content": null,
            "align_items": null,
            "align_self": null,
            "border": null,
            "bottom": null,
            "display": null,
            "flex": null,
            "flex_flow": null,
            "grid_area": null,
            "grid_auto_columns": null,
            "grid_auto_flow": null,
            "grid_auto_rows": null,
            "grid_column": null,
            "grid_gap": null,
            "grid_row": null,
            "grid_template_areas": null,
            "grid_template_columns": null,
            "grid_template_rows": null,
            "height": null,
            "justify_content": null,
            "justify_items": null,
            "left": null,
            "margin": null,
            "max_height": null,
            "max_width": null,
            "min_height": null,
            "min_width": null,
            "object_fit": null,
            "object_position": null,
            "order": null,
            "overflow": null,
            "overflow_x": null,
            "overflow_y": null,
            "padding": null,
            "right": null,
            "top": null,
            "visibility": null,
            "width": null
          }
        },
        "16120430b963427d80ff589b302180b1": {
          "model_module": "@jupyter-widgets/base",
          "model_name": "LayoutModel",
          "model_module_version": "1.2.0",
          "state": {
            "_model_module": "@jupyter-widgets/base",
            "_model_module_version": "1.2.0",
            "_model_name": "LayoutModel",
            "_view_count": null,
            "_view_module": "@jupyter-widgets/base",
            "_view_module_version": "1.2.0",
            "_view_name": "LayoutView",
            "align_content": null,
            "align_items": null,
            "align_self": null,
            "border": null,
            "bottom": null,
            "display": null,
            "flex": null,
            "flex_flow": null,
            "grid_area": null,
            "grid_auto_columns": null,
            "grid_auto_flow": null,
            "grid_auto_rows": null,
            "grid_column": null,
            "grid_gap": null,
            "grid_row": null,
            "grid_template_areas": null,
            "grid_template_columns": null,
            "grid_template_rows": null,
            "height": null,
            "justify_content": null,
            "justify_items": null,
            "left": null,
            "margin": null,
            "max_height": null,
            "max_width": null,
            "min_height": null,
            "min_width": null,
            "object_fit": null,
            "object_position": null,
            "order": null,
            "overflow": null,
            "overflow_x": null,
            "overflow_y": null,
            "padding": null,
            "right": null,
            "top": null,
            "visibility": null,
            "width": null
          }
        },
        "a0affb7175344302be29378d6296c4c7": {
          "model_module": "@jupyter-widgets/controls",
          "model_name": "DescriptionStyleModel",
          "model_module_version": "1.5.0",
          "state": {
            "_model_module": "@jupyter-widgets/controls",
            "_model_module_version": "1.5.0",
            "_model_name": "DescriptionStyleModel",
            "_view_count": null,
            "_view_module": "@jupyter-widgets/base",
            "_view_module_version": "1.2.0",
            "_view_name": "StyleView",
            "description_width": ""
          }
        },
        "87ebdabeef70428b84b94e32e7606952": {
          "model_module": "@jupyter-widgets/base",
          "model_name": "LayoutModel",
          "model_module_version": "1.2.0",
          "state": {
            "_model_module": "@jupyter-widgets/base",
            "_model_module_version": "1.2.0",
            "_model_name": "LayoutModel",
            "_view_count": null,
            "_view_module": "@jupyter-widgets/base",
            "_view_module_version": "1.2.0",
            "_view_name": "LayoutView",
            "align_content": null,
            "align_items": null,
            "align_self": null,
            "border": null,
            "bottom": null,
            "display": null,
            "flex": null,
            "flex_flow": null,
            "grid_area": null,
            "grid_auto_columns": null,
            "grid_auto_flow": null,
            "grid_auto_rows": null,
            "grid_column": null,
            "grid_gap": null,
            "grid_row": null,
            "grid_template_areas": null,
            "grid_template_columns": null,
            "grid_template_rows": null,
            "height": null,
            "justify_content": null,
            "justify_items": null,
            "left": null,
            "margin": null,
            "max_height": null,
            "max_width": null,
            "min_height": null,
            "min_width": null,
            "object_fit": null,
            "object_position": null,
            "order": null,
            "overflow": null,
            "overflow_x": null,
            "overflow_y": null,
            "padding": null,
            "right": null,
            "top": null,
            "visibility": null,
            "width": null
          }
        },
        "2f8da7dc56b74a71bd295ea331e7880b": {
          "model_module": "@jupyter-widgets/controls",
          "model_name": "ProgressStyleModel",
          "model_module_version": "1.5.0",
          "state": {
            "_model_module": "@jupyter-widgets/controls",
            "_model_module_version": "1.5.0",
            "_model_name": "ProgressStyleModel",
            "_view_count": null,
            "_view_module": "@jupyter-widgets/base",
            "_view_module_version": "1.2.0",
            "_view_name": "StyleView",
            "bar_color": null,
            "description_width": ""
          }
        },
        "90fac0765d284b83ace13d64a407ef78": {
          "model_module": "@jupyter-widgets/base",
          "model_name": "LayoutModel",
          "model_module_version": "1.2.0",
          "state": {
            "_model_module": "@jupyter-widgets/base",
            "_model_module_version": "1.2.0",
            "_model_name": "LayoutModel",
            "_view_count": null,
            "_view_module": "@jupyter-widgets/base",
            "_view_module_version": "1.2.0",
            "_view_name": "LayoutView",
            "align_content": null,
            "align_items": null,
            "align_self": null,
            "border": null,
            "bottom": null,
            "display": null,
            "flex": null,
            "flex_flow": null,
            "grid_area": null,
            "grid_auto_columns": null,
            "grid_auto_flow": null,
            "grid_auto_rows": null,
            "grid_column": null,
            "grid_gap": null,
            "grid_row": null,
            "grid_template_areas": null,
            "grid_template_columns": null,
            "grid_template_rows": null,
            "height": null,
            "justify_content": null,
            "justify_items": null,
            "left": null,
            "margin": null,
            "max_height": null,
            "max_width": null,
            "min_height": null,
            "min_width": null,
            "object_fit": null,
            "object_position": null,
            "order": null,
            "overflow": null,
            "overflow_x": null,
            "overflow_y": null,
            "padding": null,
            "right": null,
            "top": null,
            "visibility": null,
            "width": null
          }
        },
        "a3721201ea054f1eadbbad8d96f60b19": {
          "model_module": "@jupyter-widgets/controls",
          "model_name": "DescriptionStyleModel",
          "model_module_version": "1.5.0",
          "state": {
            "_model_module": "@jupyter-widgets/controls",
            "_model_module_version": "1.5.0",
            "_model_name": "DescriptionStyleModel",
            "_view_count": null,
            "_view_module": "@jupyter-widgets/base",
            "_view_module_version": "1.2.0",
            "_view_name": "StyleView",
            "description_width": ""
          }
        },
        "951ed6183eab45008061a6f8ea70e650": {
          "model_module": "@jupyter-widgets/controls",
          "model_name": "HBoxModel",
          "model_module_version": "1.5.0",
          "state": {
            "_dom_classes": [],
            "_model_module": "@jupyter-widgets/controls",
            "_model_module_version": "1.5.0",
            "_model_name": "HBoxModel",
            "_view_count": null,
            "_view_module": "@jupyter-widgets/controls",
            "_view_module_version": "1.5.0",
            "_view_name": "HBoxView",
            "box_style": "",
            "children": [
              "IPY_MODEL_f66755417a8845e5949974d0a90a7ff6",
              "IPY_MODEL_3891c11545124f27aaaaff78114c6231",
              "IPY_MODEL_d4922edd7e5942c1ac8fbfb265214460"
            ],
            "layout": "IPY_MODEL_79249bb69d514cffa0c2574fafe6c56e"
          }
        },
        "f66755417a8845e5949974d0a90a7ff6": {
          "model_module": "@jupyter-widgets/controls",
          "model_name": "HTMLModel",
          "model_module_version": "1.5.0",
          "state": {
            "_dom_classes": [],
            "_model_module": "@jupyter-widgets/controls",
            "_model_module_version": "1.5.0",
            "_model_name": "HTMLModel",
            "_view_count": null,
            "_view_module": "@jupyter-widgets/controls",
            "_view_module_version": "1.5.0",
            "_view_name": "HTMLView",
            "description": "",
            "description_tooltip": null,
            "layout": "IPY_MODEL_a97222dd61b24f23ab726da6a4fc7598",
            "placeholder": "​",
            "style": "IPY_MODEL_e84c9b3cb0aa462b831a62407699f71b",
            "value": "data_config.json: 100%"
          }
        },
        "3891c11545124f27aaaaff78114c6231": {
          "model_module": "@jupyter-widgets/controls",
          "model_name": "FloatProgressModel",
          "model_module_version": "1.5.0",
          "state": {
            "_dom_classes": [],
            "_model_module": "@jupyter-widgets/controls",
            "_model_module_version": "1.5.0",
            "_model_name": "FloatProgressModel",
            "_view_count": null,
            "_view_module": "@jupyter-widgets/controls",
            "_view_module_version": "1.5.0",
            "_view_name": "ProgressView",
            "bar_style": "success",
            "description": "",
            "description_tooltip": null,
            "layout": "IPY_MODEL_8b614cd54c4141baa7fbb3292feced4d",
            "max": 39265,
            "min": 0,
            "orientation": "horizontal",
            "style": "IPY_MODEL_133616bc91804098837699ad22cc8c79",
            "value": 39265
          }
        },
        "d4922edd7e5942c1ac8fbfb265214460": {
          "model_module": "@jupyter-widgets/controls",
          "model_name": "HTMLModel",
          "model_module_version": "1.5.0",
          "state": {
            "_dom_classes": [],
            "_model_module": "@jupyter-widgets/controls",
            "_model_module_version": "1.5.0",
            "_model_name": "HTMLModel",
            "_view_count": null,
            "_view_module": "@jupyter-widgets/controls",
            "_view_module_version": "1.5.0",
            "_view_name": "HTMLView",
            "description": "",
            "description_tooltip": null,
            "layout": "IPY_MODEL_e2cc2945ea3b4eb194ddf04aeccdb12d",
            "placeholder": "​",
            "style": "IPY_MODEL_31e38ce6eeb74348a34d1cc421947b93",
            "value": " 39.3k/39.3k [00:00&lt;00:00, 1.59MB/s]"
          }
        },
        "79249bb69d514cffa0c2574fafe6c56e": {
          "model_module": "@jupyter-widgets/base",
          "model_name": "LayoutModel",
          "model_module_version": "1.2.0",
          "state": {
            "_model_module": "@jupyter-widgets/base",
            "_model_module_version": "1.2.0",
            "_model_name": "LayoutModel",
            "_view_count": null,
            "_view_module": "@jupyter-widgets/base",
            "_view_module_version": "1.2.0",
            "_view_name": "LayoutView",
            "align_content": null,
            "align_items": null,
            "align_self": null,
            "border": null,
            "bottom": null,
            "display": null,
            "flex": null,
            "flex_flow": null,
            "grid_area": null,
            "grid_auto_columns": null,
            "grid_auto_flow": null,
            "grid_auto_rows": null,
            "grid_column": null,
            "grid_gap": null,
            "grid_row": null,
            "grid_template_areas": null,
            "grid_template_columns": null,
            "grid_template_rows": null,
            "height": null,
            "justify_content": null,
            "justify_items": null,
            "left": null,
            "margin": null,
            "max_height": null,
            "max_width": null,
            "min_height": null,
            "min_width": null,
            "object_fit": null,
            "object_position": null,
            "order": null,
            "overflow": null,
            "overflow_x": null,
            "overflow_y": null,
            "padding": null,
            "right": null,
            "top": null,
            "visibility": null,
            "width": null
          }
        },
        "a97222dd61b24f23ab726da6a4fc7598": {
          "model_module": "@jupyter-widgets/base",
          "model_name": "LayoutModel",
          "model_module_version": "1.2.0",
          "state": {
            "_model_module": "@jupyter-widgets/base",
            "_model_module_version": "1.2.0",
            "_model_name": "LayoutModel",
            "_view_count": null,
            "_view_module": "@jupyter-widgets/base",
            "_view_module_version": "1.2.0",
            "_view_name": "LayoutView",
            "align_content": null,
            "align_items": null,
            "align_self": null,
            "border": null,
            "bottom": null,
            "display": null,
            "flex": null,
            "flex_flow": null,
            "grid_area": null,
            "grid_auto_columns": null,
            "grid_auto_flow": null,
            "grid_auto_rows": null,
            "grid_column": null,
            "grid_gap": null,
            "grid_row": null,
            "grid_template_areas": null,
            "grid_template_columns": null,
            "grid_template_rows": null,
            "height": null,
            "justify_content": null,
            "justify_items": null,
            "left": null,
            "margin": null,
            "max_height": null,
            "max_width": null,
            "min_height": null,
            "min_width": null,
            "object_fit": null,
            "object_position": null,
            "order": null,
            "overflow": null,
            "overflow_x": null,
            "overflow_y": null,
            "padding": null,
            "right": null,
            "top": null,
            "visibility": null,
            "width": null
          }
        },
        "e84c9b3cb0aa462b831a62407699f71b": {
          "model_module": "@jupyter-widgets/controls",
          "model_name": "DescriptionStyleModel",
          "model_module_version": "1.5.0",
          "state": {
            "_model_module": "@jupyter-widgets/controls",
            "_model_module_version": "1.5.0",
            "_model_name": "DescriptionStyleModel",
            "_view_count": null,
            "_view_module": "@jupyter-widgets/base",
            "_view_module_version": "1.2.0",
            "_view_name": "StyleView",
            "description_width": ""
          }
        },
        "8b614cd54c4141baa7fbb3292feced4d": {
          "model_module": "@jupyter-widgets/base",
          "model_name": "LayoutModel",
          "model_module_version": "1.2.0",
          "state": {
            "_model_module": "@jupyter-widgets/base",
            "_model_module_version": "1.2.0",
            "_model_name": "LayoutModel",
            "_view_count": null,
            "_view_module": "@jupyter-widgets/base",
            "_view_module_version": "1.2.0",
            "_view_name": "LayoutView",
            "align_content": null,
            "align_items": null,
            "align_self": null,
            "border": null,
            "bottom": null,
            "display": null,
            "flex": null,
            "flex_flow": null,
            "grid_area": null,
            "grid_auto_columns": null,
            "grid_auto_flow": null,
            "grid_auto_rows": null,
            "grid_column": null,
            "grid_gap": null,
            "grid_row": null,
            "grid_template_areas": null,
            "grid_template_columns": null,
            "grid_template_rows": null,
            "height": null,
            "justify_content": null,
            "justify_items": null,
            "left": null,
            "margin": null,
            "max_height": null,
            "max_width": null,
            "min_height": null,
            "min_width": null,
            "object_fit": null,
            "object_position": null,
            "order": null,
            "overflow": null,
            "overflow_x": null,
            "overflow_y": null,
            "padding": null,
            "right": null,
            "top": null,
            "visibility": null,
            "width": null
          }
        },
        "133616bc91804098837699ad22cc8c79": {
          "model_module": "@jupyter-widgets/controls",
          "model_name": "ProgressStyleModel",
          "model_module_version": "1.5.0",
          "state": {
            "_model_module": "@jupyter-widgets/controls",
            "_model_module_version": "1.5.0",
            "_model_name": "ProgressStyleModel",
            "_view_count": null,
            "_view_module": "@jupyter-widgets/base",
            "_view_module_version": "1.2.0",
            "_view_name": "StyleView",
            "bar_color": null,
            "description_width": ""
          }
        },
        "e2cc2945ea3b4eb194ddf04aeccdb12d": {
          "model_module": "@jupyter-widgets/base",
          "model_name": "LayoutModel",
          "model_module_version": "1.2.0",
          "state": {
            "_model_module": "@jupyter-widgets/base",
            "_model_module_version": "1.2.0",
            "_model_name": "LayoutModel",
            "_view_count": null,
            "_view_module": "@jupyter-widgets/base",
            "_view_module_version": "1.2.0",
            "_view_name": "LayoutView",
            "align_content": null,
            "align_items": null,
            "align_self": null,
            "border": null,
            "bottom": null,
            "display": null,
            "flex": null,
            "flex_flow": null,
            "grid_area": null,
            "grid_auto_columns": null,
            "grid_auto_flow": null,
            "grid_auto_rows": null,
            "grid_column": null,
            "grid_gap": null,
            "grid_row": null,
            "grid_template_areas": null,
            "grid_template_columns": null,
            "grid_template_rows": null,
            "height": null,
            "justify_content": null,
            "justify_items": null,
            "left": null,
            "margin": null,
            "max_height": null,
            "max_width": null,
            "min_height": null,
            "min_width": null,
            "object_fit": null,
            "object_position": null,
            "order": null,
            "overflow": null,
            "overflow_x": null,
            "overflow_y": null,
            "padding": null,
            "right": null,
            "top": null,
            "visibility": null,
            "width": null
          }
        },
        "31e38ce6eeb74348a34d1cc421947b93": {
          "model_module": "@jupyter-widgets/controls",
          "model_name": "DescriptionStyleModel",
          "model_module_version": "1.5.0",
          "state": {
            "_model_module": "@jupyter-widgets/controls",
            "_model_module_version": "1.5.0",
            "_model_name": "DescriptionStyleModel",
            "_view_count": null,
            "_view_module": "@jupyter-widgets/base",
            "_view_module_version": "1.2.0",
            "_view_name": "StyleView",
            "description_width": ""
          }
        },
        "5968a80774d640f290464d8859108733": {
          "model_module": "@jupyter-widgets/controls",
          "model_name": "HBoxModel",
          "model_module_version": "1.5.0",
          "state": {
            "_dom_classes": [],
            "_model_module": "@jupyter-widgets/controls",
            "_model_module_version": "1.5.0",
            "_model_name": "HBoxModel",
            "_view_count": null,
            "_view_module": "@jupyter-widgets/controls",
            "_view_module_version": "1.5.0",
            "_view_name": "HBoxView",
            "box_style": "",
            "children": [
              "IPY_MODEL_1ca86c81947f404fab4aaff00361cb0f",
              "IPY_MODEL_4217369ba9ca44ac89b977fa0fac53bd",
              "IPY_MODEL_f9c0b083d1c1449aaf9a971bb93e4032"
            ],
            "layout": "IPY_MODEL_0310f86c94f2429887e2d918aa7af636"
          }
        },
        "1ca86c81947f404fab4aaff00361cb0f": {
          "model_module": "@jupyter-widgets/controls",
          "model_name": "HTMLModel",
          "model_module_version": "1.5.0",
          "state": {
            "_dom_classes": [],
            "_model_module": "@jupyter-widgets/controls",
            "_model_module_version": "1.5.0",
            "_model_name": "HTMLModel",
            "_view_count": null,
            "_view_module": "@jupyter-widgets/controls",
            "_view_module_version": "1.5.0",
            "_view_name": "HTMLView",
            "description": "",
            "description_tooltip": null,
            "layout": "IPY_MODEL_575ab334262444fcbdb525e7bc6e161f",
            "placeholder": "​",
            "style": "IPY_MODEL_3061638888914cc5adae59e7249991dc",
            "value": "pytorch_model.bin: 100%"
          }
        },
        "4217369ba9ca44ac89b977fa0fac53bd": {
          "model_module": "@jupyter-widgets/controls",
          "model_name": "FloatProgressModel",
          "model_module_version": "1.5.0",
          "state": {
            "_dom_classes": [],
            "_model_module": "@jupyter-widgets/controls",
            "_model_module_version": "1.5.0",
            "_model_name": "FloatProgressModel",
            "_view_count": null,
            "_view_module": "@jupyter-widgets/controls",
            "_view_module_version": "1.5.0",
            "_view_name": "ProgressView",
            "bar_style": "success",
            "description": "",
            "description_tooltip": null,
            "layout": "IPY_MODEL_3a9546b25d6b420e93f35ae8f618be3e",
            "max": 438011953,
            "min": 0,
            "orientation": "horizontal",
            "style": "IPY_MODEL_f0b009f0e46b4daa929eac895e7d2f25",
            "value": 438011953
          }
        },
        "f9c0b083d1c1449aaf9a971bb93e4032": {
          "model_module": "@jupyter-widgets/controls",
          "model_name": "HTMLModel",
          "model_module_version": "1.5.0",
          "state": {
            "_dom_classes": [],
            "_model_module": "@jupyter-widgets/controls",
            "_model_module_version": "1.5.0",
            "_model_name": "HTMLModel",
            "_view_count": null,
            "_view_module": "@jupyter-widgets/controls",
            "_view_module_version": "1.5.0",
            "_view_name": "HTMLView",
            "description": "",
            "description_tooltip": null,
            "layout": "IPY_MODEL_350d3ace107d4b55b363f1ff02861199",
            "placeholder": "​",
            "style": "IPY_MODEL_465046be889f4abcb7fde71e902b415a",
            "value": " 438M/438M [00:03&lt;00:00, 126MB/s]"
          }
        },
        "0310f86c94f2429887e2d918aa7af636": {
          "model_module": "@jupyter-widgets/base",
          "model_name": "LayoutModel",
          "model_module_version": "1.2.0",
          "state": {
            "_model_module": "@jupyter-widgets/base",
            "_model_module_version": "1.2.0",
            "_model_name": "LayoutModel",
            "_view_count": null,
            "_view_module": "@jupyter-widgets/base",
            "_view_module_version": "1.2.0",
            "_view_name": "LayoutView",
            "align_content": null,
            "align_items": null,
            "align_self": null,
            "border": null,
            "bottom": null,
            "display": null,
            "flex": null,
            "flex_flow": null,
            "grid_area": null,
            "grid_auto_columns": null,
            "grid_auto_flow": null,
            "grid_auto_rows": null,
            "grid_column": null,
            "grid_gap": null,
            "grid_row": null,
            "grid_template_areas": null,
            "grid_template_columns": null,
            "grid_template_rows": null,
            "height": null,
            "justify_content": null,
            "justify_items": null,
            "left": null,
            "margin": null,
            "max_height": null,
            "max_width": null,
            "min_height": null,
            "min_width": null,
            "object_fit": null,
            "object_position": null,
            "order": null,
            "overflow": null,
            "overflow_x": null,
            "overflow_y": null,
            "padding": null,
            "right": null,
            "top": null,
            "visibility": null,
            "width": null
          }
        },
        "575ab334262444fcbdb525e7bc6e161f": {
          "model_module": "@jupyter-widgets/base",
          "model_name": "LayoutModel",
          "model_module_version": "1.2.0",
          "state": {
            "_model_module": "@jupyter-widgets/base",
            "_model_module_version": "1.2.0",
            "_model_name": "LayoutModel",
            "_view_count": null,
            "_view_module": "@jupyter-widgets/base",
            "_view_module_version": "1.2.0",
            "_view_name": "LayoutView",
            "align_content": null,
            "align_items": null,
            "align_self": null,
            "border": null,
            "bottom": null,
            "display": null,
            "flex": null,
            "flex_flow": null,
            "grid_area": null,
            "grid_auto_columns": null,
            "grid_auto_flow": null,
            "grid_auto_rows": null,
            "grid_column": null,
            "grid_gap": null,
            "grid_row": null,
            "grid_template_areas": null,
            "grid_template_columns": null,
            "grid_template_rows": null,
            "height": null,
            "justify_content": null,
            "justify_items": null,
            "left": null,
            "margin": null,
            "max_height": null,
            "max_width": null,
            "min_height": null,
            "min_width": null,
            "object_fit": null,
            "object_position": null,
            "order": null,
            "overflow": null,
            "overflow_x": null,
            "overflow_y": null,
            "padding": null,
            "right": null,
            "top": null,
            "visibility": null,
            "width": null
          }
        },
        "3061638888914cc5adae59e7249991dc": {
          "model_module": "@jupyter-widgets/controls",
          "model_name": "DescriptionStyleModel",
          "model_module_version": "1.5.0",
          "state": {
            "_model_module": "@jupyter-widgets/controls",
            "_model_module_version": "1.5.0",
            "_model_name": "DescriptionStyleModel",
            "_view_count": null,
            "_view_module": "@jupyter-widgets/base",
            "_view_module_version": "1.2.0",
            "_view_name": "StyleView",
            "description_width": ""
          }
        },
        "3a9546b25d6b420e93f35ae8f618be3e": {
          "model_module": "@jupyter-widgets/base",
          "model_name": "LayoutModel",
          "model_module_version": "1.2.0",
          "state": {
            "_model_module": "@jupyter-widgets/base",
            "_model_module_version": "1.2.0",
            "_model_name": "LayoutModel",
            "_view_count": null,
            "_view_module": "@jupyter-widgets/base",
            "_view_module_version": "1.2.0",
            "_view_name": "LayoutView",
            "align_content": null,
            "align_items": null,
            "align_self": null,
            "border": null,
            "bottom": null,
            "display": null,
            "flex": null,
            "flex_flow": null,
            "grid_area": null,
            "grid_auto_columns": null,
            "grid_auto_flow": null,
            "grid_auto_rows": null,
            "grid_column": null,
            "grid_gap": null,
            "grid_row": null,
            "grid_template_areas": null,
            "grid_template_columns": null,
            "grid_template_rows": null,
            "height": null,
            "justify_content": null,
            "justify_items": null,
            "left": null,
            "margin": null,
            "max_height": null,
            "max_width": null,
            "min_height": null,
            "min_width": null,
            "object_fit": null,
            "object_position": null,
            "order": null,
            "overflow": null,
            "overflow_x": null,
            "overflow_y": null,
            "padding": null,
            "right": null,
            "top": null,
            "visibility": null,
            "width": null
          }
        },
        "f0b009f0e46b4daa929eac895e7d2f25": {
          "model_module": "@jupyter-widgets/controls",
          "model_name": "ProgressStyleModel",
          "model_module_version": "1.5.0",
          "state": {
            "_model_module": "@jupyter-widgets/controls",
            "_model_module_version": "1.5.0",
            "_model_name": "ProgressStyleModel",
            "_view_count": null,
            "_view_module": "@jupyter-widgets/base",
            "_view_module_version": "1.2.0",
            "_view_name": "StyleView",
            "bar_color": null,
            "description_width": ""
          }
        },
        "350d3ace107d4b55b363f1ff02861199": {
          "model_module": "@jupyter-widgets/base",
          "model_name": "LayoutModel",
          "model_module_version": "1.2.0",
          "state": {
            "_model_module": "@jupyter-widgets/base",
            "_model_module_version": "1.2.0",
            "_model_name": "LayoutModel",
            "_view_count": null,
            "_view_module": "@jupyter-widgets/base",
            "_view_module_version": "1.2.0",
            "_view_name": "LayoutView",
            "align_content": null,
            "align_items": null,
            "align_self": null,
            "border": null,
            "bottom": null,
            "display": null,
            "flex": null,
            "flex_flow": null,
            "grid_area": null,
            "grid_auto_columns": null,
            "grid_auto_flow": null,
            "grid_auto_rows": null,
            "grid_column": null,
            "grid_gap": null,
            "grid_row": null,
            "grid_template_areas": null,
            "grid_template_columns": null,
            "grid_template_rows": null,
            "height": null,
            "justify_content": null,
            "justify_items": null,
            "left": null,
            "margin": null,
            "max_height": null,
            "max_width": null,
            "min_height": null,
            "min_width": null,
            "object_fit": null,
            "object_position": null,
            "order": null,
            "overflow": null,
            "overflow_x": null,
            "overflow_y": null,
            "padding": null,
            "right": null,
            "top": null,
            "visibility": null,
            "width": null
          }
        },
        "465046be889f4abcb7fde71e902b415a": {
          "model_module": "@jupyter-widgets/controls",
          "model_name": "DescriptionStyleModel",
          "model_module_version": "1.5.0",
          "state": {
            "_model_module": "@jupyter-widgets/controls",
            "_model_module_version": "1.5.0",
            "_model_name": "DescriptionStyleModel",
            "_view_count": null,
            "_view_module": "@jupyter-widgets/base",
            "_view_module_version": "1.2.0",
            "_view_name": "StyleView",
            "description_width": ""
          }
        },
        "b62389fb27dd404fafd2c817c147cb81": {
          "model_module": "@jupyter-widgets/controls",
          "model_name": "HBoxModel",
          "model_module_version": "1.5.0",
          "state": {
            "_dom_classes": [],
            "_model_module": "@jupyter-widgets/controls",
            "_model_module_version": "1.5.0",
            "_model_name": "HBoxModel",
            "_view_count": null,
            "_view_module": "@jupyter-widgets/controls",
            "_view_module_version": "1.5.0",
            "_view_name": "HBoxView",
            "box_style": "",
            "children": [
              "IPY_MODEL_2379ca9503a940a0afb8ef5d7112b0aa",
              "IPY_MODEL_9762ed339f3f433e9cdaaa99d04348c3",
              "IPY_MODEL_71ea0f4870974668bdcb3eddd6d2c5cc"
            ],
            "layout": "IPY_MODEL_bcde5298d396489da40ff0eb5fcee791"
          }
        },
        "2379ca9503a940a0afb8ef5d7112b0aa": {
          "model_module": "@jupyter-widgets/controls",
          "model_name": "HTMLModel",
          "model_module_version": "1.5.0",
          "state": {
            "_dom_classes": [],
            "_model_module": "@jupyter-widgets/controls",
            "_model_module_version": "1.5.0",
            "_model_name": "HTMLModel",
            "_view_count": null,
            "_view_module": "@jupyter-widgets/controls",
            "_view_module_version": "1.5.0",
            "_view_name": "HTMLView",
            "description": "",
            "description_tooltip": null,
            "layout": "IPY_MODEL_44cc7c13190a4e79b09a76ef6597cc2d",
            "placeholder": "​",
            "style": "IPY_MODEL_4eb354ffec4d430cbf413991c7279ed6",
            "value": "sentence_bert_config.json: 100%"
          }
        },
        "9762ed339f3f433e9cdaaa99d04348c3": {
          "model_module": "@jupyter-widgets/controls",
          "model_name": "FloatProgressModel",
          "model_module_version": "1.5.0",
          "state": {
            "_dom_classes": [],
            "_model_module": "@jupyter-widgets/controls",
            "_model_module_version": "1.5.0",
            "_model_name": "FloatProgressModel",
            "_view_count": null,
            "_view_module": "@jupyter-widgets/controls",
            "_view_module_version": "1.5.0",
            "_view_name": "ProgressView",
            "bar_style": "success",
            "description": "",
            "description_tooltip": null,
            "layout": "IPY_MODEL_6c1690df914a4b5db859ac85bb4576a6",
            "max": 53,
            "min": 0,
            "orientation": "horizontal",
            "style": "IPY_MODEL_69cd28b83a934c38aba6a912c35cb5b6",
            "value": 53
          }
        },
        "71ea0f4870974668bdcb3eddd6d2c5cc": {
          "model_module": "@jupyter-widgets/controls",
          "model_name": "HTMLModel",
          "model_module_version": "1.5.0",
          "state": {
            "_dom_classes": [],
            "_model_module": "@jupyter-widgets/controls",
            "_model_module_version": "1.5.0",
            "_model_name": "HTMLModel",
            "_view_count": null,
            "_view_module": "@jupyter-widgets/controls",
            "_view_module_version": "1.5.0",
            "_view_name": "HTMLView",
            "description": "",
            "description_tooltip": null,
            "layout": "IPY_MODEL_8b417745c20c4fd89a4bb1af991380c4",
            "placeholder": "​",
            "style": "IPY_MODEL_b4f1bbd3442a44f090d0a9f12a0abd4c",
            "value": " 53.0/53.0 [00:00&lt;00:00, 1.95kB/s]"
          }
        },
        "bcde5298d396489da40ff0eb5fcee791": {
          "model_module": "@jupyter-widgets/base",
          "model_name": "LayoutModel",
          "model_module_version": "1.2.0",
          "state": {
            "_model_module": "@jupyter-widgets/base",
            "_model_module_version": "1.2.0",
            "_model_name": "LayoutModel",
            "_view_count": null,
            "_view_module": "@jupyter-widgets/base",
            "_view_module_version": "1.2.0",
            "_view_name": "LayoutView",
            "align_content": null,
            "align_items": null,
            "align_self": null,
            "border": null,
            "bottom": null,
            "display": null,
            "flex": null,
            "flex_flow": null,
            "grid_area": null,
            "grid_auto_columns": null,
            "grid_auto_flow": null,
            "grid_auto_rows": null,
            "grid_column": null,
            "grid_gap": null,
            "grid_row": null,
            "grid_template_areas": null,
            "grid_template_columns": null,
            "grid_template_rows": null,
            "height": null,
            "justify_content": null,
            "justify_items": null,
            "left": null,
            "margin": null,
            "max_height": null,
            "max_width": null,
            "min_height": null,
            "min_width": null,
            "object_fit": null,
            "object_position": null,
            "order": null,
            "overflow": null,
            "overflow_x": null,
            "overflow_y": null,
            "padding": null,
            "right": null,
            "top": null,
            "visibility": null,
            "width": null
          }
        },
        "44cc7c13190a4e79b09a76ef6597cc2d": {
          "model_module": "@jupyter-widgets/base",
          "model_name": "LayoutModel",
          "model_module_version": "1.2.0",
          "state": {
            "_model_module": "@jupyter-widgets/base",
            "_model_module_version": "1.2.0",
            "_model_name": "LayoutModel",
            "_view_count": null,
            "_view_module": "@jupyter-widgets/base",
            "_view_module_version": "1.2.0",
            "_view_name": "LayoutView",
            "align_content": null,
            "align_items": null,
            "align_self": null,
            "border": null,
            "bottom": null,
            "display": null,
            "flex": null,
            "flex_flow": null,
            "grid_area": null,
            "grid_auto_columns": null,
            "grid_auto_flow": null,
            "grid_auto_rows": null,
            "grid_column": null,
            "grid_gap": null,
            "grid_row": null,
            "grid_template_areas": null,
            "grid_template_columns": null,
            "grid_template_rows": null,
            "height": null,
            "justify_content": null,
            "justify_items": null,
            "left": null,
            "margin": null,
            "max_height": null,
            "max_width": null,
            "min_height": null,
            "min_width": null,
            "object_fit": null,
            "object_position": null,
            "order": null,
            "overflow": null,
            "overflow_x": null,
            "overflow_y": null,
            "padding": null,
            "right": null,
            "top": null,
            "visibility": null,
            "width": null
          }
        },
        "4eb354ffec4d430cbf413991c7279ed6": {
          "model_module": "@jupyter-widgets/controls",
          "model_name": "DescriptionStyleModel",
          "model_module_version": "1.5.0",
          "state": {
            "_model_module": "@jupyter-widgets/controls",
            "_model_module_version": "1.5.0",
            "_model_name": "DescriptionStyleModel",
            "_view_count": null,
            "_view_module": "@jupyter-widgets/base",
            "_view_module_version": "1.2.0",
            "_view_name": "StyleView",
            "description_width": ""
          }
        },
        "6c1690df914a4b5db859ac85bb4576a6": {
          "model_module": "@jupyter-widgets/base",
          "model_name": "LayoutModel",
          "model_module_version": "1.2.0",
          "state": {
            "_model_module": "@jupyter-widgets/base",
            "_model_module_version": "1.2.0",
            "_model_name": "LayoutModel",
            "_view_count": null,
            "_view_module": "@jupyter-widgets/base",
            "_view_module_version": "1.2.0",
            "_view_name": "LayoutView",
            "align_content": null,
            "align_items": null,
            "align_self": null,
            "border": null,
            "bottom": null,
            "display": null,
            "flex": null,
            "flex_flow": null,
            "grid_area": null,
            "grid_auto_columns": null,
            "grid_auto_flow": null,
            "grid_auto_rows": null,
            "grid_column": null,
            "grid_gap": null,
            "grid_row": null,
            "grid_template_areas": null,
            "grid_template_columns": null,
            "grid_template_rows": null,
            "height": null,
            "justify_content": null,
            "justify_items": null,
            "left": null,
            "margin": null,
            "max_height": null,
            "max_width": null,
            "min_height": null,
            "min_width": null,
            "object_fit": null,
            "object_position": null,
            "order": null,
            "overflow": null,
            "overflow_x": null,
            "overflow_y": null,
            "padding": null,
            "right": null,
            "top": null,
            "visibility": null,
            "width": null
          }
        },
        "69cd28b83a934c38aba6a912c35cb5b6": {
          "model_module": "@jupyter-widgets/controls",
          "model_name": "ProgressStyleModel",
          "model_module_version": "1.5.0",
          "state": {
            "_model_module": "@jupyter-widgets/controls",
            "_model_module_version": "1.5.0",
            "_model_name": "ProgressStyleModel",
            "_view_count": null,
            "_view_module": "@jupyter-widgets/base",
            "_view_module_version": "1.2.0",
            "_view_name": "StyleView",
            "bar_color": null,
            "description_width": ""
          }
        },
        "8b417745c20c4fd89a4bb1af991380c4": {
          "model_module": "@jupyter-widgets/base",
          "model_name": "LayoutModel",
          "model_module_version": "1.2.0",
          "state": {
            "_model_module": "@jupyter-widgets/base",
            "_model_module_version": "1.2.0",
            "_model_name": "LayoutModel",
            "_view_count": null,
            "_view_module": "@jupyter-widgets/base",
            "_view_module_version": "1.2.0",
            "_view_name": "LayoutView",
            "align_content": null,
            "align_items": null,
            "align_self": null,
            "border": null,
            "bottom": null,
            "display": null,
            "flex": null,
            "flex_flow": null,
            "grid_area": null,
            "grid_auto_columns": null,
            "grid_auto_flow": null,
            "grid_auto_rows": null,
            "grid_column": null,
            "grid_gap": null,
            "grid_row": null,
            "grid_template_areas": null,
            "grid_template_columns": null,
            "grid_template_rows": null,
            "height": null,
            "justify_content": null,
            "justify_items": null,
            "left": null,
            "margin": null,
            "max_height": null,
            "max_width": null,
            "min_height": null,
            "min_width": null,
            "object_fit": null,
            "object_position": null,
            "order": null,
            "overflow": null,
            "overflow_x": null,
            "overflow_y": null,
            "padding": null,
            "right": null,
            "top": null,
            "visibility": null,
            "width": null
          }
        },
        "b4f1bbd3442a44f090d0a9f12a0abd4c": {
          "model_module": "@jupyter-widgets/controls",
          "model_name": "DescriptionStyleModel",
          "model_module_version": "1.5.0",
          "state": {
            "_model_module": "@jupyter-widgets/controls",
            "_model_module_version": "1.5.0",
            "_model_name": "DescriptionStyleModel",
            "_view_count": null,
            "_view_module": "@jupyter-widgets/base",
            "_view_module_version": "1.2.0",
            "_view_name": "StyleView",
            "description_width": ""
          }
        },
        "6406a4e9df5441f68b04d4eaedd3e475": {
          "model_module": "@jupyter-widgets/controls",
          "model_name": "HBoxModel",
          "model_module_version": "1.5.0",
          "state": {
            "_dom_classes": [],
            "_model_module": "@jupyter-widgets/controls",
            "_model_module_version": "1.5.0",
            "_model_name": "HBoxModel",
            "_view_count": null,
            "_view_module": "@jupyter-widgets/controls",
            "_view_module_version": "1.5.0",
            "_view_name": "HBoxView",
            "box_style": "",
            "children": [
              "IPY_MODEL_16e14aed88454a6da6dfd38df529065a",
              "IPY_MODEL_27c3f4d235ee426ea51f956f63b3fe8d",
              "IPY_MODEL_1bf0760c05ac402f8f5a9722f0b61b56"
            ],
            "layout": "IPY_MODEL_92b4de7aa7f649988b7dc764c74209be"
          }
        },
        "16e14aed88454a6da6dfd38df529065a": {
          "model_module": "@jupyter-widgets/controls",
          "model_name": "HTMLModel",
          "model_module_version": "1.5.0",
          "state": {
            "_dom_classes": [],
            "_model_module": "@jupyter-widgets/controls",
            "_model_module_version": "1.5.0",
            "_model_name": "HTMLModel",
            "_view_count": null,
            "_view_module": "@jupyter-widgets/controls",
            "_view_module_version": "1.5.0",
            "_view_name": "HTMLView",
            "description": "",
            "description_tooltip": null,
            "layout": "IPY_MODEL_da25cace96be4136a55b91346fccf528",
            "placeholder": "​",
            "style": "IPY_MODEL_22e9a1e99d87470b9188cccadb18b7a2",
            "value": "special_tokens_map.json: 100%"
          }
        },
        "27c3f4d235ee426ea51f956f63b3fe8d": {
          "model_module": "@jupyter-widgets/controls",
          "model_name": "FloatProgressModel",
          "model_module_version": "1.5.0",
          "state": {
            "_dom_classes": [],
            "_model_module": "@jupyter-widgets/controls",
            "_model_module_version": "1.5.0",
            "_model_name": "FloatProgressModel",
            "_view_count": null,
            "_view_module": "@jupyter-widgets/controls",
            "_view_module_version": "1.5.0",
            "_view_name": "ProgressView",
            "bar_style": "success",
            "description": "",
            "description_tooltip": null,
            "layout": "IPY_MODEL_9fccd8d75d4f4bd99e6a2ab0465e3569",
            "max": 239,
            "min": 0,
            "orientation": "horizontal",
            "style": "IPY_MODEL_7ab77c419ae64295993a12129ab38758",
            "value": 239
          }
        },
        "1bf0760c05ac402f8f5a9722f0b61b56": {
          "model_module": "@jupyter-widgets/controls",
          "model_name": "HTMLModel",
          "model_module_version": "1.5.0",
          "state": {
            "_dom_classes": [],
            "_model_module": "@jupyter-widgets/controls",
            "_model_module_version": "1.5.0",
            "_model_name": "HTMLModel",
            "_view_count": null,
            "_view_module": "@jupyter-widgets/controls",
            "_view_module_version": "1.5.0",
            "_view_name": "HTMLView",
            "description": "",
            "description_tooltip": null,
            "layout": "IPY_MODEL_b3ba276184ca4e34b9cb2c0572e3ade6",
            "placeholder": "​",
            "style": "IPY_MODEL_56b30a87e1274ad2ab9643cd887ba4bd",
            "value": " 239/239 [00:00&lt;00:00, 8.23kB/s]"
          }
        },
        "92b4de7aa7f649988b7dc764c74209be": {
          "model_module": "@jupyter-widgets/base",
          "model_name": "LayoutModel",
          "model_module_version": "1.2.0",
          "state": {
            "_model_module": "@jupyter-widgets/base",
            "_model_module_version": "1.2.0",
            "_model_name": "LayoutModel",
            "_view_count": null,
            "_view_module": "@jupyter-widgets/base",
            "_view_module_version": "1.2.0",
            "_view_name": "LayoutView",
            "align_content": null,
            "align_items": null,
            "align_self": null,
            "border": null,
            "bottom": null,
            "display": null,
            "flex": null,
            "flex_flow": null,
            "grid_area": null,
            "grid_auto_columns": null,
            "grid_auto_flow": null,
            "grid_auto_rows": null,
            "grid_column": null,
            "grid_gap": null,
            "grid_row": null,
            "grid_template_areas": null,
            "grid_template_columns": null,
            "grid_template_rows": null,
            "height": null,
            "justify_content": null,
            "justify_items": null,
            "left": null,
            "margin": null,
            "max_height": null,
            "max_width": null,
            "min_height": null,
            "min_width": null,
            "object_fit": null,
            "object_position": null,
            "order": null,
            "overflow": null,
            "overflow_x": null,
            "overflow_y": null,
            "padding": null,
            "right": null,
            "top": null,
            "visibility": null,
            "width": null
          }
        },
        "da25cace96be4136a55b91346fccf528": {
          "model_module": "@jupyter-widgets/base",
          "model_name": "LayoutModel",
          "model_module_version": "1.2.0",
          "state": {
            "_model_module": "@jupyter-widgets/base",
            "_model_module_version": "1.2.0",
            "_model_name": "LayoutModel",
            "_view_count": null,
            "_view_module": "@jupyter-widgets/base",
            "_view_module_version": "1.2.0",
            "_view_name": "LayoutView",
            "align_content": null,
            "align_items": null,
            "align_self": null,
            "border": null,
            "bottom": null,
            "display": null,
            "flex": null,
            "flex_flow": null,
            "grid_area": null,
            "grid_auto_columns": null,
            "grid_auto_flow": null,
            "grid_auto_rows": null,
            "grid_column": null,
            "grid_gap": null,
            "grid_row": null,
            "grid_template_areas": null,
            "grid_template_columns": null,
            "grid_template_rows": null,
            "height": null,
            "justify_content": null,
            "justify_items": null,
            "left": null,
            "margin": null,
            "max_height": null,
            "max_width": null,
            "min_height": null,
            "min_width": null,
            "object_fit": null,
            "object_position": null,
            "order": null,
            "overflow": null,
            "overflow_x": null,
            "overflow_y": null,
            "padding": null,
            "right": null,
            "top": null,
            "visibility": null,
            "width": null
          }
        },
        "22e9a1e99d87470b9188cccadb18b7a2": {
          "model_module": "@jupyter-widgets/controls",
          "model_name": "DescriptionStyleModel",
          "model_module_version": "1.5.0",
          "state": {
            "_model_module": "@jupyter-widgets/controls",
            "_model_module_version": "1.5.0",
            "_model_name": "DescriptionStyleModel",
            "_view_count": null,
            "_view_module": "@jupyter-widgets/base",
            "_view_module_version": "1.2.0",
            "_view_name": "StyleView",
            "description_width": ""
          }
        },
        "9fccd8d75d4f4bd99e6a2ab0465e3569": {
          "model_module": "@jupyter-widgets/base",
          "model_name": "LayoutModel",
          "model_module_version": "1.2.0",
          "state": {
            "_model_module": "@jupyter-widgets/base",
            "_model_module_version": "1.2.0",
            "_model_name": "LayoutModel",
            "_view_count": null,
            "_view_module": "@jupyter-widgets/base",
            "_view_module_version": "1.2.0",
            "_view_name": "LayoutView",
            "align_content": null,
            "align_items": null,
            "align_self": null,
            "border": null,
            "bottom": null,
            "display": null,
            "flex": null,
            "flex_flow": null,
            "grid_area": null,
            "grid_auto_columns": null,
            "grid_auto_flow": null,
            "grid_auto_rows": null,
            "grid_column": null,
            "grid_gap": null,
            "grid_row": null,
            "grid_template_areas": null,
            "grid_template_columns": null,
            "grid_template_rows": null,
            "height": null,
            "justify_content": null,
            "justify_items": null,
            "left": null,
            "margin": null,
            "max_height": null,
            "max_width": null,
            "min_height": null,
            "min_width": null,
            "object_fit": null,
            "object_position": null,
            "order": null,
            "overflow": null,
            "overflow_x": null,
            "overflow_y": null,
            "padding": null,
            "right": null,
            "top": null,
            "visibility": null,
            "width": null
          }
        },
        "7ab77c419ae64295993a12129ab38758": {
          "model_module": "@jupyter-widgets/controls",
          "model_name": "ProgressStyleModel",
          "model_module_version": "1.5.0",
          "state": {
            "_model_module": "@jupyter-widgets/controls",
            "_model_module_version": "1.5.0",
            "_model_name": "ProgressStyleModel",
            "_view_count": null,
            "_view_module": "@jupyter-widgets/base",
            "_view_module_version": "1.2.0",
            "_view_name": "StyleView",
            "bar_color": null,
            "description_width": ""
          }
        },
        "b3ba276184ca4e34b9cb2c0572e3ade6": {
          "model_module": "@jupyter-widgets/base",
          "model_name": "LayoutModel",
          "model_module_version": "1.2.0",
          "state": {
            "_model_module": "@jupyter-widgets/base",
            "_model_module_version": "1.2.0",
            "_model_name": "LayoutModel",
            "_view_count": null,
            "_view_module": "@jupyter-widgets/base",
            "_view_module_version": "1.2.0",
            "_view_name": "LayoutView",
            "align_content": null,
            "align_items": null,
            "align_self": null,
            "border": null,
            "bottom": null,
            "display": null,
            "flex": null,
            "flex_flow": null,
            "grid_area": null,
            "grid_auto_columns": null,
            "grid_auto_flow": null,
            "grid_auto_rows": null,
            "grid_column": null,
            "grid_gap": null,
            "grid_row": null,
            "grid_template_areas": null,
            "grid_template_columns": null,
            "grid_template_rows": null,
            "height": null,
            "justify_content": null,
            "justify_items": null,
            "left": null,
            "margin": null,
            "max_height": null,
            "max_width": null,
            "min_height": null,
            "min_width": null,
            "object_fit": null,
            "object_position": null,
            "order": null,
            "overflow": null,
            "overflow_x": null,
            "overflow_y": null,
            "padding": null,
            "right": null,
            "top": null,
            "visibility": null,
            "width": null
          }
        },
        "56b30a87e1274ad2ab9643cd887ba4bd": {
          "model_module": "@jupyter-widgets/controls",
          "model_name": "DescriptionStyleModel",
          "model_module_version": "1.5.0",
          "state": {
            "_model_module": "@jupyter-widgets/controls",
            "_model_module_version": "1.5.0",
            "_model_name": "DescriptionStyleModel",
            "_view_count": null,
            "_view_module": "@jupyter-widgets/base",
            "_view_module_version": "1.2.0",
            "_view_name": "StyleView",
            "description_width": ""
          }
        },
        "0d751cf7428f47a9967c762bd80fe898": {
          "model_module": "@jupyter-widgets/controls",
          "model_name": "HBoxModel",
          "model_module_version": "1.5.0",
          "state": {
            "_dom_classes": [],
            "_model_module": "@jupyter-widgets/controls",
            "_model_module_version": "1.5.0",
            "_model_name": "HBoxModel",
            "_view_count": null,
            "_view_module": "@jupyter-widgets/controls",
            "_view_module_version": "1.5.0",
            "_view_name": "HBoxView",
            "box_style": "",
            "children": [
              "IPY_MODEL_7214a734dad646c8bd565ccb2624ea2d",
              "IPY_MODEL_9263a2e1355b4bd986d00710ca2e938a",
              "IPY_MODEL_43988b4800784f22834ac19fe2a91bca"
            ],
            "layout": "IPY_MODEL_b7a148f238fc477c95d84799c736d5ff"
          }
        },
        "7214a734dad646c8bd565ccb2624ea2d": {
          "model_module": "@jupyter-widgets/controls",
          "model_name": "HTMLModel",
          "model_module_version": "1.5.0",
          "state": {
            "_dom_classes": [],
            "_model_module": "@jupyter-widgets/controls",
            "_model_module_version": "1.5.0",
            "_model_name": "HTMLModel",
            "_view_count": null,
            "_view_module": "@jupyter-widgets/controls",
            "_view_module_version": "1.5.0",
            "_view_name": "HTMLView",
            "description": "",
            "description_tooltip": null,
            "layout": "IPY_MODEL_7fac20fe02584490827f238e5a7619e0",
            "placeholder": "​",
            "style": "IPY_MODEL_a7a34a0ca5d944fab57ac43e16dd0e96",
            "value": "tokenizer.json: 100%"
          }
        },
        "9263a2e1355b4bd986d00710ca2e938a": {
          "model_module": "@jupyter-widgets/controls",
          "model_name": "FloatProgressModel",
          "model_module_version": "1.5.0",
          "state": {
            "_dom_classes": [],
            "_model_module": "@jupyter-widgets/controls",
            "_model_module_version": "1.5.0",
            "_model_name": "FloatProgressModel",
            "_view_count": null,
            "_view_module": "@jupyter-widgets/controls",
            "_view_module_version": "1.5.0",
            "_view_name": "ProgressView",
            "bar_style": "success",
            "description": "",
            "description_tooltip": null,
            "layout": "IPY_MODEL_a5db16918c674c15aaed8c8d396d9631",
            "max": 466021,
            "min": 0,
            "orientation": "horizontal",
            "style": "IPY_MODEL_5860dce0d28b4522a0e51487b6bd88bf",
            "value": 466021
          }
        },
        "43988b4800784f22834ac19fe2a91bca": {
          "model_module": "@jupyter-widgets/controls",
          "model_name": "HTMLModel",
          "model_module_version": "1.5.0",
          "state": {
            "_dom_classes": [],
            "_model_module": "@jupyter-widgets/controls",
            "_model_module_version": "1.5.0",
            "_model_name": "HTMLModel",
            "_view_count": null,
            "_view_module": "@jupyter-widgets/controls",
            "_view_module_version": "1.5.0",
            "_view_name": "HTMLView",
            "description": "",
            "description_tooltip": null,
            "layout": "IPY_MODEL_4e6672a9a5a948a2b9bfb4105c2656a9",
            "placeholder": "​",
            "style": "IPY_MODEL_a2b07aa9691b463bbf043dfa06a3a580",
            "value": " 466k/466k [00:00&lt;00:00, 5.11MB/s]"
          }
        },
        "b7a148f238fc477c95d84799c736d5ff": {
          "model_module": "@jupyter-widgets/base",
          "model_name": "LayoutModel",
          "model_module_version": "1.2.0",
          "state": {
            "_model_module": "@jupyter-widgets/base",
            "_model_module_version": "1.2.0",
            "_model_name": "LayoutModel",
            "_view_count": null,
            "_view_module": "@jupyter-widgets/base",
            "_view_module_version": "1.2.0",
            "_view_name": "LayoutView",
            "align_content": null,
            "align_items": null,
            "align_self": null,
            "border": null,
            "bottom": null,
            "display": null,
            "flex": null,
            "flex_flow": null,
            "grid_area": null,
            "grid_auto_columns": null,
            "grid_auto_flow": null,
            "grid_auto_rows": null,
            "grid_column": null,
            "grid_gap": null,
            "grid_row": null,
            "grid_template_areas": null,
            "grid_template_columns": null,
            "grid_template_rows": null,
            "height": null,
            "justify_content": null,
            "justify_items": null,
            "left": null,
            "margin": null,
            "max_height": null,
            "max_width": null,
            "min_height": null,
            "min_width": null,
            "object_fit": null,
            "object_position": null,
            "order": null,
            "overflow": null,
            "overflow_x": null,
            "overflow_y": null,
            "padding": null,
            "right": null,
            "top": null,
            "visibility": null,
            "width": null
          }
        },
        "7fac20fe02584490827f238e5a7619e0": {
          "model_module": "@jupyter-widgets/base",
          "model_name": "LayoutModel",
          "model_module_version": "1.2.0",
          "state": {
            "_model_module": "@jupyter-widgets/base",
            "_model_module_version": "1.2.0",
            "_model_name": "LayoutModel",
            "_view_count": null,
            "_view_module": "@jupyter-widgets/base",
            "_view_module_version": "1.2.0",
            "_view_name": "LayoutView",
            "align_content": null,
            "align_items": null,
            "align_self": null,
            "border": null,
            "bottom": null,
            "display": null,
            "flex": null,
            "flex_flow": null,
            "grid_area": null,
            "grid_auto_columns": null,
            "grid_auto_flow": null,
            "grid_auto_rows": null,
            "grid_column": null,
            "grid_gap": null,
            "grid_row": null,
            "grid_template_areas": null,
            "grid_template_columns": null,
            "grid_template_rows": null,
            "height": null,
            "justify_content": null,
            "justify_items": null,
            "left": null,
            "margin": null,
            "max_height": null,
            "max_width": null,
            "min_height": null,
            "min_width": null,
            "object_fit": null,
            "object_position": null,
            "order": null,
            "overflow": null,
            "overflow_x": null,
            "overflow_y": null,
            "padding": null,
            "right": null,
            "top": null,
            "visibility": null,
            "width": null
          }
        },
        "a7a34a0ca5d944fab57ac43e16dd0e96": {
          "model_module": "@jupyter-widgets/controls",
          "model_name": "DescriptionStyleModel",
          "model_module_version": "1.5.0",
          "state": {
            "_model_module": "@jupyter-widgets/controls",
            "_model_module_version": "1.5.0",
            "_model_name": "DescriptionStyleModel",
            "_view_count": null,
            "_view_module": "@jupyter-widgets/base",
            "_view_module_version": "1.2.0",
            "_view_name": "StyleView",
            "description_width": ""
          }
        },
        "a5db16918c674c15aaed8c8d396d9631": {
          "model_module": "@jupyter-widgets/base",
          "model_name": "LayoutModel",
          "model_module_version": "1.2.0",
          "state": {
            "_model_module": "@jupyter-widgets/base",
            "_model_module_version": "1.2.0",
            "_model_name": "LayoutModel",
            "_view_count": null,
            "_view_module": "@jupyter-widgets/base",
            "_view_module_version": "1.2.0",
            "_view_name": "LayoutView",
            "align_content": null,
            "align_items": null,
            "align_self": null,
            "border": null,
            "bottom": null,
            "display": null,
            "flex": null,
            "flex_flow": null,
            "grid_area": null,
            "grid_auto_columns": null,
            "grid_auto_flow": null,
            "grid_auto_rows": null,
            "grid_column": null,
            "grid_gap": null,
            "grid_row": null,
            "grid_template_areas": null,
            "grid_template_columns": null,
            "grid_template_rows": null,
            "height": null,
            "justify_content": null,
            "justify_items": null,
            "left": null,
            "margin": null,
            "max_height": null,
            "max_width": null,
            "min_height": null,
            "min_width": null,
            "object_fit": null,
            "object_position": null,
            "order": null,
            "overflow": null,
            "overflow_x": null,
            "overflow_y": null,
            "padding": null,
            "right": null,
            "top": null,
            "visibility": null,
            "width": null
          }
        },
        "5860dce0d28b4522a0e51487b6bd88bf": {
          "model_module": "@jupyter-widgets/controls",
          "model_name": "ProgressStyleModel",
          "model_module_version": "1.5.0",
          "state": {
            "_model_module": "@jupyter-widgets/controls",
            "_model_module_version": "1.5.0",
            "_model_name": "ProgressStyleModel",
            "_view_count": null,
            "_view_module": "@jupyter-widgets/base",
            "_view_module_version": "1.2.0",
            "_view_name": "StyleView",
            "bar_color": null,
            "description_width": ""
          }
        },
        "4e6672a9a5a948a2b9bfb4105c2656a9": {
          "model_module": "@jupyter-widgets/base",
          "model_name": "LayoutModel",
          "model_module_version": "1.2.0",
          "state": {
            "_model_module": "@jupyter-widgets/base",
            "_model_module_version": "1.2.0",
            "_model_name": "LayoutModel",
            "_view_count": null,
            "_view_module": "@jupyter-widgets/base",
            "_view_module_version": "1.2.0",
            "_view_name": "LayoutView",
            "align_content": null,
            "align_items": null,
            "align_self": null,
            "border": null,
            "bottom": null,
            "display": null,
            "flex": null,
            "flex_flow": null,
            "grid_area": null,
            "grid_auto_columns": null,
            "grid_auto_flow": null,
            "grid_auto_rows": null,
            "grid_column": null,
            "grid_gap": null,
            "grid_row": null,
            "grid_template_areas": null,
            "grid_template_columns": null,
            "grid_template_rows": null,
            "height": null,
            "justify_content": null,
            "justify_items": null,
            "left": null,
            "margin": null,
            "max_height": null,
            "max_width": null,
            "min_height": null,
            "min_width": null,
            "object_fit": null,
            "object_position": null,
            "order": null,
            "overflow": null,
            "overflow_x": null,
            "overflow_y": null,
            "padding": null,
            "right": null,
            "top": null,
            "visibility": null,
            "width": null
          }
        },
        "a2b07aa9691b463bbf043dfa06a3a580": {
          "model_module": "@jupyter-widgets/controls",
          "model_name": "DescriptionStyleModel",
          "model_module_version": "1.5.0",
          "state": {
            "_model_module": "@jupyter-widgets/controls",
            "_model_module_version": "1.5.0",
            "_model_name": "DescriptionStyleModel",
            "_view_count": null,
            "_view_module": "@jupyter-widgets/base",
            "_view_module_version": "1.2.0",
            "_view_name": "StyleView",
            "description_width": ""
          }
        },
        "02b5a5cf954a4be7b7e40ef94c32b81a": {
          "model_module": "@jupyter-widgets/controls",
          "model_name": "HBoxModel",
          "model_module_version": "1.5.0",
          "state": {
            "_dom_classes": [],
            "_model_module": "@jupyter-widgets/controls",
            "_model_module_version": "1.5.0",
            "_model_name": "HBoxModel",
            "_view_count": null,
            "_view_module": "@jupyter-widgets/controls",
            "_view_module_version": "1.5.0",
            "_view_name": "HBoxView",
            "box_style": "",
            "children": [
              "IPY_MODEL_f1d138eeda38490aa651a96d16aa1557",
              "IPY_MODEL_76ff37ba9d13414a8a5a07fe8a899a2c",
              "IPY_MODEL_b786b46a960e4a7ab8b4bab6086e7707"
            ],
            "layout": "IPY_MODEL_030f2f46ed6148248da94fd36c65468c"
          }
        },
        "f1d138eeda38490aa651a96d16aa1557": {
          "model_module": "@jupyter-widgets/controls",
          "model_name": "HTMLModel",
          "model_module_version": "1.5.0",
          "state": {
            "_dom_classes": [],
            "_model_module": "@jupyter-widgets/controls",
            "_model_module_version": "1.5.0",
            "_model_name": "HTMLModel",
            "_view_count": null,
            "_view_module": "@jupyter-widgets/controls",
            "_view_module_version": "1.5.0",
            "_view_name": "HTMLView",
            "description": "",
            "description_tooltip": null,
            "layout": "IPY_MODEL_6d64ee817a4a4121a9bc0d2f6569af14",
            "placeholder": "​",
            "style": "IPY_MODEL_41746e83361c41b6adea680a8ef508f0",
            "value": "tokenizer_config.json: 100%"
          }
        },
        "76ff37ba9d13414a8a5a07fe8a899a2c": {
          "model_module": "@jupyter-widgets/controls",
          "model_name": "FloatProgressModel",
          "model_module_version": "1.5.0",
          "state": {
            "_dom_classes": [],
            "_model_module": "@jupyter-widgets/controls",
            "_model_module_version": "1.5.0",
            "_model_name": "FloatProgressModel",
            "_view_count": null,
            "_view_module": "@jupyter-widgets/controls",
            "_view_module_version": "1.5.0",
            "_view_name": "ProgressView",
            "bar_style": "success",
            "description": "",
            "description_tooltip": null,
            "layout": "IPY_MODEL_780c616de7d14f4480c27a772c0458b1",
            "max": 363,
            "min": 0,
            "orientation": "horizontal",
            "style": "IPY_MODEL_6ceafcd40f6e45ec942a2b7bd658a7d5",
            "value": 363
          }
        },
        "b786b46a960e4a7ab8b4bab6086e7707": {
          "model_module": "@jupyter-widgets/controls",
          "model_name": "HTMLModel",
          "model_module_version": "1.5.0",
          "state": {
            "_dom_classes": [],
            "_model_module": "@jupyter-widgets/controls",
            "_model_module_version": "1.5.0",
            "_model_name": "HTMLModel",
            "_view_count": null,
            "_view_module": "@jupyter-widgets/controls",
            "_view_module_version": "1.5.0",
            "_view_name": "HTMLView",
            "description": "",
            "description_tooltip": null,
            "layout": "IPY_MODEL_482ed35eacad42349b4edf4bf3c4e60f",
            "placeholder": "​",
            "style": "IPY_MODEL_42d47619b95e423588e9859a4def94e2",
            "value": " 363/363 [00:00&lt;00:00, 15.1kB/s]"
          }
        },
        "030f2f46ed6148248da94fd36c65468c": {
          "model_module": "@jupyter-widgets/base",
          "model_name": "LayoutModel",
          "model_module_version": "1.2.0",
          "state": {
            "_model_module": "@jupyter-widgets/base",
            "_model_module_version": "1.2.0",
            "_model_name": "LayoutModel",
            "_view_count": null,
            "_view_module": "@jupyter-widgets/base",
            "_view_module_version": "1.2.0",
            "_view_name": "LayoutView",
            "align_content": null,
            "align_items": null,
            "align_self": null,
            "border": null,
            "bottom": null,
            "display": null,
            "flex": null,
            "flex_flow": null,
            "grid_area": null,
            "grid_auto_columns": null,
            "grid_auto_flow": null,
            "grid_auto_rows": null,
            "grid_column": null,
            "grid_gap": null,
            "grid_row": null,
            "grid_template_areas": null,
            "grid_template_columns": null,
            "grid_template_rows": null,
            "height": null,
            "justify_content": null,
            "justify_items": null,
            "left": null,
            "margin": null,
            "max_height": null,
            "max_width": null,
            "min_height": null,
            "min_width": null,
            "object_fit": null,
            "object_position": null,
            "order": null,
            "overflow": null,
            "overflow_x": null,
            "overflow_y": null,
            "padding": null,
            "right": null,
            "top": null,
            "visibility": null,
            "width": null
          }
        },
        "6d64ee817a4a4121a9bc0d2f6569af14": {
          "model_module": "@jupyter-widgets/base",
          "model_name": "LayoutModel",
          "model_module_version": "1.2.0",
          "state": {
            "_model_module": "@jupyter-widgets/base",
            "_model_module_version": "1.2.0",
            "_model_name": "LayoutModel",
            "_view_count": null,
            "_view_module": "@jupyter-widgets/base",
            "_view_module_version": "1.2.0",
            "_view_name": "LayoutView",
            "align_content": null,
            "align_items": null,
            "align_self": null,
            "border": null,
            "bottom": null,
            "display": null,
            "flex": null,
            "flex_flow": null,
            "grid_area": null,
            "grid_auto_columns": null,
            "grid_auto_flow": null,
            "grid_auto_rows": null,
            "grid_column": null,
            "grid_gap": null,
            "grid_row": null,
            "grid_template_areas": null,
            "grid_template_columns": null,
            "grid_template_rows": null,
            "height": null,
            "justify_content": null,
            "justify_items": null,
            "left": null,
            "margin": null,
            "max_height": null,
            "max_width": null,
            "min_height": null,
            "min_width": null,
            "object_fit": null,
            "object_position": null,
            "order": null,
            "overflow": null,
            "overflow_x": null,
            "overflow_y": null,
            "padding": null,
            "right": null,
            "top": null,
            "visibility": null,
            "width": null
          }
        },
        "41746e83361c41b6adea680a8ef508f0": {
          "model_module": "@jupyter-widgets/controls",
          "model_name": "DescriptionStyleModel",
          "model_module_version": "1.5.0",
          "state": {
            "_model_module": "@jupyter-widgets/controls",
            "_model_module_version": "1.5.0",
            "_model_name": "DescriptionStyleModel",
            "_view_count": null,
            "_view_module": "@jupyter-widgets/base",
            "_view_module_version": "1.2.0",
            "_view_name": "StyleView",
            "description_width": ""
          }
        },
        "780c616de7d14f4480c27a772c0458b1": {
          "model_module": "@jupyter-widgets/base",
          "model_name": "LayoutModel",
          "model_module_version": "1.2.0",
          "state": {
            "_model_module": "@jupyter-widgets/base",
            "_model_module_version": "1.2.0",
            "_model_name": "LayoutModel",
            "_view_count": null,
            "_view_module": "@jupyter-widgets/base",
            "_view_module_version": "1.2.0",
            "_view_name": "LayoutView",
            "align_content": null,
            "align_items": null,
            "align_self": null,
            "border": null,
            "bottom": null,
            "display": null,
            "flex": null,
            "flex_flow": null,
            "grid_area": null,
            "grid_auto_columns": null,
            "grid_auto_flow": null,
            "grid_auto_rows": null,
            "grid_column": null,
            "grid_gap": null,
            "grid_row": null,
            "grid_template_areas": null,
            "grid_template_columns": null,
            "grid_template_rows": null,
            "height": null,
            "justify_content": null,
            "justify_items": null,
            "left": null,
            "margin": null,
            "max_height": null,
            "max_width": null,
            "min_height": null,
            "min_width": null,
            "object_fit": null,
            "object_position": null,
            "order": null,
            "overflow": null,
            "overflow_x": null,
            "overflow_y": null,
            "padding": null,
            "right": null,
            "top": null,
            "visibility": null,
            "width": null
          }
        },
        "6ceafcd40f6e45ec942a2b7bd658a7d5": {
          "model_module": "@jupyter-widgets/controls",
          "model_name": "ProgressStyleModel",
          "model_module_version": "1.5.0",
          "state": {
            "_model_module": "@jupyter-widgets/controls",
            "_model_module_version": "1.5.0",
            "_model_name": "ProgressStyleModel",
            "_view_count": null,
            "_view_module": "@jupyter-widgets/base",
            "_view_module_version": "1.2.0",
            "_view_name": "StyleView",
            "bar_color": null,
            "description_width": ""
          }
        },
        "482ed35eacad42349b4edf4bf3c4e60f": {
          "model_module": "@jupyter-widgets/base",
          "model_name": "LayoutModel",
          "model_module_version": "1.2.0",
          "state": {
            "_model_module": "@jupyter-widgets/base",
            "_model_module_version": "1.2.0",
            "_model_name": "LayoutModel",
            "_view_count": null,
            "_view_module": "@jupyter-widgets/base",
            "_view_module_version": "1.2.0",
            "_view_name": "LayoutView",
            "align_content": null,
            "align_items": null,
            "align_self": null,
            "border": null,
            "bottom": null,
            "display": null,
            "flex": null,
            "flex_flow": null,
            "grid_area": null,
            "grid_auto_columns": null,
            "grid_auto_flow": null,
            "grid_auto_rows": null,
            "grid_column": null,
            "grid_gap": null,
            "grid_row": null,
            "grid_template_areas": null,
            "grid_template_columns": null,
            "grid_template_rows": null,
            "height": null,
            "justify_content": null,
            "justify_items": null,
            "left": null,
            "margin": null,
            "max_height": null,
            "max_width": null,
            "min_height": null,
            "min_width": null,
            "object_fit": null,
            "object_position": null,
            "order": null,
            "overflow": null,
            "overflow_x": null,
            "overflow_y": null,
            "padding": null,
            "right": null,
            "top": null,
            "visibility": null,
            "width": null
          }
        },
        "42d47619b95e423588e9859a4def94e2": {
          "model_module": "@jupyter-widgets/controls",
          "model_name": "DescriptionStyleModel",
          "model_module_version": "1.5.0",
          "state": {
            "_model_module": "@jupyter-widgets/controls",
            "_model_module_version": "1.5.0",
            "_model_name": "DescriptionStyleModel",
            "_view_count": null,
            "_view_module": "@jupyter-widgets/base",
            "_view_module_version": "1.2.0",
            "_view_name": "StyleView",
            "description_width": ""
          }
        },
        "ada99772754842a4b89b7dfeb1414fc0": {
          "model_module": "@jupyter-widgets/controls",
          "model_name": "HBoxModel",
          "model_module_version": "1.5.0",
          "state": {
            "_dom_classes": [],
            "_model_module": "@jupyter-widgets/controls",
            "_model_module_version": "1.5.0",
            "_model_name": "HBoxModel",
            "_view_count": null,
            "_view_module": "@jupyter-widgets/controls",
            "_view_module_version": "1.5.0",
            "_view_name": "HBoxView",
            "box_style": "",
            "children": [
              "IPY_MODEL_424c61e0693e4be180af6b598873bb1c",
              "IPY_MODEL_a5bf984033a74558ba567c10f1a0d19e",
              "IPY_MODEL_6d130184e7154eef8f094169e03d9346"
            ],
            "layout": "IPY_MODEL_92a2ee83cc5943c8b1a57b83344f0b35"
          }
        },
        "424c61e0693e4be180af6b598873bb1c": {
          "model_module": "@jupyter-widgets/controls",
          "model_name": "HTMLModel",
          "model_module_version": "1.5.0",
          "state": {
            "_dom_classes": [],
            "_model_module": "@jupyter-widgets/controls",
            "_model_module_version": "1.5.0",
            "_model_name": "HTMLModel",
            "_view_count": null,
            "_view_module": "@jupyter-widgets/controls",
            "_view_module_version": "1.5.0",
            "_view_name": "HTMLView",
            "description": "",
            "description_tooltip": null,
            "layout": "IPY_MODEL_79ef489da2c948a4ac6934ed3731e636",
            "placeholder": "​",
            "style": "IPY_MODEL_69cec915c28a4f3db2171102478cb032",
            "value": "train_script.py: 100%"
          }
        },
        "a5bf984033a74558ba567c10f1a0d19e": {
          "model_module": "@jupyter-widgets/controls",
          "model_name": "FloatProgressModel",
          "model_module_version": "1.5.0",
          "state": {
            "_dom_classes": [],
            "_model_module": "@jupyter-widgets/controls",
            "_model_module_version": "1.5.0",
            "_model_name": "FloatProgressModel",
            "_view_count": null,
            "_view_module": "@jupyter-widgets/controls",
            "_view_module_version": "1.5.0",
            "_view_name": "ProgressView",
            "bar_style": "success",
            "description": "",
            "description_tooltip": null,
            "layout": "IPY_MODEL_5dc18e04c1d44c49a3bc6b593327dc9c",
            "max": 13123,
            "min": 0,
            "orientation": "horizontal",
            "style": "IPY_MODEL_b9ed52f95ccb4a629a82aa3650f122d9",
            "value": 13123
          }
        },
        "6d130184e7154eef8f094169e03d9346": {
          "model_module": "@jupyter-widgets/controls",
          "model_name": "HTMLModel",
          "model_module_version": "1.5.0",
          "state": {
            "_dom_classes": [],
            "_model_module": "@jupyter-widgets/controls",
            "_model_module_version": "1.5.0",
            "_model_name": "HTMLModel",
            "_view_count": null,
            "_view_module": "@jupyter-widgets/controls",
            "_view_module_version": "1.5.0",
            "_view_name": "HTMLView",
            "description": "",
            "description_tooltip": null,
            "layout": "IPY_MODEL_0b890b5111874d1886d3eaff09429fbb",
            "placeholder": "​",
            "style": "IPY_MODEL_228229c388a74a159fb99e5cec52cca5",
            "value": " 13.1k/13.1k [00:00&lt;00:00, 304kB/s]"
          }
        },
        "92a2ee83cc5943c8b1a57b83344f0b35": {
          "model_module": "@jupyter-widgets/base",
          "model_name": "LayoutModel",
          "model_module_version": "1.2.0",
          "state": {
            "_model_module": "@jupyter-widgets/base",
            "_model_module_version": "1.2.0",
            "_model_name": "LayoutModel",
            "_view_count": null,
            "_view_module": "@jupyter-widgets/base",
            "_view_module_version": "1.2.0",
            "_view_name": "LayoutView",
            "align_content": null,
            "align_items": null,
            "align_self": null,
            "border": null,
            "bottom": null,
            "display": null,
            "flex": null,
            "flex_flow": null,
            "grid_area": null,
            "grid_auto_columns": null,
            "grid_auto_flow": null,
            "grid_auto_rows": null,
            "grid_column": null,
            "grid_gap": null,
            "grid_row": null,
            "grid_template_areas": null,
            "grid_template_columns": null,
            "grid_template_rows": null,
            "height": null,
            "justify_content": null,
            "justify_items": null,
            "left": null,
            "margin": null,
            "max_height": null,
            "max_width": null,
            "min_height": null,
            "min_width": null,
            "object_fit": null,
            "object_position": null,
            "order": null,
            "overflow": null,
            "overflow_x": null,
            "overflow_y": null,
            "padding": null,
            "right": null,
            "top": null,
            "visibility": null,
            "width": null
          }
        },
        "79ef489da2c948a4ac6934ed3731e636": {
          "model_module": "@jupyter-widgets/base",
          "model_name": "LayoutModel",
          "model_module_version": "1.2.0",
          "state": {
            "_model_module": "@jupyter-widgets/base",
            "_model_module_version": "1.2.0",
            "_model_name": "LayoutModel",
            "_view_count": null,
            "_view_module": "@jupyter-widgets/base",
            "_view_module_version": "1.2.0",
            "_view_name": "LayoutView",
            "align_content": null,
            "align_items": null,
            "align_self": null,
            "border": null,
            "bottom": null,
            "display": null,
            "flex": null,
            "flex_flow": null,
            "grid_area": null,
            "grid_auto_columns": null,
            "grid_auto_flow": null,
            "grid_auto_rows": null,
            "grid_column": null,
            "grid_gap": null,
            "grid_row": null,
            "grid_template_areas": null,
            "grid_template_columns": null,
            "grid_template_rows": null,
            "height": null,
            "justify_content": null,
            "justify_items": null,
            "left": null,
            "margin": null,
            "max_height": null,
            "max_width": null,
            "min_height": null,
            "min_width": null,
            "object_fit": null,
            "object_position": null,
            "order": null,
            "overflow": null,
            "overflow_x": null,
            "overflow_y": null,
            "padding": null,
            "right": null,
            "top": null,
            "visibility": null,
            "width": null
          }
        },
        "69cec915c28a4f3db2171102478cb032": {
          "model_module": "@jupyter-widgets/controls",
          "model_name": "DescriptionStyleModel",
          "model_module_version": "1.5.0",
          "state": {
            "_model_module": "@jupyter-widgets/controls",
            "_model_module_version": "1.5.0",
            "_model_name": "DescriptionStyleModel",
            "_view_count": null,
            "_view_module": "@jupyter-widgets/base",
            "_view_module_version": "1.2.0",
            "_view_name": "StyleView",
            "description_width": ""
          }
        },
        "5dc18e04c1d44c49a3bc6b593327dc9c": {
          "model_module": "@jupyter-widgets/base",
          "model_name": "LayoutModel",
          "model_module_version": "1.2.0",
          "state": {
            "_model_module": "@jupyter-widgets/base",
            "_model_module_version": "1.2.0",
            "_model_name": "LayoutModel",
            "_view_count": null,
            "_view_module": "@jupyter-widgets/base",
            "_view_module_version": "1.2.0",
            "_view_name": "LayoutView",
            "align_content": null,
            "align_items": null,
            "align_self": null,
            "border": null,
            "bottom": null,
            "display": null,
            "flex": null,
            "flex_flow": null,
            "grid_area": null,
            "grid_auto_columns": null,
            "grid_auto_flow": null,
            "grid_auto_rows": null,
            "grid_column": null,
            "grid_gap": null,
            "grid_row": null,
            "grid_template_areas": null,
            "grid_template_columns": null,
            "grid_template_rows": null,
            "height": null,
            "justify_content": null,
            "justify_items": null,
            "left": null,
            "margin": null,
            "max_height": null,
            "max_width": null,
            "min_height": null,
            "min_width": null,
            "object_fit": null,
            "object_position": null,
            "order": null,
            "overflow": null,
            "overflow_x": null,
            "overflow_y": null,
            "padding": null,
            "right": null,
            "top": null,
            "visibility": null,
            "width": null
          }
        },
        "b9ed52f95ccb4a629a82aa3650f122d9": {
          "model_module": "@jupyter-widgets/controls",
          "model_name": "ProgressStyleModel",
          "model_module_version": "1.5.0",
          "state": {
            "_model_module": "@jupyter-widgets/controls",
            "_model_module_version": "1.5.0",
            "_model_name": "ProgressStyleModel",
            "_view_count": null,
            "_view_module": "@jupyter-widgets/base",
            "_view_module_version": "1.2.0",
            "_view_name": "StyleView",
            "bar_color": null,
            "description_width": ""
          }
        },
        "0b890b5111874d1886d3eaff09429fbb": {
          "model_module": "@jupyter-widgets/base",
          "model_name": "LayoutModel",
          "model_module_version": "1.2.0",
          "state": {
            "_model_module": "@jupyter-widgets/base",
            "_model_module_version": "1.2.0",
            "_model_name": "LayoutModel",
            "_view_count": null,
            "_view_module": "@jupyter-widgets/base",
            "_view_module_version": "1.2.0",
            "_view_name": "LayoutView",
            "align_content": null,
            "align_items": null,
            "align_self": null,
            "border": null,
            "bottom": null,
            "display": null,
            "flex": null,
            "flex_flow": null,
            "grid_area": null,
            "grid_auto_columns": null,
            "grid_auto_flow": null,
            "grid_auto_rows": null,
            "grid_column": null,
            "grid_gap": null,
            "grid_row": null,
            "grid_template_areas": null,
            "grid_template_columns": null,
            "grid_template_rows": null,
            "height": null,
            "justify_content": null,
            "justify_items": null,
            "left": null,
            "margin": null,
            "max_height": null,
            "max_width": null,
            "min_height": null,
            "min_width": null,
            "object_fit": null,
            "object_position": null,
            "order": null,
            "overflow": null,
            "overflow_x": null,
            "overflow_y": null,
            "padding": null,
            "right": null,
            "top": null,
            "visibility": null,
            "width": null
          }
        },
        "228229c388a74a159fb99e5cec52cca5": {
          "model_module": "@jupyter-widgets/controls",
          "model_name": "DescriptionStyleModel",
          "model_module_version": "1.5.0",
          "state": {
            "_model_module": "@jupyter-widgets/controls",
            "_model_module_version": "1.5.0",
            "_model_name": "DescriptionStyleModel",
            "_view_count": null,
            "_view_module": "@jupyter-widgets/base",
            "_view_module_version": "1.2.0",
            "_view_name": "StyleView",
            "description_width": ""
          }
        },
        "4b84996f6c104808b166a40089b9f047": {
          "model_module": "@jupyter-widgets/controls",
          "model_name": "HBoxModel",
          "model_module_version": "1.5.0",
          "state": {
            "_dom_classes": [],
            "_model_module": "@jupyter-widgets/controls",
            "_model_module_version": "1.5.0",
            "_model_name": "HBoxModel",
            "_view_count": null,
            "_view_module": "@jupyter-widgets/controls",
            "_view_module_version": "1.5.0",
            "_view_name": "HBoxView",
            "box_style": "",
            "children": [
              "IPY_MODEL_05a09fff41cf4e0291685aa7e140e692",
              "IPY_MODEL_fc879caf4f404315a1b83982398d2470",
              "IPY_MODEL_c84425a7891340d6bfae7c538a5c377b"
            ],
            "layout": "IPY_MODEL_3aff50ab5768424bbd72d2633bd8b5ef"
          }
        },
        "05a09fff41cf4e0291685aa7e140e692": {
          "model_module": "@jupyter-widgets/controls",
          "model_name": "HTMLModel",
          "model_module_version": "1.5.0",
          "state": {
            "_dom_classes": [],
            "_model_module": "@jupyter-widgets/controls",
            "_model_module_version": "1.5.0",
            "_model_name": "HTMLModel",
            "_view_count": null,
            "_view_module": "@jupyter-widgets/controls",
            "_view_module_version": "1.5.0",
            "_view_name": "HTMLView",
            "description": "",
            "description_tooltip": null,
            "layout": "IPY_MODEL_d71fa024b07244e1a16f7f9f401173c1",
            "placeholder": "​",
            "style": "IPY_MODEL_bbc2dc21715140e28f3ce94453fb0daf",
            "value": "vocab.txt: 100%"
          }
        },
        "fc879caf4f404315a1b83982398d2470": {
          "model_module": "@jupyter-widgets/controls",
          "model_name": "FloatProgressModel",
          "model_module_version": "1.5.0",
          "state": {
            "_dom_classes": [],
            "_model_module": "@jupyter-widgets/controls",
            "_model_module_version": "1.5.0",
            "_model_name": "FloatProgressModel",
            "_view_count": null,
            "_view_module": "@jupyter-widgets/controls",
            "_view_module_version": "1.5.0",
            "_view_name": "ProgressView",
            "bar_style": "success",
            "description": "",
            "description_tooltip": null,
            "layout": "IPY_MODEL_dd92d2c9ba8c4438b4514b5e07845b07",
            "max": 231536,
            "min": 0,
            "orientation": "horizontal",
            "style": "IPY_MODEL_8b5b812c379041e588a8fad54874e2e7",
            "value": 231536
          }
        },
        "c84425a7891340d6bfae7c538a5c377b": {
          "model_module": "@jupyter-widgets/controls",
          "model_name": "HTMLModel",
          "model_module_version": "1.5.0",
          "state": {
            "_dom_classes": [],
            "_model_module": "@jupyter-widgets/controls",
            "_model_module_version": "1.5.0",
            "_model_name": "HTMLModel",
            "_view_count": null,
            "_view_module": "@jupyter-widgets/controls",
            "_view_module_version": "1.5.0",
            "_view_name": "HTMLView",
            "description": "",
            "description_tooltip": null,
            "layout": "IPY_MODEL_ba26a64e71be4b2394574dbd502f77f2",
            "placeholder": "​",
            "style": "IPY_MODEL_1712c414f64846a585e696aa558a2b42",
            "value": " 232k/232k [00:00&lt;00:00, 4.79MB/s]"
          }
        },
        "3aff50ab5768424bbd72d2633bd8b5ef": {
          "model_module": "@jupyter-widgets/base",
          "model_name": "LayoutModel",
          "model_module_version": "1.2.0",
          "state": {
            "_model_module": "@jupyter-widgets/base",
            "_model_module_version": "1.2.0",
            "_model_name": "LayoutModel",
            "_view_count": null,
            "_view_module": "@jupyter-widgets/base",
            "_view_module_version": "1.2.0",
            "_view_name": "LayoutView",
            "align_content": null,
            "align_items": null,
            "align_self": null,
            "border": null,
            "bottom": null,
            "display": null,
            "flex": null,
            "flex_flow": null,
            "grid_area": null,
            "grid_auto_columns": null,
            "grid_auto_flow": null,
            "grid_auto_rows": null,
            "grid_column": null,
            "grid_gap": null,
            "grid_row": null,
            "grid_template_areas": null,
            "grid_template_columns": null,
            "grid_template_rows": null,
            "height": null,
            "justify_content": null,
            "justify_items": null,
            "left": null,
            "margin": null,
            "max_height": null,
            "max_width": null,
            "min_height": null,
            "min_width": null,
            "object_fit": null,
            "object_position": null,
            "order": null,
            "overflow": null,
            "overflow_x": null,
            "overflow_y": null,
            "padding": null,
            "right": null,
            "top": null,
            "visibility": null,
            "width": null
          }
        },
        "d71fa024b07244e1a16f7f9f401173c1": {
          "model_module": "@jupyter-widgets/base",
          "model_name": "LayoutModel",
          "model_module_version": "1.2.0",
          "state": {
            "_model_module": "@jupyter-widgets/base",
            "_model_module_version": "1.2.0",
            "_model_name": "LayoutModel",
            "_view_count": null,
            "_view_module": "@jupyter-widgets/base",
            "_view_module_version": "1.2.0",
            "_view_name": "LayoutView",
            "align_content": null,
            "align_items": null,
            "align_self": null,
            "border": null,
            "bottom": null,
            "display": null,
            "flex": null,
            "flex_flow": null,
            "grid_area": null,
            "grid_auto_columns": null,
            "grid_auto_flow": null,
            "grid_auto_rows": null,
            "grid_column": null,
            "grid_gap": null,
            "grid_row": null,
            "grid_template_areas": null,
            "grid_template_columns": null,
            "grid_template_rows": null,
            "height": null,
            "justify_content": null,
            "justify_items": null,
            "left": null,
            "margin": null,
            "max_height": null,
            "max_width": null,
            "min_height": null,
            "min_width": null,
            "object_fit": null,
            "object_position": null,
            "order": null,
            "overflow": null,
            "overflow_x": null,
            "overflow_y": null,
            "padding": null,
            "right": null,
            "top": null,
            "visibility": null,
            "width": null
          }
        },
        "bbc2dc21715140e28f3ce94453fb0daf": {
          "model_module": "@jupyter-widgets/controls",
          "model_name": "DescriptionStyleModel",
          "model_module_version": "1.5.0",
          "state": {
            "_model_module": "@jupyter-widgets/controls",
            "_model_module_version": "1.5.0",
            "_model_name": "DescriptionStyleModel",
            "_view_count": null,
            "_view_module": "@jupyter-widgets/base",
            "_view_module_version": "1.2.0",
            "_view_name": "StyleView",
            "description_width": ""
          }
        },
        "dd92d2c9ba8c4438b4514b5e07845b07": {
          "model_module": "@jupyter-widgets/base",
          "model_name": "LayoutModel",
          "model_module_version": "1.2.0",
          "state": {
            "_model_module": "@jupyter-widgets/base",
            "_model_module_version": "1.2.0",
            "_model_name": "LayoutModel",
            "_view_count": null,
            "_view_module": "@jupyter-widgets/base",
            "_view_module_version": "1.2.0",
            "_view_name": "LayoutView",
            "align_content": null,
            "align_items": null,
            "align_self": null,
            "border": null,
            "bottom": null,
            "display": null,
            "flex": null,
            "flex_flow": null,
            "grid_area": null,
            "grid_auto_columns": null,
            "grid_auto_flow": null,
            "grid_auto_rows": null,
            "grid_column": null,
            "grid_gap": null,
            "grid_row": null,
            "grid_template_areas": null,
            "grid_template_columns": null,
            "grid_template_rows": null,
            "height": null,
            "justify_content": null,
            "justify_items": null,
            "left": null,
            "margin": null,
            "max_height": null,
            "max_width": null,
            "min_height": null,
            "min_width": null,
            "object_fit": null,
            "object_position": null,
            "order": null,
            "overflow": null,
            "overflow_x": null,
            "overflow_y": null,
            "padding": null,
            "right": null,
            "top": null,
            "visibility": null,
            "width": null
          }
        },
        "8b5b812c379041e588a8fad54874e2e7": {
          "model_module": "@jupyter-widgets/controls",
          "model_name": "ProgressStyleModel",
          "model_module_version": "1.5.0",
          "state": {
            "_model_module": "@jupyter-widgets/controls",
            "_model_module_version": "1.5.0",
            "_model_name": "ProgressStyleModel",
            "_view_count": null,
            "_view_module": "@jupyter-widgets/base",
            "_view_module_version": "1.2.0",
            "_view_name": "StyleView",
            "bar_color": null,
            "description_width": ""
          }
        },
        "ba26a64e71be4b2394574dbd502f77f2": {
          "model_module": "@jupyter-widgets/base",
          "model_name": "LayoutModel",
          "model_module_version": "1.2.0",
          "state": {
            "_model_module": "@jupyter-widgets/base",
            "_model_module_version": "1.2.0",
            "_model_name": "LayoutModel",
            "_view_count": null,
            "_view_module": "@jupyter-widgets/base",
            "_view_module_version": "1.2.0",
            "_view_name": "LayoutView",
            "align_content": null,
            "align_items": null,
            "align_self": null,
            "border": null,
            "bottom": null,
            "display": null,
            "flex": null,
            "flex_flow": null,
            "grid_area": null,
            "grid_auto_columns": null,
            "grid_auto_flow": null,
            "grid_auto_rows": null,
            "grid_column": null,
            "grid_gap": null,
            "grid_row": null,
            "grid_template_areas": null,
            "grid_template_columns": null,
            "grid_template_rows": null,
            "height": null,
            "justify_content": null,
            "justify_items": null,
            "left": null,
            "margin": null,
            "max_height": null,
            "max_width": null,
            "min_height": null,
            "min_width": null,
            "object_fit": null,
            "object_position": null,
            "order": null,
            "overflow": null,
            "overflow_x": null,
            "overflow_y": null,
            "padding": null,
            "right": null,
            "top": null,
            "visibility": null,
            "width": null
          }
        },
        "1712c414f64846a585e696aa558a2b42": {
          "model_module": "@jupyter-widgets/controls",
          "model_name": "DescriptionStyleModel",
          "model_module_version": "1.5.0",
          "state": {
            "_model_module": "@jupyter-widgets/controls",
            "_model_module_version": "1.5.0",
            "_model_name": "DescriptionStyleModel",
            "_view_count": null,
            "_view_module": "@jupyter-widgets/base",
            "_view_module_version": "1.2.0",
            "_view_name": "StyleView",
            "description_width": ""
          }
        },
        "1c5cbc538642485c9bf0fcd062f2beaa": {
          "model_module": "@jupyter-widgets/controls",
          "model_name": "HBoxModel",
          "model_module_version": "1.5.0",
          "state": {
            "_dom_classes": [],
            "_model_module": "@jupyter-widgets/controls",
            "_model_module_version": "1.5.0",
            "_model_name": "HBoxModel",
            "_view_count": null,
            "_view_module": "@jupyter-widgets/controls",
            "_view_module_version": "1.5.0",
            "_view_name": "HBoxView",
            "box_style": "",
            "children": [
              "IPY_MODEL_951d6c00aa0048c1ad29d4ce44d28c13",
              "IPY_MODEL_1003081b341f41bba031de7206894214",
              "IPY_MODEL_b4a250d0b19b4881bf8b2f3b325610ef"
            ],
            "layout": "IPY_MODEL_20089afebab64418a27afb085ba1eab0"
          }
        },
        "951d6c00aa0048c1ad29d4ce44d28c13": {
          "model_module": "@jupyter-widgets/controls",
          "model_name": "HTMLModel",
          "model_module_version": "1.5.0",
          "state": {
            "_dom_classes": [],
            "_model_module": "@jupyter-widgets/controls",
            "_model_module_version": "1.5.0",
            "_model_name": "HTMLModel",
            "_view_count": null,
            "_view_module": "@jupyter-widgets/controls",
            "_view_module_version": "1.5.0",
            "_view_name": "HTMLView",
            "description": "",
            "description_tooltip": null,
            "layout": "IPY_MODEL_6b62bafacbfd4bc1b3aa301e4dff7d02",
            "placeholder": "​",
            "style": "IPY_MODEL_01b4bddbd768428a85dabdb6300883de",
            "value": "modules.json: 100%"
          }
        },
        "1003081b341f41bba031de7206894214": {
          "model_module": "@jupyter-widgets/controls",
          "model_name": "FloatProgressModel",
          "model_module_version": "1.5.0",
          "state": {
            "_dom_classes": [],
            "_model_module": "@jupyter-widgets/controls",
            "_model_module_version": "1.5.0",
            "_model_name": "FloatProgressModel",
            "_view_count": null,
            "_view_module": "@jupyter-widgets/controls",
            "_view_module_version": "1.5.0",
            "_view_name": "ProgressView",
            "bar_style": "success",
            "description": "",
            "description_tooltip": null,
            "layout": "IPY_MODEL_d61fd4ec3b0749eea3ffb3620eac4172",
            "max": 349,
            "min": 0,
            "orientation": "horizontal",
            "style": "IPY_MODEL_bf670c1826b54a1bb49679535cb432ec",
            "value": 349
          }
        },
        "b4a250d0b19b4881bf8b2f3b325610ef": {
          "model_module": "@jupyter-widgets/controls",
          "model_name": "HTMLModel",
          "model_module_version": "1.5.0",
          "state": {
            "_dom_classes": [],
            "_model_module": "@jupyter-widgets/controls",
            "_model_module_version": "1.5.0",
            "_model_name": "HTMLModel",
            "_view_count": null,
            "_view_module": "@jupyter-widgets/controls",
            "_view_module_version": "1.5.0",
            "_view_name": "HTMLView",
            "description": "",
            "description_tooltip": null,
            "layout": "IPY_MODEL_71bc8d88f4414974842d5bf55a289fb2",
            "placeholder": "​",
            "style": "IPY_MODEL_65e53a36271a4e92aed6b81ae55fb845",
            "value": " 349/349 [00:00&lt;00:00, 21.7kB/s]"
          }
        },
        "20089afebab64418a27afb085ba1eab0": {
          "model_module": "@jupyter-widgets/base",
          "model_name": "LayoutModel",
          "model_module_version": "1.2.0",
          "state": {
            "_model_module": "@jupyter-widgets/base",
            "_model_module_version": "1.2.0",
            "_model_name": "LayoutModel",
            "_view_count": null,
            "_view_module": "@jupyter-widgets/base",
            "_view_module_version": "1.2.0",
            "_view_name": "LayoutView",
            "align_content": null,
            "align_items": null,
            "align_self": null,
            "border": null,
            "bottom": null,
            "display": null,
            "flex": null,
            "flex_flow": null,
            "grid_area": null,
            "grid_auto_columns": null,
            "grid_auto_flow": null,
            "grid_auto_rows": null,
            "grid_column": null,
            "grid_gap": null,
            "grid_row": null,
            "grid_template_areas": null,
            "grid_template_columns": null,
            "grid_template_rows": null,
            "height": null,
            "justify_content": null,
            "justify_items": null,
            "left": null,
            "margin": null,
            "max_height": null,
            "max_width": null,
            "min_height": null,
            "min_width": null,
            "object_fit": null,
            "object_position": null,
            "order": null,
            "overflow": null,
            "overflow_x": null,
            "overflow_y": null,
            "padding": null,
            "right": null,
            "top": null,
            "visibility": null,
            "width": null
          }
        },
        "6b62bafacbfd4bc1b3aa301e4dff7d02": {
          "model_module": "@jupyter-widgets/base",
          "model_name": "LayoutModel",
          "model_module_version": "1.2.0",
          "state": {
            "_model_module": "@jupyter-widgets/base",
            "_model_module_version": "1.2.0",
            "_model_name": "LayoutModel",
            "_view_count": null,
            "_view_module": "@jupyter-widgets/base",
            "_view_module_version": "1.2.0",
            "_view_name": "LayoutView",
            "align_content": null,
            "align_items": null,
            "align_self": null,
            "border": null,
            "bottom": null,
            "display": null,
            "flex": null,
            "flex_flow": null,
            "grid_area": null,
            "grid_auto_columns": null,
            "grid_auto_flow": null,
            "grid_auto_rows": null,
            "grid_column": null,
            "grid_gap": null,
            "grid_row": null,
            "grid_template_areas": null,
            "grid_template_columns": null,
            "grid_template_rows": null,
            "height": null,
            "justify_content": null,
            "justify_items": null,
            "left": null,
            "margin": null,
            "max_height": null,
            "max_width": null,
            "min_height": null,
            "min_width": null,
            "object_fit": null,
            "object_position": null,
            "order": null,
            "overflow": null,
            "overflow_x": null,
            "overflow_y": null,
            "padding": null,
            "right": null,
            "top": null,
            "visibility": null,
            "width": null
          }
        },
        "01b4bddbd768428a85dabdb6300883de": {
          "model_module": "@jupyter-widgets/controls",
          "model_name": "DescriptionStyleModel",
          "model_module_version": "1.5.0",
          "state": {
            "_model_module": "@jupyter-widgets/controls",
            "_model_module_version": "1.5.0",
            "_model_name": "DescriptionStyleModel",
            "_view_count": null,
            "_view_module": "@jupyter-widgets/base",
            "_view_module_version": "1.2.0",
            "_view_name": "StyleView",
            "description_width": ""
          }
        },
        "d61fd4ec3b0749eea3ffb3620eac4172": {
          "model_module": "@jupyter-widgets/base",
          "model_name": "LayoutModel",
          "model_module_version": "1.2.0",
          "state": {
            "_model_module": "@jupyter-widgets/base",
            "_model_module_version": "1.2.0",
            "_model_name": "LayoutModel",
            "_view_count": null,
            "_view_module": "@jupyter-widgets/base",
            "_view_module_version": "1.2.0",
            "_view_name": "LayoutView",
            "align_content": null,
            "align_items": null,
            "align_self": null,
            "border": null,
            "bottom": null,
            "display": null,
            "flex": null,
            "flex_flow": null,
            "grid_area": null,
            "grid_auto_columns": null,
            "grid_auto_flow": null,
            "grid_auto_rows": null,
            "grid_column": null,
            "grid_gap": null,
            "grid_row": null,
            "grid_template_areas": null,
            "grid_template_columns": null,
            "grid_template_rows": null,
            "height": null,
            "justify_content": null,
            "justify_items": null,
            "left": null,
            "margin": null,
            "max_height": null,
            "max_width": null,
            "min_height": null,
            "min_width": null,
            "object_fit": null,
            "object_position": null,
            "order": null,
            "overflow": null,
            "overflow_x": null,
            "overflow_y": null,
            "padding": null,
            "right": null,
            "top": null,
            "visibility": null,
            "width": null
          }
        },
        "bf670c1826b54a1bb49679535cb432ec": {
          "model_module": "@jupyter-widgets/controls",
          "model_name": "ProgressStyleModel",
          "model_module_version": "1.5.0",
          "state": {
            "_model_module": "@jupyter-widgets/controls",
            "_model_module_version": "1.5.0",
            "_model_name": "ProgressStyleModel",
            "_view_count": null,
            "_view_module": "@jupyter-widgets/base",
            "_view_module_version": "1.2.0",
            "_view_name": "StyleView",
            "bar_color": null,
            "description_width": ""
          }
        },
        "71bc8d88f4414974842d5bf55a289fb2": {
          "model_module": "@jupyter-widgets/base",
          "model_name": "LayoutModel",
          "model_module_version": "1.2.0",
          "state": {
            "_model_module": "@jupyter-widgets/base",
            "_model_module_version": "1.2.0",
            "_model_name": "LayoutModel",
            "_view_count": null,
            "_view_module": "@jupyter-widgets/base",
            "_view_module_version": "1.2.0",
            "_view_name": "LayoutView",
            "align_content": null,
            "align_items": null,
            "align_self": null,
            "border": null,
            "bottom": null,
            "display": null,
            "flex": null,
            "flex_flow": null,
            "grid_area": null,
            "grid_auto_columns": null,
            "grid_auto_flow": null,
            "grid_auto_rows": null,
            "grid_column": null,
            "grid_gap": null,
            "grid_row": null,
            "grid_template_areas": null,
            "grid_template_columns": null,
            "grid_template_rows": null,
            "height": null,
            "justify_content": null,
            "justify_items": null,
            "left": null,
            "margin": null,
            "max_height": null,
            "max_width": null,
            "min_height": null,
            "min_width": null,
            "object_fit": null,
            "object_position": null,
            "order": null,
            "overflow": null,
            "overflow_x": null,
            "overflow_y": null,
            "padding": null,
            "right": null,
            "top": null,
            "visibility": null,
            "width": null
          }
        },
        "65e53a36271a4e92aed6b81ae55fb845": {
          "model_module": "@jupyter-widgets/controls",
          "model_name": "DescriptionStyleModel",
          "model_module_version": "1.5.0",
          "state": {
            "_model_module": "@jupyter-widgets/controls",
            "_model_module_version": "1.5.0",
            "_model_name": "DescriptionStyleModel",
            "_view_count": null,
            "_view_module": "@jupyter-widgets/base",
            "_view_module_version": "1.2.0",
            "_view_name": "StyleView",
            "description_width": ""
          }
        },
        "037316c6186c4b089b61dbe89f32cd89": {
          "model_module": "@jupyter-widgets/controls",
          "model_name": "HBoxModel",
          "model_module_version": "1.5.0",
          "state": {
            "_dom_classes": [],
            "_model_module": "@jupyter-widgets/controls",
            "_model_module_version": "1.5.0",
            "_model_name": "HBoxModel",
            "_view_count": null,
            "_view_module": "@jupyter-widgets/controls",
            "_view_module_version": "1.5.0",
            "_view_name": "HBoxView",
            "box_style": "",
            "children": [
              "IPY_MODEL_ffc77b80bba94f2785a9d19edf33932c",
              "IPY_MODEL_4438368df8f9427091481d79e82fc183",
              "IPY_MODEL_80c194f42a29400b82b6d37fa2181dac"
            ],
            "layout": "IPY_MODEL_3fd35804ac1446c2b5c2318dc46bb3ff"
          }
        },
        "ffc77b80bba94f2785a9d19edf33932c": {
          "model_module": "@jupyter-widgets/controls",
          "model_name": "HTMLModel",
          "model_module_version": "1.5.0",
          "state": {
            "_dom_classes": [],
            "_model_module": "@jupyter-widgets/controls",
            "_model_module_version": "1.5.0",
            "_model_name": "HTMLModel",
            "_view_count": null,
            "_view_module": "@jupyter-widgets/controls",
            "_view_module_version": "1.5.0",
            "_view_name": "HTMLView",
            "description": "",
            "description_tooltip": null,
            "layout": "IPY_MODEL_911824f4351d45afa2cda1d892ab041f",
            "placeholder": "​",
            "style": "IPY_MODEL_775a98317e074580addc05cea604ab86",
            "value": "Parsing nodes: 100%"
          }
        },
        "4438368df8f9427091481d79e82fc183": {
          "model_module": "@jupyter-widgets/controls",
          "model_name": "FloatProgressModel",
          "model_module_version": "1.5.0",
          "state": {
            "_dom_classes": [],
            "_model_module": "@jupyter-widgets/controls",
            "_model_module_version": "1.5.0",
            "_model_name": "FloatProgressModel",
            "_view_count": null,
            "_view_module": "@jupyter-widgets/controls",
            "_view_module_version": "1.5.0",
            "_view_name": "ProgressView",
            "bar_style": "success",
            "description": "",
            "description_tooltip": null,
            "layout": "IPY_MODEL_71df38549d024342a4dab13a864fc198",
            "max": 1,
            "min": 0,
            "orientation": "horizontal",
            "style": "IPY_MODEL_dced87cf5307406aa13a327501a710f4",
            "value": 1
          }
        },
        "80c194f42a29400b82b6d37fa2181dac": {
          "model_module": "@jupyter-widgets/controls",
          "model_name": "HTMLModel",
          "model_module_version": "1.5.0",
          "state": {
            "_dom_classes": [],
            "_model_module": "@jupyter-widgets/controls",
            "_model_module_version": "1.5.0",
            "_model_name": "HTMLModel",
            "_view_count": null,
            "_view_module": "@jupyter-widgets/controls",
            "_view_module_version": "1.5.0",
            "_view_name": "HTMLView",
            "description": "",
            "description_tooltip": null,
            "layout": "IPY_MODEL_304a7a37760e4f768cff98904a96dcfa",
            "placeholder": "​",
            "style": "IPY_MODEL_dae17acc4f164b0dad8102c166eeed75",
            "value": " 1/1 [00:00&lt;00:00,  1.05it/s]"
          }
        },
        "3fd35804ac1446c2b5c2318dc46bb3ff": {
          "model_module": "@jupyter-widgets/base",
          "model_name": "LayoutModel",
          "model_module_version": "1.2.0",
          "state": {
            "_model_module": "@jupyter-widgets/base",
            "_model_module_version": "1.2.0",
            "_model_name": "LayoutModel",
            "_view_count": null,
            "_view_module": "@jupyter-widgets/base",
            "_view_module_version": "1.2.0",
            "_view_name": "LayoutView",
            "align_content": null,
            "align_items": null,
            "align_self": null,
            "border": null,
            "bottom": null,
            "display": null,
            "flex": null,
            "flex_flow": null,
            "grid_area": null,
            "grid_auto_columns": null,
            "grid_auto_flow": null,
            "grid_auto_rows": null,
            "grid_column": null,
            "grid_gap": null,
            "grid_row": null,
            "grid_template_areas": null,
            "grid_template_columns": null,
            "grid_template_rows": null,
            "height": null,
            "justify_content": null,
            "justify_items": null,
            "left": null,
            "margin": null,
            "max_height": null,
            "max_width": null,
            "min_height": null,
            "min_width": null,
            "object_fit": null,
            "object_position": null,
            "order": null,
            "overflow": null,
            "overflow_x": null,
            "overflow_y": null,
            "padding": null,
            "right": null,
            "top": null,
            "visibility": null,
            "width": null
          }
        },
        "911824f4351d45afa2cda1d892ab041f": {
          "model_module": "@jupyter-widgets/base",
          "model_name": "LayoutModel",
          "model_module_version": "1.2.0",
          "state": {
            "_model_module": "@jupyter-widgets/base",
            "_model_module_version": "1.2.0",
            "_model_name": "LayoutModel",
            "_view_count": null,
            "_view_module": "@jupyter-widgets/base",
            "_view_module_version": "1.2.0",
            "_view_name": "LayoutView",
            "align_content": null,
            "align_items": null,
            "align_self": null,
            "border": null,
            "bottom": null,
            "display": null,
            "flex": null,
            "flex_flow": null,
            "grid_area": null,
            "grid_auto_columns": null,
            "grid_auto_flow": null,
            "grid_auto_rows": null,
            "grid_column": null,
            "grid_gap": null,
            "grid_row": null,
            "grid_template_areas": null,
            "grid_template_columns": null,
            "grid_template_rows": null,
            "height": null,
            "justify_content": null,
            "justify_items": null,
            "left": null,
            "margin": null,
            "max_height": null,
            "max_width": null,
            "min_height": null,
            "min_width": null,
            "object_fit": null,
            "object_position": null,
            "order": null,
            "overflow": null,
            "overflow_x": null,
            "overflow_y": null,
            "padding": null,
            "right": null,
            "top": null,
            "visibility": null,
            "width": null
          }
        },
        "775a98317e074580addc05cea604ab86": {
          "model_module": "@jupyter-widgets/controls",
          "model_name": "DescriptionStyleModel",
          "model_module_version": "1.5.0",
          "state": {
            "_model_module": "@jupyter-widgets/controls",
            "_model_module_version": "1.5.0",
            "_model_name": "DescriptionStyleModel",
            "_view_count": null,
            "_view_module": "@jupyter-widgets/base",
            "_view_module_version": "1.2.0",
            "_view_name": "StyleView",
            "description_width": ""
          }
        },
        "71df38549d024342a4dab13a864fc198": {
          "model_module": "@jupyter-widgets/base",
          "model_name": "LayoutModel",
          "model_module_version": "1.2.0",
          "state": {
            "_model_module": "@jupyter-widgets/base",
            "_model_module_version": "1.2.0",
            "_model_name": "LayoutModel",
            "_view_count": null,
            "_view_module": "@jupyter-widgets/base",
            "_view_module_version": "1.2.0",
            "_view_name": "LayoutView",
            "align_content": null,
            "align_items": null,
            "align_self": null,
            "border": null,
            "bottom": null,
            "display": null,
            "flex": null,
            "flex_flow": null,
            "grid_area": null,
            "grid_auto_columns": null,
            "grid_auto_flow": null,
            "grid_auto_rows": null,
            "grid_column": null,
            "grid_gap": null,
            "grid_row": null,
            "grid_template_areas": null,
            "grid_template_columns": null,
            "grid_template_rows": null,
            "height": null,
            "justify_content": null,
            "justify_items": null,
            "left": null,
            "margin": null,
            "max_height": null,
            "max_width": null,
            "min_height": null,
            "min_width": null,
            "object_fit": null,
            "object_position": null,
            "order": null,
            "overflow": null,
            "overflow_x": null,
            "overflow_y": null,
            "padding": null,
            "right": null,
            "top": null,
            "visibility": null,
            "width": null
          }
        },
        "dced87cf5307406aa13a327501a710f4": {
          "model_module": "@jupyter-widgets/controls",
          "model_name": "ProgressStyleModel",
          "model_module_version": "1.5.0",
          "state": {
            "_model_module": "@jupyter-widgets/controls",
            "_model_module_version": "1.5.0",
            "_model_name": "ProgressStyleModel",
            "_view_count": null,
            "_view_module": "@jupyter-widgets/base",
            "_view_module_version": "1.2.0",
            "_view_name": "StyleView",
            "bar_color": null,
            "description_width": ""
          }
        },
        "304a7a37760e4f768cff98904a96dcfa": {
          "model_module": "@jupyter-widgets/base",
          "model_name": "LayoutModel",
          "model_module_version": "1.2.0",
          "state": {
            "_model_module": "@jupyter-widgets/base",
            "_model_module_version": "1.2.0",
            "_model_name": "LayoutModel",
            "_view_count": null,
            "_view_module": "@jupyter-widgets/base",
            "_view_module_version": "1.2.0",
            "_view_name": "LayoutView",
            "align_content": null,
            "align_items": null,
            "align_self": null,
            "border": null,
            "bottom": null,
            "display": null,
            "flex": null,
            "flex_flow": null,
            "grid_area": null,
            "grid_auto_columns": null,
            "grid_auto_flow": null,
            "grid_auto_rows": null,
            "grid_column": null,
            "grid_gap": null,
            "grid_row": null,
            "grid_template_areas": null,
            "grid_template_columns": null,
            "grid_template_rows": null,
            "height": null,
            "justify_content": null,
            "justify_items": null,
            "left": null,
            "margin": null,
            "max_height": null,
            "max_width": null,
            "min_height": null,
            "min_width": null,
            "object_fit": null,
            "object_position": null,
            "order": null,
            "overflow": null,
            "overflow_x": null,
            "overflow_y": null,
            "padding": null,
            "right": null,
            "top": null,
            "visibility": null,
            "width": null
          }
        },
        "dae17acc4f164b0dad8102c166eeed75": {
          "model_module": "@jupyter-widgets/controls",
          "model_name": "DescriptionStyleModel",
          "model_module_version": "1.5.0",
          "state": {
            "_model_module": "@jupyter-widgets/controls",
            "_model_module_version": "1.5.0",
            "_model_name": "DescriptionStyleModel",
            "_view_count": null,
            "_view_module": "@jupyter-widgets/base",
            "_view_module_version": "1.2.0",
            "_view_name": "StyleView",
            "description_width": ""
          }
        },
        "c2732be5af20472f88331303453402b0": {
          "model_module": "@jupyter-widgets/controls",
          "model_name": "HBoxModel",
          "model_module_version": "1.5.0",
          "state": {
            "_dom_classes": [],
            "_model_module": "@jupyter-widgets/controls",
            "_model_module_version": "1.5.0",
            "_model_name": "HBoxModel",
            "_view_count": null,
            "_view_module": "@jupyter-widgets/controls",
            "_view_module_version": "1.5.0",
            "_view_name": "HBoxView",
            "box_style": "",
            "children": [
              "IPY_MODEL_010160fba10140278ba53b8b7ba2f42f",
              "IPY_MODEL_3bb1013d2c99445aac690b23bca6df92",
              "IPY_MODEL_25f75d7d713a44ce878a892f16979894"
            ],
            "layout": "IPY_MODEL_71ae59b458c64746890168480e649f38"
          }
        },
        "010160fba10140278ba53b8b7ba2f42f": {
          "model_module": "@jupyter-widgets/controls",
          "model_name": "HTMLModel",
          "model_module_version": "1.5.0",
          "state": {
            "_dom_classes": [],
            "_model_module": "@jupyter-widgets/controls",
            "_model_module_version": "1.5.0",
            "_model_name": "HTMLModel",
            "_view_count": null,
            "_view_module": "@jupyter-widgets/controls",
            "_view_module_version": "1.5.0",
            "_view_name": "HTMLView",
            "description": "",
            "description_tooltip": null,
            "layout": "IPY_MODEL_3179c498b31a4420bb58c1a92f70016b",
            "placeholder": "​",
            "style": "IPY_MODEL_6e4356252254473cafc3a5c17ff0aa73",
            "value": "Generating embeddings: 100%"
          }
        },
        "3bb1013d2c99445aac690b23bca6df92": {
          "model_module": "@jupyter-widgets/controls",
          "model_name": "FloatProgressModel",
          "model_module_version": "1.5.0",
          "state": {
            "_dom_classes": [],
            "_model_module": "@jupyter-widgets/controls",
            "_model_module_version": "1.5.0",
            "_model_name": "FloatProgressModel",
            "_view_count": null,
            "_view_module": "@jupyter-widgets/controls",
            "_view_module_version": "1.5.0",
            "_view_name": "ProgressView",
            "bar_style": "success",
            "description": "",
            "description_tooltip": null,
            "layout": "IPY_MODEL_a437929410de4bcc9d69720cfad91419",
            "max": 93,
            "min": 0,
            "orientation": "horizontal",
            "style": "IPY_MODEL_32f6ae65a56843659f919f875c4bc12e",
            "value": 93
          }
        },
        "25f75d7d713a44ce878a892f16979894": {
          "model_module": "@jupyter-widgets/controls",
          "model_name": "HTMLModel",
          "model_module_version": "1.5.0",
          "state": {
            "_dom_classes": [],
            "_model_module": "@jupyter-widgets/controls",
            "_model_module_version": "1.5.0",
            "_model_name": "HTMLModel",
            "_view_count": null,
            "_view_module": "@jupyter-widgets/controls",
            "_view_module_version": "1.5.0",
            "_view_name": "HTMLView",
            "description": "",
            "description_tooltip": null,
            "layout": "IPY_MODEL_f29f30dfb6ae49b9841a01b4945520f6",
            "placeholder": "​",
            "style": "IPY_MODEL_0b371eeb1c8e452196c2b93b17e4db0d",
            "value": " 93/93 [01:50&lt;00:00,  1.06s/it]"
          }
        },
        "71ae59b458c64746890168480e649f38": {
          "model_module": "@jupyter-widgets/base",
          "model_name": "LayoutModel",
          "model_module_version": "1.2.0",
          "state": {
            "_model_module": "@jupyter-widgets/base",
            "_model_module_version": "1.2.0",
            "_model_name": "LayoutModel",
            "_view_count": null,
            "_view_module": "@jupyter-widgets/base",
            "_view_module_version": "1.2.0",
            "_view_name": "LayoutView",
            "align_content": null,
            "align_items": null,
            "align_self": null,
            "border": null,
            "bottom": null,
            "display": null,
            "flex": null,
            "flex_flow": null,
            "grid_area": null,
            "grid_auto_columns": null,
            "grid_auto_flow": null,
            "grid_auto_rows": null,
            "grid_column": null,
            "grid_gap": null,
            "grid_row": null,
            "grid_template_areas": null,
            "grid_template_columns": null,
            "grid_template_rows": null,
            "height": null,
            "justify_content": null,
            "justify_items": null,
            "left": null,
            "margin": null,
            "max_height": null,
            "max_width": null,
            "min_height": null,
            "min_width": null,
            "object_fit": null,
            "object_position": null,
            "order": null,
            "overflow": null,
            "overflow_x": null,
            "overflow_y": null,
            "padding": null,
            "right": null,
            "top": null,
            "visibility": null,
            "width": null
          }
        },
        "3179c498b31a4420bb58c1a92f70016b": {
          "model_module": "@jupyter-widgets/base",
          "model_name": "LayoutModel",
          "model_module_version": "1.2.0",
          "state": {
            "_model_module": "@jupyter-widgets/base",
            "_model_module_version": "1.2.0",
            "_model_name": "LayoutModel",
            "_view_count": null,
            "_view_module": "@jupyter-widgets/base",
            "_view_module_version": "1.2.0",
            "_view_name": "LayoutView",
            "align_content": null,
            "align_items": null,
            "align_self": null,
            "border": null,
            "bottom": null,
            "display": null,
            "flex": null,
            "flex_flow": null,
            "grid_area": null,
            "grid_auto_columns": null,
            "grid_auto_flow": null,
            "grid_auto_rows": null,
            "grid_column": null,
            "grid_gap": null,
            "grid_row": null,
            "grid_template_areas": null,
            "grid_template_columns": null,
            "grid_template_rows": null,
            "height": null,
            "justify_content": null,
            "justify_items": null,
            "left": null,
            "margin": null,
            "max_height": null,
            "max_width": null,
            "min_height": null,
            "min_width": null,
            "object_fit": null,
            "object_position": null,
            "order": null,
            "overflow": null,
            "overflow_x": null,
            "overflow_y": null,
            "padding": null,
            "right": null,
            "top": null,
            "visibility": null,
            "width": null
          }
        },
        "6e4356252254473cafc3a5c17ff0aa73": {
          "model_module": "@jupyter-widgets/controls",
          "model_name": "DescriptionStyleModel",
          "model_module_version": "1.5.0",
          "state": {
            "_model_module": "@jupyter-widgets/controls",
            "_model_module_version": "1.5.0",
            "_model_name": "DescriptionStyleModel",
            "_view_count": null,
            "_view_module": "@jupyter-widgets/base",
            "_view_module_version": "1.2.0",
            "_view_name": "StyleView",
            "description_width": ""
          }
        },
        "a437929410de4bcc9d69720cfad91419": {
          "model_module": "@jupyter-widgets/base",
          "model_name": "LayoutModel",
          "model_module_version": "1.2.0",
          "state": {
            "_model_module": "@jupyter-widgets/base",
            "_model_module_version": "1.2.0",
            "_model_name": "LayoutModel",
            "_view_count": null,
            "_view_module": "@jupyter-widgets/base",
            "_view_module_version": "1.2.0",
            "_view_name": "LayoutView",
            "align_content": null,
            "align_items": null,
            "align_self": null,
            "border": null,
            "bottom": null,
            "display": null,
            "flex": null,
            "flex_flow": null,
            "grid_area": null,
            "grid_auto_columns": null,
            "grid_auto_flow": null,
            "grid_auto_rows": null,
            "grid_column": null,
            "grid_gap": null,
            "grid_row": null,
            "grid_template_areas": null,
            "grid_template_columns": null,
            "grid_template_rows": null,
            "height": null,
            "justify_content": null,
            "justify_items": null,
            "left": null,
            "margin": null,
            "max_height": null,
            "max_width": null,
            "min_height": null,
            "min_width": null,
            "object_fit": null,
            "object_position": null,
            "order": null,
            "overflow": null,
            "overflow_x": null,
            "overflow_y": null,
            "padding": null,
            "right": null,
            "top": null,
            "visibility": null,
            "width": null
          }
        },
        "32f6ae65a56843659f919f875c4bc12e": {
          "model_module": "@jupyter-widgets/controls",
          "model_name": "ProgressStyleModel",
          "model_module_version": "1.5.0",
          "state": {
            "_model_module": "@jupyter-widgets/controls",
            "_model_module_version": "1.5.0",
            "_model_name": "ProgressStyleModel",
            "_view_count": null,
            "_view_module": "@jupyter-widgets/base",
            "_view_module_version": "1.2.0",
            "_view_name": "StyleView",
            "bar_color": null,
            "description_width": ""
          }
        },
        "f29f30dfb6ae49b9841a01b4945520f6": {
          "model_module": "@jupyter-widgets/base",
          "model_name": "LayoutModel",
          "model_module_version": "1.2.0",
          "state": {
            "_model_module": "@jupyter-widgets/base",
            "_model_module_version": "1.2.0",
            "_model_name": "LayoutModel",
            "_view_count": null,
            "_view_module": "@jupyter-widgets/base",
            "_view_module_version": "1.2.0",
            "_view_name": "LayoutView",
            "align_content": null,
            "align_items": null,
            "align_self": null,
            "border": null,
            "bottom": null,
            "display": null,
            "flex": null,
            "flex_flow": null,
            "grid_area": null,
            "grid_auto_columns": null,
            "grid_auto_flow": null,
            "grid_auto_rows": null,
            "grid_column": null,
            "grid_gap": null,
            "grid_row": null,
            "grid_template_areas": null,
            "grid_template_columns": null,
            "grid_template_rows": null,
            "height": null,
            "justify_content": null,
            "justify_items": null,
            "left": null,
            "margin": null,
            "max_height": null,
            "max_width": null,
            "min_height": null,
            "min_width": null,
            "object_fit": null,
            "object_position": null,
            "order": null,
            "overflow": null,
            "overflow_x": null,
            "overflow_y": null,
            "padding": null,
            "right": null,
            "top": null,
            "visibility": null,
            "width": null
          }
        },
        "0b371eeb1c8e452196c2b93b17e4db0d": {
          "model_module": "@jupyter-widgets/controls",
          "model_name": "DescriptionStyleModel",
          "model_module_version": "1.5.0",
          "state": {
            "_model_module": "@jupyter-widgets/controls",
            "_model_module_version": "1.5.0",
            "_model_name": "DescriptionStyleModel",
            "_view_count": null,
            "_view_module": "@jupyter-widgets/base",
            "_view_module_version": "1.2.0",
            "_view_name": "StyleView",
            "description_width": ""
          }
        },
        "c9d740f7b6d241f0adf48634afe63673": {
          "model_module": "@jupyter-widgets/controls",
          "model_name": "HBoxModel",
          "model_module_version": "1.5.0",
          "state": {
            "_dom_classes": [],
            "_model_module": "@jupyter-widgets/controls",
            "_model_module_version": "1.5.0",
            "_model_name": "HBoxModel",
            "_view_count": null,
            "_view_module": "@jupyter-widgets/controls",
            "_view_module_version": "1.5.0",
            "_view_name": "HBoxView",
            "box_style": "",
            "children": [
              "IPY_MODEL_8ee31a949b21462f84260e80536dbebf",
              "IPY_MODEL_07e0eb87ab4c44759b93318df5a063fa",
              "IPY_MODEL_2d61fec29b7f4dafaa85aa3553389a4d"
            ],
            "layout": "IPY_MODEL_c1c37d67f622468eb07f2aefb2a316c1"
          }
        },
        "8ee31a949b21462f84260e80536dbebf": {
          "model_module": "@jupyter-widgets/controls",
          "model_name": "HTMLModel",
          "model_module_version": "1.5.0",
          "state": {
            "_dom_classes": [],
            "_model_module": "@jupyter-widgets/controls",
            "_model_module_version": "1.5.0",
            "_model_name": "HTMLModel",
            "_view_count": null,
            "_view_module": "@jupyter-widgets/controls",
            "_view_module_version": "1.5.0",
            "_view_name": "HTMLView",
            "description": "",
            "description_tooltip": null,
            "layout": "IPY_MODEL_0a7dd6105fed48a49ef35fdca5af9595",
            "placeholder": "​",
            "style": "IPY_MODEL_dfedfb8fdd8e4ae4bd9dd596958de790",
            "value": "Parsing nodes: 100%"
          }
        },
        "07e0eb87ab4c44759b93318df5a063fa": {
          "model_module": "@jupyter-widgets/controls",
          "model_name": "FloatProgressModel",
          "model_module_version": "1.5.0",
          "state": {
            "_dom_classes": [],
            "_model_module": "@jupyter-widgets/controls",
            "_model_module_version": "1.5.0",
            "_model_name": "FloatProgressModel",
            "_view_count": null,
            "_view_module": "@jupyter-widgets/controls",
            "_view_module_version": "1.5.0",
            "_view_name": "ProgressView",
            "bar_style": "success",
            "description": "",
            "description_tooltip": null,
            "layout": "IPY_MODEL_ebc327ac430f45c9931255203e9c36af",
            "max": 1,
            "min": 0,
            "orientation": "horizontal",
            "style": "IPY_MODEL_92394ccab6fb42da8f02db93d42e5aa5",
            "value": 1
          }
        },
        "2d61fec29b7f4dafaa85aa3553389a4d": {
          "model_module": "@jupyter-widgets/controls",
          "model_name": "HTMLModel",
          "model_module_version": "1.5.0",
          "state": {
            "_dom_classes": [],
            "_model_module": "@jupyter-widgets/controls",
            "_model_module_version": "1.5.0",
            "_model_name": "HTMLModel",
            "_view_count": null,
            "_view_module": "@jupyter-widgets/controls",
            "_view_module_version": "1.5.0",
            "_view_name": "HTMLView",
            "description": "",
            "description_tooltip": null,
            "layout": "IPY_MODEL_a6e329e0034c48a484cb7fb36962974d",
            "placeholder": "​",
            "style": "IPY_MODEL_59d8f8045a66420db3372df3e595514a",
            "value": " 1/1 [00:00&lt;00:00,  2.32it/s]"
          }
        },
        "c1c37d67f622468eb07f2aefb2a316c1": {
          "model_module": "@jupyter-widgets/base",
          "model_name": "LayoutModel",
          "model_module_version": "1.2.0",
          "state": {
            "_model_module": "@jupyter-widgets/base",
            "_model_module_version": "1.2.0",
            "_model_name": "LayoutModel",
            "_view_count": null,
            "_view_module": "@jupyter-widgets/base",
            "_view_module_version": "1.2.0",
            "_view_name": "LayoutView",
            "align_content": null,
            "align_items": null,
            "align_self": null,
            "border": null,
            "bottom": null,
            "display": null,
            "flex": null,
            "flex_flow": null,
            "grid_area": null,
            "grid_auto_columns": null,
            "grid_auto_flow": null,
            "grid_auto_rows": null,
            "grid_column": null,
            "grid_gap": null,
            "grid_row": null,
            "grid_template_areas": null,
            "grid_template_columns": null,
            "grid_template_rows": null,
            "height": null,
            "justify_content": null,
            "justify_items": null,
            "left": null,
            "margin": null,
            "max_height": null,
            "max_width": null,
            "min_height": null,
            "min_width": null,
            "object_fit": null,
            "object_position": null,
            "order": null,
            "overflow": null,
            "overflow_x": null,
            "overflow_y": null,
            "padding": null,
            "right": null,
            "top": null,
            "visibility": null,
            "width": null
          }
        },
        "0a7dd6105fed48a49ef35fdca5af9595": {
          "model_module": "@jupyter-widgets/base",
          "model_name": "LayoutModel",
          "model_module_version": "1.2.0",
          "state": {
            "_model_module": "@jupyter-widgets/base",
            "_model_module_version": "1.2.0",
            "_model_name": "LayoutModel",
            "_view_count": null,
            "_view_module": "@jupyter-widgets/base",
            "_view_module_version": "1.2.0",
            "_view_name": "LayoutView",
            "align_content": null,
            "align_items": null,
            "align_self": null,
            "border": null,
            "bottom": null,
            "display": null,
            "flex": null,
            "flex_flow": null,
            "grid_area": null,
            "grid_auto_columns": null,
            "grid_auto_flow": null,
            "grid_auto_rows": null,
            "grid_column": null,
            "grid_gap": null,
            "grid_row": null,
            "grid_template_areas": null,
            "grid_template_columns": null,
            "grid_template_rows": null,
            "height": null,
            "justify_content": null,
            "justify_items": null,
            "left": null,
            "margin": null,
            "max_height": null,
            "max_width": null,
            "min_height": null,
            "min_width": null,
            "object_fit": null,
            "object_position": null,
            "order": null,
            "overflow": null,
            "overflow_x": null,
            "overflow_y": null,
            "padding": null,
            "right": null,
            "top": null,
            "visibility": null,
            "width": null
          }
        },
        "dfedfb8fdd8e4ae4bd9dd596958de790": {
          "model_module": "@jupyter-widgets/controls",
          "model_name": "DescriptionStyleModel",
          "model_module_version": "1.5.0",
          "state": {
            "_model_module": "@jupyter-widgets/controls",
            "_model_module_version": "1.5.0",
            "_model_name": "DescriptionStyleModel",
            "_view_count": null,
            "_view_module": "@jupyter-widgets/base",
            "_view_module_version": "1.2.0",
            "_view_name": "StyleView",
            "description_width": ""
          }
        },
        "ebc327ac430f45c9931255203e9c36af": {
          "model_module": "@jupyter-widgets/base",
          "model_name": "LayoutModel",
          "model_module_version": "1.2.0",
          "state": {
            "_model_module": "@jupyter-widgets/base",
            "_model_module_version": "1.2.0",
            "_model_name": "LayoutModel",
            "_view_count": null,
            "_view_module": "@jupyter-widgets/base",
            "_view_module_version": "1.2.0",
            "_view_name": "LayoutView",
            "align_content": null,
            "align_items": null,
            "align_self": null,
            "border": null,
            "bottom": null,
            "display": null,
            "flex": null,
            "flex_flow": null,
            "grid_area": null,
            "grid_auto_columns": null,
            "grid_auto_flow": null,
            "grid_auto_rows": null,
            "grid_column": null,
            "grid_gap": null,
            "grid_row": null,
            "grid_template_areas": null,
            "grid_template_columns": null,
            "grid_template_rows": null,
            "height": null,
            "justify_content": null,
            "justify_items": null,
            "left": null,
            "margin": null,
            "max_height": null,
            "max_width": null,
            "min_height": null,
            "min_width": null,
            "object_fit": null,
            "object_position": null,
            "order": null,
            "overflow": null,
            "overflow_x": null,
            "overflow_y": null,
            "padding": null,
            "right": null,
            "top": null,
            "visibility": null,
            "width": null
          }
        },
        "92394ccab6fb42da8f02db93d42e5aa5": {
          "model_module": "@jupyter-widgets/controls",
          "model_name": "ProgressStyleModel",
          "model_module_version": "1.5.0",
          "state": {
            "_model_module": "@jupyter-widgets/controls",
            "_model_module_version": "1.5.0",
            "_model_name": "ProgressStyleModel",
            "_view_count": null,
            "_view_module": "@jupyter-widgets/base",
            "_view_module_version": "1.2.0",
            "_view_name": "StyleView",
            "bar_color": null,
            "description_width": ""
          }
        },
        "a6e329e0034c48a484cb7fb36962974d": {
          "model_module": "@jupyter-widgets/base",
          "model_name": "LayoutModel",
          "model_module_version": "1.2.0",
          "state": {
            "_model_module": "@jupyter-widgets/base",
            "_model_module_version": "1.2.0",
            "_model_name": "LayoutModel",
            "_view_count": null,
            "_view_module": "@jupyter-widgets/base",
            "_view_module_version": "1.2.0",
            "_view_name": "LayoutView",
            "align_content": null,
            "align_items": null,
            "align_self": null,
            "border": null,
            "bottom": null,
            "display": null,
            "flex": null,
            "flex_flow": null,
            "grid_area": null,
            "grid_auto_columns": null,
            "grid_auto_flow": null,
            "grid_auto_rows": null,
            "grid_column": null,
            "grid_gap": null,
            "grid_row": null,
            "grid_template_areas": null,
            "grid_template_columns": null,
            "grid_template_rows": null,
            "height": null,
            "justify_content": null,
            "justify_items": null,
            "left": null,
            "margin": null,
            "max_height": null,
            "max_width": null,
            "min_height": null,
            "min_width": null,
            "object_fit": null,
            "object_position": null,
            "order": null,
            "overflow": null,
            "overflow_x": null,
            "overflow_y": null,
            "padding": null,
            "right": null,
            "top": null,
            "visibility": null,
            "width": null
          }
        },
        "59d8f8045a66420db3372df3e595514a": {
          "model_module": "@jupyter-widgets/controls",
          "model_name": "DescriptionStyleModel",
          "model_module_version": "1.5.0",
          "state": {
            "_model_module": "@jupyter-widgets/controls",
            "_model_module_version": "1.5.0",
            "_model_name": "DescriptionStyleModel",
            "_view_count": null,
            "_view_module": "@jupyter-widgets/base",
            "_view_module_version": "1.2.0",
            "_view_name": "StyleView",
            "description_width": ""
          }
        },
        "92302ce45c2c41b0acf26bab85e6096c": {
          "model_module": "@jupyter-widgets/controls",
          "model_name": "HBoxModel",
          "model_module_version": "1.5.0",
          "state": {
            "_dom_classes": [],
            "_model_module": "@jupyter-widgets/controls",
            "_model_module_version": "1.5.0",
            "_model_name": "HBoxModel",
            "_view_count": null,
            "_view_module": "@jupyter-widgets/controls",
            "_view_module_version": "1.5.0",
            "_view_name": "HBoxView",
            "box_style": "",
            "children": [
              "IPY_MODEL_06d2e93c38c14ee799d5f048f46132c0",
              "IPY_MODEL_9370c8a73449427cbd3c94421cde3055",
              "IPY_MODEL_4eccaa24f5e24aaa9c9ad701139ad16a"
            ],
            "layout": "IPY_MODEL_f903e5ec5c46435c80166daa9be8cc62"
          }
        },
        "06d2e93c38c14ee799d5f048f46132c0": {
          "model_module": "@jupyter-widgets/controls",
          "model_name": "HTMLModel",
          "model_module_version": "1.5.0",
          "state": {
            "_dom_classes": [],
            "_model_module": "@jupyter-widgets/controls",
            "_model_module_version": "1.5.0",
            "_model_name": "HTMLModel",
            "_view_count": null,
            "_view_module": "@jupyter-widgets/controls",
            "_view_module_version": "1.5.0",
            "_view_name": "HTMLView",
            "description": "",
            "description_tooltip": null,
            "layout": "IPY_MODEL_596b77765b694f0fa656225810c12db9",
            "placeholder": "​",
            "style": "IPY_MODEL_fb1a7e017f1b495895d40ad362d749cf",
            "value": "Generating embeddings: 100%"
          }
        },
        "9370c8a73449427cbd3c94421cde3055": {
          "model_module": "@jupyter-widgets/controls",
          "model_name": "FloatProgressModel",
          "model_module_version": "1.5.0",
          "state": {
            "_dom_classes": [],
            "_model_module": "@jupyter-widgets/controls",
            "_model_module_version": "1.5.0",
            "_model_name": "FloatProgressModel",
            "_view_count": null,
            "_view_module": "@jupyter-widgets/controls",
            "_view_module_version": "1.5.0",
            "_view_name": "ProgressView",
            "bar_style": "success",
            "description": "",
            "description_tooltip": null,
            "layout": "IPY_MODEL_8cc9740c51fd44ffb598d15368bc274b",
            "max": 93,
            "min": 0,
            "orientation": "horizontal",
            "style": "IPY_MODEL_f9b044efbd60405a9a8a40f6de99ed0d",
            "value": 93
          }
        },
        "4eccaa24f5e24aaa9c9ad701139ad16a": {
          "model_module": "@jupyter-widgets/controls",
          "model_name": "HTMLModel",
          "model_module_version": "1.5.0",
          "state": {
            "_dom_classes": [],
            "_model_module": "@jupyter-widgets/controls",
            "_model_module_version": "1.5.0",
            "_model_name": "HTMLModel",
            "_view_count": null,
            "_view_module": "@jupyter-widgets/controls",
            "_view_module_version": "1.5.0",
            "_view_name": "HTMLView",
            "description": "",
            "description_tooltip": null,
            "layout": "IPY_MODEL_41a2a5e15ebd4d59aecc40b52fd6f9b2",
            "placeholder": "​",
            "style": "IPY_MODEL_8820d3680240431880bfdc6c43cdd068",
            "value": " 93/93 [01:27&lt;00:00,  1.08it/s]"
          }
        },
        "f903e5ec5c46435c80166daa9be8cc62": {
          "model_module": "@jupyter-widgets/base",
          "model_name": "LayoutModel",
          "model_module_version": "1.2.0",
          "state": {
            "_model_module": "@jupyter-widgets/base",
            "_model_module_version": "1.2.0",
            "_model_name": "LayoutModel",
            "_view_count": null,
            "_view_module": "@jupyter-widgets/base",
            "_view_module_version": "1.2.0",
            "_view_name": "LayoutView",
            "align_content": null,
            "align_items": null,
            "align_self": null,
            "border": null,
            "bottom": null,
            "display": null,
            "flex": null,
            "flex_flow": null,
            "grid_area": null,
            "grid_auto_columns": null,
            "grid_auto_flow": null,
            "grid_auto_rows": null,
            "grid_column": null,
            "grid_gap": null,
            "grid_row": null,
            "grid_template_areas": null,
            "grid_template_columns": null,
            "grid_template_rows": null,
            "height": null,
            "justify_content": null,
            "justify_items": null,
            "left": null,
            "margin": null,
            "max_height": null,
            "max_width": null,
            "min_height": null,
            "min_width": null,
            "object_fit": null,
            "object_position": null,
            "order": null,
            "overflow": null,
            "overflow_x": null,
            "overflow_y": null,
            "padding": null,
            "right": null,
            "top": null,
            "visibility": null,
            "width": null
          }
        },
        "596b77765b694f0fa656225810c12db9": {
          "model_module": "@jupyter-widgets/base",
          "model_name": "LayoutModel",
          "model_module_version": "1.2.0",
          "state": {
            "_model_module": "@jupyter-widgets/base",
            "_model_module_version": "1.2.0",
            "_model_name": "LayoutModel",
            "_view_count": null,
            "_view_module": "@jupyter-widgets/base",
            "_view_module_version": "1.2.0",
            "_view_name": "LayoutView",
            "align_content": null,
            "align_items": null,
            "align_self": null,
            "border": null,
            "bottom": null,
            "display": null,
            "flex": null,
            "flex_flow": null,
            "grid_area": null,
            "grid_auto_columns": null,
            "grid_auto_flow": null,
            "grid_auto_rows": null,
            "grid_column": null,
            "grid_gap": null,
            "grid_row": null,
            "grid_template_areas": null,
            "grid_template_columns": null,
            "grid_template_rows": null,
            "height": null,
            "justify_content": null,
            "justify_items": null,
            "left": null,
            "margin": null,
            "max_height": null,
            "max_width": null,
            "min_height": null,
            "min_width": null,
            "object_fit": null,
            "object_position": null,
            "order": null,
            "overflow": null,
            "overflow_x": null,
            "overflow_y": null,
            "padding": null,
            "right": null,
            "top": null,
            "visibility": null,
            "width": null
          }
        },
        "fb1a7e017f1b495895d40ad362d749cf": {
          "model_module": "@jupyter-widgets/controls",
          "model_name": "DescriptionStyleModel",
          "model_module_version": "1.5.0",
          "state": {
            "_model_module": "@jupyter-widgets/controls",
            "_model_module_version": "1.5.0",
            "_model_name": "DescriptionStyleModel",
            "_view_count": null,
            "_view_module": "@jupyter-widgets/base",
            "_view_module_version": "1.2.0",
            "_view_name": "StyleView",
            "description_width": ""
          }
        },
        "8cc9740c51fd44ffb598d15368bc274b": {
          "model_module": "@jupyter-widgets/base",
          "model_name": "LayoutModel",
          "model_module_version": "1.2.0",
          "state": {
            "_model_module": "@jupyter-widgets/base",
            "_model_module_version": "1.2.0",
            "_model_name": "LayoutModel",
            "_view_count": null,
            "_view_module": "@jupyter-widgets/base",
            "_view_module_version": "1.2.0",
            "_view_name": "LayoutView",
            "align_content": null,
            "align_items": null,
            "align_self": null,
            "border": null,
            "bottom": null,
            "display": null,
            "flex": null,
            "flex_flow": null,
            "grid_area": null,
            "grid_auto_columns": null,
            "grid_auto_flow": null,
            "grid_auto_rows": null,
            "grid_column": null,
            "grid_gap": null,
            "grid_row": null,
            "grid_template_areas": null,
            "grid_template_columns": null,
            "grid_template_rows": null,
            "height": null,
            "justify_content": null,
            "justify_items": null,
            "left": null,
            "margin": null,
            "max_height": null,
            "max_width": null,
            "min_height": null,
            "min_width": null,
            "object_fit": null,
            "object_position": null,
            "order": null,
            "overflow": null,
            "overflow_x": null,
            "overflow_y": null,
            "padding": null,
            "right": null,
            "top": null,
            "visibility": null,
            "width": null
          }
        },
        "f9b044efbd60405a9a8a40f6de99ed0d": {
          "model_module": "@jupyter-widgets/controls",
          "model_name": "ProgressStyleModel",
          "model_module_version": "1.5.0",
          "state": {
            "_model_module": "@jupyter-widgets/controls",
            "_model_module_version": "1.5.0",
            "_model_name": "ProgressStyleModel",
            "_view_count": null,
            "_view_module": "@jupyter-widgets/base",
            "_view_module_version": "1.2.0",
            "_view_name": "StyleView",
            "bar_color": null,
            "description_width": ""
          }
        },
        "41a2a5e15ebd4d59aecc40b52fd6f9b2": {
          "model_module": "@jupyter-widgets/base",
          "model_name": "LayoutModel",
          "model_module_version": "1.2.0",
          "state": {
            "_model_module": "@jupyter-widgets/base",
            "_model_module_version": "1.2.0",
            "_model_name": "LayoutModel",
            "_view_count": null,
            "_view_module": "@jupyter-widgets/base",
            "_view_module_version": "1.2.0",
            "_view_name": "LayoutView",
            "align_content": null,
            "align_items": null,
            "align_self": null,
            "border": null,
            "bottom": null,
            "display": null,
            "flex": null,
            "flex_flow": null,
            "grid_area": null,
            "grid_auto_columns": null,
            "grid_auto_flow": null,
            "grid_auto_rows": null,
            "grid_column": null,
            "grid_gap": null,
            "grid_row": null,
            "grid_template_areas": null,
            "grid_template_columns": null,
            "grid_template_rows": null,
            "height": null,
            "justify_content": null,
            "justify_items": null,
            "left": null,
            "margin": null,
            "max_height": null,
            "max_width": null,
            "min_height": null,
            "min_width": null,
            "object_fit": null,
            "object_position": null,
            "order": null,
            "overflow": null,
            "overflow_x": null,
            "overflow_y": null,
            "padding": null,
            "right": null,
            "top": null,
            "visibility": null,
            "width": null
          }
        },
        "8820d3680240431880bfdc6c43cdd068": {
          "model_module": "@jupyter-widgets/controls",
          "model_name": "DescriptionStyleModel",
          "model_module_version": "1.5.0",
          "state": {
            "_model_module": "@jupyter-widgets/controls",
            "_model_module_version": "1.5.0",
            "_model_name": "DescriptionStyleModel",
            "_view_count": null,
            "_view_module": "@jupyter-widgets/base",
            "_view_module_version": "1.2.0",
            "_view_name": "StyleView",
            "description_width": ""
          }
        }
      }
    }
  },
  "nbformat": 4,
  "nbformat_minor": 0
}